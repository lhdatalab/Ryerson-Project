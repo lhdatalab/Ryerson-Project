{
 "cells": [
  {
   "cell_type": "code",
   "execution_count": 1,
   "metadata": {},
   "outputs": [
    {
     "name": "stderr",
     "output_type": "stream",
     "text": [
      "Loading required package: gsubfn\n",
      "Loading required package: proto\n",
      "Loading required package: RSQLite\n",
      "\n",
      "Attaching package: 'dplyr'\n",
      "\n",
      "The following object is masked from 'package:gridExtra':\n",
      "\n",
      "    combine\n",
      "\n",
      "The following objects are masked from 'package:stats':\n",
      "\n",
      "    filter, lag\n",
      "\n",
      "The following objects are masked from 'package:base':\n",
      "\n",
      "    intersect, setdiff, setequal, union\n",
      "\n",
      "\n",
      "Attaching package: 'lubridate'\n",
      "\n",
      "The following object is masked from 'package:base':\n",
      "\n",
      "    date\n",
      "\n",
      "\n",
      "Attaching package: 'GGally'\n",
      "\n",
      "The following object is masked from 'package:dplyr':\n",
      "\n",
      "    nasa\n",
      "\n",
      "Loading required package: lattice\n",
      "Loading required package: MASS\n",
      "\n",
      "Attaching package: 'MASS'\n",
      "\n",
      "The following object is masked from 'package:dplyr':\n",
      "\n",
      "    select\n",
      "\n",
      "\n",
      "Attaching package: 'memisc'\n",
      "\n",
      "The following object is masked from 'package:scales':\n",
      "\n",
      "    percent\n",
      "\n",
      "The following object is masked from 'package:lubridate':\n",
      "\n",
      "    is.interval\n",
      "\n",
      "The following objects are masked from 'package:dplyr':\n",
      "\n",
      "    collect, recode, rename, syms\n",
      "\n",
      "The following object is masked from 'package:ggplot2':\n",
      "\n",
      "    syms\n",
      "\n",
      "The following objects are masked from 'package:stats':\n",
      "\n",
      "    contr.sum, contr.treatment, contrasts\n",
      "\n",
      "The following object is masked from 'package:base':\n",
      "\n",
      "    as.array\n",
      "\n",
      "rgeos version: 0.3-28, (SVN revision 572)\n",
      " GEOS runtime version: 3.6.1-CAPI-1.10.1 r0 \n",
      " Linking to sp version: 1.3-1 \n",
      " Polygon checking: TRUE \n",
      "\n",
      "rgdal: version: 1.3-4, (SVN revision 766)\n",
      " Geospatial Data Abstraction Library extensions to R successfully loaded\n",
      " Loaded GDAL runtime: GDAL 2.2.3, released 2017/11/20\n",
      " Path to GDAL shared files: C:/MathLabASUS/SW/DM/Anaconda2/envs/rconda/Lib/R/library/rgdal/gdal\n",
      " GDAL binary built with GEOS: TRUE \n",
      " Loaded PROJ.4 runtime: Rel. 4.9.3, 15 August 2016, [PJ_VERSION: 493]\n",
      " Path to PROJ.4 shared files: C:/MathLabASUS/SW/DM/Anaconda2/envs/rconda/Lib/R/library/rgdal/proj\n",
      " Linking to sp version: 1.3-1 \n",
      "Checking rgeos availability: TRUE\n",
      "\n",
      "Attaching package: 'cluster'\n",
      "\n",
      "The following object is masked from 'package:maps':\n",
      "\n",
      "    votes.repub\n",
      "\n",
      "Loading required package: proxy\n",
      "\n",
      "Attaching package: 'proxy'\n",
      "\n",
      "The following objects are masked from 'package:stats':\n",
      "\n",
      "    as.dist, dist\n",
      "\n",
      "The following object is masked from 'package:base':\n",
      "\n",
      "    as.matrix\n",
      "\n",
      "Loading required package: clue\n",
      "Warning message:\n",
      "\"package 'clue' was built under R version 3.5.2\"Loading required package: survey\n",
      "Loading required package: Matrix\n",
      "\n",
      "Attaching package: 'Matrix'\n",
      "\n",
      "The following object is masked from 'package:tidyr':\n",
      "\n",
      "    expand\n",
      "\n",
      "Loading required package: survival\n",
      "\n",
      "Attaching package: 'survey'\n",
      "\n",
      "The following object is masked from 'package:graphics':\n",
      "\n",
      "    dotchart\n",
      "\n",
      "Loading required package: RANN\n",
      "Loading required package: lpSolve\n",
      "\n",
      "Attaching package: 'fastcluster'\n",
      "\n",
      "The following object is masked from 'package:stats':\n",
      "\n",
      "    hclust\n",
      "\n",
      "Welcome! Related Books: `Practical Guide To Cluster Analysis in R` at https://goo.gl/13EFCZ\n",
      "Creating a generic function for 'toJSON' from package 'jsonlite' in package 'googleVis'\n",
      "\n",
      "Welcome to googleVis version 0.6.2\n",
      "\n",
      "Please read Google's Terms of Use\n",
      "before you start using the package:\n",
      "https://developers.google.com/terms/\n",
      "\n",
      "Note, the plot method of googleVis will by default use\n",
      "the standard browser to display its output.\n",
      "\n",
      "See the googleVis package vignettes for more details,\n",
      "or visit http://github.com/mages/googleVis.\n",
      "\n",
      "To suppress this message use:\n",
      "suppressPackageStartupMessages(library(googleVis))\n",
      "\n",
      "Loading required package: DBI\n",
      "\n",
      "Attaching package: 'RMySQL'\n",
      "\n",
      "The following object is masked from 'package:RSQLite':\n",
      "\n",
      "    isIdCurrent\n",
      "\n",
      "\n",
      "Attaching package: 'data.table'\n",
      "\n",
      "The following objects are masked from 'package:lubridate':\n",
      "\n",
      "    hour, isoweek, mday, minute, month, quarter, second, wday, week,\n",
      "    yday, year\n",
      "\n",
      "The following objects are masked from 'package:dplyr':\n",
      "\n",
      "    between, first, last\n",
      "\n",
      "\n",
      "Attaching package: 'dbplyr'\n",
      "\n",
      "The following objects are masked from 'package:dplyr':\n",
      "\n",
      "    ident, sql\n",
      "\n",
      "\n",
      "Attaching package: 'httr'\n",
      "\n",
      "The following object is masked from 'package:memisc':\n",
      "\n",
      "    content\n",
      "\n",
      "\n",
      "Attaching package: 'cowplot'\n",
      "\n",
      "The following object is masked from 'package:ggplot2':\n",
      "\n",
      "    ggsave\n",
      "\n"
     ]
    }
   ],
   "source": [
    "library(knitr)\n",
    "library(sqldf)\n",
    "library(ggplot2)\n",
    "library(mongolite)\n",
    "library(ggplot2)\n",
    "library(gridExtra)\n",
    "library(dplyr)\n",
    "library(tidyr)\n",
    "library(jsonlite)\n",
    "library(lubridate)\n",
    "library(gridExtra)\n",
    "library(GGally)\n",
    "library(scales)\n",
    "library(memisc)\n",
    " library(sp)\n",
    "library(rgeos)\n",
    "library(rgdal)\n",
    "library(maptools)\n",
    "library(RColorBrewer)\n",
    "library(maps)\n",
    "library(grid)\n",
    "library(cluster)\n",
    "library(StatMatch)\n",
    "library(fastcluster)\n",
    "library(factoextra)\n",
    "library(stringr)\n",
    "library(googleVis)\n",
    "library(RMySQL)\n",
    "library(data.table)\n",
    "library(dbplyr)\n",
    "library(DBI)\n",
    "library(httr)\n",
    "library(ldatuning)\n",
    "library(udpipe)\n",
    "library(egg)\n",
    "library(cowplot)"
   ]
  },
  {
   "cell_type": "code",
   "execution_count": 14,
   "metadata": {},
   "outputs": [],
   "source": [
    "plot.format <- theme(axis.text = element_text(size = 12), legend.text = element_text(size = 12), legend.title = element_text(size = 12), axis.title = element_text(size = 14), plot.title = element_text(size = 14))"
   ]
  },
  {
   "cell_type": "markdown",
   "metadata": {},
   "source": [
    "ferg_cols <- read.csv(\"C:\\\\MathLabASUS\\\\Courses\\\\Ryerson\\\\Project\\\\Data\\\\Topics\\\\corpus_text.csv\", stringsAsFactors = FALSE)"
   ]
  },
  {
   "cell_type": "code",
   "execution_count": 3,
   "metadata": {},
   "outputs": [],
   "source": [
    "ferg_cols_loc <- fread(file=\"../Preprocessing/Files/Source/ferg_cols_location.csv\", sep =\",\", header = TRUE, \n",
    "              stringsAsFactors=FALSE,\n",
    "             showProgress=getOption(\"datatable.showProgress\", interactive()), data.table=FALSE)"
   ]
  },
  {
   "cell_type": "code",
   "execution_count": null,
   "metadata": {},
   "outputs": [],
   "source": [
    "str(ferg_cols_loc)"
   ]
  },
  {
   "cell_type": "code",
   "execution_count": 4,
   "metadata": {
    "scrolled": true
   },
   "outputs": [],
   "source": [
    "#create_udp_model <- udpipe_download_model(language = \"english\", \n",
    "                                       #   model_dir = \"/Project/Preprocessing/Files/Lexicon/\")\n",
    "create_udp_model <- udpipe_load_model(\"../Preprocessing/Files/Lexicon/english-ud-2.0-170801.udpipe\")"
   ]
  },
  {
   "cell_type": "code",
   "execution_count": null,
   "metadata": {},
   "outputs": [],
   "source": [
    "docs.udp <- udpipe_annotate(create_udp_model, x = ferg_cols_loc$full_text)"
   ]
  },
  {
   "cell_type": "code",
   "execution_count": 9,
   "metadata": {},
   "outputs": [],
   "source": [
    "docs.udp <- as.data.frame(docs.udp)"
   ]
  },
  {
   "cell_type": "markdown",
   "metadata": {},
   "source": [
    "write.csv(docs.udp, \"C:\\\\MathLabASUS\\\\Courses\\\\Ryerson\\\\Project\\\\Data\\\\Topics\\\\docs_udp.csv\")"
   ]
  },
  {
   "cell_type": "code",
   "execution_count": 4,
   "metadata": {},
   "outputs": [],
   "source": [
    "docs.udp <- read.csv(\"../Preprocessing/Files/Lexicon/docs_udp.csv\", stringsAsFactors = FALSE)"
   ]
  },
  {
   "cell_type": "code",
   "execution_count": 4,
   "metadata": {
    "collapsed": true
   },
   "outputs": [
    {
     "data": {
      "text/html": [
       "<table>\n",
       "<thead><tr><th scope=col>X</th><th scope=col>doc_id</th><th scope=col>paragraph_id</th><th scope=col>sentence_id</th><th scope=col>sentence</th><th scope=col>token_id</th><th scope=col>token</th><th scope=col>lemma</th><th scope=col>upos</th><th scope=col>xpos</th><th scope=col>feats</th><th scope=col>head_token_id</th><th scope=col>dep_rel</th><th scope=col>deps</th><th scope=col>misc</th></tr></thead>\n",
       "<tbody>\n",
       "\t<tr><td>1                                                                           </td><td>doc1                                                                        </td><td>1                                                                           </td><td>1                                                                           </td><td>black teenage boys men children stop referring year old man killing children</td><td>1                                                                           </td><td>black                                                                       </td><td>black                                                                       </td><td>ADJ                                                                         </td><td>JJ                                                                          </td><td>Degree=Pos                                                                  </td><td>3                                                                           </td><td>amod                                                                        </td><td>NA                                                                          </td><td>NA                                                                          </td></tr>\n",
       "\t<tr><td>2                                                                           </td><td>doc1                                                                        </td><td>1                                                                           </td><td>1                                                                           </td><td>black teenage boys men children stop referring year old man killing children</td><td>2                                                                           </td><td>teenage                                                                     </td><td>teenage                                                                     </td><td>ADJ                                                                         </td><td>JJ                                                                          </td><td>Degree=Pos                                                                  </td><td>3                                                                           </td><td>amod                                                                        </td><td>NA                                                                          </td><td>NA                                                                          </td></tr>\n",
       "\t<tr><td>3                                                                           </td><td>doc1                                                                        </td><td>1                                                                           </td><td>1                                                                           </td><td>black teenage boys men children stop referring year old man killing children</td><td>3                                                                           </td><td>boys                                                                        </td><td>boy                                                                         </td><td>NOUN                                                                        </td><td>NNS                                                                         </td><td>Number=Plur                                                                 </td><td>4                                                                           </td><td>compound                                                                    </td><td>NA                                                                          </td><td>NA                                                                          </td></tr>\n",
       "\t<tr><td>4                                                                           </td><td>doc1                                                                        </td><td>1                                                                           </td><td>1                                                                           </td><td>black teenage boys men children stop referring year old man killing children</td><td>4                                                                           </td><td>men                                                                         </td><td>man                                                                         </td><td>NOUN                                                                        </td><td>NNS                                                                         </td><td>Number=Plur                                                                 </td><td>6                                                                           </td><td>nsubj                                                                       </td><td>NA                                                                          </td><td>NA                                                                          </td></tr>\n",
       "\t<tr><td>5                                                                           </td><td>doc1                                                                        </td><td>1                                                                           </td><td>1                                                                           </td><td>black teenage boys men children stop referring year old man killing children</td><td>5                                                                           </td><td>children                                                                    </td><td>child                                                                       </td><td>NOUN                                                                        </td><td>NNS                                                                         </td><td>Number=Plur                                                                 </td><td>4                                                                           </td><td>nmod                                                                        </td><td>NA                                                                          </td><td>NA                                                                          </td></tr>\n",
       "\t<tr><td>6                                                                           </td><td>doc1                                                                        </td><td>1                                                                           </td><td>1                                                                           </td><td>black teenage boys men children stop referring year old man killing children</td><td>6                                                                           </td><td>stop                                                                        </td><td>stop                                                                        </td><td>VERB                                                                        </td><td>VBP                                                                         </td><td>Mood=Ind|Tense=Pres|VerbForm=Fin                                            </td><td>0                                                                           </td><td>root                                                                        </td><td>NA                                                                          </td><td>NA                                                                          </td></tr>\n",
       "</tbody>\n",
       "</table>\n"
      ],
      "text/latex": [
       "\\begin{tabular}{r|lllllllllllllll}\n",
       " X & doc\\_id & paragraph\\_id & sentence\\_id & sentence & token\\_id & token & lemma & upos & xpos & feats & head\\_token\\_id & dep\\_rel & deps & misc\\\\\n",
       "\\hline\n",
       "\t 1                                                                            & doc1                                                                         & 1                                                                            & 1                                                                            & black teenage boys men children stop referring year old man killing children & 1                                                                            & black                                                                        & black                                                                        & ADJ                                                                          & JJ                                                                           & Degree=Pos                                                                   & 3                                                                            & amod                                                                         & NA                                                                           & NA                                                                          \\\\\n",
       "\t 2                                                                            & doc1                                                                         & 1                                                                            & 1                                                                            & black teenage boys men children stop referring year old man killing children & 2                                                                            & teenage                                                                      & teenage                                                                      & ADJ                                                                          & JJ                                                                           & Degree=Pos                                                                   & 3                                                                            & amod                                                                         & NA                                                                           & NA                                                                          \\\\\n",
       "\t 3                                                                            & doc1                                                                         & 1                                                                            & 1                                                                            & black teenage boys men children stop referring year old man killing children & 3                                                                            & boys                                                                         & boy                                                                          & NOUN                                                                         & NNS                                                                          & Number=Plur                                                                  & 4                                                                            & compound                                                                     & NA                                                                           & NA                                                                          \\\\\n",
       "\t 4                                                                            & doc1                                                                         & 1                                                                            & 1                                                                            & black teenage boys men children stop referring year old man killing children & 4                                                                            & men                                                                          & man                                                                          & NOUN                                                                         & NNS                                                                          & Number=Plur                                                                  & 6                                                                            & nsubj                                                                        & NA                                                                           & NA                                                                          \\\\\n",
       "\t 5                                                                            & doc1                                                                         & 1                                                                            & 1                                                                            & black teenage boys men children stop referring year old man killing children & 5                                                                            & children                                                                     & child                                                                        & NOUN                                                                         & NNS                                                                          & Number=Plur                                                                  & 4                                                                            & nmod                                                                         & NA                                                                           & NA                                                                          \\\\\n",
       "\t 6                                                                            & doc1                                                                         & 1                                                                            & 1                                                                            & black teenage boys men children stop referring year old man killing children & 6                                                                            & stop                                                                         & stop                                                                         & VERB                                                                         & VBP                                                                          & Mood=Ind\\textbar{}Tense=Pres\\textbar{}VerbForm=Fin                         & 0                                                                            & root                                                                         & NA                                                                           & NA                                                                          \\\\\n",
       "\\end{tabular}\n"
      ],
      "text/markdown": [
       "\n",
       "X | doc_id | paragraph_id | sentence_id | sentence | token_id | token | lemma | upos | xpos | feats | head_token_id | dep_rel | deps | misc | \n",
       "|---|---|---|---|---|---|\n",
       "| 1                                                                            | doc1                                                                         | 1                                                                            | 1                                                                            | black teenage boys men children stop referring year old man killing children | 1                                                                            | black                                                                        | black                                                                        | ADJ                                                                          | JJ                                                                           | Degree=Pos                                                                   | 3                                                                            | amod                                                                         | NA                                                                           | NA                                                                           | \n",
       "| 2                                                                            | doc1                                                                         | 1                                                                            | 1                                                                            | black teenage boys men children stop referring year old man killing children | 2                                                                            | teenage                                                                      | teenage                                                                      | ADJ                                                                          | JJ                                                                           | Degree=Pos                                                                   | 3                                                                            | amod                                                                         | NA                                                                           | NA                                                                           | \n",
       "| 3                                                                            | doc1                                                                         | 1                                                                            | 1                                                                            | black teenage boys men children stop referring year old man killing children | 3                                                                            | boys                                                                         | boy                                                                          | NOUN                                                                         | NNS                                                                          | Number=Plur                                                                  | 4                                                                            | compound                                                                     | NA                                                                           | NA                                                                           | \n",
       "| 4                                                                            | doc1                                                                         | 1                                                                            | 1                                                                            | black teenage boys men children stop referring year old man killing children | 4                                                                            | men                                                                          | man                                                                          | NOUN                                                                         | NNS                                                                          | Number=Plur                                                                  | 6                                                                            | nsubj                                                                        | NA                                                                           | NA                                                                           | \n",
       "| 5                                                                            | doc1                                                                         | 1                                                                            | 1                                                                            | black teenage boys men children stop referring year old man killing children | 5                                                                            | children                                                                     | child                                                                        | NOUN                                                                         | NNS                                                                          | Number=Plur                                                                  | 4                                                                            | nmod                                                                         | NA                                                                           | NA                                                                           | \n",
       "| 6                                                                            | doc1                                                                         | 1                                                                            | 1                                                                            | black teenage boys men children stop referring year old man killing children | 6                                                                            | stop                                                                         | stop                                                                         | VERB                                                                         | VBP                                                                          | Mood=Ind|Tense=Pres|VerbForm=Fin                                             | 0                                                                            | root                                                                         | NA                                                                           | NA                                                                           | \n",
       "\n",
       "\n"
      ],
      "text/plain": [
       "  X doc_id paragraph_id sentence_id\n",
       "1 1 doc1   1            1          \n",
       "2 2 doc1   1            1          \n",
       "3 3 doc1   1            1          \n",
       "4 4 doc1   1            1          \n",
       "5 5 doc1   1            1          \n",
       "6 6 doc1   1            1          \n",
       "  sentence                                                                    \n",
       "1 black teenage boys men children stop referring year old man killing children\n",
       "2 black teenage boys men children stop referring year old man killing children\n",
       "3 black teenage boys men children stop referring year old man killing children\n",
       "4 black teenage boys men children stop referring year old man killing children\n",
       "5 black teenage boys men children stop referring year old man killing children\n",
       "6 black teenage boys men children stop referring year old man killing children\n",
       "  token_id token    lemma   upos xpos feats                           \n",
       "1 1        black    black   ADJ  JJ   Degree=Pos                      \n",
       "2 2        teenage  teenage ADJ  JJ   Degree=Pos                      \n",
       "3 3        boys     boy     NOUN NNS  Number=Plur                     \n",
       "4 4        men      man     NOUN NNS  Number=Plur                     \n",
       "5 5        children child   NOUN NNS  Number=Plur                     \n",
       "6 6        stop     stop    VERB VBP  Mood=Ind|Tense=Pres|VerbForm=Fin\n",
       "  head_token_id dep_rel  deps misc\n",
       "1 3             amod     NA   NA  \n",
       "2 3             amod     NA   NA  \n",
       "3 4             compound NA   NA  \n",
       "4 6             nsubj    NA   NA  \n",
       "5 4             nmod     NA   NA  \n",
       "6 0             root     NA   NA  "
      ]
     },
     "metadata": {},
     "output_type": "display_data"
    }
   ],
   "source": [
    "head(docs.udp)"
   ]
  },
  {
   "cell_type": "code",
   "execution_count": 8,
   "metadata": {
    "scrolled": true
   },
   "outputs": [
    {
     "data": {
      "text/html": [
       "<table>\n",
       "<thead><tr><th scope=col>X</th><th scope=col>doc_id</th><th scope=col>paragraph_id</th><th scope=col>sentence_id</th><th scope=col>sentence</th><th scope=col>token_id</th><th scope=col>token</th><th scope=col>lemma</th><th scope=col>upos</th><th scope=col>xpos</th><th scope=col>feats</th><th scope=col>head_token_id</th><th scope=col>dep_rel</th><th scope=col>deps</th><th scope=col>misc</th></tr></thead>\n",
       "<tbody>\n",
       "</tbody>\n",
       "</table>\n"
      ],
      "text/latex": [
       "\\begin{tabular}{r|lllllllllllllll}\n",
       " X & doc\\_id & paragraph\\_id & sentence\\_id & sentence & token\\_id & token & lemma & upos & xpos & feats & head\\_token\\_id & dep\\_rel & deps & misc\\\\\n",
       "\\hline\n",
       "\\end{tabular}\n"
      ],
      "text/markdown": [
       "\n",
       "X | doc_id | paragraph_id | sentence_id | sentence | token_id | token | lemma | upos | xpos | feats | head_token_id | dep_rel | deps | misc | \n",
       "||\n",
       "\n",
       "\n"
      ],
      "text/plain": [
       "     X doc_id paragraph_id sentence_id sentence token_id token lemma upos xpos\n",
       "     feats head_token_id dep_rel deps misc"
      ]
     },
     "metadata": {},
     "output_type": "display_data"
    }
   ],
   "source": [
    "head(subset(docs.udp, is.na(upos)))"
   ]
  },
  {
   "cell_type": "markdown",
   "metadata": {},
   "source": [
    "##### Get unique text"
   ]
  },
  {
   "cell_type": "code",
   "execution_count": 3,
   "metadata": {
    "collapsed": true
   },
   "outputs": [
    {
     "ename": "ERROR",
     "evalue": "Error in sub(re, \"\", x, perl = TRUE): object 'corpus.text' not found\n",
     "output_type": "error",
     "traceback": [
      "Error in sub(re, \"\", x, perl = TRUE): object 'corpus.text' not found\nTraceback:\n",
      "1. data.frame(text = trimws(corpus.text$text, \"both\"))",
      "2. trimws(corpus.text$text, \"both\")",
      "3. mysub(\"[ \\t\\r\\n]+$\", mysub(\"^[ \\t\\r\\n]+\", x))",
      "4. sub(re, \"\", x, perl = TRUE)",
      "5. mysub(\"^[ \\t\\r\\n]+\", x)",
      "6. sub(re, \"\", x, perl = TRUE)"
     ]
    }
   ],
   "source": [
    "corpus.text.unq <- data.frame(text = trimws(corpus.text$text, \"both\"))"
   ]
  },
  {
   "cell_type": "code",
   "execution_count": 20,
   "metadata": {},
   "outputs": [],
   "source": [
    "corpus.text.unq$text <- as.character(corpus.text.unq)"
   ]
  },
  {
   "cell_type": "code",
   "execution_count": null,
   "metadata": {},
   "outputs": [],
   "source": [
    "corpus.text.unq$text <- gsub(\"rt\", \"\", corpus.text.unq$text)"
   ]
  },
  {
   "cell_type": "code",
   "execution_count": null,
   "metadata": {},
   "outputs": [],
   "source": [
    "corpus.text.unq$text <- unique(corpus.text.unq$text)"
   ]
  },
  {
   "cell_type": "code",
   "execution_count": 18,
   "metadata": {},
   "outputs": [
    {
     "name": "stdout",
     "output_type": "stream",
     "text": [
      "'data.frame':\t438622 obs. of  1 variable:\n",
      " $ text: chr  \"black teenage boys men children stop referring year old man killing children\" \" please tune today killing young black male \" \"well go \" \"sick tired police killing unarmed people\" ...\n"
     ]
    }
   ],
   "source": [
    "str((corpus.text.unq))"
   ]
  },
  {
   "cell_type": "markdown",
   "metadata": {},
   "source": [
    "docs.udp.unq <- udpipe_annotate(create_udp_model, x = corpus.text.unq$text)\n",
    "docs.udp.unq <- as.data.frame(docs.udp.unq)"
   ]
  },
  {
   "cell_type": "markdown",
   "metadata": {},
   "source": [
    "docs.text.dtm <- cast_dtm(docs.text, \"document\", \"term\", \"count\", tm::weightTf)"
   ]
  },
  {
   "cell_type": "markdown",
   "metadata": {},
   "source": [
    "##### Look at docs.upd"
   ]
  },
  {
   "cell_type": "code",
   "execution_count": 8,
   "metadata": {
    "collapsed": true
   },
   "outputs": [
    {
     "data": {
      "text/html": [
       "<table>\n",
       "<thead><tr><th scope=col>X</th><th scope=col>doc_id</th><th scope=col>paragraph_id</th><th scope=col>sentence_id</th><th scope=col>sentence</th><th scope=col>token_id</th><th scope=col>token</th><th scope=col>lemma</th><th scope=col>upos</th><th scope=col>xpos</th><th scope=col>feats</th><th scope=col>head_token_id</th><th scope=col>dep_rel</th><th scope=col>deps</th><th scope=col>misc</th></tr></thead>\n",
       "<tbody>\n",
       "\t<tr><td>1                                                                           </td><td>doc1                                                                        </td><td>1                                                                           </td><td>1                                                                           </td><td>black teenage boys men children stop referring year old man killing children</td><td>1                                                                           </td><td>black                                                                       </td><td>black                                                                       </td><td>ADJ                                                                         </td><td>JJ                                                                          </td><td>Degree=Pos                                                                  </td><td>3                                                                           </td><td>amod                                                                        </td><td>NA                                                                          </td><td>NA                                                                          </td></tr>\n",
       "\t<tr><td>2                                                                           </td><td>doc1                                                                        </td><td>1                                                                           </td><td>1                                                                           </td><td>black teenage boys men children stop referring year old man killing children</td><td>2                                                                           </td><td>teenage                                                                     </td><td>teenage                                                                     </td><td>ADJ                                                                         </td><td>JJ                                                                          </td><td>Degree=Pos                                                                  </td><td>3                                                                           </td><td>amod                                                                        </td><td>NA                                                                          </td><td>NA                                                                          </td></tr>\n",
       "\t<tr><td>3                                                                           </td><td>doc1                                                                        </td><td>1                                                                           </td><td>1                                                                           </td><td>black teenage boys men children stop referring year old man killing children</td><td>3                                                                           </td><td>boys                                                                        </td><td>boy                                                                         </td><td>NOUN                                                                        </td><td>NNS                                                                         </td><td>Number=Plur                                                                 </td><td>4                                                                           </td><td>compound                                                                    </td><td>NA                                                                          </td><td>NA                                                                          </td></tr>\n",
       "\t<tr><td>4                                                                           </td><td>doc1                                                                        </td><td>1                                                                           </td><td>1                                                                           </td><td>black teenage boys men children stop referring year old man killing children</td><td>4                                                                           </td><td>men                                                                         </td><td>man                                                                         </td><td>NOUN                                                                        </td><td>NNS                                                                         </td><td>Number=Plur                                                                 </td><td>6                                                                           </td><td>nsubj                                                                       </td><td>NA                                                                          </td><td>NA                                                                          </td></tr>\n",
       "\t<tr><td>5                                                                           </td><td>doc1                                                                        </td><td>1                                                                           </td><td>1                                                                           </td><td>black teenage boys men children stop referring year old man killing children</td><td>5                                                                           </td><td>children                                                                    </td><td>child                                                                       </td><td>NOUN                                                                        </td><td>NNS                                                                         </td><td>Number=Plur                                                                 </td><td>4                                                                           </td><td>nmod                                                                        </td><td>NA                                                                          </td><td>NA                                                                          </td></tr>\n",
       "\t<tr><td>6                                                                           </td><td>doc1                                                                        </td><td>1                                                                           </td><td>1                                                                           </td><td>black teenage boys men children stop referring year old man killing children</td><td>6                                                                           </td><td>stop                                                                        </td><td>stop                                                                        </td><td>VERB                                                                        </td><td>VBP                                                                         </td><td>Mood=Ind|Tense=Pres|VerbForm=Fin                                            </td><td>0                                                                           </td><td>root                                                                        </td><td>NA                                                                          </td><td>NA                                                                          </td></tr>\n",
       "</tbody>\n",
       "</table>\n"
      ],
      "text/latex": [
       "\\begin{tabular}{r|lllllllllllllll}\n",
       " X & doc\\_id & paragraph\\_id & sentence\\_id & sentence & token\\_id & token & lemma & upos & xpos & feats & head\\_token\\_id & dep\\_rel & deps & misc\\\\\n",
       "\\hline\n",
       "\t 1                                                                            & doc1                                                                         & 1                                                                            & 1                                                                            & black teenage boys men children stop referring year old man killing children & 1                                                                            & black                                                                        & black                                                                        & ADJ                                                                          & JJ                                                                           & Degree=Pos                                                                   & 3                                                                            & amod                                                                         & NA                                                                           & NA                                                                          \\\\\n",
       "\t 2                                                                            & doc1                                                                         & 1                                                                            & 1                                                                            & black teenage boys men children stop referring year old man killing children & 2                                                                            & teenage                                                                      & teenage                                                                      & ADJ                                                                          & JJ                                                                           & Degree=Pos                                                                   & 3                                                                            & amod                                                                         & NA                                                                           & NA                                                                          \\\\\n",
       "\t 3                                                                            & doc1                                                                         & 1                                                                            & 1                                                                            & black teenage boys men children stop referring year old man killing children & 3                                                                            & boys                                                                         & boy                                                                          & NOUN                                                                         & NNS                                                                          & Number=Plur                                                                  & 4                                                                            & compound                                                                     & NA                                                                           & NA                                                                          \\\\\n",
       "\t 4                                                                            & doc1                                                                         & 1                                                                            & 1                                                                            & black teenage boys men children stop referring year old man killing children & 4                                                                            & men                                                                          & man                                                                          & NOUN                                                                         & NNS                                                                          & Number=Plur                                                                  & 6                                                                            & nsubj                                                                        & NA                                                                           & NA                                                                          \\\\\n",
       "\t 5                                                                            & doc1                                                                         & 1                                                                            & 1                                                                            & black teenage boys men children stop referring year old man killing children & 5                                                                            & children                                                                     & child                                                                        & NOUN                                                                         & NNS                                                                          & Number=Plur                                                                  & 4                                                                            & nmod                                                                         & NA                                                                           & NA                                                                          \\\\\n",
       "\t 6                                                                            & doc1                                                                         & 1                                                                            & 1                                                                            & black teenage boys men children stop referring year old man killing children & 6                                                                            & stop                                                                         & stop                                                                         & VERB                                                                         & VBP                                                                          & Mood=Ind\\textbar{}Tense=Pres\\textbar{}VerbForm=Fin                         & 0                                                                            & root                                                                         & NA                                                                           & NA                                                                          \\\\\n",
       "\\end{tabular}\n"
      ],
      "text/markdown": [
       "\n",
       "X | doc_id | paragraph_id | sentence_id | sentence | token_id | token | lemma | upos | xpos | feats | head_token_id | dep_rel | deps | misc | \n",
       "|---|---|---|---|---|---|\n",
       "| 1                                                                            | doc1                                                                         | 1                                                                            | 1                                                                            | black teenage boys men children stop referring year old man killing children | 1                                                                            | black                                                                        | black                                                                        | ADJ                                                                          | JJ                                                                           | Degree=Pos                                                                   | 3                                                                            | amod                                                                         | NA                                                                           | NA                                                                           | \n",
       "| 2                                                                            | doc1                                                                         | 1                                                                            | 1                                                                            | black teenage boys men children stop referring year old man killing children | 2                                                                            | teenage                                                                      | teenage                                                                      | ADJ                                                                          | JJ                                                                           | Degree=Pos                                                                   | 3                                                                            | amod                                                                         | NA                                                                           | NA                                                                           | \n",
       "| 3                                                                            | doc1                                                                         | 1                                                                            | 1                                                                            | black teenage boys men children stop referring year old man killing children | 3                                                                            | boys                                                                         | boy                                                                          | NOUN                                                                         | NNS                                                                          | Number=Plur                                                                  | 4                                                                            | compound                                                                     | NA                                                                           | NA                                                                           | \n",
       "| 4                                                                            | doc1                                                                         | 1                                                                            | 1                                                                            | black teenage boys men children stop referring year old man killing children | 4                                                                            | men                                                                          | man                                                                          | NOUN                                                                         | NNS                                                                          | Number=Plur                                                                  | 6                                                                            | nsubj                                                                        | NA                                                                           | NA                                                                           | \n",
       "| 5                                                                            | doc1                                                                         | 1                                                                            | 1                                                                            | black teenage boys men children stop referring year old man killing children | 5                                                                            | children                                                                     | child                                                                        | NOUN                                                                         | NNS                                                                          | Number=Plur                                                                  | 4                                                                            | nmod                                                                         | NA                                                                           | NA                                                                           | \n",
       "| 6                                                                            | doc1                                                                         | 1                                                                            | 1                                                                            | black teenage boys men children stop referring year old man killing children | 6                                                                            | stop                                                                         | stop                                                                         | VERB                                                                         | VBP                                                                          | Mood=Ind|Tense=Pres|VerbForm=Fin                                             | 0                                                                            | root                                                                         | NA                                                                           | NA                                                                           | \n",
       "\n",
       "\n"
      ],
      "text/plain": [
       "  X doc_id paragraph_id sentence_id\n",
       "1 1 doc1   1            1          \n",
       "2 2 doc1   1            1          \n",
       "3 3 doc1   1            1          \n",
       "4 4 doc1   1            1          \n",
       "5 5 doc1   1            1          \n",
       "6 6 doc1   1            1          \n",
       "  sentence                                                                    \n",
       "1 black teenage boys men children stop referring year old man killing children\n",
       "2 black teenage boys men children stop referring year old man killing children\n",
       "3 black teenage boys men children stop referring year old man killing children\n",
       "4 black teenage boys men children stop referring year old man killing children\n",
       "5 black teenage boys men children stop referring year old man killing children\n",
       "6 black teenage boys men children stop referring year old man killing children\n",
       "  token_id token    lemma   upos xpos feats                           \n",
       "1 1        black    black   ADJ  JJ   Degree=Pos                      \n",
       "2 2        teenage  teenage ADJ  JJ   Degree=Pos                      \n",
       "3 3        boys     boy     NOUN NNS  Number=Plur                     \n",
       "4 4        men      man     NOUN NNS  Number=Plur                     \n",
       "5 5        children child   NOUN NNS  Number=Plur                     \n",
       "6 6        stop     stop    VERB VBP  Mood=Ind|Tense=Pres|VerbForm=Fin\n",
       "  head_token_id dep_rel  deps misc\n",
       "1 3             amod     NA   NA  \n",
       "2 3             amod     NA   NA  \n",
       "3 4             compound NA   NA  \n",
       "4 6             nsubj    NA   NA  \n",
       "5 4             nmod     NA   NA  \n",
       "6 0             root     NA   NA  "
      ]
     },
     "metadata": {},
     "output_type": "display_data"
    }
   ],
   "source": [
    "(docs.udp)"
   ]
  },
  {
   "cell_type": "code",
   "execution_count": 4,
   "metadata": {},
   "outputs": [],
   "source": [
    "docs.udp.lem <- docs.udp %>% group_by(doc_id, paragraph_id, sentence_id) %>%\n",
    "                                mutate(text = str_c(lemma, collapse = \" \")) %>%\n",
    "                                as.data.frame()"
   ]
  },
  {
   "cell_type": "code",
   "execution_count": 5,
   "metadata": {
    "collapsed": true
   },
   "outputs": [
    {
     "data": {
      "text/html": [
       "<table>\n",
       "<thead><tr><th scope=col>X</th><th scope=col>doc_id</th><th scope=col>paragraph_id</th><th scope=col>sentence_id</th><th scope=col>sentence</th><th scope=col>token_id</th><th scope=col>token</th><th scope=col>lemma</th><th scope=col>upos</th><th scope=col>xpos</th><th scope=col>feats</th><th scope=col>head_token_id</th><th scope=col>dep_rel</th><th scope=col>deps</th><th scope=col>misc</th><th scope=col>text</th></tr></thead>\n",
       "<tbody>\n",
       "\t<tr><td>1                                                                           </td><td>doc1                                                                        </td><td>1                                                                           </td><td>1                                                                           </td><td>black teenage boys men children stop referring year old man killing children</td><td>1                                                                           </td><td>black                                                                       </td><td>black                                                                       </td><td>ADJ                                                                         </td><td>JJ                                                                          </td><td>Degree=Pos                                                                  </td><td>3                                                                           </td><td>amod                                                                        </td><td>NA                                                                          </td><td>NA                                                                          </td><td>black teenage boy man child stop refer year old man kill child              </td></tr>\n",
       "\t<tr><td>2                                                                           </td><td>doc1                                                                        </td><td>1                                                                           </td><td>1                                                                           </td><td>black teenage boys men children stop referring year old man killing children</td><td>2                                                                           </td><td>teenage                                                                     </td><td>teenage                                                                     </td><td>ADJ                                                                         </td><td>JJ                                                                          </td><td>Degree=Pos                                                                  </td><td>3                                                                           </td><td>amod                                                                        </td><td>NA                                                                          </td><td>NA                                                                          </td><td>black teenage boy man child stop refer year old man kill child              </td></tr>\n",
       "\t<tr><td>3                                                                           </td><td>doc1                                                                        </td><td>1                                                                           </td><td>1                                                                           </td><td>black teenage boys men children stop referring year old man killing children</td><td>3                                                                           </td><td>boys                                                                        </td><td>boy                                                                         </td><td>NOUN                                                                        </td><td>NNS                                                                         </td><td>Number=Plur                                                                 </td><td>4                                                                           </td><td>compound                                                                    </td><td>NA                                                                          </td><td>NA                                                                          </td><td>black teenage boy man child stop refer year old man kill child              </td></tr>\n",
       "\t<tr><td>4                                                                           </td><td>doc1                                                                        </td><td>1                                                                           </td><td>1                                                                           </td><td>black teenage boys men children stop referring year old man killing children</td><td>4                                                                           </td><td>men                                                                         </td><td>man                                                                         </td><td>NOUN                                                                        </td><td>NNS                                                                         </td><td>Number=Plur                                                                 </td><td>6                                                                           </td><td>nsubj                                                                       </td><td>NA                                                                          </td><td>NA                                                                          </td><td>black teenage boy man child stop refer year old man kill child              </td></tr>\n",
       "\t<tr><td>5                                                                           </td><td>doc1                                                                        </td><td>1                                                                           </td><td>1                                                                           </td><td>black teenage boys men children stop referring year old man killing children</td><td>5                                                                           </td><td>children                                                                    </td><td>child                                                                       </td><td>NOUN                                                                        </td><td>NNS                                                                         </td><td>Number=Plur                                                                 </td><td>4                                                                           </td><td>nmod                                                                        </td><td>NA                                                                          </td><td>NA                                                                          </td><td>black teenage boy man child stop refer year old man kill child              </td></tr>\n",
       "\t<tr><td>6                                                                           </td><td>doc1                                                                        </td><td>1                                                                           </td><td>1                                                                           </td><td>black teenage boys men children stop referring year old man killing children</td><td>6                                                                           </td><td>stop                                                                        </td><td>stop                                                                        </td><td>VERB                                                                        </td><td>VBP                                                                         </td><td>Mood=Ind|Tense=Pres|VerbForm=Fin                                            </td><td>0                                                                           </td><td>root                                                                        </td><td>NA                                                                          </td><td>NA                                                                          </td><td>black teenage boy man child stop refer year old man kill child              </td></tr>\n",
       "</tbody>\n",
       "</table>\n"
      ],
      "text/latex": [
       "\\begin{tabular}{r|llllllllllllllll}\n",
       " X & doc\\_id & paragraph\\_id & sentence\\_id & sentence & token\\_id & token & lemma & upos & xpos & feats & head\\_token\\_id & dep\\_rel & deps & misc & text\\\\\n",
       "\\hline\n",
       "\t 1                                                                            & doc1                                                                         & 1                                                                            & 1                                                                            & black teenage boys men children stop referring year old man killing children & 1                                                                            & black                                                                        & black                                                                        & ADJ                                                                          & JJ                                                                           & Degree=Pos                                                                   & 3                                                                            & amod                                                                         & NA                                                                           & NA                                                                           & black teenage boy man child stop refer year old man kill child              \\\\\n",
       "\t 2                                                                            & doc1                                                                         & 1                                                                            & 1                                                                            & black teenage boys men children stop referring year old man killing children & 2                                                                            & teenage                                                                      & teenage                                                                      & ADJ                                                                          & JJ                                                                           & Degree=Pos                                                                   & 3                                                                            & amod                                                                         & NA                                                                           & NA                                                                           & black teenage boy man child stop refer year old man kill child              \\\\\n",
       "\t 3                                                                            & doc1                                                                         & 1                                                                            & 1                                                                            & black teenage boys men children stop referring year old man killing children & 3                                                                            & boys                                                                         & boy                                                                          & NOUN                                                                         & NNS                                                                          & Number=Plur                                                                  & 4                                                                            & compound                                                                     & NA                                                                           & NA                                                                           & black teenage boy man child stop refer year old man kill child              \\\\\n",
       "\t 4                                                                            & doc1                                                                         & 1                                                                            & 1                                                                            & black teenage boys men children stop referring year old man killing children & 4                                                                            & men                                                                          & man                                                                          & NOUN                                                                         & NNS                                                                          & Number=Plur                                                                  & 6                                                                            & nsubj                                                                        & NA                                                                           & NA                                                                           & black teenage boy man child stop refer year old man kill child              \\\\\n",
       "\t 5                                                                            & doc1                                                                         & 1                                                                            & 1                                                                            & black teenage boys men children stop referring year old man killing children & 5                                                                            & children                                                                     & child                                                                        & NOUN                                                                         & NNS                                                                          & Number=Plur                                                                  & 4                                                                            & nmod                                                                         & NA                                                                           & NA                                                                           & black teenage boy man child stop refer year old man kill child              \\\\\n",
       "\t 6                                                                            & doc1                                                                         & 1                                                                            & 1                                                                            & black teenage boys men children stop referring year old man killing children & 6                                                                            & stop                                                                         & stop                                                                         & VERB                                                                         & VBP                                                                          & Mood=Ind\\textbar{}Tense=Pres\\textbar{}VerbForm=Fin                         & 0                                                                            & root                                                                         & NA                                                                           & NA                                                                           & black teenage boy man child stop refer year old man kill child              \\\\\n",
       "\\end{tabular}\n"
      ],
      "text/markdown": [
       "\n",
       "X | doc_id | paragraph_id | sentence_id | sentence | token_id | token | lemma | upos | xpos | feats | head_token_id | dep_rel | deps | misc | text | \n",
       "|---|---|---|---|---|---|\n",
       "| 1                                                                            | doc1                                                                         | 1                                                                            | 1                                                                            | black teenage boys men children stop referring year old man killing children | 1                                                                            | black                                                                        | black                                                                        | ADJ                                                                          | JJ                                                                           | Degree=Pos                                                                   | 3                                                                            | amod                                                                         | NA                                                                           | NA                                                                           | black teenage boy man child stop refer year old man kill child               | \n",
       "| 2                                                                            | doc1                                                                         | 1                                                                            | 1                                                                            | black teenage boys men children stop referring year old man killing children | 2                                                                            | teenage                                                                      | teenage                                                                      | ADJ                                                                          | JJ                                                                           | Degree=Pos                                                                   | 3                                                                            | amod                                                                         | NA                                                                           | NA                                                                           | black teenage boy man child stop refer year old man kill child               | \n",
       "| 3                                                                            | doc1                                                                         | 1                                                                            | 1                                                                            | black teenage boys men children stop referring year old man killing children | 3                                                                            | boys                                                                         | boy                                                                          | NOUN                                                                         | NNS                                                                          | Number=Plur                                                                  | 4                                                                            | compound                                                                     | NA                                                                           | NA                                                                           | black teenage boy man child stop refer year old man kill child               | \n",
       "| 4                                                                            | doc1                                                                         | 1                                                                            | 1                                                                            | black teenage boys men children stop referring year old man killing children | 4                                                                            | men                                                                          | man                                                                          | NOUN                                                                         | NNS                                                                          | Number=Plur                                                                  | 6                                                                            | nsubj                                                                        | NA                                                                           | NA                                                                           | black teenage boy man child stop refer year old man kill child               | \n",
       "| 5                                                                            | doc1                                                                         | 1                                                                            | 1                                                                            | black teenage boys men children stop referring year old man killing children | 5                                                                            | children                                                                     | child                                                                        | NOUN                                                                         | NNS                                                                          | Number=Plur                                                                  | 4                                                                            | nmod                                                                         | NA                                                                           | NA                                                                           | black teenage boy man child stop refer year old man kill child               | \n",
       "| 6                                                                            | doc1                                                                         | 1                                                                            | 1                                                                            | black teenage boys men children stop referring year old man killing children | 6                                                                            | stop                                                                         | stop                                                                         | VERB                                                                         | VBP                                                                          | Mood=Ind|Tense=Pres|VerbForm=Fin                                             | 0                                                                            | root                                                                         | NA                                                                           | NA                                                                           | black teenage boy man child stop refer year old man kill child               | \n",
       "\n",
       "\n"
      ],
      "text/plain": [
       "  X doc_id paragraph_id sentence_id\n",
       "1 1 doc1   1            1          \n",
       "2 2 doc1   1            1          \n",
       "3 3 doc1   1            1          \n",
       "4 4 doc1   1            1          \n",
       "5 5 doc1   1            1          \n",
       "6 6 doc1   1            1          \n",
       "  sentence                                                                    \n",
       "1 black teenage boys men children stop referring year old man killing children\n",
       "2 black teenage boys men children stop referring year old man killing children\n",
       "3 black teenage boys men children stop referring year old man killing children\n",
       "4 black teenage boys men children stop referring year old man killing children\n",
       "5 black teenage boys men children stop referring year old man killing children\n",
       "6 black teenage boys men children stop referring year old man killing children\n",
       "  token_id token    lemma   upos xpos feats                           \n",
       "1 1        black    black   ADJ  JJ   Degree=Pos                      \n",
       "2 2        teenage  teenage ADJ  JJ   Degree=Pos                      \n",
       "3 3        boys     boy     NOUN NNS  Number=Plur                     \n",
       "4 4        men      man     NOUN NNS  Number=Plur                     \n",
       "5 5        children child   NOUN NNS  Number=Plur                     \n",
       "6 6        stop     stop    VERB VBP  Mood=Ind|Tense=Pres|VerbForm=Fin\n",
       "  head_token_id dep_rel  deps misc\n",
       "1 3             amod     NA   NA  \n",
       "2 3             amod     NA   NA  \n",
       "3 4             compound NA   NA  \n",
       "4 6             nsubj    NA   NA  \n",
       "5 4             nmod     NA   NA  \n",
       "6 0             root     NA   NA  \n",
       "  text                                                          \n",
       "1 black teenage boy man child stop refer year old man kill child\n",
       "2 black teenage boy man child stop refer year old man kill child\n",
       "3 black teenage boy man child stop refer year old man kill child\n",
       "4 black teenage boy man child stop refer year old man kill child\n",
       "5 black teenage boy man child stop refer year old man kill child\n",
       "6 black teenage boy man child stop refer year old man kill child"
      ]
     },
     "metadata": {},
     "output_type": "display_data"
    }
   ],
   "source": [
    "head(docs.udp.lem)"
   ]
  },
  {
   "cell_type": "code",
   "execution_count": 6,
   "metadata": {},
   "outputs": [
    {
     "data": {
      "text/html": [
       "3785412"
      ],
      "text/latex": [
       "3785412"
      ],
      "text/markdown": [
       "3785412"
      ],
      "text/plain": [
       "[1] 3785412"
      ]
     },
     "metadata": {},
     "output_type": "display_data"
    }
   ],
   "source": [
    "nrow(docs.udp.lem)"
   ]
  },
  {
   "cell_type": "markdown",
   "metadata": {},
   "source": [
    "write.csv(docs.udp.lem, \"C:\\\\MathLabASUS\\\\Courses\\\\Ryerson\\\\Project\\\\Data\\\\Topics\\\\docs_udp_lem.csv\")"
   ]
  },
  {
   "cell_type": "markdown",
   "metadata": {},
   "source": [
    "###### Read corpus text with lemmas"
   ]
  },
  {
   "cell_type": "markdown",
   "metadata": {},
   "source": [
    "docs.udp.lem <- read.csv(\"C:\\\\MathLabASUS\\\\Courses\\\\Ryerson\\\\Project\\\\Data\\\\Topics\\\\docs_udp_lem.csv\", stringsAsFactors = FALSE)"
   ]
  },
  {
   "cell_type": "code",
   "execution_count": 7,
   "metadata": {},
   "outputs": [],
   "source": [
    "docs.udp.lem <- docs.udp.lem %>% dplyr::rename(\"rowno\" = colnames(docs.udp.lem)[1]) %>% as.data.frame()"
   ]
  },
  {
   "cell_type": "markdown",
   "metadata": {},
   "source": [
    "##### Remove any remaining retweets from data frame"
   ]
  },
  {
   "cell_type": "code",
   "execution_count": 8,
   "metadata": {},
   "outputs": [],
   "source": [
    "docs.udp.lem <- subset(docs.udp.lem, lemma != \"rt\")"
   ]
  },
  {
   "cell_type": "code",
   "execution_count": 9,
   "metadata": {},
   "outputs": [],
   "source": [
    "docs.udp.lem$sentence <- gsub(\"rt\", \"\", docs.udp.lem$sentence)\n",
    "docs.udp.lem$text <- gsub(\"rt\", \"\", docs.udp.lem$text)"
   ]
  },
  {
   "cell_type": "markdown",
   "metadata": {},
   "source": [
    "terms.lem <- unique(docs.udp.lem$lemma)"
   ]
  },
  {
   "cell_type": "markdown",
   "metadata": {},
   "source": [
    "##### Plot some graphs of terms and statistics of Universal POS and Language specific (English) POS"
   ]
  },
  {
   "cell_type": "markdown",
   "metadata": {},
   "source": [
    "###### Get unique texts"
   ]
  },
  {
   "cell_type": "code",
   "execution_count": 10,
   "metadata": {},
   "outputs": [],
   "source": [
    "docs.udp.lem.unq <- subset(docs.udp.lem, !duplicated(text))"
   ]
  },
  {
   "cell_type": "code",
   "execution_count": 11,
   "metadata": {},
   "outputs": [
    {
     "data": {
      "text/html": [
       "420379"
      ],
      "text/latex": [
       "420379"
      ],
      "text/markdown": [
       "420379"
      ],
      "text/plain": [
       "[1] 420379"
      ]
     },
     "metadata": {},
     "output_type": "display_data"
    }
   ],
   "source": [
    "NROW(docs.udp.lem.unq)"
   ]
  },
  {
   "cell_type": "code",
   "execution_count": 11,
   "metadata": {},
   "outputs": [],
   "source": [
    "upos_stats <- txt_freq(docs.udp.lem.unq$upos, order = TRUE)\n",
    "upos_stats$key <- factor(upos_stats$key, levels = (upos_stats$key))"
   ]
  },
  {
   "cell_type": "code",
   "execution_count": 12,
   "metadata": {
    "scrolled": true
   },
   "outputs": [
    {
     "data": {
      "text/html": [
       "<table>\n",
       "<thead><tr><th scope=col>key</th><th scope=col>freq</th><th scope=col>freq_pct</th></tr></thead>\n",
       "<tbody>\n",
       "\t<tr><td>NOUN     </td><td>122926   </td><td>29.246021</td></tr>\n",
       "\t<tr><td>VERB     </td><td> 99885   </td><td>23.764207</td></tr>\n",
       "\t<tr><td>ADJ      </td><td> 73815   </td><td>17.561745</td></tr>\n",
       "\t<tr><td>ADV      </td><td> 40244   </td><td> 9.574678</td></tr>\n",
       "\t<tr><td>AUX      </td><td> 18642   </td><td> 4.435224</td></tr>\n",
       "\t<tr><td>PRON     </td><td> 17841   </td><td> 4.244653</td></tr>\n",
       "</tbody>\n",
       "</table>\n"
      ],
      "text/latex": [
       "\\begin{tabular}{r|lll}\n",
       " key & freq & freq\\_pct\\\\\n",
       "\\hline\n",
       "\t NOUN      & 122926    & 29.246021\\\\\n",
       "\t VERB      &  99885    & 23.764207\\\\\n",
       "\t ADJ       &  73815    & 17.561745\\\\\n",
       "\t ADV       &  40244    &  9.574678\\\\\n",
       "\t AUX       &  18642    &  4.435224\\\\\n",
       "\t PRON      &  17841    &  4.244653\\\\\n",
       "\\end{tabular}\n"
      ],
      "text/markdown": [
       "\n",
       "key | freq | freq_pct | \n",
       "|---|---|---|---|---|---|\n",
       "| NOUN      | 122926    | 29.246021 | \n",
       "| VERB      |  99885    | 23.764207 | \n",
       "| ADJ       |  73815    | 17.561745 | \n",
       "| ADV       |  40244    |  9.574678 | \n",
       "| AUX       |  18642    |  4.435224 | \n",
       "| PRON      |  17841    |  4.244653 | \n",
       "\n",
       "\n"
      ],
      "text/plain": [
       "  key  freq   freq_pct \n",
       "1 NOUN 122926 29.246021\n",
       "2 VERB  99885 23.764207\n",
       "3 ADJ   73815 17.561745\n",
       "4 ADV   40244  9.574678\n",
       "5 AUX   18642  4.435224\n",
       "6 PRON  17841  4.244653"
      ]
     },
     "metadata": {},
     "output_type": "display_data"
    }
   ],
   "source": [
    "head(upos_stats)"
   ]
  },
  {
   "cell_type": "code",
   "execution_count": 167,
   "metadata": {
    "scrolled": true
   },
   "outputs": [
    {
     "data": {
      "text/html": [
       "51.2416176830907"
      ],
      "text/latex": [
       "51.2416176830907"
      ],
      "text/markdown": [
       "51.2416176830907"
      ],
      "text/plain": [
       "[1] 51.24162"
      ]
     },
     "metadata": {},
     "output_type": "display_data"
    }
   ],
   "source": [
    "sum(subset(upos_stats, key %in% c(\"NOUN\", \"VRB\", \"ADJ\", \"AUX\"))[c(\"freq_pct\")])"
   ]
  },
  {
   "cell_type": "code",
   "execution_count": 15,
   "metadata": {},
   "outputs": [],
   "source": [
    "plot.lang <- ggplot(aes(x = key, y = freq_pct), data = upos_stats) +\n",
    "    geom_bar(color = \"blue\", fill = \"blue\", stat = \"identity\") +\n",
    "     labs(title = \"POS in twitter is a good reflection of the English\\n language- on average 51% compared to 47%\\n (NOUN, VERB, ADJ, ADV)\", x = \"Universal POS\", y = \"Frequecncy occurence\") + \n",
    "    theme(axis.text.x=element_text(angle=90)) +\n",
    "    plot.format\n",
    "    "
   ]
  },
  {
   "cell_type": "code",
   "execution_count": 17,
   "metadata": {},
   "outputs": [],
   "source": [
    "xpos_stats_noun <- subset(docs.udp.lem.unq, xpos %in% c(\"NN\", \"NNP\"))"
   ]
  },
  {
   "cell_type": "code",
   "execution_count": 196,
   "metadata": {
    "collapsed": true
   },
   "outputs": [
    {
     "data": {
      "text/html": [
       "<table>\n",
       "<thead><tr><th></th><th scope=col>rowno</th><th scope=col>X</th><th scope=col>doc_id</th><th scope=col>paragraph_id</th><th scope=col>sentence_id</th><th scope=col>sentence</th><th scope=col>token_id</th><th scope=col>token</th><th scope=col>lemma</th><th scope=col>upos</th><th scope=col>xpos</th><th scope=col>feats</th><th scope=col>head_token_id</th><th scope=col>dep_rel</th><th scope=col>deps</th><th scope=col>misc</th><th scope=col>text</th></tr></thead>\n",
       "<tbody>\n",
       "\t<tr><th scope=row>103</th><td>103                                                                   </td><td>103                                                                   </td><td>doc15                                                                 </td><td>1                                                                     </td><td>1                                                                     </td><td>hate                                                                  </td><td>1                                                                     </td><td>hate                                                                  </td><td>hate                                                                  </td><td>NOUN                                                                  </td><td>NN                                                                    </td><td>Number=Sing                                                           </td><td>0                                                                     </td><td>root                                                                  </td><td>NA                                                                    </td><td>SpacesBefore=\\s|SpacesAfter=\\s\\n                                   </td><td>hate                                                                  </td></tr>\n",
       "\t<tr><th scope=row>131</th><td>131                                                                   </td><td>131                                                                   </td><td>doc20                                                                 </td><td>1                                                                     </td><td>1                                                                     </td><td>whistle stop                                                          </td><td>1                                                                     </td><td>whistle                                                               </td><td>whistle                                                               </td><td>NOUN                                                                  </td><td>NN                                                                    </td><td>Number=Sing                                                           </td><td>2                                                                     </td><td>compound                                                              </td><td>NA                                                                    </td><td>NA                                                                    </td><td>whistle stop                                                          </td></tr>\n",
       "\t<tr><th scope=row>171</th><td>171                                                                   </td><td>171                                                                   </td><td>doc25                                                                 </td><td>1                                                                     </td><td>1                                                                     </td><td>jfc situation another case police officers overreacting something mild</td><td>1                                                                     </td><td>jfc                                                                   </td><td>jfc                                                                   </td><td>NOUN                                                                  </td><td>NN                                                                    </td><td>Number=Sing                                                           </td><td>2                                                                     </td><td>compound                                                              </td><td>NA                                                                    </td><td>NA                                                                    </td><td>jfc situation another case police officer overreact something mild    </td></tr>\n",
       "\t<tr><th scope=row>226</th><td>226                                                                   </td><td>226                                                                   </td><td>doc32                                                                 </td><td>1                                                                     </td><td>1                                                                     </td><td>injustice                                                             </td><td>1                                                                     </td><td>injustice                                                             </td><td>injustice                                                             </td><td>NOUN                                                                  </td><td>NN                                                                    </td><td>Number=Sing                                                           </td><td>0                                                                     </td><td>root                                                                  </td><td>NA                                                                    </td><td>SpacesBefore=\\s|SpacesAfter=\\n                                      </td><td>injustice                                                             </td></tr>\n",
       "\t<tr><th scope=row>228</th><td>228                                                                   </td><td>228                                                                   </td><td>doc33                                                                 </td><td>1                                                                     </td><td>1                                                                     </td><td>rt boy name mike brown barely hs school friend taught words           </td><td>2                                                                     </td><td>boy                                                                   </td><td>boy                                                                   </td><td>NOUN                                                                  </td><td>NN                                                                    </td><td>Number=Sing                                                           </td><td>3                                                                     </td><td>compound                                                              </td><td>NA                                                                    </td><td>NA                                                                    </td><td>rt boy name mike brow barely hs school friend teach word              </td></tr>\n",
       "\t<tr><th scope=row>276</th><td>276                                                                   </td><td>276                                                                   </td><td>doc39                                                                 </td><td>1                                                                     </td><td>1                                                                     </td><td>police control long fucking long getting worse                        </td><td>1                                                                     </td><td>police                                                                </td><td>police                                                                </td><td>NOUN                                                                  </td><td>NN                                                                    </td><td>Number=Sing                                                           </td><td>2                                                                     </td><td>compound                                                              </td><td>NA                                                                    </td><td>NA                                                                    </td><td>police control long fucking long get worse                            </td></tr>\n",
       "</tbody>\n",
       "</table>\n"
      ],
      "text/latex": [
       "\\begin{tabular}{r|lllllllllllllllll}\n",
       "  & rowno & X & doc\\_id & paragraph\\_id & sentence\\_id & sentence & token\\_id & token & lemma & upos & xpos & feats & head\\_token\\_id & dep\\_rel & deps & misc & text\\\\\n",
       "\\hline\n",
       "\t103 & 103                                                                                        & 103                                                                                        & doc15                                                                                      & 1                                                                                          & 1                                                                                          & hate                                                                                       & 1                                                                                          & hate                                                                                       & hate                                                                                       & NOUN                                                                                       & NN                                                                                         & Number=Sing                                                                                & 0                                                                                          & root                                                                                       & NA                                                                                         & SpacesBefore=\\textbackslash{}s\\textbar{}SpacesAfter=\\textbackslash{}s\\textbackslash{}n & hate                                                                                      \\\\\n",
       "\t131 & 131                                                                    & 131                                                                    & doc20                                                                  & 1                                                                      & 1                                                                      & whistle stop                                                           & 1                                                                      & whistle                                                                & whistle                                                                & NOUN                                                                   & NN                                                                     & Number=Sing                                                            & 2                                                                      & compound                                                               & NA                                                                     & NA                                                                     & whistle stop                                                          \\\\\n",
       "\t171 & 171                                                                    & 171                                                                    & doc25                                                                  & 1                                                                      & 1                                                                      & jfc situation another case police officers overreacting something mild & 1                                                                      & jfc                                                                    & jfc                                                                    & NOUN                                                                   & NN                                                                     & Number=Sing                                                            & 2                                                                      & compound                                                               & NA                                                                     & NA                                                                     & jfc situation another case police officer overreact something mild    \\\\\n",
       "\t226 & 226                                                                         & 226                                                                         & doc32                                                                       & 1                                                                           & 1                                                                           & injustice                                                                   & 1                                                                           & injustice                                                                   & injustice                                                                   & NOUN                                                                        & NN                                                                          & Number=Sing                                                                 & 0                                                                           & root                                                                        & NA                                                                          & SpacesBefore=\\textbackslash{}s\\textbar{}SpacesAfter=\\textbackslash{}n    & injustice                                                                  \\\\\n",
       "\t228 & 228                                                                    & 228                                                                    & doc33                                                                  & 1                                                                      & 1                                                                      & rt boy name mike brown barely hs school friend taught words            & 2                                                                      & boy                                                                    & boy                                                                    & NOUN                                                                   & NN                                                                     & Number=Sing                                                            & 3                                                                      & compound                                                               & NA                                                                     & NA                                                                     & rt boy name mike brow barely hs school friend teach word              \\\\\n",
       "\t276 & 276                                                                    & 276                                                                    & doc39                                                                  & 1                                                                      & 1                                                                      & police control long fucking long getting worse                         & 1                                                                      & police                                                                 & police                                                                 & NOUN                                                                   & NN                                                                     & Number=Sing                                                            & 2                                                                      & compound                                                               & NA                                                                     & NA                                                                     & police control long fucking long get worse                            \\\\\n",
       "\\end{tabular}\n"
      ],
      "text/markdown": [
       "\n",
       "| <!--/--> | rowno | X | doc_id | paragraph_id | sentence_id | sentence | token_id | token | lemma | upos | xpos | feats | head_token_id | dep_rel | deps | misc | text | \n",
       "|---|---|---|---|---|---|\n",
       "| 103 | 103                                                                    | 103                                                                    | doc15                                                                  | 1                                                                      | 1                                                                      | hate                                                                   | 1                                                                      | hate                                                                   | hate                                                                   | NOUN                                                                   | NN                                                                     | Number=Sing                                                            | 0                                                                      | root                                                                   | NA                                                                     | SpacesBefore=\\s|SpacesAfter=\\s\\n                                    | hate                                                                   | \n",
       "| 131 | 131                                                                    | 131                                                                    | doc20                                                                  | 1                                                                      | 1                                                                      | whistle stop                                                           | 1                                                                      | whistle                                                                | whistle                                                                | NOUN                                                                   | NN                                                                     | Number=Sing                                                            | 2                                                                      | compound                                                               | NA                                                                     | NA                                                                     | whistle stop                                                           | \n",
       "| 171 | 171                                                                    | 171                                                                    | doc25                                                                  | 1                                                                      | 1                                                                      | jfc situation another case police officers overreacting something mild | 1                                                                      | jfc                                                                    | jfc                                                                    | NOUN                                                                   | NN                                                                     | Number=Sing                                                            | 2                                                                      | compound                                                               | NA                                                                     | NA                                                                     | jfc situation another case police officer overreact something mild     | \n",
       "| 226 | 226                                                                    | 226                                                                    | doc32                                                                  | 1                                                                      | 1                                                                      | injustice                                                              | 1                                                                      | injustice                                                              | injustice                                                              | NOUN                                                                   | NN                                                                     | Number=Sing                                                            | 0                                                                      | root                                                                   | NA                                                                     | SpacesBefore=\\s|SpacesAfter=\\n                                       | injustice                                                              | \n",
       "| 228 | 228                                                                    | 228                                                                    | doc33                                                                  | 1                                                                      | 1                                                                      | rt boy name mike brown barely hs school friend taught words            | 2                                                                      | boy                                                                    | boy                                                                    | NOUN                                                                   | NN                                                                     | Number=Sing                                                            | 3                                                                      | compound                                                               | NA                                                                     | NA                                                                     | rt boy name mike brow barely hs school friend teach word               | \n",
       "| 276 | 276                                                                    | 276                                                                    | doc39                                                                  | 1                                                                      | 1                                                                      | police control long fucking long getting worse                         | 1                                                                      | police                                                                 | police                                                                 | NOUN                                                                   | NN                                                                     | Number=Sing                                                            | 2                                                                      | compound                                                               | NA                                                                     | NA                                                                     | police control long fucking long get worse                             | \n",
       "\n",
       "\n"
      ],
      "text/plain": [
       "    rowno X   doc_id paragraph_id sentence_id\n",
       "103 103   103 doc15  1            1          \n",
       "131 131   131 doc20  1            1          \n",
       "171 171   171 doc25  1            1          \n",
       "226 226   226 doc32  1            1          \n",
       "228 228   228 doc33  1            1          \n",
       "276 276   276 doc39  1            1          \n",
       "    sentence                                                              \n",
       "103 hate                                                                  \n",
       "131 whistle stop                                                          \n",
       "171 jfc situation another case police officers overreacting something mild\n",
       "226 injustice                                                             \n",
       "228 rt boy name mike brown barely hs school friend taught words           \n",
       "276 police control long fucking long getting worse                        \n",
       "    token_id token     lemma     upos xpos feats       head_token_id dep_rel \n",
       "103 1        hate      hate      NOUN NN   Number=Sing 0             root    \n",
       "131 1        whistle   whistle   NOUN NN   Number=Sing 2             compound\n",
       "171 1        jfc       jfc       NOUN NN   Number=Sing 2             compound\n",
       "226 1        injustice injustice NOUN NN   Number=Sing 0             root    \n",
       "228 2        boy       boy       NOUN NN   Number=Sing 3             compound\n",
       "276 1        police    police    NOUN NN   Number=Sing 2             compound\n",
       "    deps misc                               \n",
       "103 NA   SpacesBefore=\\\\s|SpacesAfter=\\\\s\\\\n\n",
       "131 NA   NA                                 \n",
       "171 NA   NA                                 \n",
       "226 NA   SpacesBefore=\\\\s|SpacesAfter=\\\\n   \n",
       "228 NA   NA                                 \n",
       "276 NA   NA                                 \n",
       "    text                                                              \n",
       "103 hate                                                              \n",
       "131 whistle stop                                                      \n",
       "171 jfc situation another case police officer overreact something mild\n",
       "226 injustice                                                         \n",
       "228 rt boy name mike brow barely hs school friend teach word          \n",
       "276 police control long fucking long get worse                        "
      ]
     },
     "metadata": {},
     "output_type": "display_data"
    }
   ],
   "source": [
    "head(xpos_stats_noun)"
   ]
  },
  {
   "cell_type": "code",
   "execution_count": 18,
   "metadata": {},
   "outputs": [],
   "source": [
    "xpos_stats_noun <- txt_freq(xpos_stats_noun$lemma, order = TRUE)\n",
    "xpos_stats_noun$key <- factor(xpos_stats_noun$key, levels = (xpos_stats_noun$key))"
   ]
  },
  {
   "cell_type": "code",
   "execution_count": 198,
   "metadata": {
    "collapsed": true
   },
   "outputs": [
    {
     "data": {
      "text/html": [
       "<table>\n",
       "<thead><tr><th scope=col>key</th><th scope=col>freq</th><th scope=col>freq_pct</th></tr></thead>\n",
       "<tbody>\n",
       "\t<tr><td>police   </td><td>6748     </td><td>7.3818822</td></tr>\n",
       "\t<tr><td>anyone   </td><td>1492     </td><td>1.6321530</td></tr>\n",
       "\t<tr><td>shit     </td><td>1412     </td><td>1.5446381</td></tr>\n",
       "\t<tr><td>media    </td><td>1343     </td><td>1.4691565</td></tr>\n",
       "\t<tr><td>situation</td><td>1242     </td><td>1.3586689</td></tr>\n",
       "\t<tr><td>president</td><td>1179     </td><td>1.2897509</td></tr>\n",
       "\t<tr><td>everyone </td><td>1100     </td><td>1.2033299</td></tr>\n",
       "\t<tr><td>video    </td><td>1044     </td><td>1.1420695</td></tr>\n",
       "\t<tr><td>news     </td><td>1002     </td><td>1.0961242</td></tr>\n",
       "\t<tr><td>mayor    </td><td> 996     </td><td>1.0895606</td></tr>\n",
       "\t<tr><td>time     </td><td> 965     </td><td>1.0556485</td></tr>\n",
       "\t<tr><td>man      </td><td> 919     </td><td>1.0053275</td></tr>\n",
       "\t<tr><td>twitter  </td><td> 837     </td><td>0.9156247</td></tr>\n",
       "\t<tr><td>state    </td><td> 790     </td><td>0.8642097</td></tr>\n",
       "\t<tr><td>hell     </td><td> 769     </td><td>0.8412370</td></tr>\n",
       "\t<tr><td>obama    </td><td> 761     </td><td>0.8324855</td></tr>\n",
       "\t<tr><td>someone  </td><td> 760     </td><td>0.8313916</td></tr>\n",
       "\t<tr><td>heart    </td><td> 721     </td><td>0.7887281</td></tr>\n",
       "\t<tr><td>break    </td><td> 695     </td><td>0.7602857</td></tr>\n",
       "\t<tr><td>fact     </td><td> 691     </td><td>0.7559100</td></tr>\n",
       "</tbody>\n",
       "</table>\n"
      ],
      "text/latex": [
       "\\begin{tabular}{r|lll}\n",
       " key & freq & freq\\_pct\\\\\n",
       "\\hline\n",
       "\t police    & 6748      & 7.3818822\\\\\n",
       "\t anyone    & 1492      & 1.6321530\\\\\n",
       "\t shit      & 1412      & 1.5446381\\\\\n",
       "\t media     & 1343      & 1.4691565\\\\\n",
       "\t situation & 1242      & 1.3586689\\\\\n",
       "\t president & 1179      & 1.2897509\\\\\n",
       "\t everyone  & 1100      & 1.2033299\\\\\n",
       "\t video     & 1044      & 1.1420695\\\\\n",
       "\t news      & 1002      & 1.0961242\\\\\n",
       "\t mayor     &  996      & 1.0895606\\\\\n",
       "\t time      &  965      & 1.0556485\\\\\n",
       "\t man       &  919      & 1.0053275\\\\\n",
       "\t twitter   &  837      & 0.9156247\\\\\n",
       "\t state     &  790      & 0.8642097\\\\\n",
       "\t hell      &  769      & 0.8412370\\\\\n",
       "\t obama     &  761      & 0.8324855\\\\\n",
       "\t someone   &  760      & 0.8313916\\\\\n",
       "\t heart     &  721      & 0.7887281\\\\\n",
       "\t break     &  695      & 0.7602857\\\\\n",
       "\t fact      &  691      & 0.7559100\\\\\n",
       "\\end{tabular}\n"
      ],
      "text/markdown": [
       "\n",
       "key | freq | freq_pct | \n",
       "|---|---|---|---|---|---|---|---|---|---|---|---|---|---|---|---|---|---|---|---|\n",
       "| police    | 6748      | 7.3818822 | \n",
       "| anyone    | 1492      | 1.6321530 | \n",
       "| shit      | 1412      | 1.5446381 | \n",
       "| media     | 1343      | 1.4691565 | \n",
       "| situation | 1242      | 1.3586689 | \n",
       "| president | 1179      | 1.2897509 | \n",
       "| everyone  | 1100      | 1.2033299 | \n",
       "| video     | 1044      | 1.1420695 | \n",
       "| news      | 1002      | 1.0961242 | \n",
       "| mayor     |  996      | 1.0895606 | \n",
       "| time      |  965      | 1.0556485 | \n",
       "| man       |  919      | 1.0053275 | \n",
       "| twitter   |  837      | 0.9156247 | \n",
       "| state     |  790      | 0.8642097 | \n",
       "| hell      |  769      | 0.8412370 | \n",
       "| obama     |  761      | 0.8324855 | \n",
       "| someone   |  760      | 0.8313916 | \n",
       "| heart     |  721      | 0.7887281 | \n",
       "| break     |  695      | 0.7602857 | \n",
       "| fact      |  691      | 0.7559100 | \n",
       "\n",
       "\n"
      ],
      "text/plain": [
       "   key       freq freq_pct \n",
       "1  police    6748 7.3818822\n",
       "2  anyone    1492 1.6321530\n",
       "3  shit      1412 1.5446381\n",
       "4  media     1343 1.4691565\n",
       "5  situation 1242 1.3586689\n",
       "6  president 1179 1.2897509\n",
       "7  everyone  1100 1.2033299\n",
       "8  video     1044 1.1420695\n",
       "9  news      1002 1.0961242\n",
       "10 mayor      996 1.0895606\n",
       "11 time       965 1.0556485\n",
       "12 man        919 1.0053275\n",
       "13 twitter    837 0.9156247\n",
       "14 state      790 0.8642097\n",
       "15 hell       769 0.8412370\n",
       "16 obama      761 0.8324855\n",
       "17 someone    760 0.8313916\n",
       "18 heart      721 0.7887281\n",
       "19 break      695 0.7602857\n",
       "20 fact       691 0.7559100"
      ]
     },
     "metadata": {},
     "output_type": "display_data"
    }
   ],
   "source": [
    "head(xpos_stats_noun, 20)"
   ]
  },
  {
   "cell_type": "code",
   "execution_count": 20,
   "metadata": {},
   "outputs": [],
   "source": [
    "upos_stats_noun <- subset(docs.udp.lem.unq, upos == \"NOUN\")"
   ]
  },
  {
   "cell_type": "code",
   "execution_count": 21,
   "metadata": {},
   "outputs": [],
   "source": [
    "upos_stats_noun <- txt_freq(upos_stats_noun$lemma, order = TRUE)\n",
    "upos_stats_noun$key <- factor(upos_stats_noun$key, levels = (upos_stats_noun$key))"
   ]
  },
  {
   "cell_type": "code",
   "execution_count": 22,
   "metadata": {},
   "outputs": [],
   "source": [
    "plot.nouns <- ggplot(aes(x = key, y = freq_pct), data = head(subset(upos_stats_noun, \n",
    "                                                      !(key %in% c(\"police\", \"shit\", \"fucking\"))), 30)) +\n",
    "    geom_bar(color = \"blue\", fill = \"blue\", stat = \"identity\") +\n",
    "     labs(title = \"Popular NOUNS occuring in the first week\\n are terms that mainly convey negative sentiment\", x = \"word\", y = \"Frequecncy occurence(%)\") + \n",
    "    theme(axis.text.x=element_text(angle=90)) +\n",
    "    plot.format\n",
    "    "
   ]
  },
  {
   "cell_type": "code",
   "execution_count": 23,
   "metadata": {},
   "outputs": [
    {
     "data": {},
     "metadata": {},
     "output_type": "display_data"
    },
    {
     "data": {
      "image/png": "[encoded data removed]",
      "text/plain": [
       "plot without title"
      ]
     },
     "metadata": {},
     "output_type": "display_data"
    }
   ],
   "source": [
    "plot_grid(plot.lang, plot.nouns, labels = \"AUTO\", align = \"v\", axis  = \"l\", ncol = 1)"
   ]
  },
  {
   "cell_type": "markdown",
   "metadata": {},
   "source": [
    "###### Most popular adjectives"
   ]
  },
  {
   "cell_type": "code",
   "execution_count": 25,
   "metadata": {},
   "outputs": [],
   "source": [
    "upos_stats_adj <- subset(docs.udp.lem.unq, upos == \"ADJ\")"
   ]
  },
  {
   "cell_type": "code",
   "execution_count": 26,
   "metadata": {},
   "outputs": [],
   "source": [
    "upos_stats_adj <- txt_freq(upos_stats_adj$lemma, order = TRUE)\n",
    "upos_stats_adj$key <- factor(upos_stats_adj$key, levels = (upos_stats_adj$key))"
   ]
  },
  {
   "cell_type": "code",
   "execution_count": 141,
   "metadata": {
    "collapsed": true
   },
   "outputs": [
    {
     "data": {
      "text/html": [
       "<table>\n",
       "<thead><tr><th scope=col>key</th><th scope=col>freq</th><th scope=col>freq_pct</th></tr></thead>\n",
       "<tbody>\n",
       "\t<tr><td>live     </td><td>2138     </td><td>2.8928248</td></tr>\n",
       "\t<tr><td>black    </td><td>1775     </td><td>2.4016670</td></tr>\n",
       "\t<tr><td>good     </td><td>1647     </td><td>2.2284763</td></tr>\n",
       "\t<tr><td>white    </td><td>1346     </td><td>1.8212077</td></tr>\n",
       "\t<tr><td>many     </td><td>1190     </td><td>1.6101317</td></tr>\n",
       "\t<tr><td>im       </td><td>1189     </td><td>1.6087786</td></tr>\n",
       "\t<tr><td>sad      </td><td>1165     </td><td>1.5763054</td></tr>\n",
       "\t<tr><td>dear     </td><td>1148     </td><td>1.5533035</td></tr>\n",
       "\t<tr><td>ao       </td><td>1094     </td><td>1.4802387</td></tr>\n",
       "\t<tr><td>mt       </td><td> 937     </td><td>1.2678095</td></tr>\n",
       "\t<tr><td>crazy    </td><td> 932     </td><td>1.2610443</td></tr>\n",
       "\t<tr><td>great    </td><td> 875     </td><td>1.1839203</td></tr>\n",
       "\t<tr><td>wow      </td><td> 815     </td><td>1.1027372</td></tr>\n",
       "\t<tr><td>anonymous</td><td> 805     </td><td>1.0892067</td></tr>\n",
       "\t<tr><td>last     </td><td> 779     </td><td>1.0540274</td></tr>\n",
       "\t<tr><td>new      </td><td> 734     </td><td>0.9931400</td></tr>\n",
       "\t<tr><td>whole    </td><td> 728     </td><td>0.9850217</td></tr>\n",
       "\t<tr><td>real     </td><td> 675     </td><td>0.9133100</td></tr>\n",
       "\t<tr><td>peaceful </td><td> 639     </td><td>0.8646001</td></tr>\n",
       "\t<tr><td>much     </td><td> 591     </td><td>0.7996536</td></tr>\n",
       "</tbody>\n",
       "</table>\n"
      ],
      "text/latex": [
       "\\begin{tabular}{r|lll}\n",
       " key & freq & freq\\_pct\\\\\n",
       "\\hline\n",
       "\t live      & 2138      & 2.8928248\\\\\n",
       "\t black     & 1775      & 2.4016670\\\\\n",
       "\t good      & 1647      & 2.2284763\\\\\n",
       "\t white     & 1346      & 1.8212077\\\\\n",
       "\t many      & 1190      & 1.6101317\\\\\n",
       "\t im        & 1189      & 1.6087786\\\\\n",
       "\t sad       & 1165      & 1.5763054\\\\\n",
       "\t dear      & 1148      & 1.5533035\\\\\n",
       "\t ao        & 1094      & 1.4802387\\\\\n",
       "\t mt        &  937      & 1.2678095\\\\\n",
       "\t crazy     &  932      & 1.2610443\\\\\n",
       "\t great     &  875      & 1.1839203\\\\\n",
       "\t wow       &  815      & 1.1027372\\\\\n",
       "\t anonymous &  805      & 1.0892067\\\\\n",
       "\t last      &  779      & 1.0540274\\\\\n",
       "\t new       &  734      & 0.9931400\\\\\n",
       "\t whole     &  728      & 0.9850217\\\\\n",
       "\t real      &  675      & 0.9133100\\\\\n",
       "\t peaceful  &  639      & 0.8646001\\\\\n",
       "\t much      &  591      & 0.7996536\\\\\n",
       "\\end{tabular}\n"
      ],
      "text/markdown": [
       "\n",
       "key | freq | freq_pct | \n",
       "|---|---|---|---|---|---|---|---|---|---|---|---|---|---|---|---|---|---|---|---|\n",
       "| live      | 2138      | 2.8928248 | \n",
       "| black     | 1775      | 2.4016670 | \n",
       "| good      | 1647      | 2.2284763 | \n",
       "| white     | 1346      | 1.8212077 | \n",
       "| many      | 1190      | 1.6101317 | \n",
       "| im        | 1189      | 1.6087786 | \n",
       "| sad       | 1165      | 1.5763054 | \n",
       "| dear      | 1148      | 1.5533035 | \n",
       "| ao        | 1094      | 1.4802387 | \n",
       "| mt        |  937      | 1.2678095 | \n",
       "| crazy     |  932      | 1.2610443 | \n",
       "| great     |  875      | 1.1839203 | \n",
       "| wow       |  815      | 1.1027372 | \n",
       "| anonymous |  805      | 1.0892067 | \n",
       "| last      |  779      | 1.0540274 | \n",
       "| new       |  734      | 0.9931400 | \n",
       "| whole     |  728      | 0.9850217 | \n",
       "| real      |  675      | 0.9133100 | \n",
       "| peaceful  |  639      | 0.8646001 | \n",
       "| much      |  591      | 0.7996536 | \n",
       "\n",
       "\n"
      ],
      "text/plain": [
       "   key       freq freq_pct \n",
       "1  live      2138 2.8928248\n",
       "2  black     1775 2.4016670\n",
       "3  good      1647 2.2284763\n",
       "4  white     1346 1.8212077\n",
       "5  many      1190 1.6101317\n",
       "6  im        1189 1.6087786\n",
       "7  sad       1165 1.5763054\n",
       "8  dear      1148 1.5533035\n",
       "9  ao        1094 1.4802387\n",
       "10 mt         937 1.2678095\n",
       "11 crazy      932 1.2610443\n",
       "12 great      875 1.1839203\n",
       "13 wow        815 1.1027372\n",
       "14 anonymous  805 1.0892067\n",
       "15 last       779 1.0540274\n",
       "16 new        734 0.9931400\n",
       "17 whole      728 0.9850217\n",
       "18 real       675 0.9133100\n",
       "19 peaceful   639 0.8646001\n",
       "20 much       591 0.7996536"
      ]
     },
     "metadata": {},
     "output_type": "display_data"
    }
   ],
   "source": [
    "head(upos_stats_adj, 20)"
   ]
  },
  {
   "cell_type": "code",
   "execution_count": 27,
   "metadata": {},
   "outputs": [
    {
     "data": {},
     "metadata": {},
     "output_type": "display_data"
    },
    {
     "data": {
      "image/png": "[encoded data removed]",
      "text/plain": [
       "plot without title"
      ]
     },
     "metadata": {},
     "output_type": "display_data"
    }
   ],
   "source": [
    "ggplot(aes(x = key, y = freq_pct), data = head(subset(upos_stats_adj, \n",
    "                                                      !(key %in% c(\"police\", \"shit\", \"fucking\"))), 30)) +\n",
    "    geom_bar(color = \"blue\", fill = \"blue\", stat = \"identity\") +\n",
    "     labs(title = \"Popular ADJ occuring in the first week\", x = \"word\", y = \"Frequecncy occurence(%)\") + \n",
    "    theme(axis.text.x=element_text(angle=90)) +\n",
    "    plot.format\n",
    "    "
   ]
  },
  {
   "cell_type": "markdown",
   "metadata": {},
   "source": [
    "###### Most popular verbs"
   ]
  },
  {
   "cell_type": "code",
   "execution_count": 28,
   "metadata": {},
   "outputs": [],
   "source": [
    "upos_stats_verb <- subset(docs.udp.lem.unq, upos == \"VERB\")"
   ]
  },
  {
   "cell_type": "code",
   "execution_count": 29,
   "metadata": {},
   "outputs": [],
   "source": [
    "upos_stats_verb <- txt_freq(upos_stats_verb$lemma, order = TRUE)\n",
    "upos_stats_verb$key <- factor(upos_stats_verb$key, levels = (upos_stats_verb$key))"
   ]
  },
  {
   "cell_type": "code",
   "execution_count": 148,
   "metadata": {
    "collapsed": true
   },
   "outputs": [
    {
     "data": {
      "text/html": [
       "<table>\n",
       "<thead><tr><th scope=col>key</th><th scope=col>freq</th><th scope=col>freq_pct</th></tr></thead>\n",
       "<tbody>\n",
       "\t<tr><td>happen  </td><td>3762    </td><td>3.752806</td></tr>\n",
       "\t<tr><td>watch   </td><td>2748    </td><td>2.741284</td></tr>\n",
       "\t<tr><td>go      </td><td>2669    </td><td>2.662477</td></tr>\n",
       "\t<tr><td>think   </td><td>2468    </td><td>2.461968</td></tr>\n",
       "\t<tr><td>look    </td><td>2327    </td><td>2.321313</td></tr>\n",
       "\t<tr><td>get     </td><td>2163    </td><td>2.157714</td></tr>\n",
       "\t<tr><td>need    </td><td>2108    </td><td>2.102848</td></tr>\n",
       "\t<tr><td>see     </td><td>1996    </td><td>1.991122</td></tr>\n",
       "\t<tr><td>know    </td><td>1902    </td><td>1.897351</td></tr>\n",
       "\t<tr><td>want    </td><td>1623    </td><td>1.619033</td></tr>\n",
       "\t<tr><td>say     </td><td>1530    </td><td>1.526261</td></tr>\n",
       "\t<tr><td>let     </td><td>1399    </td><td>1.395581</td></tr>\n",
       "\t<tr><td>ao      </td><td>1371    </td><td>1.367649</td></tr>\n",
       "\t<tr><td>cop     </td><td>1301    </td><td>1.297820</td></tr>\n",
       "\t<tr><td>thank   </td><td>1252    </td><td>1.248940</td></tr>\n",
       "\t<tr><td>read    </td><td>1123    </td><td>1.120255</td></tr>\n",
       "\t<tr><td>follow  </td><td>1114    </td><td>1.111277</td></tr>\n",
       "\t<tr><td>pray    </td><td>1113    </td><td>1.110280</td></tr>\n",
       "\t<tr><td>feel    </td><td>1079    </td><td>1.076363</td></tr>\n",
       "\t<tr><td>st      </td><td>1008    </td><td>1.005536</td></tr>\n",
       "</tbody>\n",
       "</table>\n"
      ],
      "text/latex": [
       "\\begin{tabular}{r|lll}\n",
       " key & freq & freq\\_pct\\\\\n",
       "\\hline\n",
       "\t happen   & 3762     & 3.752806\\\\\n",
       "\t watch    & 2748     & 2.741284\\\\\n",
       "\t go       & 2669     & 2.662477\\\\\n",
       "\t think    & 2468     & 2.461968\\\\\n",
       "\t look     & 2327     & 2.321313\\\\\n",
       "\t get      & 2163     & 2.157714\\\\\n",
       "\t need     & 2108     & 2.102848\\\\\n",
       "\t see      & 1996     & 1.991122\\\\\n",
       "\t know     & 1902     & 1.897351\\\\\n",
       "\t want     & 1623     & 1.619033\\\\\n",
       "\t say      & 1530     & 1.526261\\\\\n",
       "\t let      & 1399     & 1.395581\\\\\n",
       "\t ao       & 1371     & 1.367649\\\\\n",
       "\t cop      & 1301     & 1.297820\\\\\n",
       "\t thank    & 1252     & 1.248940\\\\\n",
       "\t read     & 1123     & 1.120255\\\\\n",
       "\t follow   & 1114     & 1.111277\\\\\n",
       "\t pray     & 1113     & 1.110280\\\\\n",
       "\t feel     & 1079     & 1.076363\\\\\n",
       "\t st       & 1008     & 1.005536\\\\\n",
       "\\end{tabular}\n"
      ],
      "text/markdown": [
       "\n",
       "key | freq | freq_pct | \n",
       "|---|---|---|---|---|---|---|---|---|---|---|---|---|---|---|---|---|---|---|---|\n",
       "| happen   | 3762     | 3.752806 | \n",
       "| watch    | 2748     | 2.741284 | \n",
       "| go       | 2669     | 2.662477 | \n",
       "| think    | 2468     | 2.461968 | \n",
       "| look     | 2327     | 2.321313 | \n",
       "| get      | 2163     | 2.157714 | \n",
       "| need     | 2108     | 2.102848 | \n",
       "| see      | 1996     | 1.991122 | \n",
       "| know     | 1902     | 1.897351 | \n",
       "| want     | 1623     | 1.619033 | \n",
       "| say      | 1530     | 1.526261 | \n",
       "| let      | 1399     | 1.395581 | \n",
       "| ao       | 1371     | 1.367649 | \n",
       "| cop      | 1301     | 1.297820 | \n",
       "| thank    | 1252     | 1.248940 | \n",
       "| read     | 1123     | 1.120255 | \n",
       "| follow   | 1114     | 1.111277 | \n",
       "| pray     | 1113     | 1.110280 | \n",
       "| feel     | 1079     | 1.076363 | \n",
       "| st       | 1008     | 1.005536 | \n",
       "\n",
       "\n"
      ],
      "text/plain": [
       "   key    freq freq_pct\n",
       "1  happen 3762 3.752806\n",
       "2  watch  2748 2.741284\n",
       "3  go     2669 2.662477\n",
       "4  think  2468 2.461968\n",
       "5  look   2327 2.321313\n",
       "6  get    2163 2.157714\n",
       "7  need   2108 2.102848\n",
       "8  see    1996 1.991122\n",
       "9  know   1902 1.897351\n",
       "10 want   1623 1.619033\n",
       "11 say    1530 1.526261\n",
       "12 let    1399 1.395581\n",
       "13 ao     1371 1.367649\n",
       "14 cop    1301 1.297820\n",
       "15 thank  1252 1.248940\n",
       "16 read   1123 1.120255\n",
       "17 follow 1114 1.111277\n",
       "18 pray   1113 1.110280\n",
       "19 feel   1079 1.076363\n",
       "20 st     1008 1.005536"
      ]
     },
     "metadata": {},
     "output_type": "display_data"
    }
   ],
   "source": [
    "head(upos_stats_verb, 20)"
   ]
  },
  {
   "cell_type": "code",
   "execution_count": 30,
   "metadata": {
    "collapsed": true
   },
   "outputs": [
    {
     "data": {},
     "metadata": {},
     "output_type": "display_data"
    },
    {
     "data": {
      "image/png": "[encoded data removed]",
      "text/plain": [
       "plot without title"
      ]
     },
     "metadata": {},
     "output_type": "display_data"
    }
   ],
   "source": [
    "ggplot(aes(x = key, y = freq_pct), data = head(subset(upos_stats_verb, \n",
    "                                                      !(key %in% c(\"police\", \"shit\", \"fucking\", \"fuck\"))), 30)) +\n",
    "    geom_bar(color = \"blue\", fill = \"blue\", stat = \"identity\") +\n",
    "     labs(title = \"Popular VERBS occuring in the first week\", x = \"word\", y = \"Frequecncy occurence(%)\") + \n",
    "    theme(axis.text.x=element_text(angle=90)) +\n",
    "    plot.format\n",
    "    "
   ]
  },
  {
   "cell_type": "markdown",
   "metadata": {},
   "source": [
    "###### Most popular verbs"
   ]
  },
  {
   "cell_type": "code",
   "execution_count": 61,
   "metadata": {},
   "outputs": [],
   "source": [
    "xpos_stats_nnp <- subset(docs.udp.lem.unq, xpos == \"NNP\")"
   ]
  },
  {
   "cell_type": "code",
   "execution_count": 62,
   "metadata": {},
   "outputs": [],
   "source": [
    "xpos_stats_nnp <- txt_freq(xpos_stats_nnp$lemma, order = TRUE)\n",
    "xpos_stats_nnp$key <- factor(xpos_stats_nnp$key, levels = (xpos_stats_nnp$key))"
   ]
  },
  {
   "cell_type": "code",
   "execution_count": 174,
   "metadata": {
    "collapsed": true
   },
   "outputs": [
    {
     "data": {
      "text/html": [
       "<table>\n",
       "<thead><tr><th scope=col>key</th><th scope=col>freq</th><th scope=col>freq_pct</th></tr></thead>\n",
       "<tbody>\n",
       "\t<tr><td>president </td><td>651       </td><td>49.3181818</td></tr>\n",
       "\t<tr><td>god       </td><td>237       </td><td>17.9545455</td></tr>\n",
       "\t<tr><td>united    </td><td>109       </td><td> 8.2575758</td></tr>\n",
       "\t<tr><td>al        </td><td> 48       </td><td> 3.6363636</td></tr>\n",
       "\t<tr><td>google    </td><td> 39       </td><td> 2.9545455</td></tr>\n",
       "\t<tr><td>governor  </td><td> 33       </td><td> 2.5000000</td></tr>\n",
       "\t<tr><td>mike      </td><td> 25       </td><td> 1.8939394</td></tr>\n",
       "\t<tr><td>uk        </td><td> 18       </td><td> 1.3636364</td></tr>\n",
       "\t<tr><td>wonder    </td><td> 15       </td><td> 1.1363636</td></tr>\n",
       "\t<tr><td>sunday    </td><td> 13       </td><td> 0.9848485</td></tr>\n",
       "\t<tr><td>thursday  </td><td> 12       </td><td> 0.9090909</td></tr>\n",
       "\t<tr><td>youtube   </td><td>  9       </td><td> 0.6818182</td></tr>\n",
       "\t<tr><td>canada    </td><td>  8       </td><td> 0.6060606</td></tr>\n",
       "\t<tr><td>america   </td><td>  8       </td><td> 0.6060606</td></tr>\n",
       "\t<tr><td>taco      </td><td>  7       </td><td> 0.5303030</td></tr>\n",
       "\t<tr><td>houston   </td><td>  6       </td><td> 0.4545455</td></tr>\n",
       "\t<tr><td>obama     </td><td>  6       </td><td> 0.4545455</td></tr>\n",
       "\t<tr><td>lo        </td><td>  5       </td><td> 0.3787879</td></tr>\n",
       "\t<tr><td>er        </td><td>  4       </td><td> 0.3030303</td></tr>\n",
       "\t<tr><td>democrat  </td><td>  3       </td><td> 0.2272727</td></tr>\n",
       "</tbody>\n",
       "</table>\n"
      ],
      "text/latex": [
       "\\begin{tabular}{r|lll}\n",
       " key & freq & freq\\_pct\\\\\n",
       "\\hline\n",
       "\t president  & 651        & 49.3181818\\\\\n",
       "\t god        & 237        & 17.9545455\\\\\n",
       "\t united     & 109        &  8.2575758\\\\\n",
       "\t al         &  48        &  3.6363636\\\\\n",
       "\t google     &  39        &  2.9545455\\\\\n",
       "\t governor   &  33        &  2.5000000\\\\\n",
       "\t mike       &  25        &  1.8939394\\\\\n",
       "\t uk         &  18        &  1.3636364\\\\\n",
       "\t wonder     &  15        &  1.1363636\\\\\n",
       "\t sunday     &  13        &  0.9848485\\\\\n",
       "\t thursday   &  12        &  0.9090909\\\\\n",
       "\t youtube    &   9        &  0.6818182\\\\\n",
       "\t canada     &   8        &  0.6060606\\\\\n",
       "\t america    &   8        &  0.6060606\\\\\n",
       "\t taco       &   7        &  0.5303030\\\\\n",
       "\t houston    &   6        &  0.4545455\\\\\n",
       "\t obama      &   6        &  0.4545455\\\\\n",
       "\t lo         &   5        &  0.3787879\\\\\n",
       "\t er         &   4        &  0.3030303\\\\\n",
       "\t democrat   &   3        &  0.2272727\\\\\n",
       "\\end{tabular}\n"
      ],
      "text/markdown": [
       "\n",
       "key | freq | freq_pct | \n",
       "|---|---|---|---|---|---|---|---|---|---|---|---|---|---|---|---|---|---|---|---|\n",
       "| president  | 651        | 49.3181818 | \n",
       "| god        | 237        | 17.9545455 | \n",
       "| united     | 109        |  8.2575758 | \n",
       "| al         |  48        |  3.6363636 | \n",
       "| google     |  39        |  2.9545455 | \n",
       "| governor   |  33        |  2.5000000 | \n",
       "| mike       |  25        |  1.8939394 | \n",
       "| uk         |  18        |  1.3636364 | \n",
       "| wonder     |  15        |  1.1363636 | \n",
       "| sunday     |  13        |  0.9848485 | \n",
       "| thursday   |  12        |  0.9090909 | \n",
       "| youtube    |   9        |  0.6818182 | \n",
       "| canada     |   8        |  0.6060606 | \n",
       "| america    |   8        |  0.6060606 | \n",
       "| taco       |   7        |  0.5303030 | \n",
       "| houston    |   6        |  0.4545455 | \n",
       "| obama      |   6        |  0.4545455 | \n",
       "| lo         |   5        |  0.3787879 | \n",
       "| er         |   4        |  0.3030303 | \n",
       "| democrat   |   3        |  0.2272727 | \n",
       "\n",
       "\n"
      ],
      "text/plain": [
       "   key       freq freq_pct  \n",
       "1  president 651  49.3181818\n",
       "2  god       237  17.9545455\n",
       "3  united    109   8.2575758\n",
       "4  al         48   3.6363636\n",
       "5  google     39   2.9545455\n",
       "6  governor   33   2.5000000\n",
       "7  mike       25   1.8939394\n",
       "8  uk         18   1.3636364\n",
       "9  wonder     15   1.1363636\n",
       "10 sunday     13   0.9848485\n",
       "11 thursday   12   0.9090909\n",
       "12 youtube     9   0.6818182\n",
       "13 canada      8   0.6060606\n",
       "14 america     8   0.6060606\n",
       "15 taco        7   0.5303030\n",
       "16 houston     6   0.4545455\n",
       "17 obama       6   0.4545455\n",
       "18 lo          5   0.3787879\n",
       "19 er          4   0.3030303\n",
       "20 democrat    3   0.2272727"
      ]
     },
     "metadata": {},
     "output_type": "display_data"
    }
   ],
   "source": [
    "head(xpos_stats_nnp, 20)"
   ]
  },
  {
   "cell_type": "code",
   "execution_count": 63,
   "metadata": {
    "scrolled": true
   },
   "outputs": [
    {
     "data": {},
     "metadata": {},
     "output_type": "display_data"
    },
    {
     "data": {
      "image/png": "[encoded data removed]",
      "text/plain": [
       "plot without title"
      ]
     },
     "metadata": {},
     "output_type": "display_data"
    }
   ],
   "source": [
    "ggplot(aes(x = key, y = freq_pct), data = head(subset(xpos_stats_nnp, \n",
    "                                                      !(key %in% c(\"police\", \"shit\", \"fucking\", \"fuck\"))), 30)) +\n",
    "    geom_bar(color = \"blue\", fill = \"blue\", stat = \"identity\") +\n",
    "     labs(title = \"Popular NNP (Named Nouns Plural) occuring in the first week\", x = \"word\", y = \"Frequecncy occurence(%)\") + \n",
    "    theme(axis.text.x=element_text(angle=90)) +\n",
    "    plot.format\n",
    "    "
   ]
  },
  {
   "cell_type": "markdown",
   "metadata": {},
   "source": [
    "Frequency of of individual words by themselves did not give much context to topics/sentiment.\n",
    "Some filtering via TFidf or BM25F is needed."
   ]
  },
  {
   "cell_type": "code",
   "execution_count": null,
   "metadata": {},
   "outputs": [],
   "source": [
    "Extract keyword bigrams and trigrams. Words occuring in the same sentence/document\n",
    "vs words following each other (bigrams etc.)\n",
    "Document and sentence not the same thing. Can use either or both. \n",
    "Sentence had higher rake values. Documents more interesting words.   \n",
    "dplyr for POS and doc, sentence etc."
   ]
  },
  {
   "cell_type": "code",
   "execution_count": 33,
   "metadata": {},
   "outputs": [],
   "source": [
    "stats_key.ngram.rake <- keywords_rake(docs.udp.lem.unq, term = \"lemma\", \n",
    "                                      group =\n",
    "                                      c(\"doc_id\",\"sentence_id\"), \n",
    "                                   relevant = \n",
    "                                      docs.udp.lem.unq$xpos %in% \n",
    "                                      c(\"NNP\", \"JJ\"), n_min = 5)\n",
    "\n",
    "#stats_key.ngram.rake$key <- factor(stats$keyword)"
   ]
  },
  {
   "cell_type": "code",
   "execution_count": 20,
   "metadata": {
    "collapsed": true
   },
   "outputs": [
    {
     "data": {
      "text/html": [
       "<table>\n",
       "<thead><tr><th scope=col>keyword</th><th scope=col>ngram</th><th scope=col>freq</th><th scope=col>rake</th></tr></thead>\n",
       "<tbody>\n",
       "\t<tr><td>abc            </td><td>1              </td><td> 15            </td><td>0              </td></tr>\n",
       "\t<tr><td>abhorrent      </td><td>1              </td><td>  6            </td><td>0              </td></tr>\n",
       "\t<tr><td>able           </td><td>1              </td><td> 29            </td><td>0              </td></tr>\n",
       "\t<tr><td>absolute       </td><td>1              </td><td> 51            </td><td>0              </td></tr>\n",
       "\t<tr><td>absurd         </td><td>1              </td><td> 27            </td><td>0              </td></tr>\n",
       "\t<tr><td>abusive        </td><td>1              </td><td>  7            </td><td>0              </td></tr>\n",
       "\t<tr><td>ac             </td><td>1              </td><td>  9            </td><td>0              </td></tr>\n",
       "\t<tr><td>acceptable     </td><td>1              </td><td> 16            </td><td>0              </td></tr>\n",
       "\t<tr><td>accurate       </td><td>1              </td><td> 25            </td><td>0              </td></tr>\n",
       "\t<tr><td>active         </td><td>1              </td><td> 32            </td><td>0              </td></tr>\n",
       "\t<tr><td>actual         </td><td>1              </td><td>140            </td><td>0              </td></tr>\n",
       "\t<tr><td>additional     </td><td>1              </td><td> 12            </td><td>0              </td></tr>\n",
       "\t<tr><td>admire         </td><td>1              </td><td> 12            </td><td>0              </td></tr>\n",
       "\t<tr><td>advocate       </td><td>1              </td><td>  6            </td><td>0              </td></tr>\n",
       "\t<tr><td>aerial         </td><td>1              </td><td> 23            </td><td>0              </td></tr>\n",
       "\t<tr><td>afraid         </td><td>1              </td><td> 51            </td><td>0              </td></tr>\n",
       "\t<tr><td>african        </td><td>1              </td><td> 61            </td><td>0              </td></tr>\n",
       "\t<tr><td>africanamerican</td><td>1              </td><td> 16            </td><td>0              </td></tr>\n",
       "\t<tr><td>ag             </td><td>1              </td><td>  9            </td><td>0              </td></tr>\n",
       "\t<tr><td>aggressive     </td><td>1              </td><td> 13            </td><td>0              </td></tr>\n",
       "</tbody>\n",
       "</table>\n"
      ],
      "text/latex": [
       "\\begin{tabular}{r|llll}\n",
       " keyword & ngram & freq & rake\\\\\n",
       "\\hline\n",
       "\t abc             & 1               &  15             & 0              \\\\\n",
       "\t abhorrent       & 1               &   6             & 0              \\\\\n",
       "\t able            & 1               &  29             & 0              \\\\\n",
       "\t absolute        & 1               &  51             & 0              \\\\\n",
       "\t absurd          & 1               &  27             & 0              \\\\\n",
       "\t abusive         & 1               &   7             & 0              \\\\\n",
       "\t ac              & 1               &   9             & 0              \\\\\n",
       "\t acceptable      & 1               &  16             & 0              \\\\\n",
       "\t accurate        & 1               &  25             & 0              \\\\\n",
       "\t active          & 1               &  32             & 0              \\\\\n",
       "\t actual          & 1               & 140             & 0              \\\\\n",
       "\t additional      & 1               &  12             & 0              \\\\\n",
       "\t admire          & 1               &  12             & 0              \\\\\n",
       "\t advocate        & 1               &   6             & 0              \\\\\n",
       "\t aerial          & 1               &  23             & 0              \\\\\n",
       "\t afraid          & 1               &  51             & 0              \\\\\n",
       "\t african         & 1               &  61             & 0              \\\\\n",
       "\t africanamerican & 1               &  16             & 0              \\\\\n",
       "\t ag              & 1               &   9             & 0              \\\\\n",
       "\t aggressive      & 1               &  13             & 0              \\\\\n",
       "\\end{tabular}\n"
      ],
      "text/markdown": [
       "\n",
       "keyword | ngram | freq | rake | \n",
       "|---|---|---|---|---|---|---|---|---|---|---|---|---|---|---|---|---|---|---|---|\n",
       "| abc             | 1               |  15             | 0               | \n",
       "| abhorrent       | 1               |   6             | 0               | \n",
       "| able            | 1               |  29             | 0               | \n",
       "| absolute        | 1               |  51             | 0               | \n",
       "| absurd          | 1               |  27             | 0               | \n",
       "| abusive         | 1               |   7             | 0               | \n",
       "| ac              | 1               |   9             | 0               | \n",
       "| acceptable      | 1               |  16             | 0               | \n",
       "| accurate        | 1               |  25             | 0               | \n",
       "| active          | 1               |  32             | 0               | \n",
       "| actual          | 1               | 140             | 0               | \n",
       "| additional      | 1               |  12             | 0               | \n",
       "| admire          | 1               |  12             | 0               | \n",
       "| advocate        | 1               |   6             | 0               | \n",
       "| aerial          | 1               |  23             | 0               | \n",
       "| afraid          | 1               |  51             | 0               | \n",
       "| african         | 1               |  61             | 0               | \n",
       "| africanamerican | 1               |  16             | 0               | \n",
       "| ag              | 1               |   9             | 0               | \n",
       "| aggressive      | 1               |  13             | 0               | \n",
       "\n",
       "\n"
      ],
      "text/plain": [
       "   keyword         ngram freq rake\n",
       "1  abc             1      15  0   \n",
       "2  abhorrent       1       6  0   \n",
       "3  able            1      29  0   \n",
       "4  absolute        1      51  0   \n",
       "5  absurd          1      27  0   \n",
       "6  abusive         1       7  0   \n",
       "7  ac              1       9  0   \n",
       "8  acceptable      1      16  0   \n",
       "9  accurate        1      25  0   \n",
       "10 active          1      32  0   \n",
       "11 actual          1     140  0   \n",
       "12 additional      1      12  0   \n",
       "13 admire          1      12  0   \n",
       "14 advocate        1       6  0   \n",
       "15 aerial          1      23  0   \n",
       "16 afraid          1      51  0   \n",
       "17 african         1      61  0   \n",
       "18 africanamerican 1      16  0   \n",
       "19 ag              1       9  0   \n",
       "20 aggressive      1      13  0   "
      ]
     },
     "metadata": {},
     "output_type": "display_data"
    }
   ],
   "source": [
    "head(stats_key.ngram.rake, 20)"
   ]
  },
  {
   "cell_type": "code",
   "execution_count": 34,
   "metadata": {},
   "outputs": [],
   "source": [
    "upos_stats <- txt_freq(docs.udp.lem.unq$upos, order = TRUE)\n",
    "upos_stats$key <- factor(upos_stats$key, levels = (upos_stats$key))"
   ]
  },
  {
   "cell_type": "code",
   "execution_count": 35,
   "metadata": {},
   "outputs": [],
   "source": [
    "docs.udp <- docs.udp %>% group_by(doc_id, paragraph_id, \n",
    "                                                  sentence_id, add = FALSE) %>%\n",
    "                                mutate(xpos_doc = str_c(xpos, collapse = \" \"),\n",
    "                                      upos_doc = str_c(upos, collapse = \" \")) %>%\n",
    "                                as.data.frame()"
   ]
  },
  {
   "cell_type": "code",
   "execution_count": 40,
   "metadata": {},
   "outputs": [],
   "source": [
    "doc.udp.upos <- keywords_collocation(docs.udp, term = \"upos\", group = c(\"doc_id\", \"paragraph_id\", \"sentence_id\"),\n",
    "ngram_max = 2, n_min = 2) "
   ]
  },
  {
   "cell_type": "code",
   "execution_count": null,
   "metadata": {},
   "outputs": [],
   "source": [
    "## Check Bigram statistics using lfmd \n",
    "## (log-frequency biased mutual dependency)"
   ]
  },
  {
   "cell_type": "code",
   "execution_count": 88,
   "metadata": {},
   "outputs": [],
   "source": [
    "doc.udp.upos.pmi <- transform(doc.udp.upos, keyword = reorder(keyword, -pmi))"
   ]
  },
  {
   "cell_type": "code",
   "execution_count": 82,
   "metadata": {
    "collapsed": true
   },
   "outputs": [
    {
     "data": {
      "text/html": [
       "<table>\n",
       "<thead><tr><th scope=col>keyword</th><th scope=col>ngram</th><th scope=col>left</th><th scope=col>right</th><th scope=col>freq</th><th scope=col>freq_left</th><th scope=col>freq_right</th><th scope=col>pmi</th><th scope=col>md</th><th scope=col>lfmd</th></tr></thead>\n",
       "<tbody>\n",
       "\t<tr><td>PROPN PROPN</td><td>2          </td><td>PROPN      </td><td>PROPN      </td><td> 4484      </td><td> 17991     </td><td> 17129     </td><td>5.783448   </td><td> -3.938000 </td><td>-13.659448 </td></tr>\n",
       "\t<tr><td>PUNCT INTJ </td><td>2          </td><td>PUNCT      </td><td>INTJ       </td><td>    7      </td><td>    30     </td><td> 16837     </td><td>5.713136   </td><td>-13.331528 </td><td>-32.376192 </td></tr>\n",
       "\t<tr><td>X X        </td><td>2          </td><td>X          </td><td>X          </td><td>14944      </td><td> 40276     </td><td> 36693     </td><td>5.258448   </td><td> -2.726293 </td><td>-10.711033 </td></tr>\n",
       "\t<tr><td>AUX PART   </td><td>2          </td><td>AUX        </td><td>PART       </td><td>44829      </td><td>124391     </td><td> 56830     </td><td>4.585276   </td><td> -1.814598 </td><td> -8.214472 </td></tr>\n",
       "\t<tr><td>PUNCT DET  </td><td>2          </td><td>PUNCT      </td><td>DET        </td><td>    3      </td><td>    30     </td><td> 16802     </td><td>4.493745   </td><td>-15.773311 </td><td>-36.040367 </td></tr>\n",
       "\t<tr><td>INTJ INTJ  </td><td>2          </td><td>INTJ       </td><td>INTJ       </td><td> 2933      </td><td> 30016     </td><td> 16837     </td><td>4.457389   </td><td> -5.876469 </td><td>-16.210326 </td></tr>\n",
       "\t<tr><td>PUNCT PRON </td><td>2          </td><td>PUNCT      </td><td>PRON       </td><td>    9      </td><td>    30     </td><td> 79246     </td><td>3.841003   </td><td>-14.841091 </td><td>-33.523185 </td></tr>\n",
       "\t<tr><td>PART VERB  </td><td>2          </td><td>PART       </td><td>VERB       </td><td>44784      </td><td> 58035     </td><td>713336     </td><td>2.033857   </td><td> -4.367466 </td><td>-10.768789 </td></tr>\n",
       "\t<tr><td>ADP DET    </td><td>2          </td><td>ADP        </td><td>DET        </td><td> 1755      </td><td>107922     </td><td> 16802     </td><td>1.873299   </td><td> -9.201464 </td><td>-20.276228 </td></tr>\n",
       "\t<tr><td>ADP PROPN  </td><td>2          </td><td>ADP        </td><td>PROPN      </td><td> 1654      </td><td>107922     </td><td> 17129     </td><td>1.759980   </td><td> -9.400296 </td><td>-20.560571 </td></tr>\n",
       "\t<tr><td>PRON AUX   </td><td>2          </td><td>PRON       </td><td>AUX        </td><td> 7590      </td><td> 90784     </td><td> 97877     </td><td>1.693070   </td><td> -7.269064 </td><td>-16.231199 </td></tr>\n",
       "\t<tr><td>SCONJ VERB </td><td>2          </td><td>SCONJ      </td><td>VERB       </td><td>13522      </td><td> 22385     </td><td>713336     </td><td>1.680573   </td><td> -6.448425 </td><td>-14.577423 </td></tr>\n",
       "\t<tr><td>INTJ PROPN </td><td>2          </td><td>INTJ       </td><td>PROPN      </td><td>  430      </td><td> 30016     </td><td> 17129     </td><td>1.662614   </td><td>-11.441212 </td><td>-24.545038 </td></tr>\n",
       "\t<tr><td>SCONJ PRON </td><td>2          </td><td>SCONJ      </td><td>PRON       </td><td> 1446      </td><td> 22385     </td><td> 79246     </td><td>1.625576   </td><td> -9.728592 </td><td>-21.082759 </td></tr>\n",
       "\t<tr><td>SCONJ PROPN</td><td>2          </td><td>SCONJ      </td><td>PROPN      </td><td>  305      </td><td> 22385     </td><td> 17129     </td><td>1.590286   </td><td>-12.009067 </td><td>-25.608421 </td></tr>\n",
       "\t<tr><td>CCONJ DET  </td><td>2          </td><td>CCONJ      </td><td>DET        </td><td>   70      </td><td>  5538     </td><td> 16802     </td><td>1.509807   </td><td>-14.212929 </td><td>-29.935665 </td></tr>\n",
       "\t<tr><td>NUM NUM    </td><td>2          </td><td>NUM        </td><td>NUM        </td><td>  596      </td><td> 29595     </td><td> 27277     </td><td>1.482724   </td><td>-11.150126 </td><td>-23.782977 </td></tr>\n",
       "\t<tr><td>SCONJ DET  </td><td>2          </td><td>SCONJ      </td><td>DET        </td><td>  269      </td><td> 22385     </td><td> 16802     </td><td>1.436891   </td><td>-12.343665 </td><td>-26.124222 </td></tr>\n",
       "\t<tr><td>ADV ADV    </td><td>2          </td><td>ADV        </td><td>ADV        </td><td>47466      </td><td>276569     </td><td>243399     </td><td>1.416382   </td><td> -4.901030 </td><td>-11.218442 </td></tr>\n",
       "\t<tr><td>INTJ VERB  </td><td>2          </td><td>INTJ       </td><td>VERB       </td><td>13826      </td><td> 30016     </td><td>713336     </td><td>1.289449   </td><td> -6.807474 </td><td>-14.904397 </td></tr>\n",
       "</tbody>\n",
       "</table>\n"
      ],
      "text/latex": [
       "\\begin{tabular}{r|llllllllll}\n",
       " keyword & ngram & left & right & freq & freq\\_left & freq\\_right & pmi & md & lfmd\\\\\n",
       "\\hline\n",
       "\t PROPN PROPN & 2           & PROPN       & PROPN       &  4484       &  17991      &  17129      & 5.783448    &  -3.938000  & -13.659448 \\\\\n",
       "\t PUNCT INTJ  & 2           & PUNCT       & INTJ        &     7       &     30      &  16837      & 5.713136    & -13.331528  & -32.376192 \\\\\n",
       "\t X X         & 2           & X           & X           & 14944       &  40276      &  36693      & 5.258448    &  -2.726293  & -10.711033 \\\\\n",
       "\t AUX PART    & 2           & AUX         & PART        & 44829       & 124391      &  56830      & 4.585276    &  -1.814598  &  -8.214472 \\\\\n",
       "\t PUNCT DET   & 2           & PUNCT       & DET         &     3       &     30      &  16802      & 4.493745    & -15.773311  & -36.040367 \\\\\n",
       "\t INTJ INTJ   & 2           & INTJ        & INTJ        &  2933       &  30016      &  16837      & 4.457389    &  -5.876469  & -16.210326 \\\\\n",
       "\t PUNCT PRON  & 2           & PUNCT       & PRON        &     9       &     30      &  79246      & 3.841003    & -14.841091  & -33.523185 \\\\\n",
       "\t PART VERB   & 2           & PART        & VERB        & 44784       &  58035      & 713336      & 2.033857    &  -4.367466  & -10.768789 \\\\\n",
       "\t ADP DET     & 2           & ADP         & DET         &  1755       & 107922      &  16802      & 1.873299    &  -9.201464  & -20.276228 \\\\\n",
       "\t ADP PROPN   & 2           & ADP         & PROPN       &  1654       & 107922      &  17129      & 1.759980    &  -9.400296  & -20.560571 \\\\\n",
       "\t PRON AUX    & 2           & PRON        & AUX         &  7590       &  90784      &  97877      & 1.693070    &  -7.269064  & -16.231199 \\\\\n",
       "\t SCONJ VERB  & 2           & SCONJ       & VERB        & 13522       &  22385      & 713336      & 1.680573    &  -6.448425  & -14.577423 \\\\\n",
       "\t INTJ PROPN  & 2           & INTJ        & PROPN       &   430       &  30016      &  17129      & 1.662614    & -11.441212  & -24.545038 \\\\\n",
       "\t SCONJ PRON  & 2           & SCONJ       & PRON        &  1446       &  22385      &  79246      & 1.625576    &  -9.728592  & -21.082759 \\\\\n",
       "\t SCONJ PROPN & 2           & SCONJ       & PROPN       &   305       &  22385      &  17129      & 1.590286    & -12.009067  & -25.608421 \\\\\n",
       "\t CCONJ DET   & 2           & CCONJ       & DET         &    70       &   5538      &  16802      & 1.509807    & -14.212929  & -29.935665 \\\\\n",
       "\t NUM NUM     & 2           & NUM         & NUM         &   596       &  29595      &  27277      & 1.482724    & -11.150126  & -23.782977 \\\\\n",
       "\t SCONJ DET   & 2           & SCONJ       & DET         &   269       &  22385      &  16802      & 1.436891    & -12.343665  & -26.124222 \\\\\n",
       "\t ADV ADV     & 2           & ADV         & ADV         & 47466       & 276569      & 243399      & 1.416382    &  -4.901030  & -11.218442 \\\\\n",
       "\t INTJ VERB   & 2           & INTJ        & VERB        & 13826       &  30016      & 713336      & 1.289449    &  -6.807474  & -14.904397 \\\\\n",
       "\\end{tabular}\n"
      ],
      "text/markdown": [
       "\n",
       "keyword | ngram | left | right | freq | freq_left | freq_right | pmi | md | lfmd | \n",
       "|---|---|---|---|---|---|---|---|---|---|---|---|---|---|---|---|---|---|---|---|\n",
       "| PROPN PROPN | 2           | PROPN       | PROPN       |  4484       |  17991      |  17129      | 5.783448    |  -3.938000  | -13.659448  | \n",
       "| PUNCT INTJ  | 2           | PUNCT       | INTJ        |     7       |     30      |  16837      | 5.713136    | -13.331528  | -32.376192  | \n",
       "| X X         | 2           | X           | X           | 14944       |  40276      |  36693      | 5.258448    |  -2.726293  | -10.711033  | \n",
       "| AUX PART    | 2           | AUX         | PART        | 44829       | 124391      |  56830      | 4.585276    |  -1.814598  |  -8.214472  | \n",
       "| PUNCT DET   | 2           | PUNCT       | DET         |     3       |     30      |  16802      | 4.493745    | -15.773311  | -36.040367  | \n",
       "| INTJ INTJ   | 2           | INTJ        | INTJ        |  2933       |  30016      |  16837      | 4.457389    |  -5.876469  | -16.210326  | \n",
       "| PUNCT PRON  | 2           | PUNCT       | PRON        |     9       |     30      |  79246      | 3.841003    | -14.841091  | -33.523185  | \n",
       "| PART VERB   | 2           | PART        | VERB        | 44784       |  58035      | 713336      | 2.033857    |  -4.367466  | -10.768789  | \n",
       "| ADP DET     | 2           | ADP         | DET         |  1755       | 107922      |  16802      | 1.873299    |  -9.201464  | -20.276228  | \n",
       "| ADP PROPN   | 2           | ADP         | PROPN       |  1654       | 107922      |  17129      | 1.759980    |  -9.400296  | -20.560571  | \n",
       "| PRON AUX    | 2           | PRON        | AUX         |  7590       |  90784      |  97877      | 1.693070    |  -7.269064  | -16.231199  | \n",
       "| SCONJ VERB  | 2           | SCONJ       | VERB        | 13522       |  22385      | 713336      | 1.680573    |  -6.448425  | -14.577423  | \n",
       "| INTJ PROPN  | 2           | INTJ        | PROPN       |   430       |  30016      |  17129      | 1.662614    | -11.441212  | -24.545038  | \n",
       "| SCONJ PRON  | 2           | SCONJ       | PRON        |  1446       |  22385      |  79246      | 1.625576    |  -9.728592  | -21.082759  | \n",
       "| SCONJ PROPN | 2           | SCONJ       | PROPN       |   305       |  22385      |  17129      | 1.590286    | -12.009067  | -25.608421  | \n",
       "| CCONJ DET   | 2           | CCONJ       | DET         |    70       |   5538      |  16802      | 1.509807    | -14.212929  | -29.935665  | \n",
       "| NUM NUM     | 2           | NUM         | NUM         |   596       |  29595      |  27277      | 1.482724    | -11.150126  | -23.782977  | \n",
       "| SCONJ DET   | 2           | SCONJ       | DET         |   269       |  22385      |  16802      | 1.436891    | -12.343665  | -26.124222  | \n",
       "| ADV ADV     | 2           | ADV         | ADV         | 47466       | 276569      | 243399      | 1.416382    |  -4.901030  | -11.218442  | \n",
       "| INTJ VERB   | 2           | INTJ        | VERB        | 13826       |  30016      | 713336      | 1.289449    |  -6.807474  | -14.904397  | \n",
       "\n",
       "\n"
      ],
      "text/plain": [
       "   keyword     ngram left  right freq  freq_left freq_right pmi      md        \n",
       "1  PROPN PROPN 2     PROPN PROPN  4484  17991     17129     5.783448  -3.938000\n",
       "2  PUNCT INTJ  2     PUNCT INTJ      7     30     16837     5.713136 -13.331528\n",
       "3  X X         2     X     X     14944  40276     36693     5.258448  -2.726293\n",
       "4  AUX PART    2     AUX   PART  44829 124391     56830     4.585276  -1.814598\n",
       "5  PUNCT DET   2     PUNCT DET       3     30     16802     4.493745 -15.773311\n",
       "6  INTJ INTJ   2     INTJ  INTJ   2933  30016     16837     4.457389  -5.876469\n",
       "7  PUNCT PRON  2     PUNCT PRON      9     30     79246     3.841003 -14.841091\n",
       "8  PART VERB   2     PART  VERB  44784  58035    713336     2.033857  -4.367466\n",
       "9  ADP DET     2     ADP   DET    1755 107922     16802     1.873299  -9.201464\n",
       "10 ADP PROPN   2     ADP   PROPN  1654 107922     17129     1.759980  -9.400296\n",
       "11 PRON AUX    2     PRON  AUX    7590  90784     97877     1.693070  -7.269064\n",
       "12 SCONJ VERB  2     SCONJ VERB  13522  22385    713336     1.680573  -6.448425\n",
       "13 INTJ PROPN  2     INTJ  PROPN   430  30016     17129     1.662614 -11.441212\n",
       "14 SCONJ PRON  2     SCONJ PRON   1446  22385     79246     1.625576  -9.728592\n",
       "15 SCONJ PROPN 2     SCONJ PROPN   305  22385     17129     1.590286 -12.009067\n",
       "16 CCONJ DET   2     CCONJ DET      70   5538     16802     1.509807 -14.212929\n",
       "17 NUM NUM     2     NUM   NUM     596  29595     27277     1.482724 -11.150126\n",
       "18 SCONJ DET   2     SCONJ DET     269  22385     16802     1.436891 -12.343665\n",
       "19 ADV ADV     2     ADV   ADV   47466 276569    243399     1.416382  -4.901030\n",
       "20 INTJ VERB   2     INTJ  VERB  13826  30016    713336     1.289449  -6.807474\n",
       "   lfmd      \n",
       "1  -13.659448\n",
       "2  -32.376192\n",
       "3  -10.711033\n",
       "4   -8.214472\n",
       "5  -36.040367\n",
       "6  -16.210326\n",
       "7  -33.523185\n",
       "8  -10.768789\n",
       "9  -20.276228\n",
       "10 -20.560571\n",
       "11 -16.231199\n",
       "12 -14.577423\n",
       "13 -24.545038\n",
       "14 -21.082759\n",
       "15 -25.608421\n",
       "16 -29.935665\n",
       "17 -23.782977\n",
       "18 -26.124222\n",
       "19 -11.218442\n",
       "20 -14.904397"
      ]
     },
     "metadata": {},
     "output_type": "display_data"
    }
   ],
   "source": [
    "head(doc.udp.upos.pmi, 20)"
   ]
  },
  {
   "cell_type": "code",
   "execution_count": 91,
   "metadata": {
    "collapsed": true
   },
   "outputs": [
    {
     "data": {},
     "metadata": {},
     "output_type": "display_data"
    },
    {
     "data": {
      "image/png": "[encoded data removed]",
      "text/plain": [
       "plot without title"
      ]
     },
     "metadata": {},
     "output_type": "display_data"
    }
   ],
   "source": [
    "ggplot(aes(x = keyword, y = pmi), data = head(subset(doc.udp.upos.pmi, \n",
    "                                                      keyword != \"X X\"), 30)) +\n",
    "    geom_bar(color = \"blue\", fill = \"blue\", stat = \"identity\") +\n",
    "     labs(title = \"Proper Noun bigrams are the\\n most popular POS based on pmi\", x = \"word\", \n",
    "          y = \"Frequecncy occurence(%)\") + \n",
    "    theme(axis.text.x=element_text(angle=90)) +\n",
    "    plot.format"
   ]
  },
  {
   "cell_type": "code",
   "execution_count": 69,
   "metadata": {},
   "outputs": [],
   "source": [
    "doc.udp.words <- keywords_collocation(docs.udp.lem, term = \"lemma\", group = c(\"doc_id\"),\n",
    "ngram_max = 2, n_min = 2) "
   ]
  },
  {
   "cell_type": "code",
   "execution_count": 13,
   "metadata": {
    "collapsed": true
   },
   "outputs": [
    {
     "ename": "ERROR",
     "evalue": "Error in eval(lhs, parent, parent): object 'doc.udp.words' not found\n",
     "output_type": "error",
     "traceback": [
      "Error in eval(lhs, parent, parent): object 'doc.udp.words' not found\nTraceback:\n",
      "1. doc.udp.words %>% arrange(desc(lfmd))",
      "2. eval(lhs, parent, parent)",
      "3. eval(lhs, parent, parent)"
     ]
    }
   ],
   "source": [
    "doc.udp.words.pmi <- doc.udp.words %>% arrange(desc(pmi))"
   ]
  },
  {
   "cell_type": "code",
   "execution_count": 92,
   "metadata": {},
   "outputs": [],
   "source": [
    "doc.udp.words.pmi <- transform(doc.udp.words, keyword = reorder(keyword, -pmi))"
   ]
  },
  {
   "cell_type": "code",
   "execution_count": 93,
   "metadata": {
    "collapsed": true
   },
   "outputs": [
    {
     "data": {
      "text/html": [
       "<table>\n",
       "<thead><tr><th scope=col>keyword</th><th scope=col>ngram</th><th scope=col>left</th><th scope=col>right</th><th scope=col>freq</th><th scope=col>freq_left</th><th scope=col>freq_right</th><th scope=col>pmi</th><th scope=col>md</th><th scope=col>lfmd</th></tr></thead>\n",
       "<tbody>\n",
       "\t<tr><td>debo adegbile                 </td><td>2                             </td><td>debo                          </td><td>adegbile                      </td><td>3                             </td><td>3                             </td><td>3                             </td><td>20.2047                       </td><td>0                             </td><td>-20.2047                      </td></tr>\n",
       "\t<tr><td>antipoorleadership antiasshole</td><td>2                             </td><td>antipoorleadership            </td><td>antiasshole                   </td><td>3                             </td><td>3                             </td><td>3                             </td><td>20.2047                       </td><td>0                             </td><td>-20.2047                      </td></tr>\n",
       "\t<tr><td>kum bah                       </td><td>2                             </td><td>kum                           </td><td>bah                           </td><td>3                             </td><td>3                             </td><td>3                             </td><td>20.2047                       </td><td>0                             </td><td>-20.2047                      </td></tr>\n",
       "\t<tr><td>zac champommier               </td><td>2                             </td><td>zac                           </td><td>champommier                   </td><td>3                             </td><td>3                             </td><td>3                             </td><td>20.2047                       </td><td>0                             </td><td>-20.2047                      </td></tr>\n",
       "\t<tr><td>boicott citgo                 </td><td>2                             </td><td>boicott                       </td><td>citgo                         </td><td>3                             </td><td>3                             </td><td>3                             </td><td>20.2047                       </td><td>0                             </td><td>-20.2047                      </td></tr>\n",
       "\t<tr><td>raison detre                  </td><td>2                             </td><td>raison                        </td><td>detre                         </td><td>3                             </td><td>3                             </td><td>3                             </td><td>20.2047                       </td><td>0                             </td><td>-20.2047                      </td></tr>\n",
       "\t<tr><td>barackus ebolus               </td><td>2                             </td><td>barackus                      </td><td>ebolus                        </td><td>3                             </td><td>3                             </td><td>3                             </td><td>20.2047                       </td><td>0                             </td><td>-20.2047                      </td></tr>\n",
       "\t<tr><td>dora explorer                 </td><td>2                             </td><td>dora                          </td><td>explorer                      </td><td>3                             </td><td>3                             </td><td>3                             </td><td>20.2047                       </td><td>0                             </td><td>-20.2047                      </td></tr>\n",
       "\t<tr><td>mildred gaddi                 </td><td>2                             </td><td>mildred                       </td><td>gaddi                         </td><td>3                             </td><td>3                             </td><td>3                             </td><td>20.2047                       </td><td>0                             </td><td>-20.2047                      </td></tr>\n",
       "\t<tr><td>zipsgirl henribakn            </td><td>2                             </td><td>zipsgirl                      </td><td>henribakn                     </td><td>3                             </td><td>3                             </td><td>3                             </td><td>20.2047                       </td><td>0                             </td><td>-20.2047                      </td></tr>\n",
       "\t<tr><td>eme ikwuador                  </td><td>2                             </td><td>eme                           </td><td>ikwuador                      </td><td>3                             </td><td>3                             </td><td>3                             </td><td>20.2047                       </td><td>0                             </td><td>-20.2047                      </td></tr>\n",
       "\t<tr><td>incurious justifyanything     </td><td>2                             </td><td>incurious                     </td><td>justifyanything               </td><td>3                             </td><td>3                             </td><td>3                             </td><td>20.2047                       </td><td>0                             </td><td>-20.2047                      </td></tr>\n",
       "\t<tr><td>downuse lradpierce            </td><td>2                             </td><td>downuse                       </td><td>lradpierce                    </td><td>3                             </td><td>3                             </td><td>3                             </td><td>20.2047                       </td><td>0                             </td><td>-20.2047                      </td></tr>\n",
       "\t<tr><td>ssgt ltredactedgt             </td><td>2                             </td><td>ssgt                          </td><td>ltredactedgt                  </td><td>3                             </td><td>3                             </td><td>3                             </td><td>20.2047                       </td><td>0                             </td><td>-20.2047                      </td></tr>\n",
       "\t<tr><td>daay mihrak                   </td><td>2                             </td><td>daay                          </td><td>mihrak                        </td><td>3                             </td><td>3                             </td><td>3                             </td><td>20.2047                       </td><td>0                             </td><td>-20.2047                      </td></tr>\n",
       "\t<tr><td>tunde olaniran                </td><td>2                             </td><td>tunde                         </td><td>olaniran                      </td><td>3                             </td><td>3                             </td><td>3                             </td><td>20.2047                       </td><td>0                             </td><td>-20.2047                      </td></tr>\n",
       "\t<tr><td>aiaiaitag peopleaiaiaiso      </td><td>2                             </td><td>aiaiaitag                     </td><td>peopleaiaiaiso                </td><td>3                             </td><td>3                             </td><td>3                             </td><td>20.2047                       </td><td>0                             </td><td>-20.2047                      </td></tr>\n",
       "\t<tr><td>aday rageat                   </td><td>2                             </td><td>aday                          </td><td>rageat                        </td><td>3                             </td><td>3                             </td><td>3                             </td><td>20.2047                       </td><td>0                             </td><td>-20.2047                      </td></tr>\n",
       "\t<tr><td>acontinue riotat              </td><td>2                             </td><td>acontinue                     </td><td>riotat                        </td><td>3                             </td><td>3                             </td><td>3                             </td><td>20.2047                       </td><td>0                             </td><td>-20.2047                      </td></tr>\n",
       "\t<tr><td>jonnies roccsz                </td><td>2                             </td><td>jonnies                       </td><td>roccsz                        </td><td>3                             </td><td>3                             </td><td>3                             </td><td>20.2047                       </td><td>0                             </td><td>-20.2047                      </td></tr>\n",
       "</tbody>\n",
       "</table>\n"
      ],
      "text/latex": [
       "\\begin{tabular}{r|llllllllll}\n",
       " keyword & ngram & left & right & freq & freq\\_left & freq\\_right & pmi & md & lfmd\\\\\n",
       "\\hline\n",
       "\t debo adegbile                  & 2                              & debo                           & adegbile                       & 3                              & 3                              & 3                              & 20.2047                        & 0                              & -20.2047                      \\\\\n",
       "\t antipoorleadership antiasshole & 2                              & antipoorleadership             & antiasshole                    & 3                              & 3                              & 3                              & 20.2047                        & 0                              & -20.2047                      \\\\\n",
       "\t kum bah                        & 2                              & kum                            & bah                            & 3                              & 3                              & 3                              & 20.2047                        & 0                              & -20.2047                      \\\\\n",
       "\t zac champommier                & 2                              & zac                            & champommier                    & 3                              & 3                              & 3                              & 20.2047                        & 0                              & -20.2047                      \\\\\n",
       "\t boicott citgo                  & 2                              & boicott                        & citgo                          & 3                              & 3                              & 3                              & 20.2047                        & 0                              & -20.2047                      \\\\\n",
       "\t raison detre                   & 2                              & raison                         & detre                          & 3                              & 3                              & 3                              & 20.2047                        & 0                              & -20.2047                      \\\\\n",
       "\t barackus ebolus                & 2                              & barackus                       & ebolus                         & 3                              & 3                              & 3                              & 20.2047                        & 0                              & -20.2047                      \\\\\n",
       "\t dora explorer                  & 2                              & dora                           & explorer                       & 3                              & 3                              & 3                              & 20.2047                        & 0                              & -20.2047                      \\\\\n",
       "\t mildred gaddi                  & 2                              & mildred                        & gaddi                          & 3                              & 3                              & 3                              & 20.2047                        & 0                              & -20.2047                      \\\\\n",
       "\t zipsgirl henribakn             & 2                              & zipsgirl                       & henribakn                      & 3                              & 3                              & 3                              & 20.2047                        & 0                              & -20.2047                      \\\\\n",
       "\t eme ikwuador                   & 2                              & eme                            & ikwuador                       & 3                              & 3                              & 3                              & 20.2047                        & 0                              & -20.2047                      \\\\\n",
       "\t incurious justifyanything      & 2                              & incurious                      & justifyanything                & 3                              & 3                              & 3                              & 20.2047                        & 0                              & -20.2047                      \\\\\n",
       "\t downuse lradpierce             & 2                              & downuse                        & lradpierce                     & 3                              & 3                              & 3                              & 20.2047                        & 0                              & -20.2047                      \\\\\n",
       "\t ssgt ltredactedgt              & 2                              & ssgt                           & ltredactedgt                   & 3                              & 3                              & 3                              & 20.2047                        & 0                              & -20.2047                      \\\\\n",
       "\t daay mihrak                    & 2                              & daay                           & mihrak                         & 3                              & 3                              & 3                              & 20.2047                        & 0                              & -20.2047                      \\\\\n",
       "\t tunde olaniran                 & 2                              & tunde                          & olaniran                       & 3                              & 3                              & 3                              & 20.2047                        & 0                              & -20.2047                      \\\\\n",
       "\t aiaiaitag peopleaiaiaiso       & 2                              & aiaiaitag                      & peopleaiaiaiso                 & 3                              & 3                              & 3                              & 20.2047                        & 0                              & -20.2047                      \\\\\n",
       "\t aday rageat                    & 2                              & aday                           & rageat                         & 3                              & 3                              & 3                              & 20.2047                        & 0                              & -20.2047                      \\\\\n",
       "\t acontinue riotat               & 2                              & acontinue                      & riotat                         & 3                              & 3                              & 3                              & 20.2047                        & 0                              & -20.2047                      \\\\\n",
       "\t jonnies roccsz                 & 2                              & jonnies                        & roccsz                         & 3                              & 3                              & 3                              & 20.2047                        & 0                              & -20.2047                      \\\\\n",
       "\\end{tabular}\n"
      ],
      "text/markdown": [
       "\n",
       "keyword | ngram | left | right | freq | freq_left | freq_right | pmi | md | lfmd | \n",
       "|---|---|---|---|---|---|---|---|---|---|---|---|---|---|---|---|---|---|---|---|\n",
       "| debo adegbile                  | 2                              | debo                           | adegbile                       | 3                              | 3                              | 3                              | 20.2047                        | 0                              | -20.2047                       | \n",
       "| antipoorleadership antiasshole | 2                              | antipoorleadership             | antiasshole                    | 3                              | 3                              | 3                              | 20.2047                        | 0                              | -20.2047                       | \n",
       "| kum bah                        | 2                              | kum                            | bah                            | 3                              | 3                              | 3                              | 20.2047                        | 0                              | -20.2047                       | \n",
       "| zac champommier                | 2                              | zac                            | champommier                    | 3                              | 3                              | 3                              | 20.2047                        | 0                              | -20.2047                       | \n",
       "| boicott citgo                  | 2                              | boicott                        | citgo                          | 3                              | 3                              | 3                              | 20.2047                        | 0                              | -20.2047                       | \n",
       "| raison detre                   | 2                              | raison                         | detre                          | 3                              | 3                              | 3                              | 20.2047                        | 0                              | -20.2047                       | \n",
       "| barackus ebolus                | 2                              | barackus                       | ebolus                         | 3                              | 3                              | 3                              | 20.2047                        | 0                              | -20.2047                       | \n",
       "| dora explorer                  | 2                              | dora                           | explorer                       | 3                              | 3                              | 3                              | 20.2047                        | 0                              | -20.2047                       | \n",
       "| mildred gaddi                  | 2                              | mildred                        | gaddi                          | 3                              | 3                              | 3                              | 20.2047                        | 0                              | -20.2047                       | \n",
       "| zipsgirl henribakn             | 2                              | zipsgirl                       | henribakn                      | 3                              | 3                              | 3                              | 20.2047                        | 0                              | -20.2047                       | \n",
       "| eme ikwuador                   | 2                              | eme                            | ikwuador                       | 3                              | 3                              | 3                              | 20.2047                        | 0                              | -20.2047                       | \n",
       "| incurious justifyanything      | 2                              | incurious                      | justifyanything                | 3                              | 3                              | 3                              | 20.2047                        | 0                              | -20.2047                       | \n",
       "| downuse lradpierce             | 2                              | downuse                        | lradpierce                     | 3                              | 3                              | 3                              | 20.2047                        | 0                              | -20.2047                       | \n",
       "| ssgt ltredactedgt              | 2                              | ssgt                           | ltredactedgt                   | 3                              | 3                              | 3                              | 20.2047                        | 0                              | -20.2047                       | \n",
       "| daay mihrak                    | 2                              | daay                           | mihrak                         | 3                              | 3                              | 3                              | 20.2047                        | 0                              | -20.2047                       | \n",
       "| tunde olaniran                 | 2                              | tunde                          | olaniran                       | 3                              | 3                              | 3                              | 20.2047                        | 0                              | -20.2047                       | \n",
       "| aiaiaitag peopleaiaiaiso       | 2                              | aiaiaitag                      | peopleaiaiaiso                 | 3                              | 3                              | 3                              | 20.2047                        | 0                              | -20.2047                       | \n",
       "| aday rageat                    | 2                              | aday                           | rageat                         | 3                              | 3                              | 3                              | 20.2047                        | 0                              | -20.2047                       | \n",
       "| acontinue riotat               | 2                              | acontinue                      | riotat                         | 3                              | 3                              | 3                              | 20.2047                        | 0                              | -20.2047                       | \n",
       "| jonnies roccsz                 | 2                              | jonnies                        | roccsz                         | 3                              | 3                              | 3                              | 20.2047                        | 0                              | -20.2047                       | \n",
       "\n",
       "\n"
      ],
      "text/plain": [
       "   keyword                        ngram left               right           freq\n",
       "1  debo adegbile                  2     debo               adegbile        3   \n",
       "2  antipoorleadership antiasshole 2     antipoorleadership antiasshole     3   \n",
       "3  kum bah                        2     kum                bah             3   \n",
       "4  zac champommier                2     zac                champommier     3   \n",
       "5  boicott citgo                  2     boicott            citgo           3   \n",
       "6  raison detre                   2     raison             detre           3   \n",
       "7  barackus ebolus                2     barackus           ebolus          3   \n",
       "8  dora explorer                  2     dora               explorer        3   \n",
       "9  mildred gaddi                  2     mildred            gaddi           3   \n",
       "10 zipsgirl henribakn             2     zipsgirl           henribakn       3   \n",
       "11 eme ikwuador                   2     eme                ikwuador        3   \n",
       "12 incurious justifyanything      2     incurious          justifyanything 3   \n",
       "13 downuse lradpierce             2     downuse            lradpierce      3   \n",
       "14 ssgt ltredactedgt              2     ssgt               ltredactedgt    3   \n",
       "15 daay mihrak                    2     daay               mihrak          3   \n",
       "16 tunde olaniran                 2     tunde              olaniran        3   \n",
       "17 aiaiaitag peopleaiaiaiso       2     aiaiaitag          peopleaiaiaiso  3   \n",
       "18 aday rageat                    2     aday               rageat          3   \n",
       "19 acontinue riotat               2     acontinue          riotat          3   \n",
       "20 jonnies roccsz                 2     jonnies            roccsz          3   \n",
       "   freq_left freq_right pmi     md lfmd    \n",
       "1  3         3          20.2047 0  -20.2047\n",
       "2  3         3          20.2047 0  -20.2047\n",
       "3  3         3          20.2047 0  -20.2047\n",
       "4  3         3          20.2047 0  -20.2047\n",
       "5  3         3          20.2047 0  -20.2047\n",
       "6  3         3          20.2047 0  -20.2047\n",
       "7  3         3          20.2047 0  -20.2047\n",
       "8  3         3          20.2047 0  -20.2047\n",
       "9  3         3          20.2047 0  -20.2047\n",
       "10 3         3          20.2047 0  -20.2047\n",
       "11 3         3          20.2047 0  -20.2047\n",
       "12 3         3          20.2047 0  -20.2047\n",
       "13 3         3          20.2047 0  -20.2047\n",
       "14 3         3          20.2047 0  -20.2047\n",
       "15 3         3          20.2047 0  -20.2047\n",
       "16 3         3          20.2047 0  -20.2047\n",
       "17 3         3          20.2047 0  -20.2047\n",
       "18 3         3          20.2047 0  -20.2047\n",
       "19 3         3          20.2047 0  -20.2047\n",
       "20 3         3          20.2047 0  -20.2047"
      ]
     },
     "metadata": {},
     "output_type": "display_data"
    }
   ],
   "source": [
    "head(doc.udp.words.pmi, 20)"
   ]
  },
  {
   "cell_type": "code",
   "execution_count": 94,
   "metadata": {
    "collapsed": true
   },
   "outputs": [
    {
     "data": {},
     "metadata": {},
     "output_type": "display_data"
    },
    {
     "data": {
      "image/png": "[encoded data removed]",
      "text/plain": [
       "plot without title"
      ]
     },
     "metadata": {},
     "output_type": "display_data"
    }
   ],
   "source": [
    "ggplot(aes(x = keyword, y = pmi), \n",
    "       data = head(doc.udp.words.pmi, 30)) + #top_n(doc.udp.words, 20, lfmd)) +\n",
    "    geom_bar(color = \"blue\", fill = \"blue\", stat = \"identity\") +\n",
    "     labs(title = \"Top 30 bigrams using lfmd metric\", x = \"words\", \n",
    "          y = \"Log Frequency Mutual Dependence\") + \n",
    "    theme(axis.text.x=element_text(angle=90)) +\n",
    "    plot.format"
   ]
  },
  {
   "cell_type": "markdown",
   "metadata": {},
   "source": [
    "Based on the results above the corpus needs further processing to remove non-english and/or non-sensical terms"
   ]
  },
  {
   "cell_type": "code",
   "execution_count": 18,
   "metadata": {},
   "outputs": [],
   "source": [
    "docs.udp.lem.unq2 <- subset(docs.udp.lem, !duplicated(text))"
   ]
  },
  {
   "cell_type": "markdown",
   "metadata": {},
   "source": [
    "Reduce the vocab. Why? Terms such as missouri occur often and hence need to be removed based on tfidf or Okapi BM25"
   ]
  },
  {
   "cell_type": "markdown",
   "metadata": {},
   "source": [
    "#### Reduce the Vocabulary"
   ]
  },
  {
   "cell_type": "code",
   "execution_count": null,
   "metadata": {},
   "outputs": [],
   "source": [
    "### Text with numbers, punctuation, stopwords removed"
   ]
  },
  {
   "cell_type": "code",
   "execution_count": 95,
   "metadata": {},
   "outputs": [],
   "source": [
    "corpus.text <- read.csv(\"../Preprocessing/Files/Lexicon/corpus_text.csv\", stringsAsFactors = FALSE)"
   ]
  },
  {
   "cell_type": "code",
   "execution_count": 96,
   "metadata": {},
   "outputs": [],
   "source": [
    "corpus.text$X = NULL\n",
    "colnames(corpus.text) <- \"text\""
   ]
  },
  {
   "cell_type": "code",
   "execution_count": 52,
   "metadata": {
    "scrolled": true
   },
   "outputs": [
    {
     "data": {
      "text/html": [
       "438622"
      ],
      "text/latex": [
       "438622"
      ],
      "text/markdown": [
       "438622"
      ],
      "text/plain": [
       "[1] 438622"
      ]
     },
     "metadata": {},
     "output_type": "display_data"
    }
   ],
   "source": [
    "NROW(corpus.text)"
   ]
  },
  {
   "cell_type": "code",
   "execution_count": 97,
   "metadata": {},
   "outputs": [],
   "source": [
    "corpus.text.unq <- corpus.text %>% group_by(text) %>% \n",
    "                                            dplyr::summarise(n = n ()) %>%\n",
    "                                    filter(!(text == \"\" | text == \" \")) %>%\n",
    "                                    dplyr::select(-n) %>%\n",
    "                                    as.data.frame()"
   ]
  },
  {
   "cell_type": "code",
   "execution_count": 98,
   "metadata": {},
   "outputs": [
    {
     "data": {
      "text/html": [
       "<table>\n",
       "<thead><tr><th scope=col>text</th></tr></thead>\n",
       "<tbody>\n",
       "\t<tr><td> aa bo conners                                                                       </td></tr>\n",
       "\t<tr><td> aa men unarmed unarmed shouldve quicker kill james eagan holmes butno               </td></tr>\n",
       "\t<tr><td> aa police white voters havent demanded representation shit                          </td></tr>\n",
       "\t<tr><td> aaa number police department youre welcome                                          </td></tr>\n",
       "\t<tr><td> aaaaaaaaaaaaaaaaaaaaaaaaand thatll pretty much end night right good luck see morning</td></tr>\n",
       "\t<tr><td> aaaah see really tho leadership tea party state rights peeps feds scared            </td></tr>\n",
       "</tbody>\n",
       "</table>\n"
      ],
      "text/latex": [
       "\\begin{tabular}{r|l}\n",
       " text\\\\\n",
       "\\hline\n",
       "\t  aa bo conners                                                                       \\\\\n",
       "\t  aa men unarmed unarmed shouldve quicker kill james eagan holmes butno               \\\\\n",
       "\t  aa police white voters havent demanded representation shit                          \\\\\n",
       "\t  aaa number police department youre welcome                                          \\\\\n",
       "\t  aaaaaaaaaaaaaaaaaaaaaaaaand thatll pretty much end night right good luck see morning\\\\\n",
       "\t  aaaah see really tho leadership tea party state rights peeps feds scared            \\\\\n",
       "\\end{tabular}\n"
      ],
      "text/markdown": [
       "\n",
       "text | \n",
       "|---|---|---|---|---|---|\n",
       "|  aa bo conners                                                                        | \n",
       "|  aa men unarmed unarmed shouldve quicker kill james eagan holmes butno                | \n",
       "|  aa police white voters havent demanded representation shit                           | \n",
       "|  aaa number police department youre welcome                                           | \n",
       "|  aaaaaaaaaaaaaaaaaaaaaaaaand thatll pretty much end night right good luck see morning | \n",
       "|  aaaah see really tho leadership tea party state rights peeps feds scared             | \n",
       "\n",
       "\n"
      ],
      "text/plain": [
       "  text                                                                                 \n",
       "1  aa bo conners                                                                       \n",
       "2  aa men unarmed unarmed shouldve quicker kill james eagan holmes butno               \n",
       "3  aa police white voters havent demanded representation shit                          \n",
       "4  aaa number police department youre welcome                                          \n",
       "5  aaaaaaaaaaaaaaaaaaaaaaaaand thatll pretty much end night right good luck see morning\n",
       "6  aaaah see really tho leadership tea party state rights peeps feds scared            "
      ]
     },
     "metadata": {},
     "output_type": "display_data"
    }
   ],
   "source": [
    "head(corpus.text.unq)"
   ]
  },
  {
   "cell_type": "code",
   "execution_count": 99,
   "metadata": {},
   "outputs": [],
   "source": [
    "corpus.text.unq$text <- as.character(corpus.text.unq$text)"
   ]
  },
  {
   "cell_type": "code",
   "execution_count": 100,
   "metadata": {},
   "outputs": [],
   "source": [
    "corpus.text.unq$text <- gsub(\"rt\", \"\", corpus.text.unq$text)"
   ]
  },
  {
   "cell_type": "code",
   "execution_count": 101,
   "metadata": {},
   "outputs": [],
   "source": [
    "corpus.text.unq <- data.frame(text = trimws(corpus.text.unq$text, \"both\"))"
   ]
  },
  {
   "cell_type": "code",
   "execution_count": null,
   "metadata": {},
   "outputs": [],
   "source": [
    "### Placeholder to annotate the corpus based on unique text"
   ]
  },
  {
   "cell_type": "markdown",
   "metadata": {},
   "source": [
    "docs.udp.unq <- udpipe_annotate(create_udp_model, x = corpus.text.unq$text)"
   ]
  },
  {
   "cell_type": "markdown",
   "metadata": {},
   "source": [
    "docs.udp.unq <- as.data.frame(docs.udp.unq)"
   ]
  },
  {
   "cell_type": "markdown",
   "metadata": {},
   "source": [
    "write.csv(docs.udp.unq, \"C:\\\\MathLabASUS\\\\Courses\\\\Ryerson\\\\Project\\\\Data\\\\Topics\\\\docs_udp_unq.csv\")"
   ]
  },
  {
   "cell_type": "code",
   "execution_count": 102,
   "metadata": {},
   "outputs": [],
   "source": [
    "docs.udp.unq <- read.csv(\"../Preprocessing/Files/Lexicon/docs_udp_unq.csv\", stringsAsFactors = FALSE)"
   ]
  },
  {
   "cell_type": "code",
   "execution_count": 103,
   "metadata": {},
   "outputs": [],
   "source": [
    "docs.udp.unq <- docs.udp.unq %>% dplyr::rename(\"rowno\" = colnames(docs.udp.unq)[1]) %>% as.data.frame()"
   ]
  },
  {
   "cell_type": "code",
   "execution_count": 104,
   "metadata": {},
   "outputs": [],
   "source": [
    "docs.udp.lem <- docs.udp.unq %>% group_by(doc_id, paragraph_id, sentence_id) %>%\n",
    "                                mutate(text = str_c(lemma, collapse = \" \")) %>%\n",
    "                                as.data.frame()"
   ]
  },
  {
   "cell_type": "code",
   "execution_count": 105,
   "metadata": {},
   "outputs": [],
   "source": [
    "docs.udp.lem <- docs.udp.lem %>% group_by(doc_id, paragraph_id, \n",
    "                                                  sentence_id, add = FALSE) %>%\n",
    "                                mutate(xpos_doc = str_c(xpos, collapse = \" \"),\n",
    "                                      upos_doc = str_c(upos, collapse = \" \")) %>%\n",
    "                                as.data.frame()"
   ]
  },
  {
   "cell_type": "code",
   "execution_count": 15,
   "metadata": {
    "collapsed": true
   },
   "outputs": [
    {
     "data": {
      "text/html": [
       "<table>\n",
       "<thead><tr><th scope=col>rowno</th><th scope=col>rowno</th><th scope=col>doc_id</th><th scope=col>paragraph_id</th><th scope=col>sentence_id</th><th scope=col>sentence</th><th scope=col>token_id</th><th scope=col>token</th><th scope=col>lemma</th><th scope=col>upos</th><th scope=col>xpos</th><th scope=col>feats</th><th scope=col>head_token_id</th><th scope=col>dep_rel</th><th scope=col>deps</th><th scope=col>misc</th><th scope=col>text</th><th scope=col>xpos_doc</th><th scope=col>upos_doc</th></tr></thead>\n",
       "<tbody>\n",
       "\t<tr><td>1                                                                    </td><td>1                                                                    </td><td>doc1                                                                 </td><td>1                                                                    </td><td>1                                                                    </td><td>aa bo conners                                                        </td><td>1                                                                    </td><td>aa                                                                   </td><td>aa                                                                   </td><td>DET                                                                  </td><td>DT                                                                   </td><td>NA                                                                   </td><td>3                                                                    </td><td>det                                                                  </td><td>NA                                                                   </td><td>NA                                                                   </td><td>aa bo conner                                                         </td><td>DT NN NNS                                                            </td><td>DET NOUN NOUN                                                        </td></tr>\n",
       "\t<tr><td>2                                                                    </td><td>2                                                                    </td><td>doc1                                                                 </td><td>1                                                                    </td><td>1                                                                    </td><td>aa bo conners                                                        </td><td>2                                                                    </td><td>bo                                                                   </td><td>bo                                                                   </td><td>NOUN                                                                 </td><td>NN                                                                   </td><td>Number=Sing                                                          </td><td>3                                                                    </td><td>compound                                                             </td><td>NA                                                                   </td><td>NA                                                                   </td><td>aa bo conner                                                         </td><td>DT NN NNS                                                            </td><td>DET NOUN NOUN                                                        </td></tr>\n",
       "\t<tr><td>3                                                                    </td><td>3                                                                    </td><td>doc1                                                                 </td><td>1                                                                    </td><td>1                                                                    </td><td>aa bo conners                                                        </td><td>3                                                                    </td><td>conners                                                              </td><td>conner                                                               </td><td>NOUN                                                                 </td><td>NNS                                                                  </td><td>Number=Plur                                                          </td><td>0                                                                    </td><td>root                                                                 </td><td>NA                                                                   </td><td>SpacesAfter=\\n                                                      </td><td>aa bo conner                                                         </td><td>DT NN NNS                                                            </td><td>DET NOUN NOUN                                                        </td></tr>\n",
       "\t<tr><td>4                                                                    </td><td>4                                                                    </td><td>doc2                                                                 </td><td>1                                                                    </td><td>1                                                                    </td><td>aa men unarmed unarmed shouldve quicker kill james eagan holmes butno</td><td>1                                                                    </td><td>aa                                                                   </td><td>aa                                                                   </td><td>DET                                                                  </td><td>DT                                                                   </td><td>NA                                                                   </td><td>2                                                                    </td><td>det                                                                  </td><td>NA                                                                   </td><td>NA                                                                   </td><td>aa man unarmed unarmed shouldve quicker kill james eagan holme but no</td><td>DT NNS JJ JJ NN RBR VB NNS JJ NNS CC DT                              </td><td>DET NOUN ADJ ADJ NOUN ADV VERB NOUN ADJ NOUN CCONJ DET               </td></tr>\n",
       "\t<tr><td>5                                                                    </td><td>5                                                                    </td><td>doc2                                                                 </td><td>1                                                                    </td><td>1                                                                    </td><td>aa men unarmed unarmed shouldve quicker kill james eagan holmes butno</td><td>2                                                                    </td><td>men                                                                  </td><td>man                                                                  </td><td>NOUN                                                                 </td><td>NNS                                                                  </td><td>Number=Plur                                                          </td><td>7                                                                    </td><td>nsubj                                                                </td><td>NA                                                                   </td><td>NA                                                                   </td><td>aa man unarmed unarmed shouldve quicker kill james eagan holme but no</td><td>DT NNS JJ JJ NN RBR VB NNS JJ NNS CC DT                              </td><td>DET NOUN ADJ ADJ NOUN ADV VERB NOUN ADJ NOUN CCONJ DET               </td></tr>\n",
       "\t<tr><td>6                                                                    </td><td>6                                                                    </td><td>doc2                                                                 </td><td>1                                                                    </td><td>1                                                                    </td><td>aa men unarmed unarmed shouldve quicker kill james eagan holmes butno</td><td>3                                                                    </td><td>unarmed                                                              </td><td>unarmed                                                              </td><td>ADJ                                                                  </td><td>JJ                                                                   </td><td>Degree=Pos                                                           </td><td>5                                                                    </td><td>amod                                                                 </td><td>NA                                                                   </td><td>NA                                                                   </td><td>aa man unarmed unarmed shouldve quicker kill james eagan holme but no</td><td>DT NNS JJ JJ NN RBR VB NNS JJ NNS CC DT                              </td><td>DET NOUN ADJ ADJ NOUN ADV VERB NOUN ADJ NOUN CCONJ DET               </td></tr>\n",
       "</tbody>\n",
       "</table>\n"
      ],
      "text/latex": [
       "\\begin{tabular}{r|lllllllllllllllllll}\n",
       " rowno & rowno & doc\\_id & paragraph\\_id & sentence\\_id & sentence & token\\_id & token & lemma & upos & xpos & feats & head\\_token\\_id & dep\\_rel & deps & misc & text & xpos\\_doc & upos\\_doc\\\\\n",
       "\\hline\n",
       "\t 1                                                                     & 1                                                                     & doc1                                                                  & 1                                                                     & 1                                                                     & aa bo conners                                                         & 1                                                                     & aa                                                                    & aa                                                                    & DET                                                                   & DT                                                                    & NA                                                                    & 3                                                                     & det                                                                   & NA                                                                    & NA                                                                    & aa bo conner                                                          & DT NN NNS                                                             & DET NOUN NOUN                                                        \\\\\n",
       "\t 2                                                                     & 2                                                                     & doc1                                                                  & 1                                                                     & 1                                                                     & aa bo conners                                                         & 2                                                                     & bo                                                                    & bo                                                                    & NOUN                                                                  & NN                                                                    & Number=Sing                                                           & 3                                                                     & compound                                                              & NA                                                                    & NA                                                                    & aa bo conner                                                          & DT NN NNS                                                             & DET NOUN NOUN                                                        \\\\\n",
       "\t 3                                                                     & 3                                                                     & doc1                                                                  & 1                                                                     & 1                                                                     & aa bo conners                                                         & 3                                                                     & conners                                                               & conner                                                                & NOUN                                                                  & NNS                                                                   & Number=Plur                                                           & 0                                                                     & root                                                                  & NA                                                                    & SpacesAfter=\\textbackslash{}n                                        & aa bo conner                                                          & DT NN NNS                                                             & DET NOUN NOUN                                                        \\\\\n",
       "\t 4                                                                     & 4                                                                     & doc2                                                                  & 1                                                                     & 1                                                                     & aa men unarmed unarmed shouldve quicker kill james eagan holmes butno & 1                                                                     & aa                                                                    & aa                                                                    & DET                                                                   & DT                                                                    & NA                                                                    & 2                                                                     & det                                                                   & NA                                                                    & NA                                                                    & aa man unarmed unarmed shouldve quicker kill james eagan holme but no & DT NNS JJ JJ NN RBR VB NNS JJ NNS CC DT                               & DET NOUN ADJ ADJ NOUN ADV VERB NOUN ADJ NOUN CCONJ DET               \\\\\n",
       "\t 5                                                                     & 5                                                                     & doc2                                                                  & 1                                                                     & 1                                                                     & aa men unarmed unarmed shouldve quicker kill james eagan holmes butno & 2                                                                     & men                                                                   & man                                                                   & NOUN                                                                  & NNS                                                                   & Number=Plur                                                           & 7                                                                     & nsubj                                                                 & NA                                                                    & NA                                                                    & aa man unarmed unarmed shouldve quicker kill james eagan holme but no & DT NNS JJ JJ NN RBR VB NNS JJ NNS CC DT                               & DET NOUN ADJ ADJ NOUN ADV VERB NOUN ADJ NOUN CCONJ DET               \\\\\n",
       "\t 6                                                                     & 6                                                                     & doc2                                                                  & 1                                                                     & 1                                                                     & aa men unarmed unarmed shouldve quicker kill james eagan holmes butno & 3                                                                     & unarmed                                                               & unarmed                                                               & ADJ                                                                   & JJ                                                                    & Degree=Pos                                                            & 5                                                                     & amod                                                                  & NA                                                                    & NA                                                                    & aa man unarmed unarmed shouldve quicker kill james eagan holme but no & DT NNS JJ JJ NN RBR VB NNS JJ NNS CC DT                               & DET NOUN ADJ ADJ NOUN ADV VERB NOUN ADJ NOUN CCONJ DET               \\\\\n",
       "\\end{tabular}\n"
      ],
      "text/markdown": [
       "\n",
       "rowno | rowno | doc_id | paragraph_id | sentence_id | sentence | token_id | token | lemma | upos | xpos | feats | head_token_id | dep_rel | deps | misc | text | xpos_doc | upos_doc | \n",
       "|---|---|---|---|---|---|\n",
       "| 1                                                                     | 1                                                                     | doc1                                                                  | 1                                                                     | 1                                                                     | aa bo conners                                                         | 1                                                                     | aa                                                                    | aa                                                                    | DET                                                                   | DT                                                                    | NA                                                                    | 3                                                                     | det                                                                   | NA                                                                    | NA                                                                    | aa bo conner                                                          | DT NN NNS                                                             | DET NOUN NOUN                                                         | \n",
       "| 2                                                                     | 2                                                                     | doc1                                                                  | 1                                                                     | 1                                                                     | aa bo conners                                                         | 2                                                                     | bo                                                                    | bo                                                                    | NOUN                                                                  | NN                                                                    | Number=Sing                                                           | 3                                                                     | compound                                                              | NA                                                                    | NA                                                                    | aa bo conner                                                          | DT NN NNS                                                             | DET NOUN NOUN                                                         | \n",
       "| 3                                                                     | 3                                                                     | doc1                                                                  | 1                                                                     | 1                                                                     | aa bo conners                                                         | 3                                                                     | conners                                                               | conner                                                                | NOUN                                                                  | NNS                                                                   | Number=Plur                                                           | 0                                                                     | root                                                                  | NA                                                                    | SpacesAfter=\\n                                                       | aa bo conner                                                          | DT NN NNS                                                             | DET NOUN NOUN                                                         | \n",
       "| 4                                                                     | 4                                                                     | doc2                                                                  | 1                                                                     | 1                                                                     | aa men unarmed unarmed shouldve quicker kill james eagan holmes butno | 1                                                                     | aa                                                                    | aa                                                                    | DET                                                                   | DT                                                                    | NA                                                                    | 2                                                                     | det                                                                   | NA                                                                    | NA                                                                    | aa man unarmed unarmed shouldve quicker kill james eagan holme but no | DT NNS JJ JJ NN RBR VB NNS JJ NNS CC DT                               | DET NOUN ADJ ADJ NOUN ADV VERB NOUN ADJ NOUN CCONJ DET                | \n",
       "| 5                                                                     | 5                                                                     | doc2                                                                  | 1                                                                     | 1                                                                     | aa men unarmed unarmed shouldve quicker kill james eagan holmes butno | 2                                                                     | men                                                                   | man                                                                   | NOUN                                                                  | NNS                                                                   | Number=Plur                                                           | 7                                                                     | nsubj                                                                 | NA                                                                    | NA                                                                    | aa man unarmed unarmed shouldve quicker kill james eagan holme but no | DT NNS JJ JJ NN RBR VB NNS JJ NNS CC DT                               | DET NOUN ADJ ADJ NOUN ADV VERB NOUN ADJ NOUN CCONJ DET                | \n",
       "| 6                                                                     | 6                                                                     | doc2                                                                  | 1                                                                     | 1                                                                     | aa men unarmed unarmed shouldve quicker kill james eagan holmes butno | 3                                                                     | unarmed                                                               | unarmed                                                               | ADJ                                                                   | JJ                                                                    | Degree=Pos                                                            | 5                                                                     | amod                                                                  | NA                                                                    | NA                                                                    | aa man unarmed unarmed shouldve quicker kill james eagan holme but no | DT NNS JJ JJ NN RBR VB NNS JJ NNS CC DT                               | DET NOUN ADJ ADJ NOUN ADV VERB NOUN ADJ NOUN CCONJ DET                | \n",
       "\n",
       "\n"
      ],
      "text/plain": [
       "  rowno rowno doc_id paragraph_id sentence_id\n",
       "1 1     1     doc1   1            1          \n",
       "2 2     2     doc1   1            1          \n",
       "3 3     3     doc1   1            1          \n",
       "4 4     4     doc2   1            1          \n",
       "5 5     5     doc2   1            1          \n",
       "6 6     6     doc2   1            1          \n",
       "  sentence                                                             \n",
       "1 aa bo conners                                                        \n",
       "2 aa bo conners                                                        \n",
       "3 aa bo conners                                                        \n",
       "4 aa men unarmed unarmed shouldve quicker kill james eagan holmes butno\n",
       "5 aa men unarmed unarmed shouldve quicker kill james eagan holmes butno\n",
       "6 aa men unarmed unarmed shouldve quicker kill james eagan holmes butno\n",
       "  token_id token   lemma   upos xpos feats       head_token_id dep_rel  deps\n",
       "1 1        aa      aa      DET  DT   NA          3             det      NA  \n",
       "2 2        bo      bo      NOUN NN   Number=Sing 3             compound NA  \n",
       "3 3        conners conner  NOUN NNS  Number=Plur 0             root     NA  \n",
       "4 1        aa      aa      DET  DT   NA          2             det      NA  \n",
       "5 2        men     man     NOUN NNS  Number=Plur 7             nsubj    NA  \n",
       "6 3        unarmed unarmed ADJ  JJ   Degree=Pos  5             amod     NA  \n",
       "  misc           \n",
       "1 NA             \n",
       "2 NA             \n",
       "3 SpacesAfter=\\\\n\n",
       "4 NA             \n",
       "5 NA             \n",
       "6 NA             \n",
       "  text                                                                 \n",
       "1 aa bo conner                                                         \n",
       "2 aa bo conner                                                         \n",
       "3 aa bo conner                                                         \n",
       "4 aa man unarmed unarmed shouldve quicker kill james eagan holme but no\n",
       "5 aa man unarmed unarmed shouldve quicker kill james eagan holme but no\n",
       "6 aa man unarmed unarmed shouldve quicker kill james eagan holme but no\n",
       "  xpos_doc                               \n",
       "1 DT NN NNS                              \n",
       "2 DT NN NNS                              \n",
       "3 DT NN NNS                              \n",
       "4 DT NNS JJ JJ NN RBR VB NNS JJ NNS CC DT\n",
       "5 DT NNS JJ JJ NN RBR VB NNS JJ NNS CC DT\n",
       "6 DT NNS JJ JJ NN RBR VB NNS JJ NNS CC DT\n",
       "  upos_doc                                              \n",
       "1 DET NOUN NOUN                                         \n",
       "2 DET NOUN NOUN                                         \n",
       "3 DET NOUN NOUN                                         \n",
       "4 DET NOUN ADJ ADJ NOUN ADV VERB NOUN ADJ NOUN CCONJ DET\n",
       "5 DET NOUN ADJ ADJ NOUN ADV VERB NOUN ADJ NOUN CCONJ DET\n",
       "6 DET NOUN ADJ ADJ NOUN ADV VERB NOUN ADJ NOUN CCONJ DET"
      ]
     },
     "metadata": {},
     "output_type": "display_data"
    }
   ],
   "source": [
    "head(docs.udp.lem.unq)"
   ]
  },
  {
   "cell_type": "markdown",
   "metadata": {},
   "source": [
    "write.csv(docs.udp.lem.unq, \"C:\\\\MathLabASUS\\\\Courses\\\\Ryerson\\\\Project\\\\Data\\\\Topics\\\\docs_udp_lem_unq.csv\")"
   ]
  },
  {
   "cell_type": "markdown",
   "metadata": {},
   "source": [
    "#### Get statistics on terms or vocabulary"
   ]
  },
  {
   "cell_type": "code",
   "execution_count": null,
   "metadata": {},
   "outputs": [],
   "source": [
    "##### Use bigrams and trigrams"
   ]
  },
  {
   "cell_type": "code",
   "execution_count": null,
   "metadata": {},
   "outputs": [],
   "source": [
    "### Placeholder to load docs_udp_lem_unq.csv file - gets the bigrams and trigrams in each \n",
    "### tweet"
   ]
  },
  {
   "cell_type": "markdown",
   "metadata": {},
   "source": [
    "docs.udp.lem.unq <- read.csv(\"../Preprocessing/Files/Lexicon/docs_udp_lem_unq.csv\", stringsAsFactors = FALSE)"
   ]
  },
  {
   "cell_type": "markdown",
   "metadata": {},
   "source": [
    "docs.udp.lem.unq <- docs.udp.lem.unq %>% dplyr::select(-X) %>% as.data.frame()"
   ]
  },
  {
   "cell_type": "code",
   "execution_count": 111,
   "metadata": {},
   "outputs": [],
   "source": [
    "docs.udp.lem.unq <- docs.udp.lem.unq  %>% \n",
    "                            group_by(doc_id, sentence_id) %>%\n",
    "                            mutate(lemma_bigram = txt_nextgram(lemma, n = 2),\n",
    "                                  lemma_trigram = txt_nextgram(lemma, n = 3)) %>%\n",
    "                            as.data.frame()\n"
   ]
  },
  {
   "cell_type": "code",
   "execution_count": 112,
   "metadata": {},
   "outputs": [],
   "source": [
    "docs.lem.freq <- document_term_frequencies(docs.udp.lem.unq, \n",
    "                                          document = \"doc_id\", \n",
    "                                           term = \"lemma\")                 "
   ]
  },
  {
   "cell_type": "code",
   "execution_count": 113,
   "metadata": {},
   "outputs": [],
   "source": [
    "docs.lem.freq.stats <- \n",
    "document_term_frequencies_statistics(docs.lem.freq, k= 1.2, b=0.75)"
   ]
  },
  {
   "cell_type": "code",
   "execution_count": 114,
   "metadata": {
    "collapsed": true
   },
   "outputs": [
    {
     "data": {
      "text/plain": [
       "    doc_id              term                freq              tf         \n",
       " Length:3474412     Length:3474412     Min.   : 1.000   Min.   :0.03704  \n",
       " Class :character   Class :character   1st Qu.: 1.000   1st Qu.:0.08333  \n",
       " Mode  :character   Mode  :character   Median : 1.000   Median :0.10000  \n",
       "                                       Mean   : 1.025   Mean   :0.12246  \n",
       "                                       3rd Qu.: 1.000   3rd Qu.:0.14286  \n",
       "                                       Max.   :20.000   Max.   :1.00000  \n",
       "      idf             tf_idf            tf_bm25            bm25        \n",
       " Min.   : 1.637   Min.   : 0.07441   Min.   :0.5236   Min.   : 0.9828  \n",
       " 1st Qu.: 3.915   1st Qu.: 0.38384   1st Qu.:0.8495   1st Qu.: 3.6204  \n",
       " Median : 4.973   Median : 0.54463   Median :0.9264   Median : 4.7886  \n",
       " Mean   : 5.449   Mean   : 0.66699   Mean   :0.9694   Mean   : 5.2758  \n",
       " 3rd Qu.: 6.551   3rd Qu.: 0.79504   3rd Qu.:1.0720   3rd Qu.: 6.4113  \n",
       " Max.   :12.961   Max.   :12.96096   Max.   :1.9231   Max.   :23.6146  "
      ]
     },
     "metadata": {},
     "output_type": "display_data"
    }
   ],
   "source": [
    "summary(docs.lem.freq.stats)"
   ]
  },
  {
   "cell_type": "code",
   "execution_count": null,
   "metadata": {},
   "outputs": [],
   "source": [
    "#### police has tf = 0.05, tf_idf = 0.12, tf_bm25 = 0.8, bm25 = 1.3 (> min)"
   ]
  },
  {
   "cell_type": "code",
   "execution_count": 118,
   "metadata": {},
   "outputs": [],
   "source": [
    "docs.lem.freq.vocab <- docs.lem.freq.stats %>% \n",
    "                        group_by(term) %>%\n",
    "                        summarise(corpus.freq = n(),\n",
    "                                 tf_idf = mean(tf_idf),\n",
    "                                 bm25 = mean(bm25)) %>%\n",
    "                        as.data.frame()"
   ]
  },
  {
   "cell_type": "code",
   "execution_count": null,
   "metadata": {},
   "outputs": [],
   "source": [
    "#### Remove the bottom 10% and top 1% of terms"
   ]
  },
  {
   "cell_type": "code",
   "execution_count": 119,
   "metadata": {},
   "outputs": [],
   "source": [
    "docs.lem.freq.vocab.rd <- subset(docs.lem.freq.vocab, tf_idf > quantile(tf_idf,0.1) & tf_idf < quantile(tf_idf,0.99))"
   ]
  },
  {
   "cell_type": "code",
   "execution_count": null,
   "metadata": {},
   "outputs": [],
   "source": [
    "#### Create unique row id for each document"
   ]
  },
  {
   "cell_type": "code",
   "execution_count": 120,
   "metadata": {},
   "outputs": [],
   "source": [
    "docs.lem.freq$rowno <- rownames(docs.lem.freq)"
   ]
  },
  {
   "cell_type": "code",
   "execution_count": 121,
   "metadata": {},
   "outputs": [],
   "source": [
    "docs.lem.freq.vocab.rd$rowno <- rownames(docs.lem.freq.vocab.rd)"
   ]
  },
  {
   "cell_type": "code",
   "execution_count": 122,
   "metadata": {},
   "outputs": [],
   "source": [
    "docs.lem.freq.vocab.rd <- docs.lem.freq %>% \n",
    "                        inner_join(docs.lem.freq.vocab.rd[c(\"term\", \n",
    "                                                            \"corpus.freq\")], \n",
    "                                              by = \"term\") %>%\n",
    "                as.data.frame()"
   ]
  },
  {
   "cell_type": "code",
   "execution_count": 168,
   "metadata": {
    "collapsed": true
   },
   "outputs": [
    {
     "data": {
      "text/html": [
       "<table>\n",
       "<thead><tr><th scope=col>doc_id</th><th scope=col>term</th><th scope=col>freq</th><th scope=col>tf</th><th scope=col>idf</th><th scope=col>tf_idf</th><th scope=col>tf_bm25</th><th scope=col>bm25</th><th scope=col>corpus.freq</th></tr></thead>\n",
       "<tbody>\n",
       "\t<tr><td>doc1      </td><td>bo        </td><td>1         </td><td>0.33333333</td><td> 9.247392 </td><td>3.0824639 </td><td>1.3559921 </td><td>12.539390 </td><td> 41       </td></tr>\n",
       "\t<tr><td>doc1      </td><td>conner    </td><td>1         </td><td>0.33333333</td><td> 9.176774 </td><td>3.0589247 </td><td>1.3559921 </td><td>12.443633 </td><td> 44       </td></tr>\n",
       "\t<tr><td>doc2      </td><td>shouldve  </td><td>1         </td><td>0.08333333</td><td> 8.093429 </td><td>0.6744524 </td><td>0.8495148 </td><td> 6.875488 </td><td>130       </td></tr>\n",
       "\t<tr><td>doc2      </td><td>quicker   </td><td>1         </td><td>0.08333333</td><td> 9.628759 </td><td>0.8023966 </td><td>0.8495148 </td><td> 8.179774 </td><td> 28       </td></tr>\n",
       "\t<tr><td>doc2      </td><td>james     </td><td>1         </td><td>0.08333333</td><td>11.169204 </td><td>0.9307670 </td><td>0.8495148 </td><td> 9.488405 </td><td>  6       </td></tr>\n",
       "\t<tr><td>doc2      </td><td>eagan     </td><td>1         </td><td>0.08333333</td><td>12.267817 </td><td>1.0223181 </td><td>0.8495148 </td><td>10.421692 </td><td>  2       </td></tr>\n",
       "</tbody>\n",
       "</table>\n"
      ],
      "text/latex": [
       "\\begin{tabular}{r|lllllllll}\n",
       " doc\\_id & term & freq & tf & idf & tf\\_idf & tf\\_bm25 & bm25 & corpus.freq\\\\\n",
       "\\hline\n",
       "\t doc1       & bo         & 1          & 0.33333333 &  9.247392  & 3.0824639  & 1.3559921  & 12.539390  &  41       \\\\\n",
       "\t doc1       & conner     & 1          & 0.33333333 &  9.176774  & 3.0589247  & 1.3559921  & 12.443633  &  44       \\\\\n",
       "\t doc2       & shouldve   & 1          & 0.08333333 &  8.093429  & 0.6744524  & 0.8495148  &  6.875488  & 130       \\\\\n",
       "\t doc2       & quicker    & 1          & 0.08333333 &  9.628759  & 0.8023966  & 0.8495148  &  8.179774  &  28       \\\\\n",
       "\t doc2       & james      & 1          & 0.08333333 & 11.169204  & 0.9307670  & 0.8495148  &  9.488405  &   6       \\\\\n",
       "\t doc2       & eagan      & 1          & 0.08333333 & 12.267817  & 1.0223181  & 0.8495148  & 10.421692  &   2       \\\\\n",
       "\\end{tabular}\n"
      ],
      "text/markdown": [
       "\n",
       "doc_id | term | freq | tf | idf | tf_idf | tf_bm25 | bm25 | corpus.freq | \n",
       "|---|---|---|---|---|---|\n",
       "| doc1       | bo         | 1          | 0.33333333 |  9.247392  | 3.0824639  | 1.3559921  | 12.539390  |  41        | \n",
       "| doc1       | conner     | 1          | 0.33333333 |  9.176774  | 3.0589247  | 1.3559921  | 12.443633  |  44        | \n",
       "| doc2       | shouldve   | 1          | 0.08333333 |  8.093429  | 0.6744524  | 0.8495148  |  6.875488  | 130        | \n",
       "| doc2       | quicker    | 1          | 0.08333333 |  9.628759  | 0.8023966  | 0.8495148  |  8.179774  |  28        | \n",
       "| doc2       | james      | 1          | 0.08333333 | 11.169204  | 0.9307670  | 0.8495148  |  9.488405  |   6        | \n",
       "| doc2       | eagan      | 1          | 0.08333333 | 12.267817  | 1.0223181  | 0.8495148  | 10.421692  |   2        | \n",
       "\n",
       "\n"
      ],
      "text/plain": [
       "  doc_id term     freq tf         idf       tf_idf    tf_bm25   bm25     \n",
       "1 doc1   bo       1    0.33333333  9.247392 3.0824639 1.3559921 12.539390\n",
       "2 doc1   conner   1    0.33333333  9.176774 3.0589247 1.3559921 12.443633\n",
       "3 doc2   shouldve 1    0.08333333  8.093429 0.6744524 0.8495148  6.875488\n",
       "4 doc2   quicker  1    0.08333333  9.628759 0.8023966 0.8495148  8.179774\n",
       "5 doc2   james    1    0.08333333 11.169204 0.9307670 0.8495148  9.488405\n",
       "6 doc2   eagan    1    0.08333333 12.267817 1.0223181 0.8495148 10.421692\n",
       "  corpus.freq\n",
       "1  41        \n",
       "2  44        \n",
       "3 130        \n",
       "4  28        \n",
       "5   6        \n",
       "6   2        "
      ]
     },
     "metadata": {},
     "output_type": "display_data"
    }
   ],
   "source": [
    "head(docs.lem.freq.vocab.rd)"
   ]
  },
  {
   "cell_type": "markdown",
   "metadata": {},
   "source": [
    "saveRDS(docs.lem.freq.vocab.rd, file = \"C:\\\\MathLabASUS\\\\Courses\\\\Ryerson\\\\Project\\\\Data\\\\Topics\\\\docs_lem_freq_vocab_rd.rds\")"
   ]
  },
  {
   "cell_type": "code",
   "execution_count": null,
   "metadata": {},
   "outputs": [],
   "source": [
    "### Coocccurence of words that occur in same document"
   ]
  },
  {
   "cell_type": "code",
   "execution_count": 123,
   "metadata": {},
   "outputs": [],
   "source": [
    "docs.vocab.rd <- cooccurrence(docs.lem.freq.vocab.rd[ , c(\"doc_id\", \"term\", \"freq\")], \n",
    "                                order = TRUE, group = \"doc_id\", term = \"term\")"
   ]
  },
  {
   "cell_type": "code",
   "execution_count": 124,
   "metadata": {},
   "outputs": [],
   "source": [
    "docs.vocab.rd <- docs.vocab.rd %>%\n",
    "                    mutate(terms1_2 = str_c(term1, term2, sep = \" \")) %>%\n",
    "                as.data.frame()"
   ]
  },
  {
   "cell_type": "code",
   "execution_count": 21,
   "metadata": {
    "collapsed": true
   },
   "outputs": [
    {
     "data": {
      "text/html": [
       "<table>\n",
       "<thead><tr><th scope=col>term1</th><th scope=col>term2</th><th scope=col>cooc</th><th scope=col>terms1_2</th></tr></thead>\n",
       "<tbody>\n",
       "\t<tr><td>howard             </td><td>university         </td><td>508                </td><td>howard university  </td></tr>\n",
       "\t<tr><td>howard             </td><td>powerful           </td><td>230                </td><td>howard powerful    </td></tr>\n",
       "\t<tr><td>powerful           </td><td>university         </td><td>209                </td><td>powerful university</td></tr>\n",
       "\t<tr><td>bell               </td><td>taco               </td><td>183                </td><td>bell taco          </td></tr>\n",
       "\t<tr><td>alex               </td><td>jone               </td><td>167                </td><td>alex jone          </td></tr>\n",
       "\t<tr><td>aile               </td><td>roger              </td><td>115                </td><td>aile roger         </td></tr>\n",
       "</tbody>\n",
       "</table>\n"
      ],
      "text/latex": [
       "\\begin{tabular}{r|llll}\n",
       " term1 & term2 & cooc & terms1\\_2\\\\\n",
       "\\hline\n",
       "\t howard              & university          & 508                 & howard university  \\\\\n",
       "\t howard              & powerful            & 230                 & howard powerful    \\\\\n",
       "\t powerful            & university          & 209                 & powerful university\\\\\n",
       "\t bell                & taco                & 183                 & bell taco          \\\\\n",
       "\t alex                & jone                & 167                 & alex jone          \\\\\n",
       "\t aile                & roger               & 115                 & aile roger         \\\\\n",
       "\\end{tabular}\n"
      ],
      "text/markdown": [
       "\n",
       "term1 | term2 | cooc | terms1_2 | \n",
       "|---|---|---|---|---|---|\n",
       "| howard              | university          | 508                 | howard university   | \n",
       "| howard              | powerful            | 230                 | howard powerful     | \n",
       "| powerful            | university          | 209                 | powerful university | \n",
       "| bell                | taco                | 183                 | bell taco           | \n",
       "| alex                | jone                | 167                 | alex jone           | \n",
       "| aile                | roger               | 115                 | aile roger          | \n",
       "\n",
       "\n"
      ],
      "text/plain": [
       "  term1    term2      cooc terms1_2           \n",
       "1 howard   university 508  howard university  \n",
       "2 howard   powerful   230  howard powerful    \n",
       "3 powerful university 209  powerful university\n",
       "4 bell     taco       183  bell taco          \n",
       "5 alex     jone       167  alex jone          \n",
       "6 aile     roger      115  aile roger         "
      ]
     },
     "metadata": {},
     "output_type": "display_data"
    }
   ],
   "source": [
    "head(docs.vocab.rd)"
   ]
  },
  {
   "cell_type": "code",
   "execution_count": 125,
   "metadata": {},
   "outputs": [],
   "source": [
    "docs.vocab.rd <- transform(docs.vocab.rd, terms1_2 = reorder(terms1_2, -cooc))"
   ]
  },
  {
   "cell_type": "code",
   "execution_count": 130,
   "metadata": {
    "scrolled": true
   },
   "outputs": [
    {
     "data": {},
     "metadata": {},
     "output_type": "display_data"
    },
    {
     "data": {
      "image/png": "[encoded data removed]",
      "text/plain": [
       "plot without title"
      ]
     },
     "metadata": {},
     "output_type": "display_data"
    }
   ],
   "source": [
    "ggplot(aes(x = terms1_2, y = cooc), \n",
    "       data = top_n(docs.vocab.rd, 20, cooc)) +\n",
    "    geom_bar(color = \"blue\", fill = \"blue\", stat = \"identity\") +\n",
    "     labs(title = \"Bigrams are now more meaningful after\\n cleaning and removing top % and bottom 10%\", x = \"words\", \n",
    "          y = \"Cooccurrence\") + \n",
    "    theme(axis.text.x=element_text(angle=90)) +\n",
    "    plot.format"
   ]
  },
  {
   "cell_type": "markdown",
   "metadata": {},
   "source": [
    "After cleaning the corpus based on tf_idf more meaningful \n",
    "terms are more visible/popular."
   ]
  }
 ],
 "metadata": {
  "kernelspec": {
   "display_name": "R",
   "language": "R",
   "name": "ir"
  },
  "language_info": {
   "codemirror_mode": "r",
   "file_extension": ".r",
   "mimetype": "text/x-r-source",
   "name": "R",
   "pygments_lexer": "r",
   "version": "3.5.1"
  }
 },
 "nbformat": 4,
 "nbformat_minor": 2
}
