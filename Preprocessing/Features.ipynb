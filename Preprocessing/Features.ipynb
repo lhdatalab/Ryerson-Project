{
 "cells": [
  {
   "cell_type": "code",
   "execution_count": 1,
   "metadata": {
    "collapsed": true
   },
   "outputs": [
    {
     "name": "stderr",
     "output_type": "stream",
     "text": [
      "Loading required package: gsubfn\n",
      "Loading required package: proto\n",
      "Loading required package: RSQLite\n",
      "\n",
      "Attaching package: 'dplyr'\n",
      "\n",
      "The following object is masked from 'package:gridExtra':\n",
      "\n",
      "    combine\n",
      "\n",
      "The following objects are masked from 'package:stats':\n",
      "\n",
      "    filter, lag\n",
      "\n",
      "The following objects are masked from 'package:base':\n",
      "\n",
      "    intersect, setdiff, setequal, union\n",
      "\n",
      "\n",
      "Attaching package: 'lubridate'\n",
      "\n",
      "The following object is masked from 'package:base':\n",
      "\n",
      "    date\n",
      "\n",
      "\n",
      "Attaching package: 'GGally'\n",
      "\n",
      "The following object is masked from 'package:dplyr':\n",
      "\n",
      "    nasa\n",
      "\n",
      "Loading required package: lattice\n",
      "Loading required package: MASS\n",
      "\n",
      "Attaching package: 'MASS'\n",
      "\n",
      "The following object is masked from 'package:dplyr':\n",
      "\n",
      "    select\n",
      "\n",
      "\n",
      "Attaching package: 'memisc'\n",
      "\n",
      "The following object is masked from 'package:scales':\n",
      "\n",
      "    percent\n",
      "\n",
      "The following object is masked from 'package:lubridate':\n",
      "\n",
      "    is.interval\n",
      "\n",
      "The following objects are masked from 'package:dplyr':\n",
      "\n",
      "    collect, recode, rename, syms\n",
      "\n",
      "The following object is masked from 'package:ggplot2':\n",
      "\n",
      "    syms\n",
      "\n",
      "The following objects are masked from 'package:stats':\n",
      "\n",
      "    contr.sum, contr.treatment, contrasts\n",
      "\n",
      "The following object is masked from 'package:base':\n",
      "\n",
      "    as.array\n",
      "\n",
      "rgeos version: 0.3-28, (SVN revision 572)\n",
      " GEOS runtime version: 3.6.1-CAPI-1.10.1 r0 \n",
      " Linking to sp version: 1.3-1 \n",
      " Polygon checking: TRUE \n",
      "\n",
      "rgdal: version: 1.3-4, (SVN revision 766)\n",
      " Geospatial Data Abstraction Library extensions to R successfully loaded\n",
      " Loaded GDAL runtime: GDAL 2.2.3, released 2017/11/20\n",
      " Path to GDAL shared files: C:/MathLabASUS/SW/DM/Anaconda2/envs/rconda/Lib/R/library/rgdal/gdal\n",
      " GDAL binary built with GEOS: TRUE \n",
      " Loaded PROJ.4 runtime: Rel. 4.9.3, 15 August 2016, [PJ_VERSION: 493]\n",
      " Path to PROJ.4 shared files: C:/MathLabASUS/SW/DM/Anaconda2/envs/rconda/Lib/R/library/rgdal/proj\n",
      " Linking to sp version: 1.3-1 \n",
      "Checking rgeos availability: TRUE\n",
      "Warning message:\n",
      "\"package 'maps' was built under R version 3.5.3\"\n",
      "Attaching package: 'cluster'\n",
      "\n",
      "The following object is masked from 'package:maps':\n",
      "\n",
      "    votes.repub\n",
      "\n",
      "Loading required package: proxy\n",
      "\n",
      "Attaching package: 'proxy'\n",
      "\n",
      "The following objects are masked from 'package:stats':\n",
      "\n",
      "    as.dist, dist\n",
      "\n",
      "The following object is masked from 'package:base':\n",
      "\n",
      "    as.matrix\n",
      "\n",
      "Loading required package: clue\n",
      "Warning message:\n",
      "\"package 'clue' was built under R version 3.5.2\"Loading required package: survey\n",
      "Loading required package: Matrix\n",
      "\n",
      "Attaching package: 'Matrix'\n",
      "\n",
      "The following object is masked from 'package:tidyr':\n",
      "\n",
      "    expand\n",
      "\n",
      "Loading required package: survival\n",
      "\n",
      "Attaching package: 'survey'\n",
      "\n",
      "The following object is masked from 'package:graphics':\n",
      "\n",
      "    dotchart\n",
      "\n",
      "Loading required package: RANN\n",
      "Loading required package: lpSolve\n",
      "\n",
      "Attaching package: 'fastcluster'\n",
      "\n",
      "The following object is masked from 'package:stats':\n",
      "\n",
      "    hclust\n",
      "\n",
      "Welcome! Related Books: `Practical Guide To Cluster Analysis in R` at https://goo.gl/13EFCZ\n",
      "Creating a generic function for 'toJSON' from package 'jsonlite' in package 'googleVis'\n",
      "\n",
      "Welcome to googleVis version 0.6.2\n",
      "\n",
      "Please read Google's Terms of Use\n",
      "before you start using the package:\n",
      "https://developers.google.com/terms/\n",
      "\n",
      "Note, the plot method of googleVis will by default use\n",
      "the standard browser to display its output.\n",
      "\n",
      "See the googleVis package vignettes for more details,\n",
      "or visit http://github.com/mages/googleVis.\n",
      "\n",
      "To suppress this message use:\n",
      "suppressPackageStartupMessages(library(googleVis))\n",
      "\n",
      "Loading required package: DBI\n",
      "\n",
      "Attaching package: 'RMySQL'\n",
      "\n",
      "The following object is masked from 'package:RSQLite':\n",
      "\n",
      "    isIdCurrent\n",
      "\n",
      "\n",
      "Attaching package: 'data.table'\n",
      "\n",
      "The following objects are masked from 'package:lubridate':\n",
      "\n",
      "    hour, isoweek, mday, minute, month, quarter, second, wday, week,\n",
      "    yday, year\n",
      "\n",
      "The following objects are masked from 'package:dplyr':\n",
      "\n",
      "    between, first, last\n",
      "\n",
      "\n",
      "Attaching package: 'dbplyr'\n",
      "\n",
      "The following objects are masked from 'package:dplyr':\n",
      "\n",
      "    ident, sql\n",
      "\n",
      "\n",
      "Attaching package: 'httr'\n",
      "\n",
      "The following object is masked from 'package:memisc':\n",
      "\n",
      "    content\n",
      "\n",
      "\n",
      "Attaching package: 'purrr'\n",
      "\n",
      "The following object is masked from 'package:data.table':\n",
      "\n",
      "    transpose\n",
      "\n",
      "The following object is masked from 'package:maps':\n",
      "\n",
      "    map\n",
      "\n",
      "The following object is masked from 'package:scales':\n",
      "\n",
      "    discard\n",
      "\n",
      "The following object is masked from 'package:jsonlite':\n",
      "\n",
      "    flatten\n",
      "\n",
      "\n",
      "Attaching package: 'magrittr'\n",
      "\n",
      "The following object is masked from 'package:purrr':\n",
      "\n",
      "    set_names\n",
      "\n",
      "The following object is masked from 'package:tidyr':\n",
      "\n",
      "    extract\n",
      "\n",
      "rsatscan only does anything useful if you have SaTScan\n",
      "See http://www.satscan.org/ for free access\n"
     ]
    }
   ],
   "source": [
    "library(knitr)\n",
    "library(sqldf)\n",
    "library(ggplot2)\n",
    "library(mongolite)\n",
    "library(ggplot2)\n",
    "library(gridExtra)\n",
    "library(dplyr)\n",
    "library(tidyr)\n",
    "library(jsonlite)\n",
    "library(lubridate)\n",
    "library(gridExtra)\n",
    "library(GGally)\n",
    "library(scales)\n",
    "library(memisc)\n",
    " library(sp)\n",
    "library(rgeos)\n",
    "library(rgdal)\n",
    "library(maptools)\n",
    "library(RColorBrewer)\n",
    "library(maps)\n",
    "library(grid)\n",
    "library(cluster)\n",
    "library(StatMatch)\n",
    "library(fastcluster)\n",
    "library(factoextra)\n",
    "library(stringr)\n",
    "library(googleVis)\n",
    "library(RMySQL)\n",
    "library(data.table)\n",
    "library(dbplyr)\n",
    "library(DBI)\n",
    "library(httr)\n",
    "library(scanstatistics)\n",
    "library(purrr)\n",
    "library(magrittr)\n",
    "library(rsatscan)\n",
    "library(stringi)"
   ]
  },
  {
   "cell_type": "code",
   "execution_count": null,
   "metadata": {},
   "outputs": [],
   "source": []
  },
  {
   "cell_type": "code",
   "execution_count": 34,
   "metadata": {},
   "outputs": [],
   "source": [
    "ferg_latlon_n <- read.csv(\"C:\\\\MathLabASUS\\\\Courses\\\\Ryerson\\\\Project\\\\Data\\\\Features_Demo\\\\ferg_latlon_n.csv\")"
   ]
  },
  {
   "cell_type": "code",
   "execution_count": 35,
   "metadata": {},
   "outputs": [
    {
     "name": "stdout",
     "output_type": "stream",
     "text": [
      "'data.frame':\t9349 obs. of  5 variables:\n",
      " $ location: Factor w/ 4293 levels \"ABBEVILLE SC\",..: 1 2 2 3 4 5 5 6 7 7 ...\n",
      " $ time    : int  6 2 6 6 6 4 6 6 2 3 ...\n",
      " $ count1  : int  2 1 2 1 7 4 7 4 3 3 ...\n",
      " $ min_lon : num  -82.4 -76.2 -76.2 -79.4 -98.5 ...\n",
      " $ min_lat : num  34.2 39.5 39.5 35.1 45.5 ...\n"
     ]
    }
   ],
   "source": [
    "ferg_latlon_n$X <- NULL\n",
    "str(ferg_latlon_n)"
   ]
  },
  {
   "cell_type": "code",
   "execution_count": 40,
   "metadata": {},
   "outputs": [],
   "source": [
    "ferg_latlon_n2 <- read.csv(\"C:\\\\MathLabASUS\\\\Courses\\\\Ryerson\\\\Project\\\\Data\\\\Files\\\\Features_Demo\\\\ferg_latlon_n.csv\")"
   ]
  },
  {
   "cell_type": "code",
   "execution_count": 41,
   "metadata": {},
   "outputs": [
    {
     "name": "stdout",
     "output_type": "stream",
     "text": [
      "'data.frame':\t24198 obs. of  5 variables:\n",
      " $ location: Factor w/ 5692 levels \"ABBEVILLE SC\",..: 1 2 2 2 2 3 3 4 4 4 ...\n",
      " $ time    : int  6 2 6 10 11 6 10 6 7 10 ...\n",
      " $ count   : int  2 1 2 1 1 1 1 7 2 6 ...\n",
      " $ lon     : num  -82.4 -76.2 -76.2 -76.2 -76.2 ...\n",
      " $ lat     : num  34.2 39.5 39.5 39.5 39.5 ...\n"
     ]
    }
   ],
   "source": [
    "ferg_latlon_n2$X <-NULL\n",
    "str(ferg_latlon_n2)"
   ]
  },
  {
   "cell_type": "code",
   "execution_count": 21,
   "metadata": {},
   "outputs": [
    {
     "data": {
      "text/html": [
       "24198"
      ],
      "text/latex": [
       "24198"
      ],
      "text/markdown": [
       "24198"
      ],
      "text/plain": [
       "[1] 24198"
      ]
     },
     "metadata": {},
     "output_type": "display_data"
    }
   ],
   "source": [
    "nrow(unique(ferg_latlon_n2[c(\"lon\", \"lat\", \"time\")]))"
   ]
  },
  {
   "cell_type": "code",
   "execution_count": 28,
   "metadata": {},
   "outputs": [
    {
     "data": {
      "text/html": [
       "5692"
      ],
      "text/latex": [
       "5692"
      ],
      "text/markdown": [
       "5692"
      ],
      "text/plain": [
       "[1] 5692"
      ]
     },
     "metadata": {},
     "output_type": "display_data"
    }
   ],
   "source": [
    "nrow(ferg_latlon_n2 %>% group_by(lon, lat) %>%\n",
    "                        summarise(first.row = first(location)))\n",
    "                   #      arrange(location), 20)"
   ]
  },
  {
   "cell_type": "markdown",
   "metadata": {},
   "source": [
    "###### Get population of cities"
   ]
  },
  {
   "cell_type": "code",
   "execution_count": 30,
   "metadata": {},
   "outputs": [],
   "source": [
    "pop_cities <- read.csv(\"../Preprocessing/Files/Demographics/usstates_placetype.csv\")"
   ]
  },
  {
   "cell_type": "code",
   "execution_count": 31,
   "metadata": {},
   "outputs": [],
   "source": [
    "pop_cities_2015 <- pop_cities[c(\"City_code\", \"Popestimate2015\", \"Place_type\")]"
   ]
  },
  {
   "cell_type": "code",
   "execution_count": 32,
   "metadata": {},
   "outputs": [],
   "source": [
    "pop_cities_2015 <- pop_cities_2015 %>% dplyr::rename(\"pop2015\" = \"Popestimate2015\") %>%\n",
    "                    \n",
    "                  as.data.frame()"
   ]
  },
  {
   "cell_type": "code",
   "execution_count": 33,
   "metadata": {},
   "outputs": [],
   "source": [
    "pop_cities_2015 <- pop_cities_2015 %>% filter(Place_type %in% c(\"city\", \n",
    "                                                                \"city/town\", \n",
    "                                                                \"municipality\", \"town\", \n",
    "                                                                \"village\", \"township\")) "
   ]
  },
  {
   "cell_type": "code",
   "execution_count": 42,
   "metadata": {},
   "outputs": [],
   "source": [
    "pop_cities_2015$ City_code <- gsub(\",\", \"\", toupper(as.character(pop_cities_2015$City_code)))\n",
    "ferg_latlon_n2$location <- as.character(ferg_latlon_n2$location)"
   ]
  },
  {
   "cell_type": "code",
   "execution_count": 37,
   "metadata": {
    "collapsed": true
   },
   "outputs": [
    {
     "data": {
      "text/html": [
       "<table>\n",
       "<thead><tr><th></th><th scope=col>City_code</th><th scope=col>pop2015</th><th scope=col>Place_type</th></tr></thead>\n",
       "<tbody>\n",
       "\t<tr><th scope=row>49804</th><td>NEW YORK NY</td><td>8582459    </td><td>city       </td></tr>\n",
       "</tbody>\n",
       "</table>\n"
      ],
      "text/latex": [
       "\\begin{tabular}{r|lll}\n",
       "  & City\\_code & pop2015 & Place\\_type\\\\\n",
       "\\hline\n",
       "\t49804 & NEW YORK NY & 8582459     & city       \\\\\n",
       "\\end{tabular}\n"
      ],
      "text/markdown": [
       "\n",
       "| <!--/--> | City_code | pop2015 | Place_type | \n",
       "|---|\n",
       "| 49804 | NEW YORK NY | 8582459     | city        | \n",
       "\n",
       "\n"
      ],
      "text/plain": [
       "      City_code   pop2015 Place_type\n",
       "49804 NEW YORK NY 8582459 city      "
      ]
     },
     "metadata": {},
     "output_type": "display_data"
    }
   ],
   "source": [
    "#head(pop_cities_2015) \n",
    "subset(pop_cities_2015, City_code == \"NEW YORK NY\")"
   ]
  },
  {
   "cell_type": "code",
   "execution_count": 44,
   "metadata": {},
   "outputs": [],
   "source": [
    "ferg_latlon_cities_count <- ferg_latlon_n2 %>% \n",
    "                            dplyr::select(one_of(c(\"location\", \"count\"))) %>%\n",
    "                            inner_join(pop_cities_2015, by = c(\"location\" = \"City_code\")) %>%\n",
    "                            group_by(location) %>%\n",
    "                                    summarise(counts = sum(count),\n",
    "                                             population = sum(pop2015)) %>%\n",
    "                            \n",
    "                            as.data.frame()"
   ]
  },
  {
   "cell_type": "code",
   "execution_count": 45,
   "metadata": {
    "scrolled": true
   },
   "outputs": [
    {
     "data": {
      "text/html": [
       "5378"
      ],
      "text/latex": [
       "5378"
      ],
      "text/markdown": [
       "5378"
      ],
      "text/plain": [
       "[1] 5378"
      ]
     },
     "metadata": {},
     "output_type": "display_data"
    }
   ],
   "source": [
    "nrow(unique(ferg_latlon_cities_count))"
   ]
  },
  {
   "cell_type": "code",
   "execution_count": 41,
   "metadata": {},
   "outputs": [
    {
     "data": {
      "text/html": [
       "<table>\n",
       "<thead><tr><th scope=col>location</th><th scope=col>counts</th><th scope=col>population</th></tr></thead>\n",
       "<tbody>\n",
       "\t<tr><td>ABBEVILLE SC</td><td> 4          </td><td> 10228      </td></tr>\n",
       "\t<tr><td>ABERDEEN MD </td><td> 6          </td><td> 62068      </td></tr>\n",
       "\t<tr><td>ABERDEEN NC </td><td> 2          </td><td> 14572      </td></tr>\n",
       "\t<tr><td>ABERDEEN SD </td><td>35          </td><td>112285      </td></tr>\n",
       "\t<tr><td>ABERDEEN WA </td><td>22          </td><td> 64904      </td></tr>\n",
       "\t<tr><td>ABILENE KS  </td><td>16          </td><td> 26016      </td></tr>\n",
       "</tbody>\n",
       "</table>\n"
      ],
      "text/latex": [
       "\\begin{tabular}{r|lll}\n",
       " location & counts & population\\\\\n",
       "\\hline\n",
       "\t ABBEVILLE SC &  4           &  10228      \\\\\n",
       "\t ABERDEEN MD  &  6           &  62068      \\\\\n",
       "\t ABERDEEN NC  &  2           &  14572      \\\\\n",
       "\t ABERDEEN SD  & 35           & 112285      \\\\\n",
       "\t ABERDEEN WA  & 22           &  64904      \\\\\n",
       "\t ABILENE KS   & 16           &  26016      \\\\\n",
       "\\end{tabular}\n"
      ],
      "text/markdown": [
       "\n",
       "location | counts | population | \n",
       "|---|---|---|---|---|---|\n",
       "| ABBEVILLE SC |  4           |  10228       | \n",
       "| ABERDEEN MD  |  6           |  62068       | \n",
       "| ABERDEEN NC  |  2           |  14572       | \n",
       "| ABERDEEN SD  | 35           | 112285       | \n",
       "| ABERDEEN WA  | 22           |  64904       | \n",
       "| ABILENE KS   | 16           |  26016       | \n",
       "\n",
       "\n"
      ],
      "text/plain": [
       "  location     counts population\n",
       "1 ABBEVILLE SC  4      10228    \n",
       "2 ABERDEEN MD   6      62068    \n",
       "3 ABERDEEN NC   2      14572    \n",
       "4 ABERDEEN SD  35     112285    \n",
       "5 ABERDEEN WA  22      64904    \n",
       "6 ABILENE KS   16      26016    "
      ]
     },
     "metadata": {},
     "output_type": "display_data"
    }
   ],
   "source": [
    "head(ferg_latlon_cities_count)"
   ]
  },
  {
   "cell_type": "code",
   "execution_count": 42,
   "metadata": {},
   "outputs": [],
   "source": [
    "##### Get unique location, counts and population"
   ]
  },
  {
   "cell_type": "code",
   "execution_count": 46,
   "metadata": {
    "scrolled": false
   },
   "outputs": [],
   "source": [
    "city_count_pop <- unique(ferg_latlon_cities_count[c(\"location\", \"counts\", \"population\")])"
   ]
  },
  {
   "cell_type": "markdown",
   "metadata": {},
   "source": [
    "write.csv(city_count_pop, \"C:\\\\MathLabASUS\\\\Courses\\\\Ryerson\\\\Project\\\\Data\\\\city_count_pop.csv\")"
   ]
  },
  {
   "cell_type": "markdown",
   "metadata": {},
   "source": [
    "Correlation between total_counts and population. "
   ]
  },
  {
   "cell_type": "code",
   "execution_count": 47,
   "metadata": {},
   "outputs": [
    {
     "data": {
      "text/plain": [
       "\n",
       "\tPearson's product-moment correlation\n",
       "\n",
       "data:  ferg_latlon_cities_count$counts and ferg_latlon_cities_count$population\n",
       "t = 51.602, df = 5376, p-value < 2.2e-16\n",
       "alternative hypothesis: true correlation is not equal to 0\n",
       "95 percent confidence interval:\n",
       " 0.5573855 0.5931420\n",
       "sample estimates:\n",
       "      cor \n",
       "0.5755387 \n"
      ]
     },
     "metadata": {},
     "output_type": "display_data"
    }
   ],
   "source": [
    "cor.test(ferg_latlon_cities_count$counts, ferg_latlon_cities_count$population)"
   ]
  },
  {
   "cell_type": "markdown",
   "metadata": {},
   "source": [
    "If income done either upper, middle, working or $ value depends on results"
   ]
  },
  {
   "cell_type": "markdown",
   "metadata": {},
   "source": [
    "Age <- numerical. Race Categorical. Urban, rural, surburban."
   ]
  },
  {
   "cell_type": "markdown",
   "metadata": {},
   "source": [
    "###### Load Age data"
   ]
  },
  {
   "cell_type": "code",
   "execution_count": 48,
   "metadata": {
    "scrolled": false
   },
   "outputs": [],
   "source": [
    "age <- read.csv(\"../Preprocessing/Files/Demographics/acs_2015_as2_data.csv\", \n",
    "                  stringsAsFactors = FALSE)"
   ]
  },
  {
   "cell_type": "code",
   "execution_count": 54,
   "metadata": {
    "scrolled": true
   },
   "outputs": [],
   "source": [
    "age_cols <- age[c(1:4,6,8,seq(28, 118, 6), 178)]"
   ]
  },
  {
   "cell_type": "code",
   "execution_count": 48,
   "metadata": {
    "collapsed": true
   },
   "outputs": [
    {
     "name": "stdout",
     "output_type": "stream",
     "text": [
      "'data.frame':\t29322 obs. of  23 variables:\n",
      " $ GEO.id           : chr  \"Id\" \"1600000US0100100\" \"1600000US0100124\" \"1600000US0100460\" ...\n",
      " $ GEO.id2          : chr  \"Id2\" \"100100\" \"100124\" \"100460\" ...\n",
      " $ GEO.display.label: chr  \"Geography\" \"Abanda CDP, Alabama\" \"Abbeville city, Alabama\" \"Adamsville city, Alabama\" ...\n",
      " $ HC01_EST_VC01    : chr  \"Total; Estimate; Total population\" \"52\" \"2646\" \"4454\" ...\n",
      " $ HC02_EST_VC01    : chr  \"Male; Estimate; Total population\" \"11\" \"1292\" \"2269\" ...\n",
      " $ HC03_EST_VC01    : chr  \"Female; Estimate; Total population\" \"41\" \"1354\" \"2185\" ...\n",
      " $ HC01_EST_VC06    : chr  \"Total; Estimate; AGE - 15 to 19 years\" \"0\" \"4.3\" \"7.6\" ...\n",
      " $ HC01_EST_VC07    : chr  \"Total; Estimate; AGE - 20 to 24 years\" \"0\" \"5.9\" \"7.2\" ...\n",
      " $ HC01_EST_VC08    : chr  \"Total; Estimate; AGE - 25 to 29 years\" \"0\" \"3.7\" \"6.6\" ...\n",
      " $ HC01_EST_VC09    : chr  \"Total; Estimate; AGE - 30 to 34 years\" \"0\" \"4.4\" \"5.8\" ...\n",
      " $ HC01_EST_VC10    : chr  \"Total; Estimate; AGE - 35 to 39 years\" \"0\" \"3.7\" \"7.5\" ...\n",
      " $ HC01_EST_VC11    : chr  \"Total; Estimate; AGE - 40 to 44 years\" \"0\" \"3.8\" \"6.8\" ...\n",
      " $ HC01_EST_VC12    : chr  \"Total; Estimate; AGE - 45 to 49 years\" \"0\" \"4\" \"4.5\" ...\n",
      " $ HC01_EST_VC13    : chr  \"Total; Estimate; AGE - 50 to 54 years\" \"0\" \"7.7\" \"8.1\" ...\n",
      " $ HC01_EST_VC14    : chr  \"Total; Estimate; AGE - 55 to 59 years\" \"23.1\" \"10.1\" \"8\" ...\n",
      " $ HC01_EST_VC15    : chr  \"Total; Estimate; AGE - 60 to 64 years\" \"55.8\" \"7.9\" \"5.3\" ...\n",
      " $ HC01_EST_VC16    : chr  \"Total; Estimate; AGE - 65 to 69 years\" \"0\" \"7\" \"6.4\" ...\n",
      " $ HC01_EST_VC17    : chr  \"Total; Estimate; AGE - 70 to 74 years\" \"21.2\" \"7.8\" \"4.3\" ...\n",
      " $ HC01_EST_VC18    : chr  \"Total; Estimate; AGE - 75 to 79 years\" \"0\" \"6.5\" \"3.1\" ...\n",
      " $ HC01_EST_VC19    : chr  \"Total; Estimate; AGE - 80 to 84 years\" \"0\" \"3\" \"2.8\" ...\n",
      " $ HC01_EST_VC20    : chr  \"Total; Estimate; AGE - 85 years and over\" \"0\" \"4.7\" \"0.2\" ...\n",
      " $ HC01_EST_VC23    : chr  \"Total; Estimate; SELECTED AGE CATEGORIES - 5 to 14 years\" \"0\" \"13\" \"12.3\" ...\n",
      " $ HC01_EST_VC35    : chr  \"Total; Estimate; SUMMARY INDICATORS - Median age (years)\" \"60.5\" \"52.5\" \"39.6\" ...\n"
     ]
    }
   ],
   "source": [
    "str(age_cols)"
   ]
  },
  {
   "cell_type": "code",
   "execution_count": 49,
   "metadata": {
    "collapsed": true
   },
   "outputs": [
    {
     "data": {
      "text/html": [
       "<table>\n",
       "<thead><tr><th scope=col>GEO.id</th><th scope=col>GEO.id2</th><th scope=col>GEO.display.label</th><th scope=col>HC01_EST_VC01</th><th scope=col>HC02_EST_VC01</th><th scope=col>HC03_EST_VC01</th><th scope=col>HC01_EST_VC06</th><th scope=col>HC01_EST_VC07</th><th scope=col>HC01_EST_VC08</th><th scope=col>HC01_EST_VC09</th><th scope=col>...</th><th scope=col>HC01_EST_VC13</th><th scope=col>HC01_EST_VC14</th><th scope=col>HC01_EST_VC15</th><th scope=col>HC01_EST_VC16</th><th scope=col>HC01_EST_VC17</th><th scope=col>HC01_EST_VC18</th><th scope=col>HC01_EST_VC19</th><th scope=col>HC01_EST_VC20</th><th scope=col>HC01_EST_VC23</th><th scope=col>HC01_EST_VC35</th></tr></thead>\n",
       "<tbody>\n",
       "\t<tr><td>Id                                                      </td><td>Id2                                                     </td><td>Geography                                               </td><td>Total; Estimate; Total population                       </td><td>Male; Estimate; Total population                        </td><td>Female; Estimate; Total population                      </td><td>Total; Estimate; AGE - 15 to 19 years                   </td><td>Total; Estimate; AGE - 20 to 24 years                   </td><td>Total; Estimate; AGE - 25 to 29 years                   </td><td>Total; Estimate; AGE - 30 to 34 years                   </td><td>...                                                     </td><td>Total; Estimate; AGE - 50 to 54 years                   </td><td>Total; Estimate; AGE - 55 to 59 years                   </td><td>Total; Estimate; AGE - 60 to 64 years                   </td><td>Total; Estimate; AGE - 65 to 69 years                   </td><td>Total; Estimate; AGE - 70 to 74 years                   </td><td>Total; Estimate; AGE - 75 to 79 years                   </td><td>Total; Estimate; AGE - 80 to 84 years                   </td><td>Total; Estimate; AGE - 85 years and over                </td><td>Total; Estimate; SELECTED AGE CATEGORIES - 5 to 14 years</td><td>Total; Estimate; SUMMARY INDICATORS - Median age (years)</td></tr>\n",
       "\t<tr><td>1600000US0100100                                        </td><td>100100                                                  </td><td>Abanda CDP, Alabama                                     </td><td>52                                                      </td><td>11                                                      </td><td>41                                                      </td><td>0                                                       </td><td>0                                                       </td><td>0                                                       </td><td>0                                                       </td><td>...                                                     </td><td>0                                                       </td><td>23.1                                                    </td><td>55.8                                                    </td><td>0                                                       </td><td>21.2                                                    </td><td>0                                                       </td><td>0                                                       </td><td>0                                                       </td><td>0                                                       </td><td>60.5                                                    </td></tr>\n",
       "\t<tr><td>1600000US0100124                                        </td><td>100124                                                  </td><td>Abbeville city, Alabama                                 </td><td>2646                                                    </td><td>1292                                                    </td><td>1354                                                    </td><td>4.3                                                     </td><td>5.9                                                     </td><td>3.7                                                     </td><td>4.4                                                     </td><td>...                                                     </td><td>7.7                                                     </td><td>10.1                                                    </td><td>7.9                                                     </td><td>7                                                       </td><td>7.8                                                     </td><td>6.5                                                     </td><td>3                                                       </td><td>4.7                                                     </td><td>13                                                      </td><td>52.5                                                    </td></tr>\n",
       "\t<tr><td>1600000US0100460                                        </td><td>100460                                                  </td><td>Adamsville city, Alabama                                </td><td>4454                                                    </td><td>2269                                                    </td><td>2185                                                    </td><td>7.6                                                     </td><td>7.2                                                     </td><td>6.6                                                     </td><td>5.8                                                     </td><td>...                                                     </td><td>8.1                                                     </td><td>8                                                       </td><td>5.3                                                     </td><td>6.4                                                     </td><td>4.3                                                     </td><td>3.1                                                     </td><td>2.8                                                     </td><td>0.2                                                     </td><td>12.3                                                    </td><td>39.6                                                    </td></tr>\n",
       "\t<tr><td>1600000US0100484                                        </td><td>100484                                                  </td><td>Addison town, Alabama                                   </td><td>682                                                     </td><td>331                                                     </td><td>351                                                     </td><td>7                                                       </td><td>4.7                                                     </td><td>7.2                                                     </td><td>3.8                                                     </td><td>...                                                     </td><td>3.1                                                     </td><td>10                                                      </td><td>3.1                                                     </td><td>8.4                                                     </td><td>7                                                       </td><td>3.5                                                     </td><td>4.8                                                     </td><td>1.6                                                     </td><td>12.2                                                    </td><td>42.5                                                    </td></tr>\n",
       "\t<tr><td>1600000US0100676                                        </td><td>100676                                                  </td><td>Akron town, Alabama                                     </td><td>293                                                     </td><td>143                                                     </td><td>150                                                     </td><td>13.7                                                    </td><td>10.6                                                    </td><td>3.8                                                     </td><td>1.7                                                     </td><td>...                                                     </td><td>15.4                                                    </td><td>9.6                                                     </td><td>5.5                                                     </td><td>4.1                                                     </td><td>3.8                                                     </td><td>3.1                                                     </td><td>1.4                                                     </td><td>1                                                       </td><td>3.8                                                     </td><td>43.6                                                    </td></tr>\n",
       "</tbody>\n",
       "</table>\n"
      ],
      "text/latex": [
       "\\begin{tabular}{r|lllllllllllllllllllllll}\n",
       " GEO.id & GEO.id2 & GEO.display.label & HC01\\_EST\\_VC01 & HC02\\_EST\\_VC01 & HC03\\_EST\\_VC01 & HC01\\_EST\\_VC06 & HC01\\_EST\\_VC07 & HC01\\_EST\\_VC08 & HC01\\_EST\\_VC09 & ... & HC01\\_EST\\_VC13 & HC01\\_EST\\_VC14 & HC01\\_EST\\_VC15 & HC01\\_EST\\_VC16 & HC01\\_EST\\_VC17 & HC01\\_EST\\_VC18 & HC01\\_EST\\_VC19 & HC01\\_EST\\_VC20 & HC01\\_EST\\_VC23 & HC01\\_EST\\_VC35\\\\\n",
       "\\hline\n",
       "\t Id                                                       & Id2                                                      & Geography                                                & Total; Estimate; Total population                        & Male; Estimate; Total population                         & Female; Estimate; Total population                       & Total; Estimate; AGE - 15 to 19 years                    & Total; Estimate; AGE - 20 to 24 years                    & Total; Estimate; AGE - 25 to 29 years                    & Total; Estimate; AGE - 30 to 34 years                    & ...                                                      & Total; Estimate; AGE - 50 to 54 years                    & Total; Estimate; AGE - 55 to 59 years                    & Total; Estimate; AGE - 60 to 64 years                    & Total; Estimate; AGE - 65 to 69 years                    & Total; Estimate; AGE - 70 to 74 years                    & Total; Estimate; AGE - 75 to 79 years                    & Total; Estimate; AGE - 80 to 84 years                    & Total; Estimate; AGE - 85 years and over                 & Total; Estimate; SELECTED AGE CATEGORIES - 5 to 14 years & Total; Estimate; SUMMARY INDICATORS - Median age (years)\\\\\n",
       "\t 1600000US0100100                                         & 100100                                                   & Abanda CDP, Alabama                                      & 52                                                       & 11                                                       & 41                                                       & 0                                                        & 0                                                        & 0                                                        & 0                                                        & ...                                                      & 0                                                        & 23.1                                                     & 55.8                                                     & 0                                                        & 21.2                                                     & 0                                                        & 0                                                        & 0                                                        & 0                                                        & 60.5                                                    \\\\\n",
       "\t 1600000US0100124                                         & 100124                                                   & Abbeville city, Alabama                                  & 2646                                                     & 1292                                                     & 1354                                                     & 4.3                                                      & 5.9                                                      & 3.7                                                      & 4.4                                                      & ...                                                      & 7.7                                                      & 10.1                                                     & 7.9                                                      & 7                                                        & 7.8                                                      & 6.5                                                      & 3                                                        & 4.7                                                      & 13                                                       & 52.5                                                    \\\\\n",
       "\t 1600000US0100460                                         & 100460                                                   & Adamsville city, Alabama                                 & 4454                                                     & 2269                                                     & 2185                                                     & 7.6                                                      & 7.2                                                      & 6.6                                                      & 5.8                                                      & ...                                                      & 8.1                                                      & 8                                                        & 5.3                                                      & 6.4                                                      & 4.3                                                      & 3.1                                                      & 2.8                                                      & 0.2                                                      & 12.3                                                     & 39.6                                                    \\\\\n",
       "\t 1600000US0100484                                         & 100484                                                   & Addison town, Alabama                                    & 682                                                      & 331                                                      & 351                                                      & 7                                                        & 4.7                                                      & 7.2                                                      & 3.8                                                      & ...                                                      & 3.1                                                      & 10                                                       & 3.1                                                      & 8.4                                                      & 7                                                        & 3.5                                                      & 4.8                                                      & 1.6                                                      & 12.2                                                     & 42.5                                                    \\\\\n",
       "\t 1600000US0100676                                         & 100676                                                   & Akron town, Alabama                                      & 293                                                      & 143                                                      & 150                                                      & 13.7                                                     & 10.6                                                     & 3.8                                                      & 1.7                                                      & ...                                                      & 15.4                                                     & 9.6                                                      & 5.5                                                      & 4.1                                                      & 3.8                                                      & 3.1                                                      & 1.4                                                      & 1                                                        & 3.8                                                      & 43.6                                                    \\\\\n",
       "\\end{tabular}\n"
      ],
      "text/markdown": [
       "\n",
       "GEO.id | GEO.id2 | GEO.display.label | HC01_EST_VC01 | HC02_EST_VC01 | HC03_EST_VC01 | HC01_EST_VC06 | HC01_EST_VC07 | HC01_EST_VC08 | HC01_EST_VC09 | ... | HC01_EST_VC13 | HC01_EST_VC14 | HC01_EST_VC15 | HC01_EST_VC16 | HC01_EST_VC17 | HC01_EST_VC18 | HC01_EST_VC19 | HC01_EST_VC20 | HC01_EST_VC23 | HC01_EST_VC35 | \n",
       "|---|---|---|---|---|---|\n",
       "| Id                                                       | Id2                                                      | Geography                                                | Total; Estimate; Total population                        | Male; Estimate; Total population                         | Female; Estimate; Total population                       | Total; Estimate; AGE - 15 to 19 years                    | Total; Estimate; AGE - 20 to 24 years                    | Total; Estimate; AGE - 25 to 29 years                    | Total; Estimate; AGE - 30 to 34 years                    | ...                                                      | Total; Estimate; AGE - 50 to 54 years                    | Total; Estimate; AGE - 55 to 59 years                    | Total; Estimate; AGE - 60 to 64 years                    | Total; Estimate; AGE - 65 to 69 years                    | Total; Estimate; AGE - 70 to 74 years                    | Total; Estimate; AGE - 75 to 79 years                    | Total; Estimate; AGE - 80 to 84 years                    | Total; Estimate; AGE - 85 years and over                 | Total; Estimate; SELECTED AGE CATEGORIES - 5 to 14 years | Total; Estimate; SUMMARY INDICATORS - Median age (years) | \n",
       "| 1600000US0100100                                         | 100100                                                   | Abanda CDP, Alabama                                      | 52                                                       | 11                                                       | 41                                                       | 0                                                        | 0                                                        | 0                                                        | 0                                                        | ...                                                      | 0                                                        | 23.1                                                     | 55.8                                                     | 0                                                        | 21.2                                                     | 0                                                        | 0                                                        | 0                                                        | 0                                                        | 60.5                                                     | \n",
       "| 1600000US0100124                                         | 100124                                                   | Abbeville city, Alabama                                  | 2646                                                     | 1292                                                     | 1354                                                     | 4.3                                                      | 5.9                                                      | 3.7                                                      | 4.4                                                      | ...                                                      | 7.7                                                      | 10.1                                                     | 7.9                                                      | 7                                                        | 7.8                                                      | 6.5                                                      | 3                                                        | 4.7                                                      | 13                                                       | 52.5                                                     | \n",
       "| 1600000US0100460                                         | 100460                                                   | Adamsville city, Alabama                                 | 4454                                                     | 2269                                                     | 2185                                                     | 7.6                                                      | 7.2                                                      | 6.6                                                      | 5.8                                                      | ...                                                      | 8.1                                                      | 8                                                        | 5.3                                                      | 6.4                                                      | 4.3                                                      | 3.1                                                      | 2.8                                                      | 0.2                                                      | 12.3                                                     | 39.6                                                     | \n",
       "| 1600000US0100484                                         | 100484                                                   | Addison town, Alabama                                    | 682                                                      | 331                                                      | 351                                                      | 7                                                        | 4.7                                                      | 7.2                                                      | 3.8                                                      | ...                                                      | 3.1                                                      | 10                                                       | 3.1                                                      | 8.4                                                      | 7                                                        | 3.5                                                      | 4.8                                                      | 1.6                                                      | 12.2                                                     | 42.5                                                     | \n",
       "| 1600000US0100676                                         | 100676                                                   | Akron town, Alabama                                      | 293                                                      | 143                                                      | 150                                                      | 13.7                                                     | 10.6                                                     | 3.8                                                      | 1.7                                                      | ...                                                      | 15.4                                                     | 9.6                                                      | 5.5                                                      | 4.1                                                      | 3.8                                                      | 3.1                                                      | 1.4                                                      | 1                                                        | 3.8                                                      | 43.6                                                     | \n",
       "\n",
       "\n"
      ],
      "text/plain": [
       "  GEO.id           GEO.id2 GEO.display.label       \n",
       "1 Id               Id2     Geography               \n",
       "2 1600000US0100100 100100  Abanda CDP, Alabama     \n",
       "3 1600000US0100124 100124  Abbeville city, Alabama \n",
       "4 1600000US0100460 100460  Adamsville city, Alabama\n",
       "5 1600000US0100484 100484  Addison town, Alabama   \n",
       "6 1600000US0100676 100676  Akron town, Alabama     \n",
       "  HC01_EST_VC01                     HC02_EST_VC01                   \n",
       "1 Total; Estimate; Total population Male; Estimate; Total population\n",
       "2 52                                11                              \n",
       "3 2646                              1292                            \n",
       "4 4454                              2269                            \n",
       "5 682                               331                             \n",
       "6 293                               143                             \n",
       "  HC03_EST_VC01                      HC01_EST_VC06                        \n",
       "1 Female; Estimate; Total population Total; Estimate; AGE - 15 to 19 years\n",
       "2 41                                 0                                    \n",
       "3 1354                               4.3                                  \n",
       "4 2185                               7.6                                  \n",
       "5 351                                7                                    \n",
       "6 150                                13.7                                 \n",
       "  HC01_EST_VC07                         HC01_EST_VC08                        \n",
       "1 Total; Estimate; AGE - 20 to 24 years Total; Estimate; AGE - 25 to 29 years\n",
       "2 0                                     0                                    \n",
       "3 5.9                                   3.7                                  \n",
       "4 7.2                                   6.6                                  \n",
       "5 4.7                                   7.2                                  \n",
       "6 10.6                                  3.8                                  \n",
       "  HC01_EST_VC09                         ...\n",
       "1 Total; Estimate; AGE - 30 to 34 years ...\n",
       "2 0                                     ...\n",
       "3 4.4                                   ...\n",
       "4 5.8                                   ...\n",
       "5 3.8                                   ...\n",
       "6 1.7                                   ...\n",
       "  HC01_EST_VC13                         HC01_EST_VC14                        \n",
       "1 Total; Estimate; AGE - 50 to 54 years Total; Estimate; AGE - 55 to 59 years\n",
       "2 0                                     23.1                                 \n",
       "3 7.7                                   10.1                                 \n",
       "4 8.1                                   8                                    \n",
       "5 3.1                                   10                                   \n",
       "6 15.4                                  9.6                                  \n",
       "  HC01_EST_VC15                         HC01_EST_VC16                        \n",
       "1 Total; Estimate; AGE - 60 to 64 years Total; Estimate; AGE - 65 to 69 years\n",
       "2 55.8                                  0                                    \n",
       "3 7.9                                   7                                    \n",
       "4 5.3                                   6.4                                  \n",
       "5 3.1                                   8.4                                  \n",
       "6 5.5                                   4.1                                  \n",
       "  HC01_EST_VC17                         HC01_EST_VC18                        \n",
       "1 Total; Estimate; AGE - 70 to 74 years Total; Estimate; AGE - 75 to 79 years\n",
       "2 21.2                                  0                                    \n",
       "3 7.8                                   6.5                                  \n",
       "4 4.3                                   3.1                                  \n",
       "5 7                                     3.5                                  \n",
       "6 3.8                                   3.1                                  \n",
       "  HC01_EST_VC19                        \n",
       "1 Total; Estimate; AGE - 80 to 84 years\n",
       "2 0                                    \n",
       "3 3                                    \n",
       "4 2.8                                  \n",
       "5 4.8                                  \n",
       "6 1.4                                  \n",
       "  HC01_EST_VC20                           \n",
       "1 Total; Estimate; AGE - 85 years and over\n",
       "2 0                                       \n",
       "3 4.7                                     \n",
       "4 0.2                                     \n",
       "5 1.6                                     \n",
       "6 1                                       \n",
       "  HC01_EST_VC23                                           \n",
       "1 Total; Estimate; SELECTED AGE CATEGORIES - 5 to 14 years\n",
       "2 0                                                       \n",
       "3 13                                                      \n",
       "4 12.3                                                    \n",
       "5 12.2                                                    \n",
       "6 3.8                                                     \n",
       "  HC01_EST_VC35                                           \n",
       "1 Total; Estimate; SUMMARY INDICATORS - Median age (years)\n",
       "2 60.5                                                    \n",
       "3 52.5                                                    \n",
       "4 39.6                                                    \n",
       "5 42.5                                                    \n",
       "6 43.6                                                    "
      ]
     },
     "metadata": {},
     "output_type": "display_data"
    }
   ],
   "source": [
    "head(age_cols)"
   ]
  },
  {
   "cell_type": "code",
   "execution_count": null,
   "metadata": {},
   "outputs": [],
   "source": [
    "### Get column names"
   ]
  },
  {
   "cell_type": "code",
   "execution_count": 55,
   "metadata": {},
   "outputs": [],
   "source": [
    "colnames(age_cols) <- age_cols %>% dplyr::slice(1)"
   ]
  },
  {
   "cell_type": "code",
   "execution_count": 56,
   "metadata": {
    "scrolled": true
   },
   "outputs": [],
   "source": [
    "age_cols <- age_cols[2:nrow(age_cols), ]"
   ]
  },
  {
   "cell_type": "code",
   "execution_count": null,
   "metadata": {},
   "outputs": [],
   "source": [
    "### Rename some columns"
   ]
  },
  {
   "cell_type": "code",
   "execution_count": 57,
   "metadata": {
    "scrolled": true
   },
   "outputs": [],
   "source": [
    "colnames(age_cols) <- trimws(gsub(\"Total; Estimate;\", \"\", colnames(age_cols)), \"both\")\n",
    "colnames(age_cols) <- trimws(gsub(\"(;|-| )\", \"\", colnames(age_cols)), \"both\")"
   ]
  },
  {
   "cell_type": "code",
   "execution_count": 53,
   "metadata": {
    "collapsed": true
   },
   "outputs": [
    {
     "data": {
      "text/html": [
       "<table>\n",
       "<thead><tr><th></th><th scope=col>Id</th><th scope=col>Id2</th><th scope=col>Geography</th><th scope=col>Totalpopulation</th><th scope=col>MaleEstimateTotalpopulation</th><th scope=col>FemaleEstimateTotalpopulation</th><th scope=col>AGE15to19years</th><th scope=col>AGE20to24years</th><th scope=col>AGE25to29years</th><th scope=col>AGE30to34years</th><th scope=col>...</th><th scope=col>AGE50to54years</th><th scope=col>AGE55to59years</th><th scope=col>AGE60to64years</th><th scope=col>AGE65to69years</th><th scope=col>AGE70to74years</th><th scope=col>AGE75to79years</th><th scope=col>AGE80to84years</th><th scope=col>AGE85yearsandover</th><th scope=col>SELECTEDAGECATEGORIES5to14years</th><th scope=col>SUMMARYINDICATORSMedianage(years)</th></tr></thead>\n",
       "<tbody>\n",
       "\t<tr><th scope=row>2</th><td>1600000US0100100        </td><td>100100                  </td><td>Abanda CDP, Alabama     </td><td>52                      </td><td>11                      </td><td>41                      </td><td>0                       </td><td>0                       </td><td>0                       </td><td>0                       </td><td>...                     </td><td>0                       </td><td>23.1                    </td><td>55.8                    </td><td>0                       </td><td>21.2                    </td><td>0                       </td><td>0                       </td><td>0                       </td><td>0                       </td><td>60.5                    </td></tr>\n",
       "\t<tr><th scope=row>3</th><td>1600000US0100124        </td><td>100124                  </td><td>Abbeville city, Alabama </td><td>2646                    </td><td>1292                    </td><td>1354                    </td><td>4.3                     </td><td>5.9                     </td><td>3.7                     </td><td>4.4                     </td><td>...                     </td><td>7.7                     </td><td>10.1                    </td><td>7.9                     </td><td>7                       </td><td>7.8                     </td><td>6.5                     </td><td>3                       </td><td>4.7                     </td><td>13                      </td><td>52.5                    </td></tr>\n",
       "\t<tr><th scope=row>4</th><td>1600000US0100460        </td><td>100460                  </td><td>Adamsville city, Alabama</td><td>4454                    </td><td>2269                    </td><td>2185                    </td><td>7.6                     </td><td>7.2                     </td><td>6.6                     </td><td>5.8                     </td><td>...                     </td><td>8.1                     </td><td>8                       </td><td>5.3                     </td><td>6.4                     </td><td>4.3                     </td><td>3.1                     </td><td>2.8                     </td><td>0.2                     </td><td>12.3                    </td><td>39.6                    </td></tr>\n",
       "\t<tr><th scope=row>5</th><td>1600000US0100484        </td><td>100484                  </td><td>Addison town, Alabama   </td><td>682                     </td><td>331                     </td><td>351                     </td><td>7                       </td><td>4.7                     </td><td>7.2                     </td><td>3.8                     </td><td>...                     </td><td>3.1                     </td><td>10                      </td><td>3.1                     </td><td>8.4                     </td><td>7                       </td><td>3.5                     </td><td>4.8                     </td><td>1.6                     </td><td>12.2                    </td><td>42.5                    </td></tr>\n",
       "\t<tr><th scope=row>6</th><td>1600000US0100676        </td><td>100676                  </td><td>Akron town, Alabama     </td><td>293                     </td><td>143                     </td><td>150                     </td><td>13.7                    </td><td>10.6                    </td><td>3.8                     </td><td>1.7                     </td><td>...                     </td><td>15.4                    </td><td>9.6                     </td><td>5.5                     </td><td>4.1                     </td><td>3.8                     </td><td>3.1                     </td><td>1.4                     </td><td>1                       </td><td>3.8                     </td><td>43.6                    </td></tr>\n",
       "\t<tr><th scope=row>7</th><td>1600000US0100820        </td><td>100820                  </td><td>Alabaster city, Alabama </td><td>31905                   </td><td>15590                   </td><td>16315                   </td><td>7.5                     </td><td>5.7                     </td><td>5.4                     </td><td>6.6                     </td><td>...                     </td><td>7.9                     </td><td>5.3                     </td><td>4.7                     </td><td>3.9                     </td><td>2.4                     </td><td>2                       </td><td>1.3                     </td><td>1.1                     </td><td>16.7                    </td><td>36.6                    </td></tr>\n",
       "</tbody>\n",
       "</table>\n"
      ],
      "text/latex": [
       "\\begin{tabular}{r|lllllllllllllllllllllll}\n",
       "  & Id & Id2 & Geography & Totalpopulation & MaleEstimateTotalpopulation & FemaleEstimateTotalpopulation & AGE15to19years & AGE20to24years & AGE25to29years & AGE30to34years & ... & AGE50to54years & AGE55to59years & AGE60to64years & AGE65to69years & AGE70to74years & AGE75to79years & AGE80to84years & AGE85yearsandover & SELECTEDAGECATEGORIES5to14years & SUMMARYINDICATORSMedianage(years)\\\\\n",
       "\\hline\n",
       "\t2 & 1600000US0100100         & 100100                   & Abanda CDP, Alabama      & 52                       & 11                       & 41                       & 0                        & 0                        & 0                        & 0                        & ...                      & 0                        & 23.1                     & 55.8                     & 0                        & 21.2                     & 0                        & 0                        & 0                        & 0                        & 60.5                    \\\\\n",
       "\t3 & 1600000US0100124         & 100124                   & Abbeville city, Alabama  & 2646                     & 1292                     & 1354                     & 4.3                      & 5.9                      & 3.7                      & 4.4                      & ...                      & 7.7                      & 10.1                     & 7.9                      & 7                        & 7.8                      & 6.5                      & 3                        & 4.7                      & 13                       & 52.5                    \\\\\n",
       "\t4 & 1600000US0100460         & 100460                   & Adamsville city, Alabama & 4454                     & 2269                     & 2185                     & 7.6                      & 7.2                      & 6.6                      & 5.8                      & ...                      & 8.1                      & 8                        & 5.3                      & 6.4                      & 4.3                      & 3.1                      & 2.8                      & 0.2                      & 12.3                     & 39.6                    \\\\\n",
       "\t5 & 1600000US0100484         & 100484                   & Addison town, Alabama    & 682                      & 331                      & 351                      & 7                        & 4.7                      & 7.2                      & 3.8                      & ...                      & 3.1                      & 10                       & 3.1                      & 8.4                      & 7                        & 3.5                      & 4.8                      & 1.6                      & 12.2                     & 42.5                    \\\\\n",
       "\t6 & 1600000US0100676         & 100676                   & Akron town, Alabama      & 293                      & 143                      & 150                      & 13.7                     & 10.6                     & 3.8                      & 1.7                      & ...                      & 15.4                     & 9.6                      & 5.5                      & 4.1                      & 3.8                      & 3.1                      & 1.4                      & 1                        & 3.8                      & 43.6                    \\\\\n",
       "\t7 & 1600000US0100820         & 100820                   & Alabaster city, Alabama  & 31905                    & 15590                    & 16315                    & 7.5                      & 5.7                      & 5.4                      & 6.6                      & ...                      & 7.9                      & 5.3                      & 4.7                      & 3.9                      & 2.4                      & 2                        & 1.3                      & 1.1                      & 16.7                     & 36.6                    \\\\\n",
       "\\end{tabular}\n"
      ],
      "text/markdown": [
       "\n",
       "| <!--/--> | Id | Id2 | Geography | Totalpopulation | MaleEstimateTotalpopulation | FemaleEstimateTotalpopulation | AGE15to19years | AGE20to24years | AGE25to29years | AGE30to34years | ... | AGE50to54years | AGE55to59years | AGE60to64years | AGE65to69years | AGE70to74years | AGE75to79years | AGE80to84years | AGE85yearsandover | SELECTEDAGECATEGORIES5to14years | SUMMARYINDICATORSMedianage(years) | \n",
       "|---|---|---|---|---|---|\n",
       "| 2 | 1600000US0100100         | 100100                   | Abanda CDP, Alabama      | 52                       | 11                       | 41                       | 0                        | 0                        | 0                        | 0                        | ...                      | 0                        | 23.1                     | 55.8                     | 0                        | 21.2                     | 0                        | 0                        | 0                        | 0                        | 60.5                     | \n",
       "| 3 | 1600000US0100124         | 100124                   | Abbeville city, Alabama  | 2646                     | 1292                     | 1354                     | 4.3                      | 5.9                      | 3.7                      | 4.4                      | ...                      | 7.7                      | 10.1                     | 7.9                      | 7                        | 7.8                      | 6.5                      | 3                        | 4.7                      | 13                       | 52.5                     | \n",
       "| 4 | 1600000US0100460         | 100460                   | Adamsville city, Alabama | 4454                     | 2269                     | 2185                     | 7.6                      | 7.2                      | 6.6                      | 5.8                      | ...                      | 8.1                      | 8                        | 5.3                      | 6.4                      | 4.3                      | 3.1                      | 2.8                      | 0.2                      | 12.3                     | 39.6                     | \n",
       "| 5 | 1600000US0100484         | 100484                   | Addison town, Alabama    | 682                      | 331                      | 351                      | 7                        | 4.7                      | 7.2                      | 3.8                      | ...                      | 3.1                      | 10                       | 3.1                      | 8.4                      | 7                        | 3.5                      | 4.8                      | 1.6                      | 12.2                     | 42.5                     | \n",
       "| 6 | 1600000US0100676         | 100676                   | Akron town, Alabama      | 293                      | 143                      | 150                      | 13.7                     | 10.6                     | 3.8                      | 1.7                      | ...                      | 15.4                     | 9.6                      | 5.5                      | 4.1                      | 3.8                      | 3.1                      | 1.4                      | 1                        | 3.8                      | 43.6                     | \n",
       "| 7 | 1600000US0100820         | 100820                   | Alabaster city, Alabama  | 31905                    | 15590                    | 16315                    | 7.5                      | 5.7                      | 5.4                      | 6.6                      | ...                      | 7.9                      | 5.3                      | 4.7                      | 3.9                      | 2.4                      | 2                        | 1.3                      | 1.1                      | 16.7                     | 36.6                     | \n",
       "\n",
       "\n"
      ],
      "text/plain": [
       "  Id               Id2    Geography                Totalpopulation\n",
       "2 1600000US0100100 100100 Abanda CDP, Alabama      52             \n",
       "3 1600000US0100124 100124 Abbeville city, Alabama  2646           \n",
       "4 1600000US0100460 100460 Adamsville city, Alabama 4454           \n",
       "5 1600000US0100484 100484 Addison town, Alabama    682            \n",
       "6 1600000US0100676 100676 Akron town, Alabama      293            \n",
       "7 1600000US0100820 100820 Alabaster city, Alabama  31905          \n",
       "  MaleEstimateTotalpopulation FemaleEstimateTotalpopulation AGE15to19years\n",
       "2 11                          41                            0             \n",
       "3 1292                        1354                          4.3           \n",
       "4 2269                        2185                          7.6           \n",
       "5 331                         351                           7             \n",
       "6 143                         150                           13.7          \n",
       "7 15590                       16315                         7.5           \n",
       "  AGE20to24years AGE25to29years AGE30to34years ... AGE50to54years\n",
       "2 0              0              0              ... 0             \n",
       "3 5.9            3.7            4.4            ... 7.7           \n",
       "4 7.2            6.6            5.8            ... 8.1           \n",
       "5 4.7            7.2            3.8            ... 3.1           \n",
       "6 10.6           3.8            1.7            ... 15.4          \n",
       "7 5.7            5.4            6.6            ... 7.9           \n",
       "  AGE55to59years AGE60to64years AGE65to69years AGE70to74years AGE75to79years\n",
       "2 23.1           55.8           0              21.2           0             \n",
       "3 10.1           7.9            7              7.8            6.5           \n",
       "4 8              5.3            6.4            4.3            3.1           \n",
       "5 10             3.1            8.4            7              3.5           \n",
       "6 9.6            5.5            4.1            3.8            3.1           \n",
       "7 5.3            4.7            3.9            2.4            2             \n",
       "  AGE80to84years AGE85yearsandover SELECTEDAGECATEGORIES5to14years\n",
       "2 0              0                 0                              \n",
       "3 3              4.7               13                             \n",
       "4 2.8            0.2               12.3                           \n",
       "5 4.8            1.6               12.2                           \n",
       "6 1.4            1                 3.8                            \n",
       "7 1.3            1.1               16.7                           \n",
       "  SUMMARYINDICATORSMedianage(years)\n",
       "2 60.5                             \n",
       "3 52.5                             \n",
       "4 39.6                             \n",
       "5 42.5                             \n",
       "6 43.6                             \n",
       "7 36.6                             "
      ]
     },
     "metadata": {},
     "output_type": "display_data"
    }
   ],
   "source": [
    "head(subset(age_cols, ))"
   ]
  },
  {
   "cell_type": "markdown",
   "metadata": {
    "collapsed": true
   },
   "source": [
    "age_cols[ , 4:ncol(age_cols)] <- sapply(age_cols[ , 4:ncol(age_cols)], as.numeric)"
   ]
  },
  {
   "cell_type": "markdown",
   "metadata": {
    "collapsed": true
   },
   "source": [
    "age_cols[which(is.na(age_cols[4:ncol(age_cols)))] <- 0"
   ]
  },
  {
   "cell_type": "code",
   "execution_count": null,
   "metadata": {},
   "outputs": [],
   "source": [
    "#### Get key columns"
   ]
  },
  {
   "cell_type": "code",
   "execution_count": 64,
   "metadata": {},
   "outputs": [],
   "source": [
    "age_cols2 <- age_cols %>% dplyr::select(one_of(\"Id\", \"Id2\", \"Geography\", \"Totalpopulation\", \n",
    "                                               \"MaleEstimateTotalpopulation\", \"FemaleEstimateTotalpopulation\",\n",
    "                                              \"SUMMARYINDICATORSMedianage(years)\")) %>%\n",
    "\n",
    "                                #    mutate(pop_under_34 = rowSums(as.numeric(as.matrix(.[7:10])))) %>%\n",
    "                                                                            \n",
    "                                                     \n",
    "                                                  #   per_pop_under_34 = round(pop_under_34/\"Total population\" * 100,2)\n",
    "                                                    # %>%\n",
    "                                    as.data.frame()"
   ]
  },
  {
   "cell_type": "markdown",
   "metadata": {
    "collapsed": true
   },
   "source": [
    "age_cols2 <- age_cols %>% dplyr::select(one_of(c(\"Id\", \"Id2\", \"Geography\", \"Totalpopulation\", \n",
    "                                               \"MaleEstimateTotalpopulation\", \"FemaleEstimateTotalpopulation\",\n",
    "                                             \"AGE15to19years\", \"AGE20to24years\", \"AGE25to29years\", \n",
    "                                              \"AGE30to34years\", \"SUMMARYINDICATORSMedianage(years)\"))) %>%\n",
    "                            as.data.frame()"
   ]
  },
  {
   "cell_type": "code",
   "execution_count": null,
   "metadata": {},
   "outputs": [],
   "source": [
    "### Convert to numbers"
   ]
  },
  {
   "cell_type": "code",
   "execution_count": 65,
   "metadata": {},
   "outputs": [
    {
     "name": "stderr",
     "output_type": "stream",
     "text": [
      "Warning message in lapply(X = X, FUN = FUN, ...):\n",
      "\"NAs introduced by coercion\""
     ]
    }
   ],
   "source": [
    "age_cols2[c(\"Totalpopulation\", \"MaleEstimateTotalpopulation\", \n",
    "            \"FemaleEstimateTotalpopulation\",\n",
    "                                   \"SUMMARYINDICATORSMedianage(years)\")] <- \n",
    "sapply(age_cols2[c(\"Totalpopulation\", \"MaleEstimateTotalpopulation\", \n",
    "                   \"FemaleEstimateTotalpopulation\",\n",
    "                                              \"SUMMARYINDICATORSMedianage(years)\")], \n",
    "       as.numeric)"
   ]
  },
  {
   "cell_type": "code",
   "execution_count": null,
   "metadata": {},
   "outputs": [],
   "source": [
    "summary(age_cols2)"
   ]
  },
  {
   "cell_type": "markdown",
   "metadata": {},
   "source": [
    "###### Replace NAs in MedianAge"
   ]
  },
  {
   "cell_type": "code",
   "execution_count": 66,
   "metadata": {},
   "outputs": [],
   "source": [
    "\n",
    "age_cols2 <- age_cols2 %>% dplyr::rename(\"MalePop\" = \"MaleEstimateTotalpopulation\", \n",
    "                                         \"FemalePop\" = \"FemaleEstimateTotalpopulation\" ,\n",
    "                           \"MedianAge\" = \"SUMMARYINDICATORSMedianage(years)\") %>%\n",
    "                            as.data.frame()"
   ]
  },
  {
   "cell_type": "code",
   "execution_count": 67,
   "metadata": {},
   "outputs": [],
   "source": [
    "age_cols2$MedianAge[which(is.na(age_cols2$MedianAge))] <- 0"
   ]
  },
  {
   "cell_type": "code",
   "execution_count": null,
   "metadata": {},
   "outputs": [],
   "source": [
    "### % male and female population"
   ]
  },
  {
   "cell_type": "code",
   "execution_count": 68,
   "metadata": {},
   "outputs": [],
   "source": [
    "age_cols2 <- age_cols2 %>% group_by(Id, Id2, Geography, Totalpopulation, \n",
    "                                    MalePop, FemalePop, MedianAge) %>%\n",
    "                                    summarise(per_male = \n",
    "                                              round(MalePop/Totalpopulation * 100, 2),\n",
    "                                             per_female = \n",
    "                                              round(FemalePop/Totalpopulation * 100, \n",
    "                                                    2)) %>%\n",
    "                            as.data.frame()"
   ]
  },
  {
   "cell_type": "code",
   "execution_count": 69,
   "metadata": {},
   "outputs": [],
   "source": [
    "colnames(age_cols2) <- tolower(colnames(age_cols2))"
   ]
  },
  {
   "cell_type": "markdown",
   "metadata": {},
   "source": [
    "#### Load statistics about urban/rural populations"
   ]
  },
  {
   "cell_type": "code",
   "execution_count": 83,
   "metadata": {},
   "outputs": [],
   "source": [
    "urban <- read.csv(\"../Preprocessing/Files/Demographics/acs_2015_ur3.csv\", \n",
    "                  stringsAsFactors = FALSE)"
   ]
  },
  {
   "cell_type": "code",
   "execution_count": 84,
   "metadata": {},
   "outputs": [],
   "source": [
    "urban_cols <- urban[c(3:7,10)]"
   ]
  },
  {
   "cell_type": "code",
   "execution_count": null,
   "metadata": {},
   "outputs": [],
   "source": [
    "### Rename columns"
   ]
  },
  {
   "cell_type": "code",
   "execution_count": 85,
   "metadata": {},
   "outputs": [],
   "source": [
    "colnames(urban_cols) <- tolower(urban_cols %>% dplyr::slice(1))"
   ]
  },
  {
   "cell_type": "code",
   "execution_count": 86,
   "metadata": {},
   "outputs": [],
   "source": [
    "colnames(urban_cols) <- trimws(gsub(\":\", \"\", colnames(urban_cols)), \"both\")\n",
    "urban_cols$total <- trimws(gsub(\"(\\\\d{1,})\\\\(r\\\\d{1,}\\\\)\", \"\\\\1\", \n",
    "                                urban_cols$total), \"both\")"
   ]
  },
  {
   "cell_type": "code",
   "execution_count": 88,
   "metadata": {
    "scrolled": false
   },
   "outputs": [],
   "source": [
    "urban_cols[ , 4:ncol(urban_cols)] <- sapply(urban_cols[ , 4:ncol(urban_cols)], as.numeric)"
   ]
  },
  {
   "cell_type": "code",
   "execution_count": null,
   "metadata": {},
   "outputs": [],
   "source": [
    "### Replace NAs"
   ]
  },
  {
   "cell_type": "code",
   "execution_count": 89,
   "metadata": {},
   "outputs": [],
   "source": [
    "urban_cols$total[which(is.na(urban_cols$total))] <- 0\n",
    "urban_cols$urban[which(is.na(urban_cols$urban))] <- 0\n",
    "urban_cols$rural[which(is.na(urban_cols$rural))] <- 0"
   ]
  },
  {
   "cell_type": "code",
   "execution_count": 79,
   "metadata": {
    "collapsed": true
   },
   "outputs": [
    {
     "data": {
      "text/plain": [
       "      id                id2             geography             total        \n",
       " Length:27164       Length:27164       Length:27164       Min.   :      0  \n",
       " Class :character   Class :character   Class :character   1st Qu.:    435  \n",
       " Mode  :character   Mode  :character   Mode  :character   Median :   1265  \n",
       "                                                          Mean   :   8406  \n",
       "                                                          3rd Qu.:   4524  \n",
       "                                                          Max.   :8175133  \n",
       "     urban             rural        \n",
       " Min.   :      0   Min.   :    0.0  \n",
       " 1st Qu.:      0   1st Qu.:   42.0  \n",
       " Median :     80   Median :  255.5  \n",
       " Mean   :   7888   Mean   :  517.7  \n",
       " 3rd Qu.:   4222   3rd Qu.:  667.0  \n",
       " Max.   :8175057   Max.   :39432.0  "
      ]
     },
     "metadata": {},
     "output_type": "display_data"
    }
   ],
   "source": [
    "summary(urban_cols)"
   ]
  },
  {
   "cell_type": "code",
   "execution_count": 80,
   "metadata": {
    "collapsed": true
   },
   "outputs": [
    {
     "data": {
      "text/html": [
       "<table>\n",
       "<thead><tr><th></th><th scope=col>id</th><th scope=col>id2</th><th scope=col>geography</th><th scope=col>total</th><th scope=col>urban</th><th scope=col>rural</th></tr></thead>\n",
       "<tbody>\n",
       "\t<tr><th scope=row>27159</th><td>1600000US5683040       </td><td>5683040                </td><td>Wheatland town, Wyoming</td><td>3627                   </td><td>3355                   </td><td> 272                   </td></tr>\n",
       "\t<tr><th scope=row>27160</th><td>1600000US5683765       </td><td>5683765                </td><td>Wilson CDP, Wyoming    </td><td>1482                   </td><td>   0                   </td><td>1482                   </td></tr>\n",
       "\t<tr><th scope=row>27161</th><td>1600000US5684925       </td><td>5684925                </td><td>Worland city, Wyoming  </td><td>5487                   </td><td>5371                   </td><td> 116                   </td></tr>\n",
       "\t<tr><th scope=row>27162</th><td>1600000US5685015       </td><td>5685015                </td><td>Wright town, Wyoming   </td><td>1807                   </td><td>   0                   </td><td>1807                   </td></tr>\n",
       "\t<tr><th scope=row>27163</th><td>1600000US5686665       </td><td>5686665                </td><td>Yoder town, Wyoming    </td><td> 151                   </td><td>   0                   </td><td> 151                   </td></tr>\n",
       "\t<tr><th scope=row>27164</th><td>1600000US5686737       </td><td>5686737                </td><td>Y-O Ranch CDP, Wyoming </td><td> 195                   </td><td>   0                   </td><td> 195                   </td></tr>\n",
       "</tbody>\n",
       "</table>\n"
      ],
      "text/latex": [
       "\\begin{tabular}{r|llllll}\n",
       "  & id & id2 & geography & total & urban & rural\\\\\n",
       "\\hline\n",
       "\t27159 & 1600000US5683040        & 5683040                 & Wheatland town, Wyoming & 3627                    & 3355                    &  272                   \\\\\n",
       "\t27160 & 1600000US5683765        & 5683765                 & Wilson CDP, Wyoming     & 1482                    &    0                    & 1482                   \\\\\n",
       "\t27161 & 1600000US5684925        & 5684925                 & Worland city, Wyoming   & 5487                    & 5371                    &  116                   \\\\\n",
       "\t27162 & 1600000US5685015        & 5685015                 & Wright town, Wyoming    & 1807                    &    0                    & 1807                   \\\\\n",
       "\t27163 & 1600000US5686665        & 5686665                 & Yoder town, Wyoming     &  151                    &    0                    &  151                   \\\\\n",
       "\t27164 & 1600000US5686737        & 5686737                 & Y-O Ranch CDP, Wyoming  &  195                    &    0                    &  195                   \\\\\n",
       "\\end{tabular}\n"
      ],
      "text/markdown": [
       "\n",
       "| <!--/--> | id | id2 | geography | total | urban | rural | \n",
       "|---|---|---|---|---|---|\n",
       "| 27159 | 1600000US5683040        | 5683040                 | Wheatland town, Wyoming | 3627                    | 3355                    |  272                    | \n",
       "| 27160 | 1600000US5683765        | 5683765                 | Wilson CDP, Wyoming     | 1482                    |    0                    | 1482                    | \n",
       "| 27161 | 1600000US5684925        | 5684925                 | Worland city, Wyoming   | 5487                    | 5371                    |  116                    | \n",
       "| 27162 | 1600000US5685015        | 5685015                 | Wright town, Wyoming    | 1807                    |    0                    | 1807                    | \n",
       "| 27163 | 1600000US5686665        | 5686665                 | Yoder town, Wyoming     |  151                    |    0                    |  151                    | \n",
       "| 27164 | 1600000US5686737        | 5686737                 | Y-O Ranch CDP, Wyoming  |  195                    |    0                    |  195                    | \n",
       "\n",
       "\n"
      ],
      "text/plain": [
       "      id               id2     geography               total urban rural\n",
       "27159 1600000US5683040 5683040 Wheatland town, Wyoming 3627  3355   272 \n",
       "27160 1600000US5683765 5683765 Wilson CDP, Wyoming     1482     0  1482 \n",
       "27161 1600000US5684925 5684925 Worland city, Wyoming   5487  5371   116 \n",
       "27162 1600000US5685015 5685015 Wright town, Wyoming    1807     0  1807 \n",
       "27163 1600000US5686665 5686665 Yoder town, Wyoming      151     0   151 \n",
       "27164 1600000US5686737 5686737 Y-O Ranch CDP, Wyoming   195     0   195 "
      ]
     },
     "metadata": {},
     "output_type": "display_data"
    }
   ],
   "source": [
    "tail(urban_cols)"
   ]
  },
  {
   "cell_type": "code",
   "execution_count": 91,
   "metadata": {},
   "outputs": [],
   "source": [
    "urban_cols2 <- urban_cols %>% dplyr::rename(\"total_area\" = \"total\") %>%\n",
    "                                group_by(id, id2, geography, total_area, \n",
    "                                    urban, rural) %>%\n",
    "                                    summarise(per_urban = round(urban/total_area * 100, 2),\n",
    "                                             per_rural = round(rural/total_area * 100, 2)\n",
    "                                             ) %>%\n",
    "                                  #  mutate(isurban = ifelse(per_urban >= 70, 1, 0)) %>%\n",
    "                            as.data.frame()"
   ]
  },
  {
   "cell_type": "code",
   "execution_count": 92,
   "metadata": {},
   "outputs": [],
   "source": [
    "urban_cols2 <- subset(urban_cols2, id != \"Id\")"
   ]
  },
  {
   "cell_type": "code",
   "execution_count": 93,
   "metadata": {
    "collapsed": true
   },
   "outputs": [
    {
     "data": {
      "text/plain": [
       "      id                id2             geography           total_area     \n",
       " Length:27163       Length:27163       Length:27163       Min.   :    100  \n",
       " Class :character   Class :character   Class :character   1st Qu.:    435  \n",
       " Mode  :character   Mode  :character   Mode  :character   Median :   1265  \n",
       "                                                          Mean   :   8406  \n",
       "                                                          3rd Qu.:   4524  \n",
       "                                                          Max.   :8175133  \n",
       "     urban             rural           per_urban        per_rural     \n",
       " Min.   :      0   Min.   :    0.0   Min.   :  0.00   Min.   :  0.00  \n",
       " 1st Qu.:      0   1st Qu.:   42.0   1st Qu.:  0.00   1st Qu.:  0.71  \n",
       " Median :     80   Median :  256.0   Median : 12.07   Median : 87.93  \n",
       " Mean   :   7888   Mean   :  517.8   Mean   : 46.44   Mean   : 53.56  \n",
       " 3rd Qu.:   4223   3rd Qu.:  667.0   3rd Qu.: 99.29   3rd Qu.:100.00  \n",
       " Max.   :8175057   Max.   :39432.0   Max.   :100.00   Max.   :100.00  "
      ]
     },
     "metadata": {},
     "output_type": "display_data"
    }
   ],
   "source": [
    "summary(urban_cols2)"
   ]
  },
  {
   "cell_type": "markdown",
   "metadata": {},
   "source": [
    "###### Load income per capita demographics"
   ]
  },
  {
   "cell_type": "code",
   "execution_count": 94,
   "metadata": {},
   "outputs": [],
   "source": [
    "income <- read.csv(\"../Preprocessing/Files/Demographics/acs_2015_inc_percapita_data.csv\", \n",
    "                  stringsAsFactors = FALSE)"
   ]
  },
  {
   "cell_type": "code",
   "execution_count": 95,
   "metadata": {},
   "outputs": [],
   "source": [
    "income_cols <- income[c(1:4, 6, 60, 62)]"
   ]
  },
  {
   "cell_type": "code",
   "execution_count": 96,
   "metadata": {
    "collapsed": true
   },
   "outputs": [
    {
     "data": {
      "text/html": [
       "<table>\n",
       "<thead><tr><th scope=col>GEO.id</th><th scope=col>GEO.id2</th><th scope=col>GEO.display.label</th><th scope=col>HC01_EST_VC02</th><th scope=col>HC02_EST_VC02</th><th scope=col>HC01_EST_VC20</th><th scope=col>HC02_EST_VC20</th></tr></thead>\n",
       "<tbody>\n",
       "\t<tr><td>Id                                                                                                         </td><td>Id2                                                                                                        </td><td>Geography                                                                                                  </td><td>Total; Estimate; All households                                                                            </td><td>Mean income (dollars); Estimate; All households                                                            </td><td>Total; Estimate; PER CAPITA INCOME BY RACE AND HISPANIC OR LATINO ORIGIN - Total population                </td><td>Mean income (dollars); Estimate; PER CAPITA INCOME BY RACE AND HISPANIC OR LATINO ORIGIN - Total population</td></tr>\n",
       "\t<tr><td>1600000US0100100                                                                                           </td><td>100100                                                                                                     </td><td>Abanda CDP, Alabama                                                                                        </td><td>52                                                                                                         </td><td>14867                                                                                                      </td><td>52                                                                                                         </td><td>14867                                                                                                      </td></tr>\n",
       "\t<tr><td>1600000US0100124                                                                                           </td><td>100124                                                                                                     </td><td>Abbeville city, Alabama                                                                                    </td><td>1056                                                                                                       </td><td>44246                                                                                                      </td><td>2646                                                                                                       </td><td>19262                                                                                                      </td></tr>\n",
       "\t<tr><td>1600000US0100460                                                                                           </td><td>100460                                                                                                     </td><td>Adamsville city, Alabama                                                                                   </td><td>1704                                                                                                       </td><td>56085                                                                                                      </td><td>4454                                                                                                       </td><td>22032                                                                                                      </td></tr>\n",
       "\t<tr><td>1600000US0100484                                                                                           </td><td>100484                                                                                                     </td><td>Addison town, Alabama                                                                                      </td><td>317                                                                                                        </td><td>44483                                                                                                      </td><td>682                                                                                                        </td><td>21389                                                                                                      </td></tr>\n",
       "\t<tr><td>1600000US0100676                                                                                           </td><td>100676                                                                                                     </td><td>Akron town, Alabama                                                                                        </td><td>126                                                                                                        </td><td>24006                                                                                                      </td><td>293                                                                                                        </td><td>11410                                                                                                      </td></tr>\n",
       "</tbody>\n",
       "</table>\n"
      ],
      "text/latex": [
       "\\begin{tabular}{r|lllllll}\n",
       " GEO.id & GEO.id2 & GEO.display.label & HC01\\_EST\\_VC02 & HC02\\_EST\\_VC02 & HC01\\_EST\\_VC20 & HC02\\_EST\\_VC20\\\\\n",
       "\\hline\n",
       "\t Id                                                                                                          & Id2                                                                                                         & Geography                                                                                                   & Total; Estimate; All households                                                                             & Mean income (dollars); Estimate; All households                                                             & Total; Estimate; PER CAPITA INCOME BY RACE AND HISPANIC OR LATINO ORIGIN - Total population                 & Mean income (dollars); Estimate; PER CAPITA INCOME BY RACE AND HISPANIC OR LATINO ORIGIN - Total population\\\\\n",
       "\t 1600000US0100100                                                                                            & 100100                                                                                                      & Abanda CDP, Alabama                                                                                         & 52                                                                                                          & 14867                                                                                                       & 52                                                                                                          & 14867                                                                                                      \\\\\n",
       "\t 1600000US0100124                                                                                            & 100124                                                                                                      & Abbeville city, Alabama                                                                                     & 1056                                                                                                        & 44246                                                                                                       & 2646                                                                                                        & 19262                                                                                                      \\\\\n",
       "\t 1600000US0100460                                                                                            & 100460                                                                                                      & Adamsville city, Alabama                                                                                    & 1704                                                                                                        & 56085                                                                                                       & 4454                                                                                                        & 22032                                                                                                      \\\\\n",
       "\t 1600000US0100484                                                                                            & 100484                                                                                                      & Addison town, Alabama                                                                                       & 317                                                                                                         & 44483                                                                                                       & 682                                                                                                         & 21389                                                                                                      \\\\\n",
       "\t 1600000US0100676                                                                                            & 100676                                                                                                      & Akron town, Alabama                                                                                         & 126                                                                                                         & 24006                                                                                                       & 293                                                                                                         & 11410                                                                                                      \\\\\n",
       "\\end{tabular}\n"
      ],
      "text/markdown": [
       "\n",
       "GEO.id | GEO.id2 | GEO.display.label | HC01_EST_VC02 | HC02_EST_VC02 | HC01_EST_VC20 | HC02_EST_VC20 | \n",
       "|---|---|---|---|---|---|\n",
       "| Id                                                                                                          | Id2                                                                                                         | Geography                                                                                                   | Total; Estimate; All households                                                                             | Mean income (dollars); Estimate; All households                                                             | Total; Estimate; PER CAPITA INCOME BY RACE AND HISPANIC OR LATINO ORIGIN - Total population                 | Mean income (dollars); Estimate; PER CAPITA INCOME BY RACE AND HISPANIC OR LATINO ORIGIN - Total population | \n",
       "| 1600000US0100100                                                                                            | 100100                                                                                                      | Abanda CDP, Alabama                                                                                         | 52                                                                                                          | 14867                                                                                                       | 52                                                                                                          | 14867                                                                                                       | \n",
       "| 1600000US0100124                                                                                            | 100124                                                                                                      | Abbeville city, Alabama                                                                                     | 1056                                                                                                        | 44246                                                                                                       | 2646                                                                                                        | 19262                                                                                                       | \n",
       "| 1600000US0100460                                                                                            | 100460                                                                                                      | Adamsville city, Alabama                                                                                    | 1704                                                                                                        | 56085                                                                                                       | 4454                                                                                                        | 22032                                                                                                       | \n",
       "| 1600000US0100484                                                                                            | 100484                                                                                                      | Addison town, Alabama                                                                                       | 317                                                                                                         | 44483                                                                                                       | 682                                                                                                         | 21389                                                                                                       | \n",
       "| 1600000US0100676                                                                                            | 100676                                                                                                      | Akron town, Alabama                                                                                         | 126                                                                                                         | 24006                                                                                                       | 293                                                                                                         | 11410                                                                                                       | \n",
       "\n",
       "\n"
      ],
      "text/plain": [
       "  GEO.id           GEO.id2 GEO.display.label       \n",
       "1 Id               Id2     Geography               \n",
       "2 1600000US0100100 100100  Abanda CDP, Alabama     \n",
       "3 1600000US0100124 100124  Abbeville city, Alabama \n",
       "4 1600000US0100460 100460  Adamsville city, Alabama\n",
       "5 1600000US0100484 100484  Addison town, Alabama   \n",
       "6 1600000US0100676 100676  Akron town, Alabama     \n",
       "  HC01_EST_VC02                  \n",
       "1 Total; Estimate; All households\n",
       "2 52                             \n",
       "3 1056                           \n",
       "4 1704                           \n",
       "5 317                            \n",
       "6 126                            \n",
       "  HC02_EST_VC02                                  \n",
       "1 Mean income (dollars); Estimate; All households\n",
       "2 14867                                          \n",
       "3 44246                                          \n",
       "4 56085                                          \n",
       "5 44483                                          \n",
       "6 24006                                          \n",
       "  HC01_EST_VC20                                                                              \n",
       "1 Total; Estimate; PER CAPITA INCOME BY RACE AND HISPANIC OR LATINO ORIGIN - Total population\n",
       "2 52                                                                                         \n",
       "3 2646                                                                                       \n",
       "4 4454                                                                                       \n",
       "5 682                                                                                        \n",
       "6 293                                                                                        \n",
       "  HC02_EST_VC20                                                                                              \n",
       "1 Mean income (dollars); Estimate; PER CAPITA INCOME BY RACE AND HISPANIC OR LATINO ORIGIN - Total population\n",
       "2 14867                                                                                                      \n",
       "3 19262                                                                                                      \n",
       "4 22032                                                                                                      \n",
       "5 21389                                                                                                      \n",
       "6 11410                                                                                                      "
      ]
     },
     "metadata": {},
     "output_type": "display_data"
    }
   ],
   "source": [
    "head(income_cols,6)"
   ]
  },
  {
   "cell_type": "code",
   "execution_count": null,
   "metadata": {},
   "outputs": [],
   "source": [
    "### Rename columns"
   ]
  },
  {
   "cell_type": "code",
   "execution_count": 97,
   "metadata": {
    "scrolled": true
   },
   "outputs": [],
   "source": [
    "colnames(income_cols) <- tolower(income_cols %>% dplyr::slice(1))"
   ]
  },
  {
   "cell_type": "code",
   "execution_count": 98,
   "metadata": {
    "scrolled": true
   },
   "outputs": [],
   "source": [
    "income_cols <- income_cols[2:nrow(income_cols), ]"
   ]
  },
  {
   "cell_type": "code",
   "execution_count": 99,
   "metadata": {
    "scrolled": false
   },
   "outputs": [],
   "source": [
    "colnames(income_cols)[4:7] <- c(\"total_population_income_households\", \n",
    "                                \"mean_income_households\", \n",
    "                                \"total_population_individuals\", \"mean_income_per_capita\")"
   ]
  },
  {
   "cell_type": "code",
   "execution_count": 100,
   "metadata": {
    "scrolled": false
   },
   "outputs": [
    {
     "name": "stderr",
     "output_type": "stream",
     "text": [
      "Warning message in lapply(X = X, FUN = FUN, ...):\n",
      "\"NAs introduced by coercion\"Warning message in lapply(X = X, FUN = FUN, ...):\n",
      "\"NAs introduced by coercion\""
     ]
    }
   ],
   "source": [
    "income_cols[ , 4:ncol(income_cols)] <- sapply(income_cols[ , 4:ncol(income_cols)], as.numeric)"
   ]
  },
  {
   "cell_type": "code",
   "execution_count": 101,
   "metadata": {
    "collapsed": true
   },
   "outputs": [
    {
     "data": {
      "text/plain": [
       "      id                id2             geography        \n",
       " Length:29321       Length:29321       Length:29321      \n",
       " Class :character   Class :character   Class :character  \n",
       " Mode  :character   Mode  :character   Mode  :character  \n",
       "                                                         \n",
       "                                                         \n",
       "                                                         \n",
       "                                                         \n",
       " total_population_income_households mean_income_households\n",
       " Min.   :      0                    Min.   :   713        \n",
       " 1st Qu.:    128                    1st Qu.: 45065        \n",
       " Median :    416                    Median : 55275        \n",
       " Mean   :   2975                    Mean   : 63721        \n",
       " 3rd Qu.:   1531                    3rd Qu.: 70891        \n",
       " Max.   :3113535                    Max.   :987277        \n",
       "                                    NA's   :789           \n",
       " total_population_individuals mean_income_per_capita\n",
       " Min.   :      0              Min.   :   223        \n",
       " 1st Qu.:    331              1st Qu.: 18248        \n",
       " Median :   1087              Median : 22728        \n",
       " Mean   :   8043              Mean   : 25609        \n",
       " 3rd Qu.:   4090              3rd Qu.: 28801        \n",
       " Max.   :8426743              Max.   :381072        \n",
       "                              NA's   :470           "
      ]
     },
     "metadata": {},
     "output_type": "display_data"
    }
   ],
   "source": [
    "summary(income_cols)"
   ]
  },
  {
   "cell_type": "code",
   "execution_count": 102,
   "metadata": {},
   "outputs": [],
   "source": [
    "income_cols$state <- as.character(trimws(str_split_fixed(income_cols$geography, \",\", n = 2)[, 2], \n",
    "                                      \"both\"))"
   ]
  },
  {
   "cell_type": "markdown",
   "metadata": {},
   "source": [
    "median_state <- income_cols %>% dplyr::select(\"state\", \"mean_income\", \"total_income\",\n",
    "                                              \"mean_income_per_capita\") %>%\n",
    "                                    group_by(state) %>%\n",
    "                                    summarise(med_inc = round(median(mean_income, na.rm = TRUE)),\n",
    "                                              med_inc_capita_races = \n",
    "                                              round(median(mean_income_per_capita, na.rm = TRUE))) %>%\n",
    "                            ungroup() %>%\n",
    "                            as.data.frame()"
   ]
  },
  {
   "cell_type": "code",
   "execution_count": 11,
   "metadata": {
    "collapsed": true
   },
   "outputs": [
    {
     "data": {
      "text/html": [
       "<table>\n",
       "<thead><tr><th></th><th scope=col>id</th><th scope=col>id2</th><th scope=col>geography</th><th scope=col>total_population_income_households</th><th scope=col>mean_income_households</th><th scope=col>total_population_individuals</th><th scope=col>mean_income_per_capita</th><th scope=col>state</th></tr></thead>\n",
       "<tbody>\n",
       "\t<tr><th scope=row>2</th><td>1600000US0100100        </td><td>100100                  </td><td>Abanda CDP, Alabama     </td><td>   52                   </td><td>14867                   </td><td>   52                   </td><td>14867                   </td><td>Alabama                 </td></tr>\n",
       "\t<tr><th scope=row>3</th><td>1600000US0100124        </td><td>100124                  </td><td>Abbeville city, Alabama </td><td> 1056                   </td><td>44246                   </td><td> 2646                   </td><td>19262                   </td><td>Alabama                 </td></tr>\n",
       "\t<tr><th scope=row>4</th><td>1600000US0100460        </td><td>100460                  </td><td>Adamsville city, Alabama</td><td> 1704                   </td><td>56085                   </td><td> 4454                   </td><td>22032                   </td><td>Alabama                 </td></tr>\n",
       "\t<tr><th scope=row>5</th><td>1600000US0100484        </td><td>100484                  </td><td>Addison town, Alabama   </td><td>  317                   </td><td>44483                   </td><td>  682                   </td><td>21389                   </td><td>Alabama                 </td></tr>\n",
       "\t<tr><th scope=row>6</th><td>1600000US0100676        </td><td>100676                  </td><td>Akron town, Alabama     </td><td>  126                   </td><td>24006                   </td><td>  293                   </td><td>11410                   </td><td>Alabama                 </td></tr>\n",
       "\t<tr><th scope=row>7</th><td>1600000US0100820        </td><td>100820                  </td><td>Alabaster city, Alabama </td><td>10556                   </td><td>80353                   </td><td>31905                   </td><td>27382                   </td><td>Alabama                 </td></tr>\n",
       "</tbody>\n",
       "</table>\n"
      ],
      "text/latex": [
       "\\begin{tabular}{r|llllllll}\n",
       "  & id & id2 & geography & total\\_population\\_income\\_households & mean\\_income\\_households & total\\_population\\_individuals & mean\\_income\\_per\\_capita & state\\\\\n",
       "\\hline\n",
       "\t2 & 1600000US0100100         & 100100                   & Abanda CDP, Alabama      &    52                    & 14867                    &    52                    & 14867                    & Alabama                 \\\\\n",
       "\t3 & 1600000US0100124         & 100124                   & Abbeville city, Alabama  &  1056                    & 44246                    &  2646                    & 19262                    & Alabama                 \\\\\n",
       "\t4 & 1600000US0100460         & 100460                   & Adamsville city, Alabama &  1704                    & 56085                    &  4454                    & 22032                    & Alabama                 \\\\\n",
       "\t5 & 1600000US0100484         & 100484                   & Addison town, Alabama    &   317                    & 44483                    &   682                    & 21389                    & Alabama                 \\\\\n",
       "\t6 & 1600000US0100676         & 100676                   & Akron town, Alabama      &   126                    & 24006                    &   293                    & 11410                    & Alabama                 \\\\\n",
       "\t7 & 1600000US0100820         & 100820                   & Alabaster city, Alabama  & 10556                    & 80353                    & 31905                    & 27382                    & Alabama                 \\\\\n",
       "\\end{tabular}\n"
      ],
      "text/markdown": [
       "\n",
       "| <!--/--> | id | id2 | geography | total_population_income_households | mean_income_households | total_population_individuals | mean_income_per_capita | state | \n",
       "|---|---|---|---|---|---|\n",
       "| 2 | 1600000US0100100         | 100100                   | Abanda CDP, Alabama      |    52                    | 14867                    |    52                    | 14867                    | Alabama                  | \n",
       "| 3 | 1600000US0100124         | 100124                   | Abbeville city, Alabama  |  1056                    | 44246                    |  2646                    | 19262                    | Alabama                  | \n",
       "| 4 | 1600000US0100460         | 100460                   | Adamsville city, Alabama |  1704                    | 56085                    |  4454                    | 22032                    | Alabama                  | \n",
       "| 5 | 1600000US0100484         | 100484                   | Addison town, Alabama    |   317                    | 44483                    |   682                    | 21389                    | Alabama                  | \n",
       "| 6 | 1600000US0100676         | 100676                   | Akron town, Alabama      |   126                    | 24006                    |   293                    | 11410                    | Alabama                  | \n",
       "| 7 | 1600000US0100820         | 100820                   | Alabaster city, Alabama  | 10556                    | 80353                    | 31905                    | 27382                    | Alabama                  | \n",
       "\n",
       "\n"
      ],
      "text/plain": [
       "  id               id2    geography               \n",
       "2 1600000US0100100 100100 Abanda CDP, Alabama     \n",
       "3 1600000US0100124 100124 Abbeville city, Alabama \n",
       "4 1600000US0100460 100460 Adamsville city, Alabama\n",
       "5 1600000US0100484 100484 Addison town, Alabama   \n",
       "6 1600000US0100676 100676 Akron town, Alabama     \n",
       "7 1600000US0100820 100820 Alabaster city, Alabama \n",
       "  total_population_income_households mean_income_households\n",
       "2    52                              14867                 \n",
       "3  1056                              44246                 \n",
       "4  1704                              56085                 \n",
       "5   317                              44483                 \n",
       "6   126                              24006                 \n",
       "7 10556                              80353                 \n",
       "  total_population_individuals mean_income_per_capita state  \n",
       "2    52                        14867                  Alabama\n",
       "3  2646                        19262                  Alabama\n",
       "4  4454                        22032                  Alabama\n",
       "5   682                        21389                  Alabama\n",
       "6   293                        11410                  Alabama\n",
       "7 31905                        27382                  Alabama"
      ]
     },
     "metadata": {},
     "output_type": "display_data"
    }
   ],
   "source": [
    "head(income_cols)"
   ]
  },
  {
   "cell_type": "code",
   "execution_count": null,
   "metadata": {},
   "outputs": [],
   "source": [
    "### Replace missing income with mean and median"
   ]
  },
  {
   "cell_type": "code",
   "execution_count": 103,
   "metadata": {},
   "outputs": [],
   "source": [
    "income_cols <- income_cols %>% \n",
    "               group_by(state, add = FALSE) %>%\n",
    "               mutate(mean_income_households = ifelse(total_population_income_households == \n",
    "                                                      0, 0, \n",
    "                                            replace(mean_income_households, \n",
    "                                                    is.na(mean_income_households), \n",
    "                                           round(mean(mean_income_households, \n",
    "                                                      na.rm = TRUE))))) %>%\n",
    "                mutate(mean_income_per_capita = ifelse(total_population_individuals == \n",
    "                                                       0, 0, \n",
    "                                                       replace(mean_income_per_capita,\n",
    "                                                        is.na(mean_income_per_capita), \n",
    "                        round(median(mean_income_per_capita, na.rm = TRUE))))) %>%\n",
    "                as.data.frame()"
   ]
  },
  {
   "cell_type": "code",
   "execution_count": 161,
   "metadata": {},
   "outputs": [
    {
     "data": {
      "text/plain": [
       "      id                id2             geography        \n",
       " Length:29321       Length:29321       Length:29321      \n",
       " Class :character   Class :character   Class :character  \n",
       " Mode  :character   Mode  :character   Mode  :character  \n",
       "                                                         \n",
       "                                                         \n",
       "                                                         \n",
       " total_population_income_households mean_income_households\n",
       " Min.   :      0                    Min.   :     0        \n",
       " 1st Qu.:    128                    1st Qu.: 45040        \n",
       " Median :    416                    Median : 55260        \n",
       " Mean   :   2975                    Mean   : 63261        \n",
       " 3rd Qu.:   1531                    3rd Qu.: 70761        \n",
       " Max.   :3113535                    Max.   :987277        \n",
       " total_population_individuals mean_income_per_capita    state          \n",
       " Min.   :      0              Min.   :     0         Length:29321      \n",
       " 1st Qu.:    331              1st Qu.: 18202         Class :character  \n",
       " Median :   1087              Median : 22671         Mode  :character  \n",
       " Mean   :   8043              Mean   : 25414                           \n",
       " 3rd Qu.:   4090              3rd Qu.: 28666                           \n",
       " Max.   :8426743              Max.   :381072                           "
      ]
     },
     "metadata": {},
     "output_type": "display_data"
    }
   ],
   "source": [
    "summary(income_cols)"
   ]
  },
  {
   "cell_type": "code",
   "execution_count": 104,
   "metadata": {
    "scrolled": true
   },
   "outputs": [
    {
     "data": {
      "text/html": [
       "29321"
      ],
      "text/latex": [
       "29321"
      ],
      "text/markdown": [
       "29321"
      ],
      "text/plain": [
       "[1] 29321"
      ]
     },
     "metadata": {},
     "output_type": "display_data"
    }
   ],
   "source": [
    "nrow(income_cols)"
   ]
  },
  {
   "cell_type": "markdown",
   "metadata": {},
   "source": [
    "###### Load Household income demographics"
   ]
  },
  {
   "cell_type": "code",
   "execution_count": 109,
   "metadata": {},
   "outputs": [],
   "source": [
    "house_income <- read.csv(\"../Preprocessing/Files/Demographics/acs_2015_inc_median_households_data.csv\", \n",
    "                  stringsAsFactors = FALSE)"
   ]
  },
  {
   "cell_type": "code",
   "execution_count": 110,
   "metadata": {},
   "outputs": [],
   "source": [
    "house_income_cols <- house_income[c(1:4, 6)]"
   ]
  },
  {
   "cell_type": "code",
   "execution_count": 314,
   "metadata": {
    "collapsed": true
   },
   "outputs": [
    {
     "data": {
      "text/html": [
       "<table>\n",
       "<thead><tr><th></th><th scope=col>id</th><th scope=col>id2</th><th scope=col>geography</th><th scope=col>total_income</th><th scope=col>median_income</th></tr></thead>\n",
       "<tbody>\n",
       "\t<tr><th scope=row>2</th><td>1600000US0100100        </td><td>100100                  </td><td>Abanda CDP, Alabama     </td><td>52                      </td><td>11207                   </td></tr>\n",
       "\t<tr><th scope=row>3</th><td>1600000US0100124        </td><td>100124                  </td><td>Abbeville city, Alabama </td><td>1056                    </td><td>25615                   </td></tr>\n",
       "\t<tr><th scope=row>4</th><td>1600000US0100460        </td><td>100460                  </td><td>Adamsville city, Alabama</td><td>1704                    </td><td>42575                   </td></tr>\n",
       "\t<tr><th scope=row>5</th><td>1600000US0100484        </td><td>100484                  </td><td>Addison town, Alabama   </td><td>317                     </td><td>37083                   </td></tr>\n",
       "\t<tr><th scope=row>6</th><td>1600000US0100676        </td><td>100676                  </td><td>Akron town, Alabama     </td><td>126                     </td><td>21667                   </td></tr>\n",
       "\t<tr><th scope=row>7</th><td>1600000US0100820        </td><td>100820                  </td><td>Alabaster city, Alabama </td><td>10556                   </td><td>71816                   </td></tr>\n",
       "</tbody>\n",
       "</table>\n"
      ],
      "text/latex": [
       "\\begin{tabular}{r|lllll}\n",
       "  & id & id2 & geography & total\\_income & median\\_income\\\\\n",
       "\\hline\n",
       "\t2 & 1600000US0100100         & 100100                   & Abanda CDP, Alabama      & 52                       & 11207                   \\\\\n",
       "\t3 & 1600000US0100124         & 100124                   & Abbeville city, Alabama  & 1056                     & 25615                   \\\\\n",
       "\t4 & 1600000US0100460         & 100460                   & Adamsville city, Alabama & 1704                     & 42575                   \\\\\n",
       "\t5 & 1600000US0100484         & 100484                   & Addison town, Alabama    & 317                      & 37083                   \\\\\n",
       "\t6 & 1600000US0100676         & 100676                   & Akron town, Alabama      & 126                      & 21667                   \\\\\n",
       "\t7 & 1600000US0100820         & 100820                   & Alabaster city, Alabama  & 10556                    & 71816                   \\\\\n",
       "\\end{tabular}\n"
      ],
      "text/markdown": [
       "\n",
       "| <!--/--> | id | id2 | geography | total_income | median_income | \n",
       "|---|---|---|---|---|---|\n",
       "| 2 | 1600000US0100100         | 100100                   | Abanda CDP, Alabama      | 52                       | 11207                    | \n",
       "| 3 | 1600000US0100124         | 100124                   | Abbeville city, Alabama  | 1056                     | 25615                    | \n",
       "| 4 | 1600000US0100460         | 100460                   | Adamsville city, Alabama | 1704                     | 42575                    | \n",
       "| 5 | 1600000US0100484         | 100484                   | Addison town, Alabama    | 317                      | 37083                    | \n",
       "| 6 | 1600000US0100676         | 100676                   | Akron town, Alabama      | 126                      | 21667                    | \n",
       "| 7 | 1600000US0100820         | 100820                   | Alabaster city, Alabama  | 10556                    | 71816                    | \n",
       "\n",
       "\n"
      ],
      "text/plain": [
       "  id               id2    geography                total_income median_income\n",
       "2 1600000US0100100 100100 Abanda CDP, Alabama      52           11207        \n",
       "3 1600000US0100124 100124 Abbeville city, Alabama  1056         25615        \n",
       "4 1600000US0100460 100460 Adamsville city, Alabama 1704         42575        \n",
       "5 1600000US0100484 100484 Addison town, Alabama    317          37083        \n",
       "6 1600000US0100676 100676 Akron town, Alabama      126          21667        \n",
       "7 1600000US0100820 100820 Alabaster city, Alabama  10556        71816        "
      ]
     },
     "metadata": {},
     "output_type": "display_data"
    }
   ],
   "source": [
    "head(house_income_cols)"
   ]
  },
  {
   "cell_type": "code",
   "execution_count": null,
   "metadata": {},
   "outputs": [],
   "source": [
    "### Rename columns"
   ]
  },
  {
   "cell_type": "code",
   "execution_count": 111,
   "metadata": {},
   "outputs": [],
   "source": [
    "colnames(house_income_cols) <- tolower(house_income_cols %>% dplyr::slice(1))"
   ]
  },
  {
   "cell_type": "code",
   "execution_count": 112,
   "metadata": {
    "scrolled": true
   },
   "outputs": [],
   "source": [
    "house_income_cols <- house_income_cols[2:nrow(house_income_cols), ]"
   ]
  },
  {
   "cell_type": "code",
   "execution_count": 113,
   "metadata": {
    "scrolled": false
   },
   "outputs": [],
   "source": [
    "colnames(house_income_cols)[4:5] <- c(\"total_income\", \"median_income\")"
   ]
  },
  {
   "cell_type": "code",
   "execution_count": 114,
   "metadata": {
    "collapsed": true
   },
   "outputs": [
    {
     "data": {
      "text/plain": [
       "      id                id2             geography         total_income      \n",
       " Length:29321       Length:29321       Length:29321       Length:29321      \n",
       " Class :character   Class :character   Class :character   Class :character  \n",
       " Mode  :character   Mode  :character   Mode  :character   Mode  :character  \n",
       " median_income     \n",
       " Length:29321      \n",
       " Class :character  \n",
       " Mode  :character  "
      ]
     },
     "metadata": {},
     "output_type": "display_data"
    }
   ],
   "source": [
    "summary(house_income_cols)"
   ]
  },
  {
   "cell_type": "code",
   "execution_count": 116,
   "metadata": {
    "scrolled": false
   },
   "outputs": [],
   "source": [
    "house_income_cols[ , 4:ncol(house_income_cols)] <- \n",
    "                    sapply(house_income_cols[ , 4:ncol(house_income_cols)], as.numeric)"
   ]
  },
  {
   "cell_type": "code",
   "execution_count": 89,
   "metadata": {
    "collapsed": true
   },
   "outputs": [
    {
     "data": {
      "text/plain": [
       "      id                id2             geography          total_income    \n",
       " Length:29321       Length:29321       Length:29321       Min.   :      0  \n",
       " Class :character   Class :character   Class :character   1st Qu.:    128  \n",
       " Mode  :character   Mode  :character   Mode  :character   Median :    416  \n",
       "                                                          Mean   :   2975  \n",
       "                                                          3rd Qu.:   1531  \n",
       "                                                          Max.   :3113535  \n",
       "                                                                           \n",
       " median_income   \n",
       " Min.   :  4511  \n",
       " 1st Qu.: 35625  \n",
       " Median : 45305  \n",
       " Mean   : 51177  \n",
       " 3rd Qu.: 59482  \n",
       " Max.   :244083  \n",
       " NA's   :1937    "
      ]
     },
     "metadata": {},
     "output_type": "display_data"
    }
   ],
   "source": [
    "summary(house_income_cols)"
   ]
  },
  {
   "cell_type": "code",
   "execution_count": 117,
   "metadata": {
    "scrolled": true
   },
   "outputs": [],
   "source": [
    "house_income_cols$state <- as.character(trimws(str_split_fixed(house_income_cols$geography, \",\", n = 2)[, 2], \n",
    "                                      \"both\"))"
   ]
  },
  {
   "cell_type": "code",
   "execution_count": null,
   "metadata": {},
   "outputs": [],
   "source": [
    "#### Replace missing data with median"
   ]
  },
  {
   "cell_type": "code",
   "execution_count": 118,
   "metadata": {},
   "outputs": [],
   "source": [
    "house_income_cols <- house_income_cols %>%\n",
    "                dplyr::rename(\"house_total_population\" = \"total_income\", \n",
    "                              \"house_median_income\" = \"median_income\") %>%\n",
    "                group_by(state, add = FALSE) %>%\n",
    "                mutate(house_median_income = ifelse(house_total_population == 0, 0, \n",
    "                                            replace(house_median_income, \n",
    "                                                    is.na(house_median_income), \n",
    "                                           round(median(house_median_income, na.rm = TRUE))))) %>%\n",
    "             #   mutate(mean_income_per_capita = ifelse(total_income == 0, 0, \n",
    "                                                     #  replace(mean_income_per_capita,\n",
    "                                                     #   is.na(mean_income_per_capita), \n",
    "                       # round(median(mean_income_per_capita, na.rm = TRUE))))) %>%\n",
    "                as.data.frame()"
   ]
  },
  {
   "cell_type": "code",
   "execution_count": 162,
   "metadata": {},
   "outputs": [
    {
     "data": {
      "text/plain": [
       "      id                id2             geography        \n",
       " Length:29321       Length:29321       Length:29321      \n",
       " Class :character   Class :character   Class :character  \n",
       " Mode  :character   Mode  :character   Mode  :character  \n",
       "                                                         \n",
       "                                                         \n",
       "                                                         \n",
       " house_total_population house_median_income    state          \n",
       " Min.   :      0        Min.   :     0      Length:29321      \n",
       " 1st Qu.:    128        1st Qu.: 35898      Class :character  \n",
       " Median :    416        Median : 44874      Mode  :character  \n",
       " Mean   :   2975        Mean   : 50487                        \n",
       " 3rd Qu.:   1531        3rd Qu.: 58125                        \n",
       " Max.   :3113535        Max.   :244083                        "
      ]
     },
     "metadata": {},
     "output_type": "display_data"
    }
   ],
   "source": [
    "summary(house_income_cols)"
   ]
  },
  {
   "cell_type": "markdown",
   "metadata": {},
   "source": [
    "###### Load race data"
   ]
  },
  {
   "cell_type": "code",
   "execution_count": 119,
   "metadata": {},
   "outputs": [],
   "source": [
    "race <- read.csv(\"../Preprocessing/Files/Demographics/acs_2015_race_data.csv\", \n",
    "                  stringsAsFactors = FALSE)"
   ]
  },
  {
   "cell_type": "code",
   "execution_count": 120,
   "metadata": {},
   "outputs": [],
   "source": [
    "race_cols <- race[c(1:4, 6,8)]"
   ]
  },
  {
   "cell_type": "code",
   "execution_count": 121,
   "metadata": {
    "collapsed": true
   },
   "outputs": [
    {
     "data": {
      "text/html": [
       "<table>\n",
       "<thead><tr><th scope=col>GEO.id</th><th scope=col>GEO.id2</th><th scope=col>GEO.display.label</th><th scope=col>HD01_VD01</th><th scope=col>HD01_VD02</th><th scope=col>HD01_VD03</th></tr></thead>\n",
       "<tbody>\n",
       "\t<tr><td>Id                                                </td><td>Id2                                               </td><td>Geography                                         </td><td>Estimate; Total:                                  </td><td>Estimate; Total: - White alone                    </td><td>Estimate; Total: - Black or African American alone</td></tr>\n",
       "\t<tr><td>1600000US0100100                                  </td><td>100100                                            </td><td>Abanda CDP, Alabama                               </td><td>52                                                </td><td>40                                                </td><td>12                                                </td></tr>\n",
       "\t<tr><td>1600000US0100124                                  </td><td>100124                                            </td><td>Abbeville city, Alabama                           </td><td>2646                                              </td><td>1396                                              </td><td>1227                                              </td></tr>\n",
       "</tbody>\n",
       "</table>\n"
      ],
      "text/latex": [
       "\\begin{tabular}{r|llllll}\n",
       " GEO.id & GEO.id2 & GEO.display.label & HD01\\_VD01 & HD01\\_VD02 & HD01\\_VD03\\\\\n",
       "\\hline\n",
       "\t Id                                                 & Id2                                                & Geography                                          & Estimate; Total:                                   & Estimate; Total: - White alone                     & Estimate; Total: - Black or African American alone\\\\\n",
       "\t 1600000US0100100                                   & 100100                                             & Abanda CDP, Alabama                                & 52                                                 & 40                                                 & 12                                                \\\\\n",
       "\t 1600000US0100124                                   & 100124                                             & Abbeville city, Alabama                            & 2646                                               & 1396                                               & 1227                                              \\\\\n",
       "\\end{tabular}\n"
      ],
      "text/markdown": [
       "\n",
       "GEO.id | GEO.id2 | GEO.display.label | HD01_VD01 | HD01_VD02 | HD01_VD03 | \n",
       "|---|---|---|\n",
       "| Id                                                 | Id2                                                | Geography                                          | Estimate; Total:                                   | Estimate; Total: - White alone                     | Estimate; Total: - Black or African American alone | \n",
       "| 1600000US0100100                                   | 100100                                             | Abanda CDP, Alabama                                | 52                                                 | 40                                                 | 12                                                 | \n",
       "| 1600000US0100124                                   | 100124                                             | Abbeville city, Alabama                            | 2646                                               | 1396                                               | 1227                                               | \n",
       "\n",
       "\n"
      ],
      "text/plain": [
       "  GEO.id           GEO.id2 GEO.display.label       HD01_VD01       \n",
       "1 Id               Id2     Geography               Estimate; Total:\n",
       "2 1600000US0100100 100100  Abanda CDP, Alabama     52              \n",
       "3 1600000US0100124 100124  Abbeville city, Alabama 2646            \n",
       "  HD01_VD02                     \n",
       "1 Estimate; Total: - White alone\n",
       "2 40                            \n",
       "3 1396                          \n",
       "  HD01_VD03                                         \n",
       "1 Estimate; Total: - Black or African American alone\n",
       "2 12                                                \n",
       "3 1227                                              "
      ]
     },
     "metadata": {},
     "output_type": "display_data"
    }
   ],
   "source": [
    "head(race_cols,3)"
   ]
  },
  {
   "cell_type": "code",
   "execution_count": 122,
   "metadata": {},
   "outputs": [],
   "source": [
    "colnames(race_cols) <- tolower(race_cols %>% dplyr::slice(1))"
   ]
  },
  {
   "cell_type": "code",
   "execution_count": 123,
   "metadata": {
    "scrolled": true
   },
   "outputs": [],
   "source": [
    "race_cols <- race_cols[2:nrow(race_cols), ]"
   ]
  },
  {
   "cell_type": "code",
   "execution_count": 124,
   "metadata": {
    "scrolled": false
   },
   "outputs": [],
   "source": [
    "colnames(race_cols)[4:6] <- c(\"total_population\", \"white_population\", \"black_population\")"
   ]
  },
  {
   "cell_type": "code",
   "execution_count": 125,
   "metadata": {
    "collapsed": true
   },
   "outputs": [
    {
     "data": {
      "text/plain": [
       "      id                id2             geography         total_population  \n",
       " Length:29321       Length:29321       Length:29321       Length:29321      \n",
       " Class :character   Class :character   Class :character   Class :character  \n",
       " Mode  :character   Mode  :character   Mode  :character   Mode  :character  \n",
       " white_population   black_population  \n",
       " Length:29321       Length:29321      \n",
       " Class :character   Class :character  \n",
       " Mode  :character   Mode  :character  "
      ]
     },
     "metadata": {},
     "output_type": "display_data"
    }
   ],
   "source": [
    "summary(race_cols)"
   ]
  },
  {
   "cell_type": "code",
   "execution_count": 126,
   "metadata": {
    "scrolled": false
   },
   "outputs": [],
   "source": [
    "race_cols[ , 4:ncol(race_cols)] <- sapply(race_cols[ , 4:ncol(race_cols)], as.numeric)"
   ]
  },
  {
   "cell_type": "code",
   "execution_count": 127,
   "metadata": {
    "collapsed": true
   },
   "outputs": [
    {
     "data": {
      "text/plain": [
       "      id                id2             geography         total_population \n",
       " Length:29321       Length:29321       Length:29321       Min.   :      0  \n",
       " Class :character   Class :character   Class :character   1st Qu.:    331  \n",
       " Mode  :character   Mode  :character   Mode  :character   Median :   1087  \n",
       "                                                          Mean   :   8043  \n",
       "                                                          3rd Qu.:   4090  \n",
       "                                                          Max.   :8426743  \n",
       " white_population  black_population \n",
       " Min.   :      0   Min.   :      0  \n",
       " 1st Qu.:    265   1st Qu.:      0  \n",
       " Median :    901   Median :      7  \n",
       " Mean   :   5613   Mean   :   1135  \n",
       " 3rd Qu.:   3263   3rd Qu.:    157  \n",
       " Max.   :3648214   Max.   :2065597  "
      ]
     },
     "metadata": {},
     "output_type": "display_data"
    }
   ],
   "source": [
    "summary(race_cols)"
   ]
  },
  {
   "cell_type": "code",
   "execution_count": null,
   "metadata": {},
   "outputs": [],
   "source": [
    "### Get state"
   ]
  },
  {
   "cell_type": "code",
   "execution_count": 128,
   "metadata": {
    "scrolled": true
   },
   "outputs": [],
   "source": [
    "race_cols$state <- as.character(trimws(str_split_fixed(race_cols$geography, \",\", n = 2)[, 2], \n",
    "                                      \"both\"))"
   ]
  },
  {
   "cell_type": "code",
   "execution_count": 129,
   "metadata": {},
   "outputs": [],
   "source": [
    "race_cols <- race_cols %>% dplyr::rename(\"total_population_race\" = \"total_population\") %>%\n",
    "                mutate(per_white = ifelse(total_population_race == 0, \n",
    "                                          0, round(white_population/total_population_race * 100, 2))) %>%\n",
    "                mutate(per_black = ifelse(total_population_race == 0, \n",
    "                                          0, round(black_population/total_population_race * 100, 2))) %>%\n",
    "                as.data.frame()"
   ]
  },
  {
   "cell_type": "code",
   "execution_count": 366,
   "metadata": {
    "collapsed": true
   },
   "outputs": [
    {
     "data": {
      "text/plain": [
       "      id                id2             geography         total_population \n",
       " Length:29321       Length:29321       Length:29321       Min.   :      0  \n",
       " Class :character   Class :character   Class :character   1st Qu.:    331  \n",
       " Mode  :character   Mode  :character   Mode  :character   Median :   1087  \n",
       "                                                          Mean   :   8043  \n",
       "                                                          3rd Qu.:   4090  \n",
       "                                                          Max.   :8426743  \n",
       " white_population  black_population     state             per_white     \n",
       " Min.   :      0   Min.   :      0   Length:29321       Min.   :  0.00  \n",
       " 1st Qu.:    265   1st Qu.:      0   Class :character   1st Qu.: 79.05  \n",
       " Median :    901   Median :      7   Mode  :character   Median : 92.69  \n",
       " Mean   :   5613   Mean   :   1135                      Mean   : 83.31  \n",
       " 3rd Qu.:   3263   3rd Qu.:    157                      3rd Qu.: 97.71  \n",
       " Max.   :3648214   Max.   :2065597                      Max.   :100.00  \n",
       "   per_black     \n",
       " Min.   :  0.00  \n",
       " 1st Qu.:  0.00  \n",
       " Median :  0.57  \n",
       " Mean   :  6.94  \n",
       " 3rd Qu.:  4.65  \n",
       " Max.   :100.00  "
      ]
     },
     "metadata": {},
     "output_type": "display_data"
    }
   ],
   "source": [
    "summary(race_cols)"
   ]
  },
  {
   "cell_type": "markdown",
   "metadata": {},
   "source": [
    "###### Load employment demographics"
   ]
  },
  {
   "cell_type": "code",
   "execution_count": null,
   "metadata": {},
   "outputs": [],
   "source": []
  },
  {
   "cell_type": "code",
   "execution_count": 132,
   "metadata": {},
   "outputs": [],
   "source": [
    "employ <- read.csv(\"../Preprocessing/Files/Demographics/acs_2015_emp_data.csv\", \n",
    "                  stringsAsFactors = FALSE)"
   ]
  },
  {
   "cell_type": "code",
   "execution_count": 133,
   "metadata": {},
   "outputs": [],
   "source": [
    "emp_cols <- employ[c(1:3, 6,10,12)]"
   ]
  },
  {
   "cell_type": "code",
   "execution_count": 386,
   "metadata": {
    "collapsed": true
   },
   "outputs": [
    {
     "data": {
      "text/html": [
       "<table>\n",
       "<thead><tr><th scope=col>GEO.id</th><th scope=col>GEO.id2</th><th scope=col>GEO.display.label</th><th scope=col>HC01_VC03</th><th scope=col>HC01_VC04</th><th scope=col>HC03_VC04</th></tr></thead>\n",
       "<tbody>\n",
       "\t<tr><td>Id                                                                         </td><td>Id2                                                                        </td><td>Geography                                                                  </td><td>Estimate; EMPLOYMENT STATUS - Population 16 years and over                 </td><td>Estimate; EMPLOYMENT STATUS - Population 16 years and over - In labor force</td><td>Percent; EMPLOYMENT STATUS - Population 16 years and over - In labor force </td></tr>\n",
       "\t<tr><td>1600000US0100124                                                           </td><td>100124                                                                     </td><td>Abbeville city, Alabama                                                    </td><td>2211                                                                       </td><td>815                                                                        </td><td>36.9                                                                       </td></tr>\n",
       "\t<tr><td>1600000US0100460                                                           </td><td>100460                                                                     </td><td>Adamsville city, Alabama                                                   </td><td>3668                                                                       </td><td>2170                                                                       </td><td>59.2                                                                       </td></tr>\n",
       "</tbody>\n",
       "</table>\n"
      ],
      "text/latex": [
       "\\begin{tabular}{r|llllll}\n",
       " GEO.id & GEO.id2 & GEO.display.label & HC01\\_VC03 & HC01\\_VC04 & HC03\\_VC04\\\\\n",
       "\\hline\n",
       "\t Id                                                                          & Id2                                                                         & Geography                                                                   & Estimate; EMPLOYMENT STATUS - Population 16 years and over                  & Estimate; EMPLOYMENT STATUS - Population 16 years and over - In labor force & Percent; EMPLOYMENT STATUS - Population 16 years and over - In labor force \\\\\n",
       "\t 1600000US0100124                                                            & 100124                                                                      & Abbeville city, Alabama                                                     & 2211                                                                        & 815                                                                         & 36.9                                                                       \\\\\n",
       "\t 1600000US0100460                                                            & 100460                                                                      & Adamsville city, Alabama                                                    & 3668                                                                        & 2170                                                                        & 59.2                                                                       \\\\\n",
       "\\end{tabular}\n"
      ],
      "text/markdown": [
       "\n",
       "GEO.id | GEO.id2 | GEO.display.label | HC01_VC03 | HC01_VC04 | HC03_VC04 | \n",
       "|---|---|---|\n",
       "| Id                                                                          | Id2                                                                         | Geography                                                                   | Estimate; EMPLOYMENT STATUS - Population 16 years and over                  | Estimate; EMPLOYMENT STATUS - Population 16 years and over - In labor force | Percent; EMPLOYMENT STATUS - Population 16 years and over - In labor force  | \n",
       "| 1600000US0100124                                                            | 100124                                                                      | Abbeville city, Alabama                                                     | 2211                                                                        | 815                                                                         | 36.9                                                                        | \n",
       "| 1600000US0100460                                                            | 100460                                                                      | Adamsville city, Alabama                                                    | 3668                                                                        | 2170                                                                        | 59.2                                                                        | \n",
       "\n",
       "\n"
      ],
      "text/plain": [
       "  GEO.id           GEO.id2 GEO.display.label       \n",
       "1 Id               Id2     Geography               \n",
       "2 1600000US0100124 100124  Abbeville city, Alabama \n",
       "3 1600000US0100460 100460  Adamsville city, Alabama\n",
       "  HC01_VC03                                                 \n",
       "1 Estimate; EMPLOYMENT STATUS - Population 16 years and over\n",
       "2 2211                                                      \n",
       "3 3668                                                      \n",
       "  HC01_VC04                                                                  \n",
       "1 Estimate; EMPLOYMENT STATUS - Population 16 years and over - In labor force\n",
       "2 815                                                                        \n",
       "3 2170                                                                       \n",
       "  HC03_VC04                                                                 \n",
       "1 Percent; EMPLOYMENT STATUS - Population 16 years and over - In labor force\n",
       "2 36.9                                                                      \n",
       "3 59.2                                                                      "
      ]
     },
     "metadata": {},
     "output_type": "display_data"
    }
   ],
   "source": [
    "head(emp_cols,3)"
   ]
  },
  {
   "cell_type": "code",
   "execution_count": null,
   "metadata": {},
   "outputs": [],
   "source": [
    "### Rename columns"
   ]
  },
  {
   "cell_type": "code",
   "execution_count": 134,
   "metadata": {},
   "outputs": [],
   "source": [
    "colnames(emp_cols) <- tolower(emp_cols %>% dplyr::slice(1))"
   ]
  },
  {
   "cell_type": "code",
   "execution_count": 135,
   "metadata": {
    "scrolled": true
   },
   "outputs": [],
   "source": [
    "emp_cols <- emp_cols[2:nrow(emp_cols), ]"
   ]
  },
  {
   "cell_type": "code",
   "execution_count": 136,
   "metadata": {
    "scrolled": false
   },
   "outputs": [],
   "source": [
    "colnames(emp_cols)[4:6] <- c(\"total_pop_over16\", \"employ_pop_over16\", \"per_employ_over16\")"
   ]
  },
  {
   "cell_type": "code",
   "execution_count": 137,
   "metadata": {},
   "outputs": [
    {
     "data": {
      "text/plain": [
       "      id                id2             geography         total_pop_over16  \n",
       " Length:24256       Length:24256       Length:24256       Length:24256      \n",
       " Class :character   Class :character   Class :character   Class :character  \n",
       " Mode  :character   Mode  :character   Mode  :character   Mode  :character  \n",
       " employ_pop_over16  per_employ_over16 \n",
       " Length:24256       Length:24256      \n",
       " Class :character   Class :character  \n",
       " Mode  :character   Mode  :character  "
      ]
     },
     "metadata": {},
     "output_type": "display_data"
    }
   ],
   "source": [
    "summary(emp_cols)"
   ]
  },
  {
   "cell_type": "code",
   "execution_count": 138,
   "metadata": {
    "scrolled": false
   },
   "outputs": [],
   "source": [
    "emp_cols[ , 4:ncol(emp_cols)] <- sapply(emp_cols[ , 4:ncol(emp_cols)], as.numeric)"
   ]
  },
  {
   "cell_type": "code",
   "execution_count": 139,
   "metadata": {
    "collapsed": true
   },
   "outputs": [
    {
     "data": {
      "text/plain": [
       "      id                id2             geography         total_pop_over16 \n",
       " Length:24256       Length:24256       Length:24256       Min.   :     42  \n",
       " Class :character   Class :character   Class :character   1st Qu.:    461  \n",
       " Mode  :character   Mode  :character   Mode  :character   Median :   1305  \n",
       "                                                          Mean   :   7657  \n",
       "                                                          3rd Qu.:   4359  \n",
       "                                                          Max.   :6829065  \n",
       " employ_pop_over16 per_employ_over16\n",
       " Min.   :     18   Min.   : 3.80    \n",
       " 1st Qu.:    265   1st Qu.:54.90    \n",
       " Median :    772   Median :61.90    \n",
       " Mean   :   4928   Mean   :60.73    \n",
       " 3rd Qu.:   2672   3rd Qu.:67.70    \n",
       " Max.   :4343671   Max.   :98.50    "
      ]
     },
     "metadata": {},
     "output_type": "display_data"
    }
   ],
   "source": [
    "summary(emp_cols)"
   ]
  },
  {
   "cell_type": "code",
   "execution_count": 140,
   "metadata": {
    "scrolled": true
   },
   "outputs": [],
   "source": [
    "emp_cols$state <- as.character(trimws(str_split_fixed(emp_cols$geography, \",\", n = 2)[, 2], \n",
    "                                      \"both\"))"
   ]
  },
  {
   "cell_type": "code",
   "execution_count": 395,
   "metadata": {
    "collapsed": true
   },
   "outputs": [
    {
     "data": {
      "text/plain": [
       "      id                id2             geography         total_pop_over16 \n",
       " Length:24256       Length:24256       Length:24256       Min.   :     42  \n",
       " Class :character   Class :character   Class :character   1st Qu.:    461  \n",
       " Mode  :character   Mode  :character   Mode  :character   Median :   1305  \n",
       "                                                          Mean   :   7657  \n",
       "                                                          3rd Qu.:   4359  \n",
       "                                                          Max.   :6829065  \n",
       " employ_pop_over16 per_emply_over16    state          \n",
       " Min.   :     18   Min.   : 3.80    Length:24256      \n",
       " 1st Qu.:    265   1st Qu.:54.90    Class :character  \n",
       " Median :    772   Median :61.90    Mode  :character  \n",
       " Mean   :   4928   Mean   :60.73                      \n",
       " 3rd Qu.:   2672   3rd Qu.:67.70                      \n",
       " Max.   :4343671   Max.   :98.50                      "
      ]
     },
     "metadata": {},
     "output_type": "display_data"
    }
   ],
   "source": [
    "summary(emp_cols)"
   ]
  },
  {
   "cell_type": "markdown",
   "metadata": {},
   "source": [
    "###### Load language data"
   ]
  },
  {
   "cell_type": "code",
   "execution_count": 141,
   "metadata": {},
   "outputs": [],
   "source": [
    "lang <- read.csv(\"../Preprocessing/Files/Demographics/acs_2015_lang_data.csv\", \n",
    "                  stringsAsFactors = FALSE)"
   ]
  },
  {
   "cell_type": "code",
   "execution_count": 142,
   "metadata": {},
   "outputs": [],
   "source": [
    "lang_cols <- lang[c(1:4, 16,18, 28, 30)]"
   ]
  },
  {
   "cell_type": "code",
   "execution_count": 143,
   "metadata": {
    "collapsed": true
   },
   "outputs": [
    {
     "data": {
      "text/html": [
       "<table>\n",
       "<thead><tr><th scope=col>GEO.id</th><th scope=col>GEO.id2</th><th scope=col>GEO.display.label</th><th scope=col>HC01_EST_VC01</th><th scope=col>HC01_EST_VC02</th><th scope=col>HC02_EST_VC02</th><th scope=col>HC01_EST_VC03</th><th scope=col>HC02_EST_VC03</th></tr></thead>\n",
       "<tbody>\n",
       "\t<tr><td>Id                                                    </td><td>Id2                                                   </td><td>Geography                                             </td><td>Total; Estimate; Population 5 years and over          </td><td>Total; Estimate; Speak only English                   </td><td>Percent; Estimate; Speak only English                 </td><td>Total; Estimate; Speak a language other than English  </td><td>Percent; Estimate; Speak a language other than English</td></tr>\n",
       "\t<tr><td>1600000US0100100                                      </td><td>100100                                                </td><td>Abanda CDP, Alabama                                   </td><td>52                                                    </td><td>52                                                    </td><td>100                                                   </td><td>0                                                     </td><td>0                                                     </td></tr>\n",
       "\t<tr><td>1600000US0100124                                      </td><td>100124                                                </td><td>Abbeville city, Alabama                               </td><td>2578                                                  </td><td>2530                                                  </td><td>98.1                                                  </td><td>48                                                    </td><td>1.9                                                   </td></tr>\n",
       "</tbody>\n",
       "</table>\n"
      ],
      "text/latex": [
       "\\begin{tabular}{r|llllllll}\n",
       " GEO.id & GEO.id2 & GEO.display.label & HC01\\_EST\\_VC01 & HC01\\_EST\\_VC02 & HC02\\_EST\\_VC02 & HC01\\_EST\\_VC03 & HC02\\_EST\\_VC03\\\\\n",
       "\\hline\n",
       "\t Id                                                     & Id2                                                    & Geography                                              & Total; Estimate; Population 5 years and over           & Total; Estimate; Speak only English                    & Percent; Estimate; Speak only English                  & Total; Estimate; Speak a language other than English   & Percent; Estimate; Speak a language other than English\\\\\n",
       "\t 1600000US0100100                                       & 100100                                                 & Abanda CDP, Alabama                                    & 52                                                     & 52                                                     & 100                                                    & 0                                                      & 0                                                     \\\\\n",
       "\t 1600000US0100124                                       & 100124                                                 & Abbeville city, Alabama                                & 2578                                                   & 2530                                                   & 98.1                                                   & 48                                                     & 1.9                                                   \\\\\n",
       "\\end{tabular}\n"
      ],
      "text/markdown": [
       "\n",
       "GEO.id | GEO.id2 | GEO.display.label | HC01_EST_VC01 | HC01_EST_VC02 | HC02_EST_VC02 | HC01_EST_VC03 | HC02_EST_VC03 | \n",
       "|---|---|---|\n",
       "| Id                                                     | Id2                                                    | Geography                                              | Total; Estimate; Population 5 years and over           | Total; Estimate; Speak only English                    | Percent; Estimate; Speak only English                  | Total; Estimate; Speak a language other than English   | Percent; Estimate; Speak a language other than English | \n",
       "| 1600000US0100100                                       | 100100                                                 | Abanda CDP, Alabama                                    | 52                                                     | 52                                                     | 100                                                    | 0                                                      | 0                                                      | \n",
       "| 1600000US0100124                                       | 100124                                                 | Abbeville city, Alabama                                | 2578                                                   | 2530                                                   | 98.1                                                   | 48                                                     | 1.9                                                    | \n",
       "\n",
       "\n"
      ],
      "text/plain": [
       "  GEO.id           GEO.id2 GEO.display.label      \n",
       "1 Id               Id2     Geography              \n",
       "2 1600000US0100100 100100  Abanda CDP, Alabama    \n",
       "3 1600000US0100124 100124  Abbeville city, Alabama\n",
       "  HC01_EST_VC01                               \n",
       "1 Total; Estimate; Population 5 years and over\n",
       "2 52                                          \n",
       "3 2578                                        \n",
       "  HC01_EST_VC02                       HC02_EST_VC02                        \n",
       "1 Total; Estimate; Speak only English Percent; Estimate; Speak only English\n",
       "2 52                                  100                                  \n",
       "3 2530                                98.1                                 \n",
       "  HC01_EST_VC03                                       \n",
       "1 Total; Estimate; Speak a language other than English\n",
       "2 0                                                   \n",
       "3 48                                                  \n",
       "  HC02_EST_VC03                                         \n",
       "1 Percent; Estimate; Speak a language other than English\n",
       "2 0                                                     \n",
       "3 1.9                                                   "
      ]
     },
     "metadata": {},
     "output_type": "display_data"
    }
   ],
   "source": [
    "head(lang_cols,3)"
   ]
  },
  {
   "cell_type": "code",
   "execution_count": null,
   "metadata": {},
   "outputs": [],
   "source": [
    "### Rename columns"
   ]
  },
  {
   "cell_type": "code",
   "execution_count": 144,
   "metadata": {},
   "outputs": [],
   "source": [
    "colnames(lang_cols) <- tolower(lang_cols %>% dplyr::slice(1))"
   ]
  },
  {
   "cell_type": "code",
   "execution_count": 145,
   "metadata": {
    "scrolled": true
   },
   "outputs": [],
   "source": [
    "lang_cols <- lang_cols[2:nrow(lang_cols), ]"
   ]
  },
  {
   "cell_type": "code",
   "execution_count": 146,
   "metadata": {
    "scrolled": false
   },
   "outputs": [],
   "source": [
    "colnames(lang_cols)[4:8] <- c(\"total_population\", \"english_only\", \"per_english_only\", \n",
    "                              \"english_other\", \"per_english_other\")"
   ]
  },
  {
   "cell_type": "code",
   "execution_count": 147,
   "metadata": {},
   "outputs": [
    {
     "data": {
      "text/plain": [
       "      id                id2             geography         total_population  \n",
       " Length:29321       Length:29321       Length:29321       Length:29321      \n",
       " Class :character   Class :character   Class :character   Class :character  \n",
       " Mode  :character   Mode  :character   Mode  :character   Mode  :character  \n",
       " english_only       per_english_only   english_other      per_english_other \n",
       " Length:29321       Length:29321       Length:29321       Length:29321      \n",
       " Class :character   Class :character   Class :character   Class :character  \n",
       " Mode  :character   Mode  :character   Mode  :character   Mode  :character  "
      ]
     },
     "metadata": {},
     "output_type": "display_data"
    }
   ],
   "source": [
    "summary(lang_cols)"
   ]
  },
  {
   "cell_type": "code",
   "execution_count": 148,
   "metadata": {
    "scrolled": false
   },
   "outputs": [
    {
     "name": "stderr",
     "output_type": "stream",
     "text": [
      "Warning message in lapply(X = X, FUN = FUN, ...):\n",
      "\"NAs introduced by coercion\"Warning message in lapply(X = X, FUN = FUN, ...):\n",
      "\"NAs introduced by coercion\""
     ]
    }
   ],
   "source": [
    "lang_cols[ , 4:ncol(lang_cols)] <- sapply(lang_cols[ , 4:ncol(lang_cols)], as.numeric)"
   ]
  },
  {
   "cell_type": "code",
   "execution_count": 149,
   "metadata": {
    "collapsed": true
   },
   "outputs": [
    {
     "data": {
      "text/plain": [
       "      id                id2             geography         total_population \n",
       " Length:29321       Length:29321       Length:29321       Min.   :      0  \n",
       " Class :character   Class :character   Class :character   1st Qu.:    311  \n",
       " Mode  :character   Mode  :character   Mode  :character   Median :   1021  \n",
       "                                                          Mean   :   7514  \n",
       "                                                          3rd Qu.:   3837  \n",
       "                                                          Max.   :7870932  \n",
       "                                                                           \n",
       "  english_only     per_english_only english_other     per_english_other\n",
       " Min.   :      0   Min.   :  0.00   Min.   :      0   Min.   :  0.00   \n",
       " 1st Qu.:    276   1st Qu.: 87.80   1st Qu.:      5   1st Qu.:  1.20   \n",
       " Median :    912   Median : 95.80   Median :     43   Median :  4.20   \n",
       " Mean   :   5664   Mean   : 88.96   Mean   :   1851   Mean   : 11.04   \n",
       " 3rd Qu.:   3293   3rd Qu.: 98.80   3rd Qu.:    342   3rd Qu.: 12.20   \n",
       " Max.   :4009822   Max.   :100.00   Max.   :3861110   Max.   :100.00   \n",
       "                   NA's   :193                        NA's   :193      "
      ]
     },
     "metadata": {},
     "output_type": "display_data"
    }
   ],
   "source": [
    "summary(lang_cols)"
   ]
  },
  {
   "cell_type": "code",
   "execution_count": 151,
   "metadata": {
    "scrolled": true
   },
   "outputs": [],
   "source": [
    "lang_cols$state <- as.character(trimws(str_split_fixed(lang_cols$geography, \",\", n = 2)[, 2], \n",
    "                                      \"both\"))"
   ]
  },
  {
   "cell_type": "code",
   "execution_count": 152,
   "metadata": {},
   "outputs": [],
   "source": [
    "lang_cols <- lang_cols %>% dplyr::rename(\"total_population_lang\" = \"total_population\") %>%\n",
    "                mutate(per_english_only = ifelse(total_population_lang == 0, \n",
    "                                          0, per_english_only)) %>%\n",
    "                mutate(per_english_other = ifelse(total_population_lang == 0, \n",
    "                                          0, per_english_other)) %>%\n",
    "                as.data.frame()"
   ]
  },
  {
   "cell_type": "code",
   "execution_count": 153,
   "metadata": {},
   "outputs": [
    {
     "data": {
      "text/plain": [
       "      id                id2             geography         total_population_lang\n",
       " Length:29321       Length:29321       Length:29321       Min.   :      0      \n",
       " Class :character   Class :character   Class :character   1st Qu.:    311      \n",
       " Mode  :character   Mode  :character   Mode  :character   Median :   1021      \n",
       "                                                          Mean   :   7514      \n",
       "                                                          3rd Qu.:   3837      \n",
       "                                                          Max.   :7870932      \n",
       "  english_only     per_english_only english_other     per_english_other\n",
       " Min.   :      0   Min.   :  0.00   Min.   :      0   Min.   :  0.00   \n",
       " 1st Qu.:    276   1st Qu.: 87.50   1st Qu.:      5   1st Qu.:  1.20   \n",
       " Median :    912   Median : 95.70   Median :     43   Median :  4.20   \n",
       " Mean   :   5664   Mean   : 88.38   Mean   :   1851   Mean   : 10.97   \n",
       " 3rd Qu.:   3293   3rd Qu.: 98.70   3rd Qu.:    342   3rd Qu.: 12.20   \n",
       " Max.   :4009822   Max.   :100.00   Max.   :3861110   Max.   :100.00   \n",
       "    state          \n",
       " Length:29321      \n",
       " Class :character  \n",
       " Mode  :character  \n",
       "                   \n",
       "                   \n",
       "                   "
      ]
     },
     "metadata": {},
     "output_type": "display_data"
    }
   ],
   "source": [
    "summary(lang_cols)"
   ]
  },
  {
   "cell_type": "markdown",
   "metadata": {},
   "source": [
    "###### Rename key variables before joining"
   ]
  },
  {
   "cell_type": "code",
   "execution_count": 156,
   "metadata": {
    "collapsed": true
   },
   "outputs": [
    {
     "name": "stderr",
     "output_type": "stream",
     "text": [
      "Warning message:\n",
      "\"'glue::collapse' is deprecated.\n",
      "Use 'glue_collapse' instead.\n",
      "See help(\"Deprecated\") and help(\"glue-deprecated\").\""
     ]
    },
    {
     "ename": "ERROR",
     "evalue": "Error: Unknown columns `total_income` and `median_income` \n",
     "output_type": "error",
     "traceback": [
      "Error: Unknown columns `total_income` and `median_income` \nTraceback:\n",
      "1. house_income_cols %>% dplyr::rename(house_total_income = \"total_income\", \n .     house_median_income = \"median_income\")",
      "2. withVisible(eval(quote(`_fseq`(`_lhs`)), env, env))",
      "3. eval(quote(`_fseq`(`_lhs`)), env, env)",
      "4. eval(quote(`_fseq`(`_lhs`)), env, env)",
      "5. `_fseq`(`_lhs`)",
      "6. freduce(value, `_function_list`)",
      "7. withVisible(function_list[[k]](value))",
      "8. function_list[[k]](value)",
      "9. dplyr::rename(., house_total_income = \"total_income\", house_median_income = \"median_income\")",
      "10. rename.data.frame(., house_total_income = \"total_income\", house_median_income = \"median_income\")",
      "11. tidyselect::vars_rename(names(.data), !!!quos(...))",
      "12. bad_unknown_vars(.vars, unknown)",
      "13. abort(glue(\"Unknown { thing } { fmt_args(unknown) } \"))"
     ]
    }
   ],
   "source": [
    "#urban_cols2 <- urban_cols2 %>% dplyr::rename(\"total_area\" = \"total\")\n",
    "#house_income_cols <- house_income_cols %>% dplyr::rename(\"house_total_income\" = \"total_income\", \n",
    "                                                #         \"house_median_income\" = \"median_income\")\n"
   ]
  },
  {
   "cell_type": "code",
   "execution_count": 163,
   "metadata": {},
   "outputs": [],
   "source": [
    "demo_cols <- age_cols2 %>% left_join(urban_cols2[c(\"id\", \"total_area\", \"urban\", \"rural\", \n",
    "                                                   \"per_urban\",\n",
    "                                                  \"per_rural\")], \n",
    "                                                  by = \"id\") %>%\n",
    "                            left_join(income_cols[c(\"id\",# \"total_income\", \"mean_income\", \n",
    "                                                #  \"income_per_capita\", \n",
    "                                                   \"mean_income_households\", \n",
    "                                                    \"mean_income_per_capita\")],\n",
    "                                      by = \"id\") %>%\n",
    "                            left_join(house_income_cols[c(\"id\", \"house_total_population\", \n",
    "                                                        #  \"house_total_income\", \n",
    "                                                          \"house_median_income\")], \n",
    "                                      by = \"id\") %>%\n",
    "                            left_join(race_cols[c(\"id\", \"total_population_race\", \n",
    "                                                  \"white_population\", \n",
    "                                                 \"black_population\", \"per_white\", \n",
    "                                                  \"per_black\")], by = \"id\") %>%\n",
    "                            left_join(emp_cols[c(\"id\", \"total_pop_over16\", \n",
    "                                                 \"employ_pop_over16\", \n",
    "                                                 \"per_employ_over16\")], by = \"id\") %>%\n",
    "                             left_join(lang_cols[c(\"id\", \"total_population_lang\", \n",
    "                                                   \"english_only\", \n",
    "                                                 \"english_other\", \"per_english_only\", \n",
    "                                                   \"per_english_other\")], by = \"id\") %>%\n",
    "                            \n",
    "                            as.data.frame()"
   ]
  },
  {
   "cell_type": "markdown",
   "metadata": {},
   "source": [
    "write.csv(demo_cols, \"C:\\\\MathLabASUS\\\\Courses\\\\Ryerson\\\\Project\\\\Data\\\\Demographic\\\\Place\\\\acs_demo_cols.csv\")"
   ]
  },
  {
   "cell_type": "markdown",
   "metadata": {},
   "source": [
    "Join demographics for cities to US city, state info. \n",
    "Creates a features table to use for any knn or variable importance model etc."
   ]
  },
  {
   "cell_type": "code",
   "execution_count": 189,
   "metadata": {},
   "outputs": [],
   "source": [
    "usstates_place <- read.csv(\"../Preprocessing/Files/Demographics/usstates_placetype.csv\", \n",
    "                  stringsAsFactors = FALSE)"
   ]
  },
  {
   "cell_type": "code",
   "execution_count": 194,
   "metadata": {},
   "outputs": [],
   "source": [
    "usstates_place$X <- NULL\n",
    "usstates_place$X.1 <- NULL"
   ]
  },
  {
   "cell_type": "code",
   "execution_count": 170,
   "metadata": {},
   "outputs": [],
   "source": [
    "demo_cols_csv <- read.csv(\"../Preprocessing/Files/Demographics/acs_demo_cols.csv\", stringsAsFactors = FALSE)"
   ]
  },
  {
   "cell_type": "code",
   "execution_count": 195,
   "metadata": {
    "collapsed": true
   },
   "outputs": [
    {
     "name": "stdout",
     "output_type": "stream",
     "text": [
      "'data.frame':\t29321 obs. of  36 variables:\n",
      " $ rownum                            : chr  \"1600000US0100100\" \"1600000US0100124\" \"1600000US0100460\" \"1600000US0100484\" ...\n",
      " $ id2                               : int  100100 100124 100460 100484 100676 100820 100988 101132 101180 101228 ...\n",
      " $ geography                         : chr  \"Abanda CDP, Alabama\" \"Abbeville city, Alabama\" \"Adamsville city, Alabama\" \"Addison town, Alabama\" ...\n",
      " $ totalpopulation                   : int  52 2646 4454 682 293 31905 21406 14787 3912 3727 ...\n",
      " $ malepop                           : int  11 1292 2269 331 143 15590 10777 6834 1774 1875 ...\n",
      " $ femalepop                         : int  41 1354 2185 351 150 16315 10629 7953 2138 1852 ...\n",
      " $ medianage                         : num  60.5 52.5 39.6 42.5 43.6 36.6 33.6 37.9 39.9 30.8 ...\n",
      " $ per_male                          : num  21.1 48.8 50.9 48.5 48.8 ...\n",
      " $ per_female                        : num  78.8 51.2 49.1 51.5 51.2 ...\n",
      " $ total_area                        : int  192 2688 4522 758 356 30352 21160 14875 3917 2486 ...\n",
      " $ urban                             : int  0 0 3857 0 0 29161 18710 9149 1054 0 ...\n",
      " $ rural                             : int  192 2688 665 758 356 1191 2450 5726 2863 2486 ...\n",
      " $ per_urban                         : num  0 0 85.3 0 0 ...\n",
      " $ per_rural                         : num  100 100 14.7 100 100 ...\n",
      " $ house_total_population            : int  52 1056 1704 317 126 10556 7307 5759 1464 1283 ...\n",
      " $ mean_income_per_capita            : num  14867 19262 22032 21389 11410 ...\n",
      " $ house_total_income                : int  52 1056 1704 317 126 10556 7307 5759 1464 1283 ...\n",
      " $ house_median_income               : num  11207 25615 42575 37083 21667 ...\n",
      " $ total_population_race             : int  52 2646 4454 682 293 31905 21406 14787 3912 3727 ...\n",
      " $ white_population                  : int  40 1396 2121 641 59 23864 19421 8498 3642 573 ...\n",
      " $ black_population                  : int  12 1227 1927 0 234 4587 468 5818 270 3071 ...\n",
      " $ per_white                         : num  76.9 52.8 47.6 94 20.1 ...\n",
      " $ per_black                         : num  23.1 46.4 43.3 0 79.9 ...\n",
      " $ total_pop_over16                  : int  NA 2211 3668 559 260 24071 15703 11311 3018 2851 ...\n",
      " $ employ_pop_over16                 : int  NA 815 2170 267 112 16607 9289 5874 1994 1376 ...\n",
      " $ per_employ_over16                 : num  NA 36.9 59.2 47.8 43.1 69 59.2 51.9 66.1 48.3 ...\n",
      " $ total_population_lang             : int  52 2578 4294 657 276 29962 19791 13839 3681 3421 ...\n",
      " $ english_only                      : int  52 2530 3767 654 276 26569 15223 13317 3649 3365 ...\n",
      " $ english_other                     : int  0 48 527 3 0 3393 4568 522 32 56 ...\n",
      " $ per_english_only                  : num  100 98.1 87.7 99.5 100 88.7 76.9 96.2 99.1 98.4 ...\n",
      " $ per_english_other                 : num  0 1.9 12.3 0.5 0 11.3 23.1 3.8 0.9 1.6 ...\n",
      " $ total_population_income_households: num  52 1056 1704 317 126 ...\n",
      " $ mean_income_households            : num  14867 44246 56085 44483 24006 ...\n",
      " $ total_population_individuals      : num  52 2646 4454 682 293 ...\n",
      " $ state                             : chr  \"Alabama\" \"Alabama\" \"Alabama\" \"Alabama\" ...\n",
      " $ city                              : chr  \"Abanda CDP\" \"Abbeville city\" \"Adamsville city\" \"Addison town\" ...\n"
     ]
    }
   ],
   "source": [
    "colnames(demo_cols_csv)"
   ]
  },
  {
   "cell_type": "code",
   "execution_count": 174,
   "metadata": {},
   "outputs": [],
   "source": [
    "demo_cols_csv$X <- NULL\n",
    "demo_cols_csv$income_per_capita <- NULL\n",
    "demo_cols_csv$mean_income <- NULL"
   ]
  },
  {
   "cell_type": "code",
   "execution_count": null,
   "metadata": {},
   "outputs": [],
   "source": [
    "#### Fix a few problems/discrepancies with the files and data"
   ]
  },
  {
   "cell_type": "code",
   "execution_count": 176,
   "metadata": {},
   "outputs": [],
   "source": [
    "demo_cols_csv$total_population_income_households <- income_cols$total_population_income_households\n",
    "demo_cols_csv$mean_income_households <- income_cols$mean_income_households\n",
    "demo_cols_csv$total_population_individuals <- income_cols$total_population_individuals\n",
    "demo_cols_csv$mean_income_per_capita <- income_cols$mean_income_per_capita\n",
    "demo_cols_csv$house_median_income <- house_income_cols$house_median_income\n",
    "\n",
    "demo_cols_csv <- demo_cols_csv %>% dplyr::rename(\"house_total_population\" = \"total_income\")"
   ]
  },
  {
   "cell_type": "code",
   "execution_count": 190,
   "metadata": {},
   "outputs": [],
   "source": [
    "usstates_place <- usstates_place %>% mutate(City3 = gsub(\"St.\", \"St\", City2), \n",
    "                                            City_state = gsub(\"St.\", \"St\", City_state),\n",
    "                                            City_code = gsub(\"St.\", \"St\", City_code)) %>% \n",
    "                as.data.frame()"
   ]
  },
  {
   "cell_type": "code",
   "execution_count": 177,
   "metadata": {
    "scrolled": false
   },
   "outputs": [],
   "source": [
    "demo_cols_csv$state <- str_split_fixed(demo_cols_csv$geography, \", \", n = 2)[, 2]\n",
    "demo_cols_csv$city <- str_split_fixed(demo_cols_csv$geography, \", \", n = 2)[, 1]"
   ]
  },
  {
   "cell_type": "markdown",
   "metadata": {
    "scrolled": true
   },
   "source": [
    "write.csv(demo_cols_csv, \"C:\\\\MathLabASUS\\\\Courses\\\\Ryerson\\\\Project\\\\Data\\\\Files\\\\Demographics\\\\acs_demo_cols2.csv\", row.names = FALSE)"
   ]
  },
  {
   "cell_type": "markdown",
   "metadata": {},
   "source": [
    "write.csv(usstates_place, \"C:\\\\MathLabASUS\\\\Courses\\\\Ryerson\\\\Project\\\\Data\\\\Files\\\\Demographics\\\\usstates_placetype.csv\")"
   ]
  },
  {
   "cell_type": "code",
   "execution_count": 191,
   "metadata": {
    "collapsed": true
   },
   "outputs": [
    {
     "name": "stdout",
     "output_type": "stream",
     "text": [
      "'data.frame':\t81542 obs. of  29 variables:\n",
      " $ X                : int  1 2 3 4 5 6 7 8 9 10 ...\n",
      " $ X.1              : int  1 2 3 4 5 6 7 8 9 10 ...\n",
      " $ rownum           : int  1 2 3 4 5 6 7 8 9 10 ...\n",
      " $ Code             : chr  \"AK\" \"AK\" \"AK\" \"AK\" ...\n",
      " $ State            : chr  \"Alaska\" \"Alaska\" \"Alaska\" \"Alaska\" ...\n",
      " $ Sumlev           : int  40 162 162 162 162 162 162 162 162 162 ...\n",
      " $ State_id         : int  2 2 2 2 2 2 2 2 2 2 ...\n",
      " $ County           : int  0 0 0 0 0 0 0 0 0 0 ...\n",
      " $ Place            : int  0 65 650 870 1090 1200 1420 1860 1970 2080 ...\n",
      " $ Cousub           : int  0 0 0 0 0 0 0 0 0 0 ...\n",
      " $ Concit           : int  0 0 0 0 0 0 0 0 0 0 ...\n",
      " $ Primgeo_flag     : int  0 0 0 0 0 0 0 0 0 0 ...\n",
      " $ Funcstat         : chr  \"A\" \"A\" \"A\" \"A\" ...\n",
      " $ City             : chr  \"Alaska\" \"Adak city\" \"Akhiok city\" \"Akiak city\" ...\n",
      " $ Census2010pop    : int  710231 326 71 346 1027 677 219 105 258 324 ...\n",
      " $ Estimatesbase2010: int  710249 326 71 346 1027 677 220 171 258 324 ...\n",
      " $ Popestimate2010  : int  714015 326 71 347 1029 678 220 172 259 326 ...\n",
      " $ Popestimate2011  : int  722259 327 72 353 1034 720 224 172 264 331 ...\n",
      " $ Popestimate2012  : int  730825 330 73 378 1037 729 225 171 264 337 ...\n",
      " $ Popestimate2013  : int  736760 332 73 381 1039 742 226 169 264 341 ...\n",
      " $ Popestimate2014  : int  736759 335 72 383 1038 754 225 166 266 341 ...\n",
      " $ Popestimate2015  : int  737979 334 70 382 1041 768 225 165 266 340 ...\n",
      " $ Popestimate2016  : int  741522 332 70 382 1040 758 223 167 263 338 ...\n",
      " $ Popestimate2017  : int  739795 331 71 391 1042 762 221 165 263 341 ...\n",
      " $ City2            : chr  \"Alaska\" \"Adak\" \"Akhiok\" \"Akiak\" ...\n",
      " $ Place_type       : chr  \"state\" \"city\" \"city\" \"city\" ...\n",
      " $ City_state       : chr  \"Alaska, Alaska\" \"Adak, Alaska\" \"Akhiok, Alaska\" \"Akiak, Alaska\" ...\n",
      " $ City_code        : chr  \"Alaska, AK\" \"Adak, AK\" \"Akhiok, AK\" \"Akiak, AK\" ...\n",
      " $ City3            : chr  \"Alaska\" \"Adak\" \"Akhiok\" \"Akiak\" ...\n"
     ]
    }
   ],
   "source": [
    "str(usstates_place)"
   ]
  },
  {
   "cell_type": "markdown",
   "metadata": {},
   "source": [
    "usstates_place <- usstates_place %>% dplyr::rename(\"rownum\" = \"X\") %>% as.data.frame()\n",
    "colnames(demo_cols_csv)[1] <- \"rownum\""
   ]
  },
  {
   "cell_type": "code",
   "execution_count": null,
   "metadata": {},
   "outputs": [],
   "source": [
    "### Get unique census population for geographically close locations with the same name"
   ]
  },
  {
   "cell_type": "code",
   "execution_count": 196,
   "metadata": {},
   "outputs": [],
   "source": [
    "usstates_place2 <- usstates_place %>% group_by(Code, State, State_id, City, City2, City3, Place_type, City_state, City_code) %>%\n",
    "                                                summarise(avgCensus2010pop = mean(Census2010pop),\n",
    "                                                            avgPopestimate2015 = mean(Popestimate2015)) %>%\n",
    "                                        as.data.frame()"
   ]
  },
  {
   "cell_type": "code",
   "execution_count": 197,
   "metadata": {},
   "outputs": [],
   "source": [
    "usstates_place_unq <- unique(usstates_place2[c(\"Code\", \"State\", \"State_id\", \"City\", \n",
    "                              \"City2\", \"City3\", \"Place_type\", \"City_state\", \"City_code\", \n",
    "                                               \"avgCensus2010pop\", \"avgPopestimate2015\")])"
   ]
  },
  {
   "cell_type": "code",
   "execution_count": 19,
   "metadata": {
    "collapsed": true
   },
   "outputs": [
    {
     "name": "stdout",
     "output_type": "stream",
     "text": [
      "'data.frame':\t29321 obs. of  34 variables:\n",
      " $ rownum                : int  1 2 3 4 5 6 7 8 9 10 ...\n",
      " $ id                    : chr  \"1600000US0100100\" \"1600000US0100124\" \"1600000US0100460\" \"1600000US0100484\" ...\n",
      " $ id2                   : int  100100 100124 100460 100484 100676 100820 100988 101132 101180 101228 ...\n",
      " $ geography             : chr  \"Abanda CDP, Alabama\" \"Abbeville city, Alabama\" \"Adamsville city, Alabama\" \"Addison town, Alabama\" ...\n",
      " $ totalpopulation       : int  52 2646 4454 682 293 31905 21406 14787 3912 3727 ...\n",
      " $ malepop               : int  11 1292 2269 331 143 15590 10777 6834 1774 1875 ...\n",
      " $ femalepop             : int  41 1354 2185 351 150 16315 10629 7953 2138 1852 ...\n",
      " $ medianage             : num  60.5 52.5 39.6 42.5 43.6 36.6 33.6 37.9 39.9 30.8 ...\n",
      " $ per_male              : num  21.1 48.8 50.9 48.5 48.8 ...\n",
      " $ per_female            : num  78.8 51.2 49.1 51.5 51.2 ...\n",
      " $ total_area            : int  192 2688 4522 758 356 30352 21160 14875 3917 2486 ...\n",
      " $ urban                 : int  0 0 3857 0 0 29161 18710 9149 1054 0 ...\n",
      " $ rural                 : int  192 2688 665 758 356 1191 2450 5726 2863 2486 ...\n",
      " $ per_urban             : num  0 0 85.3 0 0 ...\n",
      " $ per_rural             : num  100 100 14.7 100 100 ...\n",
      " $ total_income          : int  52 1056 1704 317 126 10556 7307 5759 1464 1283 ...\n",
      " $ mean_income           : int  14867 44246 56085 44483 24006 80353 50562 42199 65220 28630 ...\n",
      " $ income_per_capita     : int  52 2646 4454 682 293 31905 21406 14787 3912 3727 ...\n",
      " $ mean_income_per_capita: int  14867 19262 22032 21389 11410 27382 18668 17064 25125 10923 ...\n",
      " $ house_total_income    : int  52 1056 1704 317 126 10556 7307 5759 1464 1283 ...\n",
      " $ house_median_income   : num  11207 25615 42575 37083 21667 ...\n",
      " $ total_population_race : int  52 2646 4454 682 293 31905 21406 14787 3912 3727 ...\n",
      " $ white_population      : int  40 1396 2121 641 59 23864 19421 8498 3642 573 ...\n",
      " $ black_population      : int  12 1227 1927 0 234 4587 468 5818 270 3071 ...\n",
      " $ per_white             : num  76.9 52.8 47.6 94 20.1 ...\n",
      " $ per_black             : num  23.1 46.4 43.3 0 79.9 ...\n",
      " $ total_pop_over16      : int  NA 2211 3668 559 260 24071 15703 11311 3018 2851 ...\n",
      " $ employ_pop_over16     : int  NA 815 2170 267 112 16607 9289 5874 1994 1376 ...\n",
      " $ per_employ_over16     : num  NA 36.9 59.2 47.8 43.1 69 59.2 51.9 66.1 48.3 ...\n",
      " $ total_population_lang : int  52 2578 4294 657 276 29962 19791 13839 3681 3421 ...\n",
      " $ english_only          : int  52 2530 3767 654 276 26569 15223 13317 3649 3365 ...\n",
      " $ english_other         : int  0 48 527 3 0 3393 4568 522 32 56 ...\n",
      " $ per_english_only      : num  100 98.1 87.7 99.5 100 88.7 76.9 96.2 99.1 98.4 ...\n",
      " $ per_english_other     : num  0 1.9 12.3 0.5 0 11.3 23.1 3.8 0.9 1.6 ...\n"
     ]
    }
   ],
   "source": [
    "str(demo_cols_csv)"
   ]
  },
  {
   "cell_type": "code",
   "execution_count": null,
   "metadata": {},
   "outputs": [],
   "source": [
    "### Add the additional demographic data to these USA cities"
   ]
  },
  {
   "cell_type": "code",
   "execution_count": 198,
   "metadata": {},
   "outputs": [],
   "source": [
    "usplace_demo <- usstates_place_unq %>% # filter(County != 0  & Place != 0) %>%\n",
    "                                    \n",
    "                                    inner_join(demo_cols_csv, \n",
    "                                               by = c(\"City\" = \"city\", \"State\" = \"state\")) %>% \n",
    "                                    as.data.frame()"
   ]
  },
  {
   "cell_type": "code",
   "execution_count": 35,
   "metadata": {
    "scrolled": false
   },
   "outputs": [
    {
     "data": {
      "text/plain": [
       "Length  Class   Mode \n",
       "     0   NULL   NULL "
      ]
     },
     "metadata": {},
     "output_type": "display_data"
    }
   ],
   "source": [
    "nrow(usplace_demo)"
   ]
  },
  {
   "cell_type": "markdown",
   "metadata": {},
   "source": [
    "write.csv(usplace_demo, \"C:\\\\MathLabASUS\\\\Courses\\\\Ryerson\\\\Project\\\\Data\\\\Files\\\\Demographics\\\\usplace_demo.csv\")"
   ]
  },
  {
   "cell_type": "markdown",
   "metadata": {},
   "source": [
    "usplace_demo <- read.csv(\"C:\\\\MathLabASUS\\\\Courses\\\\Ryerson\\\\Project\\\\Data\\\\Files\\\\Demographics\\\\usplace_demo.csv\", stringsAsFactors = FALSE)"
   ]
  },
  {
   "cell_type": "code",
   "execution_count": null,
   "metadata": {
    "collapsed": true
   },
   "outputs": [],
   "source": []
  },
  {
   "cell_type": "code",
   "execution_count": 222,
   "metadata": {
    "collapsed": true
   },
   "outputs": [
    {
     "name": "stdout",
     "output_type": "stream",
     "text": [
      "'data.frame':\t5641 obs. of  5 variables:\n",
      " $ X         : int  1 2 3 4 5 6 7 8 9 10 ...\n",
      " $ City_code : chr  \"ABBEVILLE SC\" \"ABERDEEN MD\" \"ABERDEEN NC\" \"ABERDEEN SD\" ...\n",
      " $ lon       : num  -82.4 -76.2 -79.4 -98.5 -123.8 ...\n",
      " $ lat       : num  34.2 39.5 35.1 45.5 47 ...\n",
      " $ num_tweets: int  2 5 2 21 46 1 42 133 1 2 ...\n"
     ]
    }
   ],
   "source": [
    "str(tweets_latlon)"
   ]
  },
  {
   "cell_type": "code",
   "execution_count": null,
   "metadata": {},
   "outputs": [],
   "source": [
    "### Total number of tweets for each location "
   ]
  },
  {
   "cell_type": "code",
   "execution_count": 186,
   "metadata": {},
   "outputs": [],
   "source": [
    "tweets_latlon <- read.csv(\"../Preprocessing/Files/Features/tweets_latlon.csv\", \n",
    "                          stringsAsFactors = FALSE)"
   ]
  },
  {
   "cell_type": "code",
   "execution_count": 180,
   "metadata": {
    "collapsed": true
   },
   "outputs": [
    {
     "ename": "ERROR",
     "evalue": "Error in usplace_demo$X <- NULL: object 'usplace_demo' not found\n",
     "output_type": "error",
     "traceback": [
      "Error in usplace_demo$X <- NULL: object 'usplace_demo' not found\nTraceback:\n"
     ]
    }
   ],
   "source": [
    "tweets_latlon$X <- NULL\n",
    "usplace_demo$X <- NULL"
   ]
  },
  {
   "cell_type": "code",
   "execution_count": 199,
   "metadata": {
    "scrolled": true
   },
   "outputs": [],
   "source": [
    "usplace_demo$City_code_cap <- gsub(\",\", \"\", toupper(usplace_demo$City_code))"
   ]
  },
  {
   "cell_type": "code",
   "execution_count": null,
   "metadata": {},
   "outputs": [],
   "source": [
    "##### Create a dataframe for all demographic information and tweet counts"
   ]
  },
  {
   "cell_type": "code",
   "execution_count": 227,
   "metadata": {},
   "outputs": [],
   "source": [
    "features <- usplace_demo %>% inner_join(tweets_latlon, \n",
    "                                        by = c(\"City_code_cap\" = \"City_code\")) %>%\n",
    "                                 dplyr::rename(\"location\" = \"City_code_cap\", \n",
    "                                               \"count\" = \"num_tweets\") %>%\n",
    "                                 mutate(count_rate = count/totalpopulation * 1000) %>%\n",
    "                                 as.data.frame()"
   ]
  },
  {
   "cell_type": "code",
   "execution_count": 228,
   "metadata": {},
   "outputs": [],
   "source": [
    "features$total_area <- ifelse(is.na(features$total_area), \n",
    "                              features$totalpopulation, features$total_area)\n",
    "features$total_pop_over16 <- ifelse(is.na(features$total_pop_over16), \n",
    "                              features$totalpopulation, features$total_pop_over16)"
   ]
  },
  {
   "cell_type": "code",
   "execution_count": 229,
   "metadata": {},
   "outputs": [],
   "source": [
    "avg_per_na <- features %>% group_by(State, add = FALSE) %>%\n",
    "                                    summarise(med_per_urban = median(per_urban, na.rm = TRUE),\n",
    "                                                 med_per_rural = median(per_rural, na.rm = TRUE),\n",
    "                                                    med_per_employ_over16 = \n",
    "                                              median(per_employ_over16, na.rm = TRUE)\n",
    "                                             ) %>%\n",
    "                            as.data.frame()"
   ]
  },
  {
   "cell_type": "code",
   "execution_count": 230,
   "metadata": {},
   "outputs": [],
   "source": [
    "features <- features %>% inner_join(avg_per_na, by = \"State\") %>%\n",
    "                        mutate(per_urban = ifelse(is.na(per_urban), \n",
    "                                           med_per_urban, per_urban)) %>%\n",
    "                        mutate(per_rural = ifelse(is.na(per_rural), \n",
    "                                           med_per_rural, per_rural)) %>%\n",
    "                        mutate(per_employ_over16 = ifelse(is.na(per_employ_over16), \n",
    "                                           med_per_employ_over16, per_employ_over16)) %>%\n",
    "                        as.data.frame()"
   ]
  },
  {
   "cell_type": "code",
   "execution_count": null,
   "metadata": {},
   "outputs": [],
   "source": [
    "### Add US county information"
   ]
  },
  {
   "cell_type": "code",
   "execution_count": 208,
   "metadata": {},
   "outputs": [],
   "source": [
    "cities_latlon <- read.csv(\"../Preprocessing/Files\\\\Maps\\\\cities_latlon.csv\", stringsAsFactors = FALSE)\n",
    "cities_latlon$X <- NULL"
   ]
  },
  {
   "cell_type": "code",
   "execution_count": 210,
   "metadata": {},
   "outputs": [],
   "source": [
    "cities_latlon$location <- paste0(cities_latlon$city, \" \",cities_latlon$state)"
   ]
  },
  {
   "cell_type": "code",
   "execution_count": 209,
   "metadata": {
    "collapsed": true
   },
   "outputs": [
    {
     "data": {
      "text/html": [
       "<table>\n",
       "<thead><tr><th scope=col>lon</th><th scope=col>lat</th><th scope=col>city</th><th scope=col>state</th><th scope=col>mapid</th><th scope=col>area</th><th scope=col>perimeter</th><th scope=col>feature</th><th scope=col>name</th><th scope=col>fips</th><th scope=col>fips55</th><th scope=col>pop</th><th scope=col>state_fips</th><th scope=col>county</th><th scope=col>location</th></tr></thead>\n",
       "<tbody>\n",
       "\t<tr><td>-123.8181                  </td><td>46.97494                   </td><td>ABERDEEN                   </td><td>WA                         </td><td>1                          </td><td>0                          </td><td>0                          </td><td>Population 10,000 to 49,999</td><td>Aberdeen                   </td><td>53027                      </td><td>100                        </td><td>16565                      </td><td>53                         </td><td>Grays Harbor County        </td><td>ABERDEEN WA                </td></tr>\n",
       "\t<tr><td>-122.2078                  </td><td>48.71663                   </td><td>ACME                       </td><td>WA                         </td><td>2                          </td><td>0                          </td><td>0                          </td><td>Population less than 10,000</td><td>Acme                       </td><td>53073                      </td><td>275                        </td><td>    0                      </td><td>53                         </td><td>Whatcom County             </td><td>ACME WA                    </td></tr>\n",
       "\t<tr><td>-117.8391                  </td><td>48.35600                   </td><td>ADDY                       </td><td>WA                         </td><td>3                          </td><td>0                          </td><td>0                          </td><td>Population less than 10,000</td><td>Addy                       </td><td>53065                      </td><td>380                        </td><td>    0                      </td><td>53                         </td><td>Stevens County             </td><td>ADDY WA                    </td></tr>\n",
       "\t<tr><td>-122.3628                  </td><td>47.33079                   </td><td>ADELAIDE                   </td><td>WA                         </td><td>4                          </td><td>0                          </td><td>0                          </td><td>Population less than 10,000</td><td>Adelaide                   </td><td>53033                      </td><td>415                        </td><td>    0                      </td><td>53                         </td><td>King County                </td><td>ADELAIDE WA                </td></tr>\n",
       "\t<tr><td>-123.0638                  </td><td>46.62849                   </td><td>ADNA                       </td><td>WA                         </td><td>5                          </td><td>0                          </td><td>0                          </td><td>Population less than 10,000</td><td>Adna                       </td><td>53041                      </td><td>590                        </td><td>    0                      </td><td>53                         </td><td>Lewis County               </td><td>ADNA WA                    </td></tr>\n",
       "\t<tr><td>-118.9817                  </td><td>48.54705                   </td><td>AENEAS                     </td><td>WA                         </td><td>6                          </td><td>0                          </td><td>0                          </td><td>Population less than 10,000</td><td>Aeneas                     </td><td>53047                      </td><td>660                        </td><td>    0                      </td><td>53                         </td><td>Okanogan County            </td><td>AENEAS WA                  </td></tr>\n",
       "</tbody>\n",
       "</table>\n"
      ],
      "text/latex": [
       "\\begin{tabular}{r|lllllllllllllll}\n",
       " lon & lat & city & state & mapid & area & perimeter & feature & name & fips & fips55 & pop & state\\_fips & county & location\\\\\n",
       "\\hline\n",
       "\t -123.8181                   & 46.97494                    & ABERDEEN                    & WA                          & 1                           & 0                           & 0                           & Population 10,000 to 49,999 & Aberdeen                    & 53027                       & 100                         & 16565                       & 53                          & Grays Harbor County         & ABERDEEN WA                \\\\\n",
       "\t -122.2078                   & 48.71663                    & ACME                        & WA                          & 2                           & 0                           & 0                           & Population less than 10,000 & Acme                        & 53073                       & 275                         &     0                       & 53                          & Whatcom County              & ACME WA                    \\\\\n",
       "\t -117.8391                   & 48.35600                    & ADDY                        & WA                          & 3                           & 0                           & 0                           & Population less than 10,000 & Addy                        & 53065                       & 380                         &     0                       & 53                          & Stevens County              & ADDY WA                    \\\\\n",
       "\t -122.3628                   & 47.33079                    & ADELAIDE                    & WA                          & 4                           & 0                           & 0                           & Population less than 10,000 & Adelaide                    & 53033                       & 415                         &     0                       & 53                          & King County                 & ADELAIDE WA                \\\\\n",
       "\t -123.0638                   & 46.62849                    & ADNA                        & WA                          & 5                           & 0                           & 0                           & Population less than 10,000 & Adna                        & 53041                       & 590                         &     0                       & 53                          & Lewis County                & ADNA WA                    \\\\\n",
       "\t -118.9817                   & 48.54705                    & AENEAS                      & WA                          & 6                           & 0                           & 0                           & Population less than 10,000 & Aeneas                      & 53047                       & 660                         &     0                       & 53                          & Okanogan County             & AENEAS WA                  \\\\\n",
       "\\end{tabular}\n"
      ],
      "text/markdown": [
       "\n",
       "lon | lat | city | state | mapid | area | perimeter | feature | name | fips | fips55 | pop | state_fips | county | location | \n",
       "|---|---|---|---|---|---|\n",
       "| -123.8181                   | 46.97494                    | ABERDEEN                    | WA                          | 1                           | 0                           | 0                           | Population 10,000 to 49,999 | Aberdeen                    | 53027                       | 100                         | 16565                       | 53                          | Grays Harbor County         | ABERDEEN WA                 | \n",
       "| -122.2078                   | 48.71663                    | ACME                        | WA                          | 2                           | 0                           | 0                           | Population less than 10,000 | Acme                        | 53073                       | 275                         |     0                       | 53                          | Whatcom County              | ACME WA                     | \n",
       "| -117.8391                   | 48.35600                    | ADDY                        | WA                          | 3                           | 0                           | 0                           | Population less than 10,000 | Addy                        | 53065                       | 380                         |     0                       | 53                          | Stevens County              | ADDY WA                     | \n",
       "| -122.3628                   | 47.33079                    | ADELAIDE                    | WA                          | 4                           | 0                           | 0                           | Population less than 10,000 | Adelaide                    | 53033                       | 415                         |     0                       | 53                          | King County                 | ADELAIDE WA                 | \n",
       "| -123.0638                   | 46.62849                    | ADNA                        | WA                          | 5                           | 0                           | 0                           | Population less than 10,000 | Adna                        | 53041                       | 590                         |     0                       | 53                          | Lewis County                | ADNA WA                     | \n",
       "| -118.9817                   | 48.54705                    | AENEAS                      | WA                          | 6                           | 0                           | 0                           | Population less than 10,000 | Aeneas                      | 53047                       | 660                         |     0                       | 53                          | Okanogan County             | AENEAS WA                   | \n",
       "\n",
       "\n"
      ],
      "text/plain": [
       "  lon       lat      city     state mapid area perimeter\n",
       "1 -123.8181 46.97494 ABERDEEN WA    1     0    0        \n",
       "2 -122.2078 48.71663 ACME     WA    2     0    0        \n",
       "3 -117.8391 48.35600 ADDY     WA    3     0    0        \n",
       "4 -122.3628 47.33079 ADELAIDE WA    4     0    0        \n",
       "5 -123.0638 46.62849 ADNA     WA    5     0    0        \n",
       "6 -118.9817 48.54705 AENEAS   WA    6     0    0        \n",
       "  feature                     name     fips  fips55 pop   state_fips\n",
       "1 Population 10,000 to 49,999 Aberdeen 53027 100    16565 53        \n",
       "2 Population less than 10,000 Acme     53073 275        0 53        \n",
       "3 Population less than 10,000 Addy     53065 380        0 53        \n",
       "4 Population less than 10,000 Adelaide 53033 415        0 53        \n",
       "5 Population less than 10,000 Adna     53041 590        0 53        \n",
       "6 Population less than 10,000 Aeneas   53047 660        0 53        \n",
       "  county              location   \n",
       "1 Grays Harbor County ABERDEEN WA\n",
       "2 Whatcom County      ACME WA    \n",
       "3 Stevens County      ADDY WA    \n",
       "4 King County         ADELAIDE WA\n",
       "5 Lewis County        ADNA WA    \n",
       "6 Okanogan County     AENEAS WA  "
      ]
     },
     "metadata": {},
     "output_type": "display_data"
    }
   ],
   "source": [
    "head(cities_latlon)"
   ]
  },
  {
   "cell_type": "code",
   "execution_count": 211,
   "metadata": {
    "collapsed": true
   },
   "outputs": [
    {
     "data": {
      "text/html": [
       "<table>\n",
       "<thead><tr><th></th><th scope=col>lon</th><th scope=col>lat</th><th scope=col>city</th><th scope=col>state</th><th scope=col>mapid</th><th scope=col>area</th><th scope=col>perimeter</th><th scope=col>feature</th><th scope=col>name</th><th scope=col>fips</th><th scope=col>fips55</th><th scope=col>pop</th><th scope=col>state_fips</th><th scope=col>county</th><th scope=col>location</th></tr></thead>\n",
       "<tbody>\n",
       "\t<tr><th scope=row>23666</th><td>-82.05981                                      </td><td>32.39755                                       </td><td>METTER                                         </td><td>GA                                             </td><td>23666                                          </td><td>0                                              </td><td>0                                              </td><td>Population less than 10,000  County Seat       </td><td>Metter                                         </td><td>13041                                          </td><td>51072                                          </td><td>  3707                                         </td><td>13                                             </td><td>NA                                             </td><td>METTER GA                                      </td></tr>\n",
       "\t<tr><th scope=row>24044</th><td>-80.12637                                      </td><td>25.89233                                       </td><td>BAL HARBOUR                                    </td><td>FL                                             </td><td>24044                                          </td><td>0                                              </td><td>0                                              </td><td>Population less than 10,000                    </td><td>Bal Harbour                                    </td><td>12025                                          </td><td> 3275                                          </td><td>  3045                                         </td><td>12                                             </td><td>NA                                             </td><td>BAL HARBOUR FL                                 </td></tr>\n",
       "\t<tr><th scope=row>24051</th><td>-80.13057                                      </td><td>25.88832                                       </td><td>BAY HARBOR ISLANDS                             </td><td>FL                                             </td><td>24051                                          </td><td>0                                              </td><td>0                                              </td><td>Population less than 10,000                    </td><td>Bay Harbor Islands                             </td><td>12025                                          </td><td> 3975                                          </td><td>  4703                                         </td><td>12                                             </td><td>NA                                             </td><td>BAY HARBOR ISLANDS FL                          </td></tr>\n",
       "\t<tr><th scope=row>24068</th><td>-80.18004                                      </td><td>25.88322                                       </td><td>BISCAYNE PARK                                  </td><td>FL                                             </td><td>24068                                          </td><td>0                                              </td><td>0                                              </td><td>Population less than 10,000                    </td><td>Biscayne Park                                  </td><td>12025                                          </td><td> 6600                                          </td><td>  3068                                         </td><td>12                                             </td><td>NA                                             </td><td>BISCAYNE PARK FL                               </td></tr>\n",
       "\t<tr><th scope=row>24100</th><td>-80.23669                                      </td><td>25.92143                                       </td><td>BUNCHE PARK                                    </td><td>FL                                             </td><td>24100                                          </td><td>0                                              </td><td>0                                              </td><td>Population less than 10,000                    </td><td>Bunche Park                                    </td><td>12025                                          </td><td> 9500                                          </td><td>  4388                                         </td><td>12                                             </td><td>NA                                             </td><td>BUNCHE PARK FL                                 </td></tr>\n",
       "\t<tr><th scope=row>24117</th><td>-80.24540                                      </td><td>25.94121                                       </td><td>CAROL CITY                                     </td><td>FL                                             </td><td>24117                                          </td><td>0                                              </td><td>0                                              </td><td>Population less than 10,000                    </td><td>Carol City                                     </td><td>12025                                          </td><td>10650                                          </td><td>     0                                         </td><td>12                                             </td><td>NA                                             </td><td>CAROL CITY FL                                  </td></tr>\n",
       "\t<tr><th scope=row>24148</th><td>-80.26780                                      </td><td>25.72242                                       </td><td>CORAL GABLES                                   </td><td>FL                                             </td><td>24148                                          </td><td>0                                              </td><td>0                                              </td><td>Population 10,000 to 49,999                    </td><td>Coral Gables                                   </td><td>12025                                          </td><td>14250                                          </td><td> 40091                                         </td><td>12                                             </td><td>NA                                             </td><td>CORAL GABLES FL                                </td></tr>\n",
       "\t<tr><th scope=row>24163</th><td>-80.34642                                      </td><td>25.58155                                       </td><td>CUTLER RIDGE                                   </td><td>FL                                             </td><td>24163                                          </td><td>0                                              </td><td>0                                              </td><td>Population 10,000 to 49,999                    </td><td>Cutler Ridge                                   </td><td>12025                                          </td><td>15975                                          </td><td> 21268                                         </td><td>12                                             </td><td>NA                                             </td><td>CUTLER RIDGE FL                                </td></tr>\n",
       "\t<tr><th scope=row>24201</th><td>-80.19279                                      </td><td>25.85590                                       </td><td>EL PORTAL                                      </td><td>FL                                             </td><td>24201                                          </td><td>0                                              </td><td>0                                              </td><td>Population less than 10,000                    </td><td>El Portal                                      </td><td>12025                                          </td><td>20650                                          </td><td>  2457                                         </td><td>12                                             </td><td>NA                                             </td><td>EL PORTAL FL                                   </td></tr>\n",
       "\t<tr><th scope=row>24230</th><td>-80.47894                                      </td><td>25.44846                                       </td><td>FLORIDA CITY                                   </td><td>FL                                             </td><td>24230                                          </td><td>0                                              </td><td>0                                              </td><td>Population less than 10,000                    </td><td>Florida City                                   </td><td>12025                                          </td><td>22975                                          </td><td>  5806                                         </td><td>12                                             </td><td>NA                                             </td><td>FLORIDA CITY FL                                </td></tr>\n",
       "\t<tr><th scope=row>24260</th><td>-80.12158                                      </td><td>25.96580                                       </td><td>GOLDEN BEACH                                   </td><td>FL                                             </td><td>24260                                          </td><td>0                                              </td><td>0                                              </td><td>Population less than 10,000                    </td><td>Golden Beach                                   </td><td>12025                                          </td><td>26250                                          </td><td>   774                                         </td><td>12                                             </td><td>NA                                             </td><td>GOLDEN BEACH FL                                </td></tr>\n",
       "\t<tr><th scope=row>24265</th><td>-80.38172                                      </td><td>25.56333                                       </td><td>GOULDS                                         </td><td>FL                                             </td><td>24265                                          </td><td>0                                              </td><td>0                                              </td><td>Population less than 10,000                    </td><td>Goulds                                         </td><td>12025                                          </td><td>26950                                          </td><td>  7284                                         </td><td>12                                             </td><td>NA                                             </td><td>GOULDS FL                                      </td></tr>\n",
       "\t<tr><th scope=row>24295</th><td>-80.27757                                      </td><td>25.85853                                       </td><td>HIALEAH                                        </td><td>FL                                             </td><td>24295                                          </td><td>0                                              </td><td>0                                              </td><td>Population 100,000 to 249,999                  </td><td>Hialeah                                        </td><td>12025                                          </td><td>30000                                          </td><td>188004                                         </td><td>12                                             </td><td>NA                                             </td><td>HIALEAH FL                                     </td></tr>\n",
       "\t<tr><th scope=row>24296</th><td>-80.32399                                      </td><td>25.86576                                       </td><td>HIALEAH GARDENS                                </td><td>FL                                             </td><td>24296                                          </td><td>0                                              </td><td>0                                              </td><td>Population less than 10,000                    </td><td>Hialeah Gardens                                </td><td>12025                                          </td><td>30025                                          </td><td>  7713                                         </td><td>12                                             </td><td>NA                                             </td><td>HIALEAH GARDENS FL                             </td></tr>\n",
       "\t<tr><th scope=row>24316</th><td>-80.47710                                      </td><td>25.46927                                       </td><td>HOMESTEAD                                      </td><td>FL                                             </td><td>24316                                          </td><td>0                                              </td><td>0                                              </td><td>Population 10,000 to 49,999                    </td><td>Homestead                                      </td><td>12025                                          </td><td>32275                                          </td><td> 26866                                         </td><td>12                                             </td><td>NA                                             </td><td>HOMESTEAD FL                                   </td></tr>\n",
       "\t<tr><th scope=row>24355</th><td>-80.31673                                      </td><td>25.68016                                       </td><td>KENDALL                                        </td><td>FL                                             </td><td>24355                                          </td><td>0                                              </td><td>0                                              </td><td>Population 50,000 to 99,999                    </td><td>Kendall                                        </td><td>12025                                          </td><td>36100                                          </td><td> 87271                                         </td><td>12                                             </td><td>NA                                             </td><td>KENDALL FL                                     </td></tr>\n",
       "\t<tr><th scope=row>24357</th><td>-80.16218                                      </td><td>25.69443                                       </td><td>KEY BISCAYNE                                   </td><td>FL                                             </td><td>24357                                          </td><td>0                                              </td><td>0                                              </td><td>Population less than 10,000                    </td><td>Key Biscayne                                   </td><td>12025                                          </td><td>36300                                          </td><td>  8854                                         </td><td>12                                             </td><td>NA                                             </td><td>KEY BISCAYNE FL                                </td></tr>\n",
       "\t<tr><th scope=row>24412</th><td>-80.30091                                      </td><td>25.73427                                       </td><td>LUDLAM                                         </td><td>FL                                             </td><td>24412                                          </td><td>0                                              </td><td>0                                              </td><td>Population less than 10,000                    </td><td>Ludlam                                         </td><td>12025                                          </td><td>41625                                          </td><td>     0                                         </td><td>12                                             </td><td>NA                                             </td><td>LUDLAM FL                                      </td></tr>\n",
       "\t<tr><th scope=row>24445</th><td>-80.32603                                      </td><td>25.84128                                       </td><td>MEDLEY                                         </td><td>FL                                             </td><td>24445                                          </td><td>0                                              </td><td>0                                              </td><td>Population less than 10,000                    </td><td>Medley                                         </td><td>12025                                          </td><td>43900                                          </td><td>   663                                         </td><td>12                                             </td><td>NA                                             </td><td>MEDLEY FL                                      </td></tr>\n",
       "\t<tr><th scope=row>24450</th><td>-80.19329                                      </td><td>25.77484                                       </td><td>MIAMI                                          </td><td>FL                                             </td><td>24450                                          </td><td>0                                              </td><td>0                                              </td><td>Population 250,000 to 499,999  County Seat     </td><td>Miami                                          </td><td>12025                                          </td><td>45000                                          </td><td>358548                                         </td><td>12                                             </td><td>NA                                             </td><td>MIAMI FL                                       </td></tr>\n",
       "\t<tr><th scope=row>24451</th><td>-80.12982                                      </td><td>25.79147                                       </td><td>MIAMI BEACH                                    </td><td>FL                                             </td><td>24451                                          </td><td>0                                              </td><td>0                                              </td><td>Population 50,000 to 99,999                    </td><td>Miami Beach                                    </td><td>12025                                          </td><td>45025                                          </td><td> 92639                                         </td><td>12                                             </td><td>NA                                             </td><td>MIAMI BEACH FL                                 </td></tr>\n",
       "\t<tr><th scope=row>24452</th><td>-80.19244                                      </td><td>25.86376                                       </td><td>MIAMI SHORES                                   </td><td>FL                                             </td><td>24452                                          </td><td>0                                              </td><td>0                                              </td><td>Population 10,000 to 49,999                    </td><td>Miami Shores                                   </td><td>12025                                          </td><td>45175                                          </td><td> 10084                                         </td><td>12                                             </td><td>NA                                             </td><td>MIAMI SHORES FL                                </td></tr>\n",
       "\t<tr><th scope=row>24453</th><td>-80.28912                                      </td><td>25.82328                                       </td><td>MIAMI SPRINGS                                  </td><td>FL                                             </td><td>24453                                          </td><td>0                                              </td><td>0                                              </td><td>Population 10,000 to 49,999                    </td><td>Miami Springs                                  </td><td>12025                                          </td><td>45200                                          </td><td> 13268                                         </td><td>12                                             </td><td>NA                                             </td><td>MIAMI SPRINGS FL                               </td></tr>\n",
       "\t<tr><th scope=row>24476</th><td>-80.42258                                      </td><td>25.51886                                       </td><td>NARANJA                                        </td><td>FL                                             </td><td>24476                                          </td><td>0                                              </td><td>0                                              </td><td>Population less than 10,000                    </td><td>Naranja                                        </td><td>12025                                          </td><td>47700                                          </td><td>  5790                                         </td><td>12                                             </td><td>NA                                             </td><td>NARANJA FL                                     </td></tr>\n",
       "\t<tr><th scope=row>24491</th><td>-80.21184                                      </td><td>25.94970                                       </td><td>NORLAND                                        </td><td>FL                                             </td><td>24491                                          </td><td>0                                              </td><td>0                                              </td><td>Population 10,000 to 49,999                    </td><td>Norland                                        </td><td>12025                                          </td><td>49000                                          </td><td> 22109                                         </td><td>12                                             </td><td>NA                                             </td><td>NORLAND FL                                     </td></tr>\n",
       "\t<tr><th scope=row>24492</th><td>-80.15349                                      </td><td>25.84702                                       </td><td>NORTH BAY VILLAGE                              </td><td>FL                                             </td><td>24492                                          </td><td>0                                              </td><td>0                                              </td><td>Population less than 10,000                    </td><td>North Bay Village                              </td><td>12025                                          </td><td>49225                                          </td><td>  5383                                         </td><td>12                                             </td><td>NA                                             </td><td>NORTH BAY VILLAGE FL                           </td></tr>\n",
       "\t<tr><th scope=row>24494</th><td>-80.18624                                      </td><td>25.89086                                       </td><td>NORTH MIAMI                                    </td><td>FL                                             </td><td>24494                                          </td><td>0                                              </td><td>0                                              </td><td>Population 10,000 to 49,999                    </td><td>North Miami                                    </td><td>12025                                          </td><td>49450                                          </td><td> 49998                                         </td><td>12                                             </td><td>NA                                             </td><td>NORTH MIAMI FL                                 </td></tr>\n",
       "\t<tr><th scope=row>24495</th><td>-80.16224                                      </td><td>25.93398                                       </td><td>NORTH MIAMI BEACH                              </td><td>FL                                             </td><td>24495                                          </td><td>0                                              </td><td>0                                              </td><td>Population 10,000 to 49,999                    </td><td>North Miami Beach                              </td><td>12025                                          </td><td>49475                                          </td><td> 35359                                         </td><td>12                                             </td><td>NA                                             </td><td>NORTH MIAMI BEACH FL                           </td></tr>\n",
       "\t<tr><th scope=row>24508</th><td>-80.15000                                      </td><td>25.94926                                       </td><td>OJUS                                           </td><td>FL                                             </td><td>24508                                          </td><td>0                                              </td><td>0                                              </td><td>Population 10,000 to 49,999                    </td><td>Ojus                                           </td><td>12025                                          </td><td>51125                                          </td><td> 15519                                         </td><td>12                                             </td><td>NA                                             </td><td>OJUS FL                                        </td></tr>\n",
       "\t<tr><th scope=row>24516</th><td>-80.25005                                      </td><td>25.90293                                       </td><td>OPA-LOCKA                                      </td><td>FL                                             </td><td>24516                                          </td><td>0                                              </td><td>0                                              </td><td>Population 10,000 to 49,999                    </td><td>Opa-locka                                      </td><td>12025                                          </td><td>51650                                          </td><td> 15283                                         </td><td>12                                             </td><td>NA                                             </td><td>OPA-LOCKA FL                                   </td></tr>\n",
       "\t<tr><th scope=row>24553</th><td>-80.37751                                      </td><td>25.89591                                       </td><td>PENNSUCO                                       </td><td>FL                                             </td><td>24553                                          </td><td>0                                              </td><td>0                                              </td><td>Population less than 10,000                    </td><td>Pennsuco                                       </td><td>12025                                          </td><td>55900                                          </td><td>     0                                         </td><td>12                                             </td><td>NA                                             </td><td>PENNSUCO FL                                    </td></tr>\n",
       "\t<tr><th scope=row>24555</th><td>-80.35342                                      </td><td>25.60591                                       </td><td>PERRINE                                        </td><td>FL                                             </td><td>24555                                          </td><td>0                                              </td><td>0                                              </td><td>Population 10,000 to 49,999                    </td><td>Perrine                                        </td><td>12025                                          </td><td>56125                                          </td><td> 15576                                         </td><td>12                                             </td><td>NA                                             </td><td>PERRINE FL                                     </td></tr>\n",
       "\t<tr><th scope=row>24596</th><td>-80.36835                                      </td><td>25.63240                                       </td><td>RICHMOND HEIGHTS                               </td><td>FL                                             </td><td>24596                                          </td><td>0                                              </td><td>0                                              </td><td>Population less than 10,000                    </td><td>Richmond Heights                               </td><td>12025                                          </td><td>60225                                          </td><td>  8583                                         </td><td>12                                             </td><td>NA                                             </td><td>RICHMOND HEIGHTS FL                            </td></tr>\n",
       "\t<tr><th scope=row>24653</th><td>-80.29297                                      </td><td>25.70850                                       </td><td>SOUTH MIAMI                                    </td><td>FL                                             </td><td>24653                                          </td><td>0                                              </td><td>0                                              </td><td>Population 10,000 to 49,999                    </td><td>South Miami                                    </td><td>12025                                          </td><td>67550                                          </td><td> 10404                                         </td><td>12                                             </td><td>NA                                             </td><td>SOUTH MIAMI FL                                 </td></tr>\n",
       "\t<tr><th scope=row>24672</th><td>-80.12385                                      </td><td>25.92606                                       </td><td>SUNNY ISLES                                    </td><td>FL                                             </td><td>24672                                          </td><td>0                                              </td><td>0                                              </td><td>Population 10,000 to 49,999                    </td><td>Sunny Isles                                    </td><td>12025                                          </td><td>69550                                          </td><td> 11772                                         </td><td>12                                             </td><td>NA                                             </td><td>SUNNY ISLES FL                                 </td></tr>\n",
       "\t<tr><th scope=row>24674</th><td>-80.12493                                      </td><td>25.87931                                       </td><td>SURFSIDE                                       </td><td>FL                                             </td><td>24674                                          </td><td>0                                              </td><td>0                                              </td><td>Population less than 10,000                    </td><td>Surfside                                       </td><td>12025                                          </td><td>70075                                          </td><td>  4108                                         </td><td>12                                             </td><td>NA                                             </td><td>SURFSIDE FL                                    </td></tr>\n",
       "\t<tr><th scope=row>24677</th><td>-80.37244                                      </td><td>25.76416                                       </td><td>SWEETWATER                                     </td><td>FL                                             </td><td>24677                                          </td><td>0                                              </td><td>0                                              </td><td>Population 10,000 to 49,999                    </td><td>Sweetwater                                     </td><td>12025                                          </td><td>70275                                          </td><td> 13909                                         </td><td>12                                             </td><td>NA                                             </td><td>SWEETWATER FL                                  </td></tr>\n",
       "\t<tr><th scope=row>24713</th><td>-80.30167                                      </td><td>25.81122                                       </td><td>VIRGINIA GARDENS                               </td><td>FL                                             </td><td>24713                                          </td><td>0                                              </td><td>0                                              </td><td>Population less than 10,000                    </td><td>Virginia Gardens                               </td><td>12025                                          </td><td>74575                                          </td><td>  2212                                         </td><td>12                                             </td><td>NA                                             </td><td>VIRGINIA GARDENS FL                            </td></tr>\n",
       "\t<tr><th scope=row>24737</th><td>-80.29563                                      </td><td>25.76421                                       </td><td>WEST MIAMI                                     </td><td>FL                                             </td><td>24737                                          </td><td>0                                              </td><td>0                                              </td><td>Population less than 10,000                    </td><td>West Miami                                     </td><td>12025                                          </td><td>76525                                          </td><td>  5727                                         </td><td>12                                             </td><td>NA                                             </td><td>WEST MIAMI FL                                  </td></tr>\n",
       "\t<tr><th scope=row>24741</th><td>-80.37223                                      </td><td>25.73265                                       </td><td>WESTWOOD LAKE                                  </td><td>FL                                             </td><td>24741                                          </td><td>0                                              </td><td>0                                              </td><td>Population 10,000 to 49,999                    </td><td>Westwood Lake                                  </td><td>12025                                          </td><td>77075                                          </td><td> 11522                                         </td><td>12                                             </td><td>NA                                             </td><td>WESTWOOD LAKE FL                               </td></tr>\n",
       "\t<tr><th scope=row>28703</th><td>-77.01257                                      </td><td>38.88912                                       </td><td>WASHINGTON D.C.                                </td><td>DC                                             </td><td>28703                                          </td><td>0                                              </td><td>0                                              </td><td>Population 500,000 to 999,999  National Capital</td><td>Washington D.C.                                </td><td>11001                                          </td><td>50000                                          </td><td>606900                                         </td><td>11                                             </td><td>NA                                             </td><td>WASHINGTON D.C. DC                             </td></tr>\n",
       "</tbody>\n",
       "</table>\n"
      ],
      "text/latex": [
       "\\begin{tabular}{r|lllllllllllllll}\n",
       "  & lon & lat & city & state & mapid & area & perimeter & feature & name & fips & fips55 & pop & state\\_fips & county & location\\\\\n",
       "\\hline\n",
       "\t23666 & -82.05981                                       & 32.39755                                        & METTER                                          & GA                                              & 23666                                           & 0                                               & 0                                               & Population less than 10,000  County Seat        & Metter                                          & 13041                                           & 51072                                           &   3707                                          & 13                                              & NA                                              & METTER GA                                      \\\\\n",
       "\t24044 & -80.12637                                       & 25.89233                                        & BAL HARBOUR                                     & FL                                              & 24044                                           & 0                                               & 0                                               & Population less than 10,000                     & Bal Harbour                                     & 12025                                           &  3275                                           &   3045                                          & 12                                              & NA                                              & BAL HARBOUR FL                                 \\\\\n",
       "\t24051 & -80.13057                                       & 25.88832                                        & BAY HARBOR ISLANDS                              & FL                                              & 24051                                           & 0                                               & 0                                               & Population less than 10,000                     & Bay Harbor Islands                              & 12025                                           &  3975                                           &   4703                                          & 12                                              & NA                                              & BAY HARBOR ISLANDS FL                          \\\\\n",
       "\t24068 & -80.18004                                       & 25.88322                                        & BISCAYNE PARK                                   & FL                                              & 24068                                           & 0                                               & 0                                               & Population less than 10,000                     & Biscayne Park                                   & 12025                                           &  6600                                           &   3068                                          & 12                                              & NA                                              & BISCAYNE PARK FL                               \\\\\n",
       "\t24100 & -80.23669                                       & 25.92143                                        & BUNCHE PARK                                     & FL                                              & 24100                                           & 0                                               & 0                                               & Population less than 10,000                     & Bunche Park                                     & 12025                                           &  9500                                           &   4388                                          & 12                                              & NA                                              & BUNCHE PARK FL                                 \\\\\n",
       "\t24117 & -80.24540                                       & 25.94121                                        & CAROL CITY                                      & FL                                              & 24117                                           & 0                                               & 0                                               & Population less than 10,000                     & Carol City                                      & 12025                                           & 10650                                           &      0                                          & 12                                              & NA                                              & CAROL CITY FL                                  \\\\\n",
       "\t24148 & -80.26780                                       & 25.72242                                        & CORAL GABLES                                    & FL                                              & 24148                                           & 0                                               & 0                                               & Population 10,000 to 49,999                     & Coral Gables                                    & 12025                                           & 14250                                           &  40091                                          & 12                                              & NA                                              & CORAL GABLES FL                                \\\\\n",
       "\t24163 & -80.34642                                       & 25.58155                                        & CUTLER RIDGE                                    & FL                                              & 24163                                           & 0                                               & 0                                               & Population 10,000 to 49,999                     & Cutler Ridge                                    & 12025                                           & 15975                                           &  21268                                          & 12                                              & NA                                              & CUTLER RIDGE FL                                \\\\\n",
       "\t24201 & -80.19279                                       & 25.85590                                        & EL PORTAL                                       & FL                                              & 24201                                           & 0                                               & 0                                               & Population less than 10,000                     & El Portal                                       & 12025                                           & 20650                                           &   2457                                          & 12                                              & NA                                              & EL PORTAL FL                                   \\\\\n",
       "\t24230 & -80.47894                                       & 25.44846                                        & FLORIDA CITY                                    & FL                                              & 24230                                           & 0                                               & 0                                               & Population less than 10,000                     & Florida City                                    & 12025                                           & 22975                                           &   5806                                          & 12                                              & NA                                              & FLORIDA CITY FL                                \\\\\n",
       "\t24260 & -80.12158                                       & 25.96580                                        & GOLDEN BEACH                                    & FL                                              & 24260                                           & 0                                               & 0                                               & Population less than 10,000                     & Golden Beach                                    & 12025                                           & 26250                                           &    774                                          & 12                                              & NA                                              & GOLDEN BEACH FL                                \\\\\n",
       "\t24265 & -80.38172                                       & 25.56333                                        & GOULDS                                          & FL                                              & 24265                                           & 0                                               & 0                                               & Population less than 10,000                     & Goulds                                          & 12025                                           & 26950                                           &   7284                                          & 12                                              & NA                                              & GOULDS FL                                      \\\\\n",
       "\t24295 & -80.27757                                       & 25.85853                                        & HIALEAH                                         & FL                                              & 24295                                           & 0                                               & 0                                               & Population 100,000 to 249,999                   & Hialeah                                         & 12025                                           & 30000                                           & 188004                                          & 12                                              & NA                                              & HIALEAH FL                                     \\\\\n",
       "\t24296 & -80.32399                                       & 25.86576                                        & HIALEAH GARDENS                                 & FL                                              & 24296                                           & 0                                               & 0                                               & Population less than 10,000                     & Hialeah Gardens                                 & 12025                                           & 30025                                           &   7713                                          & 12                                              & NA                                              & HIALEAH GARDENS FL                             \\\\\n",
       "\t24316 & -80.47710                                       & 25.46927                                        & HOMESTEAD                                       & FL                                              & 24316                                           & 0                                               & 0                                               & Population 10,000 to 49,999                     & Homestead                                       & 12025                                           & 32275                                           &  26866                                          & 12                                              & NA                                              & HOMESTEAD FL                                   \\\\\n",
       "\t24355 & -80.31673                                       & 25.68016                                        & KENDALL                                         & FL                                              & 24355                                           & 0                                               & 0                                               & Population 50,000 to 99,999                     & Kendall                                         & 12025                                           & 36100                                           &  87271                                          & 12                                              & NA                                              & KENDALL FL                                     \\\\\n",
       "\t24357 & -80.16218                                       & 25.69443                                        & KEY BISCAYNE                                    & FL                                              & 24357                                           & 0                                               & 0                                               & Population less than 10,000                     & Key Biscayne                                    & 12025                                           & 36300                                           &   8854                                          & 12                                              & NA                                              & KEY BISCAYNE FL                                \\\\\n",
       "\t24412 & -80.30091                                       & 25.73427                                        & LUDLAM                                          & FL                                              & 24412                                           & 0                                               & 0                                               & Population less than 10,000                     & Ludlam                                          & 12025                                           & 41625                                           &      0                                          & 12                                              & NA                                              & LUDLAM FL                                      \\\\\n",
       "\t24445 & -80.32603                                       & 25.84128                                        & MEDLEY                                          & FL                                              & 24445                                           & 0                                               & 0                                               & Population less than 10,000                     & Medley                                          & 12025                                           & 43900                                           &    663                                          & 12                                              & NA                                              & MEDLEY FL                                      \\\\\n",
       "\t24450 & -80.19329                                       & 25.77484                                        & MIAMI                                           & FL                                              & 24450                                           & 0                                               & 0                                               & Population 250,000 to 499,999  County Seat      & Miami                                           & 12025                                           & 45000                                           & 358548                                          & 12                                              & NA                                              & MIAMI FL                                       \\\\\n",
       "\t24451 & -80.12982                                       & 25.79147                                        & MIAMI BEACH                                     & FL                                              & 24451                                           & 0                                               & 0                                               & Population 50,000 to 99,999                     & Miami Beach                                     & 12025                                           & 45025                                           &  92639                                          & 12                                              & NA                                              & MIAMI BEACH FL                                 \\\\\n",
       "\t24452 & -80.19244                                       & 25.86376                                        & MIAMI SHORES                                    & FL                                              & 24452                                           & 0                                               & 0                                               & Population 10,000 to 49,999                     & Miami Shores                                    & 12025                                           & 45175                                           &  10084                                          & 12                                              & NA                                              & MIAMI SHORES FL                                \\\\\n",
       "\t24453 & -80.28912                                       & 25.82328                                        & MIAMI SPRINGS                                   & FL                                              & 24453                                           & 0                                               & 0                                               & Population 10,000 to 49,999                     & Miami Springs                                   & 12025                                           & 45200                                           &  13268                                          & 12                                              & NA                                              & MIAMI SPRINGS FL                               \\\\\n",
       "\t24476 & -80.42258                                       & 25.51886                                        & NARANJA                                         & FL                                              & 24476                                           & 0                                               & 0                                               & Population less than 10,000                     & Naranja                                         & 12025                                           & 47700                                           &   5790                                          & 12                                              & NA                                              & NARANJA FL                                     \\\\\n",
       "\t24491 & -80.21184                                       & 25.94970                                        & NORLAND                                         & FL                                              & 24491                                           & 0                                               & 0                                               & Population 10,000 to 49,999                     & Norland                                         & 12025                                           & 49000                                           &  22109                                          & 12                                              & NA                                              & NORLAND FL                                     \\\\\n",
       "\t24492 & -80.15349                                       & 25.84702                                        & NORTH BAY VILLAGE                               & FL                                              & 24492                                           & 0                                               & 0                                               & Population less than 10,000                     & North Bay Village                               & 12025                                           & 49225                                           &   5383                                          & 12                                              & NA                                              & NORTH BAY VILLAGE FL                           \\\\\n",
       "\t24494 & -80.18624                                       & 25.89086                                        & NORTH MIAMI                                     & FL                                              & 24494                                           & 0                                               & 0                                               & Population 10,000 to 49,999                     & North Miami                                     & 12025                                           & 49450                                           &  49998                                          & 12                                              & NA                                              & NORTH MIAMI FL                                 \\\\\n",
       "\t24495 & -80.16224                                       & 25.93398                                        & NORTH MIAMI BEACH                               & FL                                              & 24495                                           & 0                                               & 0                                               & Population 10,000 to 49,999                     & North Miami Beach                               & 12025                                           & 49475                                           &  35359                                          & 12                                              & NA                                              & NORTH MIAMI BEACH FL                           \\\\\n",
       "\t24508 & -80.15000                                       & 25.94926                                        & OJUS                                            & FL                                              & 24508                                           & 0                                               & 0                                               & Population 10,000 to 49,999                     & Ojus                                            & 12025                                           & 51125                                           &  15519                                          & 12                                              & NA                                              & OJUS FL                                        \\\\\n",
       "\t24516 & -80.25005                                       & 25.90293                                        & OPA-LOCKA                                       & FL                                              & 24516                                           & 0                                               & 0                                               & Population 10,000 to 49,999                     & Opa-locka                                       & 12025                                           & 51650                                           &  15283                                          & 12                                              & NA                                              & OPA-LOCKA FL                                   \\\\\n",
       "\t24553 & -80.37751                                       & 25.89591                                        & PENNSUCO                                        & FL                                              & 24553                                           & 0                                               & 0                                               & Population less than 10,000                     & Pennsuco                                        & 12025                                           & 55900                                           &      0                                          & 12                                              & NA                                              & PENNSUCO FL                                    \\\\\n",
       "\t24555 & -80.35342                                       & 25.60591                                        & PERRINE                                         & FL                                              & 24555                                           & 0                                               & 0                                               & Population 10,000 to 49,999                     & Perrine                                         & 12025                                           & 56125                                           &  15576                                          & 12                                              & NA                                              & PERRINE FL                                     \\\\\n",
       "\t24596 & -80.36835                                       & 25.63240                                        & RICHMOND HEIGHTS                                & FL                                              & 24596                                           & 0                                               & 0                                               & Population less than 10,000                     & Richmond Heights                                & 12025                                           & 60225                                           &   8583                                          & 12                                              & NA                                              & RICHMOND HEIGHTS FL                            \\\\\n",
       "\t24653 & -80.29297                                       & 25.70850                                        & SOUTH MIAMI                                     & FL                                              & 24653                                           & 0                                               & 0                                               & Population 10,000 to 49,999                     & South Miami                                     & 12025                                           & 67550                                           &  10404                                          & 12                                              & NA                                              & SOUTH MIAMI FL                                 \\\\\n",
       "\t24672 & -80.12385                                       & 25.92606                                        & SUNNY ISLES                                     & FL                                              & 24672                                           & 0                                               & 0                                               & Population 10,000 to 49,999                     & Sunny Isles                                     & 12025                                           & 69550                                           &  11772                                          & 12                                              & NA                                              & SUNNY ISLES FL                                 \\\\\n",
       "\t24674 & -80.12493                                       & 25.87931                                        & SURFSIDE                                        & FL                                              & 24674                                           & 0                                               & 0                                               & Population less than 10,000                     & Surfside                                        & 12025                                           & 70075                                           &   4108                                          & 12                                              & NA                                              & SURFSIDE FL                                    \\\\\n",
       "\t24677 & -80.37244                                       & 25.76416                                        & SWEETWATER                                      & FL                                              & 24677                                           & 0                                               & 0                                               & Population 10,000 to 49,999                     & Sweetwater                                      & 12025                                           & 70275                                           &  13909                                          & 12                                              & NA                                              & SWEETWATER FL                                  \\\\\n",
       "\t24713 & -80.30167                                       & 25.81122                                        & VIRGINIA GARDENS                                & FL                                              & 24713                                           & 0                                               & 0                                               & Population less than 10,000                     & Virginia Gardens                                & 12025                                           & 74575                                           &   2212                                          & 12                                              & NA                                              & VIRGINIA GARDENS FL                            \\\\\n",
       "\t24737 & -80.29563                                       & 25.76421                                        & WEST MIAMI                                      & FL                                              & 24737                                           & 0                                               & 0                                               & Population less than 10,000                     & West Miami                                      & 12025                                           & 76525                                           &   5727                                          & 12                                              & NA                                              & WEST MIAMI FL                                  \\\\\n",
       "\t24741 & -80.37223                                       & 25.73265                                        & WESTWOOD LAKE                                   & FL                                              & 24741                                           & 0                                               & 0                                               & Population 10,000 to 49,999                     & Westwood Lake                                   & 12025                                           & 77075                                           &  11522                                          & 12                                              & NA                                              & WESTWOOD LAKE FL                               \\\\\n",
       "\t28703 & -77.01257                                       & 38.88912                                        & WASHINGTON D.C.                                 & DC                                              & 28703                                           & 0                                               & 0                                               & Population 500,000 to 999,999  National Capital & Washington D.C.                                 & 11001                                           & 50000                                           & 606900                                          & 11                                              & NA                                              & WASHINGTON D.C. DC                             \\\\\n",
       "\\end{tabular}\n"
      ],
      "text/markdown": [
       "\n",
       "| <!--/--> | lon | lat | city | state | mapid | area | perimeter | feature | name | fips | fips55 | pop | state_fips | county | location | \n",
       "|---|---|---|---|---|---|---|---|---|---|---|---|---|---|---|---|---|---|---|---|---|---|---|---|---|---|---|---|---|---|---|---|---|---|---|---|---|---|---|---|---|\n",
       "| 23666 | -82.05981                                       | 32.39755                                        | METTER                                          | GA                                              | 23666                                           | 0                                               | 0                                               | Population less than 10,000  County Seat        | Metter                                          | 13041                                           | 51072                                           |   3707                                          | 13                                              | NA                                              | METTER GA                                       | \n",
       "| 24044 | -80.12637                                       | 25.89233                                        | BAL HARBOUR                                     | FL                                              | 24044                                           | 0                                               | 0                                               | Population less than 10,000                     | Bal Harbour                                     | 12025                                           |  3275                                           |   3045                                          | 12                                              | NA                                              | BAL HARBOUR FL                                  | \n",
       "| 24051 | -80.13057                                       | 25.88832                                        | BAY HARBOR ISLANDS                              | FL                                              | 24051                                           | 0                                               | 0                                               | Population less than 10,000                     | Bay Harbor Islands                              | 12025                                           |  3975                                           |   4703                                          | 12                                              | NA                                              | BAY HARBOR ISLANDS FL                           | \n",
       "| 24068 | -80.18004                                       | 25.88322                                        | BISCAYNE PARK                                   | FL                                              | 24068                                           | 0                                               | 0                                               | Population less than 10,000                     | Biscayne Park                                   | 12025                                           |  6600                                           |   3068                                          | 12                                              | NA                                              | BISCAYNE PARK FL                                | \n",
       "| 24100 | -80.23669                                       | 25.92143                                        | BUNCHE PARK                                     | FL                                              | 24100                                           | 0                                               | 0                                               | Population less than 10,000                     | Bunche Park                                     | 12025                                           |  9500                                           |   4388                                          | 12                                              | NA                                              | BUNCHE PARK FL                                  | \n",
       "| 24117 | -80.24540                                       | 25.94121                                        | CAROL CITY                                      | FL                                              | 24117                                           | 0                                               | 0                                               | Population less than 10,000                     | Carol City                                      | 12025                                           | 10650                                           |      0                                          | 12                                              | NA                                              | CAROL CITY FL                                   | \n",
       "| 24148 | -80.26780                                       | 25.72242                                        | CORAL GABLES                                    | FL                                              | 24148                                           | 0                                               | 0                                               | Population 10,000 to 49,999                     | Coral Gables                                    | 12025                                           | 14250                                           |  40091                                          | 12                                              | NA                                              | CORAL GABLES FL                                 | \n",
       "| 24163 | -80.34642                                       | 25.58155                                        | CUTLER RIDGE                                    | FL                                              | 24163                                           | 0                                               | 0                                               | Population 10,000 to 49,999                     | Cutler Ridge                                    | 12025                                           | 15975                                           |  21268                                          | 12                                              | NA                                              | CUTLER RIDGE FL                                 | \n",
       "| 24201 | -80.19279                                       | 25.85590                                        | EL PORTAL                                       | FL                                              | 24201                                           | 0                                               | 0                                               | Population less than 10,000                     | El Portal                                       | 12025                                           | 20650                                           |   2457                                          | 12                                              | NA                                              | EL PORTAL FL                                    | \n",
       "| 24230 | -80.47894                                       | 25.44846                                        | FLORIDA CITY                                    | FL                                              | 24230                                           | 0                                               | 0                                               | Population less than 10,000                     | Florida City                                    | 12025                                           | 22975                                           |   5806                                          | 12                                              | NA                                              | FLORIDA CITY FL                                 | \n",
       "| 24260 | -80.12158                                       | 25.96580                                        | GOLDEN BEACH                                    | FL                                              | 24260                                           | 0                                               | 0                                               | Population less than 10,000                     | Golden Beach                                    | 12025                                           | 26250                                           |    774                                          | 12                                              | NA                                              | GOLDEN BEACH FL                                 | \n",
       "| 24265 | -80.38172                                       | 25.56333                                        | GOULDS                                          | FL                                              | 24265                                           | 0                                               | 0                                               | Population less than 10,000                     | Goulds                                          | 12025                                           | 26950                                           |   7284                                          | 12                                              | NA                                              | GOULDS FL                                       | \n",
       "| 24295 | -80.27757                                       | 25.85853                                        | HIALEAH                                         | FL                                              | 24295                                           | 0                                               | 0                                               | Population 100,000 to 249,999                   | Hialeah                                         | 12025                                           | 30000                                           | 188004                                          | 12                                              | NA                                              | HIALEAH FL                                      | \n",
       "| 24296 | -80.32399                                       | 25.86576                                        | HIALEAH GARDENS                                 | FL                                              | 24296                                           | 0                                               | 0                                               | Population less than 10,000                     | Hialeah Gardens                                 | 12025                                           | 30025                                           |   7713                                          | 12                                              | NA                                              | HIALEAH GARDENS FL                              | \n",
       "| 24316 | -80.47710                                       | 25.46927                                        | HOMESTEAD                                       | FL                                              | 24316                                           | 0                                               | 0                                               | Population 10,000 to 49,999                     | Homestead                                       | 12025                                           | 32275                                           |  26866                                          | 12                                              | NA                                              | HOMESTEAD FL                                    | \n",
       "| 24355 | -80.31673                                       | 25.68016                                        | KENDALL                                         | FL                                              | 24355                                           | 0                                               | 0                                               | Population 50,000 to 99,999                     | Kendall                                         | 12025                                           | 36100                                           |  87271                                          | 12                                              | NA                                              | KENDALL FL                                      | \n",
       "| 24357 | -80.16218                                       | 25.69443                                        | KEY BISCAYNE                                    | FL                                              | 24357                                           | 0                                               | 0                                               | Population less than 10,000                     | Key Biscayne                                    | 12025                                           | 36300                                           |   8854                                          | 12                                              | NA                                              | KEY BISCAYNE FL                                 | \n",
       "| 24412 | -80.30091                                       | 25.73427                                        | LUDLAM                                          | FL                                              | 24412                                           | 0                                               | 0                                               | Population less than 10,000                     | Ludlam                                          | 12025                                           | 41625                                           |      0                                          | 12                                              | NA                                              | LUDLAM FL                                       | \n",
       "| 24445 | -80.32603                                       | 25.84128                                        | MEDLEY                                          | FL                                              | 24445                                           | 0                                               | 0                                               | Population less than 10,000                     | Medley                                          | 12025                                           | 43900                                           |    663                                          | 12                                              | NA                                              | MEDLEY FL                                       | \n",
       "| 24450 | -80.19329                                       | 25.77484                                        | MIAMI                                           | FL                                              | 24450                                           | 0                                               | 0                                               | Population 250,000 to 499,999  County Seat      | Miami                                           | 12025                                           | 45000                                           | 358548                                          | 12                                              | NA                                              | MIAMI FL                                        | \n",
       "| 24451 | -80.12982                                       | 25.79147                                        | MIAMI BEACH                                     | FL                                              | 24451                                           | 0                                               | 0                                               | Population 50,000 to 99,999                     | Miami Beach                                     | 12025                                           | 45025                                           |  92639                                          | 12                                              | NA                                              | MIAMI BEACH FL                                  | \n",
       "| 24452 | -80.19244                                       | 25.86376                                        | MIAMI SHORES                                    | FL                                              | 24452                                           | 0                                               | 0                                               | Population 10,000 to 49,999                     | Miami Shores                                    | 12025                                           | 45175                                           |  10084                                          | 12                                              | NA                                              | MIAMI SHORES FL                                 | \n",
       "| 24453 | -80.28912                                       | 25.82328                                        | MIAMI SPRINGS                                   | FL                                              | 24453                                           | 0                                               | 0                                               | Population 10,000 to 49,999                     | Miami Springs                                   | 12025                                           | 45200                                           |  13268                                          | 12                                              | NA                                              | MIAMI SPRINGS FL                                | \n",
       "| 24476 | -80.42258                                       | 25.51886                                        | NARANJA                                         | FL                                              | 24476                                           | 0                                               | 0                                               | Population less than 10,000                     | Naranja                                         | 12025                                           | 47700                                           |   5790                                          | 12                                              | NA                                              | NARANJA FL                                      | \n",
       "| 24491 | -80.21184                                       | 25.94970                                        | NORLAND                                         | FL                                              | 24491                                           | 0                                               | 0                                               | Population 10,000 to 49,999                     | Norland                                         | 12025                                           | 49000                                           |  22109                                          | 12                                              | NA                                              | NORLAND FL                                      | \n",
       "| 24492 | -80.15349                                       | 25.84702                                        | NORTH BAY VILLAGE                               | FL                                              | 24492                                           | 0                                               | 0                                               | Population less than 10,000                     | North Bay Village                               | 12025                                           | 49225                                           |   5383                                          | 12                                              | NA                                              | NORTH BAY VILLAGE FL                            | \n",
       "| 24494 | -80.18624                                       | 25.89086                                        | NORTH MIAMI                                     | FL                                              | 24494                                           | 0                                               | 0                                               | Population 10,000 to 49,999                     | North Miami                                     | 12025                                           | 49450                                           |  49998                                          | 12                                              | NA                                              | NORTH MIAMI FL                                  | \n",
       "| 24495 | -80.16224                                       | 25.93398                                        | NORTH MIAMI BEACH                               | FL                                              | 24495                                           | 0                                               | 0                                               | Population 10,000 to 49,999                     | North Miami Beach                               | 12025                                           | 49475                                           |  35359                                          | 12                                              | NA                                              | NORTH MIAMI BEACH FL                            | \n",
       "| 24508 | -80.15000                                       | 25.94926                                        | OJUS                                            | FL                                              | 24508                                           | 0                                               | 0                                               | Population 10,000 to 49,999                     | Ojus                                            | 12025                                           | 51125                                           |  15519                                          | 12                                              | NA                                              | OJUS FL                                         | \n",
       "| 24516 | -80.25005                                       | 25.90293                                        | OPA-LOCKA                                       | FL                                              | 24516                                           | 0                                               | 0                                               | Population 10,000 to 49,999                     | Opa-locka                                       | 12025                                           | 51650                                           |  15283                                          | 12                                              | NA                                              | OPA-LOCKA FL                                    | \n",
       "| 24553 | -80.37751                                       | 25.89591                                        | PENNSUCO                                        | FL                                              | 24553                                           | 0                                               | 0                                               | Population less than 10,000                     | Pennsuco                                        | 12025                                           | 55900                                           |      0                                          | 12                                              | NA                                              | PENNSUCO FL                                     | \n",
       "| 24555 | -80.35342                                       | 25.60591                                        | PERRINE                                         | FL                                              | 24555                                           | 0                                               | 0                                               | Population 10,000 to 49,999                     | Perrine                                         | 12025                                           | 56125                                           |  15576                                          | 12                                              | NA                                              | PERRINE FL                                      | \n",
       "| 24596 | -80.36835                                       | 25.63240                                        | RICHMOND HEIGHTS                                | FL                                              | 24596                                           | 0                                               | 0                                               | Population less than 10,000                     | Richmond Heights                                | 12025                                           | 60225                                           |   8583                                          | 12                                              | NA                                              | RICHMOND HEIGHTS FL                             | \n",
       "| 24653 | -80.29297                                       | 25.70850                                        | SOUTH MIAMI                                     | FL                                              | 24653                                           | 0                                               | 0                                               | Population 10,000 to 49,999                     | South Miami                                     | 12025                                           | 67550                                           |  10404                                          | 12                                              | NA                                              | SOUTH MIAMI FL                                  | \n",
       "| 24672 | -80.12385                                       | 25.92606                                        | SUNNY ISLES                                     | FL                                              | 24672                                           | 0                                               | 0                                               | Population 10,000 to 49,999                     | Sunny Isles                                     | 12025                                           | 69550                                           |  11772                                          | 12                                              | NA                                              | SUNNY ISLES FL                                  | \n",
       "| 24674 | -80.12493                                       | 25.87931                                        | SURFSIDE                                        | FL                                              | 24674                                           | 0                                               | 0                                               | Population less than 10,000                     | Surfside                                        | 12025                                           | 70075                                           |   4108                                          | 12                                              | NA                                              | SURFSIDE FL                                     | \n",
       "| 24677 | -80.37244                                       | 25.76416                                        | SWEETWATER                                      | FL                                              | 24677                                           | 0                                               | 0                                               | Population 10,000 to 49,999                     | Sweetwater                                      | 12025                                           | 70275                                           |  13909                                          | 12                                              | NA                                              | SWEETWATER FL                                   | \n",
       "| 24713 | -80.30167                                       | 25.81122                                        | VIRGINIA GARDENS                                | FL                                              | 24713                                           | 0                                               | 0                                               | Population less than 10,000                     | Virginia Gardens                                | 12025                                           | 74575                                           |   2212                                          | 12                                              | NA                                              | VIRGINIA GARDENS FL                             | \n",
       "| 24737 | -80.29563                                       | 25.76421                                        | WEST MIAMI                                      | FL                                              | 24737                                           | 0                                               | 0                                               | Population less than 10,000                     | West Miami                                      | 12025                                           | 76525                                           |   5727                                          | 12                                              | NA                                              | WEST MIAMI FL                                   | \n",
       "| 24741 | -80.37223                                       | 25.73265                                        | WESTWOOD LAKE                                   | FL                                              | 24741                                           | 0                                               | 0                                               | Population 10,000 to 49,999                     | Westwood Lake                                   | 12025                                           | 77075                                           |  11522                                          | 12                                              | NA                                              | WESTWOOD LAKE FL                                | \n",
       "| 28703 | -77.01257                                       | 38.88912                                        | WASHINGTON D.C.                                 | DC                                              | 28703                                           | 0                                               | 0                                               | Population 500,000 to 999,999  National Capital | Washington D.C.                                 | 11001                                           | 50000                                           | 606900                                          | 11                                              | NA                                              | WASHINGTON D.C. DC                              | \n",
       "\n",
       "\n"
      ],
      "text/plain": [
       "      lon       lat      city               state mapid area perimeter\n",
       "23666 -82.05981 32.39755 METTER             GA    23666 0    0        \n",
       "24044 -80.12637 25.89233 BAL HARBOUR        FL    24044 0    0        \n",
       "24051 -80.13057 25.88832 BAY HARBOR ISLANDS FL    24051 0    0        \n",
       "24068 -80.18004 25.88322 BISCAYNE PARK      FL    24068 0    0        \n",
       "24100 -80.23669 25.92143 BUNCHE PARK        FL    24100 0    0        \n",
       "24117 -80.24540 25.94121 CAROL CITY         FL    24117 0    0        \n",
       "24148 -80.26780 25.72242 CORAL GABLES       FL    24148 0    0        \n",
       "24163 -80.34642 25.58155 CUTLER RIDGE       FL    24163 0    0        \n",
       "24201 -80.19279 25.85590 EL PORTAL          FL    24201 0    0        \n",
       "24230 -80.47894 25.44846 FLORIDA CITY       FL    24230 0    0        \n",
       "24260 -80.12158 25.96580 GOLDEN BEACH       FL    24260 0    0        \n",
       "24265 -80.38172 25.56333 GOULDS             FL    24265 0    0        \n",
       "24295 -80.27757 25.85853 HIALEAH            FL    24295 0    0        \n",
       "24296 -80.32399 25.86576 HIALEAH GARDENS    FL    24296 0    0        \n",
       "24316 -80.47710 25.46927 HOMESTEAD          FL    24316 0    0        \n",
       "24355 -80.31673 25.68016 KENDALL            FL    24355 0    0        \n",
       "24357 -80.16218 25.69443 KEY BISCAYNE       FL    24357 0    0        \n",
       "24412 -80.30091 25.73427 LUDLAM             FL    24412 0    0        \n",
       "24445 -80.32603 25.84128 MEDLEY             FL    24445 0    0        \n",
       "24450 -80.19329 25.77484 MIAMI              FL    24450 0    0        \n",
       "24451 -80.12982 25.79147 MIAMI BEACH        FL    24451 0    0        \n",
       "24452 -80.19244 25.86376 MIAMI SHORES       FL    24452 0    0        \n",
       "24453 -80.28912 25.82328 MIAMI SPRINGS      FL    24453 0    0        \n",
       "24476 -80.42258 25.51886 NARANJA            FL    24476 0    0        \n",
       "24491 -80.21184 25.94970 NORLAND            FL    24491 0    0        \n",
       "24492 -80.15349 25.84702 NORTH BAY VILLAGE  FL    24492 0    0        \n",
       "24494 -80.18624 25.89086 NORTH MIAMI        FL    24494 0    0        \n",
       "24495 -80.16224 25.93398 NORTH MIAMI BEACH  FL    24495 0    0        \n",
       "24508 -80.15000 25.94926 OJUS               FL    24508 0    0        \n",
       "24516 -80.25005 25.90293 OPA-LOCKA          FL    24516 0    0        \n",
       "24553 -80.37751 25.89591 PENNSUCO           FL    24553 0    0        \n",
       "24555 -80.35342 25.60591 PERRINE            FL    24555 0    0        \n",
       "24596 -80.36835 25.63240 RICHMOND HEIGHTS   FL    24596 0    0        \n",
       "24653 -80.29297 25.70850 SOUTH MIAMI        FL    24653 0    0        \n",
       "24672 -80.12385 25.92606 SUNNY ISLES        FL    24672 0    0        \n",
       "24674 -80.12493 25.87931 SURFSIDE           FL    24674 0    0        \n",
       "24677 -80.37244 25.76416 SWEETWATER         FL    24677 0    0        \n",
       "24713 -80.30167 25.81122 VIRGINIA GARDENS   FL    24713 0    0        \n",
       "24737 -80.29563 25.76421 WEST MIAMI         FL    24737 0    0        \n",
       "24741 -80.37223 25.73265 WESTWOOD LAKE      FL    24741 0    0        \n",
       "28703 -77.01257 38.88912 WASHINGTON D.C.    DC    28703 0    0        \n",
       "      feature                                         name               fips \n",
       "23666 Population less than 10,000  County Seat        Metter             13041\n",
       "24044 Population less than 10,000                     Bal Harbour        12025\n",
       "24051 Population less than 10,000                     Bay Harbor Islands 12025\n",
       "24068 Population less than 10,000                     Biscayne Park      12025\n",
       "24100 Population less than 10,000                     Bunche Park        12025\n",
       "24117 Population less than 10,000                     Carol City         12025\n",
       "24148 Population 10,000 to 49,999                     Coral Gables       12025\n",
       "24163 Population 10,000 to 49,999                     Cutler Ridge       12025\n",
       "24201 Population less than 10,000                     El Portal          12025\n",
       "24230 Population less than 10,000                     Florida City       12025\n",
       "24260 Population less than 10,000                     Golden Beach       12025\n",
       "24265 Population less than 10,000                     Goulds             12025\n",
       "24295 Population 100,000 to 249,999                   Hialeah            12025\n",
       "24296 Population less than 10,000                     Hialeah Gardens    12025\n",
       "24316 Population 10,000 to 49,999                     Homestead          12025\n",
       "24355 Population 50,000 to 99,999                     Kendall            12025\n",
       "24357 Population less than 10,000                     Key Biscayne       12025\n",
       "24412 Population less than 10,000                     Ludlam             12025\n",
       "24445 Population less than 10,000                     Medley             12025\n",
       "24450 Population 250,000 to 499,999  County Seat      Miami              12025\n",
       "24451 Population 50,000 to 99,999                     Miami Beach        12025\n",
       "24452 Population 10,000 to 49,999                     Miami Shores       12025\n",
       "24453 Population 10,000 to 49,999                     Miami Springs      12025\n",
       "24476 Population less than 10,000                     Naranja            12025\n",
       "24491 Population 10,000 to 49,999                     Norland            12025\n",
       "24492 Population less than 10,000                     North Bay Village  12025\n",
       "24494 Population 10,000 to 49,999                     North Miami        12025\n",
       "24495 Population 10,000 to 49,999                     North Miami Beach  12025\n",
       "24508 Population 10,000 to 49,999                     Ojus               12025\n",
       "24516 Population 10,000 to 49,999                     Opa-locka          12025\n",
       "24553 Population less than 10,000                     Pennsuco           12025\n",
       "24555 Population 10,000 to 49,999                     Perrine            12025\n",
       "24596 Population less than 10,000                     Richmond Heights   12025\n",
       "24653 Population 10,000 to 49,999                     South Miami        12025\n",
       "24672 Population 10,000 to 49,999                     Sunny Isles        12025\n",
       "24674 Population less than 10,000                     Surfside           12025\n",
       "24677 Population 10,000 to 49,999                     Sweetwater         12025\n",
       "24713 Population less than 10,000                     Virginia Gardens   12025\n",
       "24737 Population less than 10,000                     West Miami         12025\n",
       "24741 Population 10,000 to 49,999                     Westwood Lake      12025\n",
       "28703 Population 500,000 to 999,999  National Capital Washington D.C.    11001\n",
       "      fips55 pop    state_fips county location             \n",
       "23666 51072    3707 13         NA     METTER GA            \n",
       "24044  3275    3045 12         NA     BAL HARBOUR FL       \n",
       "24051  3975    4703 12         NA     BAY HARBOR ISLANDS FL\n",
       "24068  6600    3068 12         NA     BISCAYNE PARK FL     \n",
       "24100  9500    4388 12         NA     BUNCHE PARK FL       \n",
       "24117 10650       0 12         NA     CAROL CITY FL        \n",
       "24148 14250   40091 12         NA     CORAL GABLES FL      \n",
       "24163 15975   21268 12         NA     CUTLER RIDGE FL      \n",
       "24201 20650    2457 12         NA     EL PORTAL FL         \n",
       "24230 22975    5806 12         NA     FLORIDA CITY FL      \n",
       "24260 26250     774 12         NA     GOLDEN BEACH FL      \n",
       "24265 26950    7284 12         NA     GOULDS FL            \n",
       "24295 30000  188004 12         NA     HIALEAH FL           \n",
       "24296 30025    7713 12         NA     HIALEAH GARDENS FL   \n",
       "24316 32275   26866 12         NA     HOMESTEAD FL         \n",
       "24355 36100   87271 12         NA     KENDALL FL           \n",
       "24357 36300    8854 12         NA     KEY BISCAYNE FL      \n",
       "24412 41625       0 12         NA     LUDLAM FL            \n",
       "24445 43900     663 12         NA     MEDLEY FL            \n",
       "24450 45000  358548 12         NA     MIAMI FL             \n",
       "24451 45025   92639 12         NA     MIAMI BEACH FL       \n",
       "24452 45175   10084 12         NA     MIAMI SHORES FL      \n",
       "24453 45200   13268 12         NA     MIAMI SPRINGS FL     \n",
       "24476 47700    5790 12         NA     NARANJA FL           \n",
       "24491 49000   22109 12         NA     NORLAND FL           \n",
       "24492 49225    5383 12         NA     NORTH BAY VILLAGE FL \n",
       "24494 49450   49998 12         NA     NORTH MIAMI FL       \n",
       "24495 49475   35359 12         NA     NORTH MIAMI BEACH FL \n",
       "24508 51125   15519 12         NA     OJUS FL              \n",
       "24516 51650   15283 12         NA     OPA-LOCKA FL         \n",
       "24553 55900       0 12         NA     PENNSUCO FL          \n",
       "24555 56125   15576 12         NA     PERRINE FL           \n",
       "24596 60225    8583 12         NA     RICHMOND HEIGHTS FL  \n",
       "24653 67550   10404 12         NA     SOUTH MIAMI FL       \n",
       "24672 69550   11772 12         NA     SUNNY ISLES FL       \n",
       "24674 70075    4108 12         NA     SURFSIDE FL          \n",
       "24677 70275   13909 12         NA     SWEETWATER FL        \n",
       "24713 74575    2212 12         NA     VIRGINIA GARDENS FL  \n",
       "24737 76525    5727 12         NA     WEST MIAMI FL        \n",
       "24741 77075   11522 12         NA     WESTWOOD LAKE FL     \n",
       "28703 50000  606900 11         NA     WASHINGTON D.C. DC   "
      ]
     },
     "metadata": {},
     "output_type": "display_data"
    }
   ],
   "source": [
    "subset(cities_latlon, is.na(county)) "
   ]
  },
  {
   "cell_type": "code",
   "execution_count": 212,
   "metadata": {},
   "outputs": [],
   "source": [
    "usstates_county <- usstates_place %>% dplyr::select(one_of(c(\"State\", \"State_id\", \"Code\", \n",
    "                                                             \"Sumlev\", \"Place\", \"County\", \n",
    "                                                             \"City\", \"City2\", \"City3\"))) %>%\n",
    "                    filter(Sumlev == 50 & Place == 0) %>%\n",
    "                    dplyr::rename(\"County_id\" = \"County\", \"County_name\" = \"City\", \n",
    "                                  \"County2\" = \"City2\", \n",
    "                                  \"County3\" = \"City3\") %>%\n",
    "                    as.data.frame()\n",
    "                        "
   ]
  },
  {
   "cell_type": "code",
   "execution_count": 28,
   "metadata": {
    "collapsed": true
   },
   "outputs": [
    {
     "name": "stdout",
     "output_type": "stream",
     "text": [
      "'data.frame':\t3141 obs. of  9 variables:\n",
      " $ State2     : chr  \"Alaska\" \"Alaska\" \"Alaska\" \"Alaska\" ...\n",
      " $ State_id2  : int  2 2 2 2 2 2 2 2 2 2 ...\n",
      " $ Code2      : chr  \"AK\" \"AK\" \"AK\" \"AK\" ...\n",
      " $ Sumlev     : int  50 50 50 50 50 50 50 50 50 50 ...\n",
      " $ Place      : int  0 0 0 0 0 0 0 0 0 0 ...\n",
      " $ County_id  : int  13 16 20 50 60 68 70 90 100 105 ...\n",
      " $ County_name: chr  \"Aleutians East Borough\" \"Aleutians West Census Area\" \"Anchorage Municipality\" \"Bethel Census Area\" ...\n",
      " $ County2    : chr  \"Aleutians East Borough\" \"Aleutians West Census Area\" \"Anchorage Municipality\" \"Bethel Census Area\" ...\n",
      " $ County3    : chr  \"Aleutians East Borough\" \"Aleutians West Census Area\" \"Anchorage Municipality\" \"Bethel Census Area\" ...\n"
     ]
    }
   ],
   "source": [
    "str(usstates_county)"
   ]
  },
  {
   "cell_type": "code",
   "execution_count": 213,
   "metadata": {},
   "outputs": [],
   "source": [
    "usstates_place_county <- usstates_place %>%\n",
    "                            dplyr::left_join(usstates_county[c(\"State\", \"State_id\", \"Code\",\n",
    "                                                          \"County_id\", \n",
    "                                                             \"County_name\", \"County2\", \n",
    "                                                         \"County3\")],\n",
    "                                      by = c(\"State\", \"State_id\", \n",
    "                                             \"Code\", \n",
    "                                             \"County\" = \"County_id\")) %>%\n",
    "                        as.data.frame()"
   ]
  },
  {
   "cell_type": "code",
   "execution_count": 214,
   "metadata": {},
   "outputs": [],
   "source": [
    "usstates_place_county$County_name <- ifelse(is.na(usstates_place_county$County_name), \"None\", usstates_place_county$County_name)\n",
    "usstates_place_county$County_name <- ifelse(is.na(usstates_place_county$County2), \"None\", usstates_place_county$County2)\n",
    "usstates_place_county$County_name <- ifelse(is.na(usstates_place_county$County3), \"None\", usstates_place_county$County3)"
   ]
  },
  {
   "cell_type": "markdown",
   "metadata": {},
   "source": [
    "write.csv(usstates_place_county, \"C:\\\\MathLabASUS\\\\Courses\\\\Ryerson\\\\Project\\\\Data\\\\Files\\\\Demographics\\\\usstates_placetype.csv\")"
   ]
  },
  {
   "cell_type": "markdown",
   "metadata": {},
   "source": [
    "write.csv(features, \"C:\\\\MathLabASUS\\\\Courses\\\\Ryerson\\\\Project\\\\Data\\\\Files\\\\Features_Demo\\\\features2.csv\")"
   ]
  },
  {
   "cell_type": "markdown",
   "metadata": {},
   "source": [
    "write.csv(cities_latlon, \"C:\\\\MathLabASUS\\\\Courses\\\\Ryerson\\\\Project\\\\Data\\\\Files\\\\Maps\\\\cities_latlon.csv\")"
   ]
  },
  {
   "cell_type": "code",
   "execution_count": 49,
   "metadata": {
    "collapsed": true
   },
   "outputs": [
    {
     "name": "stdout",
     "output_type": "stream",
     "text": [
      "'data.frame':\t5223 obs. of  56 variables:\n",
      " $ Code                        : chr  \"AK\" \"AK\" \"AK\" \"AK\" ...\n",
      " $ State                       : chr  \"Alaska\" \"Alaska\" \"Alaska\" \"Alaska\" ...\n",
      " $ State_id                    : int  2 2 2 2 2 2 2 2 2 2 ...\n",
      " $ City                        : chr  \"Anchorage municipality\" \"Barrow city\" \"Fairbanks city\" \"Homer city\" ...\n",
      " $ City2                       : chr  \"Anchorage\" \"Barrow\" \"Fairbanks\" \"Homer\" ...\n",
      " $ City3                       : chr  \"Anchorage\" \"Barrow\" \"Fairbanks\" \"Homer\" ...\n",
      " $ Place_type                  : chr  \"municipality\" \"city\" \"city\" \"city\" ...\n",
      " $ City_state                  : chr  \"Anchorage, Alaska\" \"Barrow, Alaska\" \"Fairbanks, Alaska\" \"Homer, Alaska\" ...\n",
      " $ City_code                   : chr  \"Anchorage, AK\" \"Barrow, AK\" \"Fairbanks, AK\" \"Homer, AK\" ...\n",
      " $ avgCensus2010pop            : num  291826 4212 31535 5003 7100 ...\n",
      " $ avgPopestimate2015          : num  298018 4439 31638 5510 7636 ...\n",
      " $ rownum                      : int  599 611 680 716 738 740 751 813 816 827 ...\n",
      " $ id                          : chr  \"1600000US0203000\" \"1600000US0205200\" \"1600000US0224230\" \"1600000US0233140\" ...\n",
      " $ id2                         : int  203000 205200 224230 233140 238420 238970 240950 254920 255910 258660 ...\n",
      " $ geography                   : chr  \"Anchorage municipality, Alaska\" \"Barrow city, Alaska\" \"Fairbanks city, Alaska\" \"Homer city, Alaska\" ...\n",
      " $ totalpopulation             : int  299107 4293 32193 5324 7463 8197 6293 3773 2265 6449 ...\n",
      " $ malepop                     : int  153122 2256 17366 2555 3692 4189 3268 1991 1175 3275 ...\n",
      " $ femalepop                   : int  145985 2037 14827 2769 3771 4008 3025 1782 1090 3174 ...\n",
      " $ medianage                   : num  32.5 26.5 27.2 39.1 38.5 36.9 36.9 30.1 29.3 29.3 ...\n",
      " $ per_male                    : num  51.2 52.5 53.9 48 49.5 ...\n",
      " $ per_female                  : num  48.8 47.5 46.1 52 50.5 ...\n",
      " $ total_area                  : int  291826 4212 31535 5003 7100 8050 6130 3598 2117 5937 ...\n",
      " $ urban                       : int  279811 3835 31403 0 4498 7917 5837 3222 1960 5926 ...\n",
      " $ rural                       : int  12015 377 132 5003 2602 133 293 376 157 11 ...\n",
      " $ per_urban                   : num  95.9 91 99.6 0 63.4 ...\n",
      " $ per_rural                   : num  4.12 8.95 0.42 100 36.65 ...\n",
      " $ house_total_population      : int  105175 1329 11228 2090 3041 3317 2001 1296 803 2055 ...\n",
      " $ mean_income_per_capita      : int  36920 27360 27386 30664 34627 28041 28624 29005 30992 26230 ...\n",
      " $ house_total_income          : int  105175 1329 11228 2090 3041 3317 2001 1296 803 2055 ...\n",
      " $ total_population_race       : int  299107 4293 32193 5324 7463 8197 6293 3773 2265 6449 ...\n",
      " $ white_population            : int  194254 361 20434 4630 5883 4901 2378 1303 1673 4900 ...\n",
      " $ black_population            : int  17511 24 2867 32 27 56 1 72 199 132 ...\n",
      " $ per_white                   : num  64.94 8.41 63.47 86.96 78.83 ...\n",
      " $ per_black                   : num  5.85 0.56 8.91 0.6 0.36 0.68 0.02 1.91 8.79 2.05 ...\n",
      " $ total_pop_over16            : int  231795 2857 24240 4190 5897 6576 4935 2790 1697 4771 ...\n",
      " $ employ_pop_over16           : int  171644 2079 17696 2685 3847 4422 3811 1995 1160 3087 ...\n",
      " $ per_employ_over16           : num  74 72.8 73 64.1 65.2 67.2 77.2 71.5 68.4 64.7 ...\n",
      " $ total_population_lang       : int  276810 3805 28999 4892 7020 7620 5763 3392 2073 5854 ...\n",
      " $ english_only                : int  227828 1879 24211 4375 6536 6533 3423 2857 1857 5489 ...\n",
      " $ english_other               : int  48982 1926 4788 517 484 1087 2340 535 216 365 ...\n",
      " $ per_english_only            : num  82.3 49.4 83.5 89.4 93.1 85.7 59.4 84.2 89.6 93.8 ...\n",
      " $ per_english_other           : num  17.7 50.6 16.5 10.6 6.9 14.3 40.6 15.8 10.4 6.2 ...\n",
      " $ mean_income_households      : int  99630 95160 70739 74523 81043 66751 78310 84952 82528 73063 ...\n",
      " $ total_population_individuals: int  299107 4293 32193 5324 7463 8197 6293 3773 2265 6449 ...\n",
      " $ house_median_income         : num  78326 76902 55229 55849 62236 ...\n",
      " $ location                    : chr  \"ANCHORAGE AK\" \"BARROW AK\" \"FAIRBANKS AK\" \"HOMER AK\" ...\n",
      " $ lon                         : num  -150 -157 -148 -152 -151 ...\n",
      " $ lat                         : num  61.2 71.3 64.8 59.6 60.6 ...\n",
      " $ count                       : int  742 2 121 3 8 8 42 1 10 21 ...\n",
      " $ count_rate                  : num  2.481 0.466 3.759 0.563 1.072 ...\n",
      " $ med_per_urban               : num  91.1 91.1 91.1 91.1 91.1 ...\n",
      " $ med_per_rural               : num  8.95 8.95 8.95 8.95 8.95 ...\n",
      " $ med_per_employ_over16       : num  67.8 67.8 67.8 67.8 67.8 67.8 67.8 67.8 67.8 67.8 ...\n",
      " $ city                        : chr  \"ANCHORAGE\" \"BARROW\" \"FAIRBANKS\" \"HOMER\" ...\n",
      " $ state                       : chr  \"AK\" \"AK\" \"AK\" \"AK\" ...\n",
      " $ county                      : chr  \"Anchorage Borough\" \"North Slope Borough\" \"Fairbanks North Star Borough\" \"Kenai Peninsula Borough\" ...\n"
     ]
    }
   ],
   "source": [
    "str(features)"
   ]
  }
 ],
 "metadata": {
  "kernelspec": {
   "display_name": "R",
   "language": "R",
   "name": "ir"
  },
  "language_info": {
   "codemirror_mode": "r",
   "file_extension": ".r",
   "mimetype": "text/x-r-source",
   "name": "R",
   "pygments_lexer": "r",
   "version": "3.5.1"
  }
 },
 "nbformat": 4,
 "nbformat_minor": 2
}
