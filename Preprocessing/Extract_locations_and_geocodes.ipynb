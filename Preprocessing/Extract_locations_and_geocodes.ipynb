{
 "cells": [
  {
   "cell_type": "code",
   "execution_count": 54,
   "metadata": {},
   "outputs": [],
   "source": [
    "library(knitr)\n",
    "library(sqldf)\n",
    "library(ggplot2)\n",
    "library(mongolite)\n",
    "library(ggplot2)\n",
    "library(gridExtra)\n",
    "library(dplyr)\n",
    "library(tidyr)\n",
    "library(jsonlite)\n",
    "library(lubridate)\n",
    "library(gridExtra)\n",
    "library(GGally)\n",
    "library(scales)\n",
    "library(memisc)\n",
    " library(sp)\n",
    "library(rgeos)\n",
    "library(rgdal)\n",
    "library(maptools)\n",
    "library(RColorBrewer)\n",
    "library(maps)\n",
    "library(grid)\n",
    "library(cluster)\n",
    "library(StatMatch)\n",
    "library(fastcluster)\n",
    "library(factoextra)\n",
    "library(stringr)\n",
    "library(googleVis)\n",
    "library(RMySQL)\n",
    "library(data.table)\n",
    "library(dbplyr)\n",
    "library(DBI)\n",
    "library(httr)\n",
    "library(scanstatistics)\n",
    "library(purrr)\n",
    "library(magrittr)\n",
    "library(rsatscan)\n",
    "#.libPaths(c(file.path(Sys.getenv('SPARK_HOME'), 'R', 'lib'), .libPaths())"
   ]
  },
  {
   "cell_type": "code",
   "execution_count": 2,
   "metadata": {},
   "outputs": [],
   "source": [
    "plot.format <- theme(axis.text = element_text(size = 14), legend.text = element_text(size = 14), legend.title = element_text(size = 14), axis.title = element_text(size = 18), plot.title = element_text(size = 18))"
   ]
  },
  {
   "cell_type": "code",
   "execution_count": null,
   "metadata": {},
   "outputs": [],
   "source": [
    "#### Load Ferguson data"
   ]
  },
  {
   "cell_type": "code",
   "execution_count": 18,
   "metadata": {},
   "outputs": [],
   "source": [
    "ferg_cols <- fread(file = \"../Preprocessing/Files/Source/ferg24_cols.csv\", sep =\",\", header = TRUE, \n",
    "              stringsAsFactors=FALSE,\n",
    "             showProgress=getOption(\"datatable.showProgress\", interactive()), data.table=FALSE)"
   ]
  },
  {
   "cell_type": "code",
   "execution_count": 7,
   "metadata": {
    "collapsed": true
   },
   "outputs": [
    {
     "name": "stdout",
     "output_type": "stream",
     "text": [
      "'data.frame':\t3758115 obs. of  25 variables:\n",
      " $ rowno                      : num  1 2 3 4 5 6 7 8 9 10 ...\n",
      " $ user.id                    : num  1.54e+09 9.44e+06 6.34e+07 1.54e+09 9.44e+06 ...\n",
      " $ user.location              : chr  \"Columbus, OH\" \"Atlanta, GA\" \"CaLove\" \"Columbus, OH\" ...\n",
      " $ user.description           : chr  \"Advocate for survivors of sexual violence. Breaker of silence, destroyer of shame.\" \"Husband. Father. Prelate. Human. Company builder, 2 exits. Author @kingonomics. Inclusive ecosystem builder @th\"| __truncated__ \"Jealous Guardian of our Democracy #RIPTrayvonMartin #ImAlwaysWithHer\" \"Advocate for survivors of sexual violence. Breaker of silence, destroyer of shame.\" ...\n",
      " $ created_at                 : chr  \"Sat Aug 09 22:33:06 +0000 2014\" \"Sat Aug 09 22:59:13 +0000 2014\" \"Sat Aug 09 22:00:02 +0000 2014\" \"Sat Aug 09 22:28:42 +0000 2014\" ...\n",
      " $ id                         : num  4.98e+17 4.98e+17 4.98e+17 4.98e+17 4.98e+17 ...\n",
      " $ user.created_at            : chr  \"Sat Jun 22 16:57:40 +0000 2013\" \"Sun Oct 14 15:51:11 +0000 2007\" \"Thu Aug 06 05:19:37 +0000 2009\" \"Sat Jun 22 16:57:40 +0000 2013\" ...\n",
      " $ retweeted                  : logi  FALSE FALSE FALSE FALSE FALSE FALSE ...\n",
      " $ retweeted_count            : logi  NA NA NA NA NA NA ...\n",
      " $ retweet                    : int  0 0 1 0 0 0 0 0 0 1 ...\n",
      " $ retweeted_status.created_at: chr  \"\" \"\" \"Sat Aug 09 20:34:54 +0000 2014\" \"\" ...\n",
      " $ favorited                  : logi  FALSE FALSE FALSE FALSE FALSE FALSE ...\n",
      " $ favorite_count             : int  107 1 0 10 2 0 0 3 6 0 ...\n",
      " $ textnum                    : int  1 1 1 1 1 1 1 1 1 1 ...\n",
      " $ full_text                  : chr  \"Black teenage boys are not men. They are children. Stop referring to a 17 year old as a man. You are killing ch\"| __truncated__ \"@PhaedraParks  While there, please tune in today's killing of the young black male in #Ferguson. #SaveOurBoys\" \"RT @PhenomMusik: @NAACP pictures speak 1000 words! Unarmed teen shot 10 times by #Ferguson police http://t.co/COLJqL4N3h\" \"SICK and TIRED of police killing unarmed people. #ferguson #walmart\" ...\n",
      " $ possibly_sensitive         : logi  NA NA FALSE NA NA FALSE ...\n",
      " $ hashtags                   : logi  NA NA NA NA NA NA ...\n",
      " $ lang                       : chr  \"en\" \"en\" \"en\" \"en\" ...\n",
      " $ user.geo_enabled           : logi  TRUE FALSE TRUE TRUE FALSE TRUE ...\n",
      " $ place.full_name            : chr  \"\" \"\" \"\" \"\" ...\n",
      " $ place.place_type           : chr  \"\" \"\" \"\" \"\" ...\n",
      " $ utc_datetime               : chr  \"2014-08-09T22:33:06Z\" \"2014-08-09T22:59:13Z\" \"2014-08-09T22:00:02Z\" \"2014-08-09T22:28:42Z\" ...\n",
      " $ yday                       : int  221 221 221 221 221 221 221 221 221 221 ...\n",
      " $ ymd                        : chr  \"2014-08-09\" \"2014-08-09\" \"2014-08-09\" \"2014-08-09\" ...\n",
      " $ user_id2                   : int  542673 9237 174942 542673 9237 93300 134846 350432 90689 111314 ...\n"
     ]
    }
   ],
   "source": [
    "str(ferg_cols)"
   ]
  },
  {
   "cell_type": "code",
   "execution_count": null,
   "metadata": {},
   "outputs": [],
   "source": [
    "### Number of tweets/users with geocoded locations"
   ]
  },
  {
   "cell_type": "code",
   "execution_count": 10,
   "metadata": {
    "scrolled": true
   },
   "outputs": [
    {
     "data": {
      "text/html": [
       "<ol class=list-inline>\n",
       "\t<li>'Ferguson, MO'</li>\n",
       "\t<li>'Pori, Suomi'</li>\n",
       "\t<li>'Ghana'</li>\n",
       "\t<li>'Washington, DC'</li>\n",
       "\t<li>'Washington, DC'</li>\n",
       "\t<li>'Washington, DC'</li>\n",
       "</ol>\n"
      ],
      "text/latex": [
       "\\begin{enumerate*}\n",
       "\\item 'Ferguson, MO'\n",
       "\\item 'Pori, Suomi'\n",
       "\\item 'Ghana'\n",
       "\\item 'Washington, DC'\n",
       "\\item 'Washington, DC'\n",
       "\\item 'Washington, DC'\n",
       "\\end{enumerate*}\n"
      ],
      "text/markdown": [
       "1. 'Ferguson, MO'\n",
       "2. 'Pori, Suomi'\n",
       "3. 'Ghana'\n",
       "4. 'Washington, DC'\n",
       "5. 'Washington, DC'\n",
       "6. 'Washington, DC'\n",
       "\n",
       "\n"
      ],
      "text/plain": [
       "[1] \"Ferguson, MO\"   \"Pori, Suomi\"    \"Ghana\"          \"Washington, DC\"\n",
       "[5] \"Washington, DC\" \"Washington, DC\""
      ]
     },
     "metadata": {},
     "output_type": "display_data"
    }
   ],
   "source": [
    "NROW(subset(ferg_cols$place.full_name, \n",
    "            ferg_cols$place.full_name != \"\"))"
   ]
  },
  {
   "cell_type": "code",
   "execution_count": 9,
   "metadata": {
    "scrolled": false
   },
   "outputs": [
    {
     "data": {
      "text/html": [
       "<ol class=list-inline>\n",
       "\t<li>'rowno'</li>\n",
       "\t<li>'user.id'</li>\n",
       "\t<li>'user.location'</li>\n",
       "\t<li>'user.description'</li>\n",
       "\t<li>'created_at'</li>\n",
       "\t<li>'id'</li>\n",
       "\t<li>'user.created_at'</li>\n",
       "\t<li>'retweeted'</li>\n",
       "\t<li>'retweeted_count'</li>\n",
       "\t<li>'retweet'</li>\n",
       "\t<li>'retweeted_status.created_at'</li>\n",
       "\t<li>'favorited'</li>\n",
       "\t<li>'favorite_count'</li>\n",
       "\t<li>'textnum'</li>\n",
       "\t<li>'full_text'</li>\n",
       "\t<li>'possibly_sensitive'</li>\n",
       "\t<li>'hashtags'</li>\n",
       "\t<li>'lang'</li>\n",
       "\t<li>'user.geo_enabled'</li>\n",
       "\t<li>'place.full_name'</li>\n",
       "\t<li>'place.place_type'</li>\n",
       "\t<li>'utc_datetime'</li>\n",
       "\t<li>'yday'</li>\n",
       "\t<li>'ymd'</li>\n",
       "\t<li>'user_id2'</li>\n",
       "</ol>\n"
      ],
      "text/latex": [
       "\\begin{enumerate*}\n",
       "\\item 'rowno'\n",
       "\\item 'user.id'\n",
       "\\item 'user.location'\n",
       "\\item 'user.description'\n",
       "\\item 'created\\_at'\n",
       "\\item 'id'\n",
       "\\item 'user.created\\_at'\n",
       "\\item 'retweeted'\n",
       "\\item 'retweeted\\_count'\n",
       "\\item 'retweet'\n",
       "\\item 'retweeted\\_status.created\\_at'\n",
       "\\item 'favorited'\n",
       "\\item 'favorite\\_count'\n",
       "\\item 'textnum'\n",
       "\\item 'full\\_text'\n",
       "\\item 'possibly\\_sensitive'\n",
       "\\item 'hashtags'\n",
       "\\item 'lang'\n",
       "\\item 'user.geo\\_enabled'\n",
       "\\item 'place.full\\_name'\n",
       "\\item 'place.place\\_type'\n",
       "\\item 'utc\\_datetime'\n",
       "\\item 'yday'\n",
       "\\item 'ymd'\n",
       "\\item 'user\\_id2'\n",
       "\\end{enumerate*}\n"
      ],
      "text/markdown": [
       "1. 'rowno'\n",
       "2. 'user.id'\n",
       "3. 'user.location'\n",
       "4. 'user.description'\n",
       "5. 'created_at'\n",
       "6. 'id'\n",
       "7. 'user.created_at'\n",
       "8. 'retweeted'\n",
       "9. 'retweeted_count'\n",
       "10. 'retweet'\n",
       "11. 'retweeted_status.created_at'\n",
       "12. 'favorited'\n",
       "13. 'favorite_count'\n",
       "14. 'textnum'\n",
       "15. 'full_text'\n",
       "16. 'possibly_sensitive'\n",
       "17. 'hashtags'\n",
       "18. 'lang'\n",
       "19. 'user.geo_enabled'\n",
       "20. 'place.full_name'\n",
       "21. 'place.place_type'\n",
       "22. 'utc_datetime'\n",
       "23. 'yday'\n",
       "24. 'ymd'\n",
       "25. 'user_id2'\n",
       "\n",
       "\n"
      ],
      "text/plain": [
       " [1] \"rowno\"                       \"user.id\"                    \n",
       " [3] \"user.location\"               \"user.description\"           \n",
       " [5] \"created_at\"                  \"id\"                         \n",
       " [7] \"user.created_at\"             \"retweeted\"                  \n",
       " [9] \"retweeted_count\"             \"retweet\"                    \n",
       "[11] \"retweeted_status.created_at\" \"favorited\"                  \n",
       "[13] \"favorite_count\"              \"textnum\"                    \n",
       "[15] \"full_text\"                   \"possibly_sensitive\"         \n",
       "[17] \"hashtags\"                    \"lang\"                       \n",
       "[19] \"user.geo_enabled\"            \"place.full_name\"            \n",
       "[21] \"place.place_type\"            \"utc_datetime\"               \n",
       "[23] \"yday\"                        \"ymd\"                        \n",
       "[25] \"user_id2\"                   "
      ]
     },
     "metadata": {},
     "output_type": "display_data"
    }
   ],
   "source": [
    "colnames(ferg_cols)"
   ]
  },
  {
   "cell_type": "code",
   "execution_count": 13,
   "metadata": {},
   "outputs": [],
   "source": [
    "###### Load list of US cities and States"
   ]
  },
  {
   "cell_type": "code",
   "execution_count": 11,
   "metadata": {},
   "outputs": [],
   "source": [
    "usstates <- read.csv(\"../Preprocessing/Files/Demographics/usstates_placetype.csv\", header = TRUE, stringsAsFactors = TRUE)"
   ]
  },
  {
   "cell_type": "code",
   "execution_count": 14,
   "metadata": {},
   "outputs": [],
   "source": [
    "usstates$X <- NULL\n",
    "usstates$X.1 <- NULL"
   ]
  },
  {
   "cell_type": "markdown",
   "metadata": {},
   "source": [
    "####### Replace \",\" and \".\" in user.location with spaces"
   ]
  },
  {
   "cell_type": "code",
   "execution_count": 15,
   "metadata": {
    "scrolled": false
   },
   "outputs": [],
   "source": [
    "ferg_cols$user.location2 <- str_replace_all(ferg_cols$user.location, \"\\\\,\", \"[]\")\n",
    "ferg_cols$user.location2 <- str_replace_all(ferg_cols$user.location, \"\\\\.\", \"[] \")"
   ]
  },
  {
   "cell_type": "code",
   "execution_count": 16,
   "metadata": {
    "scrolled": true
   },
   "outputs": [
    {
     "data": {
      "text/html": [
       "<ol class=list-inline>\n",
       "\t<li>'Columbus, OH'</li>\n",
       "\t<li>'Atlanta, GA'</li>\n",
       "\t<li>'CaLove'</li>\n",
       "\t<li>'Columbus, OH'</li>\n",
       "\t<li>'Atlanta, GA'</li>\n",
       "\t<li>'Missouri, USA'</li>\n",
       "\t<li>'Western Australia'</li>\n",
       "\t<li>'Missouri USA'</li>\n",
       "\t<li>'STL and the Eastside'</li>\n",
       "\t<li>' Arizona'</li>\n",
       "\t<li><span style=white-space:pre-wrap>'St[]  Louis, Missouri'</span></li>\n",
       "\t<li>'Missouri USA'</li>\n",
       "\t<li>'New York, USA'</li>\n",
       "\t<li>'Location'</li>\n",
       "\t<li><span style=white-space:pre-wrap>'St[]  Louis via Gary, IN'</span></li>\n",
       "\t<li>'California, USA'</li>\n",
       "\t<li>'St Louis, MO'</li>\n",
       "\t<li><span style=white-space:pre-wrap>'St[]  Louis, MO'</span></li>\n",
       "\t<li><span style=white-space:pre-wrap>'St[]  Louis via Gary, IN'</span></li>\n",
       "\t<li>'saint louis, missouri'</li>\n",
       "</ol>\n"
      ],
      "text/latex": [
       "\\begin{enumerate*}\n",
       "\\item 'Columbus, OH'\n",
       "\\item 'Atlanta, GA'\n",
       "\\item 'CaLove'\n",
       "\\item 'Columbus, OH'\n",
       "\\item 'Atlanta, GA'\n",
       "\\item 'Missouri, USA'\n",
       "\\item 'Western Australia'\n",
       "\\item 'Missouri USA'\n",
       "\\item 'STL and the Eastside'\n",
       "\\item ' Arizona'\n",
       "\\item 'St{[}{]}  Louis, Missouri'\n",
       "\\item 'Missouri USA'\n",
       "\\item 'New York, USA'\n",
       "\\item 'Location'\n",
       "\\item 'St{[}{]}  Louis via Gary, IN'\n",
       "\\item 'California, USA'\n",
       "\\item 'St Louis, MO'\n",
       "\\item 'St{[}{]}  Louis, MO'\n",
       "\\item 'St{[}{]}  Louis via Gary, IN'\n",
       "\\item 'saint louis, missouri'\n",
       "\\end{enumerate*}\n"
      ],
      "text/markdown": [
       "1. 'Columbus, OH'\n",
       "2. 'Atlanta, GA'\n",
       "3. 'CaLove'\n",
       "4. 'Columbus, OH'\n",
       "5. 'Atlanta, GA'\n",
       "6. 'Missouri, USA'\n",
       "7. 'Western Australia'\n",
       "8. 'Missouri USA'\n",
       "9. 'STL and the Eastside'\n",
       "10. ' Arizona'\n",
       "11. <span style=white-space:pre-wrap>'St[]  Louis, Missouri'</span>\n",
       "12. 'Missouri USA'\n",
       "13. 'New York, USA'\n",
       "14. 'Location'\n",
       "15. <span style=white-space:pre-wrap>'St[]  Louis via Gary, IN'</span>\n",
       "16. 'California, USA'\n",
       "17. 'St Louis, MO'\n",
       "18. <span style=white-space:pre-wrap>'St[]  Louis, MO'</span>\n",
       "19. <span style=white-space:pre-wrap>'St[]  Louis via Gary, IN'</span>\n",
       "20. 'saint louis, missouri'\n",
       "\n",
       "\n"
      ],
      "text/plain": [
       " [1] \"Columbus, OH\"             \"Atlanta, GA\"             \n",
       " [3] \"CaLove\"                   \"Columbus, OH\"            \n",
       " [5] \"Atlanta, GA\"              \"Missouri, USA\"           \n",
       " [7] \"Western Australia\"        \"Missouri USA\"            \n",
       " [9] \"STL and the Eastside\"     \" Arizona\"                \n",
       "[11] \"St[]  Louis, Missouri\"    \"Missouri USA\"            \n",
       "[13] \"New York, USA\"            \"Location\"                \n",
       "[15] \"St[]  Louis via Gary, IN\" \"California, USA\"         \n",
       "[17] \"St Louis, MO\"             \"St[]  Louis, MO\"         \n",
       "[19] \"St[]  Louis via Gary, IN\" \"saint louis, missouri\"   "
      ]
     },
     "metadata": {},
     "output_type": "display_data"
    }
   ],
   "source": [
    "head(ferg_cols$user.location2, 20)"
   ]
  },
  {
   "cell_type": "code",
   "execution_count": null,
   "metadata": {},
   "outputs": [],
   "source": [
    "### Remove some punctuation from user locations"
   ]
  },
  {
   "cell_type": "code",
   "execution_count": 17,
   "metadata": {
    "scrolled": true
   },
   "outputs": [],
   "source": [
    "ferg_cols$user.location2 <- gsub(\"[,|.|\\\\|/|*|:|#]\", \" \", ferg_cols$user.location)"
   ]
  },
  {
   "cell_type": "code",
   "execution_count": 18,
   "metadata": {},
   "outputs": [],
   "source": [
    "ferg_cols$user.location2 <- gsub(\"\\\\s{1,}\", \" \", ferg_cols$user.location2)"
   ]
  },
  {
   "cell_type": "code",
   "execution_count": 19,
   "metadata": {},
   "outputs": [],
   "source": [
    "ferg_cols$user.location2 <- trimws(ferg_cols$user.location2, \"both\")"
   ]
  },
  {
   "cell_type": "code",
   "execution_count": 20,
   "metadata": {},
   "outputs": [],
   "source": [
    "ferg_cols$user.location2 <- str_to_upper(ferg_cols$user.location2)"
   ]
  },
  {
   "cell_type": "code",
   "execution_count": 21,
   "metadata": {
    "collapsed": true
   },
   "outputs": [
    {
     "data": {
      "text/html": [
       "<ol class=list-inline>\n",
       "\t<li>'COLUMBUS OH'</li>\n",
       "\t<li>'ATLANTA GA'</li>\n",
       "\t<li>'CALOVE'</li>\n",
       "\t<li>'COLUMBUS OH'</li>\n",
       "\t<li>'ATLANTA GA'</li>\n",
       "\t<li>'MISSOURI USA'</li>\n",
       "\t<li>'WESTERN AUSTRALIA'</li>\n",
       "\t<li>'MISSOURI USA'</li>\n",
       "\t<li>'STL AND THE EASTSIDE'</li>\n",
       "\t<li>'ARIZONA'</li>\n",
       "\t<li>'ST LOUIS MISSOURI'</li>\n",
       "\t<li>'MISSOURI USA'</li>\n",
       "\t<li>'NEW YORK USA'</li>\n",
       "\t<li>'LOCATION'</li>\n",
       "\t<li>'ST LOUIS VIA GARY IN'</li>\n",
       "\t<li>'CALIFORNIA USA'</li>\n",
       "\t<li>'ST LOUIS MO'</li>\n",
       "\t<li>'ST LOUIS MO'</li>\n",
       "\t<li>'ST LOUIS VIA GARY IN'</li>\n",
       "\t<li>'SAINT LOUIS MISSOURI'</li>\n",
       "</ol>\n"
      ],
      "text/latex": [
       "\\begin{enumerate*}\n",
       "\\item 'COLUMBUS OH'\n",
       "\\item 'ATLANTA GA'\n",
       "\\item 'CALOVE'\n",
       "\\item 'COLUMBUS OH'\n",
       "\\item 'ATLANTA GA'\n",
       "\\item 'MISSOURI USA'\n",
       "\\item 'WESTERN AUSTRALIA'\n",
       "\\item 'MISSOURI USA'\n",
       "\\item 'STL AND THE EASTSIDE'\n",
       "\\item 'ARIZONA'\n",
       "\\item 'ST LOUIS MISSOURI'\n",
       "\\item 'MISSOURI USA'\n",
       "\\item 'NEW YORK USA'\n",
       "\\item 'LOCATION'\n",
       "\\item 'ST LOUIS VIA GARY IN'\n",
       "\\item 'CALIFORNIA USA'\n",
       "\\item 'ST LOUIS MO'\n",
       "\\item 'ST LOUIS MO'\n",
       "\\item 'ST LOUIS VIA GARY IN'\n",
       "\\item 'SAINT LOUIS MISSOURI'\n",
       "\\end{enumerate*}\n"
      ],
      "text/markdown": [
       "1. 'COLUMBUS OH'\n",
       "2. 'ATLANTA GA'\n",
       "3. 'CALOVE'\n",
       "4. 'COLUMBUS OH'\n",
       "5. 'ATLANTA GA'\n",
       "6. 'MISSOURI USA'\n",
       "7. 'WESTERN AUSTRALIA'\n",
       "8. 'MISSOURI USA'\n",
       "9. 'STL AND THE EASTSIDE'\n",
       "10. 'ARIZONA'\n",
       "11. 'ST LOUIS MISSOURI'\n",
       "12. 'MISSOURI USA'\n",
       "13. 'NEW YORK USA'\n",
       "14. 'LOCATION'\n",
       "15. 'ST LOUIS VIA GARY IN'\n",
       "16. 'CALIFORNIA USA'\n",
       "17. 'ST LOUIS MO'\n",
       "18. 'ST LOUIS MO'\n",
       "19. 'ST LOUIS VIA GARY IN'\n",
       "20. 'SAINT LOUIS MISSOURI'\n",
       "\n",
       "\n"
      ],
      "text/plain": [
       " [1] \"COLUMBUS OH\"          \"ATLANTA GA\"           \"CALOVE\"              \n",
       " [4] \"COLUMBUS OH\"          \"ATLANTA GA\"           \"MISSOURI USA\"        \n",
       " [7] \"WESTERN AUSTRALIA\"    \"MISSOURI USA\"         \"STL AND THE EASTSIDE\"\n",
       "[10] \"ARIZONA\"              \"ST LOUIS MISSOURI\"    \"MISSOURI USA\"        \n",
       "[13] \"NEW YORK USA\"         \"LOCATION\"             \"ST LOUIS VIA GARY IN\"\n",
       "[16] \"CALIFORNIA USA\"       \"ST LOUIS MO\"          \"ST LOUIS MO\"         \n",
       "[19] \"ST LOUIS VIA GARY IN\" \"SAINT LOUIS MISSOURI\""
      ]
     },
     "metadata": {},
     "output_type": "display_data"
    }
   ],
   "source": [
    "head(ferg_cols$user.location2, 6)"
   ]
  },
  {
   "cell_type": "code",
   "execution_count": 22,
   "metadata": {},
   "outputs": [],
   "source": [
    "get_user_locations <- ferg_cols %>% dplyr::select(one_of(c(\"user.location2\"))) %>% \n",
    "                group_by(user.location2) %>%\n",
    "                            dplyr::summarise(n = n()) %>%\n",
    "                            arrange(desc(n)) %>%\n",
    "                            as.data.frame()"
   ]
  },
  {
   "cell_type": "code",
   "execution_count": 23,
   "metadata": {},
   "outputs": [
    {
     "data": {
      "text/html": [
       "190502"
      ],
      "text/latex": [
       "190502"
      ],
      "text/markdown": [
       "190502"
      ],
      "text/plain": [
       "[1] 190502"
      ]
     },
     "metadata": {},
     "output_type": "display_data"
    }
   ],
   "source": [
    "nrow(get_user_locations)"
   ]
  },
  {
   "cell_type": "code",
   "execution_count": null,
   "metadata": {},
   "outputs": [],
   "source": [
    "190,502 unique locations"
   ]
  },
  {
   "cell_type": "code",
   "execution_count": 24,
   "metadata": {
    "collapsed": true
   },
   "outputs": [
    {
     "data": {
      "text/html": [
       "<table>\n",
       "<thead><tr><th scope=col>user.location2</th><th scope=col>n</th></tr></thead>\n",
       "<tbody>\n",
       "\t<tr><td>ST LOUIS MO   </td><td>62348         </td></tr>\n",
       "\t<tr><td>WASHINGTON DC </td><td>50478         </td></tr>\n",
       "\t<tr><td>UNITED STATES </td><td>45019         </td></tr>\n",
       "\t<tr><td>LOS ANGELES CA</td><td>36331         </td></tr>\n",
       "\t<tr><td>CHICAGO IL    </td><td>31018         </td></tr>\n",
       "\t<tr><td>ATLANTA GA    </td><td>29373         </td></tr>\n",
       "\t<tr><td>NEW YORK NY   </td><td>28430         </td></tr>\n",
       "\t<tr><td>USA           </td><td>28156         </td></tr>\n",
       "\t<tr><td>NYC           </td><td>24606         </td></tr>\n",
       "\t<tr><td>BROOKLYN NY   </td><td>24182         </td></tr>\n",
       "\t<tr><td>CHICAGO       </td><td>23783         </td></tr>\n",
       "\t<tr><td>ST LOUIS      </td><td>23064         </td></tr>\n",
       "\t<tr><td>LOS ANGELES   </td><td>21456         </td></tr>\n",
       "\t<tr><td>HOUSTON TX    </td><td>20149         </td></tr>\n",
       "\t<tr><td>SEATTLE WA    </td><td>18605         </td></tr>\n",
       "\t<tr><td>NEW YORK      </td><td>17755         </td></tr>\n",
       "\t<tr><td>TEXAS         </td><td>16258         </td></tr>\n",
       "\t<tr><td>CALIFORNIA    </td><td>15126         </td></tr>\n",
       "\t<tr><td>AUSTIN TX     </td><td>14784         </td></tr>\n",
       "\t<tr><td>BOSTON MA     </td><td>14707         </td></tr>\n",
       "</tbody>\n",
       "</table>\n"
      ],
      "text/latex": [
       "\\begin{tabular}{r|ll}\n",
       " user.location2 & n\\\\\n",
       "\\hline\n",
       "\t ST LOUIS MO    & 62348         \\\\\n",
       "\t WASHINGTON DC  & 50478         \\\\\n",
       "\t UNITED STATES  & 45019         \\\\\n",
       "\t LOS ANGELES CA & 36331         \\\\\n",
       "\t CHICAGO IL     & 31018         \\\\\n",
       "\t ATLANTA GA     & 29373         \\\\\n",
       "\t NEW YORK NY    & 28430         \\\\\n",
       "\t USA            & 28156         \\\\\n",
       "\t NYC            & 24606         \\\\\n",
       "\t BROOKLYN NY    & 24182         \\\\\n",
       "\t CHICAGO        & 23783         \\\\\n",
       "\t ST LOUIS       & 23064         \\\\\n",
       "\t LOS ANGELES    & 21456         \\\\\n",
       "\t HOUSTON TX     & 20149         \\\\\n",
       "\t SEATTLE WA     & 18605         \\\\\n",
       "\t NEW YORK       & 17755         \\\\\n",
       "\t TEXAS          & 16258         \\\\\n",
       "\t CALIFORNIA     & 15126         \\\\\n",
       "\t AUSTIN TX      & 14784         \\\\\n",
       "\t BOSTON MA      & 14707         \\\\\n",
       "\\end{tabular}\n"
      ],
      "text/markdown": [
       "\n",
       "user.location2 | n | \n",
       "|---|---|---|---|---|---|---|---|---|---|---|---|---|---|---|---|---|---|---|---|\n",
       "| ST LOUIS MO    | 62348          | \n",
       "| WASHINGTON DC  | 50478          | \n",
       "| UNITED STATES  | 45019          | \n",
       "| LOS ANGELES CA | 36331          | \n",
       "| CHICAGO IL     | 31018          | \n",
       "| ATLANTA GA     | 29373          | \n",
       "| NEW YORK NY    | 28430          | \n",
       "| USA            | 28156          | \n",
       "| NYC            | 24606          | \n",
       "| BROOKLYN NY    | 24182          | \n",
       "| CHICAGO        | 23783          | \n",
       "| ST LOUIS       | 23064          | \n",
       "| LOS ANGELES    | 21456          | \n",
       "| HOUSTON TX     | 20149          | \n",
       "| SEATTLE WA     | 18605          | \n",
       "| NEW YORK       | 17755          | \n",
       "| TEXAS          | 16258          | \n",
       "| CALIFORNIA     | 15126          | \n",
       "| AUSTIN TX      | 14784          | \n",
       "| BOSTON MA      | 14707          | \n",
       "\n",
       "\n"
      ],
      "text/plain": [
       "   user.location2 n    \n",
       "1  ST LOUIS MO    62348\n",
       "2  WASHINGTON DC  50478\n",
       "3  UNITED STATES  45019\n",
       "4  LOS ANGELES CA 36331\n",
       "5  CHICAGO IL     31018\n",
       "6  ATLANTA GA     29373\n",
       "7  NEW YORK NY    28430\n",
       "8  USA            28156\n",
       "9  NYC            24606\n",
       "10 BROOKLYN NY    24182\n",
       "11 CHICAGO        23783\n",
       "12 ST LOUIS       23064\n",
       "13 LOS ANGELES    21456\n",
       "14 HOUSTON TX     20149\n",
       "15 SEATTLE WA     18605\n",
       "16 NEW YORK       17755\n",
       "17 TEXAS          16258\n",
       "18 CALIFORNIA     15126\n",
       "19 AUSTIN TX      14784\n",
       "20 BOSTON MA      14707"
      ]
     },
     "metadata": {},
     "output_type": "display_data"
    }
   ],
   "source": [
    "dplyr::slice(get_user_locations, 1:20)"
   ]
  },
  {
   "cell_type": "markdown",
   "metadata": {},
   "source": [
    "Some locations have city, state, city only, and country"
   ]
  },
  {
   "cell_type": "code",
   "execution_count": null,
   "metadata": {},
   "outputs": [],
   "source": [
    "#### Get an estimate of popularity of tweets by location "
   ]
  },
  {
   "cell_type": "code",
   "execution_count": 25,
   "metadata": {},
   "outputs": [],
   "source": [
    "get_text_unique <- ferg_cols %>% dplyr::select(one_of(c(\"full_text\"))) %>% \n",
    "                group_by(full_text) %>%\n",
    "                            dplyr::summarise(n = n()) %>%\n",
    "                            arrange(desc(n)) %>%\n",
    "                            as.data.frame()"
   ]
  },
  {
   "cell_type": "code",
   "execution_count": 32,
   "metadata": {
    "scrolled": false
   },
   "outputs": [],
   "source": [
    "location_id <- 1:nrow(get_user_locations)"
   ]
  },
  {
   "cell_type": "code",
   "execution_count": 33,
   "metadata": {},
   "outputs": [],
   "source": [
    "get_user_locations <- cbind(location_id, get_user_locations)"
   ]
  },
  {
   "cell_type": "markdown",
   "metadata": {},
   "source": [
    "1,179,602 unique tweets"
   ]
  },
  {
   "cell_type": "code",
   "execution_count": 36,
   "metadata": {
    "collapsed": true
   },
   "outputs": [
    {
     "data": {},
     "metadata": {},
     "output_type": "display_data"
    },
    {
     "data": {
      "image/png": "[encoded data removed]",
      "text/plain": [
       "plot without title"
      ]
     },
     "metadata": {},
     "output_type": "display_data"
    }
   ],
   "source": [
    "ggplot(aes(x = location_id, y = n), data = subset(get_usoer_locations, n > 200)) + # & text_id > 1)) +\n",
    "  geom_point(color = \"blue\") +\n",
    "       labs(title = \"Up to 1500 locations have at least 250 tweets)\", \n",
    "            x = \"location id\", y = \"No. of tweets\") + \n",
    " theme(axis.text.x=element_text(angle=90)) +\n",
    "      plot.format"
   ]
  },
  {
   "cell_type": "markdown",
   "metadata": {},
   "source": [
    "###### Get unique City, State locations"
   ]
  },
  {
   "cell_type": "code",
   "execution_count": 37,
   "metadata": {},
   "outputs": [],
   "source": [
    " location <- usstates %>%\n",
    "            dplyr::select(one_of(c(\"City_state\", \"City_code\", \"City2\", \"Place_type\", \"State\", \"Code\"))) %>%\n",
    "            filter(Place_type != \"state\") %>%\n",
    "             mutate_all(funs(str_to_upper)) %>%\n",
    "             mutate_all(funs(gsub(\"[,|.]\", \"\", .))) %>%\n",
    "            group_by(City_state, City_code, City2, State, Code) %>%\n",
    "            dplyr::summarise(n = n()) %>%\n",
    "            as.data.frame()"
   ]
  },
  {
   "cell_type": "code",
   "execution_count": 39,
   "metadata": {
    "scrolled": true
   },
   "outputs": [
    {
     "data": {
      "text/html": [
       "<table>\n",
       "<thead><tr><th scope=col>City_state</th><th scope=col>City_code</th><th scope=col>City2</th><th scope=col>State</th><th scope=col>Code</th><th scope=col>n</th></tr></thead>\n",
       "<tbody>\n",
       "\t<tr><td>AUBREY TEXAS               </td><td>AUBREY TX                  </td><td>AUBREY                     </td><td>TEXAS                      </td><td>TX                         </td><td>2                          </td></tr>\n",
       "\t<tr><td>AUBRY KANSAS               </td><td>AUBRY KS                   </td><td>AUBRY                      </td><td>KANSAS                     </td><td>KS                         </td><td>1                          </td></tr>\n",
       "\t<tr><td>AUBURN ALABAMA             </td><td>AUBURN AL                  </td><td>AUBURN                     </td><td>ALABAMA                    </td><td>AL                         </td><td>2                          </td></tr>\n",
       "\t<tr><td>AUBURN CALIFORNIA          </td><td>AUBURN CA                  </td><td>AUBURN                     </td><td>CALIFORNIA                 </td><td>CA                         </td><td>2                          </td></tr>\n",
       "\t<tr><td>AUBURN CITY (PT) GEORGIA   </td><td>AUBURN CITY (PT) GA        </td><td>AUBURN CITY (PT)           </td><td>GEORGIA                    </td><td>GA                         </td><td>2                          </td></tr>\n",
       "\t<tr><td>AUBURN CITY (PT) INDIANA   </td><td>AUBURN CITY (PT) IN        </td><td>AUBURN CITY (PT)           </td><td>INDIANA                    </td><td>IN                         </td><td>4                          </td></tr>\n",
       "\t<tr><td>AUBURN CITY (PT) WASHINGTON</td><td>AUBURN CITY (PT) WA        </td><td>AUBURN CITY (PT)           </td><td>WASHINGTON                 </td><td>WA                         </td><td>2                          </td></tr>\n",
       "\t<tr><td>AUBURN GEORGIA             </td><td>AUBURN GA                  </td><td>AUBURN                     </td><td>GEORGIA                    </td><td>GA                         </td><td>1                          </td></tr>\n",
       "\t<tr><td>AUBURN HILLS MICHIGAN      </td><td>AUBURN HILLS MI            </td><td>AUBURN HILLS               </td><td>MICHIGAN                   </td><td>MI                         </td><td>4                          </td></tr>\n",
       "\t<tr><td>AUBURN ILLINOIS            </td><td>AUBURN IL                  </td><td>AUBURN                     </td><td>ILLINOIS                   </td><td>IL                         </td><td>5                          </td></tr>\n",
       "\t<tr><td>AUBURN INDIANA             </td><td>AUBURN IN                  </td><td>AUBURN                     </td><td>INDIANA                    </td><td>IN                         </td><td>2                          </td></tr>\n",
       "</tbody>\n",
       "</table>\n"
      ],
      "text/latex": [
       "\\begin{tabular}{r|llllll}\n",
       " City\\_state & City\\_code & City2 & State & Code & n\\\\\n",
       "\\hline\n",
       "\t AUBREY TEXAS                & AUBREY TX                   & AUBREY                      & TEXAS                       & TX                          & 2                          \\\\\n",
       "\t AUBRY KANSAS                & AUBRY KS                    & AUBRY                       & KANSAS                      & KS                          & 1                          \\\\\n",
       "\t AUBURN ALABAMA              & AUBURN AL                   & AUBURN                      & ALABAMA                     & AL                          & 2                          \\\\\n",
       "\t AUBURN CALIFORNIA           & AUBURN CA                   & AUBURN                      & CALIFORNIA                  & CA                          & 2                          \\\\\n",
       "\t AUBURN CITY (PT) GEORGIA    & AUBURN CITY (PT) GA         & AUBURN CITY (PT)            & GEORGIA                     & GA                          & 2                          \\\\\n",
       "\t AUBURN CITY (PT) INDIANA    & AUBURN CITY (PT) IN         & AUBURN CITY (PT)            & INDIANA                     & IN                          & 4                          \\\\\n",
       "\t AUBURN CITY (PT) WASHINGTON & AUBURN CITY (PT) WA         & AUBURN CITY (PT)            & WASHINGTON                  & WA                          & 2                          \\\\\n",
       "\t AUBURN GEORGIA              & AUBURN GA                   & AUBURN                      & GEORGIA                     & GA                          & 1                          \\\\\n",
       "\t AUBURN HILLS MICHIGAN       & AUBURN HILLS MI             & AUBURN HILLS                & MICHIGAN                    & MI                          & 4                          \\\\\n",
       "\t AUBURN ILLINOIS             & AUBURN IL                   & AUBURN                      & ILLINOIS                    & IL                          & 5                          \\\\\n",
       "\t AUBURN INDIANA              & AUBURN IN                   & AUBURN                      & INDIANA                     & IN                          & 2                          \\\\\n",
       "\\end{tabular}\n"
      ],
      "text/markdown": [
       "\n",
       "City_state | City_code | City2 | State | Code | n | \n",
       "|---|---|---|---|---|---|---|---|---|---|---|\n",
       "| AUBREY TEXAS                | AUBREY TX                   | AUBREY                      | TEXAS                       | TX                          | 2                           | \n",
       "| AUBRY KANSAS                | AUBRY KS                    | AUBRY                       | KANSAS                      | KS                          | 1                           | \n",
       "| AUBURN ALABAMA              | AUBURN AL                   | AUBURN                      | ALABAMA                     | AL                          | 2                           | \n",
       "| AUBURN CALIFORNIA           | AUBURN CA                   | AUBURN                      | CALIFORNIA                  | CA                          | 2                           | \n",
       "| AUBURN CITY (PT) GEORGIA    | AUBURN CITY (PT) GA         | AUBURN CITY (PT)            | GEORGIA                     | GA                          | 2                           | \n",
       "| AUBURN CITY (PT) INDIANA    | AUBURN CITY (PT) IN         | AUBURN CITY (PT)            | INDIANA                     | IN                          | 4                           | \n",
       "| AUBURN CITY (PT) WASHINGTON | AUBURN CITY (PT) WA         | AUBURN CITY (PT)            | WASHINGTON                  | WA                          | 2                           | \n",
       "| AUBURN GEORGIA              | AUBURN GA                   | AUBURN                      | GEORGIA                     | GA                          | 1                           | \n",
       "| AUBURN HILLS MICHIGAN       | AUBURN HILLS MI             | AUBURN HILLS                | MICHIGAN                    | MI                          | 4                           | \n",
       "| AUBURN ILLINOIS             | AUBURN IL                   | AUBURN                      | ILLINOIS                    | IL                          | 5                           | \n",
       "| AUBURN INDIANA              | AUBURN IN                   | AUBURN                      | INDIANA                     | IN                          | 2                           | \n",
       "\n",
       "\n"
      ],
      "text/plain": [
       "   City_state                  City_code           City2            State     \n",
       "1  AUBREY TEXAS                AUBREY TX           AUBREY           TEXAS     \n",
       "2  AUBRY KANSAS                AUBRY KS            AUBRY            KANSAS    \n",
       "3  AUBURN ALABAMA              AUBURN AL           AUBURN           ALABAMA   \n",
       "4  AUBURN CALIFORNIA           AUBURN CA           AUBURN           CALIFORNIA\n",
       "5  AUBURN CITY (PT) GEORGIA    AUBURN CITY (PT) GA AUBURN CITY (PT) GEORGIA   \n",
       "6  AUBURN CITY (PT) INDIANA    AUBURN CITY (PT) IN AUBURN CITY (PT) INDIANA   \n",
       "7  AUBURN CITY (PT) WASHINGTON AUBURN CITY (PT) WA AUBURN CITY (PT) WASHINGTON\n",
       "8  AUBURN GEORGIA              AUBURN GA           AUBURN           GEORGIA   \n",
       "9  AUBURN HILLS MICHIGAN       AUBURN HILLS MI     AUBURN HILLS     MICHIGAN  \n",
       "10 AUBURN ILLINOIS             AUBURN IL           AUBURN           ILLINOIS  \n",
       "11 AUBURN INDIANA              AUBURN IN           AUBURN           INDIANA   \n",
       "   Code n\n",
       "1  TX   2\n",
       "2  KS   1\n",
       "3  AL   2\n",
       "4  CA   2\n",
       "5  GA   2\n",
       "6  IN   4\n",
       "7  WA   2\n",
       "8  GA   1\n",
       "9  MI   4\n",
       "10 IL   5\n",
       "11 IN   2"
      ]
     },
     "metadata": {},
     "output_type": "display_data"
    }
   ],
   "source": [
    "slice(location, 1330:1340)"
   ]
  },
  {
   "cell_type": "code",
   "execution_count": null,
   "metadata": {},
   "outputs": [],
   "source": [
    "######### Combine ferg_cols user.locatios2 with any city, city state and city code information in location\n",
    "######### code = 2 character state abbreviation  e.g. FL"
   ]
  },
  {
   "cell_type": "code",
   "execution_count": 40,
   "metadata": {},
   "outputs": [],
   "source": [
    "ferg_temp <- ferg_cols %>%\n",
    "                    dplyr::left_join(location, by = c(\"user.location2\" = \"City2\")) %>%\n",
    "                    as.data.frame()"
   ]
  },
  {
   "cell_type": "code",
   "execution_count": 41,
   "metadata": {},
   "outputs": [],
   "source": [
    "ferg_temp_city_code <- ferg_cols %>%\n",
    "                    dplyr::left_join(location, by = c(\"user.location2\" = \"City_code\")) %>%\n",
    "                    as.data.frame()"
   ]
  },
  {
   "cell_type": "code",
   "execution_count": 42,
   "metadata": {},
   "outputs": [],
   "source": [
    "ferg_temp_city_code <- ferg_temp_city_code %>%\n",
    "                        mutate(City_code =  str_c(City2, Code, sep = \" \")) %>%\n",
    "                        as.data.frame()"
   ]
  },
  {
   "cell_type": "code",
   "execution_count": 43,
   "metadata": {},
   "outputs": [],
   "source": [
    "ferg_temp_city_state <- ferg_cols %>%\n",
    "                    dplyr::inner_join(location, by = c(\"user.location2\" = \"City_state\")) %>%\n",
    "                    as.data.frame()"
   ]
  },
  {
   "cell_type": "code",
   "execution_count": 44,
   "metadata": {},
   "outputs": [],
   "source": [
    "ferg_temp_city_state <- ferg_temp_city_state %>%\n",
    "                        mutate(City_state =  str_c(City2, State, sep = \" \")) %>%\n",
    "                        as.data.frame()"
   ]
  },
  {
   "cell_type": "code",
   "execution_count": 45,
   "metadata": {
    "scrolled": false
   },
   "outputs": [
    {
     "data": {
      "text/html": [
       "<ol class=list-inline>\n",
       "\t<li>'rowno'</li>\n",
       "\t<li>'user.id'</li>\n",
       "\t<li>'user.location'</li>\n",
       "\t<li>'user.description'</li>\n",
       "\t<li>'created_at'</li>\n",
       "\t<li>'id'</li>\n",
       "\t<li>'user.created_at'</li>\n",
       "\t<li>'retweeted'</li>\n",
       "\t<li>'retweeted_count'</li>\n",
       "\t<li>'retweet'</li>\n",
       "\t<li>'retweeted_status.created_at'</li>\n",
       "\t<li>'favorited'</li>\n",
       "\t<li>'favorite_count'</li>\n",
       "\t<li>'textnum'</li>\n",
       "\t<li>'full_text'</li>\n",
       "\t<li>'possibly_sensitive'</li>\n",
       "\t<li>'hashtags'</li>\n",
       "\t<li>'lang'</li>\n",
       "\t<li>'user.geo_enabled'</li>\n",
       "\t<li>'place.full_name'</li>\n",
       "\t<li>'place.place_type'</li>\n",
       "\t<li>'utc_datetime'</li>\n",
       "\t<li>'yday'</li>\n",
       "\t<li>'ymd'</li>\n",
       "\t<li>'user_id2'</li>\n",
       "\t<li>'user.location2'</li>\n",
       "\t<li>'City_state'</li>\n",
       "\t<li>'City2'</li>\n",
       "\t<li>'State'</li>\n",
       "\t<li>'Code'</li>\n",
       "\t<li>'n'</li>\n",
       "\t<li>'City_code'</li>\n",
       "</ol>\n"
      ],
      "text/latex": [
       "\\begin{enumerate*}\n",
       "\\item 'rowno'\n",
       "\\item 'user.id'\n",
       "\\item 'user.location'\n",
       "\\item 'user.description'\n",
       "\\item 'created\\_at'\n",
       "\\item 'id'\n",
       "\\item 'user.created\\_at'\n",
       "\\item 'retweeted'\n",
       "\\item 'retweeted\\_count'\n",
       "\\item 'retweet'\n",
       "\\item 'retweeted\\_status.created\\_at'\n",
       "\\item 'favorited'\n",
       "\\item 'favorite\\_count'\n",
       "\\item 'textnum'\n",
       "\\item 'full\\_text'\n",
       "\\item 'possibly\\_sensitive'\n",
       "\\item 'hashtags'\n",
       "\\item 'lang'\n",
       "\\item 'user.geo\\_enabled'\n",
       "\\item 'place.full\\_name'\n",
       "\\item 'place.place\\_type'\n",
       "\\item 'utc\\_datetime'\n",
       "\\item 'yday'\n",
       "\\item 'ymd'\n",
       "\\item 'user\\_id2'\n",
       "\\item 'user.location2'\n",
       "\\item 'City\\_state'\n",
       "\\item 'City2'\n",
       "\\item 'State'\n",
       "\\item 'Code'\n",
       "\\item 'n'\n",
       "\\item 'City\\_code'\n",
       "\\end{enumerate*}\n"
      ],
      "text/markdown": [
       "1. 'rowno'\n",
       "2. 'user.id'\n",
       "3. 'user.location'\n",
       "4. 'user.description'\n",
       "5. 'created_at'\n",
       "6. 'id'\n",
       "7. 'user.created_at'\n",
       "8. 'retweeted'\n",
       "9. 'retweeted_count'\n",
       "10. 'retweet'\n",
       "11. 'retweeted_status.created_at'\n",
       "12. 'favorited'\n",
       "13. 'favorite_count'\n",
       "14. 'textnum'\n",
       "15. 'full_text'\n",
       "16. 'possibly_sensitive'\n",
       "17. 'hashtags'\n",
       "18. 'lang'\n",
       "19. 'user.geo_enabled'\n",
       "20. 'place.full_name'\n",
       "21. 'place.place_type'\n",
       "22. 'utc_datetime'\n",
       "23. 'yday'\n",
       "24. 'ymd'\n",
       "25. 'user_id2'\n",
       "26. 'user.location2'\n",
       "27. 'City_state'\n",
       "28. 'City2'\n",
       "29. 'State'\n",
       "30. 'Code'\n",
       "31. 'n'\n",
       "32. 'City_code'\n",
       "\n",
       "\n"
      ],
      "text/plain": [
       " [1] \"rowno\"                       \"user.id\"                    \n",
       " [3] \"user.location\"               \"user.description\"           \n",
       " [5] \"created_at\"                  \"id\"                         \n",
       " [7] \"user.created_at\"             \"retweeted\"                  \n",
       " [9] \"retweeted_count\"             \"retweet\"                    \n",
       "[11] \"retweeted_status.created_at\" \"favorited\"                  \n",
       "[13] \"favorite_count\"              \"textnum\"                    \n",
       "[15] \"full_text\"                   \"possibly_sensitive\"         \n",
       "[17] \"hashtags\"                    \"lang\"                       \n",
       "[19] \"user.geo_enabled\"            \"place.full_name\"            \n",
       "[21] \"place.place_type\"            \"utc_datetime\"               \n",
       "[23] \"yday\"                        \"ymd\"                        \n",
       "[25] \"user_id2\"                    \"user.location2\"             \n",
       "[27] \"City_state\"                  \"City2\"                      \n",
       "[29] \"State\"                       \"Code\"                       \n",
       "[31] \"n\"                           \"City_code\"                  "
      ]
     },
     "metadata": {},
     "output_type": "display_data"
    },
    {
     "data": {
      "text/html": [
       "<ol class=list-inline>\n",
       "\t<li>'rowno'</li>\n",
       "\t<li>'user.id'</li>\n",
       "\t<li>'user.location'</li>\n",
       "\t<li>'user.description'</li>\n",
       "\t<li>'created_at'</li>\n",
       "\t<li>'id'</li>\n",
       "\t<li>'user.created_at'</li>\n",
       "\t<li>'retweeted'</li>\n",
       "\t<li>'retweeted_count'</li>\n",
       "\t<li>'retweet'</li>\n",
       "\t<li>'retweeted_status.created_at'</li>\n",
       "\t<li>'favorited'</li>\n",
       "\t<li>'favorite_count'</li>\n",
       "\t<li>'textnum'</li>\n",
       "\t<li>'full_text'</li>\n",
       "\t<li>'possibly_sensitive'</li>\n",
       "\t<li>'hashtags'</li>\n",
       "\t<li>'lang'</li>\n",
       "\t<li>'user.geo_enabled'</li>\n",
       "\t<li>'place.full_name'</li>\n",
       "\t<li>'place.place_type'</li>\n",
       "\t<li>'utc_datetime'</li>\n",
       "\t<li>'yday'</li>\n",
       "\t<li>'ymd'</li>\n",
       "\t<li>'user_id2'</li>\n",
       "\t<li>'user.location2'</li>\n",
       "\t<li>'City_code'</li>\n",
       "\t<li>'City2'</li>\n",
       "\t<li>'State'</li>\n",
       "\t<li>'Code'</li>\n",
       "\t<li>'n'</li>\n",
       "\t<li>'City_state'</li>\n",
       "</ol>\n"
      ],
      "text/latex": [
       "\\begin{enumerate*}\n",
       "\\item 'rowno'\n",
       "\\item 'user.id'\n",
       "\\item 'user.location'\n",
       "\\item 'user.description'\n",
       "\\item 'created\\_at'\n",
       "\\item 'id'\n",
       "\\item 'user.created\\_at'\n",
       "\\item 'retweeted'\n",
       "\\item 'retweeted\\_count'\n",
       "\\item 'retweet'\n",
       "\\item 'retweeted\\_status.created\\_at'\n",
       "\\item 'favorited'\n",
       "\\item 'favorite\\_count'\n",
       "\\item 'textnum'\n",
       "\\item 'full\\_text'\n",
       "\\item 'possibly\\_sensitive'\n",
       "\\item 'hashtags'\n",
       "\\item 'lang'\n",
       "\\item 'user.geo\\_enabled'\n",
       "\\item 'place.full\\_name'\n",
       "\\item 'place.place\\_type'\n",
       "\\item 'utc\\_datetime'\n",
       "\\item 'yday'\n",
       "\\item 'ymd'\n",
       "\\item 'user\\_id2'\n",
       "\\item 'user.location2'\n",
       "\\item 'City\\_code'\n",
       "\\item 'City2'\n",
       "\\item 'State'\n",
       "\\item 'Code'\n",
       "\\item 'n'\n",
       "\\item 'City\\_state'\n",
       "\\end{enumerate*}\n"
      ],
      "text/markdown": [
       "1. 'rowno'\n",
       "2. 'user.id'\n",
       "3. 'user.location'\n",
       "4. 'user.description'\n",
       "5. 'created_at'\n",
       "6. 'id'\n",
       "7. 'user.created_at'\n",
       "8. 'retweeted'\n",
       "9. 'retweeted_count'\n",
       "10. 'retweet'\n",
       "11. 'retweeted_status.created_at'\n",
       "12. 'favorited'\n",
       "13. 'favorite_count'\n",
       "14. 'textnum'\n",
       "15. 'full_text'\n",
       "16. 'possibly_sensitive'\n",
       "17. 'hashtags'\n",
       "18. 'lang'\n",
       "19. 'user.geo_enabled'\n",
       "20. 'place.full_name'\n",
       "21. 'place.place_type'\n",
       "22. 'utc_datetime'\n",
       "23. 'yday'\n",
       "24. 'ymd'\n",
       "25. 'user_id2'\n",
       "26. 'user.location2'\n",
       "27. 'City_code'\n",
       "28. 'City2'\n",
       "29. 'State'\n",
       "30. 'Code'\n",
       "31. 'n'\n",
       "32. 'City_state'\n",
       "\n",
       "\n"
      ],
      "text/plain": [
       " [1] \"rowno\"                       \"user.id\"                    \n",
       " [3] \"user.location\"               \"user.description\"           \n",
       " [5] \"created_at\"                  \"id\"                         \n",
       " [7] \"user.created_at\"             \"retweeted\"                  \n",
       " [9] \"retweeted_count\"             \"retweet\"                    \n",
       "[11] \"retweeted_status.created_at\" \"favorited\"                  \n",
       "[13] \"favorite_count\"              \"textnum\"                    \n",
       "[15] \"full_text\"                   \"possibly_sensitive\"         \n",
       "[17] \"hashtags\"                    \"lang\"                       \n",
       "[19] \"user.geo_enabled\"            \"place.full_name\"            \n",
       "[21] \"place.place_type\"            \"utc_datetime\"               \n",
       "[23] \"yday\"                        \"ymd\"                        \n",
       "[25] \"user_id2\"                    \"user.location2\"             \n",
       "[27] \"City_code\"                   \"City2\"                      \n",
       "[29] \"State\"                       \"Code\"                       \n",
       "[31] \"n\"                           \"City_state\"                 "
      ]
     },
     "metadata": {},
     "output_type": "display_data"
    }
   ],
   "source": [
    "colnames(ferg_temp_city_code)\n",
    "colnames(ferg_temp_city_state)"
   ]
  },
  {
   "cell_type": "code",
   "execution_count": null,
   "metadata": {},
   "outputs": [],
   "source": [
    "########## Reorder columns to have same structure"
   ]
  },
  {
   "cell_type": "code",
   "execution_count": 46,
   "metadata": {},
   "outputs": [],
   "source": [
    "ferg_temp_city_code <- ferg_temp_city_code[c(1:26, 32, 27:31)]\n",
    "ferg_temp_city_state <- ferg_temp_city_state[c(1:27, 32, 28:31)]"
   ]
  },
  {
   "cell_type": "code",
   "execution_count": 47,
   "metadata": {},
   "outputs": [],
   "source": [
    "ferg_cols_loc <- rbind(ferg_temp_city_code, ferg_temp_city_state)"
   ]
  },
  {
   "cell_type": "code",
   "execution_count": 48,
   "metadata": {
    "collapsed": true
   },
   "outputs": [
    {
     "name": "stdout",
     "output_type": "stream",
     "text": [
      "'data.frame':\t3883591 obs. of  32 variables:\n",
      " $ rowno                      : num  1 2 3 4 5 6 7 8 9 10 ...\n",
      " $ user.id                    : num  1.54e+09 9.44e+06 6.34e+07 1.54e+09 9.44e+06 ...\n",
      " $ user.location              : chr  \"Columbus, OH\" \"Atlanta, GA\" \"CaLove\" \"Columbus, OH\" ...\n",
      " $ user.description           : chr  \"Advocate for survivors of sexual violence. Breaker of silence, destroyer of shame.\" \"Husband. Father. Prelate. Human. Company builder, 2 exits. Author @kingonomics. Inclusive ecosystem builder @th\"| __truncated__ \"Jealous Guardian of our Democracy #RIPTrayvonMartin #ImAlwaysWithHer\" \"Advocate for survivors of sexual violence. Breaker of silence, destroyer of shame.\" ...\n",
      " $ created_at                 : chr  \"Sat Aug 09 22:33:06 +0000 2014\" \"Sat Aug 09 22:59:13 +0000 2014\" \"Sat Aug 09 22:00:02 +0000 2014\" \"Sat Aug 09 22:28:42 +0000 2014\" ...\n",
      " $ id                         : num  4.98e+17 4.98e+17 4.98e+17 4.98e+17 4.98e+17 ...\n",
      " $ user.created_at            : chr  \"Sat Jun 22 16:57:40 +0000 2013\" \"Sun Oct 14 15:51:11 +0000 2007\" \"Thu Aug 06 05:19:37 +0000 2009\" \"Sat Jun 22 16:57:40 +0000 2013\" ...\n",
      " $ retweeted                  : logi  FALSE FALSE FALSE FALSE FALSE FALSE ...\n",
      " $ retweeted_count            : logi  NA NA NA NA NA NA ...\n",
      " $ retweet                    : int  0 0 1 0 0 0 0 0 0 1 ...\n",
      " $ retweeted_status.created_at: chr  \"\" \"\" \"Sat Aug 09 20:34:54 +0000 2014\" \"\" ...\n",
      " $ favorited                  : logi  FALSE FALSE FALSE FALSE FALSE FALSE ...\n",
      " $ favorite_count             : int  107 1 0 10 2 0 0 3 6 0 ...\n",
      " $ textnum                    : int  1 1 1 1 1 1 1 1 1 1 ...\n",
      " $ full_text                  : chr  \"Black teenage boys are not men. They are children. Stop referring to a 17 year old as a man. You are killing ch\"| __truncated__ \"@PhaedraParks  While there, please tune in today's killing of the young black male in #Ferguson. #SaveOurBoys\" \"RT @PhenomMusik: @NAACP pictures speak 1000 words! Unarmed teen shot 10 times by #Ferguson police http://t.co/COLJqL4N3h\" \"SICK and TIRED of police killing unarmed people. #ferguson #walmart\" ...\n",
      " $ possibly_sensitive         : logi  NA NA FALSE NA NA FALSE ...\n",
      " $ hashtags                   : logi  NA NA NA NA NA NA ...\n",
      " $ lang                       : chr  \"en\" \"en\" \"en\" \"en\" ...\n",
      " $ user.geo_enabled           : logi  TRUE FALSE TRUE TRUE FALSE TRUE ...\n",
      " $ place.full_name            : chr  \"\" \"\" \"\" \"\" ...\n",
      " $ place.place_type           : chr  \"\" \"\" \"\" \"\" ...\n",
      " $ utc_datetime               : chr  \"2014-08-09T22:33:06Z\" \"2014-08-09T22:59:13Z\" \"2014-08-09T22:00:02Z\" \"2014-08-09T22:28:42Z\" ...\n",
      " $ yday                       : int  221 221 221 221 221 221 221 221 221 221 ...\n",
      " $ ymd                        : chr  \"2014-08-09\" \"2014-08-09\" \"2014-08-09\" \"2014-08-09\" ...\n",
      " $ user_id2                   : int  542673 9237 174942 542673 9237 93300 134846 350432 90689 111314 ...\n",
      " $ user.location2             : chr  \"COLUMBUS OH\" \"ATLANTA GA\" \"CALOVE\" \"COLUMBUS OH\" ...\n",
      " $ City_code                  : chr  \"COLUMBUS OH\" \"ATLANTA GA\" NA \"COLUMBUS OH\" ...\n",
      " $ City_state                 : chr  \"COLUMBUS OHIO\" \"ATLANTA GEORGIA\" NA \"COLUMBUS OHIO\" ...\n",
      " $ City2                      : chr  \"COLUMBUS\" \"ATLANTA\" NA \"COLUMBUS\" ...\n",
      " $ State                      : chr  \"OHIO\" \"GEORGIA\" NA \"OHIO\" ...\n",
      " $ Code                       : chr  \"OH\" \"GA\" NA \"OH\" ...\n",
      " $ n                          : int  3 1 NA 3 1 NA NA NA NA NA ...\n"
     ]
    }
   ],
   "source": [
    "str(ferg_cols_loc)"
   ]
  },
  {
   "cell_type": "markdown",
   "metadata": {},
   "source": [
    "write.csv(ferg_cols_loc, \"C:\\\\MathLabASUS\\\\Courses\\\\Ryerson\\\\Project\\\\Data\\\\Files\\\\Source\\\\ferg_cols_location.csv\")                "
   ]
  },
  {
   "cell_type": "code",
   "execution_count": null,
   "metadata": {},
   "outputs": [],
   "source": [
    "######### Number of unique tweets for topic modelling and/or STSS"
   ]
  },
  {
   "cell_type": "code",
   "execution_count": 49,
   "metadata": {},
   "outputs": [
    {
     "data": {
      "text/html": [
       "1179062"
      ],
      "text/latex": [
       "1179062"
      ],
      "text/markdown": [
       "1179062"
      ],
      "text/plain": [
       "[1] 1179062"
      ]
     },
     "metadata": {},
     "output_type": "display_data"
    }
   ],
   "source": [
    "NROW(unique(ferg_cols_loc$full_text))"
   ]
  },
  {
   "cell_type": "code",
   "execution_count": null,
   "metadata": {},
   "outputs": [],
   "source": [
    "###### Placeholder to read file ferg_cols_location.csv"
   ]
  },
  {
   "cell_type": "markdown",
   "metadata": {},
   "source": [
    "ferg_cols_loc <- read.csv(\"C:\\\\MathLabASUS\\\\Courses\\\\Ryerson\\\\Project\\\\Data\\\\Files\\\\Source\\\\ferg_cols_location.csv\")"
   ]
  },
  {
   "cell_type": "markdown",
   "metadata": {},
   "source": [
    "ferg_cols_loc$X <- NULL"
   ]
  },
  {
   "cell_type": "markdown",
   "metadata": {},
   "source": [
    "### Spatiotemporal - Scanstatistics"
   ]
  },
  {
   "cell_type": "code",
   "execution_count": null,
   "metadata": {},
   "outputs": [],
   "source": [
    "####### Remove locations where City_code is NA (code being 2 character state abbreviation)"
   ]
  },
  {
   "cell_type": "code",
   "execution_count": 50,
   "metadata": {
    "scrolled": true
   },
   "outputs": [
    {
     "data": {
      "text/html": [
       "7102"
      ],
      "text/latex": [
       "7102"
      ],
      "text/markdown": [
       "7102"
      ],
      "text/plain": [
       "[1] 7102"
      ]
     },
     "metadata": {},
     "output_type": "display_data"
    }
   ],
   "source": [
    "NROW(unique(na.omit(ferg_cols_loc$City_code)))"
   ]
  },
  {
   "cell_type": "code",
   "execution_count": null,
   "metadata": {},
   "outputs": [],
   "source": [
    "####### Read in shape files and get lat, lon coordinates"
   ]
  },
  {
   "cell_type": "code",
   "execution_count": 56,
   "metadata": {},
   "outputs": [
    {
     "name": "stdout",
     "output_type": "stream",
     "text": [
      "OGR data source with driver: ESRI Shapefile \n",
      "Source: \"c:\\Users\\Laura\\RyersonProject\\Project\\Preprocessing\\Files\\Maps\\citiesx020\", layer: \"citiesx020\"\n",
      "with 28706 features\n",
      "It has 11 fields\n",
      "Integer64 fields read as strings:  CITIESX020 POP \n"
     ]
    }
   ],
   "source": [
    "cities_shp <- readOGR(\"../Preprocessing/Files/Maps/citiesx020\", \"citiesx020\")"
   ]
  },
  {
   "cell_type": "code",
   "execution_count": null,
   "metadata": {},
   "outputs": [],
   "source": [
    "####### Rename Saint Louis, Missouri to St Louis, Missouri"
   ]
  },
  {
   "cell_type": "code",
   "execution_count": 58,
   "metadata": {
    "collapsed": true
   },
   "outputs": [
    {
     "data": {
      "text/html": [
       "<table>\n",
       "<thead><tr><th></th><th scope=col>AREA</th><th scope=col>PERIMETER</th><th scope=col>CITIESX020</th><th scope=col>FEATURE</th><th scope=col>NAME</th><th scope=col>FIPS</th><th scope=col>FIPS55</th><th scope=col>POP</th><th scope=col>STATE_FIPS</th><th scope=col>STATE</th><th scope=col>COUNTY</th></tr></thead>\n",
       "<tbody>\n",
       "\t<tr><th scope=row>18379</th><td>0                                       </td><td>0                                       </td><td>18379                                   </td><td>Population less than 10,000             </td><td>Cook Station                            </td><td>29055                                   </td><td>16210                                   </td><td>0                                       </td><td>29                                      </td><td>MO                                      </td><td>Crawford County                         </td></tr>\n",
       "\t<tr><th scope=row>18739</th><td>0                                       </td><td>0                                       </td><td>18739                                   </td><td>Population less than 10,000             </td><td>Mount Sterling                          </td><td>29073                                   </td><td>50654                                   </td><td>0                                       </td><td>29                                      </td><td>MO                                      </td><td>Gasconade County                        </td></tr>\n",
       "\t<tr><th scope=row>18934</th><td>0                                       </td><td>0                                       </td><td>18934                                   </td><td>Population less than 10,000             </td><td>Stanberry                               </td><td>29075                                   </td><td>70270                                   </td><td>1310                                    </td><td>29                                      </td><td>MO                                      </td><td>Gentry County                           </td></tr>\n",
       "\t<tr><th scope=row>18935</th><td>0                                       </td><td>0                                       </td><td>18935                                   </td><td>Population less than 10,000             </td><td>Stanton                                 </td><td>29071                                   </td><td>70342                                   </td><td>0                                       </td><td>29                                      </td><td>MO                                      </td><td>Franklin County                         </td></tr>\n",
       "\t<tr><th scope=row>18936</th><td>0                                       </td><td>0                                       </td><td>18936                                   </td><td>Population less than 10,000             </td><td>Steele                                  </td><td>29155                                   </td><td>70558                                   </td><td>2395                                    </td><td>29                                      </td><td>MO                                      </td><td>Pemiscot County                         </td></tr>\n",
       "\t<tr><th scope=row>18937</th><td>0                                       </td><td>0                                       </td><td>18937                                   </td><td>Population less than 10,000  County Seat</td><td>Steelville                              </td><td>29055                                   </td><td>70576                                   </td><td>1465                                    </td><td>29                                      </td><td>MO                                      </td><td>Crawford County                         </td></tr>\n",
       "\t<tr><th scope=row>18938</th><td>0                                       </td><td>0                                       </td><td>18938                                   </td><td>Population less than 10,000             </td><td>Stella                                  </td><td>29145                                   </td><td>70648                                   </td><td>132                                     </td><td>29                                      </td><td>MO                                      </td><td>Newton County                           </td></tr>\n",
       "\t<tr><th scope=row>18939</th><td>0                                       </td><td>0                                       </td><td>18939                                   </td><td>Population less than 10,000             </td><td>Stewartsville                           </td><td>29063                                   </td><td>70738                                   </td><td>732                                     </td><td>29                                      </td><td>MO                                      </td><td>Dekalb County                           </td></tr>\n",
       "\t<tr><th scope=row>18940</th><td>0                                       </td><td>0                                       </td><td>18940                                   </td><td>Population less than 10,000             </td><td>Stillings                               </td><td>29165                                   </td><td>70774                                   </td><td>0                                       </td><td>29                                      </td><td>MO                                      </td><td>Platte County                           </td></tr>\n",
       "\t<tr><th scope=row>18941</th><td>0                                       </td><td>0                                       </td><td>18941                                   </td><td>Population less than 10,000  County Seat</td><td>Stockton                                </td><td>29039                                   </td><td>70828                                   </td><td>1579                                    </td><td>29                                      </td><td>MO                                      </td><td>Cedar County                            </td></tr>\n",
       "\t<tr><th scope=row>18942</th><td>0                                       </td><td>0                                       </td><td>18942                                   </td><td>Population less than 10,000             </td><td>Stotesbury                              </td><td>29217                                   </td><td>70954                                   </td><td>42                                      </td><td>29                                      </td><td>MO                                      </td><td>Vernon County                           </td></tr>\n",
       "\t<tr><th scope=row>18943</th><td>0                                       </td><td>0                                       </td><td>18943                                   </td><td>Population less than 10,000             </td><td>Stoutland                               </td><td>29029                                   </td><td>71008                                   </td><td>207                                     </td><td>29                                      </td><td>MO                                      </td><td>Camden County                           </td></tr>\n",
       "\t<tr><th scope=row>18944</th><td>0                                       </td><td>0                                       </td><td>18944                                   </td><td>Population less than 10,000             </td><td>Stoutsville                             </td><td>29137                                   </td><td>71026                                   </td><td>26                                      </td><td>29                                      </td><td>MO                                      </td><td>Monroe County                           </td></tr>\n",
       "\t<tr><th scope=row>18945</th><td>0                                       </td><td>0                                       </td><td>18945                                   </td><td>Population less than 10,000             </td><td>Stover                                  </td><td>29141                                   </td><td>71044                                   </td><td>964                                     </td><td>29                                      </td><td>MO                                      </td><td>Morgan County                           </td></tr>\n",
       "\t<tr><th scope=row>18946</th><td>0                                       </td><td>0                                       </td><td>18946                                   </td><td>Population less than 10,000             </td><td>Strafford                               </td><td>29077                                   </td><td>71062                                   </td><td>1166                                    </td><td>29                                      </td><td>MO                                      </td><td>Greene County                           </td></tr>\n",
       "\t<tr><th scope=row>18947</th><td>0                                       </td><td>0                                       </td><td>18947                                   </td><td>Population less than 10,000             </td><td>Strasburg                               </td><td>29037                                   </td><td>71098                                   </td><td>124                                     </td><td>29                                      </td><td>MO                                      </td><td>Cass County                             </td></tr>\n",
       "\t<tr><th scope=row>18948</th><td>0                                       </td><td>0                                       </td><td>18948                                   </td><td>Population less than 10,000             </td><td>Sturgeon                                </td><td>29019                                   </td><td>71224                                   </td><td>838                                     </td><td>29                                      </td><td>MO                                      </td><td>Boone County                            </td></tr>\n",
       "\t<tr><th scope=row>18979</th><td>0                                       </td><td>0                                       </td><td>18979                                   </td><td>Population less than 10,000             </td><td>Union Star                              </td><td>29063                                   </td><td>75130                                   </td><td>432                                     </td><td>29                                      </td><td>MO                                      </td><td>Dekalb County                           </td></tr>\n",
       "</tbody>\n",
       "</table>\n"
      ],
      "text/latex": [
       "\\begin{tabular}{r|lllllllllll}\n",
       "  & AREA & PERIMETER & CITIESX020 & FEATURE & NAME & FIPS & FIPS55 & POP & STATE\\_FIPS & STATE & COUNTY\\\\\n",
       "\\hline\n",
       "\t18379 & 0                                        & 0                                        & 18379                                    & Population less than 10,000              & Cook Station                             & 29055                                    & 16210                                    & 0                                        & 29                                       & MO                                       & Crawford County                         \\\\\n",
       "\t18739 & 0                                        & 0                                        & 18739                                    & Population less than 10,000              & Mount Sterling                           & 29073                                    & 50654                                    & 0                                        & 29                                       & MO                                       & Gasconade County                        \\\\\n",
       "\t18934 & 0                                        & 0                                        & 18934                                    & Population less than 10,000              & Stanberry                                & 29075                                    & 70270                                    & 1310                                     & 29                                       & MO                                       & Gentry County                           \\\\\n",
       "\t18935 & 0                                        & 0                                        & 18935                                    & Population less than 10,000              & Stanton                                  & 29071                                    & 70342                                    & 0                                        & 29                                       & MO                                       & Franklin County                         \\\\\n",
       "\t18936 & 0                                        & 0                                        & 18936                                    & Population less than 10,000              & Steele                                   & 29155                                    & 70558                                    & 2395                                     & 29                                       & MO                                       & Pemiscot County                         \\\\\n",
       "\t18937 & 0                                        & 0                                        & 18937                                    & Population less than 10,000  County Seat & Steelville                               & 29055                                    & 70576                                    & 1465                                     & 29                                       & MO                                       & Crawford County                         \\\\\n",
       "\t18938 & 0                                        & 0                                        & 18938                                    & Population less than 10,000              & Stella                                   & 29145                                    & 70648                                    & 132                                      & 29                                       & MO                                       & Newton County                           \\\\\n",
       "\t18939 & 0                                        & 0                                        & 18939                                    & Population less than 10,000              & Stewartsville                            & 29063                                    & 70738                                    & 732                                      & 29                                       & MO                                       & Dekalb County                           \\\\\n",
       "\t18940 & 0                                        & 0                                        & 18940                                    & Population less than 10,000              & Stillings                                & 29165                                    & 70774                                    & 0                                        & 29                                       & MO                                       & Platte County                           \\\\\n",
       "\t18941 & 0                                        & 0                                        & 18941                                    & Population less than 10,000  County Seat & Stockton                                 & 29039                                    & 70828                                    & 1579                                     & 29                                       & MO                                       & Cedar County                            \\\\\n",
       "\t18942 & 0                                        & 0                                        & 18942                                    & Population less than 10,000              & Stotesbury                               & 29217                                    & 70954                                    & 42                                       & 29                                       & MO                                       & Vernon County                           \\\\\n",
       "\t18943 & 0                                        & 0                                        & 18943                                    & Population less than 10,000              & Stoutland                                & 29029                                    & 71008                                    & 207                                      & 29                                       & MO                                       & Camden County                           \\\\\n",
       "\t18944 & 0                                        & 0                                        & 18944                                    & Population less than 10,000              & Stoutsville                              & 29137                                    & 71026                                    & 26                                       & 29                                       & MO                                       & Monroe County                           \\\\\n",
       "\t18945 & 0                                        & 0                                        & 18945                                    & Population less than 10,000              & Stover                                   & 29141                                    & 71044                                    & 964                                      & 29                                       & MO                                       & Morgan County                           \\\\\n",
       "\t18946 & 0                                        & 0                                        & 18946                                    & Population less than 10,000              & Strafford                                & 29077                                    & 71062                                    & 1166                                     & 29                                       & MO                                       & Greene County                           \\\\\n",
       "\t18947 & 0                                        & 0                                        & 18947                                    & Population less than 10,000              & Strasburg                                & 29037                                    & 71098                                    & 124                                      & 29                                       & MO                                       & Cass County                             \\\\\n",
       "\t18948 & 0                                        & 0                                        & 18948                                    & Population less than 10,000              & Sturgeon                                 & 29019                                    & 71224                                    & 838                                      & 29                                       & MO                                       & Boone County                            \\\\\n",
       "\t18979 & 0                                        & 0                                        & 18979                                    & Population less than 10,000              & Union Star                               & 29063                                    & 75130                                    & 432                                      & 29                                       & MO                                       & Dekalb County                           \\\\\n",
       "\\end{tabular}\n"
      ],
      "text/markdown": [
       "\n",
       "| <!--/--> | AREA | PERIMETER | CITIESX020 | FEATURE | NAME | FIPS | FIPS55 | POP | STATE_FIPS | STATE | COUNTY | \n",
       "|---|---|---|---|---|---|---|---|---|---|---|---|---|---|---|---|---|---|\n",
       "| 18379 | 0                                        | 0                                        | 18379                                    | Population less than 10,000              | Cook Station                             | 29055                                    | 16210                                    | 0                                        | 29                                       | MO                                       | Crawford County                          | \n",
       "| 18739 | 0                                        | 0                                        | 18739                                    | Population less than 10,000              | Mount Sterling                           | 29073                                    | 50654                                    | 0                                        | 29                                       | MO                                       | Gasconade County                         | \n",
       "| 18934 | 0                                        | 0                                        | 18934                                    | Population less than 10,000              | Stanberry                                | 29075                                    | 70270                                    | 1310                                     | 29                                       | MO                                       | Gentry County                            | \n",
       "| 18935 | 0                                        | 0                                        | 18935                                    | Population less than 10,000              | Stanton                                  | 29071                                    | 70342                                    | 0                                        | 29                                       | MO                                       | Franklin County                          | \n",
       "| 18936 | 0                                        | 0                                        | 18936                                    | Population less than 10,000              | Steele                                   | 29155                                    | 70558                                    | 2395                                     | 29                                       | MO                                       | Pemiscot County                          | \n",
       "| 18937 | 0                                        | 0                                        | 18937                                    | Population less than 10,000  County Seat | Steelville                               | 29055                                    | 70576                                    | 1465                                     | 29                                       | MO                                       | Crawford County                          | \n",
       "| 18938 | 0                                        | 0                                        | 18938                                    | Population less than 10,000              | Stella                                   | 29145                                    | 70648                                    | 132                                      | 29                                       | MO                                       | Newton County                            | \n",
       "| 18939 | 0                                        | 0                                        | 18939                                    | Population less than 10,000              | Stewartsville                            | 29063                                    | 70738                                    | 732                                      | 29                                       | MO                                       | Dekalb County                            | \n",
       "| 18940 | 0                                        | 0                                        | 18940                                    | Population less than 10,000              | Stillings                                | 29165                                    | 70774                                    | 0                                        | 29                                       | MO                                       | Platte County                            | \n",
       "| 18941 | 0                                        | 0                                        | 18941                                    | Population less than 10,000  County Seat | Stockton                                 | 29039                                    | 70828                                    | 1579                                     | 29                                       | MO                                       | Cedar County                             | \n",
       "| 18942 | 0                                        | 0                                        | 18942                                    | Population less than 10,000              | Stotesbury                               | 29217                                    | 70954                                    | 42                                       | 29                                       | MO                                       | Vernon County                            | \n",
       "| 18943 | 0                                        | 0                                        | 18943                                    | Population less than 10,000              | Stoutland                                | 29029                                    | 71008                                    | 207                                      | 29                                       | MO                                       | Camden County                            | \n",
       "| 18944 | 0                                        | 0                                        | 18944                                    | Population less than 10,000              | Stoutsville                              | 29137                                    | 71026                                    | 26                                       | 29                                       | MO                                       | Monroe County                            | \n",
       "| 18945 | 0                                        | 0                                        | 18945                                    | Population less than 10,000              | Stover                                   | 29141                                    | 71044                                    | 964                                      | 29                                       | MO                                       | Morgan County                            | \n",
       "| 18946 | 0                                        | 0                                        | 18946                                    | Population less than 10,000              | Strafford                                | 29077                                    | 71062                                    | 1166                                     | 29                                       | MO                                       | Greene County                            | \n",
       "| 18947 | 0                                        | 0                                        | 18947                                    | Population less than 10,000              | Strasburg                                | 29037                                    | 71098                                    | 124                                      | 29                                       | MO                                       | Cass County                              | \n",
       "| 18948 | 0                                        | 0                                        | 18948                                    | Population less than 10,000              | Sturgeon                                 | 29019                                    | 71224                                    | 838                                      | 29                                       | MO                                       | Boone County                             | \n",
       "| 18979 | 0                                        | 0                                        | 18979                                    | Population less than 10,000              | Union Star                               | 29063                                    | 75130                                    | 432                                      | 29                                       | MO                                       | Dekalb County                            | \n",
       "\n",
       "\n"
      ],
      "text/plain": [
       "      AREA PERIMETER CITIESX020 FEATURE                                 \n",
       "18379 0    0         18379      Population less than 10,000             \n",
       "18739 0    0         18739      Population less than 10,000             \n",
       "18934 0    0         18934      Population less than 10,000             \n",
       "18935 0    0         18935      Population less than 10,000             \n",
       "18936 0    0         18936      Population less than 10,000             \n",
       "18937 0    0         18937      Population less than 10,000  County Seat\n",
       "18938 0    0         18938      Population less than 10,000             \n",
       "18939 0    0         18939      Population less than 10,000             \n",
       "18940 0    0         18940      Population less than 10,000             \n",
       "18941 0    0         18941      Population less than 10,000  County Seat\n",
       "18942 0    0         18942      Population less than 10,000             \n",
       "18943 0    0         18943      Population less than 10,000             \n",
       "18944 0    0         18944      Population less than 10,000             \n",
       "18945 0    0         18945      Population less than 10,000             \n",
       "18946 0    0         18946      Population less than 10,000             \n",
       "18947 0    0         18947      Population less than 10,000             \n",
       "18948 0    0         18948      Population less than 10,000             \n",
       "18979 0    0         18979      Population less than 10,000             \n",
       "      NAME           FIPS  FIPS55 POP  STATE_FIPS STATE COUNTY          \n",
       "18379 Cook Station   29055 16210  0    29         MO    Crawford County \n",
       "18739 Mount Sterling 29073 50654  0    29         MO    Gasconade County\n",
       "18934 Stanberry      29075 70270  1310 29         MO    Gentry County   \n",
       "18935 Stanton        29071 70342  0    29         MO    Franklin County \n",
       "18936 Steele         29155 70558  2395 29         MO    Pemiscot County \n",
       "18937 Steelville     29055 70576  1465 29         MO    Crawford County \n",
       "18938 Stella         29145 70648  132  29         MO    Newton County   \n",
       "18939 Stewartsville  29063 70738  732  29         MO    Dekalb County   \n",
       "18940 Stillings      29165 70774  0    29         MO    Platte County   \n",
       "18941 Stockton       29039 70828  1579 29         MO    Cedar County    \n",
       "18942 Stotesbury     29217 70954  42   29         MO    Vernon County   \n",
       "18943 Stoutland      29029 71008  207  29         MO    Camden County   \n",
       "18944 Stoutsville    29137 71026  26   29         MO    Monroe County   \n",
       "18945 Stover         29141 71044  964  29         MO    Morgan County   \n",
       "18946 Strafford      29077 71062  1166 29         MO    Greene County   \n",
       "18947 Strasburg      29037 71098  124  29         MO    Cass County     \n",
       "18948 Sturgeon       29019 71224  838  29         MO    Boone County    \n",
       "18979 Union Star     29063 75130  432  29         MO    Dekalb County   "
      ]
     },
     "metadata": {},
     "output_type": "display_data"
    }
   ],
   "source": [
    "subset(cities_shp@data, cities_shp@data$STATE == \"MO\" & cities_shp@data$NAME %like% \"St\")"
   ]
  },
  {
   "cell_type": "code",
   "execution_count": 59,
   "metadata": {},
   "outputs": [],
   "source": [
    "cities_shp@data$NAME <- ifelse(str_detect(cities_shp@data$NAME, \"Saint Louis\") & \n",
    "                               str_detect(cities_shp@data$STATE, \"MO\"), \"St Louis\", cities_shp@data$NAME) "
   ]
  },
  {
   "cell_type": "code",
   "execution_count": null,
   "metadata": {},
   "outputs": [],
   "source": [
    "##### Extract latitiude and longitude center of each city"
   ]
  },
  {
   "cell_type": "code",
   "execution_count": 60,
   "metadata": {},
   "outputs": [],
   "source": [
    "cities_coor <- gCentroid(cities_shp, byid = TRUE)"
   ]
  },
  {
   "cell_type": "code",
   "execution_count": 61,
   "metadata": {},
   "outputs": [],
   "source": [
    "cities_latlon <- gCentroid(cities_shp, byid = TRUE) %>%\n",
    "               as.data.frame() %>%\n",
    "                dplyr::select(everything()) %>%\n",
    "                dplyr::rename(lon = x, lat = y) %>%\n",
    "                mutate(City = cities_shp@data$NAME, State = cities_shp@data$STATE, mapid = cities_shp@data$CITIESX020 \n",
    "                      ) %>% \n",
    "                inner_join(as.data.frame(cities_shp), by = c(\"mapid\" = \"CITIESX020\")) %>%\n",
    "                mutate(City = toupper(City)) %>%\n",
    "                dplyr::select(lon:STATE_FIPS, COUNTY) %>%\n",
    "                as.data.frame()\n",
    "                \n",
    "\n",
    "                "
   ]
  },
  {
   "cell_type": "code",
   "execution_count": 62,
   "metadata": {},
   "outputs": [],
   "source": [
    "colnames(cities_latlon) <- str_to_lower(colnames(cities_latlon))"
   ]
  },
  {
   "cell_type": "code",
   "execution_count": 63,
   "metadata": {
    "scrolled": true
   },
   "outputs": [
    {
     "data": {
      "text/html": [
       "<table>\n",
       "<thead><tr><th scope=col>lon</th><th scope=col>lat</th><th scope=col>city</th><th scope=col>state</th><th scope=col>mapid</th><th scope=col>area</th><th scope=col>perimeter</th><th scope=col>feature</th><th scope=col>name</th><th scope=col>fips</th><th scope=col>fips55</th><th scope=col>pop</th><th scope=col>state_fips</th><th scope=col>county</th></tr></thead>\n",
       "<tbody>\n",
       "\t<tr><td>-123.8181                  </td><td>46.97494                   </td><td>7                          </td><td>WA                         </td><td>1                          </td><td>0                          </td><td>0                          </td><td>Population 10,000 to 49,999</td><td>7                          </td><td>53027                      </td><td>00100                      </td><td>16565                      </td><td>53                         </td><td>Grays Harbor County        </td></tr>\n",
       "\t<tr><td>-122.2078                  </td><td>48.71663                   </td><td>34                         </td><td>WA                         </td><td>2                          </td><td>0                          </td><td>0                          </td><td>Population less than 10,000</td><td>34                         </td><td>53073                      </td><td>00275                      </td><td>0                          </td><td>53                         </td><td>Whatcom County             </td></tr>\n",
       "\t<tr><td>-117.8391                  </td><td>48.35600                   </td><td>59                         </td><td>WA                         </td><td>3                          </td><td>0                          </td><td>0                          </td><td>Population less than 10,000</td><td>59                         </td><td>53065                      </td><td>00380                      </td><td>0                          </td><td>53                         </td><td>Stevens County             </td></tr>\n",
       "\t<tr><td>-122.3628                  </td><td>47.33079                   </td><td>62                         </td><td>WA                         </td><td>4                          </td><td>0                          </td><td>0                          </td><td>Population less than 10,000</td><td>62                         </td><td>53033                      </td><td>00415                      </td><td>0                          </td><td>53                         </td><td>King County                </td></tr>\n",
       "\t<tr><td>-123.0638                  </td><td>46.62849                   </td><td>70                         </td><td>WA                         </td><td>5                          </td><td>0                          </td><td>0                          </td><td>Population less than 10,000</td><td>70                         </td><td>53041                      </td><td>00590                      </td><td>0                          </td><td>53                         </td><td>Lewis County               </td></tr>\n",
       "\t<tr><td>-118.9817                  </td><td>48.54705                   </td><td>75                         </td><td>WA                         </td><td>6                          </td><td>0                          </td><td>0                          </td><td>Population less than 10,000</td><td>75                         </td><td>53047                      </td><td>00660                      </td><td>0                          </td><td>53                         </td><td>Okanogan County            </td></tr>\n",
       "</tbody>\n",
       "</table>\n"
      ],
      "text/latex": [
       "\\begin{tabular}{r|llllllllllllll}\n",
       " lon & lat & city & state & mapid & area & perimeter & feature & name & fips & fips55 & pop & state\\_fips & county\\\\\n",
       "\\hline\n",
       "\t -123.8181                   & 46.97494                    & 7                           & WA                          & 1                           & 0                           & 0                           & Population 10,000 to 49,999 & 7                           & 53027                       & 00100                       & 16565                       & 53                          & Grays Harbor County        \\\\\n",
       "\t -122.2078                   & 48.71663                    & 34                          & WA                          & 2                           & 0                           & 0                           & Population less than 10,000 & 34                          & 53073                       & 00275                       & 0                           & 53                          & Whatcom County             \\\\\n",
       "\t -117.8391                   & 48.35600                    & 59                          & WA                          & 3                           & 0                           & 0                           & Population less than 10,000 & 59                          & 53065                       & 00380                       & 0                           & 53                          & Stevens County             \\\\\n",
       "\t -122.3628                   & 47.33079                    & 62                          & WA                          & 4                           & 0                           & 0                           & Population less than 10,000 & 62                          & 53033                       & 00415                       & 0                           & 53                          & King County                \\\\\n",
       "\t -123.0638                   & 46.62849                    & 70                          & WA                          & 5                           & 0                           & 0                           & Population less than 10,000 & 70                          & 53041                       & 00590                       & 0                           & 53                          & Lewis County               \\\\\n",
       "\t -118.9817                   & 48.54705                    & 75                          & WA                          & 6                           & 0                           & 0                           & Population less than 10,000 & 75                          & 53047                       & 00660                       & 0                           & 53                          & Okanogan County            \\\\\n",
       "\\end{tabular}\n"
      ],
      "text/markdown": [
       "\n",
       "lon | lat | city | state | mapid | area | perimeter | feature | name | fips | fips55 | pop | state_fips | county | \n",
       "|---|---|---|---|---|---|\n",
       "| -123.8181                   | 46.97494                    | 7                           | WA                          | 1                           | 0                           | 0                           | Population 10,000 to 49,999 | 7                           | 53027                       | 00100                       | 16565                       | 53                          | Grays Harbor County         | \n",
       "| -122.2078                   | 48.71663                    | 34                          | WA                          | 2                           | 0                           | 0                           | Population less than 10,000 | 34                          | 53073                       | 00275                       | 0                           | 53                          | Whatcom County              | \n",
       "| -117.8391                   | 48.35600                    | 59                          | WA                          | 3                           | 0                           | 0                           | Population less than 10,000 | 59                          | 53065                       | 00380                       | 0                           | 53                          | Stevens County              | \n",
       "| -122.3628                   | 47.33079                    | 62                          | WA                          | 4                           | 0                           | 0                           | Population less than 10,000 | 62                          | 53033                       | 00415                       | 0                           | 53                          | King County                 | \n",
       "| -123.0638                   | 46.62849                    | 70                          | WA                          | 5                           | 0                           | 0                           | Population less than 10,000 | 70                          | 53041                       | 00590                       | 0                           | 53                          | Lewis County                | \n",
       "| -118.9817                   | 48.54705                    | 75                          | WA                          | 6                           | 0                           | 0                           | Population less than 10,000 | 75                          | 53047                       | 00660                       | 0                           | 53                          | Okanogan County             | \n",
       "\n",
       "\n"
      ],
      "text/plain": [
       "  lon       lat      city state mapid area perimeter\n",
       "1 -123.8181 46.97494 7    WA    1     0    0        \n",
       "2 -122.2078 48.71663 34   WA    2     0    0        \n",
       "3 -117.8391 48.35600 59   WA    3     0    0        \n",
       "4 -122.3628 47.33079 62   WA    4     0    0        \n",
       "5 -123.0638 46.62849 70   WA    5     0    0        \n",
       "6 -118.9817 48.54705 75   WA    6     0    0        \n",
       "  feature                     name fips  fips55 pop   state_fips\n",
       "1 Population 10,000 to 49,999 7    53027 00100  16565 53        \n",
       "2 Population less than 10,000 34   53073 00275  0     53        \n",
       "3 Population less than 10,000 59   53065 00380  0     53        \n",
       "4 Population less than 10,000 62   53033 00415  0     53        \n",
       "5 Population less than 10,000 70   53041 00590  0     53        \n",
       "6 Population less than 10,000 75   53047 00660  0     53        \n",
       "  county             \n",
       "1 Grays Harbor County\n",
       "2 Whatcom County     \n",
       "3 Stevens County     \n",
       "4 King County        \n",
       "5 Lewis County       \n",
       "6 Okanogan County    "
      ]
     },
     "metadata": {},
     "output_type": "display_data"
    }
   ],
   "source": [
    "head(cities_latlon)"
   ]
  },
  {
   "cell_type": "markdown",
   "metadata": {},
   "source": [
    "write.csv(cities_latlon, \"C:\\\\MathLabASUS\\\\Courses\\\\Ryerson\\\\Project\\\\Data\\\\Files\\\\Maps\\\\cities_latlon.csv\")"
   ]
  },
  {
   "cell_type": "code",
   "execution_count": 64,
   "metadata": {
    "scrolled": true
   },
   "outputs": [
    {
     "data": {
      "text/html": [
       "28706"
      ],
      "text/latex": [
       "28706"
      ],
      "text/markdown": [
       "28706"
      ],
      "text/plain": [
       "[1] 28706"
      ]
     },
     "metadata": {},
     "output_type": "display_data"
    }
   ],
   "source": [
    "nrow(unique(cities_latlon))"
   ]
  },
  {
   "cell_type": "markdown",
   "metadata": {},
   "source": [
    "Number of city, state locations = 28,706"
   ]
  },
  {
   "cell_type": "code",
   "execution_count": null,
   "metadata": {},
   "outputs": [],
   "source": [
    "####### Assign geospatial projections to cities shape file"
   ]
  },
  {
   "cell_type": "code",
   "execution_count": 65,
   "metadata": {
    "scrolled": false
   },
   "outputs": [
    {
     "name": "stdout",
     "output_type": "stream",
     "text": [
      "OGR data source with driver: GeoJSON \n",
      "Source: \"c:\\Users\\Laura\\RyersonProject\\Project\\Preprocessing\\Files\\Maps\\nyc_boroughs.geojson\", layer: \"nyc_boroughs\"\n",
      "with 104 features\n",
      "It has 3 fields\n"
     ]
    }
   ],
   "source": [
    "getbormap <-  readOGR(\"../Preprocessing/Files/Maps/nyc_boroughs.geojson\", \"nyc_boroughs\")"
   ]
  },
  {
   "cell_type": "code",
   "execution_count": 66,
   "metadata": {
    "scrolled": true
   },
   "outputs": [
    {
     "data": {
      "text/html": [
       "'+proj=longlat +datum=WGS84 +no_defs +ellps=WGS84 +towgs84=0,0,0'"
      ],
      "text/latex": [
       "'+proj=longlat +datum=WGS84 +no\\_defs +ellps=WGS84 +towgs84=0,0,0'"
      ],
      "text/markdown": [
       "'+proj=longlat +datum=WGS84 +no_defs +ellps=WGS84 +towgs84=0,0,0'"
      ],
      "text/plain": [
       "[1] \"+proj=longlat +datum=WGS84 +no_defs +ellps=WGS84 +towgs84=0,0,0\""
      ]
     },
     "metadata": {},
     "output_type": "display_data"
    }
   ],
   "source": [
    "proj4string(getbormap)"
   ]
  },
  {
   "cell_type": "code",
   "execution_count": 67,
   "metadata": {},
   "outputs": [],
   "source": [
    "proj4string(cities_shp) <- proj4string(getbormap)"
   ]
  },
  {
   "cell_type": "markdown",
   "metadata": {},
   "source": [
    "######## Attach longitude and latidue data to Ferguson user locations, i.e. join (ferg_cols_loc) data to cities location (cities_latlon) data"
   ]
  },
  {
   "cell_type": "code",
   "execution_count": 68,
   "metadata": {},
   "outputs": [
    {
     "name": "stderr",
     "output_type": "stream",
     "text": [
      "Warning message:\n",
      "\"Column `Code`/`state` joining character vector and factor, coercing into character vector\""
     ]
    }
   ],
   "source": [
    "fergcols_latlon <- ferg_cols_loc %>%\n",
    "                    mutate(City2 = as.character(City2)) %>%\n",
    "                    mutate(Code = as.character(Code)) %>%\n",
    "                    left_join(cities_latlon, by = c(\"City2\" = \"city\", \"Code\" = \"state\")) %>%\n",
    "                    as.data.frame()"
   ]
  },
  {
   "cell_type": "code",
   "execution_count": null,
   "metadata": {},
   "outputs": [],
   "source": [
    "###### Get start and end dates for tweet activity"
   ]
  },
  {
   "cell_type": "code",
   "execution_count": 69,
   "metadata": {},
   "outputs": [
    {
     "name": "stdout",
     "output_type": "stream",
     "text": [
      "Minimum datetime = 2014-08-09T05:33:30Z\n",
      "Maximum datetime = 2014-08-20T01:17:04Z"
     ]
    }
   ],
   "source": [
    "cat(paste0(\"Minimum datetime = \", min(fergcols_latlon$utc_datetime), \"\\n\"))\n",
    "cat(paste0(\"Maximum datetime = \",  max(fergcols_latlon$utc_datetime)))"
   ]
  },
  {
   "cell_type": "code",
   "execution_count": null,
   "metadata": {},
   "outputs": [],
   "source": [
    "### Remove cities tnat have no geo-coordinates in cities_latlon (citiesx020)"
   ]
  },
  {
   "cell_type": "code",
   "execution_count": 76,
   "metadata": {
    "collapsed": true
   },
   "outputs": [
    {
     "name": "stdout",
     "output_type": "stream",
     "text": [
      "'data.frame':\t72136 obs. of  44 variables:\n",
      " $ rowno                      : num  17 18 25 32 38 48 50 55 60 61 ...\n",
      " $ user.id                    : num  1.93e+07 3.91e+07 2.10e+07 5.98e+08 6.43e+07 ...\n",
      " $ user.location              : chr  \"St Louis, MO\" \"St. Louis, MO\" \"St. Louis, MO\" \"St.Louis, MO\" ...\n",
      " $ user.description           : chr  \"Super Mom  â\\200¢ Media Personality â\\200¢ Voiceover Fiend â\\200¢ Radio Chick â\\200¢ Music Lover â\\200¢ Travelh\"| __truncated__ \"STL + Running!!! + NKOTB &  corporate america = Lots of random tweets, you have been forewarned!\" \"I love life! I love my family!\" \"Oh you know.. Im amazing. Chef Life.\" ...\n",
      " $ created_at                 : chr  \"Sat Aug 09 22:30:45 +0000 2014\" \"Sat Aug 09 22:28:58 +0000 2014\" \"Sat Aug 09 22:29:22 +0000 2014\" \"Sat Aug 09 22:38:41 +0000 2014\" ...\n",
      " $ id                         : num  4.98e+17 4.98e+17 4.98e+17 4.98e+17 4.98e+17 ...\n",
      " $ user.created_at            : chr  \"Wed Jan 21 23:05:58 +0000 2009\" \"Sun May 10 20:52:59 +0000 2009\" \"Mon Feb 16 06:00:45 +0000 2009\" \"Sun Jun 03 05:34:25 +0000 2012\" ...\n",
      " $ retweeted                  : logi  FALSE FALSE FALSE FALSE FALSE FALSE ...\n",
      " $ retweeted_count            : logi  NA NA NA NA NA NA ...\n",
      " $ retweet                    : int  1 1 1 0 1 1 0 1 1 0 ...\n",
      " $ retweeted_status.created_at: chr  \"Sat Aug 09 22:25:39 +0000 2014\" \"Sat Aug 09 22:25:39 +0000 2014\" \"Sat Aug 09 22:25:39 +0000 2014\" \"\" ...\n",
      " $ favorited                  : logi  FALSE FALSE FALSE FALSE FALSE FALSE ...\n",
      " $ favorite_count             : int  0 0 0 0 0 0 0 0 0 6 ...\n",
      " $ textnum                    : int  1 1 1 1 1 1 1 1 1 1 ...\n",
      " $ full_text                  : chr  \"RT @Hot1041: Please turn your radios on and tell us what happened in #Ferguson #RIPMikeMike\" \"RT @Hot1041: Please turn your radios on and tell us what happened in #Ferguson #RIPMikeMike\" \"RT @Hot1041: Please turn your radios on and tell us what happened in #Ferguson #RIPMikeMike\" \"If you saw ANYTHING, call in!!\\\"\\\"@Hot1041: Please turn your radios on and tell us what happened in #Ferguson #RIPMikeMike\\\"\\\"\" ...\n",
      " $ possibly_sensitive         : logi  NA NA NA NA NA FALSE ...\n",
      " $ hashtags                   : logi  NA NA NA NA NA NA ...\n",
      " $ lang                       : chr  \"en\" \"en\" \"en\" \"en\" ...\n",
      " $ user.geo_enabled           : logi  TRUE TRUE TRUE FALSE TRUE TRUE ...\n",
      " $ place.full_name            : chr  \"\" \"\" \"\" \"\" ...\n",
      " $ place.place_type           : chr  \"\" \"\" \"\" \"\" ...\n",
      " $ utc_datetime               : chr  \"2014-08-09T22:30:45Z\" \"2014-08-09T22:28:58Z\" \"2014-08-09T22:29:22Z\" \"2014-08-09T22:38:41Z\" ...\n",
      " $ yday                       : int  221 221 221 221 221 221 221 221 221 221 ...\n",
      " $ ymd                        : chr  \"2014-08-09\" \"2014-08-09\" \"2014-08-09\" \"2014-08-09\" ...\n",
      " $ user_id2                   : int  58001 131350 67445 470133 176156 58001 167375 502534 101402 14502 ...\n",
      " $ user.location2             : chr  \"ST LOUIS MO\" \"ST LOUIS MO\" \"ST LOUIS MO\" \"ST LOUIS MO\" ...\n",
      " $ City_code                  : chr  \"ST LOUIS MO\" \"ST LOUIS MO\" \"ST LOUIS MO\" \"ST LOUIS MO\" ...\n",
      " $ City_state                 : chr  \"ST LOUIS MISSOURI\" \"ST LOUIS MISSOURI\" \"ST LOUIS MISSOURI\" \"ST LOUIS MISSOURI\" ...\n",
      " $ City2                      : chr  \"ST LOUIS\" \"ST LOUIS\" \"ST LOUIS\" \"ST LOUIS\" ...\n",
      " $ State                      : chr  \"MISSOURI\" \"MISSOURI\" \"MISSOURI\" \"MISSOURI\" ...\n",
      " $ Code                       : chr  \"MO\" \"MO\" \"MO\" \"MO\" ...\n",
      " $ n                          : int  3 3 3 3 3 3 3 3 3 3 ...\n",
      " $ lon                        : num  -90.2 -90.2 -90.2 -90.2 -90.2 ...\n",
      " $ lat                        : num  38.6 38.6 38.6 38.6 38.6 ...\n",
      " $ mapid                      : Factor w/ 28706 levels \"1\",\"10\",\"100\",..: 9882 9882 9882 9882 9882 9882 9882 9882 9882 9882 ...\n",
      " $ area                       : num  0 0 0 0 0 0 0 0 0 0 ...\n",
      " $ perimeter                  : num  0 0 0 0 0 0 0 0 0 0 ...\n",
      " $ feature                    : Factor w/ 23 levels \"Population 10,000 to 49,999\",..: 10 10 10 10 10 10 10 10 10 10 ...\n",
      " $ name                       : chr  \"St Louis\" \"St Louis\" \"St Louis\" \"St Louis\" ...\n",
      " $ fips                       : Factor w/ 3135 levels \"01001\",\"01003\",..: 1595 1595 1595 1595 1595 1595 1595 1595 1595 1595 ...\n",
      " $ fips55                     : Factor w/ 17939 levels \"00000\",\"00100\",..: 13779 13779 13779 13779 13779 13779 13779 13779 13779 13779 ...\n",
      " $ pop                        : Factor w/ 7627 levels \"0\",\"10\",\"100\",..: 4539 4539 4539 4539 4539 4539 4539 4539 4539 4539 ...\n",
      " $ state_fips                 : Factor w/ 51 levels \"01\",\"02\",\"04\",..: 26 26 26 26 26 26 26 26 26 26 ...\n",
      " $ county                     : Factor w/ 1869 levels \"Abbeville County\",..: 1472 1472 1472 1472 1472 1472 1472 1472 1472 1472 ...\n"
     ]
    }
   ],
   "source": [
    "str(fergcols_latlon2)"
   ]
  },
  {
   "cell_type": "code",
   "execution_count": 79,
   "metadata": {
    "scrolled": true
   },
   "outputs": [],
   "source": [
    "fergcols_latlon2 <- subset(fergcols_latlon, !(is.na(name)))"
   ]
  },
  {
   "cell_type": "code",
   "execution_count": 80,
   "metadata": {
    "scrolled": true
   },
   "outputs": [
    {
     "data": {
      "text/html": [
       "72136"
      ],
      "text/latex": [
       "72136"
      ],
      "text/markdown": [
       "72136"
      ],
      "text/plain": [
       "[1] 72136"
      ]
     },
     "metadata": {},
     "output_type": "display_data"
    }
   ],
   "source": [
    "nrow(fergcols_latlon2)"
   ]
  },
  {
   "cell_type": "markdown",
   "metadata": {},
   "source": [
    "Not all user locations i.e. City, state combinations have geo-coordinates in fergcols_latlon2 (cities_latlon)"
   ]
  },
  {
   "cell_type": "code",
   "execution_count": 81,
   "metadata": {},
   "outputs": [],
   "source": [
    "\n",
    "ID <- fergcols_latlon2[c(\"City_code\")] %>%\n",
    "                    \n",
    "                    group_indices(City_code)\n",
    "                   "
   ]
  },
  {
   "cell_type": "code",
   "execution_count": 82,
   "metadata": {},
   "outputs": [],
   "source": [
    "fergcols_latlon2 <- cbind(ID, fergcols_latlon2)"
   ]
  },
  {
   "cell_type": "code",
   "execution_count": null,
   "metadata": {},
   "outputs": [],
   "source": [
    "### Daily tweet distribution over the entire 12 day period."
   ]
  },
  {
   "cell_type": "code",
   "execution_count": 216,
   "metadata": {},
   "outputs": [
    {
     "data": {
      "text/plain": [
       "\n",
       "     1      2      3      4      5      6      7      8      9     10     11 \n",
       "   113  10452  27384  38708  28957 239613  72570  50103  71882 150982 158486 \n",
       "    12 \n",
       " 12714 "
      ]
     },
     "metadata": {},
     "output_type": "display_data"
    }
   ],
   "source": [
    "table(fergcols_latlon2$yday - min(fergcols_latlon2$yday) + 1)"
   ]
  },
  {
   "cell_type": "code",
   "execution_count": null,
   "metadata": {},
   "outputs": [],
   "source": [
    "Day 6 has 150% more tweets than the next highest days - Day 10 and 11"
   ]
  },
  {
   "cell_type": "code",
   "execution_count": null,
   "metadata": {},
   "outputs": [],
   "source": [
    "####### Create a dataframe ferg_latlon_n to examine some spatial statistics"
   ]
  },
  {
   "cell_type": "code",
   "execution_count": 84,
   "metadata": {},
   "outputs": [],
   "source": [
    "ferg_latlon_n <- fergcols_latlon2 %>%\n",
    "                    dplyr::select(one_of(c(\"City_code\", \"lon\", \"lat\", \"yday\", \"ID\"))) %>%\n",
    "                                       mutate(tday = (yday - min(yday) + 1)) %>%\n",
    "                                        group_by(City_code, tday) %>% \n",
    "                                                 dplyr::summarise(n = n(),\n",
    "                                                                 lon = mean(lon),\n",
    "                                                                 lat = mean(lat)) %>%\n",
    "                                                dplyr::rename(count = n, time = tday, \n",
    "                                                              location = City_code) %>%\n",
    "                                                    as.data.frame()"
   ]
  },
  {
   "cell_type": "markdown",
   "metadata": {},
   "source": [
    "write.csv(ferg_latlon_n, \"C:\\\\MathLabASUS\\\\Courses\\\\Ryerson\\\\Project\\\\Data\\\\Files\\\\Features_Demo\\\\ferg_latlon_n.csv\")"
   ]
  },
  {
   "cell_type": "markdown",
   "metadata": {},
   "source": [
    "ferg_latlon_n <- read.csv(\"C:\\\\MathLabASUS\\\\Courses\\\\Ryerson\\\\Project\\\\Data\\\\Files\\\\Features_Demo\\\\ferg_latlon_n.csv\")"
   ]
  },
  {
   "cell_type": "markdown",
   "metadata": {},
   "source": [
    "ferg_latlon_n$X <- NULL"
   ]
  },
  {
   "cell_type": "code",
   "execution_count": null,
   "metadata": {},
   "outputs": [],
   "source": [
    "##### Plot spatial locations of tweets"
   ]
  },
  {
   "cell_type": "code",
   "execution_count": null,
   "metadata": {},
   "outputs": [],
   "source": [
    "##### Remove any dupilcate locations"
   ]
  },
  {
   "cell_type": "code",
   "execution_count": 85,
   "metadata": {
    "scrolled": true
   },
   "outputs": [],
   "source": [
    "latlon <- subset(ferg_latlon_n, !duplicated(ferg_latlon_n$location))"
   ]
  },
  {
   "cell_type": "code",
   "execution_count": null,
   "metadata": {},
   "outputs": [],
   "source": [
    "###### Load the usstates_placetype file to get populations (2015) for cities in ferg_latlon_n."
   ]
  },
  {
   "cell_type": "code",
   "execution_count": 91,
   "metadata": {},
   "outputs": [],
   "source": [
    "usstates_place <- read.csv(\"../Preprocessing/Files/Demographics/usstates_placetype.csv\", stringsAsFactors = FALSE)"
   ]
  },
  {
   "cell_type": "code",
   "execution_count": 95,
   "metadata": {},
   "outputs": [],
   "source": [
    "usstates_place$X<- NULL\n",
    "usstates_place$X.1 <- NULL"
   ]
  },
  {
   "cell_type": "code",
   "execution_count": 94,
   "metadata": {},
   "outputs": [
    {
     "data": {
      "text/html": [
       "<ol class=list-inline>\n",
       "\t<li>'location'</li>\n",
       "\t<li>'time'</li>\n",
       "\t<li>'count'</li>\n",
       "\t<li>'lon'</li>\n",
       "\t<li>'lat'</li>\n",
       "</ol>\n"
      ],
      "text/latex": [
       "\\begin{enumerate*}\n",
       "\\item 'location'\n",
       "\\item 'time'\n",
       "\\item 'count'\n",
       "\\item 'lon'\n",
       "\\item 'lat'\n",
       "\\end{enumerate*}\n"
      ],
      "text/markdown": [
       "1. 'location'\n",
       "2. 'time'\n",
       "3. 'count'\n",
       "4. 'lon'\n",
       "5. 'lat'\n",
       "\n",
       "\n"
      ],
      "text/plain": [
       "[1] \"location\" \"time\"     \"count\"    \"lon\"      \"lat\"     "
      ]
     },
     "metadata": {},
     "output_type": "display_data"
    }
   ],
   "source": [
    "colnames(ferg_latlon_n)"
   ]
  },
  {
   "cell_type": "code",
   "execution_count": 96,
   "metadata": {},
   "outputs": [],
   "source": [
    "ferg_latlon_pop <- usstates_place %>% dplyr::select(one_of(c(\"Code\", \"State\", \"State_id\", \"City2\",\n",
    "                                                           \"Place_type\", \"City_state\",\n",
    "                                                           \"City_code\", \"Census2010pop\", \n",
    "                                                           \"Popestimate2015\"))) %>%\n",
    "                                        \n",
    "                                    group_by(Code, State, State_id, City2, #Place_type, \n",
    "                                                 City_state, City_code) %>%\n",
    "                                                summarise(avgCensus2010pop \n",
    "                                                          = mean(Census2010pop),\n",
    "                                                            avgPopestimate2015 = \n",
    "                                                          mean(Popestimate2015)) %>%\n",
    "                                        mutate(City_code = gsub(\",\", \"\", toupper(as.character(City_code)))) %>%\n",
    "                                        inner_join(ferg_latlon_n, \n",
    "                                                  by = c(\"City_code\" = \"location\")) %>%\n",
    "                                        dplyr::rename(\"location\" = \"City_code\") %>%\n",
    "                                    #    dplyr::rename(\"count\" = \"count1\") %>%\n",
    "                                        as.data.frame()"
   ]
  },
  {
   "cell_type": "code",
   "execution_count": 97,
   "metadata": {},
   "outputs": [],
   "source": [
    "ferg_latlon_pop$rownum <- seq(1, nrow(ferg_latlon_pop), 1)"
   ]
  },
  {
   "cell_type": "code",
   "execution_count": 98,
   "metadata": {},
   "outputs": [],
   "source": [
    "tweets_latlon <- ferg_latlon_pop %>% dplyr::select(everything()) %>%\n",
    "            group_by(location, lon, lat) %>%\n",
    "            summarise(num_tweets = sum(count)) %>%\n",
    "            arrange(desc(num_tweets)) %>%\n",
    "            as.data.frame()"
   ]
  },
  {
   "cell_type": "code",
   "execution_count": 100,
   "metadata": {},
   "outputs": [
    {
     "data": {},
     "metadata": {},
     "output_type": "display_data"
    },
    {
     "data": {
      "image/png": "[encoded data removed]",
      "text/plain": [
       "plot without title"
      ]
     },
     "metadata": {},
     "output_type": "display_data"
    }
   ],
   "source": [
    "ggplot(aes(y=lat, x=lon), data = tweets_latlon) +\n",
    "    geom_point(aes(size = num_tweets), alpha = 0.2, color = \"blue\") +\n",
    "    labs(title = \"Spatial tweets are located across the enire USA. \\n\n",
    "Some location shave in excess of 10,000 tweets\", xlab = \"longitude\", ylab = \"latitude\") +\n",
    "    plot.format"
   ]
  },
  {
   "cell_type": "code",
   "execution_count": 49,
   "metadata": {},
   "outputs": [
    {
     "data": {
      "image/png": "[encoded data removed]",
      "text/plain": [
       "plot without title"
      ]
     },
     "metadata": {},
     "output_type": "display_data"
    }
   ],
   "source": [
    "p1 <- ggplot(aes(y=lat, x=lon), data = subset(tweets_latlon, num_tweets > 1000)) +\n",
    "    geom_point(aes(size = num_tweets), alpha = 0.2, color = \"blue\") +\n",
    "    labs(title = \"More than 10,000 tweets\", xlab = \"longitude\", ylab = \"latitude\") +\n",
    "    plot.format\n",
    "\n",
    "p2 <- ggplot(aes(y=lat, x=lon), data = subset(tweets_latlon, num_tweets < 1000)) +\n",
    "    geom_point(aes(size = num_tweets), alpha = 0.2, color = \"red\") +\n",
    "    labs(title = \"Less than 1000 tweets\", xlab = \"longitude\", ylab = \"latitude\") +\n",
    "    plot.format\n",
    "\n",
    "grid.arrange(p1, p2, ncol = 1, top=\"Relationship betwen tweet activity and locations across the USA\\n100 locations have more than 10000 tweets\")"
   ]
  },
  {
   "cell_type": "markdown",
   "metadata": {},
   "source": [
    "write.csv(ferg_latlon_pop, \"C:\\\\MathLabASUS\\\\Courses\\\\Ryerson\\\\Project\\\\Data\\\\Files\\\\Features_Demo\\\\ferg_latlon_pop.csv\")"
   ]
  }
 ],
 "metadata": {
  "kernelspec": {
   "display_name": "R",
   "language": "R",
   "name": "ir"
  },
  "language_info": {
   "codemirror_mode": "r",
   "file_extension": ".r",
   "mimetype": "text/x-r-source",
   "name": "R",
   "pygments_lexer": "r",
   "version": "3.5.1"
  }
 },
 "nbformat": 4,
 "nbformat_minor": 2
}
