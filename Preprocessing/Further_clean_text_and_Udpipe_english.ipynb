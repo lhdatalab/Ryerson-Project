{
 "cells": [
  {
   "cell_type": "code",
   "execution_count": 1,
   "metadata": {},
   "outputs": [
    {
     "name": "stderr",
     "output_type": "stream",
     "text": [
      "Loading required package: gsubfn\n",
      "Loading required package: proto\n",
      "Loading required package: RSQLite\n",
      "\n",
      "Attaching package: 'dplyr'\n",
      "\n",
      "The following object is masked from 'package:gridExtra':\n",
      "\n",
      "    combine\n",
      "\n",
      "The following objects are masked from 'package:stats':\n",
      "\n",
      "    filter, lag\n",
      "\n",
      "The following objects are masked from 'package:base':\n",
      "\n",
      "    intersect, setdiff, setequal, union\n",
      "\n",
      "\n",
      "Attaching package: 'lubridate'\n",
      "\n",
      "The following object is masked from 'package:base':\n",
      "\n",
      "    date\n",
      "\n",
      "\n",
      "Attaching package: 'GGally'\n",
      "\n",
      "The following object is masked from 'package:dplyr':\n",
      "\n",
      "    nasa\n",
      "\n",
      "Loading required package: lattice\n",
      "Loading required package: MASS\n",
      "\n",
      "Attaching package: 'MASS'\n",
      "\n",
      "The following object is masked from 'package:dplyr':\n",
      "\n",
      "    select\n",
      "\n",
      "\n",
      "Attaching package: 'memisc'\n",
      "\n",
      "The following object is masked from 'package:scales':\n",
      "\n",
      "    percent\n",
      "\n",
      "The following object is masked from 'package:lubridate':\n",
      "\n",
      "    is.interval\n",
      "\n",
      "The following objects are masked from 'package:dplyr':\n",
      "\n",
      "    collect, recode, rename, syms\n",
      "\n",
      "The following object is masked from 'package:ggplot2':\n",
      "\n",
      "    syms\n",
      "\n",
      "The following objects are masked from 'package:stats':\n",
      "\n",
      "    contr.sum, contr.treatment, contrasts\n",
      "\n",
      "The following object is masked from 'package:base':\n",
      "\n",
      "    as.array\n",
      "\n",
      "rgeos version: 0.3-28, (SVN revision 572)\n",
      " GEOS runtime version: 3.6.1-CAPI-1.10.1 r0 \n",
      " Linking to sp version: 1.3-1 \n",
      " Polygon checking: TRUE \n",
      "\n",
      "rgdal: version: 1.3-4, (SVN revision 766)\n",
      " Geospatial Data Abstraction Library extensions to R successfully loaded\n",
      " Loaded GDAL runtime: GDAL 2.2.3, released 2017/11/20\n",
      " Path to GDAL shared files: C:/MathLabASUS/SW/DM/Anaconda2/envs/rconda/Lib/R/library/rgdal/gdal\n",
      " GDAL binary built with GEOS: TRUE \n",
      " Loaded PROJ.4 runtime: Rel. 4.9.3, 15 August 2016, [PJ_VERSION: 493]\n",
      " Path to PROJ.4 shared files: C:/MathLabASUS/SW/DM/Anaconda2/envs/rconda/Lib/R/library/rgdal/proj\n",
      " Linking to sp version: 1.3-1 \n",
      "Checking rgeos availability: TRUE\n",
      "Warning message:\n",
      "\"package 'maps' was built under R version 3.5.3\"\n",
      "Attaching package: 'cluster'\n",
      "\n",
      "The following object is masked from 'package:maps':\n",
      "\n",
      "    votes.repub\n",
      "\n",
      "\n",
      "Attaching package: 'fastcluster'\n",
      "\n",
      "The following object is masked from 'package:stats':\n",
      "\n",
      "    hclust\n",
      "\n",
      "Welcome! Related Books: `Practical Guide To Cluster Analysis in R` at https://goo.gl/13EFCZ\n",
      "Creating a generic function for 'toJSON' from package 'jsonlite' in package 'googleVis'\n",
      "\n",
      "Welcome to googleVis version 0.6.2\n",
      "\n",
      "Please read Google's Terms of Use\n",
      "before you start using the package:\n",
      "https://developers.google.com/terms/\n",
      "\n",
      "Note, the plot method of googleVis will by default use\n",
      "the standard browser to display its output.\n",
      "\n",
      "See the googleVis package vignettes for more details,\n",
      "or visit http://github.com/mages/googleVis.\n",
      "\n",
      "To suppress this message use:\n",
      "suppressPackageStartupMessages(library(googleVis))\n",
      "\n",
      "Loading required package: DBI\n",
      "\n",
      "Attaching package: 'RMySQL'\n",
      "\n",
      "The following object is masked from 'package:RSQLite':\n",
      "\n",
      "    isIdCurrent\n",
      "\n",
      "\n",
      "Attaching package: 'data.table'\n",
      "\n",
      "The following objects are masked from 'package:lubridate':\n",
      "\n",
      "    hour, isoweek, mday, minute, month, quarter, second, wday, week,\n",
      "    yday, year\n",
      "\n",
      "The following objects are masked from 'package:dplyr':\n",
      "\n",
      "    between, first, last\n",
      "\n",
      "\n",
      "Attaching package: 'dbplyr'\n",
      "\n",
      "The following objects are masked from 'package:dplyr':\n",
      "\n",
      "    ident, sql\n",
      "\n",
      "\n",
      "Attaching package: 'httr'\n",
      "\n",
      "The following object is masked from 'package:memisc':\n",
      "\n",
      "    content\n",
      "\n",
      "Loading required package: NLP\n",
      "\n",
      "Attaching package: 'NLP'\n",
      "\n",
      "The following object is masked from 'package:httr':\n",
      "\n",
      "    content\n",
      "\n",
      "The following objects are masked from 'package:memisc':\n",
      "\n",
      "    annotation, content, content<-\n",
      "\n",
      "The following object is masked from 'package:ggplot2':\n",
      "\n",
      "    annotate\n",
      "\n"
     ]
    }
   ],
   "source": [
    "library(knitr)\n",
    "library(sqldf)\n",
    "library(ggplot2)\n",
    "library(mongolite)\n",
    "library(ggplot2)\n",
    "library(gridExtra)\n",
    "library(dplyr)\n",
    "library(tidyr)\n",
    "library(jsonlite)\n",
    "library(lubridate)\n",
    "library(gridExtra)\n",
    "library(GGally)\n",
    "library(scales)\n",
    "library(memisc)\n",
    "library(sp)\n",
    "library(rgeos)\n",
    "library(rgdal)\n",
    "library(maptools)\n",
    "library(RColorBrewer)\n",
    "library(maps)\n",
    "library(grid)\n",
    "library(cluster)\n",
    "#library(StatMatch)\n",
    "library(fastcluster)\n",
    "library(factoextra)\n",
    "library(stringr)\n",
    "library(googleVis)\n",
    "library(RMySQL)\n",
    "library(data.table)\n",
    "library(dbplyr)\n",
    "library(DBI)\n",
    "library(httr)\n",
    "library(tm)\n",
    "library(ldatuning)\n",
    "library(udpipe)\n",
    "library(egg)\n",
    "library(NLP)\n",
    "library(tcltk)"
   ]
  },
  {
   "cell_type": "markdown",
   "metadata": {},
   "source": [
    "Further preprocessing on tweets and creation of English only POS and lemmas via udpipe"
   ]
  },
  {
   "cell_type": "code",
   "execution_count": 2,
   "metadata": {},
   "outputs": [],
   "source": [
    "plot.format <- theme(axis.text = element_text(size = 14), legend.text = element_text(size = 14), legend.title = element_text(size = 14), axis.title = element_text(size = 18), plot.title = element_text(size = 18))"
   ]
  },
  {
   "cell_type": "code",
   "execution_count": 6,
   "metadata": {},
   "outputs": [],
   "source": [
    "ferg_cols_loc_all <- fread(file=\"../Preprocessing/Files/Source/ferg_cols_loc_lexicon_all.csv\", sep =\",\", header = TRUE, \n",
    "              stringsAsFactors=FALSE,\n",
    "             showProgress=getOption(\"datatable.showProgress\", interactive()), data.table=FALSE)"
   ]
  },
  {
   "cell_type": "code",
   "execution_count": 3,
   "metadata": {
    "collapsed": true
   },
   "outputs": [
    {
     "name": "stdout",
     "output_type": "stream",
     "text": [
      "'data.frame':\t3884008 obs. of  34 variables:\n",
      " $ V1                         : int  1 2 3 4 5 6 7 8 9 10 ...\n",
      " $ V1                         : int  1 2 3 4 5 6 7 8 9 10 ...\n",
      " $ rowno                      : num  1 2 3 4 5 6 7 8 9 10 ...\n",
      " $ user.id                    :integer64 1539100118 9439062 63380850 1539100118 9439062 26312359 40652267 296368494 ... \n",
      " $ user.location              : chr  \"Columbus, OH\" \"Atlanta, GA\" \"CaLove\" \"Columbus, OH\" ...\n",
      " $ user.description           : chr  \"Advocate for survivors of sexual violence. Breaker of silence, destroyer of shame.\" \"Husband. Father. Prelate. Human. Company builder, 2 exits. Author @kingonomics. Inclusive ecosystem builder @th\"| __truncated__ \"Jealous Guardian of our Democracy #RIPTrayvonMartin #ImAlwaysWithHer\" \"Advocate for survivors of sexual violence. Breaker of silence, destroyer of shame.\" ...\n",
      " $ created_at                 : chr  \"Sat Aug 09 22:33:06 +0000 2014\" \"Sat Aug 09 22:59:13 +0000 2014\" \"Sat Aug 09 22:00:02 +0000 2014\" \"Sat Aug 09 22:28:42 +0000 2014\" ...\n",
      " $ id                         : num  4.98e+17 4.98e+17 4.98e+17 4.98e+17 4.98e+17 ...\n",
      " $ user.created_at            : chr  \"Sat Jun 22 16:57:40 +0000 2013\" \"Sun Oct 14 15:51:11 +0000 2007\" \"Thu Aug 06 05:19:37 +0000 2009\" \"Sat Jun 22 16:57:40 +0000 2013\" ...\n",
      " $ retweeted                  : logi  FALSE FALSE FALSE FALSE FALSE FALSE ...\n",
      " $ retweeted_count            : logi  NA NA NA NA NA NA ...\n",
      " $ retweet                    : int  0 0 1 0 0 0 0 0 0 1 ...\n",
      " $ retweeted_status.created_at: chr  \"\" \"\" \"Sat Aug 09 20:34:54 +0000 2014\" \"\" ...\n",
      " $ favorited                  : logi  FALSE FALSE FALSE FALSE FALSE FALSE ...\n",
      " $ favorite_count             : int  107 1 0 10 2 0 0 3 6 0 ...\n",
      " $ textnum                    : num  1 2 3 4 5 6 7 8 9 10 ...\n",
      " $ full_text                  : chr  \"Black teenage boys are not men. They are children. Stop referring to a 17 year old as a man. You are killing ch\"| __truncated__ \"@PhaedraParks  While there, please tune in today's killing of the young black male in #Ferguson. #SaveOurBoys\" \"RT @PhenomMusik: @NAACP pictures speak 1000 words! Unarmed teen shot 10 times by #Ferguson police http://t.co/COLJqL4N3h\" \"SICK and TIRED of police killing unarmed people. #ferguson #walmart\" ...\n",
      " $ possibly_sensitive         : logi  NA NA FALSE NA NA FALSE ...\n",
      " $ hashtags                   : logi  NA NA NA NA NA NA ...\n",
      " $ lang                       : chr  \"en\" \"en\" \"en\" \"en\" ...\n",
      " $ user.geo_enabled           : logi  TRUE FALSE TRUE TRUE FALSE TRUE ...\n",
      " $ place.full_name            : chr  \"\" \"\" \"\" \"\" ...\n",
      " $ place.place_type           : chr  \"\" \"\" \"\" \"\" ...\n",
      " $ utc_datetime               : chr  \"2014-08-09T22:33:06Z\" \"2014-08-09T22:59:13Z\" \"2014-08-09T22:00:02Z\" \"2014-08-09T22:28:42Z\" ...\n",
      " $ yday                       : int  221 221 221 221 221 221 221 221 221 221 ...\n",
      " $ ymd                        : chr  \"2014-08-09\" \"2014-08-09\" \"2014-08-09\" \"2014-08-09\" ...\n",
      " $ user_id2                   : int  542673 9237 174942 542673 9237 93300 134846 350432 90689 111314 ...\n",
      " $ user.location2             : chr  \"COLUMBUS OH\" \"ATLANTA GA\" \"CALOVE\" \"COLUMBUS OH\" ...\n",
      " $ City_code                  : chr  \"COLUMBUS OH\" \"ATLANTA GA\" NA \"COLUMBUS OH\" ...\n",
      " $ City_state                 : chr  \"COLUMBUS OHIO\" \"ATLANTA GEORGIA\" NA \"COLUMBUS OHIO\" ...\n",
      " $ City2                      : chr  \"COLUMBUS\" \"ATLANTA\" NA \"COLUMBUS\" ...\n",
      " $ State                      : chr  \"OHIO\" \"GEORGIA\" NA \"OHIO\" ...\n",
      " $ Code                       : chr  \"OH\" \"GA\" NA \"OH\" ...\n",
      " $ n                          : int  3 1 NA 3 1 NA NA NA NA NA ...\n"
     ]
    }
   ],
   "source": [
    "str(ferg_cols_loc_all)"
   ]
  },
  {
   "cell_type": "code",
   "execution_count": 6,
   "metadata": {},
   "outputs": [
    {
     "data": {
      "text/html": [
       "1179062"
      ],
      "text/latex": [
       "1179062"
      ],
      "text/markdown": [
       "1179062"
      ],
      "text/plain": [
       "[1] 1179062"
      ]
     },
     "metadata": {},
     "output_type": "display_data"
    }
   ],
   "source": [
    "NROW(unique(ferg_cols_loc_all$full_text))"
   ]
  },
  {
   "cell_type": "code",
   "execution_count": 7,
   "metadata": {},
   "outputs": [],
   "source": [
    "ferg_cols_loc_all$V1 <- NULL\n",
    "ferg_cols_loc_all$V1 <- NULL"
   ]
  },
  {
   "cell_type": "code",
   "execution_count": 8,
   "metadata": {},
   "outputs": [],
   "source": [
    "ferg_cols_loc_all$full_text_nohash2 <- gsub(\"[\\\\.,:;\\\\?!\\\\\\\\\\\\|\\\\/`=\\\\*\\\\+-^_~\\\\\\\"\\\\\\'\\\\[\\\\]\\\\{\\\\}\\\\(\\\\)<>@$]*\", \" \", ferg_cols_loc_all$full_text_nohash)"
   ]
  },
  {
   "cell_type": "code",
   "execution_count": 9,
   "metadata": {},
   "outputs": [],
   "source": [
    "ferg_cols_loc_all$full_text_nohash2 <- gsub(\"[.|:]\", \" \", ferg_cols_loc_all$full_text_nohash2)"
   ]
  },
  {
   "cell_type": "code",
   "execution_count": 10,
   "metadata": {},
   "outputs": [],
   "source": [
    "ferg_cols_loc_all$full_text_nohash2 <- gsub(\"RT\", \"\", ferg_cols_loc_all$full_text_nohash2)"
   ]
  },
  {
   "cell_type": "code",
   "execution_count": 11,
   "metadata": {},
   "outputs": [],
   "source": [
    "ferg_cols_loc_all$full_text_nohash2 <- gsub(\"\\\\d{1,}\", \" \", ferg_cols_loc_all$full_text_nohash2)"
   ]
  },
  {
   "cell_type": "code",
   "execution_count": 12,
   "metadata": {},
   "outputs": [],
   "source": [
    "ferg_cols_loc_all$full_text_nohash2 <- gsub(\"\\\\s{1,}\", \" \", ferg_cols_loc_all$full_text_nohash2)"
   ]
  },
  {
   "cell_type": "code",
   "execution_count": 13,
   "metadata": {
    "scrolled": true
   },
   "outputs": [],
   "source": [
    "ferg_cols_loc_all$full_text_low <- tolower(ferg_cols_loc_all$full_text_nohash2)"
   ]
  },
  {
   "cell_type": "code",
   "execution_count": null,
   "metadata": {},
   "outputs": [],
   "source": [
    "##### Remove HTML codes"
   ]
  },
  {
   "cell_type": "code",
   "execution_count": 14,
   "metadata": {},
   "outputs": [],
   "source": [
    "ferg_cols_loc_all$full_text_low <- gsub(\"&[a-z0-9]*;\", \"\", ferg_cols_loc_all$full_text_low)"
   ]
  },
  {
   "cell_type": "code",
   "execution_count": 15,
   "metadata": {},
   "outputs": [],
   "source": [
    "ferg_cols_loc_all$full_text_low <- gsub(\"[[:punct:]]\", \"\", ferg_cols_loc_all$full_text_low)"
   ]
  },
  {
   "cell_type": "code",
   "execution_count": null,
   "metadata": {},
   "outputs": [],
   "source": [
    "#### Remove all stopwords"
   ]
  },
  {
   "cell_type": "code",
   "execution_count": 16,
   "metadata": {},
   "outputs": [],
   "source": [
    "stopwords.cust <- tm::stopwords(\"english\")"
   ]
  },
  {
   "cell_type": "code",
   "execution_count": null,
   "metadata": {},
   "outputs": [],
   "source": [
    "##### Remove all stop words except \"not\""
   ]
  },
  {
   "cell_type": "code",
   "execution_count": 17,
   "metadata": {},
   "outputs": [],
   "source": [
    "stopwords.cust <- data.frame(words = stopwords.cust)"
   ]
  },
  {
   "cell_type": "code",
   "execution_count": 18,
   "metadata": {},
   "outputs": [],
   "source": [
    "stopwords.cust2 <- subset(stopwords.cust, words != \"not\")"
   ]
  },
  {
   "cell_type": "code",
   "execution_count": null,
   "metadata": {},
   "outputs": [],
   "source": [
    "### Create corpus"
   ]
  },
  {
   "cell_type": "code",
   "execution_count": 19,
   "metadata": {},
   "outputs": [],
   "source": [
    "corpus.low <- Corpus(VectorSource(ferg_cols_loc_all$full_text_low))"
   ]
  },
  {
   "cell_type": "code",
   "execution_count": 20,
   "metadata": {
    "scrolled": false
   },
   "outputs": [
    {
     "name": "stderr",
     "output_type": "stream",
     "text": [
      "Warning message in tm_map.SimpleCorpus(corpus.low, removeWords, stopwords.cust2$words):\n",
      "\"transformation drops documents\""
     ]
    }
   ],
   "source": [
    "corpus.low <- tm_map(corpus.low, removeWords, stopwords.cust2$words)"
   ]
  },
  {
   "cell_type": "code",
   "execution_count": 22,
   "metadata": {},
   "outputs": [],
   "source": [
    "ferg_cols_loc_all$full_text_low_nostop <- corpus.low$content"
   ]
  },
  {
   "cell_type": "code",
   "execution_count": 23,
   "metadata": {},
   "outputs": [],
   "source": [
    "ferg_cols_loc_all$full_text_low_nostop <- trimws(ferg_cols_loc_all$full_text_low_nostop, which = \"both\")"
   ]
  },
  {
   "cell_type": "code",
   "execution_count": 24,
   "metadata": {},
   "outputs": [],
   "source": [
    "ferg_cols_loc_all$full_text_low_nostop <- gsub(\"\\\\s{1,}\", \" \", ferg_cols_loc_all$full_text_low_nostop)"
   ]
  },
  {
   "cell_type": "code",
   "execution_count": 25,
   "metadata": {
    "scrolled": false
   },
   "outputs": [
    {
     "data": {
      "text/html": [
       "<ol class=list-inline>\n",
       "\t<li>'black teenage boys not men children stop referring year old man killing children'</li>\n",
       "\t<li>'please tune todays killing young black male'</li>\n",
       "\t<li>'pictures speak words unarmed teen shot times police'</li>\n",
       "\t<li>'sick tired police killing unarmed people'</li>\n",
       "\t<li>'well go'</li>\n",
       "\t<li>'damn shame coulda son condolences family'</li>\n",
       "</ol>\n"
      ],
      "text/latex": [
       "\\begin{enumerate*}\n",
       "\\item 'black teenage boys not men children stop referring year old man killing children'\n",
       "\\item 'please tune todays killing young black male'\n",
       "\\item 'pictures speak words unarmed teen shot times police'\n",
       "\\item 'sick tired police killing unarmed people'\n",
       "\\item 'well go'\n",
       "\\item 'damn shame coulda son condolences family'\n",
       "\\end{enumerate*}\n"
      ],
      "text/markdown": [
       "1. 'black teenage boys not men children stop referring year old man killing children'\n",
       "2. 'please tune todays killing young black male'\n",
       "3. 'pictures speak words unarmed teen shot times police'\n",
       "4. 'sick tired police killing unarmed people'\n",
       "5. 'well go'\n",
       "6. 'damn shame coulda son condolences family'\n",
       "\n",
       "\n"
      ],
      "text/plain": [
       "[1] \"black teenage boys not men children stop referring year old man killing children\"\n",
       "[2] \"please tune todays killing young black male\"                                     \n",
       "[3] \"pictures speak words unarmed teen shot times police\"                             \n",
       "[4] \"sick tired police killing unarmed people\"                                        \n",
       "[5] \"well go\"                                                                         \n",
       "[6] \"damn shame coulda son condolences family\"                                        "
      ]
     },
     "metadata": {},
     "output_type": "display_data"
    }
   ],
   "source": [
    "head(ferg_cols_loc_all$full_text_low_nostop)"
   ]
  },
  {
   "cell_type": "code",
   "execution_count": null,
   "metadata": {},
   "outputs": [],
   "source": [
    "#### Check if punctuation remains"
   ]
  },
  {
   "cell_type": "code",
   "execution_count": 26,
   "metadata": {
    "scrolled": true
   },
   "outputs": [
    {
     "data": {
      "text/html": [
       "0"
      ],
      "text/latex": [
       "0"
      ],
      "text/markdown": [
       "0"
      ],
      "text/plain": [
       "[1] 0"
      ]
     },
     "metadata": {},
     "output_type": "display_data"
    }
   ],
   "source": [
    "nrow(subset(ferg_cols_loc_all, str_detect(ferg_cols_loc_all$full_text_low, \"[[:punct:]]\")))"
   ]
  },
  {
   "cell_type": "code",
   "execution_count": null,
   "metadata": {},
   "outputs": [],
   "source": [
    "### Placeholder to write modified text columns"
   ]
  },
  {
   "cell_type": "markdown",
   "metadata": {
    "scrolled": true
   },
   "source": [
    "write.csv(ferg_cols_loc_all, \"C:\\\\MathLabASUS\\\\Courses\\\\Ryerson\\\\Project\\\\Data\\\\Files\\\\Lexicon\\\\full_text_all.csv\")"
   ]
  },
  {
   "cell_type": "code",
   "execution_count": 27,
   "metadata": {
    "scrolled": false
   },
   "outputs": [
    {
     "data": {
      "text/html": [
       "3884008"
      ],
      "text/latex": [
       "3884008"
      ],
      "text/markdown": [
       "3884008"
      ],
      "text/plain": [
       "[1] 3884008"
      ]
     },
     "metadata": {},
     "output_type": "display_data"
    }
   ],
   "source": [
    "nrow(ferg_cols_loc_all)"
   ]
  },
  {
   "cell_type": "code",
   "execution_count": 28,
   "metadata": {},
   "outputs": [],
   "source": [
    "full_text_en <- subset(ferg_cols_loc_all, lang == \"en\")"
   ]
  },
  {
   "cell_type": "code",
   "execution_count": 29,
   "metadata": {},
   "outputs": [],
   "source": [
    "write.csv(full_text_en, \"../Preprocessing/Files/Lexicon/full_text_en.csv\")"
   ]
  },
  {
   "cell_type": "code",
   "execution_count": 31,
   "metadata": {
    "collapsed": true
   },
   "outputs": [
    {
     "name": "stdout",
     "output_type": "stream",
     "text": [
      "'data.frame':\t3760412 obs. of  40 variables:\n",
      " $ rowno                      : num  1 2 3 4 5 6 7 8 9 10 ...\n",
      " $ user.id                    :integer64 1539100118 9439062 63380850 1539100118 9439062 26312359 40652267 296368494 ... \n",
      " $ user.location              : chr  \"Columbus, OH\" \"Atlanta, GA\" \"CaLove\" \"Columbus, OH\" ...\n",
      " $ user.description           : chr  \"Advocate for survivors of sexual violence. Breaker of silence, destroyer of shame.\" \"Husband. Father. Prelate. Human. Company builder, 2 exits. Author @kingonomics. Inclusive ecosystem builder @th\"| __truncated__ \"Jealous Guardian of our Democracy #RIPTrayvonMartin #ImAlwaysWithHer\" \"Advocate for survivors of sexual violence. Breaker of silence, destroyer of shame.\" ...\n",
      " $ created_at                 : chr  \"Sat Aug 09 22:33:06 +0000 2014\" \"Sat Aug 09 22:59:13 +0000 2014\" \"Sat Aug 09 22:00:02 +0000 2014\" \"Sat Aug 09 22:28:42 +0000 2014\" ...\n",
      " $ id                         : num  4.98e+17 4.98e+17 4.98e+17 4.98e+17 4.98e+17 ...\n",
      " $ user.created_at            : chr  \"Sat Jun 22 16:57:40 +0000 2013\" \"Sun Oct 14 15:51:11 +0000 2007\" \"Thu Aug 06 05:19:37 +0000 2009\" \"Sat Jun 22 16:57:40 +0000 2013\" ...\n",
      " $ retweeted                  : logi  FALSE FALSE FALSE FALSE FALSE FALSE ...\n",
      " $ retweeted_count            : logi  NA NA NA NA NA NA ...\n",
      " $ retweet                    : int  0 0 1 0 0 0 0 0 0 1 ...\n",
      " $ retweeted_status.created_at: chr  \"\" \"\" \"Sat Aug 09 20:34:54 +0000 2014\" \"\" ...\n",
      " $ favorited                  : logi  FALSE FALSE FALSE FALSE FALSE FALSE ...\n",
      " $ favorite_count             : int  107 1 0 10 2 0 0 3 6 0 ...\n",
      " $ textnum                    : num  1 2 3 4 5 6 7 8 9 10 ...\n",
      " $ full_text                  : chr  \"Black teenage boys are not men. They are children. Stop referring to a 17 year old as a man. You are killing ch\"| __truncated__ \"@PhaedraParks  While there, please tune in today's killing of the young black male in #Ferguson. #SaveOurBoys\" \"RT @PhenomMusik: @NAACP pictures speak 1000 words! Unarmed teen shot 10 times by #Ferguson police http://t.co/COLJqL4N3h\" \"SICK and TIRED of police killing unarmed people. #ferguson #walmart\" ...\n",
      " $ possibly_sensitive         : logi  NA NA FALSE NA NA FALSE ...\n",
      " $ hashtags                   : chr  \"ferguson\" \"c(\\\"\\\"Ferguson\\\"\\\" \\\"\\\"SaveOurBoys\\\"\\\")\" \"Ferguson\" \"c(\\\"\\\"ferguson\\\"\\\" \\\"\\\"walmart\\\"\\\")\" ...\n",
      " $ lang                       : chr  \"en\" \"en\" \"en\" \"en\" ...\n",
      " $ user.geo_enabled           : logi  TRUE FALSE TRUE TRUE FALSE TRUE ...\n",
      " $ place.full_name            : chr  \"\" \"\" \"\" \"\" ...\n",
      " $ place.place_type           : chr  \"\" \"\" \"\" \"\" ...\n",
      " $ utc_datetime               : chr  \"2014-08-09T22:33:06Z\" \"2014-08-09T22:59:13Z\" \"2014-08-09T22:00:02Z\" \"2014-08-09T22:28:42Z\" ...\n",
      " $ yday                       : int  221 221 221 221 221 221 221 221 221 221 ...\n",
      " $ ymd                        : chr  \"2014-08-09\" \"2014-08-09\" \"2014-08-09\" \"2014-08-09\" ...\n",
      " $ user_id2                   : int  542673 9237 174942 542673 9237 93300 134846 350432 90689 111314 ...\n",
      " $ user.location2             : chr  \"COLUMBUS OH\" \"ATLANTA GA\" \"CALOVE\" \"COLUMBUS OH\" ...\n",
      " $ City_code                  : chr  \"COLUMBUS OH\" \"ATLANTA GA\" NA \"COLUMBUS OH\" ...\n",
      " $ City_state                 : chr  \"COLUMBUS OHIO\" \"ATLANTA GEORGIA\" NA \"COLUMBUS OHIO\" ...\n",
      " $ City2                      : chr  \"COLUMBUS\" \"ATLANTA\" NA \"COLUMBUS\" ...\n",
      " $ State                      : chr  \"OHIO\" \"GEORGIA\" NA \"OHIO\" ...\n",
      " $ Code                       : chr  \"OH\" \"GA\" NA \"OH\" ...\n",
      " $ n                          : int  3 1 NA 3 1 NA NA NA NA NA ...\n",
      " $ keyword_pos_hash           : chr  \"c(120, 128)\" \"c(87, 98, 96, 109)\" \"c(82, 90)\" \"c(50, 60, 58, 67)\" ...\n",
      " $ keyword_count_hash         : int  1 2 1 2 1 2 1 2 2 1 ...\n",
      " $ full_text2                 : chr  \"Black teenage boys are not men. They are children. Stop referring to a 17 year old as a man. You are killing ch\"| __truncated__ \"While there, please tune in today's killing of the young black male in #Ferguson. #SaveOurBoys\" \"pictures speak 1000 words! Unarmed teen shot 10 times by #Ferguson police\" \"SICK and TIRED of police killing unarmed people. #ferguson #walmart\" ...\n",
      " $ full_text_nohash           : chr  \"Black teenage boys are not men. They are children. Stop referring to a 17 year old as a man. You are killing children.  \" \" While there, please tune in today's killing of the young black male in  .  \" \"RT : pictures speak 1000 words! Unarmed teen shot 10 times by   police \" \"SICK and TIRED of police killing unarmed people.    \" ...\n",
      " $ tweet_type                 : chr  \"All\" \"SB\" \"RT\" \"All\" ...\n",
      " $ full_text_nohash2          : chr  \"Black teenage boys are not men They are children Stop referring to a year old as a man You are killing children \" \" While there, please tune in today's killing of the young black male in \" \" pictures speak words! Unarmed teen shot times by police \" \"SICK and TIRED of police killing unarmed people \" ...\n",
      " $ full_text_low              : chr  \"black teenage boys are not men they are children stop referring to a year old as a man you are killing children \" \" while there please tune in todays killing of the young black male in \" \" pictures speak words unarmed teen shot times by police \" \"sick and tired of police killing unarmed people \" ...\n",
      " $ full_text_low_nostop       : chr  \"black teenage boys not men children stop referring year old man killing children\" \"please tune todays killing young black male\" \"pictures speak words unarmed teen shot times police\" \"sick tired police killing unarmed people\" ...\n"
     ]
    }
   ],
   "source": [
    "str(full_text_en)"
   ]
  },
  {
   "cell_type": "code",
   "execution_count": 100,
   "metadata": {},
   "outputs": [
    {
     "data": {
      "text/html": [
       "850179"
      ],
      "text/latex": [
       "850179"
      ],
      "text/markdown": [
       "850179"
      ],
      "text/plain": [
       "[1] 850179"
      ]
     },
     "metadata": {},
     "output_type": "display_data"
    }
   ],
   "source": [
    "unique(full_text_en$full_text_low_nostop)"
   ]
  },
  {
   "cell_type": "code",
   "execution_count": null,
   "metadata": {},
   "outputs": [],
   "source": [
    "### Placeholder to annotate text via udpipe - creates POS and lemmas etc. English text only"
   ]
  },
  {
   "cell_type": "markdown",
   "metadata": {
    "scrolled": true
   },
   "source": [
    "#create_udp_model <- udpipe_download_model(language = \"english\", \n",
    "                                       #   model_dir = \"C:\\\\MathLabASUS\\\\Courses\\\\Ryerson\\\\Project\\\\Data\\\\Topics\")\n",
    "create_udp_model <- udpipe_load_model(\"../Preprocessing/Files/Lexicon/english-ud-2.0-170801.udpipe\")"
   ]
  },
  {
   "cell_type": "markdown",
   "metadata": {},
   "source": [
    "full_text_unq <- unique(full_text_en$full_text_low_nostop)"
   ]
  },
  {
   "cell_type": "markdown",
   "metadata": {},
   "source": [
    "docs.udp.en <- udpipe_annotate(create_udp_model, x = full_text_unq)"
   ]
  },
  {
   "cell_type": "markdown",
   "metadata": {},
   "source": [
    "docs.udp.en <- as.data.frame(docs.udp.en)"
   ]
  },
  {
   "cell_type": "markdown",
   "metadata": {},
   "source": [
    "write.csv(docs.udp.en, \"C:\\\\MathLabASUS\\\\Courses\\\\Ryerson\\\\Project\\\\Data\\\\Files\\\\Lexicon\\\\docs_udp_en.csv\")"
   ]
  },
  {
   "cell_type": "code",
   "execution_count": null,
   "metadata": {},
   "outputs": [],
   "source": [
    "#### End of udpipe placeholder"
   ]
  },
  {
   "cell_type": "code",
   "execution_count": null,
   "metadata": {},
   "outputs": [],
   "source": [
    "### Read in file create by udpipe"
   ]
  },
  {
   "cell_type": "code",
   "execution_count": 32,
   "metadata": {},
   "outputs": [],
   "source": [
    "docs.udp.en <- read.csv(\"C:\\\\MathLabASUS\\\\Courses\\\\Ryerson\\\\Project\\\\Data\\\\Files\\\\Lexicon\\\\docs_udp_en.csv\", stringsAsFactors = FALSE)"
   ]
  },
  {
   "cell_type": "code",
   "execution_count": 34,
   "metadata": {},
   "outputs": [
    {
     "data": {
      "text/html": [
       "7607581"
      ],
      "text/latex": [
       "7607581"
      ],
      "text/markdown": [
       "7607581"
      ],
      "text/plain": [
       "[1] 7607581"
      ]
     },
     "metadata": {},
     "output_type": "display_data"
    }
   ],
   "source": [
    "nrow(docs.udp.en)"
   ]
  },
  {
   "cell_type": "code",
   "execution_count": 35,
   "metadata": {},
   "outputs": [],
   "source": [
    "docs.udp.en.lem <- docs.udp.en %>% group_by(doc_id, paragraph_id, sentence_id) %>%\n",
    "                                mutate(text = str_c(lemma, collapse = \" \")) %>%\n",
    "                                as.data.frame()"
   ]
  },
  {
   "cell_type": "code",
   "execution_count": 37,
   "metadata": {
    "collapsed": true
   },
   "outputs": [
    {
     "name": "stdout",
     "output_type": "stream",
     "text": [
      "'data.frame':\t7607581 obs. of  16 variables:\n",
      " $ X            : int  1 2 3 4 5 6 7 8 9 10 ...\n",
      " $ doc_id       : chr  \"doc1\" \"doc1\" \"doc1\" \"doc1\" ...\n",
      " $ paragraph_id : int  1 1 1 1 1 1 1 1 1 1 ...\n",
      " $ sentence_id  : int  1 1 1 1 1 1 1 1 1 1 ...\n",
      " $ sentence     : chr  \"black teenage boys not men children stop referring year old man killing children\" \"black teenage boys not men children stop referring year old man killing children\" \"black teenage boys not men children stop referring year old man killing children\" \"black teenage boys not men children stop referring year old man killing children\" ...\n",
      " $ token_id     : int  1 2 3 4 5 6 7 8 9 10 ...\n",
      " $ token        : chr  \"black\" \"teenage\" \"boys\" \"not\" ...\n",
      " $ lemma        : chr  \"black\" \"teenage\" \"boy\" \"not\" ...\n",
      " $ upos         : chr  \"ADJ\" \"NOUN\" \"NOUN\" \"PART\" ...\n",
      " $ xpos         : chr  \"JJ\" \"NN\" \"NNS\" \"RB\" ...\n",
      " $ feats        : chr  \"Degree=Pos\" \"Number=Sing\" \"Number=Plur\" NA ...\n",
      " $ head_token_id: int  2 5 5 5 6 7 0 7 10 11 ...\n",
      " $ dep_rel      : chr  \"amod\" \"compound\" \"compound\" \"advmod\" ...\n",
      " $ deps         : logi  NA NA NA NA NA NA ...\n",
      " $ misc         : chr  NA NA NA NA ...\n",
      " $ text         : chr  \"black teenage boy not men child stop refer year old man kill child\" \"black teenage boy not men child stop refer year old man kill child\" \"black teenage boy not men child stop refer year old man kill child\" \"black teenage boy not men child stop refer year old man kill child\" ...\n"
     ]
    }
   ],
   "source": [
    "str(docs.udp.en.lem)"
   ]
  },
  {
   "cell_type": "markdown",
   "metadata": {},
   "source": [
    "write.csv(docs.udp.en.lem, \"C:\\\\MathLabASUS\\\\Courses\\\\Ryerson\\\\Project\\\\Data\\\\Files\\\\Lexicon\\\\docs_udp_en_lem.csv\")"
   ]
  },
  {
   "cell_type": "markdown",
   "metadata": {},
   "source": [
    "docs.udp.en.lem <- read.csv(\"../Preprocessing/Files/Lexicon/docs_udp_en_lem.csv\")"
   ]
  },
  {
   "cell_type": "markdown",
   "metadata": {},
   "source": [
    "docs.udp.en.lem$X <- NULL"
   ]
  }
 ],
 "metadata": {
  "kernelspec": {
   "display_name": "R",
   "language": "R",
   "name": "ir"
  },
  "language_info": {
   "codemirror_mode": "r",
   "file_extension": ".r",
   "mimetype": "text/x-r-source",
   "name": "R",
   "pygments_lexer": "r",
   "version": "3.5.1"
  }
 },
 "nbformat": 4,
 "nbformat_minor": 2
}
