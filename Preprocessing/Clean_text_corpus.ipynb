{
 "cells": [
  {
   "cell_type": "code",
   "execution_count": 2,
   "metadata": {},
   "outputs": [
    {
     "name": "stderr",
     "output_type": "stream",
     "text": [
      "Loading required package: gsubfn\n",
      "Loading required package: proto\n",
      "Loading required package: RSQLite\n",
      "\n",
      "Attaching package: 'dplyr'\n",
      "\n",
      "The following object is masked from 'package:gridExtra':\n",
      "\n",
      "    combine\n",
      "\n",
      "The following objects are masked from 'package:stats':\n",
      "\n",
      "    filter, lag\n",
      "\n",
      "The following objects are masked from 'package:base':\n",
      "\n",
      "    intersect, setdiff, setequal, union\n",
      "\n",
      "\n",
      "Attaching package: 'lubridate'\n",
      "\n",
      "The following object is masked from 'package:base':\n",
      "\n",
      "    date\n",
      "\n",
      "\n",
      "Attaching package: 'GGally'\n",
      "\n",
      "The following object is masked from 'package:dplyr':\n",
      "\n",
      "    nasa\n",
      "\n",
      "Loading required package: lattice\n",
      "Loading required package: MASS\n",
      "\n",
      "Attaching package: 'MASS'\n",
      "\n",
      "The following object is masked from 'package:dplyr':\n",
      "\n",
      "    select\n",
      "\n",
      "\n",
      "Attaching package: 'memisc'\n",
      "\n",
      "The following object is masked from 'package:scales':\n",
      "\n",
      "    percent\n",
      "\n",
      "The following object is masked from 'package:lubridate':\n",
      "\n",
      "    is.interval\n",
      "\n",
      "The following objects are masked from 'package:dplyr':\n",
      "\n",
      "    collect, recode, rename, syms\n",
      "\n",
      "The following object is masked from 'package:ggplot2':\n",
      "\n",
      "    syms\n",
      "\n",
      "The following objects are masked from 'package:stats':\n",
      "\n",
      "    contr.sum, contr.treatment, contrasts\n",
      "\n",
      "The following object is masked from 'package:base':\n",
      "\n",
      "    as.array\n",
      "\n",
      "rgeos version: 0.3-28, (SVN revision 572)\n",
      " GEOS runtime version: 3.6.1-CAPI-1.10.1 r0 \n",
      " Linking to sp version: 1.3-1 \n",
      " Polygon checking: TRUE \n",
      "\n",
      "rgdal: version: 1.3-4, (SVN revision 766)\n",
      " Geospatial Data Abstraction Library extensions to R successfully loaded\n",
      " Loaded GDAL runtime: GDAL 2.2.3, released 2017/11/20\n",
      " Path to GDAL shared files: C:/MathLabASUS/SW/DM/Anaconda2/envs/rconda/Lib/R/library/rgdal/gdal\n",
      " GDAL binary built with GEOS: TRUE \n",
      " Loaded PROJ.4 runtime: Rel. 4.9.3, 15 August 2016, [PJ_VERSION: 493]\n",
      " Path to PROJ.4 shared files: C:/MathLabASUS/SW/DM/Anaconda2/envs/rconda/Lib/R/library/rgdal/proj\n",
      " Linking to sp version: 1.3-1 \n",
      "Checking rgeos availability: TRUE\n",
      "Warning message:\n",
      "\"package 'maps' was built under R version 3.5.3\"\n",
      "Attaching package: 'cluster'\n",
      "\n",
      "The following object is masked from 'package:maps':\n",
      "\n",
      "    votes.repub\n",
      "\n",
      "Loading required package: proxy\n",
      "\n",
      "Attaching package: 'proxy'\n",
      "\n",
      "The following objects are masked from 'package:stats':\n",
      "\n",
      "    as.dist, dist\n",
      "\n",
      "The following object is masked from 'package:base':\n",
      "\n",
      "    as.matrix\n",
      "\n",
      "Loading required package: clue\n",
      "Warning message:\n",
      "\"package 'clue' was built under R version 3.5.2\"Loading required package: survey\n",
      "Loading required package: Matrix\n",
      "\n",
      "Attaching package: 'Matrix'\n",
      "\n",
      "The following object is masked from 'package:tidyr':\n",
      "\n",
      "    expand\n",
      "\n",
      "Loading required package: survival\n",
      "\n",
      "Attaching package: 'survey'\n",
      "\n",
      "The following object is masked from 'package:graphics':\n",
      "\n",
      "    dotchart\n",
      "\n",
      "Loading required package: RANN\n",
      "Loading required package: lpSolve\n",
      "\n",
      "Attaching package: 'fastcluster'\n",
      "\n",
      "The following object is masked from 'package:stats':\n",
      "\n",
      "    hclust\n",
      "\n",
      "Welcome! Related Books: `Practical Guide To Cluster Analysis in R` at https://goo.gl/13EFCZ\n",
      "Creating a generic function for 'toJSON' from package 'jsonlite' in package 'googleVis'\n",
      "\n",
      "Welcome to googleVis version 0.6.2\n",
      "\n",
      "Please read Google's Terms of Use\n",
      "before you start using the package:\n",
      "https://developers.google.com/terms/\n",
      "\n",
      "Note, the plot method of googleVis will by default use\n",
      "the standard browser to display its output.\n",
      "\n",
      "See the googleVis package vignettes for more details,\n",
      "or visit http://github.com/mages/googleVis.\n",
      "\n",
      "To suppress this message use:\n",
      "suppressPackageStartupMessages(library(googleVis))\n",
      "\n",
      "Loading required package: DBI\n",
      "\n",
      "Attaching package: 'RMySQL'\n",
      "\n",
      "The following object is masked from 'package:RSQLite':\n",
      "\n",
      "    isIdCurrent\n",
      "\n",
      "\n",
      "Attaching package: 'data.table'\n",
      "\n",
      "The following objects are masked from 'package:lubridate':\n",
      "\n",
      "    hour, isoweek, mday, minute, month, quarter, second, wday, week,\n",
      "    yday, year\n",
      "\n",
      "The following objects are masked from 'package:dplyr':\n",
      "\n",
      "    between, first, last\n",
      "\n",
      "\n",
      "Attaching package: 'dbplyr'\n",
      "\n",
      "The following objects are masked from 'package:dplyr':\n",
      "\n",
      "    ident, sql\n",
      "\n",
      "\n",
      "Attaching package: 'httr'\n",
      "\n",
      "The following object is masked from 'package:memisc':\n",
      "\n",
      "    content\n",
      "\n",
      "Loading required package: NLP\n",
      "\n",
      "Attaching package: 'NLP'\n",
      "\n",
      "The following object is masked from 'package:httr':\n",
      "\n",
      "    content\n",
      "\n",
      "The following objects are masked from 'package:memisc':\n",
      "\n",
      "    annotation, content, content<-\n",
      "\n",
      "The following object is masked from 'package:ggplot2':\n",
      "\n",
      "    annotate\n",
      "\n"
     ]
    }
   ],
   "source": [
    "library(knitr)\n",
    "library(sqldf)\n",
    "library(ggplot2)\n",
    "library(mongolite)\n",
    "library(ggplot2)\n",
    "library(gridExtra)\n",
    "library(dplyr)\n",
    "library(tidyr)\n",
    "library(jsonlite)\n",
    "library(lubridate)\n",
    "library(gridExtra)\n",
    "library(GGally)\n",
    "library(scales)\n",
    "library(memisc)\n",
    " library(sp)\n",
    "library(rgeos)\n",
    "library(rgdal)\n",
    "library(maptools)\n",
    "library(RColorBrewer)\n",
    "library(maps)\n",
    "library(grid)\n",
    "library(cluster)\n",
    "library(StatMatch)\n",
    "library(fastcluster)\n",
    "library(factoextra)\n",
    "library(stringr)\n",
    "library(googleVis)\n",
    "library(RMySQL)\n",
    "library(data.table)\n",
    "library(dbplyr)\n",
    "library(DBI)\n",
    "library(httr)\n",
    "library(ldatuning)\n",
    "library(udpipe)\n",
    "library(egg)\n",
    "library(tm)\n",
    "library(tidytext)"
   ]
  },
  {
   "cell_type": "code",
   "execution_count": null,
   "metadata": {},
   "outputs": [],
   "source": [
    "#### Some examples of cleaning the twitter text"
   ]
  },
  {
   "cell_type": "code",
   "execution_count": 3,
   "metadata": {},
   "outputs": [],
   "source": [
    "ferg_cols_loc <- fread(file=\"../Preprocessing/Files/Source/ferg_cols_location.csv\", sep =\",\", header = TRUE, \n",
    "              stringsAsFactors=FALSE,\n",
    "             showProgress=getOption(\"datatable.showProgress\", interactive()), data.table=FALSE)"
   ]
  },
  {
   "cell_type": "markdown",
   "metadata": {},
   "source": [
    "write.csv(ferg_cols_loc, \"C:\\\\MathLabASUS\\\\Courses\\\\Ryerson\\\\Project\\\\Data\\\\Files\\\\Source\\\\ferg_cols_location.csv\")"
   ]
  },
  {
   "cell_type": "code",
   "execution_count": 7,
   "metadata": {
    "collapsed": true
   },
   "outputs": [
    {
     "name": "stdout",
     "output_type": "stream",
     "text": [
      "'data.frame':\t3884008 obs. of  32 variables:\n",
      " $ rowno                      : num  1 2 3 4 5 6 7 8 9 10 ...\n",
      " $ user.id                    :integer64 1539100118 9439062 63380850 1539100118 9439062 26312359 40652267 296368494 ... \n",
      " $ user.location              : chr  \"Columbus, OH\" \"Atlanta, GA\" \"CaLove\" \"Columbus, OH\" ...\n",
      " $ user.description           : chr  \"Advocate for survivors of sexual violence. Breaker of silence, destroyer of shame.\" \"Husband. Father. Prelate. Human. Company builder, 2 exits. Author @kingonomics. Inclusive ecosystem builder @th\"| __truncated__ \"Jealous Guardian of our Democracy #RIPTrayvonMartin #ImAlwaysWithHer\" \"Advocate for survivors of sexual violence. Breaker of silence, destroyer of shame.\" ...\n",
      " $ created_at                 : chr  \"Sat Aug 09 22:33:06 +0000 2014\" \"Sat Aug 09 22:59:13 +0000 2014\" \"Sat Aug 09 22:00:02 +0000 2014\" \"Sat Aug 09 22:28:42 +0000 2014\" ...\n",
      " $ id                         : num  4.98e+17 4.98e+17 4.98e+17 4.98e+17 4.98e+17 ...\n",
      " $ user.created_at            : chr  \"Sat Jun 22 16:57:40 +0000 2013\" \"Sun Oct 14 15:51:11 +0000 2007\" \"Thu Aug 06 05:19:37 +0000 2009\" \"Sat Jun 22 16:57:40 +0000 2013\" ...\n",
      " $ retweeted                  : logi  FALSE FALSE FALSE FALSE FALSE FALSE ...\n",
      " $ retweeted_count            : logi  NA NA NA NA NA NA ...\n",
      " $ retweet                    : int  0 0 1 0 0 0 0 0 0 1 ...\n",
      " $ retweeted_status.created_at: chr  \"\" \"\" \"Sat Aug 09 20:34:54 +0000 2014\" \"\" ...\n",
      " $ favorited                  : logi  FALSE FALSE FALSE FALSE FALSE FALSE ...\n",
      " $ favorite_count             : int  107 1 0 10 2 0 0 3 6 0 ...\n",
      " $ textnum                    : num  1 2 3 4 5 6 7 8 9 10 ...\n",
      " $ full_text                  : chr  \"Black teenage boys are not men. They are children. Stop referring to a 17 year old as a man. You are killing ch\"| __truncated__ \"@PhaedraParks  While there, please tune in today's killing of the young black male in #Ferguson. #SaveOurBoys\" \"RT @PhenomMusik: @NAACP pictures speak 1000 words! Unarmed teen shot 10 times by #Ferguson police http://t.co/COLJqL4N3h\" \"SICK and TIRED of police killing unarmed people. #ferguson #walmart\" ...\n",
      " $ possibly_sensitive         : logi  NA NA FALSE NA NA FALSE ...\n",
      " $ hashtags                   : logi  NA NA NA NA NA NA ...\n",
      " $ lang                       : chr  \"en\" \"en\" \"en\" \"en\" ...\n",
      " $ user.geo_enabled           : logi  TRUE FALSE TRUE TRUE FALSE TRUE ...\n",
      " $ place.full_name            : chr  \"\" \"\" \"\" \"\" ...\n",
      " $ place.place_type           : chr  \"\" \"\" \"\" \"\" ...\n",
      " $ utc_datetime               : chr  \"2014-08-09T22:33:06Z\" \"2014-08-09T22:59:13Z\" \"2014-08-09T22:00:02Z\" \"2014-08-09T22:28:42Z\" ...\n",
      " $ yday                       : int  221 221 221 221 221 221 221 221 221 221 ...\n",
      " $ ymd                        : chr  \"2014-08-09\" \"2014-08-09\" \"2014-08-09\" \"2014-08-09\" ...\n",
      " $ user_id2                   : int  542673 9237 174942 542673 9237 93300 134846 350432 90689 111314 ...\n",
      " $ user.location2             : chr  \"COLUMBUS OH\" \"ATLANTA GA\" \"CALOVE\" \"COLUMBUS OH\" ...\n",
      " $ City_code                  : chr  \"COLUMBUS OH\" \"ATLANTA GA\" NA \"COLUMBUS OH\" ...\n",
      " $ City_state                 : chr  \"COLUMBUS OHIO\" \"ATLANTA GEORGIA\" NA \"COLUMBUS OHIO\" ...\n",
      " $ City2                      : chr  \"COLUMBUS\" \"ATLANTA\" NA \"COLUMBUS\" ...\n",
      " $ State                      : chr  \"OHIO\" \"GEORGIA\" NA \"OHIO\" ...\n",
      " $ Code                       : chr  \"OH\" \"GA\" NA \"OH\" ...\n",
      " $ n                          : int  3 1 NA 3 1 NA NA NA NA NA ...\n"
     ]
    }
   ],
   "source": [
    "str(ferg_cols_loc)"
   ]
  },
  {
   "cell_type": "code",
   "execution_count": 6,
   "metadata": {},
   "outputs": [],
   "source": [
    "ferg_cols_loc$V1 <- NULL\n",
    "ferg_cols_loc$V1 <- NULL"
   ]
  },
  {
   "cell_type": "code",
   "execution_count": 4,
   "metadata": {},
   "outputs": [],
   "source": [
    "full_text <- data.frame(full_text = ferg_cols_loc$full_text)"
   ]
  },
  {
   "cell_type": "code",
   "execution_count": 5,
   "metadata": {},
   "outputs": [],
   "source": [
    "ferg_cols_loc$textnum <- seq(1, nrow(ferg_cols_loc), 1) "
   ]
  },
  {
   "cell_type": "code",
   "execution_count": 6,
   "metadata": {},
   "outputs": [
    {
     "data": {
      "text/html": [
       "<ol class=list-inline>\n",
       "\t<li>1</li>\n",
       "\t<li>2</li>\n",
       "\t<li>3</li>\n",
       "\t<li>4</li>\n",
       "\t<li>5</li>\n",
       "\t<li>6</li>\n",
       "</ol>\n"
      ],
      "text/latex": [
       "\\begin{enumerate*}\n",
       "\\item 1\n",
       "\\item 2\n",
       "\\item 3\n",
       "\\item 4\n",
       "\\item 5\n",
       "\\item 6\n",
       "\\end{enumerate*}\n"
      ],
      "text/markdown": [
       "1. 1\n",
       "2. 2\n",
       "3. 3\n",
       "4. 4\n",
       "5. 5\n",
       "6. 6\n",
       "\n",
       "\n"
      ],
      "text/plain": [
       "[1] 1 2 3 4 5 6"
      ]
     },
     "metadata": {},
     "output_type": "display_data"
    }
   ],
   "source": [
    "head(ferg_cols_loc$textnum)"
   ]
  },
  {
   "cell_type": "code",
   "execution_count": 7,
   "metadata": {
    "collapsed": true
   },
   "outputs": [
    {
     "data": {
      "text/html": [
       "<table>\n",
       "<thead><tr><th scope=col>full_text</th><th scope=col>textnum_unq</th></tr></thead>\n",
       "<tbody>\n",
       "\t<tr><td>Black teenage boys are not men. They are children. Stop referring to a 17 year old as a man. You are killing children. #ferguson</td><td>1                                                                                                                               </td></tr>\n",
       "\t<tr><td>@PhaedraParks  While there, please tune in today's killing of the young black male in #Ferguson. #SaveOurBoys                   </td><td>2                                                                                                                               </td></tr>\n",
       "\t<tr><td>RT @PhenomMusik: @NAACP pictures speak 1000 words! Unarmed teen shot 10 times by #Ferguson police http://t.co/COLJqL4N3h        </td><td>3                                                                                                                               </td></tr>\n",
       "\t<tr><td>SICK and TIRED of police killing unarmed people. #ferguson #walmart                                                             </td><td>4                                                                                                                               </td></tr>\n",
       "\t<tr><td>Well, here we go again. #Ferguson                                                                                               </td><td>5                                                                                                                               </td></tr>\n",
       "\t<tr><td>Damn shame... This coulda been my son or yours. Our condolences to the family... #ferguson #policeâ€¦ http://t.co/jpr9daiypl    </td><td>6                                                                                                                               </td></tr>\n",
       "</tbody>\n",
       "</table>\n"
      ],
      "text/latex": [
       "\\begin{tabular}{r|ll}\n",
       " full\\_text & textnum\\_unq\\\\\n",
       "\\hline\n",
       "\t Black teenage boys are not men. They are children. Stop referring to a 17 year old as a man. You are killing children. \\#ferguson & 1                                                                                                                                 \\\\\n",
       "\t @PhaedraParks  While there, please tune in today's killing of the young black male in \\#Ferguson. \\#SaveOurBoys                    & 2                                                                                                                                   \\\\\n",
       "\t RT @PhenomMusik: @NAACP pictures speak 1000 words! Unarmed teen shot 10 times by \\#Ferguson police http://t.co/COLJqL4N3h         & 3                                                                                                                                 \\\\\n",
       "\t SICK and TIRED of police killing unarmed people. \\#ferguson \\#walmart                                                              & 4                                                                                                                                   \\\\\n",
       "\t Well, here we go again. \\#Ferguson                                                                                                & 5                                                                                                                                 \\\\\n",
       "\t Damn shame... This coulda been my son or yours. Our condolences to the family... \\#ferguson \\#policeâ€¦ http://t.co/jpr9daiypl     & 6                                                                                                                                   \\\\\n",
       "\\end{tabular}\n"
      ],
      "text/markdown": [
       "\n",
       "full_text | textnum_unq | \n",
       "|---|---|---|---|---|---|\n",
       "| Black teenage boys are not men. They are children. Stop referring to a 17 year old as a man. You are killing children. #ferguson | 1                                                                                                                                | \n",
       "| @PhaedraParks  While there, please tune in today's killing of the young black male in #Ferguson. #SaveOurBoys                    | 2                                                                                                                                | \n",
       "| RT @PhenomMusik: @NAACP pictures speak 1000 words! Unarmed teen shot 10 times by #Ferguson police http://t.co/COLJqL4N3h         | 3                                                                                                                                | \n",
       "| SICK and TIRED of police killing unarmed people. #ferguson #walmart                                                              | 4                                                                                                                                | \n",
       "| Well, here we go again. #Ferguson                                                                                                | 5                                                                                                                                | \n",
       "| Damn shame... This coulda been my son or yours. Our condolences to the family... #ferguson #policeâ€¦ http://t.co/jpr9daiypl     | 6                                                                                                                                | \n",
       "\n",
       "\n"
      ],
      "text/plain": [
       "  full_text                                                                                                                       \n",
       "1 Black teenage boys are not men. They are children. Stop referring to a 17 year old as a man. You are killing children. #ferguson\n",
       "2 @PhaedraParks  While there, please tune in today's killing of the young black male in #Ferguson. #SaveOurBoys                   \n",
       "3 RT @PhenomMusik: @NAACP pictures speak 1000 words! Unarmed teen shot 10 times by #Ferguson police http://t.co/COLJqL4N3h        \n",
       "4 SICK and TIRED of police killing unarmed people. #ferguson #walmart                                                             \n",
       "5 Well, here we go again. #Ferguson                                                                                               \n",
       "6 Damn shame... This coulda been my son or yours. Our condolences to the family... #ferguson #policeâ\\200¦ http://t.co/jpr9daiypl    \n",
       "  textnum_unq\n",
       "1 1          \n",
       "2 2          \n",
       "3 3          \n",
       "4 4          \n",
       "5 5          \n",
       "6 6          "
      ]
     },
     "metadata": {},
     "output_type": "display_data"
    }
   ],
   "source": [
    "###### Sample number of locationa"
   ]
  },
  {
   "cell_type": "code",
   "execution_count": 80,
   "metadata": {
    "collapsed": true
   },
   "outputs": [
    {
     "name": "stdout",
     "output_type": "stream",
     "text": [
      "'data.frame':\t1553147 obs. of  38 variables:\n",
      " $ V1                         : int  1191549 3795103 1240177 3778994 1534743 3308538 2567906 3237089 2400755 3841048 ...\n",
      " $ rowno                      : num  1191549 1217960 1240177 675679 1534743 ...\n",
      " $ user.id                    :integer64 277674677 67976889 18388012 528894289 33712376 33712376 33712376 1287620058 ... \n",
      " $ user.location              : chr  \"Abbeville, SC\" \"Aberdeen, Maryland\" \"Aberdeen, MD\" \"Aberdeen, North Carolina\" ...\n",
      " $ user.description           : chr  \"Servant, Husband, Father, Son, Pastor, Founder. Living Everyday Achieving Dreams (L.E.A.D.) - ing by example!\" \"I still don't wish death on them. I just reflect on them.\" \"I walked in universes where the laws of physics were devised by the mind of a mad man\" \"Fire Fighter. Dorado Slayer. Pacifico Drinker. Zombie Ventilator.\" ...\n",
      " $ created_at                 : chr  \"Thu Aug 14 14:48:31 +0000 2014\" \"Thu Aug 14 15:26:22 +0000 2014\" \"Thu Aug 14 15:57:51 +0000 2014\" \"Thu Aug 14 02:57:17 +0000 2014\" ...\n",
      " $ id                         : num  5e+17 5e+17 5e+17 5e+17 5e+17 ...\n",
      " $ user.created_at            : chr  \"Tue Apr 05 20:45:14 +0000 2011\" \"Sat Aug 22 20:35:11 +0000 2009\" \"Fri Dec 26 11:31:07 +0000 2008\" \"Sun Mar 18 22:18:14 +0000 2012\" ...\n",
      " $ retweeted                  : logi  FALSE FALSE FALSE FALSE FALSE FALSE ...\n",
      " $ retweeted_count            : logi  NA NA NA NA NA NA ...\n",
      " $ retweet                    : int  1 1 1 1 1 1 1 0 1 1 ...\n",
      " $ retweeted_status.created_at: chr  \"Thu Aug 14 14:00:05 +0000 2014\" \"Thu Aug 14 13:57:12 +0000 2014\" \"Thu Aug 14 15:56:04 +0000 2014\" \"Thu Aug 14 02:54:50 +0000 2014\" ...\n",
      " $ favorited                  : logi  FALSE FALSE FALSE FALSE FALSE FALSE ...\n",
      " $ favorite_count             : int  0 0 0 0 0 0 0 0 0 0 ...\n",
      " $ textnum                    : int  1 1 1 1 1 1 1 1 1 1 ...\n",
      " $ full_text                  : chr  \"RT @wwoodsjr: Let's pray for #Ferguson ðŸ\\231\\217\\r\\r\\n\\r\\r\\nPeace be multiplied!\\r\\r\\nJustice be served! \\r\\r\\\"| __truncated__ \"RT @KylaKeeper_: Please spread this video out so everybody can see what's really happening in #Ferguson  http:/\"| __truncated__ \"RT @weirdnews: FBI may be called in to replace officers in #ferguson http://t.co/wG9eMgMiFc\" \"RT @mletterle: Note: I generally identify as conservative. I support 2nd amendment rights. Police actions in #F\"| __truncated__ ...\n",
      " $ possibly_sensitive         : logi  NA FALSE FALSE NA NA NA ...\n",
      " $ hashtags                   : chr  \"Ferguson\" \"c(\\\"Ferguson\\\" \\\"mediablackâ\\\\200¦\\\")\" \"ferguson\" \"Ferguson\" ...\n",
      " $ lang                       : chr  \"en\" \"en\" \"en\" \"en\" ...\n",
      " $ user.geo_enabled           : logi  TRUE FALSE TRUE FALSE TRUE TRUE ...\n",
      " $ place.full_name            : chr  \"\" \"\" \"\" \"\" ...\n",
      " $ place.place_type           : chr  \"\" \"\" \"\" \"\" ...\n",
      " $ utc_datetime               : chr  \"2014-08-14T14:48:31Z\" \"2014-08-14T15:26:22Z\" \"2014-08-14T15:57:51Z\" \"2014-08-14T02:57:17Z\" ...\n",
      " $ yday                       : int  226 226 226 226 227 231 230 231 230 230 ...\n",
      " $ ymd                        : chr  \"2014-08-14\" \"2014-08-14\" \"2014-08-14\" \"2014-08-14\" ...\n",
      " $ user_id2                   : int  339072 180600 51416 451937 116955 116955 116955 527567 140465 128476 ...\n",
      " $ user.location2             : chr  \"ABBEVILLE SC\" \"ABERDEEN MARYLAND\" \"ABERDEEN MD\" \"ABERDEEN NORTH CAROLINA\" ...\n",
      " $ City_code                  : chr  \"ABBEVILLE SC\" \"ABERDEEN MD\" \"ABERDEEN MD\" \"ABERDEEN NC\" ...\n",
      " $ City_state                 : chr  \"ABBEVILLE SOUTH CAROLINA\" \"ABERDEEN MARYLAND\" \"ABERDEEN MARYLAND\" \"ABERDEEN NORTH CAROLINA\" ...\n",
      " $ City2                      : chr  \"ABBEVILLE\" \"ABERDEEN\" \"ABERDEEN\" \"ABERDEEN\" ...\n",
      " $ State                      : chr  \"SOUTH CAROLINA\" \"MARYLAND\" \"MARYLAND\" \"NORTH CAROLINA\" ...\n",
      " $ Code                       : chr  \"SC\" \"MD\" \"MD\" \"NC\" ...\n",
      " $ n                          : int  2 2 2 2 5 5 5 5 5 5 ...\n",
      " $ keyword_pos_hash           : chr  \"c(30, 38)\" \"c(95, 129, 103, 142)\" \"c(60, 68)\" \"c(110, 118)\" ...\n",
      " $ keyword_count_hash         : int  1 2 1 1 2 1 0 1 3 1 ...\n",
      " $ full_text2                 : chr  \"RT  : Let's pray for #Ferguson  YT \\r\\r\\n\\r\\r\\nPeace be multiplied!\\r\\r\\nJustice be served! \\r\\r\\nGod's will be done!\" \"RT  : Please spread this video out so everybody can see what's really happening in #Ferguson   .co/TP8UUZaHXy #mediablacka  \" \"RT  : FBI may be called in to replace officers in #ferguson  .co/wG9eMgMiFc\" \"RT  : Note: I generally identify as conservative. I support 2nd amendment rights. Police actions in #Ferguson i\"| __truncated__ ...\n",
      " $ full_text3                 : chr  \" R T       L e t s   p r a y   f o r   F e r g u s o n     Y T   \\r \\r \\n \\r \\r \\n P e a c e   b e   m u l t i \"| __truncated__ \" R T       P l e a s e   s p r e a d   t h i s   v i d e o   o u t   s o   e v e r y b o d y   c a n   s e e   \"| __truncated__ \" R T       F B I   m a y   b e   c a l l e d   i n   t o   r e p l a c e   o f f i c e r s   i n   f e r g u s \"| __truncated__ \" R T       N o t e   I   g e n e r a l l y   i d e n t i f y   a s   c o n s e r v a t i v e   I   s u p p o r \"| __truncated__ ...\n",
      " $ full_text_nohash           : chr  \"RT  : Let's pray for    YT \\r\\r\\n\\r\\r\\nPeace be multiplied!\\r\\r\\nJustice be served! \\r\\r\\nGod's will be done!\" \"RT  : Please spread this video out so everybody can see what's really happening in    http://t.co/TP8UUZaHXy    \" \"RT  : FBI may be called in to replace officers in   http://t.co/wG9eMgMiFc\" \"RT  : Note: I generally identify as conservative. I support 2nd amendment rights. Police actions in   is some real bullshia  \" ...\n"
     ]
    }
   ],
   "source": [
    "str(ferg_cols_samp)"
   ]
  },
  {
   "cell_type": "code",
   "execution_count": 7,
   "metadata": {},
   "outputs": [],
   "source": [
    "ferg_cols_loc$hashtags <- str_extract_all(ferg_cols_loc$full_text, \"#[[:graph:]]*\")"
   ]
  },
  {
   "cell_type": "code",
   "execution_count": 8,
   "metadata": {},
   "outputs": [],
   "source": [
    "ferg_cols_loc$hashtags <- gsub(\"[#|.|,]\", \"\", ferg_cols_loc$hashtags)"
   ]
  },
  {
   "cell_type": "code",
   "execution_count": 9,
   "metadata": {},
   "outputs": [],
   "source": [
    "ferg_cols_loc$hashtags <- gsub(\"\\\\s{1,}\", \" \", ferg_cols_loc$hashtags)"
   ]
  },
  {
   "cell_type": "code",
   "execution_count": 10,
   "metadata": {},
   "outputs": [],
   "source": [
    "ferg_cols_loc$keyword_pos_hash <- str_locate_all(ferg_cols_loc$full_text, \"#[[:graph:]]*\")"
   ]
  },
  {
   "cell_type": "code",
   "execution_count": 11,
   "metadata": {
    "scrolled": true
   },
   "outputs": [],
   "source": [
    "ferg_cols_loc$keyword_pos_hash <- as.character(ferg_cols_loc$keyword_pos_hash)"
   ]
  },
  {
   "cell_type": "code",
   "execution_count": 12,
   "metadata": {},
   "outputs": [],
   "source": [
    "ferg_cols_loc$keyword_count_hash <- str_count(ferg_cols_loc$full_text, \"#[[:graph:]]*\")"
   ]
  },
  {
   "cell_type": "code",
   "execution_count": 23,
   "metadata": {},
   "outputs": [],
   "source": [
    "ferg_cols_loc$full_text2 <- iconv(ferg_cols_loc$full_text, to = \"ASCII//TRANSLIT\")"
   ]
  },
  {
   "cell_type": "code",
   "execution_count": 24,
   "metadata": {},
   "outputs": [],
   "source": [
    "ferg_cols_loc$full_text2 <- gsub(\"[\\\\||?|\\\"]\", \" \", ferg_cols_loc$full_text2)"
   ]
  },
  {
   "cell_type": "code",
   "execution_count": 25,
   "metadata": {},
   "outputs": [],
   "source": [
    "ferg_cols_loc$full_text2 <- gsub(\"@[a-zA-Z0-9_]{1,15}\", \" \", ferg_cols_loc$full_text2)"
   ]
  },
  {
   "cell_type": "code",
   "execution_count": 26,
   "metadata": {},
   "outputs": [],
   "source": [
    "ferg_cols_loc$full_text2 <- gsub(\"(http|https)://[[:graph:]]*\", \" \", ferg_cols_loc$full_text2)  "
   ]
  },
  {
   "cell_type": "code",
   "execution_count": 27,
   "metadata": {},
   "outputs": [],
   "source": [
    "ferg_cols_loc$full_text2 <- gsub(\"\\\\s{1,}\", \" \", ferg_cols_loc$full_text2)"
   ]
  },
  {
   "cell_type": "code",
   "execution_count": 29,
   "metadata": {},
   "outputs": [],
   "source": [
    "ferg_cols_loc$full_text_nohash <- gsub(\"#[a-zA-Z0-9_]*\", \" \", ferg_cols_loc$full_text2)"
   ]
  },
  {
   "cell_type": "code",
   "execution_count": 30,
   "metadata": {},
   "outputs": [],
   "source": [
    "ferg_cols_loc$full_text2 <- gsub(\"[\\\\.,:;\\\\?!\\\\\\\\\\\\|\\\\/`=\\\\*\\\\+-^_~\\\\\\\"\\\\\\'\\\\[\\\\]\\\\{\\\\}\\\\(\\\\)<>@$]*\", \"\", ferg_cols_loc$full_text2)"
   ]
  },
  {
   "cell_type": "code",
   "execution_count": 209,
   "metadata": {},
   "outputs": [
    {
     "data": {
      "text/html": [
       "<ol class=list-inline>\n",
       "\t<li>'Black teenage boys are not men. They are children. Stop referring to a 17 year old as a man. You are killing children. #ferguson'</li>\n",
       "\t<li>' While there, please tune in today\\'s killing of the young black male in #Ferguson. #SaveOurBoys'</li>\n",
       "\t<li>'RT : pictures speak 1000 words! Unarmed teen shot 10 times by #Ferguson police '</li>\n",
       "\t<li>'SICK and TIRED of police killing unarmed people. #ferguson #walmart'</li>\n",
       "\t<li>'Well, here we go again. #Ferguson'</li>\n",
       "\t<li>'Damn shame... This coulda been my son or yours. Our condolences to the family... #ferguson #policea '</li>\n",
       "</ol>\n"
      ],
      "text/latex": [
       "\\begin{enumerate*}\n",
       "\\item 'Black teenage boys are not men. They are children. Stop referring to a 17 year old as a man. You are killing children. \\#ferguson'\n",
       "\\item ' While there, please tune in today\\textbackslash{}'s killing of the young black male in \\#Ferguson. \\#SaveOurBoys'\n",
       "\\item 'RT : pictures speak 1000 words! Unarmed teen shot 10 times by \\#Ferguson police '\n",
       "\\item 'SICK and TIRED of police killing unarmed people. \\#ferguson \\#walmart'\n",
       "\\item 'Well, here we go again. \\#Ferguson'\n",
       "\\item 'Damn shame... This coulda been my son or yours. Our condolences to the family... \\#ferguson \\#policea '\n",
       "\\end{enumerate*}\n"
      ],
      "text/markdown": [
       "1. 'Black teenage boys are not men. They are children. Stop referring to a 17 year old as a man. You are killing children. #ferguson'\n",
       "2. ' While there, please tune in today\\'s killing of the young black male in #Ferguson. #SaveOurBoys'\n",
       "3. 'RT : pictures speak 1000 words! Unarmed teen shot 10 times by #Ferguson police '\n",
       "4. 'SICK and TIRED of police killing unarmed people. #ferguson #walmart'\n",
       "5. 'Well, here we go again. #Ferguson'\n",
       "6. 'Damn shame... This coulda been my son or yours. Our condolences to the family... #ferguson #policea '\n",
       "\n",
       "\n"
      ],
      "text/plain": [
       "[1] \"Black teenage boys are not men. They are children. Stop referring to a 17 year old as a man. You are killing children. #ferguson\"\n",
       "[2] \" While there, please tune in today's killing of the young black male in #Ferguson. #SaveOurBoys\"                                 \n",
       "[3] \"RT : pictures speak 1000 words! Unarmed teen shot 10 times by #Ferguson police \"                                                 \n",
       "[4] \"SICK and TIRED of police killing unarmed people. #ferguson #walmart\"                                                             \n",
       "[5] \"Well, here we go again. #Ferguson\"                                                                                               \n",
       "[6] \"Damn shame... This coulda been my son or yours. Our condolences to the family... #ferguson #policea \"                            "
      ]
     },
     "metadata": {},
     "output_type": "display_data"
    }
   ],
   "source": [
    "head(ferg_cols_loc$full_text2)"
   ]
  },
  {
   "cell_type": "code",
   "execution_count": 31,
   "metadata": {},
   "outputs": [],
   "source": [
    "ferg_cols_loc$full_text2 <- gsub(\":\", \"\", ferg_cols_loc$full_text2)"
   ]
  },
  {
   "cell_type": "code",
   "execution_count": 32,
   "metadata": {},
   "outputs": [],
   "source": [
    "ferg_cols_loc$full_text2 <- gsub(\"\\\\s{1,}\", \" \", ferg_cols_loc$full_text2)"
   ]
  },
  {
   "cell_type": "code",
   "execution_count": 33,
   "metadata": {},
   "outputs": [],
   "source": [
    "ferg_cols_loc$tweet_type <- ifelse(ferg_cols_loc$full_text %like% \"RT\", \"RT\", \n",
    "                                    ifelse(ferg_cols_loc$full_text %like% \"@\", \"SB\", \"All\"))"
   ]
  },
  {
   "cell_type": "code",
   "execution_count": 213,
   "metadata": {},
   "outputs": [
    {
     "data": {
      "text/plain": [
       "\n",
       "    All      RT      SB \n",
       " 561098 3045097  277813 "
      ]
     },
     "metadata": {},
     "output_type": "display_data"
    }
   ],
   "source": [
    "table(ferg_cols_loc$tweet_type)"
   ]
  },
  {
   "cell_type": "code",
   "execution_count": 34,
   "metadata": {},
   "outputs": [
    {
     "data": {
      "text/plain": [
       "\n",
       "    All      RT      SB \n",
       " 561098 3045097  277813 "
      ]
     },
     "metadata": {},
     "output_type": "display_data"
    }
   ],
   "source": [
    "table(ferg_cols_loc$tweet_type)"
   ]
  },
  {
   "cell_type": "code",
   "execution_count": 42,
   "metadata": {
    "collapsed": true
   },
   "outputs": [
    {
     "data": {
      "text/html": [
       "<table>\n",
       "<thead><tr><th scope=col>full_text_nohash</th><th scope=col>textnum</th></tr></thead>\n",
       "<tbody>\n",
       "\t<tr><td>Black teenage boys are not men. They are children. Stop referring to a 17 year old as a man. You are killing children.  </td><td>1                                                                                                                       </td></tr>\n",
       "\t<tr><td> While there, please tune in today's killing of the young black male in  .                                              </td><td>2                                                                                                                       </td></tr>\n",
       "\t<tr><td>RT : pictures speak 1000 words! Unarmed teen shot 10 times by   police                                                  </td><td>3                                                                                                                       </td></tr>\n",
       "\t<tr><td>SICK and TIRED of police killing unarmed people.                                                                        </td><td>4                                                                                                                       </td></tr>\n",
       "\t<tr><td>Well, here we go again.                                                                                                 </td><td>5                                                                                                                       </td></tr>\n",
       "\t<tr><td>Damn shame... This coulda been my son or yours. Our condolences to the family...                                        </td><td>6                                                                                                                       </td></tr>\n",
       "</tbody>\n",
       "</table>\n"
      ],
      "text/latex": [
       "\\begin{tabular}{r|ll}\n",
       " full\\_text\\_nohash & textnum\\\\\n",
       "\\hline\n",
       "\t Black teenage boys are not men. They are children. Stop referring to a 17 year old as a man. You are killing children.   & 1                                                                                                                       \\\\\n",
       "\t  While there, please tune in today's killing of the young black male in  .                                               & 2                                                                                                                       \\\\\n",
       "\t RT : pictures speak 1000 words! Unarmed teen shot 10 times by   police                                                   & 3                                                                                                                       \\\\\n",
       "\t SICK and TIRED of police killing unarmed people.                                                                         & 4                                                                                                                       \\\\\n",
       "\t Well, here we go again.                                                                                                  & 5                                                                                                                       \\\\\n",
       "\t Damn shame... This coulda been my son or yours. Our condolences to the family...                                         & 6                                                                                                                       \\\\\n",
       "\\end{tabular}\n"
      ],
      "text/markdown": [
       "\n",
       "full_text_nohash | textnum | \n",
       "|---|---|---|---|---|---|\n",
       "| Black teenage boys are not men. They are children. Stop referring to a 17 year old as a man. You are killing children.   | 1                                                                                                                        | \n",
       "|  While there, please tune in today's killing of the young black male in  .                                               | 2                                                                                                                        | \n",
       "| RT : pictures speak 1000 words! Unarmed teen shot 10 times by   police                                                   | 3                                                                                                                        | \n",
       "| SICK and TIRED of police killing unarmed people.                                                                         | 4                                                                                                                        | \n",
       "| Well, here we go again.                                                                                                  | 5                                                                                                                        | \n",
       "| Damn shame... This coulda been my son or yours. Our condolences to the family...                                         | 6                                                                                                                        | \n",
       "\n",
       "\n"
      ],
      "text/plain": [
       "  full_text_nohash                                                                                                        \n",
       "1 Black teenage boys are not men. They are children. Stop referring to a 17 year old as a man. You are killing children.  \n",
       "2  While there, please tune in today's killing of the young black male in  .                                              \n",
       "3 RT : pictures speak 1000 words! Unarmed teen shot 10 times by   police                                                  \n",
       "4 SICK and TIRED of police killing unarmed people.                                                                        \n",
       "5 Well, here we go again.                                                                                                 \n",
       "6 Damn shame... This coulda been my son or yours. Our condolences to the family...                                        \n",
       "  textnum\n",
       "1 1      \n",
       "2 2      \n",
       "3 3      \n",
       "4 4      \n",
       "5 5      \n",
       "6 6      "
      ]
     },
     "metadata": {},
     "output_type": "display_data"
    }
   ],
   "source": [
    "head(ferg_cols_loc[ ,c(\"full_text_nohash\", \"textnum\")])"
   ]
  },
  {
   "cell_type": "markdown",
   "metadata": {},
   "source": [
    "###### Remove retweet - RT"
   ]
  },
  {
   "cell_type": "code",
   "execution_count": 36,
   "metadata": {},
   "outputs": [],
   "source": [
    "ferg_cols_loc$full_text2 <- gsub(\"RT\", \"\", ferg_cols_loc$full_text2)"
   ]
  },
  {
   "cell_type": "markdown",
   "metadata": {},
   "source": [
    "###### Trim whitespaces"
   ]
  },
  {
   "cell_type": "code",
   "execution_count": 37,
   "metadata": {},
   "outputs": [],
   "source": [
    "ferg_cols_loc$full_text2 <- trimws(ferg_cols_loc$full_text2, which = \"both\")"
   ]
  },
  {
   "cell_type": "code",
   "execution_count": 38,
   "metadata": {},
   "outputs": [],
   "source": [
    "ferg_cols_loc$full_text2 <- iconv(ferg_cols_loc$full_text2, \"latin1\", \"ASCII\", sub=\"\")"
   ]
  },
  {
   "cell_type": "code",
   "execution_count": 39,
   "metadata": {},
   "outputs": [],
   "source": [
    "ferg_cols_loc$full_text2 <- gsub(\"\\\\s{1,}\", \" \", ferg_cols_loc$full_text2)"
   ]
  },
  {
   "cell_type": "code",
   "execution_count": 188,
   "metadata": {},
   "outputs": [],
   "source": [
    "full_text <- data.frame(text = ferg_cols_loc$full_text2)"
   ]
  }
 ],
 "metadata": {
  "kernelspec": {
   "display_name": "R",
   "language": "R",
   "name": "ir"
  },
  "language_info": {
   "codemirror_mode": "r",
   "file_extension": ".r",
   "mimetype": "text/x-r-source",
   "name": "R",
   "pygments_lexer": "r",
   "version": "3.5.1"
  }
 },
 "nbformat": 4,
 "nbformat_minor": 2
}
