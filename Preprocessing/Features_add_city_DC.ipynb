{
 "cells": [
  {
   "cell_type": "code",
   "execution_count": 1,
   "metadata": {},
   "outputs": [
    {
     "name": "stderr",
     "output_type": "stream",
     "text": [
      "Loading required package: gsubfn\n",
      "Loading required package: proto\n",
      "Loading required package: RSQLite\n",
      "\n",
      "Attaching package: 'dplyr'\n",
      "\n",
      "The following object is masked from 'package:gridExtra':\n",
      "\n",
      "    combine\n",
      "\n",
      "The following objects are masked from 'package:stats':\n",
      "\n",
      "    filter, lag\n",
      "\n",
      "The following objects are masked from 'package:base':\n",
      "\n",
      "    intersect, setdiff, setequal, union\n",
      "\n",
      "\n",
      "Attaching package: 'lubridate'\n",
      "\n",
      "The following object is masked from 'package:base':\n",
      "\n",
      "    date\n",
      "\n",
      "\n",
      "Attaching package: 'GGally'\n",
      "\n",
      "The following object is masked from 'package:dplyr':\n",
      "\n",
      "    nasa\n",
      "\n",
      "Loading required package: lattice\n",
      "Loading required package: MASS\n",
      "\n",
      "Attaching package: 'MASS'\n",
      "\n",
      "The following object is masked from 'package:dplyr':\n",
      "\n",
      "    select\n",
      "\n",
      "\n",
      "Attaching package: 'memisc'\n",
      "\n",
      "The following object is masked from 'package:scales':\n",
      "\n",
      "    percent\n",
      "\n",
      "The following object is masked from 'package:lubridate':\n",
      "\n",
      "    is.interval\n",
      "\n",
      "The following objects are masked from 'package:dplyr':\n",
      "\n",
      "    collect, recode, rename, syms\n",
      "\n",
      "The following object is masked from 'package:ggplot2':\n",
      "\n",
      "    syms\n",
      "\n",
      "The following objects are masked from 'package:stats':\n",
      "\n",
      "    contr.sum, contr.treatment, contrasts\n",
      "\n",
      "The following object is masked from 'package:base':\n",
      "\n",
      "    as.array\n",
      "\n",
      "rgeos version: 0.3-28, (SVN revision 572)\n",
      " GEOS runtime version: 3.6.1-CAPI-1.10.1 r0 \n",
      " Linking to sp version: 1.3-1 \n",
      " Polygon checking: TRUE \n",
      "\n",
      "rgdal: version: 1.3-4, (SVN revision 766)\n",
      " Geospatial Data Abstraction Library extensions to R successfully loaded\n",
      " Loaded GDAL runtime: GDAL 2.2.3, released 2017/11/20\n",
      " Path to GDAL shared files: C:/MathLabASUS/SW/DM/Anaconda2/envs/rconda/Lib/R/library/rgdal/gdal\n",
      " GDAL binary built with GEOS: TRUE \n",
      " Loaded PROJ.4 runtime: Rel. 4.9.3, 15 August 2016, [PJ_VERSION: 493]\n",
      " Path to PROJ.4 shared files: C:/MathLabASUS/SW/DM/Anaconda2/envs/rconda/Lib/R/library/rgdal/proj\n",
      " Linking to sp version: 1.3-1 \n",
      "Checking rgeos availability: TRUE\n",
      "Warning message:\n",
      "\"package 'maps' was built under R version 3.5.3\"\n",
      "Attaching package: 'cluster'\n",
      "\n",
      "The following object is masked from 'package:maps':\n",
      "\n",
      "    votes.repub\n",
      "\n",
      "Loading required package: proxy\n",
      "\n",
      "Attaching package: 'proxy'\n",
      "\n",
      "The following objects are masked from 'package:stats':\n",
      "\n",
      "    as.dist, dist\n",
      "\n",
      "The following object is masked from 'package:base':\n",
      "\n",
      "    as.matrix\n",
      "\n",
      "Loading required package: clue\n",
      "Warning message:\n",
      "\"package 'clue' was built under R version 3.5.2\"Loading required package: survey\n",
      "Loading required package: Matrix\n",
      "\n",
      "Attaching package: 'Matrix'\n",
      "\n",
      "The following object is masked from 'package:tidyr':\n",
      "\n",
      "    expand\n",
      "\n",
      "Loading required package: survival\n",
      "\n",
      "Attaching package: 'survey'\n",
      "\n",
      "The following object is masked from 'package:graphics':\n",
      "\n",
      "    dotchart\n",
      "\n",
      "Loading required package: RANN\n",
      "Loading required package: lpSolve\n",
      "\n",
      "Attaching package: 'fastcluster'\n",
      "\n",
      "The following object is masked from 'package:stats':\n",
      "\n",
      "    hclust\n",
      "\n",
      "Welcome! Related Books: `Practical Guide To Cluster Analysis in R` at https://goo.gl/13EFCZ\n",
      "Creating a generic function for 'toJSON' from package 'jsonlite' in package 'googleVis'\n",
      "\n",
      "Welcome to googleVis version 0.6.2\n",
      "\n",
      "Please read Google's Terms of Use\n",
      "before you start using the package:\n",
      "https://developers.google.com/terms/\n",
      "\n",
      "Note, the plot method of googleVis will by default use\n",
      "the standard browser to display its output.\n",
      "\n",
      "See the googleVis package vignettes for more details,\n",
      "or visit http://github.com/mages/googleVis.\n",
      "\n",
      "To suppress this message use:\n",
      "suppressPackageStartupMessages(library(googleVis))\n",
      "\n",
      "Loading required package: DBI\n",
      "\n",
      "Attaching package: 'RMySQL'\n",
      "\n",
      "The following object is masked from 'package:RSQLite':\n",
      "\n",
      "    isIdCurrent\n",
      "\n",
      "\n",
      "Attaching package: 'data.table'\n",
      "\n",
      "The following objects are masked from 'package:lubridate':\n",
      "\n",
      "    hour, isoweek, mday, minute, month, quarter, second, wday, week,\n",
      "    yday, year\n",
      "\n",
      "The following objects are masked from 'package:dplyr':\n",
      "\n",
      "    between, first, last\n",
      "\n",
      "\n",
      "Attaching package: 'dbplyr'\n",
      "\n",
      "The following objects are masked from 'package:dplyr':\n",
      "\n",
      "    ident, sql\n",
      "\n",
      "\n",
      "Attaching package: 'httr'\n",
      "\n",
      "The following object is masked from 'package:memisc':\n",
      "\n",
      "    content\n",
      "\n",
      "\n",
      "Attaching package: 'purrr'\n",
      "\n",
      "The following object is masked from 'package:data.table':\n",
      "\n",
      "    transpose\n",
      "\n",
      "The following object is masked from 'package:maps':\n",
      "\n",
      "    map\n",
      "\n",
      "The following object is masked from 'package:scales':\n",
      "\n",
      "    discard\n",
      "\n",
      "The following object is masked from 'package:jsonlite':\n",
      "\n",
      "    flatten\n",
      "\n",
      "\n",
      "Attaching package: 'magrittr'\n",
      "\n",
      "The following object is masked from 'package:purrr':\n",
      "\n",
      "    set_names\n",
      "\n",
      "The following object is masked from 'package:tidyr':\n",
      "\n",
      "    extract\n",
      "\n",
      "rsatscan only does anything useful if you have SaTScan\n",
      "See http://www.satscan.org/ for free access\n"
     ]
    }
   ],
   "source": [
    "library(knitr)\n",
    "library(sqldf)\n",
    "library(ggplot2)\n",
    "library(mongolite)\n",
    "library(ggplot2)\n",
    "library(gridExtra)\n",
    "library(dplyr)\n",
    "library(tidyr)\n",
    "library(jsonlite)\n",
    "library(lubridate)\n",
    "library(gridExtra)\n",
    "library(GGally)\n",
    "library(scales)\n",
    "library(memisc)\n",
    " library(sp)\n",
    "library(rgeos)\n",
    "library(rgdal)\n",
    "library(maptools)\n",
    "library(RColorBrewer)\n",
    "library(maps)\n",
    "library(grid)\n",
    "library(cluster)\n",
    "library(StatMatch)\n",
    "library(fastcluster)\n",
    "library(factoextra)\n",
    "library(stringr)\n",
    "library(googleVis)\n",
    "library(RMySQL)\n",
    "library(data.table)\n",
    "library(dbplyr)\n",
    "library(DBI)\n",
    "library(httr)\n",
    "library(scanstatistics)\n",
    "library(purrr)\n",
    "library(magrittr)\n",
    "library(rsatscan)\n",
    "library(stringi)"
   ]
  },
  {
   "cell_type": "markdown",
   "metadata": {},
   "source": [
    "Washington DC is missing from tweet locations. This file adds the city and its demographic information"
   ]
  },
  {
   "cell_type": "code",
   "execution_count": 2,
   "metadata": {},
   "outputs": [],
   "source": [
    "plot.format <- theme(axis.text = element_text(size = 14), legend.text = element_text(size = 14), legend.title = element_text(size = 14), axis.title = element_text(size = 18), plot.title = element_text(size = 18))"
   ]
  },
  {
   "cell_type": "code",
   "execution_count": null,
   "metadata": {},
   "outputs": [],
   "source": [
    "#### Load location data for cities (latitude, longitude etc.)"
   ]
  },
  {
   "cell_type": "code",
   "execution_count": 63,
   "metadata": {},
   "outputs": [],
   "source": [
    "cities_latlon <- read.csv(\"../Preprocessing/Files/Maps/cities_latlon.csv\", stringsAsFactors = FALSE)"
   ]
  },
  {
   "cell_type": "code",
   "execution_count": 64,
   "metadata": {
    "collapsed": true
   },
   "outputs": [
    {
     "name": "stdout",
     "output_type": "stream",
     "text": [
      "'data.frame':\t28706 obs. of  15 variables:\n",
      " $ lon       : num  -124 -122 -118 -122 -123 ...\n",
      " $ lat       : num  47 48.7 48.4 47.3 46.6 ...\n",
      " $ city      : chr  \"ABERDEEN\" \"ACME\" \"ADDY\" \"ADELAIDE\" ...\n",
      " $ state     : chr  \"WA\" \"WA\" \"WA\" \"WA\" ...\n",
      " $ mapid     : int  1 2 3 4 5 6 7 8 9 10 ...\n",
      " $ area      : int  0 0 0 0 0 0 0 0 0 0 ...\n",
      " $ perimeter : int  0 0 0 0 0 0 0 0 0 0 ...\n",
      " $ feature   : chr  \"Population 10,000 to 49,999\" \"Population less than 10,000\" \"Population less than 10,000\" \"Population less than 10,000\" ...\n",
      " $ name      : chr  \"Aberdeen\" \"Acme\" \"Addy\" \"Adelaide\" ...\n",
      " $ fips      : int  53027 53073 53065 53033 53041 53047 53077 53075 53053 53039 ...\n",
      " $ fips55    : int  100 275 380 415 590 660 800 1010 1045 1080 ...\n",
      " $ pop       : int  16565 0 0 0 0 0 0 632 0 0 ...\n",
      " $ state_fips: int  53 53 53 53 53 53 53 53 53 53 ...\n",
      " $ county    : chr  \"Grays Harbor County\" \"Whatcom County\" \"Stevens County\" \"King County\" ...\n",
      " $ location  : chr  \"ABERDEEN WA\" \"ACME WA\" \"ADDY WA\" \"ADELAIDE WA\" ...\n"
     ]
    }
   ],
   "source": [
    "cities_latlon$X <- NULL\n",
    "str(cities_latlon)"
   ]
  },
  {
   "cell_type": "code",
   "execution_count": null,
   "metadata": {},
   "outputs": [],
   "source": [
    "#### Location census data by US Place_type"
   ]
  },
  {
   "cell_type": "code",
   "execution_count": 65,
   "metadata": {},
   "outputs": [],
   "source": [
    "usstates_place <- read.csv(\"../Preprocessing/Files/Demographics/usstates_placetype.csv\", stringsAsFactors = FALSE)"
   ]
  },
  {
   "cell_type": "code",
   "execution_count": 66,
   "metadata": {
    "collapsed": true
   },
   "outputs": [
    {
     "name": "stdout",
     "output_type": "stream",
     "text": [
      "'data.frame':\t81542 obs. of  27 variables:\n",
      " $ rownum           : int  1 2 3 4 5 6 7 8 9 10 ...\n",
      " $ Code             : chr  \"AK\" \"AK\" \"AK\" \"AK\" ...\n",
      " $ State            : chr  \"Alaska\" \"Alaska\" \"Alaska\" \"Alaska\" ...\n",
      " $ Sumlev           : int  40 162 162 162 162 162 162 162 162 162 ...\n",
      " $ State_id         : int  2 2 2 2 2 2 2 2 2 2 ...\n",
      " $ County           : int  0 0 0 0 0 0 0 0 0 0 ...\n",
      " $ Place            : int  0 65 650 870 1090 1200 1420 1860 1970 2080 ...\n",
      " $ Cousub           : int  0 0 0 0 0 0 0 0 0 0 ...\n",
      " $ Concit           : int  0 0 0 0 0 0 0 0 0 0 ...\n",
      " $ Primgeo_flag     : int  0 0 0 0 0 0 0 0 0 0 ...\n",
      " $ Funcstat         : chr  \"A\" \"A\" \"A\" \"A\" ...\n",
      " $ City             : chr  \"Alaska\" \"Adak city\" \"Akhiok city\" \"Akiak city\" ...\n",
      " $ Census2010pop    : int  710231 326 71 346 1027 677 219 105 258 324 ...\n",
      " $ Estimatesbase2010: int  710249 326 71 346 1027 677 220 171 258 324 ...\n",
      " $ Popestimate2010  : int  714015 326 71 347 1029 678 220 172 259 326 ...\n",
      " $ Popestimate2011  : int  722259 327 72 353 1034 720 224 172 264 331 ...\n",
      " $ Popestimate2012  : int  730825 330 73 378 1037 729 225 171 264 337 ...\n",
      " $ Popestimate2013  : int  736760 332 73 381 1039 742 226 169 264 341 ...\n",
      " $ Popestimate2014  : int  736759 335 72 383 1038 754 225 166 266 341 ...\n",
      " $ Popestimate2015  : int  737979 334 70 382 1041 768 225 165 266 340 ...\n",
      " $ Popestimate2016  : int  741522 332 70 382 1040 758 223 167 263 338 ...\n",
      " $ Popestimate2017  : int  739795 331 71 391 1042 762 221 165 263 341 ...\n",
      " $ City2            : chr  \"Alaska\" \"Adak\" \"Akhiok\" \"Akiak\" ...\n",
      " $ Place_type       : chr  \"state\" \"city\" \"city\" \"city\" ...\n",
      " $ City_state       : chr  \"Alaska, Alaska\" \"Adak, Alaska\" \"Akhiok, Alaska\" \"Akiak, Alaska\" ...\n",
      " $ City_code        : chr  \"Alaska, AK\" \"Adak, AK\" \"Akhiok, AK\" \"Akiak, AK\" ...\n",
      " $ City3            : chr  \"Alaska\" \"Adak\" \"Akhiok\" \"Akiak\" ...\n"
     ]
    }
   ],
   "source": [
    "usstates_place$X <- NULL\n",
    "usstates_place$X.1 <- NULL\n",
    "str(usstates_place)"
   ]
  },
  {
   "cell_type": "code",
   "execution_count": 67,
   "metadata": {},
   "outputs": [],
   "source": [
    "demo_cols_csv <- read.csv(\"../Preprocessing/Files/Demographics/acs_demo_cols2.csv\", \n",
    "                         stringsAsFactors = FALSE)"
   ]
  },
  {
   "cell_type": "code",
   "execution_count": 68,
   "metadata": {
    "collapsed": true
   },
   "outputs": [
    {
     "name": "stdout",
     "output_type": "stream",
     "text": [
      "'data.frame':\t29321 obs. of  36 variables:\n",
      " $ rownum                      : int  1 2 3 4 5 6 7 8 9 10 ...\n",
      " $ id                          : chr  \"1600000US0100100\" \"1600000US0100124\" \"1600000US0100460\" \"1600000US0100484\" ...\n",
      " $ id2                         : int  100100 100124 100460 100484 100676 100820 100988 101132 101180 101228 ...\n",
      " $ geography                   : chr  \"Abanda CDP, Alabama\" \"Abbeville city, Alabama\" \"Adamsville city, Alabama\" \"Addison town, Alabama\" ...\n",
      " $ totalpopulation             : int  52 2646 4454 682 293 31905 21406 14787 3912 3727 ...\n",
      " $ malepop                     : int  11 1292 2269 331 143 15590 10777 6834 1774 1875 ...\n",
      " $ femalepop                   : int  41 1354 2185 351 150 16315 10629 7953 2138 1852 ...\n",
      " $ medianage                   : num  60.5 52.5 39.6 42.5 43.6 36.6 33.6 37.9 39.9 30.8 ...\n",
      " $ per_male                    : num  21.1 48.8 50.9 48.5 48.8 ...\n",
      " $ per_female                  : num  78.8 51.2 49.1 51.5 51.2 ...\n",
      " $ total_area                  : int  192 2688 4522 758 356 30352 21160 14875 3917 2486 ...\n",
      " $ urban                       : int  0 0 3857 0 0 29161 18710 9149 1054 0 ...\n",
      " $ rural                       : int  192 2688 665 758 356 1191 2450 5726 2863 2486 ...\n",
      " $ per_urban                   : num  0 0 85.3 0 0 ...\n",
      " $ per_rural                   : num  100 100 14.7 100 100 ...\n",
      " $ house_total_population      : int  52 1056 1704 317 126 10556 7307 5759 1464 1283 ...\n",
      " $ mean_income_per_capita      : int  14867 19262 22032 21389 11410 27382 18668 17064 25125 10923 ...\n",
      " $ house_total_income          : int  52 1056 1704 317 126 10556 7307 5759 1464 1283 ...\n",
      " $ total_population_race       : int  52 2646 4454 682 293 31905 21406 14787 3912 3727 ...\n",
      " $ white_population            : int  40 1396 2121 641 59 23864 19421 8498 3642 573 ...\n",
      " $ black_population            : int  12 1227 1927 0 234 4587 468 5818 270 3071 ...\n",
      " $ per_white                   : num  76.9 52.8 47.6 94 20.1 ...\n",
      " $ per_black                   : num  23.1 46.4 43.3 0 79.9 ...\n",
      " $ total_pop_over16            : int  NA 2211 3668 559 260 24071 15703 11311 3018 2851 ...\n",
      " $ employ_pop_over16           : int  NA 815 2170 267 112 16607 9289 5874 1994 1376 ...\n",
      " $ per_employ_over16           : num  NA 36.9 59.2 47.8 43.1 69 59.2 51.9 66.1 48.3 ...\n",
      " $ total_population_lang       : int  52 2578 4294 657 276 29962 19791 13839 3681 3421 ...\n",
      " $ english_only                : int  52 2530 3767 654 276 26569 15223 13317 3649 3365 ...\n",
      " $ english_other               : int  0 48 527 3 0 3393 4568 522 32 56 ...\n",
      " $ per_english_only            : num  100 98.1 87.7 99.5 100 88.7 76.9 96.2 99.1 98.4 ...\n",
      " $ per_english_other           : num  0 1.9 12.3 0.5 0 11.3 23.1 3.8 0.9 1.6 ...\n",
      " $ state                       : chr  \"Alabama\" \"Alabama\" \"Alabama\" \"Alabama\" ...\n",
      " $ city                        : chr  \"Abanda CDP\" \"Abbeville city\" \"Adamsville city\" \"Addison town\" ...\n",
      " $ mean_income_households      : int  14867 44246 56085 44483 24006 80353 50562 42199 65220 28630 ...\n",
      " $ total_population_individuals: int  52 2646 4454 682 293 31905 21406 14787 3912 3727 ...\n",
      " $ house_median_income         : num  11207 25615 42575 37083 21667 ...\n"
     ]
    }
   ],
   "source": [
    "demo_cols_csv$X <- NULL\n",
    "str(demo_cols_csv)"
   ]
  },
  {
   "cell_type": "code",
   "execution_count": null,
   "metadata": {},
   "outputs": [],
   "source": [
    "### Load demographic information"
   ]
  },
  {
   "cell_type": "code",
   "execution_count": 132,
   "metadata": {},
   "outputs": [],
   "source": [
    "features <- read.csv(\"../Preprocessing/Files/Features/features2.csv\")"
   ]
  },
  {
   "cell_type": "code",
   "execution_count": 5,
   "metadata": {
    "collapsed": true
   },
   "outputs": [
    {
     "data": {
      "text/html": [
       "5223"
      ],
      "text/latex": [
       "5223"
      ],
      "text/markdown": [
       "5223"
      ],
      "text/plain": [
       "[1] 5223"
      ]
     },
     "metadata": {},
     "output_type": "display_data"
    }
   ],
   "source": [
    "nrow(features)"
   ]
  },
  {
   "cell_type": "code",
   "execution_count": 70,
   "metadata": {
    "collapsed": true
   },
   "outputs": [
    {
     "name": "stdout",
     "output_type": "stream",
     "text": [
      "'data.frame':\t5223 obs. of  56 variables:\n",
      " $ Code                        : Factor w/ 49 levels \"AK\",\"AL\",\"AR\",..: 1 1 1 1 1 1 1 1 1 1 ...\n",
      " $ State                       : Factor w/ 49 levels \"Alabama\",\"Alaska\",..: 2 2 2 2 2 2 2 2 2 2 ...\n",
      " $ State_id                    : int  2 2 2 2 2 2 2 2 2 2 ...\n",
      " $ City                        : Factor w/ 4393 levels \"Abbeville city\",..: 92 234 1298 1830 1996 2019 2061 2821 2857 3032 ...\n",
      " $ City2                       : Factor w/ 3994 levels \"Abbeville\",\"Aberdeen\",..: 82 209 1177 1653 1804 1824 1865 2547 2578 2736 ...\n",
      " $ City3                       : Factor w/ 3994 levels \"Abbeville\",\"Aberdeen\",..: 82 209 1177 1653 1804 1824 1865 2547 2578 2736 ...\n",
      " $ Place_type                  : Factor w/ 6 levels \"borough\",\"city\",..: 4 2 2 2 2 2 2 2 2 2 ...\n",
      " $ City_state                  : Factor w/ 5218 levels \"Abbeville, South Carolina\",..: 111 279 1539 2188 2395 2419 2465 3403 3441 3639 ...\n",
      " $ City_code                   : Factor w/ 5218 levels \"Abbeville, SC\",..: 111 279 1539 2188 2395 2419 2465 3403 3441 3639 ...\n",
      " $ avgCensus2010pop            : num  291826 4212 31535 5003 7100 ...\n",
      " $ avgPopestimate2015          : num  298018 4439 31638 5510 7636 ...\n",
      " $ rownum                      : int  599 611 680 716 738 740 751 813 816 827 ...\n",
      " $ id                          : Factor w/ 5223 levels \"1600000US0100820\",..: 111 112 113 114 115 116 117 118 119 120 ...\n",
      " $ id2                         : int  203000 205200 224230 233140 238420 238970 240950 254920 255910 258660 ...\n",
      " $ geography                   : Factor w/ 5223 levels \"Abbeville city, South Carolina\",..: 111 279 1540 2189 2396 2420 2466 3404 3442 3640 ...\n",
      " $ totalpopulation             : int  299107 4293 32193 5324 7463 8197 6293 3773 2265 6449 ...\n",
      " $ malepop                     : int  153122 2256 17366 2555 3692 4189 3268 1991 1175 3275 ...\n",
      " $ femalepop                   : int  145985 2037 14827 2769 3771 4008 3025 1782 1090 3174 ...\n",
      " $ medianage                   : num  32.5 26.5 27.2 39.1 38.5 36.9 36.9 30.1 29.3 29.3 ...\n",
      " $ per_male                    : num  51.2 52.5 53.9 48 49.5 ...\n",
      " $ per_female                  : num  48.8 47.5 46.1 52 50.5 ...\n",
      " $ total_area                  : int  291826 4212 31535 5003 7100 8050 6130 3598 2117 5937 ...\n",
      " $ urban                       : int  279811 3835 31403 0 4498 7917 5837 3222 1960 5926 ...\n",
      " $ rural                       : int  12015 377 132 5003 2602 133 293 376 157 11 ...\n",
      " $ per_urban                   : num  95.9 91 99.6 0 63.4 ...\n",
      " $ per_rural                   : num  4.12 8.95 0.42 100 36.65 ...\n",
      " $ house_total_population      : int  105175 1329 11228 2090 3041 3317 2001 1296 803 2055 ...\n",
      " $ mean_income_per_capita      : int  36920 27360 27386 30664 34627 28041 28624 29005 30992 26230 ...\n",
      " $ house_total_income          : int  105175 1329 11228 2090 3041 3317 2001 1296 803 2055 ...\n",
      " $ total_population_race       : int  299107 4293 32193 5324 7463 8197 6293 3773 2265 6449 ...\n",
      " $ white_population            : int  194254 361 20434 4630 5883 4901 2378 1303 1673 4900 ...\n",
      " $ black_population            : int  17511 24 2867 32 27 56 1 72 199 132 ...\n",
      " $ per_white                   : num  64.94 8.41 63.47 86.96 78.83 ...\n",
      " $ per_black                   : num  5.85 0.56 8.91 0.6 0.36 0.68 0.02 1.91 8.79 2.05 ...\n",
      " $ total_pop_over16            : int  231795 2857 24240 4190 5897 6576 4935 2790 1697 4771 ...\n",
      " $ employ_pop_over16           : int  171644 2079 17696 2685 3847 4422 3811 1995 1160 3087 ...\n",
      " $ per_employ_over16           : num  74 72.8 73 64.1 65.2 67.2 77.2 71.5 68.4 64.7 ...\n",
      " $ total_population_lang       : int  276810 3805 28999 4892 7020 7620 5763 3392 2073 5854 ...\n",
      " $ english_only                : int  227828 1879 24211 4375 6536 6533 3423 2857 1857 5489 ...\n",
      " $ english_other               : int  48982 1926 4788 517 484 1087 2340 535 216 365 ...\n",
      " $ per_english_only            : num  82.3 49.4 83.5 89.4 93.1 85.7 59.4 84.2 89.6 93.8 ...\n",
      " $ per_english_other           : num  17.7 50.6 16.5 10.6 6.9 14.3 40.6 15.8 10.4 6.2 ...\n",
      " $ mean_income_households      : int  99630 95160 70739 74523 81043 66751 78310 84952 82528 73063 ...\n",
      " $ total_population_individuals: int  299107 4293 32193 5324 7463 8197 6293 3773 2265 6449 ...\n",
      " $ house_median_income         : int  78326 76902 55229 55849 62236 53111 62934 76389 70536 61797 ...\n",
      " $ location                    : Factor w/ 5218 levels \"ABBEVILLE SC\",..: 111 279 1539 2187 2395 2419 2465 3403 3441 3639 ...\n",
      " $ lon                         : num  -150 -157 -148 -152 -151 ...\n",
      " $ lat                         : num  61.2 71.3 64.8 59.6 60.6 ...\n",
      " $ count                       : int  742 2 121 3 8 8 42 1 10 21 ...\n",
      " $ count_rate                  : num  2.481 0.466 3.759 0.563 1.072 ...\n",
      " $ med_per_urban               : num  91.1 91.1 91.1 91.1 91.1 ...\n",
      " $ med_per_rural               : num  8.95 8.95 8.95 8.95 8.95 ...\n",
      " $ med_per_employ_over16       : num  67.8 67.8 67.8 67.8 67.8 67.8 67.8 67.8 67.8 67.8 ...\n",
      " $ city                        : Factor w/ 3994 levels \"ABBEVILLE\",\"ABERDEEN\",..: 82 209 1177 1653 1804 1824 1865 2547 2578 2736 ...\n",
      " $ state                       : Factor w/ 49 levels \"AK\",\"AL\",\"AR\",..: 1 1 1 1 1 1 1 1 1 1 ...\n",
      " $ county                      : Factor w/ 1334 levels \"Abbeville County\",..: 29 872 409 625 625 634 650 869 409 760 ...\n"
     ]
    }
   ],
   "source": [
    "features$X <- NULL\n",
    "str(features)"
   ]
  },
  {
   "cell_type": "code",
   "execution_count": null,
   "metadata": {},
   "outputs": [],
   "source": [
    "#### Load English text already preprocessed"
   ]
  },
  {
   "cell_type": "code",
   "execution_count": 71,
   "metadata": {},
   "outputs": [],
   "source": [
    "full_text_en <- fread(file=\"../Preprocessing/Files/Lexicon/full_text_en.csv\", sep =\",\", header = TRUE, \n",
    "              stringsAsFactors=FALSE,\n",
    "             showProgress=getOption(\"datatable.showProgress\", interactive()), data.table=FALSE)"
   ]
  },
  {
   "cell_type": "code",
   "execution_count": 72,
   "metadata": {},
   "outputs": [
    {
     "name": "stdout",
     "output_type": "stream",
     "text": [
      "'data.frame':\t3760412 obs. of  40 variables:\n",
      " $ rowno                      : num  1 2 3 4 5 6 7 8 9 10 ...\n",
      " $ user.id                    :integer64 1539100118 9439062 63380850 1539100118 9439062 26312359 40652267 296368494 ... \n",
      " $ user.location              : chr  \"Columbus, OH\" \"Atlanta, GA\" \"CaLove\" \"Columbus, OH\" ...\n",
      " $ user.description           : chr  \"Advocate for survivors of sexual violence. Breaker of silence, destroyer of shame.\" \"Husband. Father. Prelate. Human. Company builder, 2 exits. Author @kingonomics. Inclusive ecosystem builder @th\"| __truncated__ \"Jealous Guardian of our Democracy #RIPTrayvonMartin #ImAlwaysWithHer\" \"Advocate for survivors of sexual violence. Breaker of silence, destroyer of shame.\" ...\n",
      " $ created_at                 : chr  \"Sat Aug 09 22:33:06 +0000 2014\" \"Sat Aug 09 22:59:13 +0000 2014\" \"Sat Aug 09 22:00:02 +0000 2014\" \"Sat Aug 09 22:28:42 +0000 2014\" ...\n",
      " $ id                         : num  4.98e+17 4.98e+17 4.98e+17 4.98e+17 4.98e+17 ...\n",
      " $ user.created_at            : chr  \"Sat Jun 22 16:57:40 +0000 2013\" \"Sun Oct 14 15:51:11 +0000 2007\" \"Thu Aug 06 05:19:37 +0000 2009\" \"Sat Jun 22 16:57:40 +0000 2013\" ...\n",
      " $ retweeted                  : logi  FALSE FALSE FALSE FALSE FALSE FALSE ...\n",
      " $ retweeted_count            : logi  NA NA NA NA NA NA ...\n",
      " $ retweet                    : int  0 0 1 0 0 0 0 0 0 1 ...\n",
      " $ retweeted_status.created_at: chr  \"\" \"\" \"Sat Aug 09 20:34:54 +0000 2014\" \"\" ...\n",
      " $ favorited                  : logi  FALSE FALSE FALSE FALSE FALSE FALSE ...\n",
      " $ favorite_count             : int  107 1 0 10 2 0 0 3 6 0 ...\n",
      " $ textnum                    : num  1 2 3 4 5 6 7 8 9 10 ...\n",
      " $ full_text                  : chr  \"Black teenage boys are not men. They are children. Stop referring to a 17 year old as a man. You are killing ch\"| __truncated__ \"@PhaedraParks  While there, please tune in today's killing of the young black male in #Ferguson. #SaveOurBoys\" \"RT @PhenomMusik: @NAACP pictures speak 1000 words! Unarmed teen shot 10 times by #Ferguson police http://t.co/COLJqL4N3h\" \"SICK and TIRED of police killing unarmed people. #ferguson #walmart\" ...\n",
      " $ possibly_sensitive         : logi  NA NA FALSE NA NA FALSE ...\n",
      " $ hashtags                   : chr  \"ferguson\" \"c(\\\"\\\"\\\"\\\"Ferguson\\\"\\\"\\\"\\\" \\\"\\\"\\\"\\\"SaveOurBoys\\\"\\\"\\\"\\\")\" \"Ferguson\" \"c(\\\"\\\"\\\"\\\"ferguson\\\"\\\"\\\"\\\" \\\"\\\"\\\"\\\"walmart\\\"\\\"\\\"\\\")\" ...\n",
      " $ lang                       : chr  \"en\" \"en\" \"en\" \"en\" ...\n",
      " $ user.geo_enabled           : logi  TRUE FALSE TRUE TRUE FALSE TRUE ...\n",
      " $ place.full_name            : chr  \"\" \"\" \"\" \"\" ...\n",
      " $ place.place_type           : chr  \"\" \"\" \"\" \"\" ...\n",
      " $ utc_datetime               : chr  \"2014-08-09T22:33:06Z\" \"2014-08-09T22:59:13Z\" \"2014-08-09T22:00:02Z\" \"2014-08-09T22:28:42Z\" ...\n",
      " $ yday                       : int  221 221 221 221 221 221 221 221 221 221 ...\n",
      " $ ymd                        : chr  \"2014-08-09\" \"2014-08-09\" \"2014-08-09\" \"2014-08-09\" ...\n",
      " $ user_id2                   : int  542673 9237 174942 542673 9237 93300 134846 350432 90689 111314 ...\n",
      " $ user.location2             : chr  \"COLUMBUS OH\" \"ATLANTA GA\" \"CALOVE\" \"COLUMBUS OH\" ...\n",
      " $ City_code                  : chr  \"COLUMBUS OH\" \"ATLANTA GA\" NA \"COLUMBUS OH\" ...\n",
      " $ City_state                 : chr  \"COLUMBUS OHIO\" \"ATLANTA GEORGIA\" NA \"COLUMBUS OHIO\" ...\n",
      " $ City2                      : chr  \"COLUMBUS\" \"ATLANTA\" NA \"COLUMBUS\" ...\n",
      " $ State                      : chr  \"OHIO\" \"GEORGIA\" NA \"OHIO\" ...\n",
      " $ Code                       : chr  \"OH\" \"GA\" NA \"OH\" ...\n",
      " $ n                          : int  3 1 NA 3 1 NA NA NA NA NA ...\n",
      " $ keyword_pos_hash           : chr  \"c(120, 128)\" \"c(87, 98, 96, 109)\" \"c(82, 90)\" \"c(50, 60, 58, 67)\" ...\n",
      " $ keyword_count_hash         : int  1 2 1 2 1 2 1 2 2 1 ...\n",
      " $ full_text2                 : chr  \"Black teenage boys are not men. They are children. Stop referring to a 17 year old as a man. You are killing ch\"| __truncated__ \"While there, please tune in today's killing of the young black male in #Ferguson. #SaveOurBoys\" \"pictures speak 1000 words! Unarmed teen shot 10 times by #Ferguson police\" \"SICK and TIRED of police killing unarmed people. #ferguson #walmart\" ...\n",
      " $ full_text_nohash           : chr  \"Black teenage boys are not men. They are children. Stop referring to a 17 year old as a man. You are killing children.  \" \" While there, please tune in today's killing of the young black male in  .  \" \"RT : pictures speak 1000 words! Unarmed teen shot 10 times by   police \" \"SICK and TIRED of police killing unarmed people.    \" ...\n",
      " $ tweet_type                 : chr  \"All\" \"SB\" \"RT\" \"All\" ...\n",
      " $ full_text_nohash2          : chr  \"Black teenage boys are not men They are children Stop referring to a year old as a man You are killing children \" \" While there, please tune in today's killing of the young black male in \" \" pictures speak words! Unarmed teen shot times by police \" \"SICK and TIRED of police killing unarmed people \" ...\n",
      " $ full_text_low              : chr  \"black teenage boys are not men they are children stop referring to a year old as a man you are killing children \" \" while there please tune in todays killing of the young black male in \" \" pictures speak words unarmed teen shot times by police \" \"sick and tired of police killing unarmed people \" ...\n",
      " $ full_text_low_nostop       : chr  \"black teenage boys not men children stop referring year old man killing children\" \"please tune todays killing young black male\" \"pictures speak words unarmed teen shot times police\" \"sick tired police killing unarmed people\" ...\n"
     ]
    }
   ],
   "source": [
    "full_text_en$V1 <- NULL\n",
    "str(full_text_en)"
   ]
  },
  {
   "cell_type": "code",
   "execution_count": 46,
   "metadata": {},
   "outputs": [],
   "source": [
    "### Check for Washington DC in the tweet locations"
   ]
  },
  {
   "cell_type": "code",
   "execution_count": 73,
   "metadata": {},
   "outputs": [],
   "source": [
    "checkDC <- subset(full_text_en, user.location2 %like% \"WASHINGTON DC\")"
   ]
  },
  {
   "cell_type": "code",
   "execution_count": 74,
   "metadata": {},
   "outputs": [
    {
     "data": {
      "text/html": [
       "<ol class=list-inline>\n",
       "\t<li>'WASHINGTON DC'</li>\n",
       "\t<li>'WASHINGTON DC'</li>\n",
       "\t<li>'WASHINGTON DC'</li>\n",
       "\t<li>'WASHINGTON DC'</li>\n",
       "\t<li>'WASHINGTON DC'</li>\n",
       "\t<li>'WASHINGTON DC'</li>\n",
       "\t<li>'WASHINGTON DC'</li>\n",
       "\t<li>'WASHINGTON DC'</li>\n",
       "\t<li>'WASHINGTON DC'</li>\n",
       "\t<li>'WASHINGTON DC'</li>\n",
       "\t<li>'WASHINGTON DC'</li>\n",
       "\t<li>'WASHINGTON DC'</li>\n",
       "\t<li>'WASHINGTON DC'</li>\n",
       "\t<li>'WASHINGTON DC'</li>\n",
       "\t<li>'WASHINGTON DC'</li>\n",
       "\t<li>'WASHINGTON DC'</li>\n",
       "\t<li>'WASHINGTON DC'</li>\n",
       "\t<li>'WASHINGTON DC'</li>\n",
       "\t<li>'WASHINGTON DC'</li>\n",
       "\t<li>'WASHINGTON DC'</li>\n",
       "</ol>\n"
      ],
      "text/latex": [
       "\\begin{enumerate*}\n",
       "\\item 'WASHINGTON DC'\n",
       "\\item 'WASHINGTON DC'\n",
       "\\item 'WASHINGTON DC'\n",
       "\\item 'WASHINGTON DC'\n",
       "\\item 'WASHINGTON DC'\n",
       "\\item 'WASHINGTON DC'\n",
       "\\item 'WASHINGTON DC'\n",
       "\\item 'WASHINGTON DC'\n",
       "\\item 'WASHINGTON DC'\n",
       "\\item 'WASHINGTON DC'\n",
       "\\item 'WASHINGTON DC'\n",
       "\\item 'WASHINGTON DC'\n",
       "\\item 'WASHINGTON DC'\n",
       "\\item 'WASHINGTON DC'\n",
       "\\item 'WASHINGTON DC'\n",
       "\\item 'WASHINGTON DC'\n",
       "\\item 'WASHINGTON DC'\n",
       "\\item 'WASHINGTON DC'\n",
       "\\item 'WASHINGTON DC'\n",
       "\\item 'WASHINGTON DC'\n",
       "\\end{enumerate*}\n"
      ],
      "text/markdown": [
       "1. 'WASHINGTON DC'\n",
       "2. 'WASHINGTON DC'\n",
       "3. 'WASHINGTON DC'\n",
       "4. 'WASHINGTON DC'\n",
       "5. 'WASHINGTON DC'\n",
       "6. 'WASHINGTON DC'\n",
       "7. 'WASHINGTON DC'\n",
       "8. 'WASHINGTON DC'\n",
       "9. 'WASHINGTON DC'\n",
       "10. 'WASHINGTON DC'\n",
       "11. 'WASHINGTON DC'\n",
       "12. 'WASHINGTON DC'\n",
       "13. 'WASHINGTON DC'\n",
       "14. 'WASHINGTON DC'\n",
       "15. 'WASHINGTON DC'\n",
       "16. 'WASHINGTON DC'\n",
       "17. 'WASHINGTON DC'\n",
       "18. 'WASHINGTON DC'\n",
       "19. 'WASHINGTON DC'\n",
       "20. 'WASHINGTON DC'\n",
       "\n",
       "\n"
      ],
      "text/plain": [
       " [1] \"WASHINGTON DC\" \"WASHINGTON DC\" \"WASHINGTON DC\" \"WASHINGTON DC\"\n",
       " [5] \"WASHINGTON DC\" \"WASHINGTON DC\" \"WASHINGTON DC\" \"WASHINGTON DC\"\n",
       " [9] \"WASHINGTON DC\" \"WASHINGTON DC\" \"WASHINGTON DC\" \"WASHINGTON DC\"\n",
       "[13] \"WASHINGTON DC\" \"WASHINGTON DC\" \"WASHINGTON DC\" \"WASHINGTON DC\"\n",
       "[17] \"WASHINGTON DC\" \"WASHINGTON DC\" \"WASHINGTON DC\" \"WASHINGTON DC\""
      ]
     },
     "metadata": {},
     "output_type": "display_data"
    }
   ],
   "source": [
    "head(checkDC$user.location2, 20)"
   ]
  },
  {
   "cell_type": "code",
   "execution_count": 75,
   "metadata": {
    "scrolled": true
   },
   "outputs": [
    {
     "data": {
      "text/plain": [
       "\n",
       " <NA> \n",
       "54941 "
      ]
     },
     "metadata": {},
     "output_type": "display_data"
    }
   ],
   "source": [
    "table(checkDC$City_code, useNA = \"ifany\")"
   ]
  },
  {
   "cell_type": "code",
   "execution_count": 76,
   "metadata": {},
   "outputs": [],
   "source": [
    "full_text_en$user.location2 <- gsub(\"WASHINGTON D C\", \"WASHINGTON DC\",full_text_en$user.location2)"
   ]
  },
  {
   "cell_type": "code",
   "execution_count": 77,
   "metadata": {},
   "outputs": [
    {
     "data": {
      "text/html": [
       "59813"
      ],
      "text/latex": [
       "59813"
      ],
      "text/markdown": [
       "59813"
      ],
      "text/plain": [
       "[1] 59813"
      ]
     },
     "metadata": {},
     "output_type": "display_data"
    }
   ],
   "source": [
    "nrow(subset(full_text_en, user.location2 == \"WASHINGTON DC\"))"
   ]
  },
  {
   "cell_type": "code",
   "execution_count": 78,
   "metadata": {},
   "outputs": [],
   "source": [
    "full_text_en  <- full_text_en %>% \n",
    "                mutate(Code = ifelse(user.location2 == \"WASHINGTON DC\", \n",
    "                                 str_split_fixed(user.location2, \" \", n = 2)[, 2],\n",
    "                                 Code),\n",
    "                     State = ifelse(user.location2 == \"WASHINGTON DC\", \"DC\", State),\n",
    "                     City2 = ifelse(user.location2 == \"WASHINGTON DC\", \n",
    "                                    str_split_fixed(user.location2, \" \", n = 2)[, 1], \n",
    "                                   City2),\n",
    "                    City_code = ifelse(user.location2 == \"WASHINGTON DC\", \n",
    "                                       \"WASHINGTON DC\", City_code),\n",
    "                    City_state = ifelse(user.location2 == \"WASHINGTON DC\", \"WASHINGTON DC\", \n",
    "                                        City_state)\n",
    "                      )"
   ]
  },
  {
   "cell_type": "code",
   "execution_count": 79,
   "metadata": {},
   "outputs": [
    {
     "data": {
      "text/html": [
       "3760412"
      ],
      "text/latex": [
       "3760412"
      ],
      "text/markdown": [
       "3760412"
      ],
      "text/plain": [
       "[1] 3760412"
      ]
     },
     "metadata": {},
     "output_type": "display_data"
    }
   ],
   "source": [
    "nrow(full_text_en)"
   ]
  },
  {
   "cell_type": "code",
   "execution_count": 80,
   "metadata": {},
   "outputs": [],
   "source": [
    "###### Add Washington DC to cities_latlon"
   ]
  },
  {
   "cell_type": "code",
   "execution_count": 81,
   "metadata": {
    "scrolled": true
   },
   "outputs": [],
   "source": [
    "checkDC <- subset(cities_latlon, name == \"Washington D.C.\")"
   ]
  },
  {
   "cell_type": "code",
   "execution_count": 82,
   "metadata": {},
   "outputs": [],
   "source": [
    "checkDC$name <- gsub(\"\\\\.\", \"\", toupper(checkDC$name))"
   ]
  },
  {
   "cell_type": "code",
   "execution_count": 83,
   "metadata": {
    "scrolled": true
   },
   "outputs": [],
   "source": [
    "checkDC$city <- str_split_fixed(checkDC$name, \" \", n = 2)[, 1]\n",
    "checkDC$state <- str_split_fixed(checkDC$name, \" \", n = 2)[, 2]\n",
    "checkDC$location <- str_c(checkDC$city, \" \", checkDC$state)"
   ]
  },
  {
   "cell_type": "code",
   "execution_count": 84,
   "metadata": {},
   "outputs": [
    {
     "data": {
      "text/html": [
       "<ol class=list-inline>\n",
       "\t<li>'lon'</li>\n",
       "\t<li>'lat'</li>\n",
       "\t<li>'city'</li>\n",
       "\t<li>'state'</li>\n",
       "\t<li>'mapid'</li>\n",
       "\t<li>'area'</li>\n",
       "\t<li>'perimeter'</li>\n",
       "\t<li>'feature'</li>\n",
       "\t<li>'name'</li>\n",
       "\t<li>'fips'</li>\n",
       "\t<li>'fips55'</li>\n",
       "\t<li>'pop'</li>\n",
       "\t<li>'state_fips'</li>\n",
       "\t<li>'county'</li>\n",
       "\t<li>'location'</li>\n",
       "</ol>\n"
      ],
      "text/latex": [
       "\\begin{enumerate*}\n",
       "\\item 'lon'\n",
       "\\item 'lat'\n",
       "\\item 'city'\n",
       "\\item 'state'\n",
       "\\item 'mapid'\n",
       "\\item 'area'\n",
       "\\item 'perimeter'\n",
       "\\item 'feature'\n",
       "\\item 'name'\n",
       "\\item 'fips'\n",
       "\\item 'fips55'\n",
       "\\item 'pop'\n",
       "\\item 'state\\_fips'\n",
       "\\item 'county'\n",
       "\\item 'location'\n",
       "\\end{enumerate*}\n"
      ],
      "text/markdown": [
       "1. 'lon'\n",
       "2. 'lat'\n",
       "3. 'city'\n",
       "4. 'state'\n",
       "5. 'mapid'\n",
       "6. 'area'\n",
       "7. 'perimeter'\n",
       "8. 'feature'\n",
       "9. 'name'\n",
       "10. 'fips'\n",
       "11. 'fips55'\n",
       "12. 'pop'\n",
       "13. 'state_fips'\n",
       "14. 'county'\n",
       "15. 'location'\n",
       "\n",
       "\n"
      ],
      "text/plain": [
       " [1] \"lon\"        \"lat\"        \"city\"       \"state\"      \"mapid\"     \n",
       " [6] \"area\"       \"perimeter\"  \"feature\"    \"name\"       \"fips\"      \n",
       "[11] \"fips55\"     \"pop\"        \"state_fips\" \"county\"     \"location\"  "
      ]
     },
     "metadata": {},
     "output_type": "display_data"
    }
   ],
   "source": [
    "colnames(checkDC)"
   ]
  },
  {
   "cell_type": "code",
   "execution_count": 85,
   "metadata": {},
   "outputs": [],
   "source": [
    "cities_latlon[which(cities_latlon$name == \"Washington D.C.\"), ] <- checkDC"
   ]
  },
  {
   "cell_type": "code",
   "execution_count": 86,
   "metadata": {
    "scrolled": true
   },
   "outputs": [
    {
     "data": {
      "text/html": [
       "<table>\n",
       "<thead><tr><th></th><th scope=col>lon</th><th scope=col>lat</th><th scope=col>city</th><th scope=col>state</th><th scope=col>mapid</th><th scope=col>area</th><th scope=col>perimeter</th><th scope=col>feature</th><th scope=col>name</th><th scope=col>fips</th><th scope=col>fips55</th><th scope=col>pop</th><th scope=col>state_fips</th><th scope=col>county</th><th scope=col>location</th></tr></thead>\n",
       "<tbody>\n",
       "\t<tr><th scope=row>28703</th><td>-77.01257                                      </td><td>38.88912                                       </td><td>WASHINGTON                                     </td><td>DC                                             </td><td>28703                                          </td><td>0                                              </td><td>0                                              </td><td>Population 500,000 to 999,999  National Capital</td><td>WASHINGTON DC                                  </td><td>11001                                          </td><td>50000                                          </td><td>606900                                         </td><td>11                                             </td><td>NA                                             </td><td>WASHINGTON DC                                  </td></tr>\n",
       "</tbody>\n",
       "</table>\n"
      ],
      "text/latex": [
       "\\begin{tabular}{r|lllllllllllllll}\n",
       "  & lon & lat & city & state & mapid & area & perimeter & feature & name & fips & fips55 & pop & state\\_fips & county & location\\\\\n",
       "\\hline\n",
       "\t28703 & -77.01257                                       & 38.88912                                        & WASHINGTON                                      & DC                                              & 28703                                           & 0                                               & 0                                               & Population 500,000 to 999,999  National Capital & WASHINGTON DC                                   & 11001                                           & 50000                                           & 606900                                          & 11                                              & NA                                              & WASHINGTON DC                                  \\\\\n",
       "\\end{tabular}\n"
      ],
      "text/markdown": [
       "\n",
       "| <!--/--> | lon | lat | city | state | mapid | area | perimeter | feature | name | fips | fips55 | pop | state_fips | county | location | \n",
       "|---|\n",
       "| 28703 | -77.01257                                       | 38.88912                                        | WASHINGTON                                      | DC                                              | 28703                                           | 0                                               | 0                                               | Population 500,000 to 999,999  National Capital | WASHINGTON DC                                   | 11001                                           | 50000                                           | 606900                                          | 11                                              | NA                                              | WASHINGTON DC                                   | \n",
       "\n",
       "\n"
      ],
      "text/plain": [
       "      lon       lat      city       state mapid area perimeter\n",
       "28703 -77.01257 38.88912 WASHINGTON DC    28703 0    0        \n",
       "      feature                                         name          fips \n",
       "28703 Population 500,000 to 999,999  National Capital WASHINGTON DC 11001\n",
       "      fips55 pop    state_fips county location     \n",
       "28703 50000  606900 11         NA     WASHINGTON DC"
      ]
     },
     "metadata": {},
     "output_type": "display_data"
    }
   ],
   "source": [
    "checkDC"
   ]
  },
  {
   "cell_type": "code",
   "execution_count": 87,
   "metadata": {
    "scrolled": false
   },
   "outputs": [
    {
     "data": {
      "text/html": [
       "<table>\n",
       "<thead><tr><th></th><th scope=col>lon</th><th scope=col>lat</th><th scope=col>city</th><th scope=col>state</th><th scope=col>mapid</th><th scope=col>area</th><th scope=col>perimeter</th><th scope=col>feature</th><th scope=col>name</th><th scope=col>fips</th><th scope=col>fips55</th><th scope=col>pop</th><th scope=col>state_fips</th><th scope=col>county</th><th scope=col>location</th></tr></thead>\n",
       "<tbody>\n",
       "\t<tr><th scope=row>28703</th><td>-77.01257                                      </td><td>38.88912                                       </td><td>WASHINGTON                                     </td><td>DC                                             </td><td>28703                                          </td><td>0                                              </td><td>0                                              </td><td>Population 500,000 to 999,999  National Capital</td><td>WASHINGTON DC                                  </td><td>11001                                          </td><td>50000                                          </td><td>606900                                         </td><td>11                                             </td><td>NA                                             </td><td>WASHINGTON DC                                  </td></tr>\n",
       "</tbody>\n",
       "</table>\n"
      ],
      "text/latex": [
       "\\begin{tabular}{r|lllllllllllllll}\n",
       "  & lon & lat & city & state & mapid & area & perimeter & feature & name & fips & fips55 & pop & state\\_fips & county & location\\\\\n",
       "\\hline\n",
       "\t28703 & -77.01257                                       & 38.88912                                        & WASHINGTON                                      & DC                                              & 28703                                           & 0                                               & 0                                               & Population 500,000 to 999,999  National Capital & WASHINGTON DC                                   & 11001                                           & 50000                                           & 606900                                          & 11                                              & NA                                              & WASHINGTON DC                                  \\\\\n",
       "\\end{tabular}\n"
      ],
      "text/markdown": [
       "\n",
       "| <!--/--> | lon | lat | city | state | mapid | area | perimeter | feature | name | fips | fips55 | pop | state_fips | county | location | \n",
       "|---|\n",
       "| 28703 | -77.01257                                       | 38.88912                                        | WASHINGTON                                      | DC                                              | 28703                                           | 0                                               | 0                                               | Population 500,000 to 999,999  National Capital | WASHINGTON DC                                   | 11001                                           | 50000                                           | 606900                                          | 11                                              | NA                                              | WASHINGTON DC                                   | \n",
       "\n",
       "\n"
      ],
      "text/plain": [
       "      lon       lat      city       state mapid area perimeter\n",
       "28703 -77.01257 38.88912 WASHINGTON DC    28703 0    0        \n",
       "      feature                                         name          fips \n",
       "28703 Population 500,000 to 999,999  National Capital WASHINGTON DC 11001\n",
       "      fips55 pop    state_fips county location     \n",
       "28703 50000  606900 11         NA     WASHINGTON DC"
      ]
     },
     "metadata": {},
     "output_type": "display_data"
    }
   ],
   "source": [
    "subset(cities_latlon, name == \"WASHINGTON DC\")"
   ]
  },
  {
   "cell_type": "markdown",
   "metadata": {},
   "source": [
    "write.csv(cities_latlon, \"C:\\\\MathLabASUS\\\\Courses\\\\Ryerson\\\\Project\\\\Data\\\\Files\\\\Maps\\\\cities_latlondc.csv\")"
   ]
  },
  {
   "cell_type": "markdown",
   "metadata": {},
   "source": [
    "cities_latlon <- read.csv(\"C:\\\\MathLabASUS\\\\Courses\\\\Ryerson\\\\Project\\\\Data\\\\Files\\\\Maps\\\\cities_latlondc.csv\")"
   ]
  },
  {
   "cell_type": "markdown",
   "metadata": {
    "collapsed": true
   },
   "source": [
    "cities_latlon$X <- NULL\n",
    "str(cities_latlon)"
   ]
  },
  {
   "cell_type": "code",
   "execution_count": 89,
   "metadata": {},
   "outputs": [],
   "source": [
    "full_text_en <-  full_text_en %>% \n",
    "                left_join(cities_latlon[c(\"lon\", \"lat\", \"city\", \"state\")], \n",
    "                          by = c(\"City2\" = \"city\", \"Code\" = \"state\")) %>%\n",
    "                as.data.frame()"
   ]
  },
  {
   "cell_type": "code",
   "execution_count": 90,
   "metadata": {},
   "outputs": [],
   "source": [
    "get_num_tweets <- full_text_en %>% dplyr::select(one_of(c(\"ymd\", \"yday\", \"City_code\"))) %>%\n",
    "                                    group_by(ymd, yday, City_code) %>%\n",
    "                                            summarise(n2 = n()) %>%\n",
    "                as.data.frame()"
   ]
  },
  {
   "cell_type": "code",
   "execution_count": 38,
   "metadata": {
    "collapsed": true
   },
   "outputs": [
    {
     "name": "stdout",
     "output_type": "stream",
     "text": [
      "'data.frame':\t28438 obs. of  4 variables:\n",
      " $ ymd      : chr  \"2014-08-09\" \"2014-08-09\" \"2014-08-09\" \"2014-08-09\" ...\n",
      " $ yday     : int  221 221 221 221 221 221 221 221 221 221 ...\n",
      " $ City_code: chr  \"ATLANTA GA\" \"AUSTIN TX\" \"BALTIMORE MD\" \"BEAVERTON OR\" ...\n",
      " $ n2       : int  7 2 2 2 2 1 2 1 4 1 ...\n"
     ]
    }
   ],
   "source": [
    "str(get_num_tweets)"
   ]
  },
  {
   "cell_type": "code",
   "execution_count": 91,
   "metadata": {},
   "outputs": [
    {
     "data": {
      "text/html": [
       "<ol class=list-inline>\n",
       "\t<li>'rowno'</li>\n",
       "\t<li>'user.id'</li>\n",
       "\t<li>'user.location'</li>\n",
       "\t<li>'user.description'</li>\n",
       "\t<li>'created_at'</li>\n",
       "\t<li>'id'</li>\n",
       "\t<li>'user.created_at'</li>\n",
       "\t<li>'retweeted'</li>\n",
       "\t<li>'retweeted_count'</li>\n",
       "\t<li>'retweet'</li>\n",
       "\t<li>'retweeted_status.created_at'</li>\n",
       "\t<li>'favorited'</li>\n",
       "\t<li>'favorite_count'</li>\n",
       "\t<li>'textnum'</li>\n",
       "\t<li>'full_text'</li>\n",
       "\t<li>'possibly_sensitive'</li>\n",
       "\t<li>'hashtags'</li>\n",
       "\t<li>'lang'</li>\n",
       "\t<li>'user.geo_enabled'</li>\n",
       "\t<li>'place.full_name'</li>\n",
       "\t<li>'place.place_type'</li>\n",
       "\t<li>'utc_datetime'</li>\n",
       "\t<li>'yday'</li>\n",
       "\t<li>'ymd'</li>\n",
       "\t<li>'user_id2'</li>\n",
       "\t<li>'user.location2'</li>\n",
       "\t<li>'City_code'</li>\n",
       "\t<li>'City_state'</li>\n",
       "\t<li>'City2'</li>\n",
       "\t<li>'State'</li>\n",
       "\t<li>'Code'</li>\n",
       "\t<li>'n'</li>\n",
       "\t<li>'keyword_pos_hash'</li>\n",
       "\t<li>'keyword_count_hash'</li>\n",
       "\t<li>'full_text2'</li>\n",
       "\t<li>'full_text_nohash'</li>\n",
       "\t<li>'tweet_type'</li>\n",
       "\t<li>'full_text_nohash2'</li>\n",
       "\t<li>'full_text_low'</li>\n",
       "\t<li>'full_text_low_nostop'</li>\n",
       "\t<li>'lon'</li>\n",
       "\t<li>'lat'</li>\n",
       "</ol>\n"
      ],
      "text/latex": [
       "\\begin{enumerate*}\n",
       "\\item 'rowno'\n",
       "\\item 'user.id'\n",
       "\\item 'user.location'\n",
       "\\item 'user.description'\n",
       "\\item 'created\\_at'\n",
       "\\item 'id'\n",
       "\\item 'user.created\\_at'\n",
       "\\item 'retweeted'\n",
       "\\item 'retweeted\\_count'\n",
       "\\item 'retweet'\n",
       "\\item 'retweeted\\_status.created\\_at'\n",
       "\\item 'favorited'\n",
       "\\item 'favorite\\_count'\n",
       "\\item 'textnum'\n",
       "\\item 'full\\_text'\n",
       "\\item 'possibly\\_sensitive'\n",
       "\\item 'hashtags'\n",
       "\\item 'lang'\n",
       "\\item 'user.geo\\_enabled'\n",
       "\\item 'place.full\\_name'\n",
       "\\item 'place.place\\_type'\n",
       "\\item 'utc\\_datetime'\n",
       "\\item 'yday'\n",
       "\\item 'ymd'\n",
       "\\item 'user\\_id2'\n",
       "\\item 'user.location2'\n",
       "\\item 'City\\_code'\n",
       "\\item 'City\\_state'\n",
       "\\item 'City2'\n",
       "\\item 'State'\n",
       "\\item 'Code'\n",
       "\\item 'n'\n",
       "\\item 'keyword\\_pos\\_hash'\n",
       "\\item 'keyword\\_count\\_hash'\n",
       "\\item 'full\\_text2'\n",
       "\\item 'full\\_text\\_nohash'\n",
       "\\item 'tweet\\_type'\n",
       "\\item 'full\\_text\\_nohash2'\n",
       "\\item 'full\\_text\\_low'\n",
       "\\item 'full\\_text\\_low\\_nostop'\n",
       "\\item 'lon'\n",
       "\\item 'lat'\n",
       "\\end{enumerate*}\n"
      ],
      "text/markdown": [
       "1. 'rowno'\n",
       "2. 'user.id'\n",
       "3. 'user.location'\n",
       "4. 'user.description'\n",
       "5. 'created_at'\n",
       "6. 'id'\n",
       "7. 'user.created_at'\n",
       "8. 'retweeted'\n",
       "9. 'retweeted_count'\n",
       "10. 'retweet'\n",
       "11. 'retweeted_status.created_at'\n",
       "12. 'favorited'\n",
       "13. 'favorite_count'\n",
       "14. 'textnum'\n",
       "15. 'full_text'\n",
       "16. 'possibly_sensitive'\n",
       "17. 'hashtags'\n",
       "18. 'lang'\n",
       "19. 'user.geo_enabled'\n",
       "20. 'place.full_name'\n",
       "21. 'place.place_type'\n",
       "22. 'utc_datetime'\n",
       "23. 'yday'\n",
       "24. 'ymd'\n",
       "25. 'user_id2'\n",
       "26. 'user.location2'\n",
       "27. 'City_code'\n",
       "28. 'City_state'\n",
       "29. 'City2'\n",
       "30. 'State'\n",
       "31. 'Code'\n",
       "32. 'n'\n",
       "33. 'keyword_pos_hash'\n",
       "34. 'keyword_count_hash'\n",
       "35. 'full_text2'\n",
       "36. 'full_text_nohash'\n",
       "37. 'tweet_type'\n",
       "38. 'full_text_nohash2'\n",
       "39. 'full_text_low'\n",
       "40. 'full_text_low_nostop'\n",
       "41. 'lon'\n",
       "42. 'lat'\n",
       "\n",
       "\n"
      ],
      "text/plain": [
       " [1] \"rowno\"                       \"user.id\"                    \n",
       " [3] \"user.location\"               \"user.description\"           \n",
       " [5] \"created_at\"                  \"id\"                         \n",
       " [7] \"user.created_at\"             \"retweeted\"                  \n",
       " [9] \"retweeted_count\"             \"retweet\"                    \n",
       "[11] \"retweeted_status.created_at\" \"favorited\"                  \n",
       "[13] \"favorite_count\"              \"textnum\"                    \n",
       "[15] \"full_text\"                   \"possibly_sensitive\"         \n",
       "[17] \"hashtags\"                    \"lang\"                       \n",
       "[19] \"user.geo_enabled\"            \"place.full_name\"            \n",
       "[21] \"place.place_type\"            \"utc_datetime\"               \n",
       "[23] \"yday\"                        \"ymd\"                        \n",
       "[25] \"user_id2\"                    \"user.location2\"             \n",
       "[27] \"City_code\"                   \"City_state\"                 \n",
       "[29] \"City2\"                       \"State\"                      \n",
       "[31] \"Code\"                        \"n\"                          \n",
       "[33] \"keyword_pos_hash\"            \"keyword_count_hash\"         \n",
       "[35] \"full_text2\"                  \"full_text_nohash\"           \n",
       "[37] \"tweet_type\"                  \"full_text_nohash2\"          \n",
       "[39] \"full_text_low\"               \"full_text_low_nostop\"       \n",
       "[41] \"lon\"                         \"lat\"                        "
      ]
     },
     "metadata": {},
     "output_type": "display_data"
    }
   ],
   "source": [
    "colnames(full_text_en)"
   ]
  },
  {
   "cell_type": "code",
   "execution_count": 92,
   "metadata": {},
   "outputs": [],
   "source": [
    "full_text_en <- full_text_en %>% \n",
    "                inner_join(get_num_tweets, by =c(\"ymd\", \"yday\", \"City_code\")) %>%\n",
    "                dplyr::select(-n) %>%\n",
    "                dplyr::rename(\"n\" = \"n2\") %>%\n",
    "                as.data.frame()"
   ]
  },
  {
   "cell_type": "code",
   "execution_count": 93,
   "metadata": {
    "collapsed": true
   },
   "outputs": [
    {
     "data": {
      "text/html": [
       "<table>\n",
       "<thead><tr><th></th><th scope=col>City_code</th><th scope=col>lon</th><th scope=col>lat</th></tr></thead>\n",
       "<tbody>\n",
       "\t<tr><th scope=row>106</th><td>WASHINGTON DC</td><td>-77.01257    </td><td>38.88912     </td></tr>\n",
       "\t<tr><th scope=row>192</th><td>WASHINGTON DC</td><td>-77.01257    </td><td>38.88912     </td></tr>\n",
       "\t<tr><th scope=row>213</th><td>WASHINGTON DC</td><td>-77.01257    </td><td>38.88912     </td></tr>\n",
       "\t<tr><th scope=row>220</th><td>WASHINGTON DC</td><td>-77.01257    </td><td>38.88912     </td></tr>\n",
       "\t<tr><th scope=row>238</th><td>WASHINGTON DC</td><td>-77.01257    </td><td>38.88912     </td></tr>\n",
       "\t<tr><th scope=row>247</th><td>WASHINGTON DC</td><td>-77.01257    </td><td>38.88912     </td></tr>\n",
       "\t<tr><th scope=row>270</th><td>WASHINGTON DC</td><td>-77.01257    </td><td>38.88912     </td></tr>\n",
       "\t<tr><th scope=row>284</th><td>WASHINGTON DC</td><td>-77.01257    </td><td>38.88912     </td></tr>\n",
       "\t<tr><th scope=row>406</th><td>WASHINGTON DC</td><td>-77.01257    </td><td>38.88912     </td></tr>\n",
       "\t<tr><th scope=row>430</th><td>WASHINGTON DC</td><td>-77.01257    </td><td>38.88912     </td></tr>\n",
       "\t<tr><th scope=row>481</th><td>WASHINGTON DC</td><td>-77.01257    </td><td>38.88912     </td></tr>\n",
       "\t<tr><th scope=row>572</th><td>WASHINGTON DC</td><td>-77.01257    </td><td>38.88912     </td></tr>\n",
       "\t<tr><th scope=row>617</th><td>WASHINGTON DC</td><td>-77.01257    </td><td>38.88912     </td></tr>\n",
       "\t<tr><th scope=row>1000</th><td>WASHINGTON DC</td><td>-77.01257    </td><td>38.88912     </td></tr>\n",
       "\t<tr><th scope=row>1012</th><td>WASHINGTON DC</td><td>-77.01257    </td><td>38.88912     </td></tr>\n",
       "\t<tr><th scope=row>1117</th><td>WASHINGTON DC</td><td>-77.01257    </td><td>38.88912     </td></tr>\n",
       "\t<tr><th scope=row>1127</th><td>WASHINGTON DC</td><td>-77.01257    </td><td>38.88912     </td></tr>\n",
       "\t<tr><th scope=row>1165</th><td>WASHINGTON DC</td><td>-77.01257    </td><td>38.88912     </td></tr>\n",
       "\t<tr><th scope=row>1206</th><td>WASHINGTON DC</td><td>-77.01257    </td><td>38.88912     </td></tr>\n",
       "\t<tr><th scope=row>1237</th><td>WASHINGTON DC</td><td>-77.01257    </td><td>38.88912     </td></tr>\n",
       "\t<tr><th scope=row>1279</th><td>WASHINGTON DC</td><td>-77.01257    </td><td>38.88912     </td></tr>\n",
       "\t<tr><th scope=row>1444</th><td>WASHINGTON DC</td><td>-77.01257    </td><td>38.88912     </td></tr>\n",
       "\t<tr><th scope=row>1623</th><td>WASHINGTON DC</td><td>-77.01257    </td><td>38.88912     </td></tr>\n",
       "\t<tr><th scope=row>1625</th><td>WASHINGTON DC</td><td>-77.01257    </td><td>38.88912     </td></tr>\n",
       "\t<tr><th scope=row>1890</th><td>WASHINGTON DC</td><td>-77.01257    </td><td>38.88912     </td></tr>\n",
       "\t<tr><th scope=row>2011</th><td>WASHINGTON DC</td><td>-77.01257    </td><td>38.88912     </td></tr>\n",
       "\t<tr><th scope=row>2146</th><td>WASHINGTON DC</td><td>-77.01257    </td><td>38.88912     </td></tr>\n",
       "\t<tr><th scope=row>2231</th><td>WASHINGTON DC</td><td>-77.01257    </td><td>38.88912     </td></tr>\n",
       "\t<tr><th scope=row>2406</th><td>WASHINGTON DC</td><td>-77.01257    </td><td>38.88912     </td></tr>\n",
       "\t<tr><th scope=row>2521</th><td>WASHINGTON DC</td><td>-77.01257    </td><td>38.88912     </td></tr>\n",
       "\t<tr><th scope=row>...</th><td>...</td><td>...</td><td>...</td></tr>\n",
       "\t<tr><th scope=row>3636195</th><td>WASHINGTON DC</td><td>-77.01257    </td><td>38.88912     </td></tr>\n",
       "\t<tr><th scope=row>3636221</th><td>WASHINGTON DC</td><td>-77.01257    </td><td>38.88912     </td></tr>\n",
       "\t<tr><th scope=row>3636424</th><td>WASHINGTON DC</td><td>-77.01257    </td><td>38.88912     </td></tr>\n",
       "\t<tr><th scope=row>3636452</th><td>WASHINGTON DC</td><td>-77.01257    </td><td>38.88912     </td></tr>\n",
       "\t<tr><th scope=row>3636476</th><td>WASHINGTON DC</td><td>-77.01257    </td><td>38.88912     </td></tr>\n",
       "\t<tr><th scope=row>3636504</th><td>WASHINGTON DC</td><td>-77.01257    </td><td>38.88912     </td></tr>\n",
       "\t<tr><th scope=row>3636542</th><td>WASHINGTON DC</td><td>-77.01257    </td><td>38.88912     </td></tr>\n",
       "\t<tr><th scope=row>3636554</th><td>WASHINGTON DC</td><td>-77.01257    </td><td>38.88912     </td></tr>\n",
       "\t<tr><th scope=row>3636560</th><td>WASHINGTON DC</td><td>-77.01257    </td><td>38.88912     </td></tr>\n",
       "\t<tr><th scope=row>3636587</th><td>WASHINGTON DC</td><td>-77.01257    </td><td>38.88912     </td></tr>\n",
       "\t<tr><th scope=row>3636602</th><td>WASHINGTON DC</td><td>-77.01257    </td><td>38.88912     </td></tr>\n",
       "\t<tr><th scope=row>3636607</th><td>WASHINGTON DC</td><td>-77.01257    </td><td>38.88912     </td></tr>\n",
       "\t<tr><th scope=row>3636646</th><td>WASHINGTON DC</td><td>-77.01257    </td><td>38.88912     </td></tr>\n",
       "\t<tr><th scope=row>3636669</th><td>WASHINGTON DC</td><td>-77.01257    </td><td>38.88912     </td></tr>\n",
       "\t<tr><th scope=row>3636687</th><td>WASHINGTON DC</td><td>-77.01257    </td><td>38.88912     </td></tr>\n",
       "\t<tr><th scope=row>3636720</th><td>WASHINGTON DC</td><td>-77.01257    </td><td>38.88912     </td></tr>\n",
       "\t<tr><th scope=row>3636726</th><td>WASHINGTON DC</td><td>-77.01257    </td><td>38.88912     </td></tr>\n",
       "\t<tr><th scope=row>3636733</th><td>WASHINGTON DC</td><td>-77.01257    </td><td>38.88912     </td></tr>\n",
       "\t<tr><th scope=row>3636785</th><td>WASHINGTON DC</td><td>-77.01257    </td><td>38.88912     </td></tr>\n",
       "\t<tr><th scope=row>3636792</th><td>WASHINGTON DC</td><td>-77.01257    </td><td>38.88912     </td></tr>\n",
       "\t<tr><th scope=row>3636956</th><td>WASHINGTON DC</td><td>-77.01257    </td><td>38.88912     </td></tr>\n",
       "\t<tr><th scope=row>3637004</th><td>WASHINGTON DC</td><td>-77.01257    </td><td>38.88912     </td></tr>\n",
       "\t<tr><th scope=row>3637150</th><td>WASHINGTON DC</td><td>-77.01257    </td><td>38.88912     </td></tr>\n",
       "\t<tr><th scope=row>3637156</th><td>WASHINGTON DC</td><td>-77.01257    </td><td>38.88912     </td></tr>\n",
       "\t<tr><th scope=row>3637203</th><td>WASHINGTON DC</td><td>-77.01257    </td><td>38.88912     </td></tr>\n",
       "\t<tr><th scope=row>3637209</th><td>WASHINGTON DC</td><td>-77.01257    </td><td>38.88912     </td></tr>\n",
       "\t<tr><th scope=row>3637291</th><td>WASHINGTON DC</td><td>-77.01257    </td><td>38.88912     </td></tr>\n",
       "\t<tr><th scope=row>3637299</th><td>WASHINGTON DC</td><td>-77.01257    </td><td>38.88912     </td></tr>\n",
       "\t<tr><th scope=row>3637351</th><td>WASHINGTON DC</td><td>-77.01257    </td><td>38.88912     </td></tr>\n",
       "\t<tr><th scope=row>3637359</th><td>WASHINGTON DC</td><td>-77.01257    </td><td>38.88912     </td></tr>\n",
       "</tbody>\n",
       "</table>\n"
      ],
      "text/latex": [
       "\\begin{tabular}{r|lll}\n",
       "  & City\\_code & lon & lat\\\\\n",
       "\\hline\n",
       "\t106 & WASHINGTON DC & -77.01257     & 38.88912     \\\\\n",
       "\t192 & WASHINGTON DC & -77.01257     & 38.88912     \\\\\n",
       "\t213 & WASHINGTON DC & -77.01257     & 38.88912     \\\\\n",
       "\t220 & WASHINGTON DC & -77.01257     & 38.88912     \\\\\n",
       "\t238 & WASHINGTON DC & -77.01257     & 38.88912     \\\\\n",
       "\t247 & WASHINGTON DC & -77.01257     & 38.88912     \\\\\n",
       "\t270 & WASHINGTON DC & -77.01257     & 38.88912     \\\\\n",
       "\t284 & WASHINGTON DC & -77.01257     & 38.88912     \\\\\n",
       "\t406 & WASHINGTON DC & -77.01257     & 38.88912     \\\\\n",
       "\t430 & WASHINGTON DC & -77.01257     & 38.88912     \\\\\n",
       "\t481 & WASHINGTON DC & -77.01257     & 38.88912     \\\\\n",
       "\t572 & WASHINGTON DC & -77.01257     & 38.88912     \\\\\n",
       "\t617 & WASHINGTON DC & -77.01257     & 38.88912     \\\\\n",
       "\t1000 & WASHINGTON DC & -77.01257     & 38.88912     \\\\\n",
       "\t1012 & WASHINGTON DC & -77.01257     & 38.88912     \\\\\n",
       "\t1117 & WASHINGTON DC & -77.01257     & 38.88912     \\\\\n",
       "\t1127 & WASHINGTON DC & -77.01257     & 38.88912     \\\\\n",
       "\t1165 & WASHINGTON DC & -77.01257     & 38.88912     \\\\\n",
       "\t1206 & WASHINGTON DC & -77.01257     & 38.88912     \\\\\n",
       "\t1237 & WASHINGTON DC & -77.01257     & 38.88912     \\\\\n",
       "\t1279 & WASHINGTON DC & -77.01257     & 38.88912     \\\\\n",
       "\t1444 & WASHINGTON DC & -77.01257     & 38.88912     \\\\\n",
       "\t1623 & WASHINGTON DC & -77.01257     & 38.88912     \\\\\n",
       "\t1625 & WASHINGTON DC & -77.01257     & 38.88912     \\\\\n",
       "\t1890 & WASHINGTON DC & -77.01257     & 38.88912     \\\\\n",
       "\t2011 & WASHINGTON DC & -77.01257     & 38.88912     \\\\\n",
       "\t2146 & WASHINGTON DC & -77.01257     & 38.88912     \\\\\n",
       "\t2231 & WASHINGTON DC & -77.01257     & 38.88912     \\\\\n",
       "\t2406 & WASHINGTON DC & -77.01257     & 38.88912     \\\\\n",
       "\t2521 & WASHINGTON DC & -77.01257     & 38.88912     \\\\\n",
       "\t... & ... & ... & ...\\\\\n",
       "\t3636195 & WASHINGTON DC & -77.01257     & 38.88912     \\\\\n",
       "\t3636221 & WASHINGTON DC & -77.01257     & 38.88912     \\\\\n",
       "\t3636424 & WASHINGTON DC & -77.01257     & 38.88912     \\\\\n",
       "\t3636452 & WASHINGTON DC & -77.01257     & 38.88912     \\\\\n",
       "\t3636476 & WASHINGTON DC & -77.01257     & 38.88912     \\\\\n",
       "\t3636504 & WASHINGTON DC & -77.01257     & 38.88912     \\\\\n",
       "\t3636542 & WASHINGTON DC & -77.01257     & 38.88912     \\\\\n",
       "\t3636554 & WASHINGTON DC & -77.01257     & 38.88912     \\\\\n",
       "\t3636560 & WASHINGTON DC & -77.01257     & 38.88912     \\\\\n",
       "\t3636587 & WASHINGTON DC & -77.01257     & 38.88912     \\\\\n",
       "\t3636602 & WASHINGTON DC & -77.01257     & 38.88912     \\\\\n",
       "\t3636607 & WASHINGTON DC & -77.01257     & 38.88912     \\\\\n",
       "\t3636646 & WASHINGTON DC & -77.01257     & 38.88912     \\\\\n",
       "\t3636669 & WASHINGTON DC & -77.01257     & 38.88912     \\\\\n",
       "\t3636687 & WASHINGTON DC & -77.01257     & 38.88912     \\\\\n",
       "\t3636720 & WASHINGTON DC & -77.01257     & 38.88912     \\\\\n",
       "\t3636726 & WASHINGTON DC & -77.01257     & 38.88912     \\\\\n",
       "\t3636733 & WASHINGTON DC & -77.01257     & 38.88912     \\\\\n",
       "\t3636785 & WASHINGTON DC & -77.01257     & 38.88912     \\\\\n",
       "\t3636792 & WASHINGTON DC & -77.01257     & 38.88912     \\\\\n",
       "\t3636956 & WASHINGTON DC & -77.01257     & 38.88912     \\\\\n",
       "\t3637004 & WASHINGTON DC & -77.01257     & 38.88912     \\\\\n",
       "\t3637150 & WASHINGTON DC & -77.01257     & 38.88912     \\\\\n",
       "\t3637156 & WASHINGTON DC & -77.01257     & 38.88912     \\\\\n",
       "\t3637203 & WASHINGTON DC & -77.01257     & 38.88912     \\\\\n",
       "\t3637209 & WASHINGTON DC & -77.01257     & 38.88912     \\\\\n",
       "\t3637291 & WASHINGTON DC & -77.01257     & 38.88912     \\\\\n",
       "\t3637299 & WASHINGTON DC & -77.01257     & 38.88912     \\\\\n",
       "\t3637351 & WASHINGTON DC & -77.01257     & 38.88912     \\\\\n",
       "\t3637359 & WASHINGTON DC & -77.01257     & 38.88912     \\\\\n",
       "\\end{tabular}\n"
      ],
      "text/markdown": [
       "\n",
       "| <!--/--> | City_code | lon | lat | \n",
       "|---|---|---|---|---|---|---|---|---|---|---|---|---|---|---|---|---|---|---|---|---|---|---|---|---|---|---|---|---|---|---|---|---|---|---|---|---|---|---|---|---|---|---|---|---|---|---|---|---|---|---|---|---|---|---|---|---|---|---|---|---|\n",
       "| 106 | WASHINGTON DC | -77.01257     | 38.88912      | \n",
       "| 192 | WASHINGTON DC | -77.01257     | 38.88912      | \n",
       "| 213 | WASHINGTON DC | -77.01257     | 38.88912      | \n",
       "| 220 | WASHINGTON DC | -77.01257     | 38.88912      | \n",
       "| 238 | WASHINGTON DC | -77.01257     | 38.88912      | \n",
       "| 247 | WASHINGTON DC | -77.01257     | 38.88912      | \n",
       "| 270 | WASHINGTON DC | -77.01257     | 38.88912      | \n",
       "| 284 | WASHINGTON DC | -77.01257     | 38.88912      | \n",
       "| 406 | WASHINGTON DC | -77.01257     | 38.88912      | \n",
       "| 430 | WASHINGTON DC | -77.01257     | 38.88912      | \n",
       "| 481 | WASHINGTON DC | -77.01257     | 38.88912      | \n",
       "| 572 | WASHINGTON DC | -77.01257     | 38.88912      | \n",
       "| 617 | WASHINGTON DC | -77.01257     | 38.88912      | \n",
       "| 1000 | WASHINGTON DC | -77.01257     | 38.88912      | \n",
       "| 1012 | WASHINGTON DC | -77.01257     | 38.88912      | \n",
       "| 1117 | WASHINGTON DC | -77.01257     | 38.88912      | \n",
       "| 1127 | WASHINGTON DC | -77.01257     | 38.88912      | \n",
       "| 1165 | WASHINGTON DC | -77.01257     | 38.88912      | \n",
       "| 1206 | WASHINGTON DC | -77.01257     | 38.88912      | \n",
       "| 1237 | WASHINGTON DC | -77.01257     | 38.88912      | \n",
       "| 1279 | WASHINGTON DC | -77.01257     | 38.88912      | \n",
       "| 1444 | WASHINGTON DC | -77.01257     | 38.88912      | \n",
       "| 1623 | WASHINGTON DC | -77.01257     | 38.88912      | \n",
       "| 1625 | WASHINGTON DC | -77.01257     | 38.88912      | \n",
       "| 1890 | WASHINGTON DC | -77.01257     | 38.88912      | \n",
       "| 2011 | WASHINGTON DC | -77.01257     | 38.88912      | \n",
       "| 2146 | WASHINGTON DC | -77.01257     | 38.88912      | \n",
       "| 2231 | WASHINGTON DC | -77.01257     | 38.88912      | \n",
       "| 2406 | WASHINGTON DC | -77.01257     | 38.88912      | \n",
       "| 2521 | WASHINGTON DC | -77.01257     | 38.88912      | \n",
       "| ... | ... | ... | ... | \n",
       "| 3636195 | WASHINGTON DC | -77.01257     | 38.88912      | \n",
       "| 3636221 | WASHINGTON DC | -77.01257     | 38.88912      | \n",
       "| 3636424 | WASHINGTON DC | -77.01257     | 38.88912      | \n",
       "| 3636452 | WASHINGTON DC | -77.01257     | 38.88912      | \n",
       "| 3636476 | WASHINGTON DC | -77.01257     | 38.88912      | \n",
       "| 3636504 | WASHINGTON DC | -77.01257     | 38.88912      | \n",
       "| 3636542 | WASHINGTON DC | -77.01257     | 38.88912      | \n",
       "| 3636554 | WASHINGTON DC | -77.01257     | 38.88912      | \n",
       "| 3636560 | WASHINGTON DC | -77.01257     | 38.88912      | \n",
       "| 3636587 | WASHINGTON DC | -77.01257     | 38.88912      | \n",
       "| 3636602 | WASHINGTON DC | -77.01257     | 38.88912      | \n",
       "| 3636607 | WASHINGTON DC | -77.01257     | 38.88912      | \n",
       "| 3636646 | WASHINGTON DC | -77.01257     | 38.88912      | \n",
       "| 3636669 | WASHINGTON DC | -77.01257     | 38.88912      | \n",
       "| 3636687 | WASHINGTON DC | -77.01257     | 38.88912      | \n",
       "| 3636720 | WASHINGTON DC | -77.01257     | 38.88912      | \n",
       "| 3636726 | WASHINGTON DC | -77.01257     | 38.88912      | \n",
       "| 3636733 | WASHINGTON DC | -77.01257     | 38.88912      | \n",
       "| 3636785 | WASHINGTON DC | -77.01257     | 38.88912      | \n",
       "| 3636792 | WASHINGTON DC | -77.01257     | 38.88912      | \n",
       "| 3636956 | WASHINGTON DC | -77.01257     | 38.88912      | \n",
       "| 3637004 | WASHINGTON DC | -77.01257     | 38.88912      | \n",
       "| 3637150 | WASHINGTON DC | -77.01257     | 38.88912      | \n",
       "| 3637156 | WASHINGTON DC | -77.01257     | 38.88912      | \n",
       "| 3637203 | WASHINGTON DC | -77.01257     | 38.88912      | \n",
       "| 3637209 | WASHINGTON DC | -77.01257     | 38.88912      | \n",
       "| 3637291 | WASHINGTON DC | -77.01257     | 38.88912      | \n",
       "| 3637299 | WASHINGTON DC | -77.01257     | 38.88912      | \n",
       "| 3637351 | WASHINGTON DC | -77.01257     | 38.88912      | \n",
       "| 3637359 | WASHINGTON DC | -77.01257     | 38.88912      | \n",
       "\n",
       "\n"
      ],
      "text/plain": [
       "        City_code     lon       lat     \n",
       "106     WASHINGTON DC -77.01257 38.88912\n",
       "192     WASHINGTON DC -77.01257 38.88912\n",
       "213     WASHINGTON DC -77.01257 38.88912\n",
       "220     WASHINGTON DC -77.01257 38.88912\n",
       "238     WASHINGTON DC -77.01257 38.88912\n",
       "247     WASHINGTON DC -77.01257 38.88912\n",
       "270     WASHINGTON DC -77.01257 38.88912\n",
       "284     WASHINGTON DC -77.01257 38.88912\n",
       "406     WASHINGTON DC -77.01257 38.88912\n",
       "430     WASHINGTON DC -77.01257 38.88912\n",
       "481     WASHINGTON DC -77.01257 38.88912\n",
       "572     WASHINGTON DC -77.01257 38.88912\n",
       "617     WASHINGTON DC -77.01257 38.88912\n",
       "1000    WASHINGTON DC -77.01257 38.88912\n",
       "1012    WASHINGTON DC -77.01257 38.88912\n",
       "1117    WASHINGTON DC -77.01257 38.88912\n",
       "1127    WASHINGTON DC -77.01257 38.88912\n",
       "1165    WASHINGTON DC -77.01257 38.88912\n",
       "1206    WASHINGTON DC -77.01257 38.88912\n",
       "1237    WASHINGTON DC -77.01257 38.88912\n",
       "1279    WASHINGTON DC -77.01257 38.88912\n",
       "1444    WASHINGTON DC -77.01257 38.88912\n",
       "1623    WASHINGTON DC -77.01257 38.88912\n",
       "1625    WASHINGTON DC -77.01257 38.88912\n",
       "1890    WASHINGTON DC -77.01257 38.88912\n",
       "2011    WASHINGTON DC -77.01257 38.88912\n",
       "2146    WASHINGTON DC -77.01257 38.88912\n",
       "2231    WASHINGTON DC -77.01257 38.88912\n",
       "2406    WASHINGTON DC -77.01257 38.88912\n",
       "2521    WASHINGTON DC -77.01257 38.88912\n",
       "...     ...           ...       ...     \n",
       "3636195 WASHINGTON DC -77.01257 38.88912\n",
       "3636221 WASHINGTON DC -77.01257 38.88912\n",
       "3636424 WASHINGTON DC -77.01257 38.88912\n",
       "3636452 WASHINGTON DC -77.01257 38.88912\n",
       "3636476 WASHINGTON DC -77.01257 38.88912\n",
       "3636504 WASHINGTON DC -77.01257 38.88912\n",
       "3636542 WASHINGTON DC -77.01257 38.88912\n",
       "3636554 WASHINGTON DC -77.01257 38.88912\n",
       "3636560 WASHINGTON DC -77.01257 38.88912\n",
       "3636587 WASHINGTON DC -77.01257 38.88912\n",
       "3636602 WASHINGTON DC -77.01257 38.88912\n",
       "3636607 WASHINGTON DC -77.01257 38.88912\n",
       "3636646 WASHINGTON DC -77.01257 38.88912\n",
       "3636669 WASHINGTON DC -77.01257 38.88912\n",
       "3636687 WASHINGTON DC -77.01257 38.88912\n",
       "3636720 WASHINGTON DC -77.01257 38.88912\n",
       "3636726 WASHINGTON DC -77.01257 38.88912\n",
       "3636733 WASHINGTON DC -77.01257 38.88912\n",
       "3636785 WASHINGTON DC -77.01257 38.88912\n",
       "3636792 WASHINGTON DC -77.01257 38.88912\n",
       "3636956 WASHINGTON DC -77.01257 38.88912\n",
       "3637004 WASHINGTON DC -77.01257 38.88912\n",
       "3637150 WASHINGTON DC -77.01257 38.88912\n",
       "3637156 WASHINGTON DC -77.01257 38.88912\n",
       "3637203 WASHINGTON DC -77.01257 38.88912\n",
       "3637209 WASHINGTON DC -77.01257 38.88912\n",
       "3637291 WASHINGTON DC -77.01257 38.88912\n",
       "3637299 WASHINGTON DC -77.01257 38.88912\n",
       "3637351 WASHINGTON DC -77.01257 38.88912\n",
       "3637359 WASHINGTON DC -77.01257 38.88912"
      ]
     },
     "metadata": {},
     "output_type": "display_data"
    }
   ],
   "source": [
    "subset(full_text_en[c(\"City_code\", \"lon\", \"lat\")], City_code == \"WASHINGTON DC\")"
   ]
  },
  {
   "cell_type": "code",
   "execution_count": null,
   "metadata": {},
   "outputs": [],
   "source": [
    "### Placeholder to read and write new full_text_en file with Washington DC city added as \n",
    "### a location"
   ]
  },
  {
   "cell_type": "markdown",
   "metadata": {},
   "source": [
    "write.csv(full_text_en, \"C:\\\\MathLabASUS\\\\Courses\\\\Ryerson\\\\Project\\\\Data\\\\Files\\\\Lexicon\\\\full_text_en2_dc.csv\")"
   ]
  },
  {
   "cell_type": "markdown",
   "metadata": {},
   "source": [
    "full_text_en2 <- fread(file=\"C:\\\\MathLabASUS\\\\Courses\\\\Ryerson\\\\Project\\\\Data\\\\Files\\\\Lexicon\\\\full_text_en2_dc.csv\", sep =\",\", header = TRUE, \n",
    "              stringsAsFactors=FALSE,\n",
    "             showProgress=getOption(\"datatable.showProgress\", interactive()), data.table=FALSE)"
   ]
  },
  {
   "cell_type": "code",
   "execution_count": 10,
   "metadata": {
    "collapsed": true
   },
   "outputs": [
    {
     "name": "stdout",
     "output_type": "stream",
     "text": [
      "'data.frame':\t3760412 obs. of  43 variables:\n",
      " $ V1                         : int  1 2 3 4 5 6 7 8 9 10 ...\n",
      " $ rowno                      : num  1 2 3 4 5 6 7 8 9 10 ...\n",
      " $ user.id                    :integer64 1539100118 9439062 63380850 1539100118 9439062 26312359 40652267 296368494 ... \n",
      " $ user.location              : chr  \"Columbus, OH\" \"Atlanta, GA\" \"CaLove\" \"Columbus, OH\" ...\n",
      " $ user.description           : chr  \"Advocate for survivors of sexual violence. Breaker of silence, destroyer of shame.\" \"Husband. Father. Prelate. Human. Company builder, 2 exits. Author @kingonomics. Inclusive ecosystem builder @th\"| __truncated__ \"Jealous Guardian of our Democracy #RIPTrayvonMartin #ImAlwaysWithHer\" \"Advocate for survivors of sexual violence. Breaker of silence, destroyer of shame.\" ...\n",
      " $ created_at                 : chr  \"Sat Aug 09 22:33:06 +0000 2014\" \"Sat Aug 09 22:59:13 +0000 2014\" \"Sat Aug 09 22:00:02 +0000 2014\" \"Sat Aug 09 22:28:42 +0000 2014\" ...\n",
      " $ id                         : num  4.98e+17 4.98e+17 4.98e+17 4.98e+17 4.98e+17 ...\n",
      " $ user.created_at            : chr  \"Sat Jun 22 16:57:40 +0000 2013\" \"Sun Oct 14 15:51:11 +0000 2007\" \"Thu Aug 06 05:19:37 +0000 2009\" \"Sat Jun 22 16:57:40 +0000 2013\" ...\n",
      " $ retweeted                  : logi  FALSE FALSE FALSE FALSE FALSE FALSE ...\n",
      " $ retweeted_count            : logi  NA NA NA NA NA NA ...\n",
      " $ retweet                    : int  0 0 1 0 0 0 0 0 0 1 ...\n",
      " $ retweeted_status.created_at: chr  \"\" \"\" \"Sat Aug 09 20:34:54 +0000 2014\" \"\" ...\n",
      " $ favorited                  : logi  FALSE FALSE FALSE FALSE FALSE FALSE ...\n",
      " $ favorite_count             : int  107 1 0 10 2 0 0 3 6 0 ...\n",
      " $ textnum                    : num  1 2 3 4 5 6 7 8 9 10 ...\n",
      " $ full_text                  : chr  \"Black teenage boys are not men. They are children. Stop referring to a 17 year old as a man. You are killing ch\"| __truncated__ \"@PhaedraParks  While there, please tune in today's killing of the young black male in #Ferguson. #SaveOurBoys\" \"RT @PhenomMusik: @NAACP pictures speak 1000 words! Unarmed teen shot 10 times by #Ferguson police http://t.co/COLJqL4N3h\" \"SICK and TIRED of police killing unarmed people. #ferguson #walmart\" ...\n",
      " $ possibly_sensitive         : logi  NA NA FALSE NA NA FALSE ...\n",
      " $ hashtags                   : chr  \"ferguson\" \"c(\\\"\\\"\\\"\\\"\\\"\\\"\\\"\\\"\\\"\\\"\\\"\\\"\\\"\\\"\\\"\\\"Ferguson\\\"\\\"\\\"\\\"\\\"\\\"\\\"\\\"\\\"\\\"\\\"\\\"\\\"\\\"\\\"\\\" \\\"\\\"\\\"\\\"\\\"\\\"\\\"\\\"\\\"\\\"\\\"\\\"\\\"\\\"\\\"\\\"Save\"| __truncated__ \"Ferguson\" \"c(\\\"\\\"\\\"\\\"\\\"\\\"\\\"\\\"\\\"\\\"\\\"\\\"\\\"\\\"\\\"\\\"ferguson\\\"\\\"\\\"\\\"\\\"\\\"\\\"\\\"\\\"\\\"\\\"\\\"\\\"\\\"\\\"\\\" \\\"\\\"\\\"\\\"\\\"\\\"\\\"\\\"\\\"\\\"\\\"\\\"\\\"\\\"\\\"\\\"walm\"| __truncated__ ...\n",
      " $ lang                       : chr  \"en\" \"en\" \"en\" \"en\" ...\n",
      " $ user.geo_enabled           : logi  TRUE FALSE TRUE TRUE FALSE TRUE ...\n",
      " $ place.full_name            : chr  \"\" \"\" \"\" \"\" ...\n",
      " $ place.place_type           : chr  \"\" \"\" \"\" \"\" ...\n",
      " $ utc_datetime               : chr  \"2014-08-09T22:33:06Z\" \"2014-08-09T22:59:13Z\" \"2014-08-09T22:00:02Z\" \"2014-08-09T22:28:42Z\" ...\n",
      " $ yday                       : int  221 221 221 221 221 221 221 221 221 221 ...\n",
      " $ ymd                        : chr  \"2014-08-09\" \"2014-08-09\" \"2014-08-09\" \"2014-08-09\" ...\n",
      " $ user_id2                   : int  542673 9237 174942 542673 9237 93300 134846 350432 90689 111314 ...\n",
      " $ user.location2             : chr  \"COLUMBUS OH\" \"ATLANTA GA\" \"CALOVE\" \"COLUMBUS OH\" ...\n",
      " $ City_code                  : chr  \"COLUMBUS OH\" \"ATLANTA GA\" NA \"COLUMBUS OH\" ...\n",
      " $ City_state                 : chr  \"COLUMBUS OHIO\" \"ATLANTA GEORGIA\" NA \"COLUMBUS OHIO\" ...\n",
      " $ City2                      : chr  \"COLUMBUS\" \"ATLANTA\" NA \"COLUMBUS\" ...\n",
      " $ State                      : chr  \"OHIO\" \"GEORGIA\" NA \"OHIO\" ...\n",
      " $ Code                       : chr  \"OH\" \"GA\" NA \"OH\" ...\n",
      " $ keyword_pos_hash           : chr  \"c(120, 128)\" \"c(87, 98, 96, 109)\" \"c(82, 90)\" \"c(50, 60, 58, 67)\" ...\n",
      " $ keyword_count_hash         : int  1 2 1 2 1 2 1 2 2 1 ...\n",
      " $ full_text2                 : chr  \"Black teenage boys are not men. They are children. Stop referring to a 17 year old as a man. You are killing ch\"| __truncated__ \"While there, please tune in today's killing of the young black male in #Ferguson. #SaveOurBoys\" \"pictures speak 1000 words! Unarmed teen shot 10 times by #Ferguson police\" \"SICK and TIRED of police killing unarmed people. #ferguson #walmart\" ...\n",
      " $ full_text_nohash           : chr  \"Black teenage boys are not men. They are children. Stop referring to a 17 year old as a man. You are killing children.  \" \" While there, please tune in today's killing of the young black male in  .  \" \"RT : pictures speak 1000 words! Unarmed teen shot 10 times by   police \" \"SICK and TIRED of police killing unarmed people.    \" ...\n",
      " $ tweet_type                 : chr  \"All\" \"SB\" \"RT\" \"All\" ...\n",
      " $ full_text_nohash2          : chr  \"Black teenage boys are not men They are children Stop referring to a year old as a man You are killing children \" \" While there, please tune in today's killing of the young black male in \" \" pictures speak words! Unarmed teen shot times by police \" \"SICK and TIRED of police killing unarmed people \" ...\n",
      " $ full_text_low              : chr  \"black teenage boys are not men they are children stop referring to a year old as a man you are killing children \" \" while there please tune in todays killing of the young black male in \" \" pictures speak words unarmed teen shot times by police \" \"sick and tired of police killing unarmed people \" ...\n",
      " $ full_text_low_nostop       : chr  \"black teenage boys not men children stop referring year old man killing children\" \"please tune todays killing young black male\" \"pictures speak words unarmed teen shot times police\" \"sick tired police killing unarmed people\" ...\n",
      " $ lon                        : num  NA NA NA NA NA NA NA NA NA NA ...\n",
      " $ lat                        : num  NA NA NA NA NA NA NA NA NA NA ...\n",
      " $ n                          : int  5 7 391 5 7 391 391 391 391 391 ...\n"
     ]
    }
   ],
   "source": [
    "str(full_text_en2)\n",
    "full_text_en2$V1 <- NULL"
   ]
  },
  {
   "cell_type": "code",
   "execution_count": 136,
   "metadata": {},
   "outputs": [
    {
     "data": {
      "text/html": [
       "850179"
      ],
      "text/latex": [
       "850179"
      ],
      "text/markdown": [
       "850179"
      ],
      "text/plain": [
       "[1] 850179"
      ]
     },
     "metadata": {},
     "output_type": "display_data"
    }
   ],
   "source": [
    "NROW(unique(full_text_en$full_text_low_nostop))"
   ]
  },
  {
   "cell_type": "code",
   "execution_count": 94,
   "metadata": {
    "scrolled": true
   },
   "outputs": [],
   "source": [
    "washingtonDC <- subset(demo_cols_csv, geography == \"Washington city, District of Columbia\")"
   ]
  },
  {
   "cell_type": "code",
   "execution_count": null,
   "metadata": {},
   "outputs": [],
   "source": [
    "### Add missing Washington DC info by reordering columns in features and demo_cols_csv to \n",
    "### match"
   ]
  },
  {
   "cell_type": "code",
   "execution_count": 98,
   "metadata": {},
   "outputs": [],
   "source": [
    "features <- features %>% dplyr::select(Code:house_median_income, \n",
    "                                med_per_urban:state, location:count_rate) %>%\n",
    "                        as.data.frame()\n",
    "                        "
   ]
  },
  {
   "cell_type": "code",
   "execution_count": 99,
   "metadata": {},
   "outputs": [
    {
     "data": {
      "text/html": [
       "<ol class=list-inline>\n",
       "\t<li>'rownum'</li>\n",
       "\t<li>'id'</li>\n",
       "\t<li>'id2'</li>\n",
       "\t<li>'geography'</li>\n",
       "\t<li>'totalpopulation'</li>\n",
       "\t<li>'malepop'</li>\n",
       "\t<li>'femalepop'</li>\n",
       "\t<li>'medianage'</li>\n",
       "\t<li>'per_male'</li>\n",
       "\t<li>'per_female'</li>\n",
       "\t<li>'total_area'</li>\n",
       "\t<li>'urban'</li>\n",
       "\t<li>'rural'</li>\n",
       "\t<li>'per_urban'</li>\n",
       "\t<li>'per_rural'</li>\n",
       "\t<li>'house_total_population'</li>\n",
       "\t<li>'mean_income_per_capita'</li>\n",
       "\t<li>'house_total_income'</li>\n",
       "\t<li>'total_population_race'</li>\n",
       "\t<li>'white_population'</li>\n",
       "\t<li>'black_population'</li>\n",
       "\t<li>'per_white'</li>\n",
       "\t<li>'per_black'</li>\n",
       "\t<li>'total_pop_over16'</li>\n",
       "\t<li>'employ_pop_over16'</li>\n",
       "\t<li>'per_employ_over16'</li>\n",
       "\t<li>'total_population_lang'</li>\n",
       "\t<li>'english_only'</li>\n",
       "\t<li>'english_other'</li>\n",
       "\t<li>'per_english_only'</li>\n",
       "\t<li>'per_english_other'</li>\n",
       "\t<li>'state'</li>\n",
       "\t<li>'city'</li>\n",
       "\t<li>'mean_income_households'</li>\n",
       "\t<li>'total_population_individuals'</li>\n",
       "\t<li>'house_median_income'</li>\n",
       "</ol>\n"
      ],
      "text/latex": [
       "\\begin{enumerate*}\n",
       "\\item 'rownum'\n",
       "\\item 'id'\n",
       "\\item 'id2'\n",
       "\\item 'geography'\n",
       "\\item 'totalpopulation'\n",
       "\\item 'malepop'\n",
       "\\item 'femalepop'\n",
       "\\item 'medianage'\n",
       "\\item 'per\\_male'\n",
       "\\item 'per\\_female'\n",
       "\\item 'total\\_area'\n",
       "\\item 'urban'\n",
       "\\item 'rural'\n",
       "\\item 'per\\_urban'\n",
       "\\item 'per\\_rural'\n",
       "\\item 'house\\_total\\_population'\n",
       "\\item 'mean\\_income\\_per\\_capita'\n",
       "\\item 'house\\_total\\_income'\n",
       "\\item 'total\\_population\\_race'\n",
       "\\item 'white\\_population'\n",
       "\\item 'black\\_population'\n",
       "\\item 'per\\_white'\n",
       "\\item 'per\\_black'\n",
       "\\item 'total\\_pop\\_over16'\n",
       "\\item 'employ\\_pop\\_over16'\n",
       "\\item 'per\\_employ\\_over16'\n",
       "\\item 'total\\_population\\_lang'\n",
       "\\item 'english\\_only'\n",
       "\\item 'english\\_other'\n",
       "\\item 'per\\_english\\_only'\n",
       "\\item 'per\\_english\\_other'\n",
       "\\item 'state'\n",
       "\\item 'city'\n",
       "\\item 'mean\\_income\\_households'\n",
       "\\item 'total\\_population\\_individuals'\n",
       "\\item 'house\\_median\\_income'\n",
       "\\end{enumerate*}\n"
      ],
      "text/markdown": [
       "1. 'rownum'\n",
       "2. 'id'\n",
       "3. 'id2'\n",
       "4. 'geography'\n",
       "5. 'totalpopulation'\n",
       "6. 'malepop'\n",
       "7. 'femalepop'\n",
       "8. 'medianage'\n",
       "9. 'per_male'\n",
       "10. 'per_female'\n",
       "11. 'total_area'\n",
       "12. 'urban'\n",
       "13. 'rural'\n",
       "14. 'per_urban'\n",
       "15. 'per_rural'\n",
       "16. 'house_total_population'\n",
       "17. 'mean_income_per_capita'\n",
       "18. 'house_total_income'\n",
       "19. 'total_population_race'\n",
       "20. 'white_population'\n",
       "21. 'black_population'\n",
       "22. 'per_white'\n",
       "23. 'per_black'\n",
       "24. 'total_pop_over16'\n",
       "25. 'employ_pop_over16'\n",
       "26. 'per_employ_over16'\n",
       "27. 'total_population_lang'\n",
       "28. 'english_only'\n",
       "29. 'english_other'\n",
       "30. 'per_english_only'\n",
       "31. 'per_english_other'\n",
       "32. 'state'\n",
       "33. 'city'\n",
       "34. 'mean_income_households'\n",
       "35. 'total_population_individuals'\n",
       "36. 'house_median_income'\n",
       "\n",
       "\n"
      ],
      "text/plain": [
       " [1] \"rownum\"                       \"id\"                          \n",
       " [3] \"id2\"                          \"geography\"                   \n",
       " [5] \"totalpopulation\"              \"malepop\"                     \n",
       " [7] \"femalepop\"                    \"medianage\"                   \n",
       " [9] \"per_male\"                     \"per_female\"                  \n",
       "[11] \"total_area\"                   \"urban\"                       \n",
       "[13] \"rural\"                        \"per_urban\"                   \n",
       "[15] \"per_rural\"                    \"house_total_population\"      \n",
       "[17] \"mean_income_per_capita\"       \"house_total_income\"          \n",
       "[19] \"total_population_race\"        \"white_population\"            \n",
       "[21] \"black_population\"             \"per_white\"                   \n",
       "[23] \"per_black\"                    \"total_pop_over16\"            \n",
       "[25] \"employ_pop_over16\"            \"per_employ_over16\"           \n",
       "[27] \"total_population_lang\"        \"english_only\"                \n",
       "[29] \"english_other\"                \"per_english_only\"            \n",
       "[31] \"per_english_other\"            \"state\"                       \n",
       "[33] \"city\"                         \"mean_income_households\"      \n",
       "[35] \"total_population_individuals\" \"house_median_income\"         "
      ]
     },
     "metadata": {},
     "output_type": "display_data"
    }
   ],
   "source": [
    "colnames(demo_cols_csv)"
   ]
  },
  {
   "cell_type": "code",
   "execution_count": 112,
   "metadata": {},
   "outputs": [],
   "source": [
    "usplaceDC <- c(\"DC\", \"DC\", 11, \"Washington city\", \"Washington\", \"Washington\", \"city\", \n",
    "            \"WASHINGTON DC\", \"WASHINGTON DC\")\n",
    "usplaceDC <- c(usplaceDC, washingtonDC$totalpopulation, washingtonDC$totalpopulation)\n",
    "#colnames(usdemoDC) <- colnames(demo_cols_csv)[1:11]"
   ]
  },
  {
   "cell_type": "code",
   "execution_count": 113,
   "metadata": {},
   "outputs": [],
   "source": [
    "usplaceDC <- as.data.frame(t(usplaceDC))"
   ]
  },
  {
   "cell_type": "code",
   "execution_count": 114,
   "metadata": {},
   "outputs": [],
   "source": [
    "colnames(usplaceDC) <- colnames(features)[1:11]"
   ]
  },
  {
   "cell_type": "code",
   "execution_count": 103,
   "metadata": {
    "collapsed": true
   },
   "outputs": [
    {
     "name": "stdout",
     "output_type": "stream",
     "text": [
      "'data.frame':\t1 obs. of  11 variables:\n",
      " $ Code              : Factor w/ 1 level \"DC\": 1\n",
      " $ State             : Factor w/ 1 level \"DC\": 1\n",
      " $ State_id          : Factor w/ 1 level \"11\": 1\n",
      " $ City              : Factor w/ 1 level \"Washington city\": 1\n",
      " $ City2             : Factor w/ 1 level \"Washington\": 1\n",
      " $ City3             : Factor w/ 1 level \"Washington\": 1\n",
      " $ Place_type        : Factor w/ 1 level \"city\": 1\n",
      " $ City_state        : Factor w/ 1 level \"WASHINGTON DC\": 1\n",
      " $ City_code         : Factor w/ 1 level \"WASHINGTON DC\": 1\n",
      " $ avgCensus2010pop  : Factor w/ 1 level \"647484\": 1\n",
      " $ avgPopestimate2015: Factor w/ 1 level \"647484\": 1\n"
     ]
    }
   ],
   "source": [
    "str(usplaceDC)"
   ]
  },
  {
   "cell_type": "code",
   "execution_count": 115,
   "metadata": {},
   "outputs": [],
   "source": [
    "usplaceDC[c(\"State_id\",\"avgCensus2010pop\",\"avgPopestimate2015\")] <- apply(usplaceDC[c(\"State_id\",\"avgCensus2010pop\",\"avgPopestimate2015\")],\n",
    "                   2, as.character)\n",
    "usplaceDC[c(\"State_id\",\"avgCensus2010pop\",\"avgPopestimate2015\")] <- apply(usplaceDC[c(\"State_id\",\"avgCensus2010pop\",\"avgPopestimate2015\")],\n",
    "                   2, as.integer)"
   ]
  },
  {
   "cell_type": "code",
   "execution_count": 116,
   "metadata": {},
   "outputs": [],
   "source": [
    "demo_cols_csv <- demo_cols_csv %>% dplyr::select(rownum:per_english_other, \n",
    "                                                 mean_income_households:house_median_income,\n",
    "                                                 city, state) %>%\n",
    "                                    as.data.frame()\n",
    "                                    "
   ]
  },
  {
   "cell_type": "code",
   "execution_count": 106,
   "metadata": {
    "scrolled": true
   },
   "outputs": [
    {
     "data": {
      "text/html": [
       "<ol class=list-inline>\n",
       "\t<li>'rownum'</li>\n",
       "\t<li>'id'</li>\n",
       "\t<li>'id2'</li>\n",
       "\t<li>'geography'</li>\n",
       "\t<li>'totalpopulation'</li>\n",
       "\t<li>'malepop'</li>\n",
       "\t<li>'femalepop'</li>\n",
       "\t<li>'medianage'</li>\n",
       "\t<li>'per_male'</li>\n",
       "\t<li>'per_female'</li>\n",
       "\t<li>'total_area'</li>\n",
       "\t<li>'urban'</li>\n",
       "\t<li>'rural'</li>\n",
       "\t<li>'per_urban'</li>\n",
       "\t<li>'per_rural'</li>\n",
       "\t<li>'house_total_population'</li>\n",
       "\t<li>'mean_income_per_capita'</li>\n",
       "\t<li>'house_total_income'</li>\n",
       "\t<li>'total_population_race'</li>\n",
       "\t<li>'white_population'</li>\n",
       "\t<li>'black_population'</li>\n",
       "\t<li>'per_white'</li>\n",
       "\t<li>'per_black'</li>\n",
       "\t<li>'total_pop_over16'</li>\n",
       "\t<li>'employ_pop_over16'</li>\n",
       "\t<li>'per_employ_over16'</li>\n",
       "\t<li>'total_population_lang'</li>\n",
       "\t<li>'english_only'</li>\n",
       "\t<li>'english_other'</li>\n",
       "\t<li>'per_english_only'</li>\n",
       "\t<li>'per_english_other'</li>\n",
       "\t<li>'mean_income_households'</li>\n",
       "\t<li>'total_population_individuals'</li>\n",
       "\t<li>'house_median_income'</li>\n",
       "\t<li>'city'</li>\n",
       "\t<li>'state'</li>\n",
       "</ol>\n"
      ],
      "text/latex": [
       "\\begin{enumerate*}\n",
       "\\item 'rownum'\n",
       "\\item 'id'\n",
       "\\item 'id2'\n",
       "\\item 'geography'\n",
       "\\item 'totalpopulation'\n",
       "\\item 'malepop'\n",
       "\\item 'femalepop'\n",
       "\\item 'medianage'\n",
       "\\item 'per\\_male'\n",
       "\\item 'per\\_female'\n",
       "\\item 'total\\_area'\n",
       "\\item 'urban'\n",
       "\\item 'rural'\n",
       "\\item 'per\\_urban'\n",
       "\\item 'per\\_rural'\n",
       "\\item 'house\\_total\\_population'\n",
       "\\item 'mean\\_income\\_per\\_capita'\n",
       "\\item 'house\\_total\\_income'\n",
       "\\item 'total\\_population\\_race'\n",
       "\\item 'white\\_population'\n",
       "\\item 'black\\_population'\n",
       "\\item 'per\\_white'\n",
       "\\item 'per\\_black'\n",
       "\\item 'total\\_pop\\_over16'\n",
       "\\item 'employ\\_pop\\_over16'\n",
       "\\item 'per\\_employ\\_over16'\n",
       "\\item 'total\\_population\\_lang'\n",
       "\\item 'english\\_only'\n",
       "\\item 'english\\_other'\n",
       "\\item 'per\\_english\\_only'\n",
       "\\item 'per\\_english\\_other'\n",
       "\\item 'mean\\_income\\_households'\n",
       "\\item 'total\\_population\\_individuals'\n",
       "\\item 'house\\_median\\_income'\n",
       "\\item 'city'\n",
       "\\item 'state'\n",
       "\\end{enumerate*}\n"
      ],
      "text/markdown": [
       "1. 'rownum'\n",
       "2. 'id'\n",
       "3. 'id2'\n",
       "4. 'geography'\n",
       "5. 'totalpopulation'\n",
       "6. 'malepop'\n",
       "7. 'femalepop'\n",
       "8. 'medianage'\n",
       "9. 'per_male'\n",
       "10. 'per_female'\n",
       "11. 'total_area'\n",
       "12. 'urban'\n",
       "13. 'rural'\n",
       "14. 'per_urban'\n",
       "15. 'per_rural'\n",
       "16. 'house_total_population'\n",
       "17. 'mean_income_per_capita'\n",
       "18. 'house_total_income'\n",
       "19. 'total_population_race'\n",
       "20. 'white_population'\n",
       "21. 'black_population'\n",
       "22. 'per_white'\n",
       "23. 'per_black'\n",
       "24. 'total_pop_over16'\n",
       "25. 'employ_pop_over16'\n",
       "26. 'per_employ_over16'\n",
       "27. 'total_population_lang'\n",
       "28. 'english_only'\n",
       "29. 'english_other'\n",
       "30. 'per_english_only'\n",
       "31. 'per_english_other'\n",
       "32. 'mean_income_households'\n",
       "33. 'total_population_individuals'\n",
       "34. 'house_median_income'\n",
       "35. 'city'\n",
       "36. 'state'\n",
       "\n",
       "\n"
      ],
      "text/plain": [
       " [1] \"rownum\"                       \"id\"                          \n",
       " [3] \"id2\"                          \"geography\"                   \n",
       " [5] \"totalpopulation\"              \"malepop\"                     \n",
       " [7] \"femalepop\"                    \"medianage\"                   \n",
       " [9] \"per_male\"                     \"per_female\"                  \n",
       "[11] \"total_area\"                   \"urban\"                       \n",
       "[13] \"rural\"                        \"per_urban\"                   \n",
       "[15] \"per_rural\"                    \"house_total_population\"      \n",
       "[17] \"mean_income_per_capita\"       \"house_total_income\"          \n",
       "[19] \"total_population_race\"        \"white_population\"            \n",
       "[21] \"black_population\"             \"per_white\"                   \n",
       "[23] \"per_black\"                    \"total_pop_over16\"            \n",
       "[25] \"employ_pop_over16\"            \"per_employ_over16\"           \n",
       "[27] \"total_population_lang\"        \"english_only\"                \n",
       "[29] \"english_other\"                \"per_english_only\"            \n",
       "[31] \"per_english_other\"            \"mean_income_households\"      \n",
       "[33] \"total_population_individuals\" \"house_median_income\"         \n",
       "[35] \"city\"                         \"state\"                       "
      ]
     },
     "metadata": {},
     "output_type": "display_data"
    }
   ],
   "source": [
    "colnames(demo_cols_csv)"
   ]
  },
  {
   "cell_type": "code",
   "execution_count": 107,
   "metadata": {},
   "outputs": [
    {
     "data": {
      "text/html": [
       "<ol class=list-inline>\n",
       "\t<li>'Code'</li>\n",
       "\t<li>'State'</li>\n",
       "\t<li>'State_id'</li>\n",
       "\t<li>'City'</li>\n",
       "\t<li>'City2'</li>\n",
       "\t<li>'City3'</li>\n",
       "\t<li>'Place_type'</li>\n",
       "\t<li>'City_state'</li>\n",
       "\t<li>'City_code'</li>\n",
       "\t<li>'avgCensus2010pop'</li>\n",
       "\t<li>'avgPopestimate2015'</li>\n",
       "\t<li>'rownum'</li>\n",
       "\t<li>'id'</li>\n",
       "\t<li>'id2'</li>\n",
       "\t<li>'geography'</li>\n",
       "\t<li>'totalpopulation'</li>\n",
       "\t<li>'malepop'</li>\n",
       "\t<li>'femalepop'</li>\n",
       "\t<li>'medianage'</li>\n",
       "\t<li>'per_male'</li>\n",
       "\t<li>'per_female'</li>\n",
       "\t<li>'total_area'</li>\n",
       "\t<li>'urban'</li>\n",
       "\t<li>'rural'</li>\n",
       "\t<li>'per_urban'</li>\n",
       "\t<li>'per_rural'</li>\n",
       "\t<li>'house_total_population'</li>\n",
       "\t<li>'mean_income_per_capita'</li>\n",
       "\t<li>'house_total_income'</li>\n",
       "\t<li>'total_population_race'</li>\n",
       "\t<li>'white_population'</li>\n",
       "\t<li>'black_population'</li>\n",
       "\t<li>'per_white'</li>\n",
       "\t<li>'per_black'</li>\n",
       "\t<li>'total_pop_over16'</li>\n",
       "\t<li>'employ_pop_over16'</li>\n",
       "\t<li>'per_employ_over16'</li>\n",
       "\t<li>'total_population_lang'</li>\n",
       "\t<li>'english_only'</li>\n",
       "\t<li>'english_other'</li>\n",
       "\t<li>'per_english_only'</li>\n",
       "\t<li>'per_english_other'</li>\n",
       "\t<li>'mean_income_households'</li>\n",
       "\t<li>'total_population_individuals'</li>\n",
       "\t<li>'house_median_income'</li>\n",
       "\t<li>'med_per_urban'</li>\n",
       "\t<li>'med_per_rural'</li>\n",
       "\t<li>'med_per_employ_over16'</li>\n",
       "\t<li>'city'</li>\n",
       "\t<li>'state'</li>\n",
       "\t<li>'location'</li>\n",
       "\t<li>'lon'</li>\n",
       "\t<li>'lat'</li>\n",
       "\t<li>'count'</li>\n",
       "\t<li>'count_rate'</li>\n",
       "</ol>\n"
      ],
      "text/latex": [
       "\\begin{enumerate*}\n",
       "\\item 'Code'\n",
       "\\item 'State'\n",
       "\\item 'State\\_id'\n",
       "\\item 'City'\n",
       "\\item 'City2'\n",
       "\\item 'City3'\n",
       "\\item 'Place\\_type'\n",
       "\\item 'City\\_state'\n",
       "\\item 'City\\_code'\n",
       "\\item 'avgCensus2010pop'\n",
       "\\item 'avgPopestimate2015'\n",
       "\\item 'rownum'\n",
       "\\item 'id'\n",
       "\\item 'id2'\n",
       "\\item 'geography'\n",
       "\\item 'totalpopulation'\n",
       "\\item 'malepop'\n",
       "\\item 'femalepop'\n",
       "\\item 'medianage'\n",
       "\\item 'per\\_male'\n",
       "\\item 'per\\_female'\n",
       "\\item 'total\\_area'\n",
       "\\item 'urban'\n",
       "\\item 'rural'\n",
       "\\item 'per\\_urban'\n",
       "\\item 'per\\_rural'\n",
       "\\item 'house\\_total\\_population'\n",
       "\\item 'mean\\_income\\_per\\_capita'\n",
       "\\item 'house\\_total\\_income'\n",
       "\\item 'total\\_population\\_race'\n",
       "\\item 'white\\_population'\n",
       "\\item 'black\\_population'\n",
       "\\item 'per\\_white'\n",
       "\\item 'per\\_black'\n",
       "\\item 'total\\_pop\\_over16'\n",
       "\\item 'employ\\_pop\\_over16'\n",
       "\\item 'per\\_employ\\_over16'\n",
       "\\item 'total\\_population\\_lang'\n",
       "\\item 'english\\_only'\n",
       "\\item 'english\\_other'\n",
       "\\item 'per\\_english\\_only'\n",
       "\\item 'per\\_english\\_other'\n",
       "\\item 'mean\\_income\\_households'\n",
       "\\item 'total\\_population\\_individuals'\n",
       "\\item 'house\\_median\\_income'\n",
       "\\item 'med\\_per\\_urban'\n",
       "\\item 'med\\_per\\_rural'\n",
       "\\item 'med\\_per\\_employ\\_over16'\n",
       "\\item 'city'\n",
       "\\item 'state'\n",
       "\\item 'location'\n",
       "\\item 'lon'\n",
       "\\item 'lat'\n",
       "\\item 'count'\n",
       "\\item 'count\\_rate'\n",
       "\\end{enumerate*}\n"
      ],
      "text/markdown": [
       "1. 'Code'\n",
       "2. 'State'\n",
       "3. 'State_id'\n",
       "4. 'City'\n",
       "5. 'City2'\n",
       "6. 'City3'\n",
       "7. 'Place_type'\n",
       "8. 'City_state'\n",
       "9. 'City_code'\n",
       "10. 'avgCensus2010pop'\n",
       "11. 'avgPopestimate2015'\n",
       "12. 'rownum'\n",
       "13. 'id'\n",
       "14. 'id2'\n",
       "15. 'geography'\n",
       "16. 'totalpopulation'\n",
       "17. 'malepop'\n",
       "18. 'femalepop'\n",
       "19. 'medianage'\n",
       "20. 'per_male'\n",
       "21. 'per_female'\n",
       "22. 'total_area'\n",
       "23. 'urban'\n",
       "24. 'rural'\n",
       "25. 'per_urban'\n",
       "26. 'per_rural'\n",
       "27. 'house_total_population'\n",
       "28. 'mean_income_per_capita'\n",
       "29. 'house_total_income'\n",
       "30. 'total_population_race'\n",
       "31. 'white_population'\n",
       "32. 'black_population'\n",
       "33. 'per_white'\n",
       "34. 'per_black'\n",
       "35. 'total_pop_over16'\n",
       "36. 'employ_pop_over16'\n",
       "37. 'per_employ_over16'\n",
       "38. 'total_population_lang'\n",
       "39. 'english_only'\n",
       "40. 'english_other'\n",
       "41. 'per_english_only'\n",
       "42. 'per_english_other'\n",
       "43. 'mean_income_households'\n",
       "44. 'total_population_individuals'\n",
       "45. 'house_median_income'\n",
       "46. 'med_per_urban'\n",
       "47. 'med_per_rural'\n",
       "48. 'med_per_employ_over16'\n",
       "49. 'city'\n",
       "50. 'state'\n",
       "51. 'location'\n",
       "52. 'lon'\n",
       "53. 'lat'\n",
       "54. 'count'\n",
       "55. 'count_rate'\n",
       "\n",
       "\n"
      ],
      "text/plain": [
       " [1] \"Code\"                         \"State\"                       \n",
       " [3] \"State_id\"                     \"City\"                        \n",
       " [5] \"City2\"                        \"City3\"                       \n",
       " [7] \"Place_type\"                   \"City_state\"                  \n",
       " [9] \"City_code\"                    \"avgCensus2010pop\"            \n",
       "[11] \"avgPopestimate2015\"           \"rownum\"                      \n",
       "[13] \"id\"                           \"id2\"                         \n",
       "[15] \"geography\"                    \"totalpopulation\"             \n",
       "[17] \"malepop\"                      \"femalepop\"                   \n",
       "[19] \"medianage\"                    \"per_male\"                    \n",
       "[21] \"per_female\"                   \"total_area\"                  \n",
       "[23] \"urban\"                        \"rural\"                       \n",
       "[25] \"per_urban\"                    \"per_rural\"                   \n",
       "[27] \"house_total_population\"       \"mean_income_per_capita\"      \n",
       "[29] \"house_total_income\"           \"total_population_race\"       \n",
       "[31] \"white_population\"             \"black_population\"            \n",
       "[33] \"per_white\"                    \"per_black\"                   \n",
       "[35] \"total_pop_over16\"             \"employ_pop_over16\"           \n",
       "[37] \"per_employ_over16\"            \"total_population_lang\"       \n",
       "[39] \"english_only\"                 \"english_other\"               \n",
       "[41] \"per_english_only\"             \"per_english_other\"           \n",
       "[43] \"mean_income_households\"       \"total_population_individuals\"\n",
       "[45] \"house_median_income\"          \"med_per_urban\"               \n",
       "[47] \"med_per_rural\"                \"med_per_employ_over16\"       \n",
       "[49] \"city\"                         \"state\"                       \n",
       "[51] \"location\"                     \"lon\"                         \n",
       "[53] \"lat\"                          \"count\"                       \n",
       "[55] \"count_rate\"                  "
      ]
     },
     "metadata": {},
     "output_type": "display_data"
    }
   ],
   "source": [
    "colnames(features)"
   ]
  },
  {
   "cell_type": "code",
   "execution_count": 117,
   "metadata": {},
   "outputs": [],
   "source": [
    "demo_cols_csvDC <- demo_cols_csv %>% dplyr::select(everything()) %>%\n",
    "                    filter(city == \"Washington city\" & state == \"District of Columbia\") %>%\n",
    "                    mutate(med_per_urban = per_urban, \n",
    "                           med_per_rural = per_rural, \n",
    "                          med_per_employ_over16 = per_employ_over16,\n",
    "                          state = \"DC\",\n",
    "                          city = \"WASHINGTON\") %>%\n",
    "                    as.data.frame()"
   ]
  },
  {
   "cell_type": "code",
   "execution_count": 118,
   "metadata": {},
   "outputs": [],
   "source": [
    "DCInfo <- dplyr::bind_cols(usplaceDC, demo_cols_csvDC)"
   ]
  },
  {
   "cell_type": "code",
   "execution_count": 119,
   "metadata": {
    "collapsed": true
   },
   "outputs": [
    {
     "name": "stdout",
     "output_type": "stream",
     "text": [
      "'data.frame':\t1 obs. of  50 variables:\n",
      " $ Code                        : Factor w/ 1 level \"DC\": 1\n",
      " $ State                       : Factor w/ 1 level \"DC\": 1\n",
      " $ State_id                    : int 11\n",
      " $ City                        : Factor w/ 1 level \"Washington city\": 1\n",
      " $ City2                       : Factor w/ 1 level \"Washington\": 1\n",
      " $ City3                       : Factor w/ 1 level \"Washington\": 1\n",
      " $ Place_type                  : Factor w/ 1 level \"city\": 1\n",
      " $ City_state                  : Factor w/ 1 level \"WASHINGTON DC\": 1\n",
      " $ City_code                   : Factor w/ 1 level \"WASHINGTON DC\": 1\n",
      " $ avgCensus2010pop            : int 647484\n",
      " $ avgPopestimate2015          : int 647484\n",
      " $ rownum                      : int 4133\n",
      " $ id                          : chr \"1600000US1150000\"\n",
      " $ id2                         : int 1150000\n",
      " $ geography                   : chr \"Washington city, District of Columbia\"\n",
      " $ totalpopulation             : int 647484\n",
      " $ malepop                     : int 306674\n",
      " $ femalepop                   : int 340810\n",
      " $ medianage                   : num 33.7\n",
      " $ per_male                    : num 47.4\n",
      " $ per_female                  : num 52.6\n",
      " $ total_area                  : int 601723\n",
      " $ urban                       : int 601723\n",
      " $ rural                       : int 0\n",
      " $ per_urban                   : num 100\n",
      " $ per_rural                   : num 0\n",
      " $ house_total_population      : int 273390\n",
      " $ mean_income_per_capita      : int 47675\n",
      " $ house_total_income          : int 273390\n",
      " $ total_population_race       : int 647484\n",
      " $ white_population            : int 260325\n",
      " $ black_population            : int 316447\n",
      " $ per_white                   : num 40.2\n",
      " $ per_black                   : num 48.9\n",
      " $ total_pop_over16            : int 546805\n",
      " $ employ_pop_over16           : int 377072\n",
      " $ per_employ_over16           : num 69\n",
      " $ total_population_lang       : int 607051\n",
      " $ english_only                : int 503735\n",
      " $ english_other               : int 103316\n",
      " $ per_english_only            : num 83\n",
      " $ per_english_other           : num 17\n",
      " $ mean_income_households      : int 107594\n",
      " $ total_population_individuals: int 647484\n",
      " $ house_median_income         : num 70848\n",
      " $ city                        : chr \"WASHINGTON\"\n",
      " $ state                       : chr \"DC\"\n",
      " $ med_per_urban               : num 100\n",
      " $ med_per_rural               : num 0\n",
      " $ med_per_employ_over16       : num 69\n"
     ]
    }
   ],
   "source": [
    "str(DCInfo)"
   ]
  },
  {
   "cell_type": "markdown",
   "metadata": {},
   "source": [
    "cities_latlondc <- read.csv(\"C:\\\\MathLabASUS\\\\Courses\\\\Ryerson\\\\Project\\\\Data\\\\Files\\\\Maps\\\\cities_latlondc.csv\", stringsAsFactors = FALSE)"
   ]
  },
  {
   "cell_type": "markdown",
   "metadata": {
    "collapsed": true
   },
   "source": [
    "str(cities_latlondc)\n",
    "cities_latlondc$X <- NULL"
   ]
  },
  {
   "cell_type": "code",
   "execution_count": 120,
   "metadata": {},
   "outputs": [],
   "source": [
    "get_num_tweetsDC <- full_text_en %>% dplyr::select(one_of(c(\"City_code\"))) %>%\n",
    "                                    filter(City_code == \"WASHINGTON DC\") %>%\n",
    "                                    group_by(City_code) %>%\n",
    "                                            summarise(count = n()) %>%\n",
    "                                    as.data.frame()"
   ]
  },
  {
   "cell_type": "code",
   "execution_count": 121,
   "metadata": {
    "scrolled": true
   },
   "outputs": [
    {
     "data": {
      "text/html": [
       "92.38"
      ],
      "text/latex": [
       "92.38"
      ],
      "text/markdown": [
       "92.38"
      ],
      "text/plain": [
       "[1] 92.38"
      ]
     },
     "metadata": {},
     "output_type": "display_data"
    }
   ],
   "source": [
    "round(get_num_tweetsDC$count/DCInfo$totalpopulation * 1000, 2)"
   ]
  },
  {
   "cell_type": "code",
   "execution_count": 122,
   "metadata": {
    "scrolled": true
   },
   "outputs": [
    {
     "data": {
      "text/html": [
       "0.625"
      ],
      "text/latex": [
       "0.625"
      ],
      "text/markdown": [
       "0.625"
      ],
      "text/plain": [
       "[1] 0.625"
      ]
     },
     "metadata": {},
     "output_type": "display_data"
    }
   ],
   "source": [
    "round(5/8, 3)"
   ]
  },
  {
   "cell_type": "code",
   "execution_count": 124,
   "metadata": {},
   "outputs": [
    {
     "name": "stderr",
     "output_type": "stream",
     "text": [
      "Warning message:\n",
      "\"Column `City_code` joining factor and character vector, coercing into character vector\""
     ]
    }
   ],
   "source": [
    "DCInfo <- DCInfo %>% dplyr::select(everything()) %>%\n",
    "                        filter(city == \"WASHINGTON\", state == \"DC\") %>%\n",
    "                        inner_join(cities_latlon[c(\"lon\", \"lat\", \"location\", \"city\", \"state\")], \n",
    "                                  by = c(\"city\", \"state\")) %>%\n",
    "                        inner_join(get_num_tweetsDC[c(\"City_code\", \"count\")], by = \"City_code\") %>%\n",
    "                        as.data.frame()"
   ]
  },
  {
   "cell_type": "code",
   "execution_count": 125,
   "metadata": {},
   "outputs": [],
   "source": [
    "DCInfo$count_rate <- round((DCInfo$count/DCInfo$totalpopulation) * 1000, 2)"
   ]
  },
  {
   "cell_type": "code",
   "execution_count": 126,
   "metadata": {
    "scrolled": false
   },
   "outputs": [],
   "source": [
    "DCInfo <- DCInfo %>% dplyr::select(Code:house_median_income, \n",
    "                                   med_per_urban:med_per_employ_over16, \n",
    "                                  city:state, location, lon:lat, count:count_rate) %>%\n",
    "                    as.data.frame()"
   ]
  },
  {
   "cell_type": "code",
   "execution_count": 127,
   "metadata": {
    "collapsed": true
   },
   "outputs": [
    {
     "name": "stdout",
     "output_type": "stream",
     "text": [
      "'data.frame':\t1 obs. of  55 variables:\n",
      " $ Code                        : Factor w/ 1 level \"DC\": 1\n",
      " $ State                       : Factor w/ 1 level \"DC\": 1\n",
      " $ State_id                    : int 11\n",
      " $ City                        : Factor w/ 1 level \"Washington city\": 1\n",
      " $ City2                       : Factor w/ 1 level \"Washington\": 1\n",
      " $ City3                       : Factor w/ 1 level \"Washington\": 1\n",
      " $ Place_type                  : Factor w/ 1 level \"city\": 1\n",
      " $ City_state                  : Factor w/ 1 level \"WASHINGTON DC\": 1\n",
      " $ City_code                   : chr \"WASHINGTON DC\"\n",
      " $ avgCensus2010pop            : int 647484\n",
      " $ avgPopestimate2015          : int 647484\n",
      " $ rownum                      : int 4133\n",
      " $ id                          : chr \"1600000US1150000\"\n",
      " $ id2                         : int 1150000\n",
      " $ geography                   : chr \"Washington city, District of Columbia\"\n",
      " $ totalpopulation             : int 647484\n",
      " $ malepop                     : int 306674\n",
      " $ femalepop                   : int 340810\n",
      " $ medianage                   : num 33.7\n",
      " $ per_male                    : num 47.4\n",
      " $ per_female                  : num 52.6\n",
      " $ total_area                  : int 601723\n",
      " $ urban                       : int 601723\n",
      " $ rural                       : int 0\n",
      " $ per_urban                   : num 100\n",
      " $ per_rural                   : num 0\n",
      " $ house_total_population      : int 273390\n",
      " $ mean_income_per_capita      : int 47675\n",
      " $ house_total_income          : int 273390\n",
      " $ total_population_race       : int 647484\n",
      " $ white_population            : int 260325\n",
      " $ black_population            : int 316447\n",
      " $ per_white                   : num 40.2\n",
      " $ per_black                   : num 48.9\n",
      " $ total_pop_over16            : int 546805\n",
      " $ employ_pop_over16           : int 377072\n",
      " $ per_employ_over16           : num 69\n",
      " $ total_population_lang       : int 607051\n",
      " $ english_only                : int 503735\n",
      " $ english_other               : int 103316\n",
      " $ per_english_only            : num 83\n",
      " $ per_english_other           : num 17\n",
      " $ mean_income_households      : int 107594\n",
      " $ total_population_individuals: int 647484\n",
      " $ house_median_income         : num 70848\n",
      " $ med_per_urban               : num 100\n",
      " $ med_per_rural               : num 0\n",
      " $ med_per_employ_over16       : num 69\n",
      " $ city                        : chr \"WASHINGTON\"\n",
      " $ state                       : chr \"DC\"\n",
      " $ location                    : chr \"WASHINGTON DC\"\n",
      " $ lon                         : num -77\n",
      " $ lat                         : num 38.9\n",
      " $ count                       : int 59813\n",
      " $ count_rate                  : num 92.4\n"
     ]
    }
   ],
   "source": [
    "str(DCInfo)"
   ]
  },
  {
   "cell_type": "code",
   "execution_count": 128,
   "metadata": {},
   "outputs": [],
   "source": [
    "DCInfo[c(\"Code\", \"State\", \"City\", \"City2\", \"City3\", \"City_state\", \"Place_type\",\n",
    "         \"id\", \"geography\")] <- \n",
    "apply(DCInfo[c(\"Code\", \"State\", \"City\", \"City2\", \"City3\", \"City_state\", \"Place_type\",\n",
    "                \"id\", \"geography\")], 2, as.character)"
   ]
  },
  {
   "cell_type": "code",
   "execution_count": 129,
   "metadata": {
    "collapsed": true
   },
   "outputs": [
    {
     "name": "stdout",
     "output_type": "stream",
     "text": [
      "'data.frame':\t1 obs. of  55 variables:\n",
      " $ Code                        : chr \"DC\"\n",
      " $ State                       : chr \"DC\"\n",
      " $ State_id                    : int 11\n",
      " $ City                        : chr \"Washington city\"\n",
      " $ City2                       : chr \"Washington\"\n",
      " $ City3                       : chr \"Washington\"\n",
      " $ Place_type                  : chr \"city\"\n",
      " $ City_state                  : chr \"WASHINGTON DC\"\n",
      " $ City_code                   : chr \"WASHINGTON DC\"\n",
      " $ avgCensus2010pop            : int 647484\n",
      " $ avgPopestimate2015          : int 647484\n",
      " $ rownum                      : int 4133\n",
      " $ id                          : chr \"1600000US1150000\"\n",
      " $ id2                         : int 1150000\n",
      " $ geography                   : chr \"Washington city, District of Columbia\"\n",
      " $ totalpopulation             : int 647484\n",
      " $ malepop                     : int 306674\n",
      " $ femalepop                   : int 340810\n",
      " $ medianage                   : num 33.7\n",
      " $ per_male                    : num 47.4\n",
      " $ per_female                  : num 52.6\n",
      " $ total_area                  : int 601723\n",
      " $ urban                       : int 601723\n",
      " $ rural                       : int 0\n",
      " $ per_urban                   : num 100\n",
      " $ per_rural                   : num 0\n",
      " $ house_total_population      : int 273390\n",
      " $ mean_income_per_capita      : int 47675\n",
      " $ house_total_income          : int 273390\n",
      " $ total_population_race       : int 647484\n",
      " $ white_population            : int 260325\n",
      " $ black_population            : int 316447\n",
      " $ per_white                   : num 40.2\n",
      " $ per_black                   : num 48.9\n",
      " $ total_pop_over16            : int 546805\n",
      " $ employ_pop_over16           : int 377072\n",
      " $ per_employ_over16           : num 69\n",
      " $ total_population_lang       : int 607051\n",
      " $ english_only                : int 503735\n",
      " $ english_other               : int 103316\n",
      " $ per_english_only            : num 83\n",
      " $ per_english_other           : num 17\n",
      " $ mean_income_households      : int 107594\n",
      " $ total_population_individuals: int 647484\n",
      " $ house_median_income         : num 70848\n",
      " $ med_per_urban               : num 100\n",
      " $ med_per_rural               : num 0\n",
      " $ med_per_employ_over16       : num 69\n",
      " $ city                        : chr \"WASHINGTON\"\n",
      " $ state                       : chr \"DC\"\n",
      " $ location                    : chr \"WASHINGTON DC\"\n",
      " $ lon                         : num -77\n",
      " $ lat                         : num 38.9\n",
      " $ count                       : int 59813\n",
      " $ count_rate                  : num 92.4\n"
     ]
    }
   ],
   "source": [
    "str(DCInfo)"
   ]
  },
  {
   "cell_type": "code",
   "execution_count": 133,
   "metadata": {
    "collapsed": true
   },
   "outputs": [
    {
     "name": "stderr",
     "output_type": "stream",
     "text": [
      "Warning message in bind_rows_(x, .id):\n",
      "\"binding factor and character vector, coercing into character vector\"Warning message in bind_rows_(x, .id):\n",
      "\"binding character and factor vector, coercing into character vector\"Warning message in bind_rows_(x, .id):\n",
      "\"binding factor and character vector, coercing into character vector\"Warning message in bind_rows_(x, .id):\n",
      "\"binding character and factor vector, coercing into character vector\"Warning message in bind_rows_(x, .id):\n",
      "\"binding factor and character vector, coercing into character vector\"Warning message in bind_rows_(x, .id):\n",
      "\"binding character and factor vector, coercing into character vector\"Warning message in bind_rows_(x, .id):\n",
      "\"binding factor and character vector, coercing into character vector\"Warning message in bind_rows_(x, .id):\n",
      "\"binding character and factor vector, coercing into character vector\"Warning message in bind_rows_(x, .id):\n",
      "\"binding factor and character vector, coercing into character vector\"Warning message in bind_rows_(x, .id):\n",
      "\"binding character and factor vector, coercing into character vector\"Warning message in bind_rows_(x, .id):\n",
      "\"binding factor and character vector, coercing into character vector\"Warning message in bind_rows_(x, .id):\n",
      "\"binding character and factor vector, coercing into character vector\"Warning message in bind_rows_(x, .id):\n",
      "\"binding factor and character vector, coercing into character vector\"Warning message in bind_rows_(x, .id):\n",
      "\"binding character and factor vector, coercing into character vector\"Warning message in bind_rows_(x, .id):\n",
      "\"binding factor and character vector, coercing into character vector\"Warning message in bind_rows_(x, .id):\n",
      "\"binding character and factor vector, coercing into character vector\"Warning message in bind_rows_(x, .id):\n",
      "\"binding factor and character vector, coercing into character vector\"Warning message in bind_rows_(x, .id):\n",
      "\"binding character and factor vector, coercing into character vector\"Warning message in bind_rows_(x, .id):\n",
      "\"binding factor and character vector, coercing into character vector\"Warning message in bind_rows_(x, .id):\n",
      "\"binding character and factor vector, coercing into character vector\"Warning message in bind_rows_(x, .id):\n",
      "\"binding factor and character vector, coercing into character vector\"Warning message in bind_rows_(x, .id):\n",
      "\"binding character and factor vector, coercing into character vector\"Warning message in bind_rows_(x, .id):\n",
      "\"binding factor and character vector, coercing into character vector\"Warning message in bind_rows_(x, .id):\n",
      "\"binding character and factor vector, coercing into character vector\"Warning message in bind_rows_(x, .id):\n",
      "\"binding factor and character vector, coercing into character vector\"Warning message in bind_rows_(x, .id):\n",
      "\"binding character and factor vector, coercing into character vector\""
     ]
    }
   ],
   "source": [
    "features <- features %>% bind_rows(DCInfo)"
   ]
  },
  {
   "cell_type": "markdown",
   "metadata": {},
   "source": [
    "features <- write.csv(\"C:\\\\MathLabASUS\\\\Courses\\\\Ryerson\\\\Project\\\\Data\\\\Files\\\\Features_Demo\\\\features2dc.csv\", \n",
    "                     stringsAsFactors = FALSE)"
   ]
  }
 ],
 "metadata": {
  "kernelspec": {
   "display_name": "R",
   "language": "R",
   "name": "ir"
  },
  "language_info": {
   "codemirror_mode": "r",
   "file_extension": ".r",
   "mimetype": "text/x-r-source",
   "name": "R",
   "pygments_lexer": "r",
   "version": "3.5.1"
  }
 },
 "nbformat": 4,
 "nbformat_minor": 2
}
