{
 "cells": [
  {
   "cell_type": "code",
   "execution_count": 1,
   "metadata": {},
   "outputs": [
    {
     "name": "stderr",
     "output_type": "stream",
     "text": [
      "Loading required package: gsubfn\n",
      "Loading required package: proto\n",
      "Loading required package: RSQLite\n",
      "\n",
      "Attaching package: 'dplyr'\n",
      "\n",
      "The following object is masked from 'package:gridExtra':\n",
      "\n",
      "    combine\n",
      "\n",
      "The following objects are masked from 'package:stats':\n",
      "\n",
      "    filter, lag\n",
      "\n",
      "The following objects are masked from 'package:base':\n",
      "\n",
      "    intersect, setdiff, setequal, union\n",
      "\n",
      "\n",
      "Attaching package: 'lubridate'\n",
      "\n",
      "The following object is masked from 'package:base':\n",
      "\n",
      "    date\n",
      "\n",
      "\n",
      "Attaching package: 'GGally'\n",
      "\n",
      "The following object is masked from 'package:dplyr':\n",
      "\n",
      "    nasa\n",
      "\n",
      "Loading required package: lattice\n",
      "Loading required package: MASS\n",
      "\n",
      "Attaching package: 'MASS'\n",
      "\n",
      "The following object is masked from 'package:dplyr':\n",
      "\n",
      "    select\n",
      "\n",
      "\n",
      "Attaching package: 'memisc'\n",
      "\n",
      "The following object is masked from 'package:scales':\n",
      "\n",
      "    percent\n",
      "\n",
      "The following object is masked from 'package:lubridate':\n",
      "\n",
      "    is.interval\n",
      "\n",
      "The following objects are masked from 'package:dplyr':\n",
      "\n",
      "    collect, recode, rename, syms\n",
      "\n",
      "The following object is masked from 'package:ggplot2':\n",
      "\n",
      "    syms\n",
      "\n",
      "The following objects are masked from 'package:stats':\n",
      "\n",
      "    contr.sum, contr.treatment, contrasts\n",
      "\n",
      "The following object is masked from 'package:base':\n",
      "\n",
      "    as.array\n",
      "\n",
      "rgeos version: 0.3-28, (SVN revision 572)\n",
      " GEOS runtime version: 3.6.1-CAPI-1.10.1 r0 \n",
      " Linking to sp version: 1.3-1 \n",
      " Polygon checking: TRUE \n",
      "\n",
      "rgdal: version: 1.3-4, (SVN revision 766)\n",
      " Geospatial Data Abstraction Library extensions to R successfully loaded\n",
      " Loaded GDAL runtime: GDAL 2.2.3, released 2017/11/20\n",
      " Path to GDAL shared files: C:/MathLabASUS/SW/DM/Anaconda2/envs/rconda/Lib/R/library/rgdal/gdal\n",
      " GDAL binary built with GEOS: TRUE \n",
      " Loaded PROJ.4 runtime: Rel. 4.9.3, 15 August 2016, [PJ_VERSION: 493]\n",
      " Path to PROJ.4 shared files: C:/MathLabASUS/SW/DM/Anaconda2/envs/rconda/Lib/R/library/rgdal/proj\n",
      " Linking to sp version: 1.3-1 \n",
      "Checking rgeos availability: TRUE\n",
      "Warning message:\n",
      "\"package 'maps' was built under R version 3.5.3\"\n",
      "Attaching package: 'cluster'\n",
      "\n",
      "The following object is masked from 'package:maps':\n",
      "\n",
      "    votes.repub\n",
      "\n",
      "\n",
      "Attaching package: 'fastcluster'\n",
      "\n",
      "The following object is masked from 'package:stats':\n",
      "\n",
      "    hclust\n",
      "\n",
      "Welcome! Related Books: `Practical Guide To Cluster Analysis in R` at https://goo.gl/13EFCZ\n",
      "Creating a generic function for 'toJSON' from package 'jsonlite' in package 'googleVis'\n",
      "\n",
      "Welcome to googleVis version 0.6.2\n",
      "\n",
      "Please read Google's Terms of Use\n",
      "before you start using the package:\n",
      "https://developers.google.com/terms/\n",
      "\n",
      "Note, the plot method of googleVis will by default use\n",
      "the standard browser to display its output.\n",
      "\n",
      "See the googleVis package vignettes for more details,\n",
      "or visit http://github.com/mages/googleVis.\n",
      "\n",
      "To suppress this message use:\n",
      "suppressPackageStartupMessages(library(googleVis))\n",
      "\n",
      "Loading required package: DBI\n",
      "\n",
      "Attaching package: 'RMySQL'\n",
      "\n",
      "The following object is masked from 'package:RSQLite':\n",
      "\n",
      "    isIdCurrent\n",
      "\n",
      "\n",
      "Attaching package: 'data.table'\n",
      "\n",
      "The following objects are masked from 'package:lubridate':\n",
      "\n",
      "    hour, isoweek, mday, minute, month, quarter, second, wday, week,\n",
      "    yday, year\n",
      "\n",
      "The following objects are masked from 'package:dplyr':\n",
      "\n",
      "    between, first, last\n",
      "\n",
      "\n",
      "Attaching package: 'dbplyr'\n",
      "\n",
      "The following objects are masked from 'package:dplyr':\n",
      "\n",
      "    ident, sql\n",
      "\n",
      "\n",
      "Attaching package: 'httr'\n",
      "\n",
      "The following object is masked from 'package:memisc':\n",
      "\n",
      "    content\n",
      "\n",
      "\n",
      "Attaching package: 'purrr'\n",
      "\n",
      "The following object is masked from 'package:data.table':\n",
      "\n",
      "    transpose\n",
      "\n",
      "The following object is masked from 'package:maps':\n",
      "\n",
      "    map\n",
      "\n",
      "The following object is masked from 'package:scales':\n",
      "\n",
      "    discard\n",
      "\n",
      "The following object is masked from 'package:jsonlite':\n",
      "\n",
      "    flatten\n",
      "\n",
      "\n",
      "Attaching package: 'magrittr'\n",
      "\n",
      "The following object is masked from 'package:purrr':\n",
      "\n",
      "    set_names\n",
      "\n",
      "The following object is masked from 'package:tidyr':\n",
      "\n",
      "    extract\n",
      "\n",
      "rsatscan only does anything useful if you have SaTScan\n",
      "See http://www.satscan.org/ for free access\n",
      "\n",
      "Attaching package: 'readr'\n",
      "\n",
      "The following object is masked from 'package:scales':\n",
      "\n",
      "    col_factor\n",
      "\n",
      "\n",
      "Attaching package: 'caret'\n",
      "\n",
      "The following object is masked from 'package:purrr':\n",
      "\n",
      "    lift\n",
      "\n",
      "The following object is masked from 'package:httr':\n",
      "\n",
      "    progress\n",
      "\n",
      "Warning message:\n",
      "\"package 'fitdistrplus' was built under R version 3.5.2\"Loading required package: survival\n",
      "\n",
      "Attaching package: 'survival'\n",
      "\n",
      "The following object is masked from 'package:caret':\n",
      "\n",
      "    cluster\n",
      "\n",
      "Loading required package: npsurv\n",
      "Warning message:\n",
      "\"package 'npsurv' was built under R version 3.5.2\"Loading required package: lsei\n",
      "Warning message:\n",
      "\"package 'lsei' was built under R version 3.5.2\"Warning message:\n",
      "\"package 'pscl' was built under R version 3.5.2\"Classes and Methods for R developed in the\n",
      "Political Science Computational Laboratory\n",
      "Department of Political Science\n",
      "Stanford University\n",
      "Simon Jackman\n",
      "hurdle and zeroinfl functions by Achim Zeileis\n",
      "Warning message:\n",
      "\"package 'car' was built under R version 3.5.2\"Loading required package: carData\n",
      "\n",
      "Attaching package: 'car'\n",
      "\n",
      "The following object is masked from 'package:purrr':\n",
      "\n",
      "    some\n",
      "\n",
      "The following object is masked from 'package:memisc':\n",
      "\n",
      "    recode\n",
      "\n",
      "The following object is masked from 'package:dplyr':\n",
      "\n",
      "    recode\n",
      "\n",
      "Warning message:\n",
      "\"package 'AUC' was built under R version 3.5.2\"AUC 0.3.0\n",
      "Type AUCNews() to see the change log and ?AUC to get an overview.\n",
      "\n",
      "Attaching package: 'AUC'\n",
      "\n",
      "The following objects are masked from 'package:caret':\n",
      "\n",
      "    sensitivity, specificity\n",
      "\n",
      "Warning message:\n",
      "\"package 'ROCR' was built under R version 3.5.2\"Loading required package: gplots\n",
      "\n",
      "Attaching package: 'gplots'\n",
      "\n",
      "The following object is masked from 'package:stats':\n",
      "\n",
      "    lowess\n",
      "\n",
      "Warning message:\n",
      "\"package 'actuar' was built under R version 3.5.2\"\n",
      "Attaching package: 'actuar'\n",
      "\n",
      "The following object is masked from 'package:grDevices':\n",
      "\n",
      "    cm\n",
      "\n"
     ]
    }
   ],
   "source": [
    "library(knitr)\n",
    "library(sqldf)\n",
    "library(ggplot2)\n",
    "library(mongolite)\n",
    "library(ggplot2)\n",
    "library(gridExtra)\n",
    "library(dplyr)\n",
    "library(tidyr)\n",
    "library(jsonlite)\n",
    "library(lubridate)\n",
    "library(gridExtra)\n",
    "library(GGally)\n",
    "library(scales)\n",
    "library(memisc)\n",
    " library(sp)\n",
    "library(rgeos)\n",
    "library(rgdal)\n",
    "library(maptools)\n",
    "library(RColorBrewer)\n",
    "library(maps)\n",
    "library(grid)\n",
    "library(cluster)\n",
    "#library(clue)\n",
    "#library(StatMatch)\n",
    "library(fastcluster)\n",
    "library(factoextra)\n",
    "library(FactoMineR)\n",
    "library(stringr)\n",
    "library(googleVis)\n",
    "library(RMySQL)\n",
    "library(data.table)\n",
    "library(dbplyr)\n",
    "library(DBI)\n",
    "library(httr)\n",
    "library(scanstatistics)\n",
    "library(purrr)\n",
    "library(magrittr)\n",
    "library(rsatscan)\n",
    "library(MASS)\n",
    "library(readr)\n",
    "library(caret)\n",
    "library(fitdistrplus)\n",
    "library(pscl)\n",
    "library(car)\n",
    "library(AUC)\n",
    "library(ROCR)\n",
    "library(actuar)\n",
    "#.libPaths(c(file.path(Sys.getenv('SPARK_HOME'), 'R', 'lib'), .libPaths())"
   ]
  },
  {
   "cell_type": "markdown",
   "metadata": {},
   "source": [
    "#### Continuing from STSS_GLM_Baseline_Model_Evaluation and Selection"
   ]
  },
  {
   "cell_type": "markdown",
   "metadata": {},
   "source": [
    "1. The best baseline model is negative binomial using cities with tootal positive counts >= 130\n",
    "2. Use scanstatistics zero inflated poisson (scan_eb_zip) for STSS cluster modelling"
   ]
  },
  {
   "cell_type": "code",
   "execution_count": 2,
   "metadata": {},
   "outputs": [],
   "source": [
    "plot.format <- theme(axis.text = element_text(size = 12), legend.text = element_text(size = 12), legend.title = element_text(size = 12), axis.title = element_text(size = 14), plot.title = element_text(size = 14))"
   ]
  },
  {
   "cell_type": "code",
   "execution_count": 4,
   "metadata": {},
   "outputs": [],
   "source": [
    "count.pos <- read.csv(\"../STSS/Files/STSS/count_pos2.csv\",\n",
    "         stringsAsFactors = FALSE)"
   ]
  },
  {
   "cell_type": "code",
   "execution_count": 9,
   "metadata": {},
   "outputs": [],
   "source": [
    "count.pos.pop <- read.csv(\"../STSS/Files/STSS/count_pos_pop2.csv\", \n",
    "         stringsAsFactors = FALSE)"
   ]
  },
  {
   "cell_type": "code",
   "execution_count": 6,
   "metadata": {},
   "outputs": [],
   "source": [
    "count.pos.spat <- read.csv(\"../STSS/Files/STSS//count_pos_spat2.csv\", \n",
    "         stringsAsFactors = FALSE)"
   ]
  },
  {
   "cell_type": "code",
   "execution_count": 5,
   "metadata": {},
   "outputs": [],
   "source": [
    "count.pos.spat.feat <- read.csv(\"../STSS/Files/STSS/count_pos_spat_feat2.csv\", \n",
    "         stringsAsFactors = FALSE)"
   ]
  },
  {
   "cell_type": "code",
   "execution_count": 3,
   "metadata": {},
   "outputs": [],
   "source": [
    "feat.nodup <- read.csv(\"../STSS/Files/Features/features2dc_nodup.csv\", \n",
    "          stringsAsFactors = FALSE)"
   ]
  },
  {
   "cell_type": "code",
   "execution_count": 237,
   "metadata": {
    "scrolled": false
   },
   "outputs": [
    {
     "data": {
      "text/plain": [
       "   Min. 1st Qu.  Median    Mean 3rd Qu.    Max. \n",
       "      0       0       1      11       3    5236 "
      ]
     },
     "metadata": {},
     "output_type": "display_data"
    }
   ],
   "source": [
    "summary(count.pos.pop$positive.counts)"
   ]
  },
  {
   "cell_type": "code",
   "execution_count": 145,
   "metadata": {},
   "outputs": [
    {
     "data": {
      "text/html": [
       "197"
      ],
      "text/latex": [
       "197"
      ],
      "text/markdown": [
       "197"
      ],
      "text/plain": [
       "[1] 197"
      ]
     },
     "metadata": {},
     "output_type": "display_data"
    }
   ],
   "source": [
    "nrow(subset(count.pos.spat, positive.counts >= 130))"
   ]
  },
  {
   "cell_type": "code",
   "execution_count": 7,
   "metadata": {},
   "outputs": [
    {
     "data": {},
     "metadata": {},
     "output_type": "display_data"
    },
    {
     "data": {
      "image/png": "[encoded data removed]",
      "text/plain": [
       "plot without title"
      ]
     },
     "metadata": {},
     "output_type": "display_data"
    }
   ],
   "source": [
    "ggplot(aes(y=lat, x=lon), data = subset(count.pos.spat, \n",
    "                                        positive.counts >= 130))  +\n",
    "    geom_point(aes(size = positive.counts), alpha = 0.2) +\n",
    "    labs(title = \"Positive sentiment tweets located across \n",
    "the USA. 197 locations have at least 10\\n daily tweets (on average)\", x = \"longitude\", \n",
    "         y = \"latitude\") + \n",
    "\n",
    "    plot.format"
   ]
  },
  {
   "cell_type": "code",
   "execution_count": 10,
   "metadata": {},
   "outputs": [],
   "source": [
    "count.130 <- subset(count.pos.spat, positive.counts >= 130)\n",
    "count.pos.pop.130 <- count.pos.pop %>% \n",
    "                        inner_join(count.130[\"location\"], \n",
    "                                   by = \"location\")"
   ]
  },
  {
   "cell_type": "code",
   "execution_count": 293,
   "metadata": {
    "scrolled": true
   },
   "outputs": [],
   "source": [
    "negbin <- glm.nb(positive.counts ~ offset(log(totalpopulation)) + time, \n",
    "       data = count.pos.pop.130, init.theta = 2, link = \"log\")"
   ]
  },
  {
   "cell_type": "code",
   "execution_count": 208,
   "metadata": {
    "collapsed": true
   },
   "outputs": [
    {
     "data": {
      "text/plain": [
       "\n",
       "Call:\n",
       "glm.nb(formula = positive.counts ~ offset(log(totalpopulation)) + \n",
       "    time, data = count.pos.pop.130, init.theta = 0.5520857168, \n",
       "    link = \"log\")\n",
       "\n",
       "Deviance Residuals: \n",
       "   Min      1Q  Median      3Q     Max  \n",
       "-2.865  -1.074  -0.610  -0.084   8.877  \n",
       "\n",
       "Coefficients:\n",
       "             Estimate Std. Error z value Pr(>|z|)    \n",
       "(Intercept) -9.306946   0.070168 -132.64   <2e-16 ***\n",
       "time         0.198213   0.009193   21.56   <2e-16 ***\n",
       "---\n",
       "Signif. codes:  0 '***' 0.001 '**' 0.01 '*' 0.05 '.' 0.1 ' ' 1\n",
       "\n",
       "(Dispersion parameter for Negative Binomial(0.5521) family taken to be 1)\n",
       "\n",
       "    Null deviance: 2943.6  on 2142  degrees of freedom\n",
       "Residual deviance: 2692.4  on 2141  degrees of freedom\n",
       "AIC: 21565\n",
       "\n",
       "Number of Fisher Scoring iterations: 1\n",
       "\n",
       "\n",
       "              Theta:  0.5521 \n",
       "          Std. Err.:  0.0152 \n",
       "\n",
       " 2 x log-likelihood:  -21558.9060 "
      ]
     },
     "metadata": {},
     "output_type": "display_data"
    }
   ],
   "source": [
    "summary(negbin)"
   ]
  },
  {
   "cell_type": "code",
   "execution_count": 265,
   "metadata": {},
   "outputs": [],
   "source": [
    "pred.negbin <- predict(negbin, data = count.pos.pop.130, type = \"response\")"
   ]
  },
  {
   "cell_type": "code",
   "execution_count": 266,
   "metadata": {},
   "outputs": [
    {
     "data": {
      "text/html": [
       "129.698959166732"
      ],
      "text/latex": [
       "129.698959166732"
      ],
      "text/markdown": [
       "129.698959166732"
      ],
      "text/plain": [
       "[1] 129.699"
      ]
     },
     "metadata": {},
     "output_type": "display_data"
    }
   ],
   "source": [
    "mae <- mean(abs(pred.negbin - count.pos.pop.130$positive.counts))\n",
    "mae"
   ]
  },
  {
   "cell_type": "code",
   "execution_count": 294,
   "metadata": {},
   "outputs": [],
   "source": [
    "count.pos.pop.130$lambda.stss <- predict(negbin.stss, newdata=count.pos.pop.130, \n",
    "                         type=\"response\")"
   ]
  },
  {
   "cell_type": "code",
   "execution_count": 295,
   "metadata": {},
   "outputs": [],
   "source": [
    "count.pos.pop.130$prob.stss <- \n",
    "dnbinom(100, mu=count.pos.pop.130$lambda.stss, size=negbin.stss$theta)"
   ]
  },
  {
   "cell_type": "markdown",
   "metadata": {},
   "source": [
    "### Best k based on demographics and count data (total and positive)"
   ]
  },
  {
   "cell_type": "code",
   "execution_count": 160,
   "metadata": {},
   "outputs": [],
   "source": [
    "train.2 <- count.pos.pop.130 %>% dplyr::select(-location, -yday, \n",
    "                                             -counts,\n",
    "                                              -location_total.counts,\n",
    "                                           -negative.counts, \n",
    "                                              -neutral.counts)"
   ]
  },
  {
   "cell_type": "code",
   "execution_count": 161,
   "metadata": {
    "scrolled": false
   },
   "outputs": [
    {
     "data": {
      "text/html": [
       "<ol class=list-inline>\n",
       "\t<li>'time'</li>\n",
       "\t<li>'positive.counts'</li>\n",
       "\t<li>'lon'</li>\n",
       "\t<li>'lat'</li>\n",
       "\t<li>'totalpopulation'</li>\n",
       "</ol>\n"
      ],
      "text/latex": [
       "\\begin{enumerate*}\n",
       "\\item 'time'\n",
       "\\item 'positive.counts'\n",
       "\\item 'lon'\n",
       "\\item 'lat'\n",
       "\\item 'totalpopulation'\n",
       "\\end{enumerate*}\n"
      ],
      "text/markdown": [
       "1. 'time'\n",
       "2. 'positive.counts'\n",
       "3. 'lon'\n",
       "4. 'lat'\n",
       "5. 'totalpopulation'\n",
       "\n",
       "\n"
      ],
      "text/plain": [
       "[1] \"time\"            \"positive.counts\" \"lon\"             \"lat\"            \n",
       "[5] \"totalpopulation\""
      ]
     },
     "metadata": {},
     "output_type": "display_data"
    }
   ],
   "source": [
    "colnames(train.2)"
   ]
  },
  {
   "cell_type": "code",
   "execution_count": 162,
   "metadata": {},
   "outputs": [],
   "source": [
    "train.2.scale <- scale(train.2, center = TRUE, scale = TRUE)"
   ]
  },
  {
   "cell_type": "code",
   "execution_count": 12,
   "metadata": {},
   "outputs": [],
   "source": [
    "kgrid <- expand.grid(k = seq(5, 101, 2)) "
   ]
  },
  {
   "cell_type": "code",
   "execution_count": 13,
   "metadata": {},
   "outputs": [],
   "source": [
    "set.seed(20190126)\n",
    "ctrl <- trainControl(method = \"repeatedcv\", number = 10, repeats = 3)\n",
    "knn.results <- train(positive.counts ~., data = train.2.scale, method = \"knn\", #tuneLength = 20, \n",
    "                    tuneGrid = kgrid)"
   ]
  },
  {
   "cell_type": "code",
   "execution_count": 14,
   "metadata": {
    "scrolled": true
   },
   "outputs": [
    {
     "data": {
      "text/plain": [
       "k-Nearest Neighbors \n",
       "\n",
       "6218 samples\n",
       "   4 predictor\n",
       "\n",
       "No pre-processing\n",
       "Resampling: Bootstrapped (25 reps) \n",
       "Summary of sample sizes: 6218, 6218, 6218, 6218, 6218, 6218, ... \n",
       "Resampling results across tuning parameters:\n",
       "\n",
       "  k    RMSE       Rsquared   MAE      \n",
       "    5  0.8365632  0.3163346  0.1718583\n",
       "    7  0.8275082  0.3061230  0.1697520\n",
       "    9  0.8264956  0.2991128  0.1693827\n",
       "   11  0.8301866  0.2895311  0.1700160\n",
       "   13  0.8316648  0.2829013  0.1694429\n",
       "   15  0.8304342  0.2800184  0.1692548\n",
       "   17  0.8289528  0.2774543  0.1687381\n",
       "   19  0.8258051  0.2799610  0.1676159\n",
       "   21  0.8248679  0.2791998  0.1667539\n",
       "   23  0.8239595  0.2791886  0.1661931\n",
       "   25  0.8249226  0.2766464  0.1663215\n",
       "   27  0.8251028  0.2760815  0.1661859\n",
       "   29  0.8265447  0.2732521  0.1660740\n",
       "   31  0.8284158  0.2698063  0.1661270\n",
       "   33  0.8303286  0.2670958  0.1663401\n",
       "   35  0.8315674  0.2648746  0.1664119\n",
       "   37  0.8330455  0.2626056  0.1665893\n",
       "   39  0.8347072  0.2599884  0.1665461\n",
       "   41  0.8362053  0.2574857  0.1665471\n",
       "   43  0.8371561  0.2567704  0.1664108\n",
       "   45  0.8386166  0.2544866  0.1665075\n",
       "   47  0.8390716  0.2546635  0.1665634\n",
       "   49  0.8406295  0.2520277  0.1669119\n",
       "   51  0.8424352  0.2488474  0.1672829\n",
       "   53  0.8434871  0.2475841  0.1674936\n",
       "   55  0.8443818  0.2468095  0.1675102\n",
       "   57  0.8454564  0.2458729  0.1676409\n",
       "   59  0.8461068  0.2452573  0.1675771\n",
       "   61  0.8465921  0.2453676  0.1674761\n",
       "   63  0.8475342  0.2443105  0.1676933\n",
       "   65  0.8481754  0.2440717  0.1676655\n",
       "   67  0.8488879  0.2439428  0.1676502\n",
       "   69  0.8488981  0.2453106  0.1676137\n",
       "   71  0.8494032  0.2450458  0.1675880\n",
       "   73  0.8501649  0.2444521  0.1676483\n",
       "   75  0.8502196  0.2455073  0.1677090\n",
       "   77  0.8506647  0.2456733  0.1677176\n",
       "   79  0.8510465  0.2458898  0.1677889\n",
       "   81  0.8507462  0.2478236  0.1677919\n",
       "   83  0.8509512  0.2487429  0.1678166\n",
       "   85  0.8513011  0.2493431  0.1678783\n",
       "   87  0.8513590  0.2507025  0.1678836\n",
       "   89  0.8515433  0.2515399  0.1679903\n",
       "   91  0.8519747  0.2514164  0.1682724\n",
       "   93  0.8524083  0.2516578  0.1684418\n",
       "   95  0.8534123  0.2500855  0.1686269\n",
       "   97  0.8539123  0.2500398  0.1687640\n",
       "   99  0.8545228  0.2497210  0.1689489\n",
       "  101  0.8552954  0.2488038  0.1691964\n",
       "\n",
       "RMSE was used to select the optimal model using the smallest value.\n",
       "The final value used for the model was k = 23."
      ]
     },
     "metadata": {},
     "output_type": "display_data"
    }
   ],
   "source": [
    "knn.results"
   ]
  },
  {
   "cell_type": "markdown",
   "metadata": {},
   "source": [
    "### Spatiotemporal - Scanstatistics"
   ]
  },
  {
   "cell_type": "code",
   "execution_count": 269,
   "metadata": {},
   "outputs": [
    {
     "data": {
      "text/plain": [
       "   Min. 1st Qu.  Median    Mean 3rd Qu.    Max. \n",
       "   0.00    7.00   22.00   96.05   63.00 5236.00 "
      ]
     },
     "metadata": {},
     "output_type": "display_data"
    }
   ],
   "source": [
    "summary(count.pos.pop.130$positive.counts)"
   ]
  },
  {
   "cell_type": "code",
   "execution_count": null,
   "metadata": {},
   "outputs": [],
   "source": [
    "#### Create knn matrix"
   ]
  },
  {
   "cell_type": "code",
   "execution_count": 296,
   "metadata": {
    "scrolled": true
   },
   "outputs": [],
   "source": [
    "knn_mat <- coords_to_knn(unique(count.pos.pop.130[c(\"lon\", \"lat\")]), 5)"
   ]
  },
  {
   "cell_type": "markdown",
   "metadata": {},
   "source": [
    "######## Create zones based on knn results"
   ]
  },
  {
   "cell_type": "code",
   "execution_count": 26,
   "metadata": {},
   "outputs": [
    {
     "data": {
      "text/html": [
       "22407"
      ],
      "text/latex": [
       "22407"
      ],
      "text/markdown": [
       "22407"
      ],
      "text/plain": [
       "[1] 22407"
      ]
     },
     "metadata": {},
     "output_type": "display_data"
    }
   ],
   "source": [
    "nrow(count.pos.pop)"
   ]
  },
  {
   "cell_type": "code",
   "execution_count": 297,
   "metadata": {},
   "outputs": [],
   "source": [
    "zones <- knn_zones(knn_mat)"
   ]
  },
  {
   "cell_type": "code",
   "execution_count": 302,
   "metadata": {},
   "outputs": [],
   "source": [
    "count.pos.mat <- df_to_matrix(count.pos.pop.130, \"time\", \"location\", \n",
    "                              \"positive.counts\")"
   ]
  },
  {
   "cell_type": "code",
   "execution_count": 303,
   "metadata": {},
   "outputs": [],
   "source": [
    "population <- df_to_matrix(count.pos.pop.130, \"time\", \"location\", \n",
    "                           \"totalpopulation\")"
   ]
  },
  {
   "cell_type": "code",
   "execution_count": 304,
   "metadata": {},
   "outputs": [],
   "source": [
    "baselines.mat <- df_to_matrix(count.pos.pop.130, \"time\", \"location\",\n",
    "                              \"lambda.stss\")"
   ]
  },
  {
   "cell_type": "code",
   "execution_count": 305,
   "metadata": {},
   "outputs": [],
   "source": [
    "probs.mat <- df_to_matrix(count.pos.pop.130, \"time\", \"location\", \"prob.stss\")"
   ]
  },
  {
   "cell_type": "code",
   "execution_count": 306,
   "metadata": {},
   "outputs": [],
   "source": [
    "### Remove NAs"
   ]
  },
  {
   "cell_type": "code",
   "execution_count": 307,
   "metadata": {},
   "outputs": [],
   "source": [
    "for (i in 1:ncol(count.pos.mat)) {\n",
    "    \n",
    "   count.pos.mat[ , i] <- ifelse(is.na(count.pos.mat[ , i]), \n",
    "                                 0, count.pos.mat[ , i])\n",
    "}"
   ]
  },
  {
   "cell_type": "code",
   "execution_count": 308,
   "metadata": {},
   "outputs": [],
   "source": [
    "for (i in 1:ncol(population)) {\n",
    "    \n",
    "   population[ , i] <- ifelse(is.na(population[ , i]), \n",
    "                                 0, population[ , i])\n",
    "}"
   ]
  },
  {
   "cell_type": "code",
   "execution_count": 309,
   "metadata": {},
   "outputs": [],
   "source": [
    "for (i in 1:ncol(baselines.mat)) {\n",
    "    \n",
    "   baselines.mat[ , i] <- ifelse(is.na(baselines.mat[ , i]), \n",
    "                                 0.1, baselines.mat[ , i])\n",
    "}"
   ]
  },
  {
   "cell_type": "code",
   "execution_count": 310,
   "metadata": {},
   "outputs": [],
   "source": [
    "for (i in 1:ncol(probs.mat)) {\n",
    "    \n",
    "   probs.mat[ , i] <- ifelse(is.na(probs.mat[ , i]) | \n",
    "                             probs.mat[ , i] == 0, 10e-8, \n",
    "                             probs.mat[ , i])\n",
    "   # print (i)\n",
    "}"
   ]
  },
  {
   "cell_type": "code",
   "execution_count": 311,
   "metadata": {},
   "outputs": [],
   "source": [
    "set.seed(20181110)\n",
    "sp_results.zip <- scan_eb_zip(counts =  count.pos.mat,\n",
    "zones = zones,\n",
    "baselines = baselines.mat, # + 1,\n",
    "probs = probs.mat,\n",
    "population = population,\n",
    "n_mcsim = 100,\n",
    "max_only = FALSE)"
   ]
  },
  {
   "cell_type": "code",
   "execution_count": 312,
   "metadata": {
    "scrolled": false
   },
   "outputs": [
    {
     "data": {
      "text/plain": [
       "Data distribution:                zero-inflated Poisson\n",
       "Type of scan statistic:           expectation-based\n",
       "Setting:                          univariate\n",
       "Number of locations considered:   194\n",
       "Maximum duration considered:      12\n",
       "Number of spatial zones:          715\n",
       "Number of Monte Carlo replicates: 100\n",
       "Monte Carlo P-value:              0.01\n",
       "Gumbel P-value:                   0\n",
       "Most likely event duration:       11\n",
       "ID of locations in MLC:           173"
      ]
     },
     "metadata": {},
     "output_type": "display_data"
    }
   ],
   "source": [
    "sp_results.zip"
   ]
  },
  {
   "cell_type": "code",
   "execution_count": 108,
   "metadata": {},
   "outputs": [],
   "source": [
    "saveRDS(sp_results.zip, \"C:\\\\MathLabASUS\\\\Courses\\\\Ryerson\\\\Project\\\\Data\\\\Files\\\\STSS\\\\Project\\\\nb_sp_results.zip.130.rds\")"
   ]
  },
  {
   "cell_type": "code",
   "execution_count": null,
   "metadata": {},
   "outputs": [],
   "source": [
    "##### Get p-values of top clusters"
   ]
  },
  {
   "cell_type": "code",
   "execution_count": 315,
   "metadata": {},
   "outputs": [],
   "source": [
    "get.top.100 <- top_clusters(sp_results.zip, zones, k = 100, FALSE)"
   ]
  },
  {
   "cell_type": "code",
   "execution_count": 316,
   "metadata": {
    "collapsed": true
   },
   "outputs": [
    {
     "data": {
      "text/html": [
       "<table>\n",
       "<thead><tr><th></th><th scope=col>zone</th><th scope=col>duration</th><th scope=col>score</th><th scope=col>relrisk</th><th scope=col>n_iter</th><th scope=col>Gumbel_pvalue</th></tr></thead>\n",
       "<tbody>\n",
       "\t<tr><th scope=row>1</th><td>656       </td><td>11        </td><td>63946.2704</td><td> 50.972897</td><td>2         </td><td>0         </td></tr>\n",
       "\t<tr><th scope=row>7</th><td> 63       </td><td>11        </td><td>40947.7528</td><td> 16.016541</td><td>2         </td><td>0         </td></tr>\n",
       "\t<tr><th scope=row>23</th><td>695       </td><td>10        </td><td>35581.7739</td><td> 20.719659</td><td>2         </td><td>0         </td></tr>\n",
       "\t<tr><th scope=row>116</th><td> 51       </td><td>10        </td><td>14358.6839</td><td> 14.425815</td><td>2         </td><td>0         </td></tr>\n",
       "\t<tr><th scope=row>215</th><td>337       </td><td> 7        </td><td> 6646.1476</td><td>  3.466224</td><td>2         </td><td>0         </td></tr>\n",
       "\t<tr><th scope=row>271</th><td>554       </td><td> 7        </td><td> 5144.1482</td><td>  6.906939</td><td>2         </td><td>0         </td></tr>\n",
       "\t<tr><th scope=row>343</th><td>115       </td><td> 7        </td><td> 3658.6109</td><td>  5.814704</td><td>2         </td><td>0         </td></tr>\n",
       "\t<tr><th scope=row>383</th><td>179       </td><td> 7        </td><td> 3363.7114</td><td>  4.205022</td><td>2         </td><td>0         </td></tr>\n",
       "\t<tr><th scope=row>392</th><td> 77       </td><td> 7        </td><td> 3306.7807</td><td>  2.754523</td><td>2         </td><td>0         </td></tr>\n",
       "\t<tr><th scope=row>451</th><td>524       </td><td> 7        </td><td> 2962.6463</td><td>  2.409242</td><td>2         </td><td>0         </td></tr>\n",
       "\t<tr><th scope=row>556</th><td>480       </td><td> 7        </td><td> 2443.4363</td><td>  3.116137</td><td>2         </td><td>0         </td></tr>\n",
       "\t<tr><th scope=row>599</th><td> 25       </td><td> 7        </td><td> 2268.5220</td><td>  3.129132</td><td>2         </td><td>0         </td></tr>\n",
       "\t<tr><th scope=row>620</th><td>109       </td><td> 7        </td><td> 2189.1085</td><td>  3.356079</td><td>2         </td><td>0         </td></tr>\n",
       "\t<tr><th scope=row>653</th><td>385       </td><td>10        </td><td> 2033.9653</td><td>  4.591804</td><td>2         </td><td>0         </td></tr>\n",
       "\t<tr><th scope=row>674</th><td>345       </td><td> 7        </td><td> 1996.6064</td><td>  2.274170</td><td>2         </td><td>0         </td></tr>\n",
       "\t<tr><th scope=row>683</th><td>496       </td><td> 9        </td><td> 1964.0151</td><td>  4.965700</td><td>2         </td><td>0         </td></tr>\n",
       "\t<tr><th scope=row>684</th><td>160       </td><td> 7        </td><td> 1959.9373</td><td>  2.783092</td><td>2         </td><td>0         </td></tr>\n",
       "\t<tr><th scope=row>689</th><td>218       </td><td> 7        </td><td> 1938.1354</td><td>  2.675310</td><td>2         </td><td>0         </td></tr>\n",
       "\t<tr><th scope=row>710</th><td>540       </td><td>10        </td><td> 1878.5848</td><td>  5.463599</td><td>2         </td><td>0         </td></tr>\n",
       "\t<tr><th scope=row>1233</th><td>423       </td><td> 7        </td><td> 1037.9808</td><td>  2.105100</td><td>2         </td><td>0         </td></tr>\n",
       "\t<tr><th scope=row>1271</th><td>505       </td><td> 7        </td><td>  995.5320</td><td>  3.086728</td><td>2         </td><td>0         </td></tr>\n",
       "\t<tr><th scope=row>1285</th><td>184       </td><td>10        </td><td>  983.7846</td><td>178.148507</td><td>4         </td><td>0         </td></tr>\n",
       "\t<tr><th scope=row>1358</th><td> 56       </td><td> 7        </td><td>  923.3760</td><td> 27.471696</td><td>2         </td><td>0         </td></tr>\n",
       "\t<tr><th scope=row>1379</th><td>617       </td><td> 7        </td><td>  906.7895</td><td>  3.053820</td><td>2         </td><td>0         </td></tr>\n",
       "\t<tr><th scope=row>1582</th><td>458       </td><td> 7        </td><td>  749.0159</td><td>  5.023954</td><td>2         </td><td>0         </td></tr>\n",
       "\t<tr><th scope=row>1697</th><td>200       </td><td>10        </td><td>  662.9224</td><td>  5.279101</td><td>2         </td><td>0         </td></tr>\n",
       "\t<tr><th scope=row>1742</th><td>142       </td><td>10        </td><td>  613.1649</td><td>  4.663517</td><td>2         </td><td>0         </td></tr>\n",
       "\t<tr><th scope=row>1743</th><td>567       </td><td> 7        </td><td>  613.0282</td><td>  2.418301</td><td>2         </td><td>0         </td></tr>\n",
       "\t<tr><th scope=row>1761</th><td>397       </td><td> 7        </td><td>  602.2313</td><td>  3.210764</td><td>2         </td><td>0         </td></tr>\n",
       "\t<tr><th scope=row>1884</th><td>646       </td><td> 7        </td><td>  537.2389</td><td>  2.568505</td><td>2         </td><td>0         </td></tr>\n",
       "\t<tr><th scope=row>...</th><td>...</td><td>...</td><td>...</td><td>...</td><td>...</td><td>...</td></tr>\n",
       "\t<tr><th scope=row>5737</th><td>162        </td><td>7          </td><td>13.91031234</td><td>1.468952   </td><td>2          </td><td>0.000262033</td></tr>\n",
       "\t<tr><th scope=row>5914</th><td> 80        </td><td>7          </td><td> 9.18876869</td><td>1.522715   </td><td>2          </td><td>0.024374985</td></tr>\n",
       "\t<tr><th scope=row>6012</th><td>668        </td><td>4          </td><td> 6.91190007</td><td>1.276638   </td><td>2          </td><td>0.198186528</td></tr>\n",
       "\t<tr><th scope=row>6076</th><td>647        </td><td>7          </td><td> 5.60581670</td><td>1.234836   </td><td>2          </td><td>0.540013143</td></tr>\n",
       "\t<tr><th scope=row>6098</th><td>375        </td><td>7          </td><td> 4.99854797</td><td>1.198705   </td><td>2          </td><td>0.751747233</td></tr>\n",
       "\t<tr><th scope=row>6105</th><td>687        </td><td>7          </td><td> 4.81181041</td><td>1.273655   </td><td>2          </td><td>0.811316769</td></tr>\n",
       "\t<tr><th scope=row>6220</th><td>430        </td><td>7          </td><td> 2.90089306</td><td>1.233609   </td><td>2          </td><td>0.999972330</td></tr>\n",
       "\t<tr><th scope=row>6481</th><td>592        </td><td>3          </td><td> 0.37571429</td><td>1.118678   </td><td>2          </td><td>1.000000000</td></tr>\n",
       "\t<tr><th scope=row>6545</th><td>495        </td><td>7          </td><td> 0.11008782</td><td>1.042820   </td><td>2          </td><td>1.000000000</td></tr>\n",
       "\t<tr><th scope=row>6548</th><td>511        </td><td>7          </td><td> 0.09500866</td><td>1.020468   </td><td>2          </td><td>1.000000000</td></tr>\n",
       "\t<tr><th scope=row>6655</th><td> 31        </td><td>1          </td><td> 0.00000000</td><td>1.000000   </td><td>1          </td><td>1.000000000</td></tr>\n",
       "\t<tr><th scope=row>6665</th><td> 41        </td><td>1          </td><td> 0.00000000</td><td>1.000000   </td><td>1          </td><td>1.000000000</td></tr>\n",
       "\t<tr><th scope=row>6781</th><td>167        </td><td>1          </td><td> 0.00000000</td><td>1.000000   </td><td>1          </td><td>1.000000000</td></tr>\n",
       "\t<tr><th scope=row>6809</th><td>195        </td><td>1          </td><td> 0.00000000</td><td>1.000000   </td><td>1          </td><td>1.000000000</td></tr>\n",
       "\t<tr><th scope=row>6821</th><td>207        </td><td>1          </td><td> 0.00000000</td><td>1.000000   </td><td>1          </td><td>1.000000000</td></tr>\n",
       "\t<tr><th scope=row>6876</th><td>264        </td><td>1          </td><td> 0.00000000</td><td>1.000000   </td><td>1          </td><td>1.000000000</td></tr>\n",
       "\t<tr><th scope=row>6907</th><td>297        </td><td>1          </td><td> 0.00000000</td><td>1.000000   </td><td>1          </td><td>1.000000000</td></tr>\n",
       "\t<tr><th scope=row>6909</th><td>299        </td><td>1          </td><td> 0.00000000</td><td>1.000000   </td><td>1          </td><td>1.000000000</td></tr>\n",
       "\t<tr><th scope=row>6913</th><td>303        </td><td>1          </td><td> 0.00000000</td><td>1.000000   </td><td>1          </td><td>1.000000000</td></tr>\n",
       "\t<tr><th scope=row>6919</th><td>309        </td><td>1          </td><td> 0.00000000</td><td>1.000000   </td><td>1          </td><td>1.000000000</td></tr>\n",
       "\t<tr><th scope=row>6958</th><td>350        </td><td>1          </td><td> 0.00000000</td><td>1.000000   </td><td>1          </td><td>1.000000000</td></tr>\n",
       "\t<tr><th scope=row>6972</th><td>365        </td><td>1          </td><td> 0.00000000</td><td>1.000000   </td><td>1          </td><td>1.000000000</td></tr>\n",
       "\t<tr><th scope=row>7006</th><td>399        </td><td>1          </td><td> 0.00000000</td><td>1.000000   </td><td>1          </td><td>1.000000000</td></tr>\n",
       "\t<tr><th scope=row>7024</th><td>417        </td><td>1          </td><td> 0.00000000</td><td>1.000000   </td><td>1          </td><td>1.000000000</td></tr>\n",
       "\t<tr><th scope=row>7031</th><td>424        </td><td>1          </td><td> 0.00000000</td><td>1.000000   </td><td>1          </td><td>1.000000000</td></tr>\n",
       "\t<tr><th scope=row>7047</th><td>440        </td><td>1          </td><td> 0.00000000</td><td>1.000000   </td><td>1          </td><td>1.000000000</td></tr>\n",
       "\t<tr><th scope=row>7069</th><td>463        </td><td>1          </td><td> 0.00000000</td><td>1.000000   </td><td>1          </td><td>1.000000000</td></tr>\n",
       "\t<tr><th scope=row>7072</th><td>466        </td><td>1          </td><td> 0.00000000</td><td>1.000000   </td><td>1          </td><td>1.000000000</td></tr>\n",
       "\t<tr><th scope=row>7087</th><td>481        </td><td>1          </td><td> 0.00000000</td><td>1.000000   </td><td>1          </td><td>1.000000000</td></tr>\n",
       "\t<tr><th scope=row>7107</th><td>501        </td><td>1          </td><td> 0.00000000</td><td>1.000000   </td><td>1          </td><td>1.000000000</td></tr>\n",
       "</tbody>\n",
       "</table>\n"
      ],
      "text/latex": [
       "\\begin{tabular}{r|llllll}\n",
       "  & zone & duration & score & relrisk & n\\_iter & Gumbel\\_pvalue\\\\\n",
       "\\hline\n",
       "\t1 & 656        & 11         & 63946.2704 &  50.972897 & 2          & 0         \\\\\n",
       "\t7 &  63        & 11         & 40947.7528 &  16.016541 & 2          & 0         \\\\\n",
       "\t23 & 695        & 10         & 35581.7739 &  20.719659 & 2          & 0         \\\\\n",
       "\t116 &  51        & 10         & 14358.6839 &  14.425815 & 2          & 0         \\\\\n",
       "\t215 & 337        &  7         &  6646.1476 &   3.466224 & 2          & 0         \\\\\n",
       "\t271 & 554        &  7         &  5144.1482 &   6.906939 & 2          & 0         \\\\\n",
       "\t343 & 115        &  7         &  3658.6109 &   5.814704 & 2          & 0         \\\\\n",
       "\t383 & 179        &  7         &  3363.7114 &   4.205022 & 2          & 0         \\\\\n",
       "\t392 &  77        &  7         &  3306.7807 &   2.754523 & 2          & 0         \\\\\n",
       "\t451 & 524        &  7         &  2962.6463 &   2.409242 & 2          & 0         \\\\\n",
       "\t556 & 480        &  7         &  2443.4363 &   3.116137 & 2          & 0         \\\\\n",
       "\t599 &  25        &  7         &  2268.5220 &   3.129132 & 2          & 0         \\\\\n",
       "\t620 & 109        &  7         &  2189.1085 &   3.356079 & 2          & 0         \\\\\n",
       "\t653 & 385        & 10         &  2033.9653 &   4.591804 & 2          & 0         \\\\\n",
       "\t674 & 345        &  7         &  1996.6064 &   2.274170 & 2          & 0         \\\\\n",
       "\t683 & 496        &  9         &  1964.0151 &   4.965700 & 2          & 0         \\\\\n",
       "\t684 & 160        &  7         &  1959.9373 &   2.783092 & 2          & 0         \\\\\n",
       "\t689 & 218        &  7         &  1938.1354 &   2.675310 & 2          & 0         \\\\\n",
       "\t710 & 540        & 10         &  1878.5848 &   5.463599 & 2          & 0         \\\\\n",
       "\t1233 & 423        &  7         &  1037.9808 &   2.105100 & 2          & 0         \\\\\n",
       "\t1271 & 505        &  7         &   995.5320 &   3.086728 & 2          & 0         \\\\\n",
       "\t1285 & 184        & 10         &   983.7846 & 178.148507 & 4          & 0         \\\\\n",
       "\t1358 &  56        &  7         &   923.3760 &  27.471696 & 2          & 0         \\\\\n",
       "\t1379 & 617        &  7         &   906.7895 &   3.053820 & 2          & 0         \\\\\n",
       "\t1582 & 458        &  7         &   749.0159 &   5.023954 & 2          & 0         \\\\\n",
       "\t1697 & 200        & 10         &   662.9224 &   5.279101 & 2          & 0         \\\\\n",
       "\t1742 & 142        & 10         &   613.1649 &   4.663517 & 2          & 0         \\\\\n",
       "\t1743 & 567        &  7         &   613.0282 &   2.418301 & 2          & 0         \\\\\n",
       "\t1761 & 397        &  7         &   602.2313 &   3.210764 & 2          & 0         \\\\\n",
       "\t1884 & 646        &  7         &   537.2389 &   2.568505 & 2          & 0         \\\\\n",
       "\t... & ... & ... & ... & ... & ... & ...\\\\\n",
       "\t5737 & 162         & 7           & 13.91031234 & 1.468952    & 2           & 0.000262033\\\\\n",
       "\t5914 &  80         & 7           &  9.18876869 & 1.522715    & 2           & 0.024374985\\\\\n",
       "\t6012 & 668         & 4           &  6.91190007 & 1.276638    & 2           & 0.198186528\\\\\n",
       "\t6076 & 647         & 7           &  5.60581670 & 1.234836    & 2           & 0.540013143\\\\\n",
       "\t6098 & 375         & 7           &  4.99854797 & 1.198705    & 2           & 0.751747233\\\\\n",
       "\t6105 & 687         & 7           &  4.81181041 & 1.273655    & 2           & 0.811316769\\\\\n",
       "\t6220 & 430         & 7           &  2.90089306 & 1.233609    & 2           & 0.999972330\\\\\n",
       "\t6481 & 592         & 3           &  0.37571429 & 1.118678    & 2           & 1.000000000\\\\\n",
       "\t6545 & 495         & 7           &  0.11008782 & 1.042820    & 2           & 1.000000000\\\\\n",
       "\t6548 & 511         & 7           &  0.09500866 & 1.020468    & 2           & 1.000000000\\\\\n",
       "\t6655 &  31         & 1           &  0.00000000 & 1.000000    & 1           & 1.000000000\\\\\n",
       "\t6665 &  41         & 1           &  0.00000000 & 1.000000    & 1           & 1.000000000\\\\\n",
       "\t6781 & 167         & 1           &  0.00000000 & 1.000000    & 1           & 1.000000000\\\\\n",
       "\t6809 & 195         & 1           &  0.00000000 & 1.000000    & 1           & 1.000000000\\\\\n",
       "\t6821 & 207         & 1           &  0.00000000 & 1.000000    & 1           & 1.000000000\\\\\n",
       "\t6876 & 264         & 1           &  0.00000000 & 1.000000    & 1           & 1.000000000\\\\\n",
       "\t6907 & 297         & 1           &  0.00000000 & 1.000000    & 1           & 1.000000000\\\\\n",
       "\t6909 & 299         & 1           &  0.00000000 & 1.000000    & 1           & 1.000000000\\\\\n",
       "\t6913 & 303         & 1           &  0.00000000 & 1.000000    & 1           & 1.000000000\\\\\n",
       "\t6919 & 309         & 1           &  0.00000000 & 1.000000    & 1           & 1.000000000\\\\\n",
       "\t6958 & 350         & 1           &  0.00000000 & 1.000000    & 1           & 1.000000000\\\\\n",
       "\t6972 & 365         & 1           &  0.00000000 & 1.000000    & 1           & 1.000000000\\\\\n",
       "\t7006 & 399         & 1           &  0.00000000 & 1.000000    & 1           & 1.000000000\\\\\n",
       "\t7024 & 417         & 1           &  0.00000000 & 1.000000    & 1           & 1.000000000\\\\\n",
       "\t7031 & 424         & 1           &  0.00000000 & 1.000000    & 1           & 1.000000000\\\\\n",
       "\t7047 & 440         & 1           &  0.00000000 & 1.000000    & 1           & 1.000000000\\\\\n",
       "\t7069 & 463         & 1           &  0.00000000 & 1.000000    & 1           & 1.000000000\\\\\n",
       "\t7072 & 466         & 1           &  0.00000000 & 1.000000    & 1           & 1.000000000\\\\\n",
       "\t7087 & 481         & 1           &  0.00000000 & 1.000000    & 1           & 1.000000000\\\\\n",
       "\t7107 & 501         & 1           &  0.00000000 & 1.000000    & 1           & 1.000000000\\\\\n",
       "\\end{tabular}\n"
      ],
      "text/markdown": [
       "\n",
       "| <!--/--> | zone | duration | score | relrisk | n_iter | Gumbel_pvalue | \n",
       "|---|---|---|---|---|---|---|---|---|---|---|---|---|---|---|---|---|---|---|---|---|---|---|---|---|---|---|---|---|---|---|---|---|---|---|---|---|---|---|---|---|---|---|---|---|---|---|---|---|---|---|---|---|---|---|---|---|---|---|---|---|\n",
       "| 1 | 656        | 11         | 63946.2704 |  50.972897 | 2          | 0          | \n",
       "| 7 |  63        | 11         | 40947.7528 |  16.016541 | 2          | 0          | \n",
       "| 23 | 695        | 10         | 35581.7739 |  20.719659 | 2          | 0          | \n",
       "| 116 |  51        | 10         | 14358.6839 |  14.425815 | 2          | 0          | \n",
       "| 215 | 337        |  7         |  6646.1476 |   3.466224 | 2          | 0          | \n",
       "| 271 | 554        |  7         |  5144.1482 |   6.906939 | 2          | 0          | \n",
       "| 343 | 115        |  7         |  3658.6109 |   5.814704 | 2          | 0          | \n",
       "| 383 | 179        |  7         |  3363.7114 |   4.205022 | 2          | 0          | \n",
       "| 392 |  77        |  7         |  3306.7807 |   2.754523 | 2          | 0          | \n",
       "| 451 | 524        |  7         |  2962.6463 |   2.409242 | 2          | 0          | \n",
       "| 556 | 480        |  7         |  2443.4363 |   3.116137 | 2          | 0          | \n",
       "| 599 |  25        |  7         |  2268.5220 |   3.129132 | 2          | 0          | \n",
       "| 620 | 109        |  7         |  2189.1085 |   3.356079 | 2          | 0          | \n",
       "| 653 | 385        | 10         |  2033.9653 |   4.591804 | 2          | 0          | \n",
       "| 674 | 345        |  7         |  1996.6064 |   2.274170 | 2          | 0          | \n",
       "| 683 | 496        |  9         |  1964.0151 |   4.965700 | 2          | 0          | \n",
       "| 684 | 160        |  7         |  1959.9373 |   2.783092 | 2          | 0          | \n",
       "| 689 | 218        |  7         |  1938.1354 |   2.675310 | 2          | 0          | \n",
       "| 710 | 540        | 10         |  1878.5848 |   5.463599 | 2          | 0          | \n",
       "| 1233 | 423        |  7         |  1037.9808 |   2.105100 | 2          | 0          | \n",
       "| 1271 | 505        |  7         |   995.5320 |   3.086728 | 2          | 0          | \n",
       "| 1285 | 184        | 10         |   983.7846 | 178.148507 | 4          | 0          | \n",
       "| 1358 |  56        |  7         |   923.3760 |  27.471696 | 2          | 0          | \n",
       "| 1379 | 617        |  7         |   906.7895 |   3.053820 | 2          | 0          | \n",
       "| 1582 | 458        |  7         |   749.0159 |   5.023954 | 2          | 0          | \n",
       "| 1697 | 200        | 10         |   662.9224 |   5.279101 | 2          | 0          | \n",
       "| 1742 | 142        | 10         |   613.1649 |   4.663517 | 2          | 0          | \n",
       "| 1743 | 567        |  7         |   613.0282 |   2.418301 | 2          | 0          | \n",
       "| 1761 | 397        |  7         |   602.2313 |   3.210764 | 2          | 0          | \n",
       "| 1884 | 646        |  7         |   537.2389 |   2.568505 | 2          | 0          | \n",
       "| ... | ... | ... | ... | ... | ... | ... | \n",
       "| 5737 | 162         | 7           | 13.91031234 | 1.468952    | 2           | 0.000262033 | \n",
       "| 5914 |  80         | 7           |  9.18876869 | 1.522715    | 2           | 0.024374985 | \n",
       "| 6012 | 668         | 4           |  6.91190007 | 1.276638    | 2           | 0.198186528 | \n",
       "| 6076 | 647         | 7           |  5.60581670 | 1.234836    | 2           | 0.540013143 | \n",
       "| 6098 | 375         | 7           |  4.99854797 | 1.198705    | 2           | 0.751747233 | \n",
       "| 6105 | 687         | 7           |  4.81181041 | 1.273655    | 2           | 0.811316769 | \n",
       "| 6220 | 430         | 7           |  2.90089306 | 1.233609    | 2           | 0.999972330 | \n",
       "| 6481 | 592         | 3           |  0.37571429 | 1.118678    | 2           | 1.000000000 | \n",
       "| 6545 | 495         | 7           |  0.11008782 | 1.042820    | 2           | 1.000000000 | \n",
       "| 6548 | 511         | 7           |  0.09500866 | 1.020468    | 2           | 1.000000000 | \n",
       "| 6655 |  31         | 1           |  0.00000000 | 1.000000    | 1           | 1.000000000 | \n",
       "| 6665 |  41         | 1           |  0.00000000 | 1.000000    | 1           | 1.000000000 | \n",
       "| 6781 | 167         | 1           |  0.00000000 | 1.000000    | 1           | 1.000000000 | \n",
       "| 6809 | 195         | 1           |  0.00000000 | 1.000000    | 1           | 1.000000000 | \n",
       "| 6821 | 207         | 1           |  0.00000000 | 1.000000    | 1           | 1.000000000 | \n",
       "| 6876 | 264         | 1           |  0.00000000 | 1.000000    | 1           | 1.000000000 | \n",
       "| 6907 | 297         | 1           |  0.00000000 | 1.000000    | 1           | 1.000000000 | \n",
       "| 6909 | 299         | 1           |  0.00000000 | 1.000000    | 1           | 1.000000000 | \n",
       "| 6913 | 303         | 1           |  0.00000000 | 1.000000    | 1           | 1.000000000 | \n",
       "| 6919 | 309         | 1           |  0.00000000 | 1.000000    | 1           | 1.000000000 | \n",
       "| 6958 | 350         | 1           |  0.00000000 | 1.000000    | 1           | 1.000000000 | \n",
       "| 6972 | 365         | 1           |  0.00000000 | 1.000000    | 1           | 1.000000000 | \n",
       "| 7006 | 399         | 1           |  0.00000000 | 1.000000    | 1           | 1.000000000 | \n",
       "| 7024 | 417         | 1           |  0.00000000 | 1.000000    | 1           | 1.000000000 | \n",
       "| 7031 | 424         | 1           |  0.00000000 | 1.000000    | 1           | 1.000000000 | \n",
       "| 7047 | 440         | 1           |  0.00000000 | 1.000000    | 1           | 1.000000000 | \n",
       "| 7069 | 463         | 1           |  0.00000000 | 1.000000    | 1           | 1.000000000 | \n",
       "| 7072 | 466         | 1           |  0.00000000 | 1.000000    | 1           | 1.000000000 | \n",
       "| 7087 | 481         | 1           |  0.00000000 | 1.000000    | 1           | 1.000000000 | \n",
       "| 7107 | 501         | 1           |  0.00000000 | 1.000000    | 1           | 1.000000000 | \n",
       "\n",
       "\n"
      ],
      "text/plain": [
       "     zone duration score       relrisk    n_iter Gumbel_pvalue\n",
       "1    656  11       63946.2704   50.972897 2      0            \n",
       "7     63  11       40947.7528   16.016541 2      0            \n",
       "23   695  10       35581.7739   20.719659 2      0            \n",
       "116   51  10       14358.6839   14.425815 2      0            \n",
       "215  337   7        6646.1476    3.466224 2      0            \n",
       "271  554   7        5144.1482    6.906939 2      0            \n",
       "343  115   7        3658.6109    5.814704 2      0            \n",
       "383  179   7        3363.7114    4.205022 2      0            \n",
       "392   77   7        3306.7807    2.754523 2      0            \n",
       "451  524   7        2962.6463    2.409242 2      0            \n",
       "556  480   7        2443.4363    3.116137 2      0            \n",
       "599   25   7        2268.5220    3.129132 2      0            \n",
       "620  109   7        2189.1085    3.356079 2      0            \n",
       "653  385  10        2033.9653    4.591804 2      0            \n",
       "674  345   7        1996.6064    2.274170 2      0            \n",
       "683  496   9        1964.0151    4.965700 2      0            \n",
       "684  160   7        1959.9373    2.783092 2      0            \n",
       "689  218   7        1938.1354    2.675310 2      0            \n",
       "710  540  10        1878.5848    5.463599 2      0            \n",
       "1233 423   7        1037.9808    2.105100 2      0            \n",
       "1271 505   7         995.5320    3.086728 2      0            \n",
       "1285 184  10         983.7846  178.148507 4      0            \n",
       "1358  56   7         923.3760   27.471696 2      0            \n",
       "1379 617   7         906.7895    3.053820 2      0            \n",
       "1582 458   7         749.0159    5.023954 2      0            \n",
       "1697 200  10         662.9224    5.279101 2      0            \n",
       "1742 142  10         613.1649    4.663517 2      0            \n",
       "1743 567   7         613.0282    2.418301 2      0            \n",
       "1761 397   7         602.2313    3.210764 2      0            \n",
       "1884 646   7         537.2389    2.568505 2      0            \n",
       "...  ...  ...      ...         ...        ...    ...          \n",
       "5737 162  7        13.91031234 1.468952   2      0.000262033  \n",
       "5914  80  7         9.18876869 1.522715   2      0.024374985  \n",
       "6012 668  4         6.91190007 1.276638   2      0.198186528  \n",
       "6076 647  7         5.60581670 1.234836   2      0.540013143  \n",
       "6098 375  7         4.99854797 1.198705   2      0.751747233  \n",
       "6105 687  7         4.81181041 1.273655   2      0.811316769  \n",
       "6220 430  7         2.90089306 1.233609   2      0.999972330  \n",
       "6481 592  3         0.37571429 1.118678   2      1.000000000  \n",
       "6545 495  7         0.11008782 1.042820   2      1.000000000  \n",
       "6548 511  7         0.09500866 1.020468   2      1.000000000  \n",
       "6655  31  1         0.00000000 1.000000   1      1.000000000  \n",
       "6665  41  1         0.00000000 1.000000   1      1.000000000  \n",
       "6781 167  1         0.00000000 1.000000   1      1.000000000  \n",
       "6809 195  1         0.00000000 1.000000   1      1.000000000  \n",
       "6821 207  1         0.00000000 1.000000   1      1.000000000  \n",
       "6876 264  1         0.00000000 1.000000   1      1.000000000  \n",
       "6907 297  1         0.00000000 1.000000   1      1.000000000  \n",
       "6909 299  1         0.00000000 1.000000   1      1.000000000  \n",
       "6913 303  1         0.00000000 1.000000   1      1.000000000  \n",
       "6919 309  1         0.00000000 1.000000   1      1.000000000  \n",
       "6958 350  1         0.00000000 1.000000   1      1.000000000  \n",
       "6972 365  1         0.00000000 1.000000   1      1.000000000  \n",
       "7006 399  1         0.00000000 1.000000   1      1.000000000  \n",
       "7024 417  1         0.00000000 1.000000   1      1.000000000  \n",
       "7031 424  1         0.00000000 1.000000   1      1.000000000  \n",
       "7047 440  1         0.00000000 1.000000   1      1.000000000  \n",
       "7069 463  1         0.00000000 1.000000   1      1.000000000  \n",
       "7072 466  1         0.00000000 1.000000   1      1.000000000  \n",
       "7087 481  1         0.00000000 1.000000   1      1.000000000  \n",
       "7107 501  1         0.00000000 1.000000   1      1.000000000  "
      ]
     },
     "metadata": {},
     "output_type": "display_data"
    }
   ],
   "source": [
    "get.top.100 "
   ]
  },
  {
   "cell_type": "code",
   "execution_count": null,
   "metadata": {},
   "outputs": [],
   "source": [
    "### Get cities in these clusters"
   ]
  },
  {
   "cell_type": "code",
   "execution_count": 317,
   "metadata": {},
   "outputs": [],
   "source": [
    "scores <- score_locations(sp_results.zip, zones)"
   ]
  },
  {
   "cell_type": "code",
   "execution_count": 285,
   "metadata": {
    "collapsed": true
   },
   "outputs": [
    {
     "data": {
      "text/html": [
       "<table>\n",
       "<thead><tr><th scope=col>location</th><th scope=col>score</th><th scope=col>n_zones</th><th scope=col>relative_score</th></tr></thead>\n",
       "<tbody>\n",
       "\t<tr><td>173      </td><td>319.6643 </td><td>10       </td><td>1.0000000</td></tr>\n",
       "\t<tr><td> 13      </td><td>201.7090 </td><td>13       </td><td>0.6310024</td></tr>\n",
       "\t<tr><td> 40      </td><td>155.2125 </td><td>14       </td><td>0.4855484</td></tr>\n",
       "\t<tr><td> 15      </td><td>139.9263 </td><td>13       </td><td>0.4377289</td></tr>\n",
       "\t<tr><td>188      </td><td>133.8069 </td><td> 5       </td><td>0.4185857</td></tr>\n",
       "\t<tr><td> 71      </td><td>107.8446 </td><td> 9       </td><td>0.3373683</td></tr>\n",
       "</tbody>\n",
       "</table>\n"
      ],
      "text/latex": [
       "\\begin{tabular}{r|llll}\n",
       " location & score & n\\_zones & relative\\_score\\\\\n",
       "\\hline\n",
       "\t 173       & 319.6643  & 10        & 1.0000000\\\\\n",
       "\t  13       & 201.7090  & 13        & 0.6310024\\\\\n",
       "\t  40       & 155.2125  & 14        & 0.4855484\\\\\n",
       "\t  15       & 139.9263  & 13        & 0.4377289\\\\\n",
       "\t 188       & 133.8069  &  5        & 0.4185857\\\\\n",
       "\t  71       & 107.8446  &  9        & 0.3373683\\\\\n",
       "\\end{tabular}\n"
      ],
      "text/markdown": [
       "\n",
       "location | score | n_zones | relative_score | \n",
       "|---|---|---|---|---|---|\n",
       "| 173       | 319.6643  | 10        | 1.0000000 | \n",
       "|  13       | 201.7090  | 13        | 0.6310024 | \n",
       "|  40       | 155.2125  | 14        | 0.4855484 | \n",
       "|  15       | 139.9263  | 13        | 0.4377289 | \n",
       "| 188       | 133.8069  |  5        | 0.4185857 | \n",
       "|  71       | 107.8446  |  9        | 0.3373683 | \n",
       "\n",
       "\n"
      ],
      "text/plain": [
       "  location score    n_zones relative_score\n",
       "1 173      319.6643 10      1.0000000     \n",
       "2  13      201.7090 13      0.6310024     \n",
       "3  40      155.2125 14      0.4855484     \n",
       "4  15      139.9263 13      0.4377289     \n",
       "5 188      133.8069  5      0.4185857     \n",
       "6  71      107.8446  9      0.3373683     "
      ]
     },
     "metadata": {},
     "output_type": "display_data"
    }
   ],
   "source": [
    "head(scores %>% arrange(desc(score)))"
   ]
  },
  {
   "cell_type": "code",
   "execution_count": 318,
   "metadata": {},
   "outputs": [],
   "source": [
    "locations <- count.pos.pop.130$location"
   ]
  },
  {
   "cell_type": "code",
   "execution_count": 319,
   "metadata": {},
   "outputs": [],
   "source": [
    "locations.top.100 <- get.top.100$zone %>%\n",
    "purrr::map(get_zone, zones = zones) %>%\n",
    "purrr::map(function(x) locations[x])"
   ]
  },
  {
   "cell_type": "code",
   "execution_count": 324,
   "metadata": {
    "scrolled": true
   },
   "outputs": [
    {
     "data": {
      "text/html": [
       "<table>\n",
       "<thead><tr><th scope=col>zone</th><th scope=col>duration</th><th scope=col>score</th><th scope=col>relrisk</th><th scope=col>n_iter</th><th scope=col>Gumbel_pvalue</th><th scope=col>cities</th></tr></thead>\n",
       "<tbody>\n",
       "\t<tr><td>184        </td><td>10         </td><td>  983.78463</td><td>178.148507 </td><td>4          </td><td>0          </td><td>ATLANTA GA </td></tr>\n",
       "\t<tr><td>656         </td><td>11          </td><td>63946.27036 </td><td> 50.972897  </td><td>2           </td><td>0           </td><td>ROCHESTER NY</td></tr>\n",
       "\t<tr><td> 56        </td><td> 7         </td><td>  923.37604</td><td> 27.471696 </td><td>2          </td><td>0          </td><td>COLUMBIA SC</td></tr>\n",
       "\t<tr><td>695          </td><td>10           </td><td>35581.77391  </td><td> 20.719659   </td><td>2            </td><td>0            </td><td>SCOTTSDALE AZ</td></tr>\n",
       "\t<tr><td> 63                                                       </td><td>11                                                        </td><td>40947.75283                                               </td><td> 16.016541                                                </td><td>2                                                         </td><td>0                                                         </td><td>CINCINNATI OH, COLUMBUS OH  , DAYTON OH    , ROCHESTER NY </td></tr>\n",
       "\t<tr><td> 51        </td><td>10         </td><td>14358.68393</td><td> 14.425815 </td><td>2          </td><td>0          </td><td>COLUMBIA MO</td></tr>\n",
       "\t<tr><td>259          </td><td>10           </td><td>  253.61217  </td><td>  8.080083   </td><td>3            </td><td>0            </td><td>BURLINGTON VT</td></tr>\n",
       "\t<tr><td>227             </td><td>10              </td><td>  208.18160     </td><td>  7.153130      </td><td>2               </td><td>0               </td><td>BEVERLY HILLS CA</td></tr>\n",
       "\t<tr><td>554                                           </td><td> 7                                            </td><td> 5144.14822                                   </td><td>  6.906939                                    </td><td>2                                             </td><td>0                                             </td><td>MINNEAPOLIS MN, MONTGOMERY AL , PROVIDENCE RI </td></tr>\n",
       "\t<tr><td>277           </td><td> 7            </td><td>  134.17111   </td><td>  6.838798    </td><td>3             </td><td>0             </td><td>CHAPEL HILL NC</td></tr>\n",
       "\t<tr><td>682          </td><td>11           </td><td>  279.05989  </td><td>  6.100809   </td><td>2            </td><td>0            </td><td>SANTA CRUZ CA</td></tr>\n",
       "\t<tr><td>115        </td><td> 7         </td><td> 3658.61092</td><td>  5.814704 </td><td>2          </td><td>0          </td><td>NEW YORK NY</td></tr>\n",
       "\t<tr><td>354        </td><td> 7         </td><td>  155.59455</td><td>  5.517132 </td><td>2          </td><td>0          </td><td>DETROIT MI </td></tr>\n",
       "\t<tr><td>540        </td><td>10         </td><td> 1878.58477</td><td>  5.463599 </td><td>2          </td><td>0          </td><td>MIAMI FL   </td></tr>\n",
       "\t<tr><td>145        </td><td> 7         </td><td>  220.25246</td><td>  5.282928 </td><td>3          </td><td>0          </td><td>AKRON OH   </td></tr>\n",
       "\t<tr><td>200         </td><td>10          </td><td>  662.92240 </td><td>  5.279101  </td><td>2           </td><td>0           </td><td>BALTIMORE MD</td></tr>\n",
       "\t<tr><td>458                       </td><td> 7                        </td><td>  749.01590               </td><td>  5.023954                </td><td>2                         </td><td>0                         </td><td>IOWA CITY IA, RIVERSIDE CA</td></tr>\n",
       "\t<tr><td>496         </td><td> 9          </td><td> 1964.01507 </td><td>  4.965700  </td><td>2           </td><td>0           </td><td>LANCASTER PA</td></tr>\n",
       "\t<tr><td>142                                        </td><td>10                                         </td><td>  613.16492                                </td><td>  4.663517                                 </td><td>2                                          </td><td>0                                          </td><td>WASHINGTON DC, ALEXANDRIA VA, CHARLESTON SC</td></tr>\n",
       "\t<tr><td>385        </td><td>10         </td><td> 2033.96533</td><td>  4.591804 </td><td>2          </td><td>0          </td><td>FERGUSON MO</td></tr>\n",
       "\t<tr><td>380        </td><td> 7         </td><td>  246.24593</td><td>  4.416056 </td><td>2          </td><td>0          </td><td>FAIRFAX VA </td></tr>\n",
       "\t<tr><td>133        </td><td> 7         </td><td>  334.94032</td><td>  4.312817 </td><td>2          </td><td>0          </td><td>TAMPA FL   </td></tr>\n",
       "\t<tr><td>179                                     </td><td> 7                                      </td><td> 3363.71136                             </td><td>  4.205022                              </td><td>2                                       </td><td>0                                       </td><td>DALLAS TX   , ARLINGTON TX, DECATUR GA  </td></tr>\n",
       "\t<tr><td>506        </td><td> 7         </td><td>  134.63082</td><td>  4.075653 </td><td>2          </td><td>0          </td><td>LAWRENCE KS</td></tr>\n",
       "\t<tr><td>139                                 </td><td> 7                                  </td><td>  358.20277                         </td><td>  3.763675                          </td><td>2                                   </td><td>0                                   </td><td>CHESAPEAKE VA    , VIRGINIA BEACH VA</td></tr>\n",
       "\t<tr><td>337                                        </td><td> 7                                         </td><td> 6646.14764                                </td><td>  3.466224                                 </td><td>2                                          </td><td>0                                          </td><td>DAYTON OH    , FORT WORTH TX, PORTLAND OR  </td></tr>\n",
       "\t<tr><td>249        </td><td> 7         </td><td>  461.62149</td><td>  3.438039 </td><td>2          </td><td>0          </td><td>BUFFALO NY </td></tr>\n",
       "\t<tr><td>100           </td><td> 9            </td><td>   72.26075   </td><td>  3.374021    </td><td>2             </td><td>0             </td><td>LOS ANGELES CA</td></tr>\n",
       "\t<tr><td>109                                                                                     </td><td> 7                                                                                      </td><td> 2189.10851                                                                             </td><td>  3.356079                                                                              </td><td>2                                                                                       </td><td>0                                                                                       </td><td>MIAMI FL        , DALLAS TX       , ITHACA NY       , LITTLE ROCK AR  , SANTA BARBARA CA</td></tr>\n",
       "\t<tr><td>397                                                               </td><td> 7                                                                </td><td>  602.23130                                                       </td><td>  3.210764                                                        </td><td>2                                                                 </td><td>0                                                                 </td><td>AUSTIN TX      , FLORISSANT MO  , JACKSONVILLE FL, KALAMAZOO MI   </td></tr>\n",
       "\t<tr><td>...</td><td>...</td><td>...</td><td>...</td><td>...</td><td>...</td><td>...</td></tr>\n",
       "\t<tr><td>321         </td><td>7           </td><td>21.09492015 </td><td>1.455558    </td><td>2           </td><td>2.599143e-07</td><td>COLUMBIA MO </td></tr>\n",
       "\t<tr><td>691          </td><td>7            </td><td>22.43492197  </td><td>1.326251     </td><td>2            </td><td>7.155365e-08 </td><td>SANTA ROSA CA</td></tr>\n",
       "\t<tr><td>668           </td><td>4             </td><td> 6.91190007   </td><td>1.276638      </td><td>2             </td><td>1.981865e-01  </td><td>SAN ANTONIO TX</td></tr>\n",
       "\t<tr><td>687            </td><td>7              </td><td> 4.81181041    </td><td>1.273655       </td><td>2              </td><td>8.113168e-01   </td><td>SANTA MONICA CA</td></tr>\n",
       "\t<tr><td>647         </td><td>7           </td><td> 5.60581670 </td><td>1.234836    </td><td>2           </td><td>5.400131e-01</td><td>RENO NV     </td></tr>\n",
       "\t<tr><td>430          </td><td>7            </td><td> 2.90089306  </td><td>1.233609     </td><td>2            </td><td>9.999723e-01 </td><td>GREENVILLE SC</td></tr>\n",
       "\t<tr><td>375         </td><td>7           </td><td> 4.99854797 </td><td>1.198705    </td><td>2           </td><td>7.517472e-01</td><td>EUGENE OR   </td></tr>\n",
       "\t<tr><td>592             </td><td>3               </td><td> 0.37571429     </td><td>1.118678        </td><td>2               </td><td>1.000000e+00    </td><td>OKLAHOMA CITY OK</td></tr>\n",
       "\t<tr><td>495         </td><td>7           </td><td> 0.11008782 </td><td>1.042820    </td><td>2           </td><td>1.000000e+00</td><td>LAFAYETTE LA</td></tr>\n",
       "\t<tr><td>511         </td><td>7           </td><td> 0.09500866 </td><td>1.020468    </td><td>2           </td><td>1.000000e+00</td><td>LINCOLN NE  </td></tr>\n",
       "\t<tr><td> 31         </td><td>1           </td><td> 0.00000000 </td><td>1.000000    </td><td>1           </td><td>1.000000e+00</td><td>CHARLOTTE NC</td></tr>\n",
       "\t<tr><td> 41         </td><td>1           </td><td> 0.00000000 </td><td>1.000000    </td><td>1           </td><td>1.000000e+00</td><td>CHICAGO IL  </td></tr>\n",
       "\t<tr><td>167         </td><td>1           </td><td> 0.00000000 </td><td>1.000000    </td><td>1           </td><td>1.000000e+00</td><td>ANCHORAGE AK</td></tr>\n",
       "\t<tr><td>195           </td><td>1             </td><td> 0.00000000   </td><td>1.000000      </td><td>1             </td><td>1.000000e+00  </td><td>BAKERSFIELD CA</td></tr>\n",
       "\t<tr><td>207         </td><td>1           </td><td> 0.00000000 </td><td>1.000000    </td><td>1           </td><td>1.000000e+00</td><td>BEAVERTON OR</td></tr>\n",
       "\t<tr><td>264         </td><td>1           </td><td> 0.00000000 </td><td>1.000000    </td><td>1           </td><td>1.000000e+00</td><td>CAMBRIDGE MA</td></tr>\n",
       "\t<tr><td>297         </td><td>1           </td><td> 0.00000000 </td><td>1.000000    </td><td>1           </td><td>1.000000e+00</td><td>CHICAGO IL  </td></tr>\n",
       "\t<tr><td>299         </td><td>1           </td><td> 0.00000000 </td><td>1.000000    </td><td>1           </td><td>1.000000e+00</td><td>CHICO CA    </td></tr>\n",
       "\t<tr><td>303          </td><td>1            </td><td> 0.00000000  </td><td>1.000000     </td><td>1            </td><td>1.000000e+00 </td><td>CINCINNATI OH</td></tr>\n",
       "\t<tr><td>309         </td><td>1           </td><td> 0.00000000 </td><td>1.000000    </td><td>1           </td><td>1.000000e+00</td><td>CLEVELAND OH</td></tr>\n",
       "\t<tr><td>350          </td><td>1            </td><td> 0.00000000  </td><td>1.000000     </td><td>1            </td><td>1.000000e+00 </td><td>DES MOINES IA</td></tr>\n",
       "\t<tr><td>365            </td><td>1              </td><td> 0.00000000    </td><td>1.000000       </td><td>1              </td><td>1.000000e+00   </td><td>EDWARDSVILLE IL</td></tr>\n",
       "\t<tr><td>399            </td><td>1              </td><td> 0.00000000    </td><td>1.000000       </td><td>1              </td><td>1.000000e+00   </td><td>FORT COLLINS CO</td></tr>\n",
       "\t<tr><td>417           </td><td>1             </td><td> 0.00000000   </td><td>1.000000      </td><td>1             </td><td>1.000000e+00  </td><td>GAINESVILLE FL</td></tr>\n",
       "\t<tr><td>424            </td><td>1              </td><td> 0.00000000    </td><td>1.000000       </td><td>1              </td><td>1.000000e+00   </td><td>GRAND RAPIDS MI</td></tr>\n",
       "\t<tr><td>440         </td><td>1           </td><td> 0.00000000 </td><td>1.000000    </td><td>1           </td><td>1.000000e+00</td><td>HENDERSON NV</td></tr>\n",
       "\t<tr><td>463         </td><td>1           </td><td> 0.00000000 </td><td>1.000000    </td><td>1           </td><td>1.000000e+00</td><td>JACKSON MS  </td></tr>\n",
       "\t<tr><td>466         </td><td>1           </td><td> 0.00000000 </td><td>1.000000    </td><td>1           </td><td>1.000000e+00</td><td>JACKSON TN  </td></tr>\n",
       "\t<tr><td>481           </td><td>1             </td><td> 0.00000000   </td><td>1.000000      </td><td>1             </td><td>1.000000e+00  </td><td>JERSEY CITY NJ</td></tr>\n",
       "\t<tr><td>501         </td><td>1           </td><td> 0.00000000 </td><td>1.000000    </td><td>1           </td><td>1.000000e+00</td><td>LANSING MI  </td></tr>\n",
       "</tbody>\n",
       "</table>\n"
      ],
      "text/latex": [
       "\\begin{tabular}{r|lllllll}\n",
       " zone & duration & score & relrisk & n\\_iter & Gumbel\\_pvalue & cities\\\\\n",
       "\\hline\n",
       "\t 184         & 10          &   983.78463 & 178.148507  & 4           & 0           & ATLANTA GA \\\\\n",
       "\t 656          & 11           & 63946.27036  &  50.972897   & 2            & 0            & ROCHESTER NY\\\\\n",
       "\t  56         &  7          &   923.37604 &  27.471696  & 2           & 0           & COLUMBIA SC\\\\\n",
       "\t 695           & 10            & 35581.77391   &  20.719659    & 2             & 0             & SCOTTSDALE AZ\\\\\n",
       "\t  63                                                        & 11                                                         & 40947.75283                                                &  16.016541                                                 & 2                                                          & 0                                                          & CINCINNATI OH, COLUMBUS OH  , DAYTON OH    , ROCHESTER NY \\\\\n",
       "\t  51         & 10          & 14358.68393 &  14.425815  & 2           & 0           & COLUMBIA MO\\\\\n",
       "\t 259           & 10            &   253.61217   &   8.080083    & 3             & 0             & BURLINGTON VT\\\\\n",
       "\t 227              & 10               &   208.18160      &   7.153130       & 2                & 0                & BEVERLY HILLS CA\\\\\n",
       "\t 554                                            &  7                                             &  5144.14822                                    &   6.906939                                     & 2                                              & 0                                              & MINNEAPOLIS MN, MONTGOMERY AL , PROVIDENCE RI \\\\\n",
       "\t 277            &  7             &   134.17111    &   6.838798     & 3              & 0              & CHAPEL HILL NC\\\\\n",
       "\t 682           & 11            &   279.05989   &   6.100809    & 2             & 0             & SANTA CRUZ CA\\\\\n",
       "\t 115         &  7          &  3658.61092 &   5.814704  & 2           & 0           & NEW YORK NY\\\\\n",
       "\t 354         &  7          &   155.59455 &   5.517132  & 2           & 0           & DETROIT MI \\\\\n",
       "\t 540         & 10          &  1878.58477 &   5.463599  & 2           & 0           & MIAMI FL   \\\\\n",
       "\t 145         &  7          &   220.25246 &   5.282928  & 3           & 0           & AKRON OH   \\\\\n",
       "\t 200          & 10           &   662.92240  &   5.279101   & 2            & 0            & BALTIMORE MD\\\\\n",
       "\t 458                        &  7                         &   749.01590                &   5.023954                 & 2                          & 0                          & IOWA CITY IA, RIVERSIDE CA\\\\\n",
       "\t 496          &  9           &  1964.01507  &   4.965700   & 2            & 0            & LANCASTER PA\\\\\n",
       "\t 142                                         & 10                                          &   613.16492                                 &   4.663517                                  & 2                                           & 0                                           & WASHINGTON DC, ALEXANDRIA VA, CHARLESTON SC\\\\\n",
       "\t 385         & 10          &  2033.96533 &   4.591804  & 2           & 0           & FERGUSON MO\\\\\n",
       "\t 380         &  7          &   246.24593 &   4.416056  & 2           & 0           & FAIRFAX VA \\\\\n",
       "\t 133         &  7          &   334.94032 &   4.312817  & 2           & 0           & TAMPA FL   \\\\\n",
       "\t 179                                      &  7                                       &  3363.71136                              &   4.205022                               & 2                                        & 0                                        & DALLAS TX   , ARLINGTON TX, DECATUR GA  \\\\\n",
       "\t 506         &  7          &   134.63082 &   4.075653  & 2           & 0           & LAWRENCE KS\\\\\n",
       "\t 139                                  &  7                                   &   358.20277                          &   3.763675                           & 2                                    & 0                                    & CHESAPEAKE VA    , VIRGINIA BEACH VA\\\\\n",
       "\t 337                                         &  7                                          &  6646.14764                                 &   3.466224                                  & 2                                           & 0                                           & DAYTON OH    , FORT WORTH TX, PORTLAND OR  \\\\\n",
       "\t 249         &  7          &   461.62149 &   3.438039  & 2           & 0           & BUFFALO NY \\\\\n",
       "\t 100            &  9             &    72.26075    &   3.374021     & 2              & 0              & LOS ANGELES CA\\\\\n",
       "\t 109                                                                                      &  7                                                                                       &  2189.10851                                                                              &   3.356079                                                                               & 2                                                                                        & 0                                                                                        & MIAMI FL        , DALLAS TX       , ITHACA NY       , LITTLE ROCK AR  , SANTA BARBARA CA\\\\\n",
       "\t 397                                                                &  7                                                                 &   602.23130                                                        &   3.210764                                                         & 2                                                                  & 0                                                                  & AUSTIN TX      , FLORISSANT MO  , JACKSONVILLE FL, KALAMAZOO MI   \\\\\n",
       "\t ... & ... & ... & ... & ... & ... & ...\\\\\n",
       "\t 321          & 7            & 21.09492015  & 1.455558     & 2            & 2.599143e-07 & COLUMBIA MO \\\\\n",
       "\t 691           & 7             & 22.43492197   & 1.326251      & 2             & 7.155365e-08  & SANTA ROSA CA\\\\\n",
       "\t 668            & 4              &  6.91190007    & 1.276638       & 2              & 1.981865e-01   & SAN ANTONIO TX\\\\\n",
       "\t 687             & 7               &  4.81181041     & 1.273655        & 2               & 8.113168e-01    & SANTA MONICA CA\\\\\n",
       "\t 647          & 7            &  5.60581670  & 1.234836     & 2            & 5.400131e-01 & RENO NV     \\\\\n",
       "\t 430           & 7             &  2.90089306   & 1.233609      & 2             & 9.999723e-01  & GREENVILLE SC\\\\\n",
       "\t 375          & 7            &  4.99854797  & 1.198705     & 2            & 7.517472e-01 & EUGENE OR   \\\\\n",
       "\t 592              & 3                &  0.37571429      & 1.118678         & 2                & 1.000000e+00     & OKLAHOMA CITY OK\\\\\n",
       "\t 495          & 7            &  0.11008782  & 1.042820     & 2            & 1.000000e+00 & LAFAYETTE LA\\\\\n",
       "\t 511          & 7            &  0.09500866  & 1.020468     & 2            & 1.000000e+00 & LINCOLN NE  \\\\\n",
       "\t  31          & 1            &  0.00000000  & 1.000000     & 1            & 1.000000e+00 & CHARLOTTE NC\\\\\n",
       "\t  41          & 1            &  0.00000000  & 1.000000     & 1            & 1.000000e+00 & CHICAGO IL  \\\\\n",
       "\t 167          & 1            &  0.00000000  & 1.000000     & 1            & 1.000000e+00 & ANCHORAGE AK\\\\\n",
       "\t 195            & 1              &  0.00000000    & 1.000000       & 1              & 1.000000e+00   & BAKERSFIELD CA\\\\\n",
       "\t 207          & 1            &  0.00000000  & 1.000000     & 1            & 1.000000e+00 & BEAVERTON OR\\\\\n",
       "\t 264          & 1            &  0.00000000  & 1.000000     & 1            & 1.000000e+00 & CAMBRIDGE MA\\\\\n",
       "\t 297          & 1            &  0.00000000  & 1.000000     & 1            & 1.000000e+00 & CHICAGO IL  \\\\\n",
       "\t 299          & 1            &  0.00000000  & 1.000000     & 1            & 1.000000e+00 & CHICO CA    \\\\\n",
       "\t 303           & 1             &  0.00000000   & 1.000000      & 1             & 1.000000e+00  & CINCINNATI OH\\\\\n",
       "\t 309          & 1            &  0.00000000  & 1.000000     & 1            & 1.000000e+00 & CLEVELAND OH\\\\\n",
       "\t 350           & 1             &  0.00000000   & 1.000000      & 1             & 1.000000e+00  & DES MOINES IA\\\\\n",
       "\t 365             & 1               &  0.00000000     & 1.000000        & 1               & 1.000000e+00    & EDWARDSVILLE IL\\\\\n",
       "\t 399             & 1               &  0.00000000     & 1.000000        & 1               & 1.000000e+00    & FORT COLLINS CO\\\\\n",
       "\t 417            & 1              &  0.00000000    & 1.000000       & 1              & 1.000000e+00   & GAINESVILLE FL\\\\\n",
       "\t 424             & 1               &  0.00000000     & 1.000000        & 1               & 1.000000e+00    & GRAND RAPIDS MI\\\\\n",
       "\t 440          & 1            &  0.00000000  & 1.000000     & 1            & 1.000000e+00 & HENDERSON NV\\\\\n",
       "\t 463          & 1            &  0.00000000  & 1.000000     & 1            & 1.000000e+00 & JACKSON MS  \\\\\n",
       "\t 466          & 1            &  0.00000000  & 1.000000     & 1            & 1.000000e+00 & JACKSON TN  \\\\\n",
       "\t 481            & 1              &  0.00000000    & 1.000000       & 1              & 1.000000e+00   & JERSEY CITY NJ\\\\\n",
       "\t 501          & 1            &  0.00000000  & 1.000000     & 1            & 1.000000e+00 & LANSING MI  \\\\\n",
       "\\end{tabular}\n"
      ],
      "text/markdown": [
       "\n",
       "zone | duration | score | relrisk | n_iter | Gumbel_pvalue | cities | \n",
       "|---|---|---|---|---|---|---|---|---|---|---|---|---|---|---|---|---|---|---|---|---|---|---|---|---|---|---|---|---|---|---|---|---|---|---|---|---|---|---|---|---|---|---|---|---|---|---|---|---|---|---|---|---|---|---|---|---|---|---|---|---|\n",
       "| 184         | 10          |   983.78463 | 178.148507  | 4           | 0           | ATLANTA GA  | \n",
       "| 656          | 11           | 63946.27036  |  50.972897   | 2            | 0            | ROCHESTER NY | \n",
       "|  56         |  7          |   923.37604 |  27.471696  | 2           | 0           | COLUMBIA SC | \n",
       "| 695           | 10            | 35581.77391   |  20.719659    | 2             | 0             | SCOTTSDALE AZ | \n",
       "|  63                                                        | 11                                                         | 40947.75283                                                |  16.016541                                                 | 2                                                          | 0                                                          | CINCINNATI OH, COLUMBUS OH  , DAYTON OH    , ROCHESTER NY  | \n",
       "|  51         | 10          | 14358.68393 |  14.425815  | 2           | 0           | COLUMBIA MO | \n",
       "| 259           | 10            |   253.61217   |   8.080083    | 3             | 0             | BURLINGTON VT | \n",
       "| 227              | 10               |   208.18160      |   7.153130       | 2                | 0                | BEVERLY HILLS CA | \n",
       "| 554                                            |  7                                             |  5144.14822                                    |   6.906939                                     | 2                                              | 0                                              | MINNEAPOLIS MN, MONTGOMERY AL , PROVIDENCE RI  | \n",
       "| 277            |  7             |   134.17111    |   6.838798     | 3              | 0              | CHAPEL HILL NC | \n",
       "| 682           | 11            |   279.05989   |   6.100809    | 2             | 0             | SANTA CRUZ CA | \n",
       "| 115         |  7          |  3658.61092 |   5.814704  | 2           | 0           | NEW YORK NY | \n",
       "| 354         |  7          |   155.59455 |   5.517132  | 2           | 0           | DETROIT MI  | \n",
       "| 540         | 10          |  1878.58477 |   5.463599  | 2           | 0           | MIAMI FL    | \n",
       "| 145         |  7          |   220.25246 |   5.282928  | 3           | 0           | AKRON OH    | \n",
       "| 200          | 10           |   662.92240  |   5.279101   | 2            | 0            | BALTIMORE MD | \n",
       "| 458                        |  7                         |   749.01590                |   5.023954                 | 2                          | 0                          | IOWA CITY IA, RIVERSIDE CA | \n",
       "| 496          |  9           |  1964.01507  |   4.965700   | 2            | 0            | LANCASTER PA | \n",
       "| 142                                         | 10                                          |   613.16492                                 |   4.663517                                  | 2                                           | 0                                           | WASHINGTON DC, ALEXANDRIA VA, CHARLESTON SC | \n",
       "| 385         | 10          |  2033.96533 |   4.591804  | 2           | 0           | FERGUSON MO | \n",
       "| 380         |  7          |   246.24593 |   4.416056  | 2           | 0           | FAIRFAX VA  | \n",
       "| 133         |  7          |   334.94032 |   4.312817  | 2           | 0           | TAMPA FL    | \n",
       "| 179                                      |  7                                       |  3363.71136                              |   4.205022                               | 2                                        | 0                                        | DALLAS TX   , ARLINGTON TX, DECATUR GA   | \n",
       "| 506         |  7          |   134.63082 |   4.075653  | 2           | 0           | LAWRENCE KS | \n",
       "| 139                                  |  7                                   |   358.20277                          |   3.763675                           | 2                                    | 0                                    | CHESAPEAKE VA    , VIRGINIA BEACH VA | \n",
       "| 337                                         |  7                                          |  6646.14764                                 |   3.466224                                  | 2                                           | 0                                           | DAYTON OH    , FORT WORTH TX, PORTLAND OR   | \n",
       "| 249         |  7          |   461.62149 |   3.438039  | 2           | 0           | BUFFALO NY  | \n",
       "| 100            |  9             |    72.26075    |   3.374021     | 2              | 0              | LOS ANGELES CA | \n",
       "| 109                                                                                      |  7                                                                                       |  2189.10851                                                                              |   3.356079                                                                               | 2                                                                                        | 0                                                                                        | MIAMI FL        , DALLAS TX       , ITHACA NY       , LITTLE ROCK AR  , SANTA BARBARA CA | \n",
       "| 397                                                                |  7                                                                 |   602.23130                                                        |   3.210764                                                         | 2                                                                  | 0                                                                  | AUSTIN TX      , FLORISSANT MO  , JACKSONVILLE FL, KALAMAZOO MI    | \n",
       "| ... | ... | ... | ... | ... | ... | ... | \n",
       "| 321          | 7            | 21.09492015  | 1.455558     | 2            | 2.599143e-07 | COLUMBIA MO  | \n",
       "| 691           | 7             | 22.43492197   | 1.326251      | 2             | 7.155365e-08  | SANTA ROSA CA | \n",
       "| 668            | 4              |  6.91190007    | 1.276638       | 2              | 1.981865e-01   | SAN ANTONIO TX | \n",
       "| 687             | 7               |  4.81181041     | 1.273655        | 2               | 8.113168e-01    | SANTA MONICA CA | \n",
       "| 647          | 7            |  5.60581670  | 1.234836     | 2            | 5.400131e-01 | RENO NV      | \n",
       "| 430           | 7             |  2.90089306   | 1.233609      | 2             | 9.999723e-01  | GREENVILLE SC | \n",
       "| 375          | 7            |  4.99854797  | 1.198705     | 2            | 7.517472e-01 | EUGENE OR    | \n",
       "| 592              | 3                |  0.37571429      | 1.118678         | 2                | 1.000000e+00     | OKLAHOMA CITY OK | \n",
       "| 495          | 7            |  0.11008782  | 1.042820     | 2            | 1.000000e+00 | LAFAYETTE LA | \n",
       "| 511          | 7            |  0.09500866  | 1.020468     | 2            | 1.000000e+00 | LINCOLN NE   | \n",
       "|  31          | 1            |  0.00000000  | 1.000000     | 1            | 1.000000e+00 | CHARLOTTE NC | \n",
       "|  41          | 1            |  0.00000000  | 1.000000     | 1            | 1.000000e+00 | CHICAGO IL   | \n",
       "| 167          | 1            |  0.00000000  | 1.000000     | 1            | 1.000000e+00 | ANCHORAGE AK | \n",
       "| 195            | 1              |  0.00000000    | 1.000000       | 1              | 1.000000e+00   | BAKERSFIELD CA | \n",
       "| 207          | 1            |  0.00000000  | 1.000000     | 1            | 1.000000e+00 | BEAVERTON OR | \n",
       "| 264          | 1            |  0.00000000  | 1.000000     | 1            | 1.000000e+00 | CAMBRIDGE MA | \n",
       "| 297          | 1            |  0.00000000  | 1.000000     | 1            | 1.000000e+00 | CHICAGO IL   | \n",
       "| 299          | 1            |  0.00000000  | 1.000000     | 1            | 1.000000e+00 | CHICO CA     | \n",
       "| 303           | 1             |  0.00000000   | 1.000000      | 1             | 1.000000e+00  | CINCINNATI OH | \n",
       "| 309          | 1            |  0.00000000  | 1.000000     | 1            | 1.000000e+00 | CLEVELAND OH | \n",
       "| 350           | 1             |  0.00000000   | 1.000000      | 1             | 1.000000e+00  | DES MOINES IA | \n",
       "| 365             | 1               |  0.00000000     | 1.000000        | 1               | 1.000000e+00    | EDWARDSVILLE IL | \n",
       "| 399             | 1               |  0.00000000     | 1.000000        | 1               | 1.000000e+00    | FORT COLLINS CO | \n",
       "| 417            | 1              |  0.00000000    | 1.000000       | 1              | 1.000000e+00   | GAINESVILLE FL | \n",
       "| 424             | 1               |  0.00000000     | 1.000000        | 1               | 1.000000e+00    | GRAND RAPIDS MI | \n",
       "| 440          | 1            |  0.00000000  | 1.000000     | 1            | 1.000000e+00 | HENDERSON NV | \n",
       "| 463          | 1            |  0.00000000  | 1.000000     | 1            | 1.000000e+00 | JACKSON MS   | \n",
       "| 466          | 1            |  0.00000000  | 1.000000     | 1            | 1.000000e+00 | JACKSON TN   | \n",
       "| 481            | 1              |  0.00000000    | 1.000000       | 1              | 1.000000e+00   | JERSEY CITY NJ | \n",
       "| 501          | 1            |  0.00000000  | 1.000000     | 1            | 1.000000e+00 | LANSING MI   | \n",
       "\n",
       "\n"
      ],
      "text/plain": [
       "    zone duration score       relrisk    n_iter Gumbel_pvalue\n",
       "1   184  10         983.78463 178.148507 4      0            \n",
       "2   656  11       63946.27036  50.972897 2      0            \n",
       "3    56   7         923.37604  27.471696 2      0            \n",
       "4   695  10       35581.77391  20.719659 2      0            \n",
       "5    63  11       40947.75283  16.016541 2      0            \n",
       "6    51  10       14358.68393  14.425815 2      0            \n",
       "7   259  10         253.61217   8.080083 3      0            \n",
       "8   227  10         208.18160   7.153130 2      0            \n",
       "9   554   7        5144.14822   6.906939 2      0            \n",
       "10  277   7         134.17111   6.838798 3      0            \n",
       "11  682  11         279.05989   6.100809 2      0            \n",
       "12  115   7        3658.61092   5.814704 2      0            \n",
       "13  354   7         155.59455   5.517132 2      0            \n",
       "14  540  10        1878.58477   5.463599 2      0            \n",
       "15  145   7         220.25246   5.282928 3      0            \n",
       "16  200  10         662.92240   5.279101 2      0            \n",
       "17  458   7         749.01590   5.023954 2      0            \n",
       "18  496   9        1964.01507   4.965700 2      0            \n",
       "19  142  10         613.16492   4.663517 2      0            \n",
       "20  385  10        2033.96533   4.591804 2      0            \n",
       "21  380   7         246.24593   4.416056 2      0            \n",
       "22  133   7         334.94032   4.312817 2      0            \n",
       "23  179   7        3363.71136   4.205022 2      0            \n",
       "24  506   7         134.63082   4.075653 2      0            \n",
       "25  139   7         358.20277   3.763675 2      0            \n",
       "26  337   7        6646.14764   3.466224 2      0            \n",
       "27  249   7         461.62149   3.438039 2      0            \n",
       "28  100   9          72.26075   3.374021 2      0            \n",
       "29  109   7        2189.10851   3.356079 2      0            \n",
       "30  397   7         602.23130   3.210764 2      0            \n",
       "... ...  ...      ...         ...        ...    ...          \n",
       "71  321  7        21.09492015 1.455558   2      2.599143e-07 \n",
       "72  691  7        22.43492197 1.326251   2      7.155365e-08 \n",
       "73  668  4         6.91190007 1.276638   2      1.981865e-01 \n",
       "74  687  7         4.81181041 1.273655   2      8.113168e-01 \n",
       "75  647  7         5.60581670 1.234836   2      5.400131e-01 \n",
       "76  430  7         2.90089306 1.233609   2      9.999723e-01 \n",
       "77  375  7         4.99854797 1.198705   2      7.517472e-01 \n",
       "78  592  3         0.37571429 1.118678   2      1.000000e+00 \n",
       "79  495  7         0.11008782 1.042820   2      1.000000e+00 \n",
       "80  511  7         0.09500866 1.020468   2      1.000000e+00 \n",
       "81   31  1         0.00000000 1.000000   1      1.000000e+00 \n",
       "82   41  1         0.00000000 1.000000   1      1.000000e+00 \n",
       "83  167  1         0.00000000 1.000000   1      1.000000e+00 \n",
       "84  195  1         0.00000000 1.000000   1      1.000000e+00 \n",
       "85  207  1         0.00000000 1.000000   1      1.000000e+00 \n",
       "86  264  1         0.00000000 1.000000   1      1.000000e+00 \n",
       "87  297  1         0.00000000 1.000000   1      1.000000e+00 \n",
       "88  299  1         0.00000000 1.000000   1      1.000000e+00 \n",
       "89  303  1         0.00000000 1.000000   1      1.000000e+00 \n",
       "90  309  1         0.00000000 1.000000   1      1.000000e+00 \n",
       "91  350  1         0.00000000 1.000000   1      1.000000e+00 \n",
       "92  365  1         0.00000000 1.000000   1      1.000000e+00 \n",
       "93  399  1         0.00000000 1.000000   1      1.000000e+00 \n",
       "94  417  1         0.00000000 1.000000   1      1.000000e+00 \n",
       "95  424  1         0.00000000 1.000000   1      1.000000e+00 \n",
       "96  440  1         0.00000000 1.000000   1      1.000000e+00 \n",
       "97  463  1         0.00000000 1.000000   1      1.000000e+00 \n",
       "98  466  1         0.00000000 1.000000   1      1.000000e+00 \n",
       "99  481  1         0.00000000 1.000000   1      1.000000e+00 \n",
       "100 501  1         0.00000000 1.000000   1      1.000000e+00 \n",
       "    cities                                                                                  \n",
       "1   ATLANTA GA                                                                              \n",
       "2   ROCHESTER NY                                                                            \n",
       "3   COLUMBIA SC                                                                             \n",
       "4   SCOTTSDALE AZ                                                                           \n",
       "5   CINCINNATI OH, COLUMBUS OH  , DAYTON OH    , ROCHESTER NY                               \n",
       "6   COLUMBIA MO                                                                             \n",
       "7   BURLINGTON VT                                                                           \n",
       "8   BEVERLY HILLS CA                                                                        \n",
       "9   MINNEAPOLIS MN, MONTGOMERY AL , PROVIDENCE RI                                           \n",
       "10  CHAPEL HILL NC                                                                          \n",
       "11  SANTA CRUZ CA                                                                           \n",
       "12  NEW YORK NY                                                                             \n",
       "13  DETROIT MI                                                                              \n",
       "14  MIAMI FL                                                                                \n",
       "15  AKRON OH                                                                                \n",
       "16  BALTIMORE MD                                                                            \n",
       "17  IOWA CITY IA, RIVERSIDE CA                                                              \n",
       "18  LANCASTER PA                                                                            \n",
       "19  WASHINGTON DC, ALEXANDRIA VA, CHARLESTON SC                                             \n",
       "20  FERGUSON MO                                                                             \n",
       "21  FAIRFAX VA                                                                              \n",
       "22  TAMPA FL                                                                                \n",
       "23  DALLAS TX   , ARLINGTON TX, DECATUR GA                                                  \n",
       "24  LAWRENCE KS                                                                             \n",
       "25  CHESAPEAKE VA    , VIRGINIA BEACH VA                                                    \n",
       "26  DAYTON OH    , FORT WORTH TX, PORTLAND OR                                               \n",
       "27  BUFFALO NY                                                                              \n",
       "28  LOS ANGELES CA                                                                          \n",
       "29  MIAMI FL        , DALLAS TX       , ITHACA NY       , LITTLE ROCK AR  , SANTA BARBARA CA\n",
       "30  AUSTIN TX      , FLORISSANT MO  , JACKSONVILLE FL, KALAMAZOO MI                         \n",
       "... ...                                                                                     \n",
       "71  COLUMBIA MO                                                                             \n",
       "72  SANTA ROSA CA                                                                           \n",
       "73  SAN ANTONIO TX                                                                          \n",
       "74  SANTA MONICA CA                                                                         \n",
       "75  RENO NV                                                                                 \n",
       "76  GREENVILLE SC                                                                           \n",
       "77  EUGENE OR                                                                               \n",
       "78  OKLAHOMA CITY OK                                                                        \n",
       "79  LAFAYETTE LA                                                                            \n",
       "80  LINCOLN NE                                                                              \n",
       "81  CHARLOTTE NC                                                                            \n",
       "82  CHICAGO IL                                                                              \n",
       "83  ANCHORAGE AK                                                                            \n",
       "84  BAKERSFIELD CA                                                                          \n",
       "85  BEAVERTON OR                                                                            \n",
       "86  CAMBRIDGE MA                                                                            \n",
       "87  CHICAGO IL                                                                              \n",
       "88  CHICO CA                                                                                \n",
       "89  CINCINNATI OH                                                                           \n",
       "90  CLEVELAND OH                                                                            \n",
       "91  DES MOINES IA                                                                           \n",
       "92  EDWARDSVILLE IL                                                                         \n",
       "93  FORT COLLINS CO                                                                         \n",
       "94  GAINESVILLE FL                                                                          \n",
       "95  GRAND RAPIDS MI                                                                         \n",
       "96  HENDERSON NV                                                                            \n",
       "97  JACKSON MS                                                                              \n",
       "98  JACKSON TN                                                                              \n",
       "99  JERSEY CITY NJ                                                                          \n",
       "100 LANSING MI                                                                              "
      ]
     },
     "metadata": {},
     "output_type": "display_data"
    }
   ],
   "source": [
    "#cities.nb.zip <- \n",
    "get.top.100 %>% mutate(cities = locations.top.100) %>%\n",
    "                arrange(desc(relrisk)) #%>% dplyr::select(duration, cities)\n",
    "                   # \n",
    "                "
   ]
  },
  {
   "cell_type": "code",
   "execution_count": null,
   "metadata": {},
   "outputs": [],
   "source": [
    "saveRDS(sp_result.zip, \"../STSS/Files/STSS/sp_nb_zip_pop130v2.rds\")"
   ]
  },
  {
   "cell_type": "code",
   "execution_count": 323,
   "metadata": {},
   "outputs": [],
   "source": [
    "saveRDS(cities.nb.zip, \"../STSS/Files/STSS/cities_nb_zip_pop130v2.rds\")"
   ]
  }
 ],
 "metadata": {
  "kernelspec": {
   "display_name": "R",
   "language": "R",
   "name": "ir"
  },
  "language_info": {
   "codemirror_mode": "r",
   "file_extension": ".r",
   "mimetype": "text/x-r-source",
   "name": "R",
   "pygments_lexer": "r",
   "version": "3.5.1"
  }
 },
 "nbformat": 4,
 "nbformat_minor": 2
}
