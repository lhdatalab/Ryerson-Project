{
 "cells": [
  {
   "cell_type": "code",
   "execution_count": 2,
   "metadata": {},
   "outputs": [
    {
     "name": "stderr",
     "output_type": "stream",
     "text": [
      "Loading required package: gsubfn\n",
      "Loading required package: proto\n",
      "Loading required package: RSQLite\n",
      "\n",
      "Attaching package: 'dplyr'\n",
      "\n",
      "The following object is masked from 'package:gridExtra':\n",
      "\n",
      "    combine\n",
      "\n",
      "The following objects are masked from 'package:stats':\n",
      "\n",
      "    filter, lag\n",
      "\n",
      "The following objects are masked from 'package:base':\n",
      "\n",
      "    intersect, setdiff, setequal, union\n",
      "\n",
      "\n",
      "Attaching package: 'lubridate'\n",
      "\n",
      "The following object is masked from 'package:base':\n",
      "\n",
      "    date\n",
      "\n",
      "\n",
      "Attaching package: 'GGally'\n",
      "\n",
      "The following object is masked from 'package:dplyr':\n",
      "\n",
      "    nasa\n",
      "\n",
      "Loading required package: lattice\n",
      "Loading required package: MASS\n",
      "\n",
      "Attaching package: 'MASS'\n",
      "\n",
      "The following object is masked from 'package:dplyr':\n",
      "\n",
      "    select\n",
      "\n",
      "\n",
      "Attaching package: 'memisc'\n",
      "\n",
      "The following object is masked from 'package:scales':\n",
      "\n",
      "    percent\n",
      "\n",
      "The following object is masked from 'package:lubridate':\n",
      "\n",
      "    is.interval\n",
      "\n",
      "The following objects are masked from 'package:dplyr':\n",
      "\n",
      "    collect, recode, rename, syms\n",
      "\n",
      "The following object is masked from 'package:ggplot2':\n",
      "\n",
      "    syms\n",
      "\n",
      "The following objects are masked from 'package:stats':\n",
      "\n",
      "    contr.sum, contr.treatment, contrasts\n",
      "\n",
      "The following object is masked from 'package:base':\n",
      "\n",
      "    as.array\n",
      "\n",
      "rgeos version: 0.3-28, (SVN revision 572)\n",
      " GEOS runtime version: 3.6.1-CAPI-1.10.1 r0 \n",
      " Linking to sp version: 1.3-1 \n",
      " Polygon checking: TRUE \n",
      "\n",
      "rgdal: version: 1.3-4, (SVN revision 766)\n",
      " Geospatial Data Abstraction Library extensions to R successfully loaded\n",
      " Loaded GDAL runtime: GDAL 2.2.3, released 2017/11/20\n",
      " Path to GDAL shared files: C:/MathLabASUS/SW/DM/Anaconda2/envs/rconda/Lib/R/library/rgdal/gdal\n",
      " GDAL binary built with GEOS: TRUE \n",
      " Loaded PROJ.4 runtime: Rel. 4.9.3, 15 August 2016, [PJ_VERSION: 493]\n",
      " Path to PROJ.4 shared files: C:/MathLabASUS/SW/DM/Anaconda2/envs/rconda/Lib/R/library/rgdal/proj\n",
      " Linking to sp version: 1.3-1 \n",
      "Checking rgeos availability: TRUE\n",
      "Warning message:\n",
      "\"package 'maps' was built under R version 3.5.3\"\n",
      "Attaching package: 'cluster'\n",
      "\n",
      "The following object is masked from 'package:maps':\n",
      "\n",
      "    votes.repub\n",
      "\n",
      "Loading required package: proxy\n",
      "\n",
      "Attaching package: 'proxy'\n",
      "\n",
      "The following objects are masked from 'package:stats':\n",
      "\n",
      "    as.dist, dist\n",
      "\n",
      "The following object is masked from 'package:base':\n",
      "\n",
      "    as.matrix\n",
      "\n",
      "Loading required package: clue\n",
      "Warning message:\n",
      "\"package 'clue' was built under R version 3.5.2\"Loading required package: survey\n",
      "Loading required package: Matrix\n",
      "\n",
      "Attaching package: 'Matrix'\n",
      "\n",
      "The following object is masked from 'package:tidyr':\n",
      "\n",
      "    expand\n",
      "\n",
      "Loading required package: survival\n",
      "\n",
      "Attaching package: 'survey'\n",
      "\n",
      "The following object is masked from 'package:graphics':\n",
      "\n",
      "    dotchart\n",
      "\n",
      "Loading required package: RANN\n",
      "Loading required package: lpSolve\n",
      "\n",
      "Attaching package: 'fastcluster'\n",
      "\n",
      "The following object is masked from 'package:stats':\n",
      "\n",
      "    hclust\n",
      "\n",
      "Welcome! Related Books: `Practical Guide To Cluster Analysis in R` at https://goo.gl/13EFCZ\n",
      "Creating a generic function for 'toJSON' from package 'jsonlite' in package 'googleVis'\n",
      "\n",
      "Welcome to googleVis version 0.6.2\n",
      "\n",
      "Please read Google's Terms of Use\n",
      "before you start using the package:\n",
      "https://developers.google.com/terms/\n",
      "\n",
      "Note, the plot method of googleVis will by default use\n",
      "the standard browser to display its output.\n",
      "\n",
      "See the googleVis package vignettes for more details,\n",
      "or visit http://github.com/mages/googleVis.\n",
      "\n",
      "To suppress this message use:\n",
      "suppressPackageStartupMessages(library(googleVis))\n",
      "\n",
      "Loading required package: DBI\n",
      "\n",
      "Attaching package: 'RMySQL'\n",
      "\n",
      "The following object is masked from 'package:RSQLite':\n",
      "\n",
      "    isIdCurrent\n",
      "\n",
      "\n",
      "Attaching package: 'data.table'\n",
      "\n",
      "The following objects are masked from 'package:lubridate':\n",
      "\n",
      "    hour, isoweek, mday, minute, month, quarter, second, wday, week,\n",
      "    yday, year\n",
      "\n",
      "The following objects are masked from 'package:dplyr':\n",
      "\n",
      "    between, first, last\n",
      "\n",
      "\n",
      "Attaching package: 'dbplyr'\n",
      "\n",
      "The following objects are masked from 'package:dplyr':\n",
      "\n",
      "    ident, sql\n",
      "\n",
      "\n",
      "Attaching package: 'httr'\n",
      "\n",
      "The following object is masked from 'package:memisc':\n",
      "\n",
      "    content\n",
      "\n",
      "\n",
      "Attaching package: 'purrr'\n",
      "\n",
      "The following object is masked from 'package:data.table':\n",
      "\n",
      "    transpose\n",
      "\n",
      "The following object is masked from 'package:maps':\n",
      "\n",
      "    map\n",
      "\n",
      "The following object is masked from 'package:scales':\n",
      "\n",
      "    discard\n",
      "\n",
      "The following object is masked from 'package:jsonlite':\n",
      "\n",
      "    flatten\n",
      "\n",
      "\n",
      "Attaching package: 'magrittr'\n",
      "\n",
      "The following object is masked from 'package:purrr':\n",
      "\n",
      "    set_names\n",
      "\n",
      "The following object is masked from 'package:tidyr':\n",
      "\n",
      "    extract\n",
      "\n",
      "rsatscan only does anything useful if you have SaTScan\n",
      "See http://www.satscan.org/ for free access\n",
      "Warning message:\n",
      "\"package 'missMDA' was built under R version 3.5.2\"Warning message:\n",
      "\"package 'randomForest' was built under R version 3.5.2\"randomForest 4.6-14\n",
      "Type rfNews() to see new features/changes/bug fixes.\n",
      "\n",
      "Attaching package: 'randomForest'\n",
      "\n",
      "The following object is masked from 'package:dplyr':\n",
      "\n",
      "    combine\n",
      "\n",
      "The following object is masked from 'package:gridExtra':\n",
      "\n",
      "    combine\n",
      "\n",
      "The following object is masked from 'package:ggplot2':\n",
      "\n",
      "    margin\n",
      "\n",
      "\n",
      "Attaching package: 'caret'\n",
      "\n",
      "The following object is masked from 'package:purrr':\n",
      "\n",
      "    lift\n",
      "\n",
      "The following object is masked from 'package:httr':\n",
      "\n",
      "    progress\n",
      "\n",
      "The following object is masked from 'package:survival':\n",
      "\n",
      "    cluster\n",
      "\n",
      "Loading required package: spData\n",
      "To access larger datasets in this package, install the spDataLarge\n",
      "package with: `install.packages('spDataLarge',\n",
      "repos='https://nowosad.github.io/drat/', type='source')`\n",
      "Warning message:\n",
      "\"package 'randomForestExplainer' was built under R version 3.5.2\""
     ]
    }
   ],
   "source": [
    "library(knitr)\n",
    "library(sqldf)\n",
    "library(ggplot2)\n",
    "library(mongolite)\n",
    "library(ggplot2)\n",
    "library(gridExtra)\n",
    "library(dplyr)\n",
    "library(tidyr)\n",
    "library(jsonlite)\n",
    "library(lubridate)\n",
    "library(gridExtra)\n",
    "library(GGally)\n",
    "library(scales)\n",
    "library(memisc)\n",
    " library(sp)\n",
    "library(rgeos)\n",
    "library(rgdal)\n",
    "library(maptools)\n",
    "library(RColorBrewer)\n",
    "library(maps)\n",
    "library(grid)\n",
    "library(cluster)\n",
    "library(StatMatch)\n",
    "library(fastcluster)\n",
    "library(factoextra)\n",
    "library(FactoMineR)\n",
    "library(stringr)\n",
    "library(googleVis)\n",
    "library(RMySQL)\n",
    "library(data.table)\n",
    "library(dbplyr)\n",
    "library(DBI)\n",
    "library(httr)\n",
    "library(scanstatistics)\n",
    "library(purrr)\n",
    "library(magrittr)\n",
    "library(rsatscan)\n",
    "library(missMDA)\n",
    "library(randomForest)\n",
    "library(caret)\n",
    "library(spdep)\n",
    "library(geosphere)\n",
    "library(tidytext)\n",
    "library(randomForestExplainer)\n",
    "#.libPaths(c(file.path(Sys.getenv('SPARK_HOME'), 'R', 'lib'), .libPaths())"
   ]
  },
  {
   "cell_type": "code",
   "execution_count": 31,
   "metadata": {},
   "outputs": [],
   "source": [
    "plot.format <- theme(axis.text = element_text(size = 12), legend.text = element_text(size = 12), legend.title = element_text(size = 12), axis.title = element_text(size = 14), plot.title = element_text(size = 14))"
   ]
  },
  {
   "cell_type": "code",
   "execution_count": 1,
   "metadata": {},
   "outputs": [],
   "source": [
    "features <- read.csv(\"../STSS/Files/Features/features2dc_nodup.csv\")"
   ]
  },
  {
   "cell_type": "code",
   "execution_count": 32,
   "metadata": {
    "collapsed": true
   },
   "outputs": [
    {
     "data": {
      "text/plain": [
       "      Code               State         State_id                  City     \n",
       " TX     : 376   Texas       : 376   Min.   : 1.00   Marion city    :  10  \n",
       " CA     : 366   California  : 366   1st Qu.:17.00   Lancaster city :   9  \n",
       " IL     : 340   Illinois    : 340   Median :29.00   Auburn city    :   8  \n",
       " OH     : 251   Ohio        : 251   Mean   :29.03   Clinton city   :   8  \n",
       " PA     : 246   Pennsylvania: 246   3rd Qu.:42.00   Greenville city:   8  \n",
       " MO     : 209   Missouri    : 209   Max.   :56.00   Jackson city   :   8  \n",
       " (Other):3431   (Other)     :3431                   (Other)        :5168  \n",
       "       City2            City3             Place_type  \n",
       " Clinton  :  12   Clinton  :  12   borough     : 290  \n",
       " Jackson  :  12   Jackson  :  12   city        :3782  \n",
       " Madison  :  12   Madison  :  12   city/town   :   2  \n",
       " Marion   :  12   Marion   :  12   municipality:   4  \n",
       " Lancaster:  10   Lancaster:  10   town        : 611  \n",
       " Franklin :   9   Franklin :   9   village     : 530  \n",
       " (Other)  :5152   (Other)  :5152                      \n",
       "                     City_state           City_code    avgCensus2010pop \n",
       " Abbeville, South Carolina:   1   Abbeville, SC:   1   Min.   :     26  \n",
       " Aberdeen, Maryland       :   1   Aberdeen, MD :   1   1st Qu.:   3420  \n",
       " Aberdeen, North Carolina :   1   Aberdeen, NC :   1   Median :   9080  \n",
       " Aberdeen, South Dakota   :   1   Aberdeen, SD :   1   Mean   :  30029  \n",
       " Aberdeen, Washington     :   1   Aberdeen, WA :   1   3rd Qu.:  24099  \n",
       " Abernathy, Texas         :   1   Abernathy, TX:   1   Max.   :8175133  \n",
       " (Other)                  :5213   (Other)      :5213   NA's   :14       \n",
       " avgPopestimate2015     rownum                     id            id2         \n",
       " Min.   :     26    Min.   :    6   1600000US0100820:   1   Min.   : 100820  \n",
       " 1st Qu.:   3458    1st Qu.: 6782   1600000US0100988:   1   1st Qu.:1745226  \n",
       " Median :   9290    Median :13899   1600000US0101132:   1   Median :2919270  \n",
       " Mean   :  31523    Mean   :14370   1600000US0101228:   1   Mean   :2944161  \n",
       " 3rd Qu.:  24986    3rd Qu.:21780   1600000US0101852:   1   3rd Qu.:4213840  \n",
       " Max.   :8582459    Max.   :29318   1600000US0102116:   1   Max.   :5684925  \n",
       "                                    (Other)         :5213                    \n",
       "                          geography    totalpopulation      malepop       \n",
       " Abbeville city, South Carolina:   1   Min.   :     18   Min.   :      8  \n",
       " Aberdeen city, Maryland       :   1   1st Qu.:   3472   1st Qu.:   1690  \n",
       " Aberdeen city, South Dakota   :   1   Median :   9341   Median :   4506  \n",
       " Aberdeen city, Washington     :   1   Mean   :  31415   Mean   :  15331  \n",
       " Aberdeen town, North Carolina :   1   3rd Qu.:  24842   3rd Qu.:  12096  \n",
       " Abernathy city, Texas         :   1   Max.   :8426743   Max.   :4015044  \n",
       " (Other)                       :5213                                      \n",
       "   femalepop         medianage        per_male       per_female   \n",
       " Min.   :     10   Min.   :17.50   Min.   :30.02   Min.   :22.19  \n",
       " 1st Qu.:   1794   1st Qu.:34.10   1st Qu.:46.90   1st Qu.:50.16  \n",
       " Median :   4823   Median :37.60   Median :48.44   Median :51.56  \n",
       " Mean   :  16085   Mean   :38.01   Mean   :48.50   Mean   :51.50  \n",
       " 3rd Qu.:  12724   3rd Qu.:41.65   3rd Qu.:49.84   3rd Qu.:53.10  \n",
       " Max.   :4411699   Max.   :67.60   Max.   :77.81   Max.   :69.98  \n",
       "                                                                  \n",
       "   total_area          urban             rural           per_urban     \n",
       " Min.   :     18   Min.   :      0   Min.   :    0.0   Min.   :  0.00  \n",
       " 1st Qu.:   3440   1st Qu.:   3228   1st Qu.:    0.0   1st Qu.: 92.42  \n",
       " Median :   9117   Median :   8844   Median :  140.0   Median : 98.82  \n",
       " Mean   :  30405   Mean   :  29912   Mean   :  524.2   Mean   : 82.76  \n",
       " 3rd Qu.:  24181   3rd Qu.:  23752   3rd Qu.:  602.0   3rd Qu.:100.00  \n",
       " Max.   :8175133   Max.   :8175057   Max.   :39432.0   Max.   :100.00  \n",
       "                                                                       \n",
       "   per_rural       house_total_population house_total_income\n",
       " Min.   :  0.000   Min.   :      6        Min.   :      6   \n",
       " 1st Qu.:  0.000   1st Qu.:   1332        1st Qu.:   1332   \n",
       " Median :  1.180   Median :   3610        Median :   3610   \n",
       " Mean   : 17.238   Mean   :  11667        Mean   :  11667   \n",
       " 3rd Qu.:  7.585   3rd Qu.:   9229        3rd Qu.:   9229   \n",
       " Max.   :100.000   Max.   :3113535        Max.   :3113535   \n",
       "                                                            \n",
       " total_population_race white_population  black_population      per_white     \n",
       " Min.   :     18       Min.   :      0   Min.   :      0.0   Min.   :  0.00  \n",
       " 1st Qu.:   3472       1st Qu.:   2686   1st Qu.:     49.5   1st Qu.: 70.98  \n",
       " Median :   9341       Median :   7300   Median :    394.0   Median : 86.10  \n",
       " Mean   :  31415       Mean   :  21064   Mean   :   4927.9   Mean   : 79.35  \n",
       " 3rd Qu.:  24842       3rd Qu.:  18784   3rd Qu.:   2084.5   3rd Qu.: 93.67  \n",
       " Max.   :8426743       Max.   :3648214   Max.   :2065597.0   Max.   :100.00  \n",
       "                                                                             \n",
       "   per_black     total_pop_over16  employ_pop_over16 per_employ_over16\n",
       " Min.   : 0.00   Min.   :     18   Min.   :     29   Min.   :16.40    \n",
       " 1st Qu.: 0.89   1st Qu.:   2736   1st Qu.:   1608   1st Qu.:56.90    \n",
       " Median : 3.34   Median :   7338   Median :   4567   Median :62.90    \n",
       " Mean   :11.15   Mean   :  24845   Mean   :  16099   Mean   :61.92    \n",
       " 3rd Qu.:13.03   3rd Qu.:  19406   3rd Qu.:  12678   3rd Qu.:67.70    \n",
       " Max.   :99.55   Max.   :6829065   Max.   :4343671   Max.   :88.40    \n",
       "                                                                      \n",
       " total_population_lang  english_only     english_other     per_english_only\n",
       " Min.   :     18       Min.   :     18   Min.   :      0   Min.   :  3.80  \n",
       " 1st Qu.:   3252       1st Qu.:   2887   1st Qu.:    135   1st Qu.: 82.10  \n",
       " Median :   8703       Median :   7454   Median :    713   Median : 92.30  \n",
       " Mean   :  29302       Mean   :  21410   Mean   :   7892   Mean   : 86.05  \n",
       " 3rd Qu.:  23196       3rd Qu.:  18664   3rd Qu.:   3240   3rd Qu.: 96.50  \n",
       " Max.   :7870932       Max.   :4009822   Max.   :3861110   Max.   :100.00  \n",
       "                                                                           \n",
       " per_english_other mean_income_households total_population_individuals\n",
       " Min.   : 0.00     Min.   : 21286         Min.   :     18             \n",
       " 1st Qu.: 3.50     1st Qu.: 48353         1st Qu.:   3472             \n",
       " Median : 7.70     Median : 58207         Median :   9341             \n",
       " Mean   :13.95     Mean   : 66363         Mean   :  31415             \n",
       " 3rd Qu.:17.90     3rd Qu.: 73887         3rd Qu.:  24842             \n",
       " Max.   :96.20     Max.   :444374         Max.   :8426743             \n",
       "                                                                      \n",
       " house_median_income med_per_urban    med_per_rural    med_per_employ_over16\n",
       " Min.   : 13125      Min.   : 83.78   Min.   : 0.000   Min.   :55.10        \n",
       " 1st Qu.: 36324      1st Qu.: 97.17   1st Qu.: 0.270   1st Qu.:59.10        \n",
       " Median : 45551      Median : 98.32   Median : 1.680   Median :62.20        \n",
       " Mean   : 51009      Mean   : 97.59   Mean   : 2.414   Mean   :62.38        \n",
       " 3rd Qu.: 59296      3rd Qu.: 99.73   3rd Qu.: 2.830   3rd Qu.:65.05        \n",
       " Max.   :242782      Max.   :100.00   Max.   :16.220   Max.   :71.35        \n",
       "                                                                            \n",
       "        city          state              location         lon         \n",
       " CLINTON  :  12   TX     : 376   ABBEVILLE SC:   1   Min.   :-165.40  \n",
       " JACKSON  :  12   CA     : 366   ABERDEEN MD :   1   1st Qu.: -96.47  \n",
       " MADISON  :  12   IL     : 340   ABERDEEN NC :   1   Median : -88.17  \n",
       " MARION   :  12   OH     : 251   ABERDEEN SD :   1   Mean   : -91.38  \n",
       " LANCASTER:  10   PA     : 246   ABERDEEN WA :   1   3rd Qu.: -81.72  \n",
       " FRANKLIN :   9   MO     : 209   ABERNATHY TX:   1   Max.   : -68.01  \n",
       " (Other)  :5152   (Other):3431   (Other)     :5213                    \n",
       "      lat            count           count_rate       mean_income_per_capita\n",
       " Min.   :24.56   Min.   :    1.0   Min.   :  0.0178   Min.   :  3699        \n",
       " 1st Qu.:34.60   1st Qu.:    2.0   1st Qu.:  0.3742   1st Qu.: 19391        \n",
       " Median :38.98   Median :    7.0   Median :  0.8857   Median : 23505        \n",
       " Mean   :38.25   Mean   :  170.1   Mean   :  3.5142   Mean   : 26250        \n",
       " 3rd Qu.:41.63   3rd Qu.:   29.0   3rd Qu.:  2.3377   3rd Qu.: 29336        \n",
       " Max.   :71.29   Max.   :70132.0   Max.   :903.2258   Max.   :151037        \n",
       "                                                                            "
      ]
     },
     "metadata": {},
     "output_type": "display_data"
    }
   ],
   "source": [
    "summary(features)"
   ]
  },
  {
   "cell_type": "code",
   "execution_count": 23,
   "metadata": {},
   "outputs": [
    {
     "data": {
      "text/html": [
       "5224"
      ],
      "text/latex": [
       "5224"
      ],
      "text/markdown": [
       "5224"
      ],
      "text/plain": [
       "[1] 5224"
      ]
     },
     "metadata": {},
     "output_type": "display_data"
    }
   ],
   "source": [
    "nrow(features)"
   ]
  },
  {
   "cell_type": "code",
   "execution_count": null,
   "metadata": {},
   "outputs": [],
   "source": [
    "colnames()"
   ]
  },
  {
   "cell_type": "markdown",
   "metadata": {},
   "source": [
    "###### Replace any missing values with medians"
   ]
  },
  {
   "cell_type": "code",
   "execution_count": 5,
   "metadata": {},
   "outputs": [],
   "source": [
    "median.vals <- features %>% group_by(state) %>%\n",
    "                    summarise(med_urban = median(urban, na.rm = TRUE),\n",
    "                              med_rural = median(rural, na.rm = TRUE),\n",
    "                              med_employ_over16 = median(employ_pop_over16, na.rm = TRUE)) %>%\n",
    "                as.data.frame()"
   ]
  },
  {
   "cell_type": "code",
   "execution_count": 6,
   "metadata": {},
   "outputs": [],
   "source": [
    "features <- features %>% group_by(state, add = FALSE) %>%\n",
    "            mutate(urban = ifelse(is.na(urban), median.vals$med_urban, urban),\n",
    "                  rural = ifelse(is.na(rural), median.vals$med_rural, rural),\n",
    "                  employ_pop_over16 = ifelse(is.na(employ_pop_over16), \n",
    "                                             median.vals$med_employ_over16, \n",
    "                                       employ_pop_over16)) %>%\n",
    "            as.data.frame()"
   ]
  },
  {
   "cell_type": "markdown",
   "metadata": {},
   "source": [
    "write.csv(features, \"C:\\\\MathLabASUS\\\\Courses\\\\Ryerson\\\\Project\\\\Data\\\\Files\\\\Features_Demo\\\\features2dc.csv\", \n",
    "         row.names = FALSE)"
   ]
  },
  {
   "cell_type": "code",
   "execution_count": 9,
   "metadata": {},
   "outputs": [],
   "source": [
    "features2 <-features[c(\"totalpopulation\", \"per_male\", \"medianage\", \n",
    "                           \"per_urban\", \"mean_income_per_capita\",\n",
    "                          \"house_median_income\", \"per_english_other\",\n",
    "                          \n",
    "                         \"per_white\", \"per_employ_over16\", \"lon\", \n",
    "                         \"lat\", \"count\", \"state\")]"
   ]
  },
  {
   "cell_type": "code",
   "execution_count": 7,
   "metadata": {},
   "outputs": [
    {
     "data": {
      "text/plain": [
       "\n",
       "\tPearson's product-moment correlation\n",
       "\n",
       "data:  features$white_population and features$black_population\n",
       "t = 100.05, df = 5217, p-value < 2.2e-16\n",
       "alternative hypothesis: true correlation is not equal to 0\n",
       "95 percent confidence interval:\n",
       " 0.8013011 0.8199003\n",
       "sample estimates:\n",
       "      cor \n",
       "0.8108052 \n"
      ]
     },
     "metadata": {},
     "output_type": "display_data"
    }
   ],
   "source": [
    "cor.test(features$white_population, features$black_population)"
   ]
  },
  {
   "cell_type": "code",
   "execution_count": 42,
   "metadata": {
    "collapsed": true
   },
   "outputs": [
    {
     "data": {
      "text/plain": [
       "      Code               State         State_id                  City     \n",
       " TX     : 376   Texas       : 376   Min.   : 1.00   Marion city    :  10  \n",
       " CA     : 366   California  : 366   1st Qu.:17.00   Lancaster city :   9  \n",
       " IL     : 342   Illinois    : 342   Median :29.00   Auburn city    :   8  \n",
       " OH     : 252   Ohio        : 252   Mean   :29.04   Clinton city   :   8  \n",
       " PA     : 246   Pennsylvania: 246   3rd Qu.:42.00   Greenville city:   8  \n",
       " MO     : 209   Missouri    : 209   Max.   :56.00   Jackson city   :   8  \n",
       " (Other):3433   (Other)     :3433                   (Other)        :5173  \n",
       "       City2            City3             Place_type  \n",
       " Clinton  :  12   Clinton  :  12   borough     : 290  \n",
       " Jackson  :  12   Jackson  :  12   city        :3782  \n",
       " Madison  :  12   Madison  :  12   city/town   :   2  \n",
       " Marion   :  12   Marion   :  12   municipality:   4  \n",
       " Lancaster:  10   Lancaster:  10   town        : 611  \n",
       " Franklin :   9   Franklin :   9   village     : 535  \n",
       " (Other)  :5157   (Other)  :5157                      \n",
       "                     City_state             City_code    avgCensus2010pop \n",
       " Centerville, Ohio        :   2   Centerville, OH:   2   Min.   :     26  \n",
       " Pewaukee, Wisconsin      :   2   Pewaukee, WI   :   2   1st Qu.:   3413  \n",
       " Superior, Wisconsin      :   2   Superior, WI   :   2   Median :   9072  \n",
       " Wilmington, Illinois     :   2   Wilmington, IL :   2   Mean   :  30002  \n",
       " Windsor, Illinois        :   2   Windsor, IL    :   2   3rd Qu.:  24088  \n",
       " Abbeville, South Carolina:   1   Abbeville, SC  :   1   Max.   :8175133  \n",
       " (Other)                  :5213   (Other)        :5213   NA's   :14       \n",
       " avgPopestimate2015     rownum                     id            id2         \n",
       " Min.   :     26    Min.   :    6   1600000US0100820:   1   Min.   : 100820  \n",
       " 1st Qu.:   3451    1st Qu.: 6790   1600000US0100988:   1   1st Qu.:1745626  \n",
       " Median :   9276    Median :13900   1600000US0101132:   1   Median :2919333  \n",
       " Mean   :  31495    Mean   :14374   1600000US0101228:   1   Mean   :2944907  \n",
       " 3rd Qu.:  24972    3rd Qu.:21785   1600000US0101852:   1   3rd Qu.:4214088  \n",
       " Max.   :8582459    Max.   :29318   1600000US0102116:   1   Max.   :5684925  \n",
       "                                    (Other)         :5218                    \n",
       "                          geography    totalpopulation      malepop       \n",
       " Abbeville city, South Carolina:   1   Min.   :     18   Min.   :      8  \n",
       " Aberdeen city, Maryland       :   1   1st Qu.:   3460   1st Qu.:   1686  \n",
       " Aberdeen city, South Dakota   :   1   Median :   9306   Median :   4500  \n",
       " Aberdeen city, Washington     :   1   Mean   :  31387   Mean   :  15317  \n",
       " Aberdeen town, North Carolina :   1   3rd Qu.:  24827   3rd Qu.:  12082  \n",
       " Abernathy city, Texas         :   1   Max.   :8426743   Max.   :4015044  \n",
       " (Other)                       :5218                                      \n",
       "   femalepop         medianage        per_male       per_female   \n",
       " Min.   :     10   Min.   :17.50   Min.   :30.02   Min.   :22.19  \n",
       " 1st Qu.:   1789   1st Qu.:34.10   1st Qu.:46.90   1st Qu.:50.16  \n",
       " Median :   4820   Median :37.60   Median :48.44   Median :51.56  \n",
       " Mean   :  16070   Mean   :38.01   Mean   :48.50   Mean   :51.50  \n",
       " 3rd Qu.:  12714   3rd Qu.:41.70   3rd Qu.:49.84   3rd Qu.:53.10  \n",
       " Max.   :4411699   Max.   :67.60   Max.   :77.81   Max.   :69.98  \n",
       "                                                                  \n",
       "   total_area          urban             rural         per_urban     \n",
       " Min.   :     18   Min.   :      0   Min.   :    0   Min.   :  0.00  \n",
       " 1st Qu.:   3435   1st Qu.:   3206   1st Qu.:    0   1st Qu.: 92.40  \n",
       " Median :   9112   Median :   8824   Median :  139   Median : 98.81  \n",
       " Mean   :  30378   Mean   :  29906   Mean   :  524   Mean   : 82.72  \n",
       " 3rd Qu.:  24154   3rd Qu.:  23728   3rd Qu.:  602   3rd Qu.:100.00  \n",
       " Max.   :8175133   Max.   :8175057   Max.   :39432   Max.   :100.00  \n",
       "                   NA's   :10        NA's   :10                      \n",
       "   per_rural       house_total_population house_total_income\n",
       " Min.   :  0.000   Min.   :      6        Min.   :      6   \n",
       " 1st Qu.:  0.000   1st Qu.:   1330        1st Qu.:   1330   \n",
       " Median :  1.185   Median :   3610        Median :   3610   \n",
       " Mean   : 17.280   Mean   :  11656        Mean   :  11656   \n",
       " 3rd Qu.:  7.600   3rd Qu.:   9202        3rd Qu.:   9202   \n",
       " Max.   :100.000   Max.   :3113535        Max.   :3113535   \n",
       "                                                            \n",
       " total_population_race white_population  black_population    per_white     \n",
       " Min.   :     18       Min.   :      0   Min.   :      0   Min.   :  0.00  \n",
       " 1st Qu.:   3460       1st Qu.:   2677   1st Qu.:     49   1st Qu.: 71.03  \n",
       " Median :   9306       Median :   7297   Median :    394   Median : 86.12  \n",
       " Mean   :  31387       Mean   :  21045   Mean   :   4923   Mean   : 79.36  \n",
       " 3rd Qu.:  24827       3rd Qu.:  18758   3rd Qu.:   2080   3rd Qu.: 93.69  \n",
       " Max.   :8426743       Max.   :3648214   Max.   :2065597   Max.   :100.00  \n",
       "                                                                           \n",
       "   per_black     total_pop_over16  employ_pop_over16 per_employ_over16\n",
       " Min.   : 0.00   Min.   :     18   Min.   :     29   Min.   :16.40    \n",
       " 1st Qu.: 0.88   1st Qu.:   2731   1st Qu.:   1604   1st Qu.:56.90    \n",
       " Median : 3.33   Median :   7332   Median :   4567   Median :62.90    \n",
       " Mean   :11.14   Mean   :  24823   Mean   :  16114   Mean   :61.92    \n",
       " 3rd Qu.:13.02   3rd Qu.:  19385   3rd Qu.:  12680   3rd Qu.:67.70    \n",
       " Max.   :99.55   Max.   :6829065   Max.   :4343671   Max.   :88.40    \n",
       "                                   NA's   :15                         \n",
       " total_population_lang  english_only     english_other     per_english_only\n",
       " Min.   :     18       Min.   :     18   Min.   :      0   Min.   :  3.80  \n",
       " 1st Qu.:   3244       1st Qu.:   2884   1st Qu.:    135   1st Qu.: 82.10  \n",
       " Median :   8680       Median :   7436   Median :    712   Median : 92.30  \n",
       " Mean   :  29276       Mean   :  21392   Mean   :   7884   Mean   : 86.06  \n",
       " 3rd Qu.:  23173       3rd Qu.:  18608   3rd Qu.:   3236   3rd Qu.: 96.50  \n",
       " Max.   :7870932       Max.   :4009822   Max.   :3861110   Max.   :100.00  \n",
       "                                                                           \n",
       " per_english_other mean_income_households total_population_individuals\n",
       " Min.   : 0.00     Min.   : 21286         Min.   :     18             \n",
       " 1st Qu.: 3.50     1st Qu.: 48354         1st Qu.:   3460             \n",
       " Median : 7.70     Median : 58212         Median :   9306             \n",
       " Mean   :13.94     Mean   : 66358         Mean   :  31387             \n",
       " 3rd Qu.:17.90     3rd Qu.: 73884         3rd Qu.:  24827             \n",
       " Max.   :96.20     Max.   :444374         Max.   :8426743             \n",
       "                                                                      \n",
       " house_median_income med_per_urban    med_per_rural    med_per_employ_over16\n",
       " Min.   : 13125      Min.   : 83.78   Min.   : 0.000   Min.   :55.10        \n",
       " 1st Qu.: 36327      1st Qu.: 97.17   1st Qu.: 0.270   1st Qu.:59.10        \n",
       " Median : 45554      Median : 98.32   Median : 1.680   Median :62.20        \n",
       " Mean   : 51009      Mean   : 97.59   Mean   : 2.412   Mean   :62.38        \n",
       " 3rd Qu.: 59291      3rd Qu.: 99.73   3rd Qu.: 2.830   3rd Qu.:65.05        \n",
       " Max.   :242782      Max.   :100.00   Max.   :16.220   Max.   :71.35        \n",
       "                                                                            \n",
       "        city          state                location         lon         \n",
       " CLINTON  :  12   TX     : 376   CENTERVILLE OH:   2   Min.   :-165.40  \n",
       " JACKSON  :  12   CA     : 366   PEWAUKEE WI   :   2   1st Qu.: -96.46  \n",
       " MADISON  :  12   IL     : 342   SUPERIOR WI   :   2   Median : -88.17  \n",
       " MARION   :  12   OH     : 252   WILMINGTON IL :   2   Mean   : -91.38  \n",
       " LANCASTER:  10   PA     : 246   WINDSOR IL    :   2   3rd Qu.: -81.73  \n",
       " FRANKLIN :   9   MO     : 209   ABBEVILLE SC  :   1   Max.   : -68.01  \n",
       " (Other)  :5157   (Other):3433   (Other)       :5213                    \n",
       "      lat            count           count_rate       mean_income_per_capita\n",
       " Min.   :24.56   Min.   :    1.0   Min.   :  0.0178   Min.   :  3699        \n",
       " 1st Qu.:34.60   1st Qu.:    2.0   1st Qu.:  0.3742   1st Qu.: 19392        \n",
       " Median :38.99   Median :    7.0   Median :  0.8874   Median : 23508        \n",
       " Mean   :38.26   Mean   :  169.9   Mean   :  3.5403   Mean   : 26251        \n",
       " 3rd Qu.:41.63   3rd Qu.:   29.0   3rd Qu.:  2.3424   3rd Qu.: 29340        \n",
       " Max.   :71.29   Max.   :70132.0   Max.   :903.2258   Max.   :151037        \n",
       "                                                                            "
      ]
     },
     "metadata": {},
     "output_type": "display_data"
    }
   ],
   "source": [
    "summary(features)"
   ]
  },
  {
   "cell_type": "code",
   "execution_count": null,
   "metadata": {},
   "outputs": [],
   "source": [
    "### Nonlinear regression using randomForest- variable importance"
   ]
  },
  {
   "cell_type": "code",
   "execution_count": 21,
   "metadata": {},
   "outputs": [],
   "source": [
    "features.num <- scale(features[c(\"totalpopulation\",\n",
    "                                \"per_male\", \"medianage\", \n",
    "                           \"per_urban\", \"mean_income_per_capita\", \n",
    "                          \"house_median_income\", \"per_english_other\",                        \n",
    "                         \"per_white\", \"per_employ_over16\", \"lon\", \n",
    "                         \"lat\", \"count\")])"
   ]
  },
  {
   "cell_type": "code",
   "execution_count": null,
   "metadata": {},
   "outputs": [],
   "source": [
    "### Find best value for number of trees - ntree"
   ]
  },
  {
   "cell_type": "code",
   "execution_count": 6,
   "metadata": {},
   "outputs": [],
   "source": [
    "random_varImp <- list()"
   ]
  },
  {
   "cell_type": "markdown",
   "metadata": {},
   "source": [
    "set.seed(20190104)\n",
    "n <- c(100, 500, seq(1000, 5000, 1000))\n",
    "for (i in n)\n",
    "random_varImp <- randomForest(count_rate ~ ., data = features.num, importance = TRUE, \n",
    "             keep.forest = TRUE, ntree = i, nPerm = 5)"
   ]
  },
  {
   "cell_type": "code",
   "execution_count": 22,
   "metadata": {
    "scrolled": true
   },
   "outputs": [],
   "source": [
    "set.seed(20190104)\n",
    "random_varImp <- randomForest(count ~ ., data = features.num, importance = TRUE, \n",
    "             keep.forest = TRUE, ntree = 1000, nPerm = 10)"
   ]
  },
  {
   "cell_type": "code",
   "execution_count": 23,
   "metadata": {
    "scrolled": true
   },
   "outputs": [
    {
     "data": {
      "text/plain": [
       "\n",
       "Call:\n",
       " randomForest(formula = count ~ ., data = features.num, importance = TRUE,      keep.forest = TRUE, ntree = 1000, nPerm = 10) \n",
       "               Type of random forest: regression\n",
       "                     Number of trees: 1000\n",
       "No. of variables tried at each split: 3\n",
       "\n",
       "          Mean of squared residuals: 0.5918452\n",
       "                    % Var explained: 40.8"
      ]
     },
     "metadata": {},
     "output_type": "display_data"
    }
   ],
   "source": [
    "random_varImp"
   ]
  },
  {
   "cell_type": "markdown",
   "metadata": {},
   "source": [
    "save(feature_importance, file = \"feature_importance.rda\")\n",
    "load(\"feature_importance.rda\")"
   ]
  },
  {
   "cell_type": "code",
   "execution_count": 26,
   "metadata": {},
   "outputs": [],
   "source": [
    "features_varimp <- varImp(random_varImp, sort = TRUE, scale = TRUE)"
   ]
  },
  {
   "cell_type": "code",
   "execution_count": 27,
   "metadata": {
    "scrolled": true
   },
   "outputs": [
    {
     "data": {
      "text/html": [
       "<table>\n",
       "<thead><tr><th scope=col>Variables</th><th scope=col>Overall</th></tr></thead>\n",
       "<tbody>\n",
       "\t<tr><td>totalpopulation       </td><td>18.3820768            </td></tr>\n",
       "\t<tr><td>house_median_income   </td><td> 7.1816674            </td></tr>\n",
       "\t<tr><td>mean_income_per_capita</td><td> 7.0234404            </td></tr>\n",
       "\t<tr><td>per_english_other     </td><td> 7.0130345            </td></tr>\n",
       "\t<tr><td>per_male              </td><td> 5.1987608            </td></tr>\n",
       "\t<tr><td>medianage             </td><td> 4.7483906            </td></tr>\n",
       "\t<tr><td>lon                   </td><td> 4.5289645            </td></tr>\n",
       "\t<tr><td>per_white             </td><td> 3.2200727            </td></tr>\n",
       "\t<tr><td>lat                   </td><td> 2.7841334            </td></tr>\n",
       "\t<tr><td>per_employ_over16     </td><td>-0.8965038            </td></tr>\n",
       "\t<tr><td>per_urban             </td><td>-3.4511091            </td></tr>\n",
       "</tbody>\n",
       "</table>\n"
      ],
      "text/latex": [
       "\\begin{tabular}{r|ll}\n",
       " Variables & Overall\\\\\n",
       "\\hline\n",
       "\t totalpopulation        & 18.3820768            \\\\\n",
       "\t house\\_median\\_income    &  7.1816674                \\\\\n",
       "\t mean\\_income\\_per\\_capita &  7.0234404                  \\\\\n",
       "\t per\\_english\\_other      &  7.0130345                \\\\\n",
       "\t per\\_male               &  5.1987608              \\\\\n",
       "\t medianage              &  4.7483906            \\\\\n",
       "\t lon                    &  4.5289645            \\\\\n",
       "\t per\\_white              &  3.2200727              \\\\\n",
       "\t lat                    &  2.7841334            \\\\\n",
       "\t per\\_employ\\_over16      & -0.8965038                \\\\\n",
       "\t per\\_urban              & -3.4511091              \\\\\n",
       "\\end{tabular}\n"
      ],
      "text/markdown": [
       "\n",
       "Variables | Overall | \n",
       "|---|---|---|---|---|---|---|---|---|---|---|\n",
       "| totalpopulation        | 18.3820768             | \n",
       "| house_median_income    |  7.1816674             | \n",
       "| mean_income_per_capita |  7.0234404             | \n",
       "| per_english_other      |  7.0130345             | \n",
       "| per_male               |  5.1987608             | \n",
       "| medianage              |  4.7483906             | \n",
       "| lon                    |  4.5289645             | \n",
       "| per_white              |  3.2200727             | \n",
       "| lat                    |  2.7841334             | \n",
       "| per_employ_over16      | -0.8965038             | \n",
       "| per_urban              | -3.4511091             | \n",
       "\n",
       "\n"
      ],
      "text/plain": [
       "   Variables              Overall   \n",
       "1  totalpopulation        18.3820768\n",
       "2  house_median_income     7.1816674\n",
       "3  mean_income_per_capita  7.0234404\n",
       "4  per_english_other       7.0130345\n",
       "5  per_male                5.1987608\n",
       "6  medianage               4.7483906\n",
       "7  lon                     4.5289645\n",
       "8  per_white               3.2200727\n",
       "9  lat                     2.7841334\n",
       "10 per_employ_over16      -0.8965038\n",
       "11 per_urban              -3.4511091"
      ]
     },
     "metadata": {},
     "output_type": "display_data"
    }
   ],
   "source": [
    "features_varimp$Variables <- rownames(features_varimp)\n",
    "features_varimp %>% dplyr::select(Variables, Overall) %>% arrange(desc(Overall))"
   ]
  },
  {
   "cell_type": "code",
   "execution_count": 75,
   "metadata": {
    "collapsed": true
   },
   "outputs": [
    {
     "ename": "ERROR",
     "evalue": "Error in parse(text = x, srcfile = src): <text>:1:7: unexpected symbol\n1: Check without\n          ^\n",
     "output_type": "error",
     "traceback": [
      "Error in parse(text = x, srcfile = src): <text>:1:7: unexpected symbol\n1: Check without\n          ^\nTraceback:\n"
     ]
    }
   ],
   "source": [
    "Check without totalpop as correlation with count is high. That is no totalpop and pop for % values"
   ]
  },
  {
   "cell_type": "code",
   "execution_count": 28,
   "metadata": {},
   "outputs": [],
   "source": [
    "features_varimp <- transform(features_varimp, Variables = reorder(Variables, Overall))"
   ]
  },
  {
   "cell_type": "code",
   "execution_count": 30,
   "metadata": {},
   "outputs": [
    {
     "data": {},
     "metadata": {},
     "output_type": "display_data"
    },
    {
     "data": {
      "image/png": "[encoded data removed]",
      "text/plain": [
       "plot without title"
      ]
     },
     "metadata": {},
     "output_type": "display_data"
    }
   ],
   "source": [
    "ggplot(aes(x = Variables, y = Overall), data = features_varimp) + \n",
    "    geom_col(color = \"blue\", fill = \"blue\") +\n",
    "    coord_flip() +\n",
    "    labs(title = \"Demographics - city population is the most dominant variable\\n40.8% of variance in count data is due to these variables\", \n",
    "         xlab = \"% importance\") \n"
   ]
  },
  {
   "cell_type": "code",
   "execution_count": null,
   "metadata": {},
   "outputs": [],
   "source": [
    "Variance in the output variable count due to the predictors is 40.8%. "
   ]
  }
 ],
 "metadata": {
  "kernelspec": {
   "display_name": "R",
   "language": "R",
   "name": "ir"
  },
  "language_info": {
   "codemirror_mode": "r",
   "file_extension": ".r",
   "mimetype": "text/x-r-source",
   "name": "R",
   "pygments_lexer": "r",
   "version": "3.5.1"
  }
 },
 "nbformat": 4,
 "nbformat_minor": 2
}
