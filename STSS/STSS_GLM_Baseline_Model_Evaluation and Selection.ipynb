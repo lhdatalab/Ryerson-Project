{
 "cells": [
  {
   "cell_type": "code",
   "execution_count": 130,
   "metadata": {},
   "outputs": [],
   "source": [
    "library(knitr)\n",
    "library(sqldf)\n",
    "library(ggplot2)\n",
    "library(mongolite)\n",
    "library(ggplot2)\n",
    "library(gridExtra)\n",
    "library(dplyr)\n",
    "library(tidyr)\n",
    "library(jsonlite)\n",
    "library(lubridate)\n",
    "library(gridExtra)\n",
    "library(GGally)\n",
    "library(scales)\n",
    "library(memisc)\n",
    " library(sp)\n",
    "library(rgeos)\n",
    "library(rgdal)\n",
    "library(maptools)\n",
    "library(RColorBrewer)\n",
    "library(maps)\n",
    "library(grid)\n",
    "library(cluster)\n",
    "#library(clue)\n",
    "#library(StatMatch)\n",
    "library(fastcluster)\n",
    "library(factoextra)\n",
    "library(FactoMineR)\n",
    "library(stringr)\n",
    "library(googleVis)\n",
    "library(RMySQL)\n",
    "library(data.table)\n",
    "library(dbplyr)\n",
    "library(DBI)\n",
    "library(httr)\n",
    "library(scanstatistics)\n",
    "library(purrr)\n",
    "library(magrittr)\n",
    "library(rsatscan)\n",
    "library(MASS)\n",
    "library(readr)\n",
    "library(caret)\n",
    "library(fitdistrplus)\n",
    "library(pscl)\n",
    "library(car)\n",
    "library(AUC)\n",
    "library(ROCR)\n",
    "library(actuar)\n",
    "#.libPaths(c(file.path(Sys.getenv('SPARK_HOME'), 'R', 'lib'), .libPaths())"
   ]
  },
  {
   "cell_type": "markdown",
   "metadata": {},
   "source": [
    "#### Continuing from EDA"
   ]
  },
  {
   "cell_type": "markdown",
   "metadata": {},
   "source": [
    "EDA notebook found three high level clusters or populations of tweet counts in time.\n",
    "This notebook examines the positive sentiment tweets created in the Sentiments notebook.\n",
    "Distribution of positive tweets and possible baseline models that can fit the data at the global level without creating any local, regional or geographical clusters.\n",
    "Comparison of these models to the clustered approach used in Space Time Scan Statistics (STSS)"
   ]
  },
  {
   "cell_type": "code",
   "execution_count": 12,
   "metadata": {},
   "outputs": [],
   "source": [
    "plot.format <- theme(axis.text = element_text(size = 12), legend.text = element_text(size = 12), legend.title = element_text(size = 12), axis.title = element_text(size = 14), plot.title = element_text(size = 14))"
   ]
  },
  {
   "cell_type": "code",
   "execution_count": null,
   "metadata": {},
   "outputs": [],
   "source": [
    "#### Load tweet related data"
   ]
  },
  {
   "cell_type": "code",
   "execution_count": 11,
   "metadata": {
    "scrolled": true
   },
   "outputs": [],
   "source": [
    "full_text_en <- fread(file=\"../STSS/Files/Lexicon/full_text_en2_dc.csv\", sep =\",\", \n",
    "                      header = TRUE, \n",
    "              stringsAsFactors=FALSE,\n",
    "             showProgress=getOption(\"datatable.showProgress\", interactive()), \n",
    "                      data.table=FALSE)"
   ]
  },
  {
   "cell_type": "code",
   "execution_count": null,
   "metadata": {},
   "outputs": [],
   "source": [
    "### Get text for USA city locations only"
   ]
  },
  {
   "cell_type": "code",
   "execution_count": 13,
   "metadata": {},
   "outputs": [],
   "source": [
    "full_text_en_usa <- full_text_en %>%\n",
    "                                filter(!is.na(City_code)) %>%\n",
    "                                as.data.frame()"
   ]
  },
  {
   "cell_type": "code",
   "execution_count": 12,
   "metadata": {
    "collapsed": true
   },
   "outputs": [
    {
     "name": "stdout",
     "output_type": "stream",
     "text": [
      "'data.frame':\t932321 obs. of  42 variables:\n",
      " $ rowno                      : num  1 2 4 5 17 18 25 32 38 43 ...\n",
      " $ user.id                    :integer64 1539100118 9439062 1539100118 9439062 19313747 39109570 20966032 598130172 ... \n",
      " $ user.location              : chr  \"Columbus, OH\" \"Atlanta, GA\" \"Columbus, OH\" \"Atlanta, GA\" ...\n",
      " $ user.description           : chr  \"Advocate for survivors of sexual violence. Breaker of silence, destroyer of shame.\" \"Husband. Father. Prelate. Human. Company builder, 2 exits. Author @kingonomics. Inclusive ecosystem builder @th\"| __truncated__ \"Advocate for survivors of sexual violence. Breaker of silence, destroyer of shame.\" \"Husband. Father. Prelate. Human. Company builder, 2 exits. Author @kingonomics. Inclusive ecosystem builder @th\"| __truncated__ ...\n",
      " $ created_at                 : chr  \"Sat Aug 09 22:33:06 +0000 2014\" \"Sat Aug 09 22:59:13 +0000 2014\" \"Sat Aug 09 22:28:42 +0000 2014\" \"Sat Aug 09 23:03:05 +0000 2014\" ...\n",
      " $ id                         : num  4.98e+17 4.98e+17 4.98e+17 4.98e+17 4.98e+17 ...\n",
      " $ user.created_at            : chr  \"Sat Jun 22 16:57:40 +0000 2013\" \"Sun Oct 14 15:51:11 +0000 2007\" \"Sat Jun 22 16:57:40 +0000 2013\" \"Sun Oct 14 15:51:11 +0000 2007\" ...\n",
      " $ retweeted                  : logi  FALSE FALSE FALSE FALSE FALSE FALSE ...\n",
      " $ retweeted_count            : logi  NA NA NA NA NA NA ...\n",
      " $ retweet                    : int  0 0 0 0 1 1 1 0 1 0 ...\n",
      " $ retweeted_status.created_at: chr  \"\" \"\" \"\" \"\" ...\n",
      " $ favorited                  : logi  FALSE FALSE FALSE FALSE FALSE FALSE ...\n",
      " $ favorite_count             : int  107 1 10 2 0 0 0 0 0 3 ...\n",
      " $ textnum                    : num  1 2 4 5 17 18 25 32 38 43 ...\n",
      " $ full_text                  : chr  \"Black teenage boys are not men. They are children. Stop referring to a 17 year old as a man. You are killing ch\"| __truncated__ \"@PhaedraParks  While there, please tune in today's killing of the young black male in #Ferguson. #SaveOurBoys\" \"SICK and TIRED of police killing unarmed people. #ferguson #walmart\" \"Well, here we go again. #Ferguson\" ...\n",
      " $ possibly_sensitive         : logi  NA NA NA NA NA NA ...\n",
      " $ hashtags                   : chr  \"ferguson\" \"c(\\\"\\\"\\\"\\\"\\\"\\\"\\\"\\\"Ferguson\\\"\\\"\\\"\\\"\\\"\\\"\\\"\\\" \\\"\\\"\\\"\\\"\\\"\\\"\\\"\\\"SaveOurBoys\\\"\\\"\\\"\\\"\\\"\\\"\\\"\\\")\" \"c(\\\"\\\"\\\"\\\"\\\"\\\"\\\"\\\"ferguson\\\"\\\"\\\"\\\"\\\"\\\"\\\"\\\" \\\"\\\"\\\"\\\"\\\"\\\"\\\"\\\"walmart\\\"\\\"\\\"\\\"\\\"\\\"\\\"\\\")\" \"Ferguson\" ...\n",
      " $ lang                       : chr  \"en\" \"en\" \"en\" \"en\" ...\n",
      " $ user.geo_enabled           : logi  TRUE FALSE TRUE FALSE TRUE TRUE ...\n",
      " $ place.full_name            : chr  \"\" \"\" \"\" \"\" ...\n",
      " $ place.place_type           : chr  \"\" \"\" \"\" \"\" ...\n",
      " $ utc_datetime               : chr  \"2014-08-09T22:33:06Z\" \"2014-08-09T22:59:13Z\" \"2014-08-09T22:28:42Z\" \"2014-08-09T23:03:05Z\" ...\n",
      " $ yday                       : int  221 221 221 221 221 221 221 221 221 221 ...\n",
      " $ ymd                        : chr  \"2014-08-09\" \"2014-08-09\" \"2014-08-09\" \"2014-08-09\" ...\n",
      " $ user_id2                   : int  542673 9237 542673 9237 58001 131350 67445 470133 176156 542673 ...\n",
      " $ user.location2             : chr  \"COLUMBUS OH\" \"ATLANTA GA\" \"COLUMBUS OH\" \"ATLANTA GA\" ...\n",
      " $ City_code                  : chr  \"COLUMBUS OH\" \"ATLANTA GA\" \"COLUMBUS OH\" \"ATLANTA GA\" ...\n",
      " $ City_state                 : chr  \"COLUMBUS OHIO\" \"ATLANTA GEORGIA\" \"COLUMBUS OHIO\" \"ATLANTA GEORGIA\" ...\n",
      " $ City2                      : chr  \"COLUMBUS\" \"ATLANTA\" \"COLUMBUS\" \"ATLANTA\" ...\n",
      " $ State                      : chr  \"OHIO\" \"GEORGIA\" \"OHIO\" \"GEORGIA\" ...\n",
      " $ Code                       : chr  \"OH\" \"GA\" \"OH\" \"GA\" ...\n",
      " $ keyword_pos_hash           : chr  \"c(120, 128)\" \"c(87, 98, 96, 109)\" \"c(50, 60, 58, 67)\" \"c(25, 33)\" ...\n",
      " $ keyword_count_hash         : int  1 2 2 1 2 2 2 2 2 1 ...\n",
      " $ full_text2                 : chr  \"Black teenage boys are not men. They are children. Stop referring to a 17 year old as a man. You are killing ch\"| __truncated__ \"While there, please tune in today's killing of the young black male in #Ferguson. #SaveOurBoys\" \"SICK and TIRED of police killing unarmed people. #ferguson #walmart\" \"Well, here we go again. #Ferguson\" ...\n",
      " $ full_text_nohash           : chr  \"Black teenage boys are not men. They are children. Stop referring to a 17 year old as a man. You are killing children.  \" \" While there, please tune in today's killing of the young black male in  .  \" \"SICK and TIRED of police killing unarmed people.    \" \"Well, here we go again.  \" ...\n",
      " $ tweet_type                 : chr  \"All\" \"SB\" \"All\" \"All\" ...\n",
      " $ full_text_nohash2          : chr  \"Black teenage boys are not men They are children Stop referring to a year old as a man You are killing children \" \" While there, please tune in today's killing of the young black male in \" \"SICK and TIRED of police killing unarmed people \" \"Well, here we go again \" ...\n",
      " $ full_text_low              : chr  \"black teenage boys are not men they are children stop referring to a year old as a man you are killing children \" \" while there please tune in todays killing of the young black male in \" \"sick and tired of police killing unarmed people \" \"well here we go again \" ...\n",
      " $ full_text_low_nostop       : chr  \"black teenage boys not men children stop referring year old man killing children\" \"please tune todays killing young black male\" \"sick tired police killing unarmed people\" \"well go\" ...\n",
      " $ lon                        : num  -83 -84.4 -83 -84.4 -90.2 ...\n",
      " $ lat                        : num  40 33.7 40 33.7 38.6 ...\n",
      " $ n                          : int  5 7 5 7 30 30 30 30 30 5 ...\n"
     ]
    }
   ],
   "source": [
    "full_text_en_usa$V1 <-NULL\n",
    "str(full_text_en_usa)"
   ]
  },
  {
   "cell_type": "code",
   "execution_count": null,
   "metadata": {},
   "outputs": [],
   "source": [
    "### Load sentiment data using customised NRC Emotions lEXICON "
   ]
  },
  {
   "cell_type": "code",
   "execution_count": 131,
   "metadata": {},
   "outputs": [],
   "source": [
    "sentiment.pos <- read.csv(\"../Sentiment/Files/Sentiment/sentiment_pos_nrc.csv\", \n",
    "         stringsAsFactors = FALSE)"
   ]
  },
  {
   "cell_type": "code",
   "execution_count": 6,
   "metadata": {
    "collapsed": true
   },
   "outputs": [
    {
     "name": "stdout",
     "output_type": "stream",
     "text": [
      "'data.frame':\t902725 obs. of  27 variables:\n",
      " $ textnum              : num  1 2 4 5 17 18 25 32 38 43 ...\n",
      " $ retweeted            : logi  FALSE FALSE FALSE FALSE FALSE FALSE ...\n",
      " $ retweet              : int  0 0 0 0 1 1 1 0 1 0 ...\n",
      " $ favorited            : logi  FALSE FALSE FALSE FALSE FALSE FALSE ...\n",
      " $ favorite_count       : int  107 1 10 2 0 0 0 0 0 3 ...\n",
      " $ yday                 : int  221 221 221 221 221 221 221 221 221 221 ...\n",
      " $ possibly_sensitive   : logi  NA NA NA NA NA NA ...\n",
      " $ tweet_type           : chr  \"All\" \"SB\" \"All\" \"All\" ...\n",
      " $ keyword_pos_hash     : chr  \"c(120, 128)\" \"c(87, 98, 96, 109)\" \"c(50, 60, 58, 67)\" \"c(25, 33)\" ...\n",
      " $ keyword_count_hash   : int  1 2 2 1 2 2 2 2 2 1 ...\n",
      " $ full_text_low        : chr  \"black teenage boys are not men they are children stop referring to a year old as a man you are killing children \" \" while there please tune in todays killing of the young black male in \" \"sick and tired of police killing unarmed people \" \"well here we go again \" ...\n",
      " $ full_text_low_nostop : chr  \"black teenage boys not men children stop referring year old man killing children\" \"please tune todays killing young black male\" \"sick tired police killing unarmed people\" \"well go\" ...\n",
      " $ lon                  : num  -83 -84.4 -83 -84.4 -90.2 ...\n",
      " $ lat                  : num  40 33.7 40 33.7 38.6 ...\n",
      " $ location_total.counts: int  5 7 5 7 30 30 30 30 30 5 ...\n",
      " $ location             : chr  \"COLUMBUS OH\" \"ATLANTA GA\" \"COLUMBUS OH\" \"ATLANTA GA\" ...\n",
      " $ City2                : chr  \"COLUMBUS\" \"ATLANTA\" \"COLUMBUS\" \"ATLANTA\" ...\n",
      " $ Code                 : chr  \"OH\" \"GA\" \"OH\" \"GA\" ...\n",
      " $ element_id           : int  1 2 3 4 5 6 7 8 9 10 ...\n",
      " $ sentence_id          : int  1 1 1 1 1 1 1 1 1 1 ...\n",
      " $ word_count           : int  22 13 8 5 11 11 11 17 11 17 ...\n",
      " $ sentiment            : num  -0.426 -0.277 -0.707 0 0 ...\n",
      " $ positive             : int  0 0 0 0 0 0 0 0 0 1 ...\n",
      " $ negative             : int  1 1 1 0 0 0 0 0 0 0 ...\n",
      " $ neutral              : int  0 0 0 1 1 1 1 1 1 0 ...\n",
      " $ time                 : int  1 1 1 1 1 1 1 1 1 1 ...\n",
      " $ labels               : int  0 0 0 1 1 1 1 1 1 2 ...\n"
     ]
    }
   ],
   "source": [
    "str(sentiment.pos)"
   ]
  },
  {
   "cell_type": "code",
   "execution_count": 18,
   "metadata": {
    "scrolled": true
   },
   "outputs": [
    {
     "data": {
      "text/html": [
       "<ol class=list-inline>\n",
       "\t<li>'textnum'</li>\n",
       "\t<li>'retweeted'</li>\n",
       "\t<li>'retweet'</li>\n",
       "\t<li>'favorited'</li>\n",
       "\t<li>'favorite_count'</li>\n",
       "\t<li>'yday'</li>\n",
       "\t<li>'possibly_sensitive'</li>\n",
       "\t<li>'tweet_type'</li>\n",
       "\t<li>'keyword_pos_hash'</li>\n",
       "\t<li>'keyword_count_hash'</li>\n",
       "\t<li>'full_text_low'</li>\n",
       "\t<li>'full_text_low_nostop'</li>\n",
       "\t<li>'lon'</li>\n",
       "\t<li>'lat'</li>\n",
       "\t<li>'location_total.counts'</li>\n",
       "\t<li>'location'</li>\n",
       "\t<li>'City2'</li>\n",
       "\t<li>'Code'</li>\n",
       "\t<li>'element_id'</li>\n",
       "\t<li>'sentence_id'</li>\n",
       "\t<li>'word_count'</li>\n",
       "\t<li>'sentiment'</li>\n",
       "\t<li>'positive'</li>\n",
       "\t<li>'negative'</li>\n",
       "\t<li>'neutral'</li>\n",
       "\t<li>'time'</li>\n",
       "\t<li>'labels'</li>\n",
       "</ol>\n"
      ],
      "text/latex": [
       "\\begin{enumerate*}\n",
       "\\item 'textnum'\n",
       "\\item 'retweeted'\n",
       "\\item 'retweet'\n",
       "\\item 'favorited'\n",
       "\\item 'favorite\\_count'\n",
       "\\item 'yday'\n",
       "\\item 'possibly\\_sensitive'\n",
       "\\item 'tweet\\_type'\n",
       "\\item 'keyword\\_pos\\_hash'\n",
       "\\item 'keyword\\_count\\_hash'\n",
       "\\item 'full\\_text\\_low'\n",
       "\\item 'full\\_text\\_low\\_nostop'\n",
       "\\item 'lon'\n",
       "\\item 'lat'\n",
       "\\item 'location\\_total.counts'\n",
       "\\item 'location'\n",
       "\\item 'City2'\n",
       "\\item 'Code'\n",
       "\\item 'element\\_id'\n",
       "\\item 'sentence\\_id'\n",
       "\\item 'word\\_count'\n",
       "\\item 'sentiment'\n",
       "\\item 'positive'\n",
       "\\item 'negative'\n",
       "\\item 'neutral'\n",
       "\\item 'time'\n",
       "\\item 'labels'\n",
       "\\end{enumerate*}\n"
      ],
      "text/markdown": [
       "1. 'textnum'\n",
       "2. 'retweeted'\n",
       "3. 'retweet'\n",
       "4. 'favorited'\n",
       "5. 'favorite_count'\n",
       "6. 'yday'\n",
       "7. 'possibly_sensitive'\n",
       "8. 'tweet_type'\n",
       "9. 'keyword_pos_hash'\n",
       "10. 'keyword_count_hash'\n",
       "11. 'full_text_low'\n",
       "12. 'full_text_low_nostop'\n",
       "13. 'lon'\n",
       "14. 'lat'\n",
       "15. 'location_total.counts'\n",
       "16. 'location'\n",
       "17. 'City2'\n",
       "18. 'Code'\n",
       "19. 'element_id'\n",
       "20. 'sentence_id'\n",
       "21. 'word_count'\n",
       "22. 'sentiment'\n",
       "23. 'positive'\n",
       "24. 'negative'\n",
       "25. 'neutral'\n",
       "26. 'time'\n",
       "27. 'labels'\n",
       "\n",
       "\n"
      ],
      "text/plain": [
       " [1] \"textnum\"               \"retweeted\"             \"retweet\"              \n",
       " [4] \"favorited\"             \"favorite_count\"        \"yday\"                 \n",
       " [7] \"possibly_sensitive\"    \"tweet_type\"            \"keyword_pos_hash\"     \n",
       "[10] \"keyword_count_hash\"    \"full_text_low\"         \"full_text_low_nostop\" \n",
       "[13] \"lon\"                   \"lat\"                   \"location_total.counts\"\n",
       "[16] \"location\"              \"City2\"                 \"Code\"                 \n",
       "[19] \"element_id\"            \"sentence_id\"           \"word_count\"           \n",
       "[22] \"sentiment\"             \"positive\"              \"negative\"             \n",
       "[25] \"neutral\"               \"time\"                  \"labels\"               "
      ]
     },
     "metadata": {},
     "output_type": "display_data"
    }
   ],
   "source": [
    "colnames(sentiment.pos)"
   ]
  },
  {
   "cell_type": "code",
   "execution_count": null,
   "metadata": {},
   "outputs": [],
   "source": [
    "### Amount of positive sentiment tweets - based on the distribution of sentiment postive \n",
    "### is taken as  >= 0.15"
   ]
  },
  {
   "cell_type": "code",
   "execution_count": 19,
   "metadata": {
    "scrolled": false
   },
   "outputs": [
    {
     "data": {
      "text/html": [
       "27.76"
      ],
      "text/latex": [
       "27.76"
      ],
      "text/markdown": [
       "27.76"
      ],
      "text/plain": [
       "[1] 27.76"
      ]
     },
     "metadata": {},
     "output_type": "display_data"
    }
   ],
   "source": [
    "round(NROW(subset(sentiment.pos$sentiment,sentiment.pos$sentiment >= 0.15))/NROW(sentiment.pos$sentiment) * 100, 2)"
   ]
  },
  {
   "cell_type": "code",
   "execution_count": null,
   "metadata": {},
   "outputs": [],
   "source": [
    "### Generate count data for positive, negative, neutral and total counts for each location \n",
    "### and day data point"
   ]
  },
  {
   "cell_type": "code",
   "execution_count": 20,
   "metadata": {},
   "outputs": [],
   "source": [
    "count.pos <- sentiment.pos %>% dplyr::select(one_of(c(\"yday\", \n",
    "                                                      \"location\", \"time\", \n",
    "                                               \"lon\", \n",
    "                                              \"lat\", \"location_total.counts\", \n",
    "                                               \"positive\",\n",
    "                                               \"negative\", \n",
    "                                                      \"neutral\"))) %>%\n",
    "                                 mutate(lon = as.character(lon), \n",
    "                                          lat = as.character(lat)) %>%\n",
    "                                filter(!(is.na(lon) & is.na(lat))) %>%\n",
    "                                group_by(yday, location, lon, \n",
    "                                              lat, \n",
    "                                         location_total.counts, time) %>%\n",
    "                                mutate(positive.counts = \n",
    "                                       sum(positive), \n",
    "                                       negative.counts = \n",
    "                                       sum(negative),\n",
    "                                       neutral.counts = \n",
    "                                       sum(neutral),\n",
    "                                       counts = positive.counts + \n",
    "                                                   negative.counts +\n",
    "                                                   neutral.counts\n",
    "                                       \n",
    "                                      ) %>%\n",
    "                                dplyr::select(-positive, -negative, \n",
    "                                              -neutral) %>%\n",
    "                                group_by(yday, location, time, \n",
    "                                         location_total.counts,\n",
    "                                         positive.counts, \n",
    "                                         negative.counts,\n",
    "                                            neutral.counts, counts) %>%\n",
    "                                       \n",
    "                                       summarise(lon = \n",
    "                                                  mean(as.numeric(lon), \n",
    "                                                       na.rm = TRUE), \n",
    "                                                  lat = \n",
    "                                                  mean(as.numeric(lat), \n",
    "                                                       na.rm = TRUE)) %>%\n",
    "                                                   \n",
    "                                distinct() %>%\n",
    "                                as.data.frame()\n",
    "                    "
   ]
  },
  {
   "cell_type": "code",
   "execution_count": 17,
   "metadata": {
    "scrolled": false
   },
   "outputs": [
    {
     "data": {
      "text/html": [
       "<table>\n",
       "<thead><tr><th scope=col>location</th><th scope=col>time</th><th scope=col>counts</th><th scope=col>positive.counts</th><th scope=col>negative.counts</th><th scope=col>neutral.counts</th></tr></thead>\n",
       "<tbody>\n",
       "\t<tr><td>ATLANTA GA  </td><td>1           </td><td>7           </td><td>2           </td><td>4           </td><td>1           </td></tr>\n",
       "\t<tr><td>AUSTIN TX   </td><td>1           </td><td>2           </td><td>0           </td><td>1           </td><td>1           </td></tr>\n",
       "\t<tr><td>BALTIMORE MD</td><td>1           </td><td>2           </td><td>0           </td><td>2           </td><td>0           </td></tr>\n",
       "\t<tr><td>BEAVERTON OR</td><td>1           </td><td>2           </td><td>0           </td><td>1           </td><td>1           </td></tr>\n",
       "\t<tr><td>BOSTON MA   </td><td>1           </td><td>2           </td><td>0           </td><td>1           </td><td>1           </td></tr>\n",
       "\t<tr><td>BOULDER CO  </td><td>1           </td><td>1           </td><td>0           </td><td>0           </td><td>1           </td></tr>\n",
       "</tbody>\n",
       "</table>\n"
      ],
      "text/latex": [
       "\\begin{tabular}{r|llllll}\n",
       " location & time & counts & positive.counts & negative.counts & neutral.counts\\\\\n",
       "\\hline\n",
       "\t ATLANTA GA   & 1            & 7            & 2            & 4            & 1           \\\\\n",
       "\t AUSTIN TX    & 1            & 2            & 0            & 1            & 1           \\\\\n",
       "\t BALTIMORE MD & 1            & 2            & 0            & 2            & 0           \\\\\n",
       "\t BEAVERTON OR & 1            & 2            & 0            & 1            & 1           \\\\\n",
       "\t BOSTON MA    & 1            & 2            & 0            & 1            & 1           \\\\\n",
       "\t BOULDER CO   & 1            & 1            & 0            & 0            & 1           \\\\\n",
       "\\end{tabular}\n"
      ],
      "text/markdown": [
       "\n",
       "location | time | counts | positive.counts | negative.counts | neutral.counts | \n",
       "|---|---|---|---|---|---|\n",
       "| ATLANTA GA   | 1            | 7            | 2            | 4            | 1            | \n",
       "| AUSTIN TX    | 1            | 2            | 0            | 1            | 1            | \n",
       "| BALTIMORE MD | 1            | 2            | 0            | 2            | 0            | \n",
       "| BEAVERTON OR | 1            | 2            | 0            | 1            | 1            | \n",
       "| BOSTON MA    | 1            | 2            | 0            | 1            | 1            | \n",
       "| BOULDER CO   | 1            | 1            | 0            | 0            | 1            | \n",
       "\n",
       "\n"
      ],
      "text/plain": [
       "  location     time counts positive.counts negative.counts neutral.counts\n",
       "1 ATLANTA GA   1    7      2               4               1             \n",
       "2 AUSTIN TX    1    2      0               1               1             \n",
       "3 BALTIMORE MD 1    2      0               2               0             \n",
       "4 BEAVERTON OR 1    2      0               1               1             \n",
       "5 BOSTON MA    1    2      0               1               1             \n",
       "6 BOULDER CO   1    1      0               0               1             "
      ]
     },
     "metadata": {},
     "output_type": "display_data"
    }
   ],
   "source": [
    "head(count.pos[c(\"location\", \"time\", \"counts\", \"positive.counts\", \"negative.counts\", \"neutral.counts\")])"
   ]
  },
  {
   "cell_type": "code",
   "execution_count": 21,
   "metadata": {
    "scrolled": true
   },
   "outputs": [
    {
     "data": {
      "text/plain": [
       "   Min. 1st Qu.  Median    Mean 3rd Qu.    Max. \n",
       "   0.00    0.00    1.00   10.45    3.00 5236.00 "
      ]
     },
     "metadata": {},
     "output_type": "display_data"
    }
   ],
   "source": [
    "summary(subset(count.pos$positive.counts, count.pos$positive.counts >= 0))"
   ]
  },
  {
   "cell_type": "code",
   "execution_count": 72,
   "metadata": {},
   "outputs": [
    {
     "name": "stderr",
     "output_type": "stream",
     "text": [
      "`stat_bin()` using `bins = 30`. Pick better value with `binwidth`.\n"
     ]
    },
    {
     "data": {},
     "metadata": {},
     "output_type": "display_data"
    },
    {
     "data": {
      "image/png": "[encoded data removed]",
      "text/plain": [
       "plot without title"
      ]
     },
     "metadata": {},
     "output_type": "display_data"
    }
   ],
   "source": [
    "ggplot(aes(x = sentiment), data = subset(sentiment.pos, sentiment > 0)) +\n",
    "geom_histogram(color = \"blue\", fill = \"blue\") +\n",
    "#geom_bar(color = \"blue\", fill = \"blue\", stat = \"summary\", fun.y = sum) +\n",
    "#geom_smooth(method = \"\", formula = \"y ~ exp(x)\") +\n",
    "#scale_x_continuous(limits = c(-1, 1), breaks = seq(-1, 1, 0.1)) +\n",
    "#scale_x_log10() +\n",
    "labs(title = \"28% of the texts have positive sentiments\\n\")"
   ]
  },
  {
   "cell_type": "markdown",
   "metadata": {},
   "source": [
    "write.csv(count.pos, \"C:\\\\MathLabASUS\\\\Courses\\\\Ryerson\\\\Project\\\\Data\\\\Files\\\\Sentiment\\\\count_pos2.csv\", \n",
    "         row.names = FALSE)"
   ]
  },
  {
   "cell_type": "code",
   "execution_count": null,
   "metadata": {},
   "outputs": [],
   "source": [
    "### Placeholder to load count.pos2.csv file"
   ]
  },
  {
   "cell_type": "markdown",
   "metadata": {},
   "source": [
    "count.pos <- read.csv(\"../STSS/Files/STSS/count_pos2.csv\", \n",
    "         stringsAsFactors = FALSE)"
   ]
  },
  {
   "cell_type": "code",
   "execution_count": null,
   "metadata": {},
   "outputs": [],
   "source": [
    "###### Load features data"
   ]
  },
  {
   "cell_type": "code",
   "execution_count": 22,
   "metadata": {},
   "outputs": [],
   "source": [
    "feat <- read.csv(\"../STSS/Files/Features/features2dc.csv\"\n",
    "#Features/features2dc.csv\"\n",
    "                 , stringsAsFactors = FALSE)"
   ]
  },
  {
   "cell_type": "code",
   "execution_count": null,
   "metadata": {},
   "outputs": [],
   "source": [
    "#### Remove any duplicates"
   ]
  },
  {
   "cell_type": "code",
   "execution_count": 23,
   "metadata": {},
   "outputs": [],
   "source": [
    "feat.nodup <- feat %>% group_by(location, add = FALSE) %>%\n",
    "                arrange(desc(totalpopulation)) %>%\n",
    "                top_n(1, totalpopulation) %>%\n",
    "                as.data.frame()"
   ]
  },
  {
   "cell_type": "markdown",
   "metadata": {},
   "source": [
    "write.csv(feat.nodup, \"C:\\\\MathLabASUS\\\\Courses\\\\Ryerson\\\\Project\\\\Data\\\\Files\\\\Features_Demo\\\\features2dc_nodup.csv\", \n",
    "          row.names = FALSE)"
   ]
  },
  {
   "cell_type": "code",
   "execution_count": null,
   "metadata": {},
   "outputs": [],
   "source": [
    "#### Placeholder to load features data"
   ]
  },
  {
   "cell_type": "markdown",
   "metadata": {},
   "source": [
    "feat.nodup <- read.csv(\"../STSS/Files/Features/features2dc_nodup.csv\", \n",
    "          stringsAsFactors = FALSE)"
   ]
  },
  {
   "cell_type": "code",
   "execution_count": null,
   "metadata": {},
   "outputs": [],
   "source": [
    "### Add city population to daily spatial count data"
   ]
  },
  {
   "cell_type": "code",
   "execution_count": 24,
   "metadata": {},
   "outputs": [],
   "source": [
    "features <- feat.nodup[c(\"location\", \"totalpopulation\", \n",
    "                         \"lon\", \"lat\", \n",
    "                          \"count\")]"
   ]
  },
  {
   "cell_type": "code",
   "execution_count": 25,
   "metadata": {},
   "outputs": [],
   "source": [
    "count.pos.pop <- count.pos %>% inner_join(features %>% \n",
    "                                           dplyr::select(-count, \n",
    "                                                         -lon, -lat),\n",
    "                                     by = c(\"location\")) %>%\n",
    "                                as.data.frame()"
   ]
  },
  {
   "cell_type": "markdown",
   "metadata": {},
   "source": [
    "write.csv(count.pos.pop, \"C:\\\\MathLabASUS\\\\Courses\\\\Ryerson\\\\Project\\\\Data\\\\Files\\\\Sentiment\\\\count_pos_pop2.csv\", \n",
    "         row.names = FALSE)"
   ]
  },
  {
   "cell_type": "code",
   "execution_count": 52,
   "metadata": {
    "scrolled": false
   },
   "outputs": [
    {
     "data": {
      "text/html": [
       "22407"
      ],
      "text/latex": [
       "22407"
      ],
      "text/markdown": [
       "22407"
      ],
      "text/plain": [
       "[1] 22407"
      ]
     },
     "metadata": {},
     "output_type": "display_data"
    }
   ],
   "source": [
    "nrow(count.pos.pop)"
   ]
  },
  {
   "cell_type": "code",
   "execution_count": null,
   "metadata": {},
   "outputs": [],
   "source": [
    "#### Place holder to load daily counts and population data"
   ]
  },
  {
   "cell_type": "markdown",
   "metadata": {},
   "source": [
    "count.pos.pop <- read.csv(\"../STSS/Files/STSS/count_pos_pop2.csv\", \n",
    "         stringsAsFactors = FALSE)"
   ]
  },
  {
   "cell_type": "code",
   "execution_count": null,
   "metadata": {},
   "outputs": [],
   "source": [
    "#### Create a dataframe for total spatial counts (i.e. no temporal componnt)"
   ]
  },
  {
   "cell_type": "code",
   "execution_count": 75,
   "metadata": {},
   "outputs": [],
   "source": [
    "count.pos.spat <- count.pos %>% dplyr::select(-yday, -time) %>%\n",
    "                                group_by(location, lon, lat) %>%\n",
    "                                summarise(counts = sum(counts), \n",
    "                                         positive.counts = \n",
    "                                          sum(positive.counts),\n",
    "                                         negative.counts = \n",
    "                                          sum(negative.counts), \n",
    "                                          neutral.counts = \n",
    "                                          sum(neutral.counts)\n",
    "                                         ) %>%\n",
    "                                \n",
    "                              #  distinct() %>%\n",
    "                                as.data.frame()"
   ]
  },
  {
   "cell_type": "markdown",
   "metadata": {},
   "source": [
    "write.csv(count.pos.spat, \"C:\\\\MathLabASUS\\\\Courses\\\\Ryerson\\\\Project\\\\Data\\\\Files\\\\Sentiment\\\\count_pos_spat2.csv\", \n",
    "         row.names = FALSE)"
   ]
  },
  {
   "cell_type": "markdown",
   "metadata": {},
   "source": [
    "count.pos.spat <- read.csv(\"../STSS/Files/STSS/count_pos_spat2.csv\", \n",
    "         stringsAsFactors = FALSE)"
   ]
  },
  {
   "cell_type": "code",
   "execution_count": null,
   "metadata": {},
   "outputs": [],
   "source": [
    "### Create a dataframe to add demographic data to sentiment counts data - all cities"
   ]
  },
  {
   "cell_type": "code",
   "execution_count": 76,
   "metadata": {},
   "outputs": [],
   "source": [
    "count.pos.spat.feat <- count.pos.spat %>% \n",
    "                                mutate(lon = as.numeric(lon), \n",
    "                                 lat = as.numeric(lat)) %>%\n",
    "                                inner_join(features %>% \n",
    "                                           dplyr::select(-count, -lon, \n",
    "                                                         -lat),\n",
    "                                     by = c(\"location\")\n",
    "                                          ) %>% \n",
    "                            #dplyr::rename(\"location\" = \"City_code\") %>%\n",
    "                       #     distinct() %>%\n",
    "                            as.data.frame()"
   ]
  },
  {
   "cell_type": "markdown",
   "metadata": {},
   "source": [
    "write.csv(count.pos.spat.feat, \"C:\\\\MathLabASUS\\\\Courses\\\\Ryerson\\\\Project\\\\Data\\\\Files\\\\Sentiment\\\\count_pos_spat_feat2.csv\", \n",
    "         row.names = FALSE)"
   ]
  },
  {
   "cell_type": "code",
   "execution_count": null,
   "metadata": {},
   "outputs": [],
   "source": [
    "### Placeholder to load location (spatial only) counts and demographic \n",
    "### data"
   ]
  },
  {
   "cell_type": "markdown",
   "metadata": {},
   "source": [
    "count.pos.spat.feat <- read.csv(\"../STSS/Files/STSS/count_pos_spat_feat2.csv\", \n",
    "         stringsAsFactors = FALSE)"
   ]
  },
  {
   "cell_type": "code",
   "execution_count": 35,
   "metadata": {},
   "outputs": [],
   "source": [
    "#### Statistics on positive sentiment counts for each location"
   ]
  },
  {
   "cell_type": "code",
   "execution_count": 26,
   "metadata": {
    "scrolled": true
   },
   "outputs": [
    {
     "data": {
      "text/plain": [
       "   Min. 1st Qu.  Median    Mean 3rd Qu.    Max. \n",
       "      0       0       1      11       3    5236 "
      ]
     },
     "metadata": {},
     "output_type": "display_data"
    }
   ],
   "source": [
    "summary(count.pos.pop$positive.counts)"
   ]
  },
  {
   "cell_type": "markdown",
   "metadata": {},
   "source": [
    "### Run statistical tests and analyze the data for modelling"
   ]
  },
  {
   "cell_type": "code",
   "execution_count": 27,
   "metadata": {
    "scrolled": true
   },
   "outputs": [
    {
     "data": {
      "text/plain": [
       "\n",
       "\tPearson's product-moment correlation\n",
       "\n",
       "data:  count.pos.pop$positive.counts and count.pos.pop$totalpopulation\n",
       "t = 66.262, df = 22405, p-value < 2.2e-16\n",
       "alternative hypothesis: true correlation is not equal to 0\n",
       "95 percent confidence interval:\n",
       " 0.3937866 0.4156836\n",
       "sample estimates:\n",
       "      cor \n",
       "0.4047931 \n"
      ]
     },
     "metadata": {},
     "output_type": "display_data"
    }
   ],
   "source": [
    "cor.test(count.pos.pop$positive.counts, count.pos.pop$totalpopulation)"
   ]
  },
  {
   "cell_type": "code",
   "execution_count": 235,
   "metadata": {
    "scrolled": true
   },
   "outputs": [
    {
     "data": {
      "text/plain": [
       "   Min. 1st Qu.  Median    Mean 3rd Qu.    Max. \n",
       "      0       0       1      11       3    5236 "
      ]
     },
     "metadata": {},
     "output_type": "display_data"
    }
   ],
   "source": [
    "summary(count.pos.pop$positive.counts)"
   ]
  },
  {
   "cell_type": "code",
   "execution_count": 114,
   "metadata": {
    "scrolled": true
   },
   "outputs": [],
   "source": [
    "### % of zeros in the data"
   ]
  },
  {
   "cell_type": "code",
   "execution_count": 79,
   "metadata": {},
   "outputs": [
    {
     "data": {
      "text/html": [
       "39.58"
      ],
      "text/latex": [
       "39.58"
      ],
      "text/markdown": [
       "39.58"
      ],
      "text/plain": [
       "[1] 39.58"
      ]
     },
     "metadata": {},
     "output_type": "display_data"
    }
   ],
   "source": [
    "round(nrow(subset(count.pos.pop, positive.counts \n",
    "                  == 0))/nrow(count.pos.pop) *  100, 2)"
   ]
  },
  {
   "cell_type": "markdown",
   "metadata": {},
   "source": [
    "###### Test for a Poisson distribution at the global level."
   ]
  },
  {
   "cell_type": "code",
   "execution_count": 28,
   "metadata": {
    "scrolled": true
   },
   "outputs": [],
   "source": [
    "lambda.pos <- fitdistr(count.pos.pop$positive.counts, \"poisson\")\n",
    "lambda.neg <- fitdistr(count.pos.pop$negative.counts, \"poisson\")"
   ]
  },
  {
   "cell_type": "code",
   "execution_count": 29,
   "metadata": {},
   "outputs": [
    {
     "data": {
      "text/plain": [
       "     lambda  \n",
       "  10.9988396 \n",
       " ( 0.0221555)"
      ]
     },
     "metadata": {},
     "output_type": "display_data"
    },
    {
     "data": {
      "text/plain": [
       "     lambda   \n",
       "  10.86812157 \n",
       " ( 0.02202345)"
      ]
     },
     "metadata": {},
     "output_type": "display_data"
    }
   ],
   "source": [
    "lambda.pos\n",
    "lambda.neg"
   ]
  },
  {
   "cell_type": "code",
   "execution_count": 30,
   "metadata": {
    "scrolled": true
   },
   "outputs": [
    {
     "data": {
      "text/plain": [
       "\n",
       "\tExact Poisson test\n",
       "\n",
       "data:  sum(count.pos.pop$positive.counts) time base: lambda.pos$estimate\n",
       "number of events = 246450, time base = 10.999, p-value < 2.2e-16\n",
       "alternative hypothesis: true event rate is greater than 1\n",
       "95 percent confidence interval:\n",
       " 22332.81      Inf\n",
       "sample estimates:\n",
       "event rate \n",
       "     22407 \n"
      ]
     },
     "metadata": {},
     "output_type": "display_data"
    }
   ],
   "source": [
    "poisson.test(sum(count.pos.pop$positive.counts), lambda.pos$estimate, \n",
    "             alternative = \"greater\")"
   ]
  },
  {
   "cell_type": "code",
   "execution_count": 31,
   "metadata": {},
   "outputs": [
    {
     "data": {
      "text/plain": [
       "\n",
       "\tExact Poisson test\n",
       "\n",
       "data:  sum(count.pos.pop$negative.counts) time base: lambda.neg$estimate\n",
       "number of events = 243520, time base = 10.868, p-value < 2.2e-16\n",
       "alternative hypothesis: true event rate is greater than 1\n",
       "95 percent confidence interval:\n",
       " 22332.37      Inf\n",
       "sample estimates:\n",
       "event rate \n",
       "     22407 \n"
      ]
     },
     "metadata": {},
     "output_type": "display_data"
    }
   ],
   "source": [
    "poisson.test(sum(count.pos.pop$negative.counts), \n",
    "             lambda.neg$estimate, \n",
    "             alternative = \"greater\")"
   ]
  },
  {
   "cell_type": "code",
   "execution_count": null,
   "metadata": {},
   "outputs": [],
   "source": [
    "Count data does not follows a spatial poisson distribution. \n",
    "True event rate >> 1. p-value << 0.05. Accept alternative hypothesis."
   ]
  },
  {
   "cell_type": "markdown",
   "metadata": {},
   "source": [
    "#### Test for overdispersion in the positive count data and the city population data"
   ]
  },
  {
   "cell_type": "code",
   "execution_count": null,
   "metadata": {},
   "outputs": [],
   "source": [
    "#### Mean of data empirical data"
   ]
  },
  {
   "cell_type": "code",
   "execution_count": 80,
   "metadata": {},
   "outputs": [
    {
     "name": "stdout",
     "output_type": "stream",
     "text": [
      "Mean of positive count data: "
     ]
    },
    {
     "data": {
      "text/html": [
       "10.9988396483242"
      ],
      "text/latex": [
       "10.9988396483242"
      ],
      "text/markdown": [
       "10.9988396483242"
      ],
      "text/plain": [
       "[1] 10.99884"
      ]
     },
     "metadata": {},
     "output_type": "display_data"
    },
    {
     "name": "stdout",
     "output_type": "stream",
     "text": [
      "\n",
      "Mean of positive count data - zero inflated data removed: "
     ]
    },
    {
     "data": {
      "text/html": [
       "18.2030430607874"
      ],
      "text/latex": [
       "18.2030430607874"
      ],
      "text/markdown": [
       "18.2030430607874"
      ],
      "text/plain": [
       "[1] 18.20304"
      ]
     },
     "metadata": {},
     "output_type": "display_data"
    }
   ],
   "source": [
    "cat(\"Mean of positive count data: \")\n",
    "mean(count.pos.pop$positive.counts)\n",
    "cat(\"\\nMean of positive count data - zero inflated data removed: \")\n",
    "mean(subset(count.pos.pop, positive.counts > 0)$positive.counts)"
   ]
  },
  {
   "cell_type": "code",
   "execution_count": null,
   "metadata": {},
   "outputs": [],
   "source": [
    "##### Variance of empirical data"
   ]
  },
  {
   "cell_type": "code",
   "execution_count": 81,
   "metadata": {
    "scrolled": true
   },
   "outputs": [
    {
     "name": "stdout",
     "output_type": "stream",
     "text": [
      "Variance in positive count data: "
     ]
    },
    {
     "data": {
      "text/html": [
       "9536.44291572931"
      ],
      "text/latex": [
       "9536.44291572931"
      ],
      "text/markdown": [
       "9536.44291572931"
      ],
      "text/plain": [
       "[1] 9536.443"
      ]
     },
     "metadata": {},
     "output_type": "display_data"
    },
    {
     "name": "stdout",
     "output_type": "stream",
     "text": [
      "\n",
      "Variance in positive count data - zero inflated data removed: "
     ]
    },
    {
     "data": {
      "text/html": [
       "15652.0946103284"
      ],
      "text/latex": [
       "15652.0946103284"
      ],
      "text/markdown": [
       "15652.0946103284"
      ],
      "text/plain": [
       "[1] 15652.09"
      ]
     },
     "metadata": {},
     "output_type": "display_data"
    }
   ],
   "source": [
    "cat(\"Variance in positive count data: \")\n",
    "var(count.pos.pop$positive.counts)\n",
    "cat(\"\\nVariance in positive count data - zero inflated data removed: \")\n",
    "var(subset(count.pos.pop, positive.counts > 0)$positive.counts)"
   ]
  },
  {
   "cell_type": "code",
   "execution_count": null,
   "metadata": {},
   "outputs": [],
   "source": [
    "Variance >> Mean both with and without zeros. This shows that overdispersion \n",
    "still occurs with non-zero small count data\n",
    "Test degree of dispersion using standard poisson glm model"
   ]
  },
  {
   "cell_type": "code",
   "execution_count": null,
   "metadata": {},
   "outputs": [],
   "source": [
    "#### Positive count data overdispersion test"
   ]
  },
  {
   "cell_type": "code",
   "execution_count": 82,
   "metadata": {},
   "outputs": [],
   "source": [
    "disp.test <- glm(positive.counts ~ 1, data = count.pos.pop, \n",
    "                 family = \"poisson\")"
   ]
  },
  {
   "cell_type": "code",
   "execution_count": 83,
   "metadata": {
    "collapsed": true
   },
   "outputs": [
    {
     "data": {
      "text/plain": [
       "\n",
       "Call:\n",
       "glm(formula = positive.counts ~ 1, family = \"poisson\", data = count.pos.pop)\n",
       "\n",
       "Deviance Residuals: \n",
       "    Min       1Q   Median       3Q      Max  \n",
       " -4.690   -4.690   -3.899   -2.864  232.627  \n",
       "\n",
       "Coefficients:\n",
       "            Estimate Std. Error z value Pr(>|z|)    \n",
       "(Intercept) 2.397790   0.002014    1190   <2e-16 ***\n",
       "---\n",
       "Signif. codes:  0 '***' 0.001 '**' 0.01 '*' 0.05 '.' 0.1 ' ' 1\n",
       "\n",
       "(Dispersion parameter for poisson family taken to be 1)\n",
       "\n",
       "    Null deviance: 1452232  on 22406  degrees of freedom\n",
       "Residual deviance: 1452232  on 22406  degrees of freedom\n",
       "AIC: 1493754\n",
       "\n",
       "Number of Fisher Scoring iterations: 8\n"
      ]
     },
     "metadata": {},
     "output_type": "display_data"
    }
   ],
   "source": [
    "summary(disp.test)"
   ]
  },
  {
   "cell_type": "code",
   "execution_count": 84,
   "metadata": {
    "collapsed": true
   },
   "outputs": [
    {
     "data": {
      "text/plain": [
       "'log Lik.' -746875.9 (df=1)"
      ]
     },
     "metadata": {},
     "output_type": "display_data"
    }
   ],
   "source": [
    "logLik(disp.test)"
   ]
  },
  {
   "cell_type": "code",
   "execution_count": 85,
   "metadata": {
    "scrolled": true
   },
   "outputs": [
    {
     "name": "stdout",
     "output_type": "stream",
     "text": [
      "Dispersion:"
     ]
    },
    {
     "data": {
      "text/html": [
       "64.8144161389092"
      ],
      "text/latex": [
       "64.8144161389092"
      ],
      "text/markdown": [
       "64.8144161389092"
      ],
      "text/plain": [
       "[1] 64.81442"
      ]
     },
     "metadata": {},
     "output_type": "display_data"
    }
   ],
   "source": [
    "cat(\"Dispersion:\") \n",
    "disp.test$deviance/disp.test$df.residual"
   ]
  },
  {
   "cell_type": "code",
   "execution_count": null,
   "metadata": {},
   "outputs": [],
   "source": [
    "#### City population data overdispersion test"
   ]
  },
  {
   "cell_type": "code",
   "execution_count": 129,
   "metadata": {},
   "outputs": [],
   "source": [
    "disp.test <- glm(totalpopulation ~ 1, data = count.pos.pop, \n",
    "                 family = \"poisson\")"
   ]
  },
  {
   "cell_type": "code",
   "execution_count": 127,
   "metadata": {
    "collapsed": true
   },
   "outputs": [
    {
     "data": {
      "text/plain": [
       "\n",
       "Call:\n",
       "glm(formula = positive.counts ~ 1, family = \"poisson\", data = count.pos.pop)\n",
       "\n",
       "Deviance Residuals: \n",
       "    Min       1Q   Median       3Q      Max  \n",
       " -4.690   -4.690   -3.899   -2.864  232.627  \n",
       "\n",
       "Coefficients:\n",
       "            Estimate Std. Error z value Pr(>|z|)    \n",
       "(Intercept) 2.397790   0.002014    1190   <2e-16 ***\n",
       "---\n",
       "Signif. codes:  0 '***' 0.001 '**' 0.01 '*' 0.05 '.' 0.1 ' ' 1\n",
       "\n",
       "(Dispersion parameter for poisson family taken to be 1)\n",
       "\n",
       "    Null deviance: 1452232  on 22406  degrees of freedom\n",
       "Residual deviance: 1452232  on 22406  degrees of freedom\n",
       "AIC: 1493754\n",
       "\n",
       "Number of Fisher Scoring iterations: 8\n"
      ]
     },
     "metadata": {},
     "output_type": "display_data"
    }
   ],
   "source": [
    "summary(disp.test)"
   ]
  },
  {
   "cell_type": "code",
   "execution_count": 167,
   "metadata": {
    "collapsed": true
   },
   "outputs": [
    {
     "data": {
      "text/plain": [
       "'log Lik.' -778100.6 (df=1)"
      ]
     },
     "metadata": {},
     "output_type": "display_data"
    }
   ],
   "source": [
    "logLik(disp.test)"
   ]
  },
  {
   "cell_type": "code",
   "execution_count": 149,
   "metadata": {
    "scrolled": true
   },
   "outputs": [
    {
     "name": "stdout",
     "output_type": "stream",
     "text": [
      "Dispersion:"
     ]
    },
    {
     "data": {
      "text/html": [
       "78.3849179860085"
      ],
      "text/latex": [
       "78.3849179860085"
      ],
      "text/markdown": [
       "78.3849179860085"
      ],
      "text/plain": [
       "[1] 78.38492"
      ]
     },
     "metadata": {},
     "output_type": "display_data"
    }
   ],
   "source": [
    "cat(\"Dispersion:\") \n",
    "disp.test$deviance/disp.test$df.residual"
   ]
  },
  {
   "cell_type": "markdown",
   "metadata": {},
   "source": [
    "The summary data for count.pos shows positive counts is both overdispered (wrt zeros) and zero-inflated.\n",
    "64.81 >> 1. In addition a dispersion test for totalpopulation = 78.4\n",
    "\n",
    "The code below tests for distributions that best fits the non-zero portions of the \n",
    "overdispered data.\n",
    "Note: The poisson model in the glm function fixes the dispersion parameter = 1\n",
    "\n",
    "1. Two ways are zero inflated negbin and zero inflated poisson. \n",
    "2. Another way is seperate the count model (gamma) from the zero model (binomial). \n",
    "3. Negative binomial is another option. Negbinomial is considered a discrete case of gamma."
   ]
  },
  {
   "cell_type": "code",
   "execution_count": 86,
   "metadata": {},
   "outputs": [],
   "source": [
    "get.par <- fitdist(subset(count.pos.pop, positive.counts \n",
    "                           > 0)$positive.counts, \"gamma\")"
   ]
  },
  {
   "cell_type": "code",
   "execution_count": 87,
   "metadata": {},
   "outputs": [
    {
     "data": {
      "text/plain": [
       "Goodness-of-fit statistics\n",
       "                                   gamma\n",
       "Kolmogorov-Smirnov statistic   0.2709542\n",
       "Cramer-von Mises statistic   399.3303036\n",
       "Anderson-Darling statistic           Inf\n",
       "\n",
       "Goodness-of-fit criteria\n",
       "                                  gamma\n",
       "Akaike's Information Criterion 92251.84\n",
       "Bayesian Information Criterion 92266.87"
      ]
     },
     "metadata": {},
     "output_type": "display_data"
    }
   ],
   "source": [
    "gof.gamma <- gofstat(get.par, fitnames = \"gamma\")\n",
    "gof.gamma"
   ]
  },
  {
   "cell_type": "code",
   "execution_count": 88,
   "metadata": {},
   "outputs": [
    {
     "name": "stderr",
     "output_type": "stream",
     "text": [
      "Warning message in ks.test(subset(count.pos.pop, positive.counts > 4)$positive.counts, :\n",
      "\"ties should not be present for the Kolmogorov-Smirnov test\""
     ]
    },
    {
     "data": {
      "text/plain": [
       "\n",
       "\tOne-sample Kolmogorov-Smirnov test\n",
       "\n",
       "data:  subset(count.pos.pop, positive.counts > 4)$positive.counts\n",
       "D^+ = 3.914e-17, p-value = 1\n",
       "alternative hypothesis: the CDF of x lies above the null hypothesis\n"
      ]
     },
     "metadata": {},
     "output_type": "display_data"
    }
   ],
   "source": [
    "ks.test(subset(count.pos.pop, positive.counts > 4)$positive.counts, \"pgamma\", get.par$estimate[\"shape\"], \n",
    "        get.par$estimate[\"rate\"], alternative = \"greater\")"
   ]
  },
  {
   "cell_type": "code",
   "execution_count": 46,
   "metadata": {},
   "outputs": [
    {
     "data": {
      "text/plain": [
       "   Min. 1st Qu.  Median    Mean 3rd Qu.    Max. \n",
       "      0       0       1      11       3    5236 "
      ]
     },
     "metadata": {},
     "output_type": "display_data"
    }
   ],
   "source": [
    "summary(count.pos.pop$positive.counts)"
   ]
  },
  {
   "cell_type": "markdown",
   "metadata": {},
   "source": [
    "Reject null hypothesis that the data fits a gamma distribution based on filtering zeros only (not shown).\n",
    "Accept the null hypothesis that the non-zero portion of \n",
    "positive count data can fit a gamma distribution only if the positive counts are greater than the 75% quantile.\n",
    "\n",
    "\n",
    "Fit a zero inflated, negative binomial and/or gamma model to data.\n",
    "Use a gamma model null model to create a baseline for the various GLMs.\n",
    "Negbin accounts assumes data consists of multiple poisson distributions. These multiple poisson distributions themselves are gamma distributed.\n",
    "Models can account for random effects in various R packages, but not the pscl package used in this project.\n",
    "\n",
    "Locations can have random effects (e.g. negbin and gamma distribution - long tail/a few very large effects on individual locations)\n",
    "Variability in the number of positive count per total population. Population used as offset in glm/negbin model\n",
    "\n",
    "Note: type 1 (quassi poisson) and type2 (zero inflated) - negbin\n",
    "Note: Used offset(log(totalpopulation)) due to poisson family of models which in turned used rates - positive counts/totalpopulation\n",
    "\n",
    "****Zeroinflated model must have zero counts. Gamma model - has long tail data ****\n"
   ]
  },
  {
   "cell_type": "markdown",
   "metadata": {},
   "source": [
    "###### Test correlation between total positive counts at a location and total population"
   ]
  },
  {
   "cell_type": "code",
   "execution_count": 247,
   "metadata": {
    "scrolled": true
   },
   "outputs": [
    {
     "data": {
      "text/plain": [
       "\n",
       "\tPearson's product-moment correlation\n",
       "\n",
       "data:  count.pos.spat.feat$totalpopulation and count.pos.spat.feat$positive.counts\n",
       "t = 48.568, df = 5217, p-value < 2.2e-16\n",
       "alternative hypothesis: true correlation is not equal to 0\n",
       "95 percent confidence interval:\n",
       " 0.5390258 0.5764019\n",
       "sample estimates:\n",
       "      cor \n",
       "0.5579968 \n"
      ]
     },
     "metadata": {},
     "output_type": "display_data"
    }
   ],
   "source": [
    "cor.test(count.pos.spat.feat$totalpopulation, count.pos.spat.feat$positive.counts)"
   ]
  },
  {
   "cell_type": "markdown",
   "metadata": {},
   "source": [
    "##### Examine various GLM models to find a good baseline. "
   ]
  },
  {
   "cell_type": "code",
   "execution_count": null,
   "metadata": {},
   "outputs": [],
   "source": [
    "### Create train and test data"
   ]
  },
  {
   "cell_type": "code",
   "execution_count": 28,
   "metadata": {},
   "outputs": [],
   "source": [
    "set.seed(20190126)\n",
    "train <- count.pos.pop %>%\n",
    "                group_by(location, add = FALSE) %>%\n",
    "                    dplyr::sample_frac(0.75) %>%\n",
    "                \n",
    "            as.data.frame()"
   ]
  },
  {
   "cell_type": "code",
   "execution_count": 29,
   "metadata": {
    "scrolled": true
   },
   "outputs": [
    {
     "name": "stderr",
     "output_type": "stream",
     "text": [
      "Joining, by = c(\"yday\", \"location\", \"time\", \"location_total.counts\", \"positive.counts\", \"negative.counts\", \"neutral.counts\", \"counts\", \"lon\", \"lat\", \"totalpopulation\")\n"
     ]
    }
   ],
   "source": [
    "test <- anti_join(count.pos.pop, train) #[sample$id, ]"
   ]
  },
  {
   "cell_type": "code",
   "execution_count": null,
   "metadata": {},
   "outputs": [],
   "source": [
    "### Null model using gamma"
   ]
  },
  {
   "cell_type": "code",
   "execution_count": 30,
   "metadata": {},
   "outputs": [
    {
     "data": {
      "text/plain": [
       "\n",
       "Call:\n",
       "glm(formula = positive.counts ~ 1, family = Gamma(link = \"log\"), \n",
       "    data = subset(train, positive.counts > 0))\n",
       "\n",
       "Deviance Residuals: \n",
       "    Min       1Q   Median       3Q      Max  \n",
       "-1.9593  -1.9593  -1.6021  -0.9092  24.1856  \n",
       "\n",
       "Coefficients:\n",
       "            Estimate Std. Error t value Pr(>|t|)    \n",
       "(Intercept)  2.86229    0.06758   42.35   <2e-16 ***\n",
       "---\n",
       "Signif. codes:  0 '***' 0.001 '**' 0.01 '*' 0.05 '.' 0.1 ' ' 1\n",
       "\n",
       "(Dispersion parameter for Gamma family taken to be 47.54811)\n",
       "\n",
       "    Null deviance: 36325  on 10410  degrees of freedom\n",
       "Residual deviance: 36325  on 10410  degrees of freedom\n",
       "AIC: 70931\n",
       "\n",
       "Number of Fisher Scoring iterations: 9\n"
      ]
     },
     "metadata": {},
     "output_type": "display_data"
    }
   ],
   "source": [
    "summary(glm(positive.counts ~ 1, \n",
    "                data = subset(train, positive.counts > 0),\n",
    "          #  train,\n",
    "    family = Gamma(link = \"log\")))"
   ]
  },
  {
   "cell_type": "markdown",
   "metadata": {},
   "source": [
    "Over dispersion is still high. Dispersion = 47.55"
   ]
  },
  {
   "cell_type": "code",
   "execution_count": null,
   "metadata": {},
   "outputs": [],
   "source": [
    "#### Gamma model"
   ]
  },
  {
   "cell_type": "code",
   "execution_count": 31,
   "metadata": {
    "scrolled": false
   },
   "outputs": [],
   "source": [
    "gamma.ml <- glm(positive.counts ~ offset(log(totalpopulation)) \n",
    "                + time, \n",
    "                data = subset(train, positive.counts > 0),\n",
    "    family = Gamma(link = \"log\"))"
   ]
  },
  {
   "cell_type": "code",
   "execution_count": 32,
   "metadata": {
    "scrolled": true
   },
   "outputs": [
    {
     "data": {
      "text/plain": [
       "\n",
       "Call:\n",
       "glm(formula = positive.counts ~ offset(log(totalpopulation)) + \n",
       "    time, family = Gamma(link = \"log\"), data = subset(train, \n",
       "    positive.counts > 0))\n",
       "\n",
       "Deviance Residuals: \n",
       "    Min       1Q   Median       3Q      Max  \n",
       "-2.9081  -1.5830  -1.0462  -0.2954  16.1187  \n",
       "\n",
       "Coefficients:\n",
       "            Estimate Std. Error t value Pr(>|t|)    \n",
       "(Intercept) -8.60211    0.11397 -75.479  < 2e-16 ***\n",
       "time         0.09116    0.01419   6.422  1.4e-10 ***\n",
       "---\n",
       "Signif. codes:  0 '***' 0.001 '**' 0.01 '*' 0.05 '.' 0.1 ' ' 1\n",
       "\n",
       "(Dispersion parameter for Gamma family taken to be 14.51945)\n",
       "\n",
       "    Null deviance: 24787  on 10410  degrees of freedom\n",
       "Residual deviance: 24278  on 10409  degrees of freedom\n",
       "AIC: 65291\n",
       "\n",
       "Number of Fisher Scoring iterations: 8\n"
      ]
     },
     "metadata": {},
     "output_type": "display_data"
    }
   ],
   "source": [
    "summary(gamma.ml)"
   ]
  },
  {
   "cell_type": "code",
   "execution_count": 33,
   "metadata": {},
   "outputs": [],
   "source": [
    "pred.gamma <- predict(gamma.ml, \n",
    "                               newdata = \n",
    "                               subset(test, positive.counts > 0), \n",
    "                               type = \"response\")"
   ]
  },
  {
   "cell_type": "code",
   "execution_count": 34,
   "metadata": {},
   "outputs": [
    {
     "data": {
      "text/html": [
       "34.8510399907275"
      ],
      "text/latex": [
       "34.8510399907275"
      ],
      "text/markdown": [
       "34.8510399907275"
      ],
      "text/plain": [
       "[1] 34.85104"
      ]
     },
     "metadata": {},
     "output_type": "display_data"
    }
   ],
   "source": [
    "mae.gamma <- mean(abs(pred.gamma -\n",
    "                               log(subset(test, \n",
    "                                          test$positive.counts \n",
    "                                          > 0)$positive.counts)))\n",
    "mae.gamma"
   ]
  },
  {
   "cell_type": "markdown",
   "metadata": {},
   "source": [
    "Performance of gamm model is better based on AIC = 65,291 compared to negative binomial and zeroinflated negative binomial. However gamma cannot completely handle the overdispersion in the the data which is still high (14.52)"
   ]
  },
  {
   "cell_type": "code",
   "execution_count": null,
   "metadata": {},
   "outputs": [],
   "source": [
    "####### Binomial(zero) model for gamma-binomial done seperately"
   ]
  },
  {
   "cell_type": "code",
   "execution_count": 35,
   "metadata": {},
   "outputs": [],
   "source": [
    "train$positive <- ifelse(train$positive.counts > 0 , 1, 0)\n",
    "test$positive <- ifelse(test$positive.counts > 0 , 1, 0)"
   ]
  },
  {
   "cell_type": "code",
   "execution_count": 36,
   "metadata": {},
   "outputs": [],
   "source": [
    "zero.binom <- glm(positive ~ offset(log(totalpopulation)) + \n",
    "                          time, \n",
    "                data = train,\n",
    "    family = binomial(link = \"logit\"))"
   ]
  },
  {
   "cell_type": "code",
   "execution_count": 37,
   "metadata": {},
   "outputs": [
    {
     "data": {
      "text/plain": [
       "\n",
       "Call:\n",
       "glm(formula = positive ~ offset(log(totalpopulation)) + time, \n",
       "    family = binomial(link = \"logit\"), data = train)\n",
       "\n",
       "Deviance Residuals: \n",
       "    Min       1Q   Median       3Q      Max  \n",
       "-3.4941  -1.0405   0.4404   0.9029   3.3876  \n",
       "\n",
       "Coefficients:\n",
       "             Estimate Std. Error z value Pr(>|z|)    \n",
       "(Intercept) -9.929463   0.054626 -181.77   <2e-16 ***\n",
       "time         0.084525   0.006868   12.31   <2e-16 ***\n",
       "---\n",
       "Signif. codes:  0 '***' 0.001 '**' 0.01 '*' 0.05 '.' 0.1 ' ' 1\n",
       "\n",
       "(Dispersion parameter for binomial family taken to be 1)\n",
       "\n",
       "    Null deviance: 23963  on 17346  degrees of freedom\n",
       "Residual deviance: 23812  on 17345  degrees of freedom\n",
       "AIC: 23816\n",
       "\n",
       "Number of Fisher Scoring iterations: 4\n"
      ]
     },
     "metadata": {},
     "output_type": "display_data"
    }
   ],
   "source": [
    "summary(zero.binom)"
   ]
  },
  {
   "cell_type": "markdown",
   "metadata": {},
   "source": [
    "Zero portion of the combined gamma-binomial has an AIC of 23816 shows that the model can handle that part of the data."
   ]
  },
  {
   "cell_type": "code",
   "execution_count": 38,
   "metadata": {},
   "outputs": [],
   "source": [
    "pred.zero.binom <- predict(zero.binom, \n",
    "                                    newdata = test, \n",
    "                               type = \"response\")"
   ]
  },
  {
   "cell_type": "code",
   "execution_count": null,
   "metadata": {},
   "outputs": [],
   "source": [
    "#### Precision = True Positives / (True Positives + False Positives)"
   ]
  },
  {
   "cell_type": "code",
   "execution_count": 39,
   "metadata": {
    "scrolled": false
   },
   "outputs": [
    {
     "data": {
      "text/html": [
       "0.659712814955297"
      ],
      "text/latex": [
       "0.659712814955297"
      ],
      "text/markdown": [
       "0.659712814955297"
      ],
      "text/plain": [
       "[1] 0.6597128"
      ]
     },
     "metadata": {},
     "output_type": "display_data"
    }
   ],
   "source": [
    "ModelMetrics::precision(test$positive, pred.zero.binom, 0.5)"
   ]
  },
  {
   "cell_type": "code",
   "execution_count": 40,
   "metadata": {},
   "outputs": [],
   "source": [
    "##### Recall = True Positives / (True Positives + False Negatives) "
   ]
  },
  {
   "cell_type": "code",
   "execution_count": 41,
   "metadata": {
    "scrolled": true
   },
   "outputs": [
    {
     "data": {
      "text/html": [
       "0.778452685421995"
      ],
      "text/latex": [
       "0.778452685421995"
      ],
      "text/markdown": [
       "0.778452685421995"
      ],
      "text/plain": [
       "[1] 0.7784527"
      ]
     },
     "metadata": {},
     "output_type": "display_data"
    }
   ],
   "source": [
    "ModelMetrics::recall(test$positive, pred.zero.binom, 0.5)"
   ]
  },
  {
   "cell_type": "code",
   "execution_count": 42,
   "metadata": {
    "scrolled": true
   },
   "outputs": [
    {
     "data": {
      "text/html": [
       "0.714180964950873"
      ],
      "text/latex": [
       "0.714180964950873"
      ],
      "text/markdown": [
       "0.714180964950873"
      ],
      "text/plain": [
       "[1] 0.714181"
      ]
     },
     "metadata": {},
     "output_type": "display_data"
    }
   ],
   "source": [
    "ModelMetrics::f1Score(test$positive, pred.zero.binom, 0.5)"
   ]
  },
  {
   "cell_type": "code",
   "execution_count": 43,
   "metadata": {
    "scrolled": true
   },
   "outputs": [
    {
     "data": {
      "text/html": [
       "<table>\n",
       "<tbody>\n",
       "\t<tr><td> 676</td><td> 693</td></tr>\n",
       "\t<tr><td>1256</td><td>2435</td></tr>\n",
       "</tbody>\n",
       "</table>\n"
      ],
      "text/latex": [
       "\\begin{tabular}{ll}\n",
       "\t  676 &  693\\\\\n",
       "\t 1256 & 2435\\\\\n",
       "\\end{tabular}\n"
      ],
      "text/markdown": [
       "\n",
       "|  676 |  693 | \n",
       "| 1256 | 2435 | \n",
       "\n",
       "\n"
      ],
      "text/plain": [
       "     [,1] [,2]\n",
       "[1,]  676  693\n",
       "[2,] 1256 2435"
      ]
     },
     "metadata": {},
     "output_type": "display_data"
    }
   ],
   "source": [
    "ModelMetrics::confusionMatrix(test$positive, \n",
    "                              pred.zero.binom, 0.5)"
   ]
  },
  {
   "cell_type": "code",
   "execution_count": 44,
   "metadata": {
    "scrolled": true
   },
   "outputs": [
    {
     "data": {
      "text/html": [
       "0.6571451241177"
      ],
      "text/latex": [
       "0.6571451241177"
      ],
      "text/markdown": [
       "0.6571451241177"
      ],
      "text/plain": [
       "[1] 0.6571451"
      ]
     },
     "metadata": {},
     "output_type": "display_data"
    }
   ],
   "source": [
    "ModelMetrics::auc(test$positive, \n",
    "                              pred.zero.binom)"
   ]
  },
  {
   "cell_type": "markdown",
   "metadata": {},
   "source": [
    "Binomial zero count model gives moderate values for precision and recall0.66 and 0.78 respectively. The auc = 0.66. \n",
    "The more up and to the left (more TPR or sensitivity) the curve, then the better the AUC - i.e. the largr the area under the curve, then the better the model performance."
   ]
  },
  {
   "cell_type": "code",
   "execution_count": 45,
   "metadata": {},
   "outputs": [
    {
     "data": {
      "text/plain": [
       "$cutoffs\n",
       "[1] 1.0000000 1.0000000 0.3818182 0.0000000\n",
       "\n",
       "$measure\n",
       "[1] NaN  NA  NA   0\n",
       "\n",
       "attr(,\"class\")\n",
       "[1] \"AUC\"         \"specificity\""
      ]
     },
     "metadata": {},
     "output_type": "display_data"
    }
   ],
   "source": [
    "AUC::specificity(test$positive, pred.zero.binom, perc.rank = TRUE)"
   ]
  },
  {
   "cell_type": "code",
   "execution_count": 46,
   "metadata": {
    "scrolled": true
   },
   "outputs": [
    {
     "data": {
      "image/png": "[encoded data removed]",
      "text/plain": [
       "Plot with title \"ROC - Binomial logit zero counts model\""
      ]
     },
     "metadata": {},
     "output_type": "display_data"
    }
   ],
   "source": [
    "predict.roc <- prediction(pred.zero.binom, test$positive)\n",
    "roc <- performance(predict.roc, \"tpr\", \"fpr\")\n",
    "plot(roc, col = \"blue\", main = \"ROC - Binomial logit zero counts model\") \n",
    "legend(x = \"center\", legend = \"AUC = 66%\", fill = \"blue\")"
   ]
  },
  {
   "cell_type": "markdown",
   "metadata": {},
   "source": [
    "Time  variable is significant using this model (gamma). AIC = 65,291\n",
    "If locations include (lon, lat) the model performance does not change. \n",
    "AIC = 65,255 (not shown). However, lon is a significant variable (p-value = 0.1). \n",
    "Gamma model reduces the overdispersionin the data. \n",
    "Dispersion = 14.52 (non-zero data). This is in comparison to the dispersion = 62.37 of the overall data.\n",
    "\n",
    "\n",
    "Checked binomial logit seperately for count data. Time is a significant variable. AIC = 23,816. Again the performance is only slightly affected by inclusion of geo-coordinates, but the spatial variables were considered highly statistically significant (p-values < 0.01). AIC = 23,774 (not shown). The AUC (ROC lift) for the binomial model = 66% which is better than a baseline model of 50%."
   ]
  },
  {
   "cell_type": "markdown",
   "metadata": {},
   "source": [
    "###### Negative binomial model"
   ]
  },
  {
   "cell_type": "code",
   "execution_count": 49,
   "metadata": {
    "scrolled": true
   },
   "outputs": [],
   "source": [
    "negbin <- glm.nb(positive.counts ~ offset(log(totalpopulation)) + time, \n",
    "       data = train, init.theta = 2, link = \"log\")"
   ]
  },
  {
   "cell_type": "code",
   "execution_count": 50,
   "metadata": {
    "collapsed": true
   },
   "outputs": [
    {
     "data": {
      "text/plain": [
       "\n",
       "Call:\n",
       "glm.nb(formula = positive.counts ~ offset(log(totalpopulation)) + \n",
       "    time, data = train, init.theta = 0.3944712303, link = \"log\")\n",
       "\n",
       "Deviance Residuals: \n",
       "    Min       1Q   Median       3Q      Max  \n",
       "-2.4237  -1.0756  -0.6294  -0.0328  12.0842  \n",
       "\n",
       "Coefficients:\n",
       "             Estimate Std. Error z value Pr(>|z|)    \n",
       "(Intercept) -9.522678   0.039444 -241.42   <2e-16 ***\n",
       "time         0.090591   0.004901   18.48   <2e-16 ***\n",
       "---\n",
       "Signif. codes:  0 '***' 0.001 '**' 0.01 '*' 0.05 '.' 0.1 ' ' 1\n",
       "\n",
       "(Dispersion parameter for Negative Binomial(0.3945) family taken to be 1)\n",
       "\n",
       "    Null deviance: 18151  on 17346  degrees of freedom\n",
       "Residual deviance: 17914  on 17345  degrees of freedom\n",
       "AIC: 76107\n",
       "\n",
       "Number of Fisher Scoring iterations: 1\n",
       "\n",
       "\n",
       "              Theta:  0.39447 \n",
       "          Std. Err.:  0.00554 \n",
       "\n",
       " 2 x log-likelihood:  -76100.97200 "
      ]
     },
     "metadata": {},
     "output_type": "display_data"
    }
   ],
   "source": [
    "summary(negbin)"
   ]
  },
  {
   "cell_type": "code",
   "execution_count": 51,
   "metadata": {},
   "outputs": [],
   "source": [
    "pred.negbin <- predict(negbin, newdata = test, type = \"response\")"
   ]
  },
  {
   "cell_type": "code",
   "execution_count": 52,
   "metadata": {},
   "outputs": [
    {
     "data": {
      "text/html": [
       "12.3551406840029"
      ],
      "text/latex": [
       "12.3551406840029"
      ],
      "text/markdown": [
       "12.3551406840029"
      ],
      "text/plain": [
       "[1] 12.35514"
      ]
     },
     "metadata": {},
     "output_type": "display_data"
    }
   ],
   "source": [
    "mean(abs(pred.negbin - test$positive.counts))"
   ]
  },
  {
   "cell_type": "markdown",
   "metadata": {},
   "source": [
    "Adding location variables lon and lat does not improve the model. \n",
    "AIC = 76,107 (time only) vs 76,098 (time + lon + lat). This is also reflected in the dispersion parameter theta and the Mean average error (MAE). \n",
    "Only the longitude parameter is significant. Latitude is not significant. This results is also reflected inmost GLM models examined."
   ]
  },
  {
   "cell_type": "code",
   "execution_count": null,
   "metadata": {},
   "outputs": [],
   "source": [
    "##### Zero inflated negative binomial"
   ]
  },
  {
   "cell_type": "code",
   "execution_count": 53,
   "metadata": {},
   "outputs": [],
   "source": [
    "zi.negbin <- zeroinfl(positive.counts ~ \n",
    "                   offset(log(totalpopulation)) + time, \n",
    "                data = train, dist = \"negbin\", zero.dist = \"binomial\", \n",
    "                      link = \"logit\",\n",
    "               control = zeroinfl.control(method = \"BFGS\", \n",
    "                                          maxit = 10000, EM = TRUE, \n",
    "                                         ))"
   ]
  },
  {
   "cell_type": "code",
   "execution_count": 54,
   "metadata": {},
   "outputs": [
    {
     "data": {
      "text/plain": [
       "\n",
       "Call:\n",
       "zeroinfl(formula = positive.counts ~ offset(log(totalpopulation)) + time, \n",
       "    data = train, dist = \"negbin\", link = \"logit\", control = zeroinfl.control(method = \"BFGS\", \n",
       "        maxit = 10000, EM = TRUE, ), zero.dist = \"binomial\")\n",
       "\n",
       "Pearson residuals:\n",
       "      Min        1Q    Median        3Q       Max \n",
       " -0.62840  -0.55661  -0.42366  -0.03268 125.58220 \n",
       "\n",
       "Count model coefficients (negbin with log link):\n",
       "             Estimate Std. Error z value Pr(>|z|)    \n",
       "(Intercept) -9.510922   0.046606 -204.07   <2e-16 ***\n",
       "time         0.089131   0.005868   15.19   <2e-16 ***\n",
       "Log(theta)  -0.925550   0.014175  -65.29   <2e-16 ***\n",
       "\n",
       "Zero-inflation model coefficients (binomial with logit link):\n",
       "            Estimate Std. Error z value Pr(>|z|)\n",
       "(Intercept)    2.513    174.740   0.014    0.989\n",
       "time         -14.532    174.736  -0.083    0.934\n",
       "---\n",
       "Signif. codes:  0 '***' 0.001 '**' 0.01 '*' 0.05 '.' 0.1 ' ' 1 \n",
       "\n",
       "Theta = 0.3963 \n",
       "Number of iterations in BFGS optimization: 1 \n",
       "Log-likelihood: -3.803e+04 on 5 Df"
      ]
     },
     "metadata": {},
     "output_type": "display_data"
    }
   ],
   "source": [
    "summary(zi.negbin)"
   ]
  },
  {
   "cell_type": "code",
   "execution_count": 56,
   "metadata": {
    "scrolled": false
   },
   "outputs": [
    {
     "data": {
      "text/html": [
       "<ol class=list-inline>\n",
       "\t<li>5</li>\n",
       "\t<li>76069.184812948</li>\n",
       "</ol>\n"
      ],
      "text/latex": [
       "\\begin{enumerate*}\n",
       "\\item 5\n",
       "\\item 76069.184812948\n",
       "\\end{enumerate*}\n"
      ],
      "text/markdown": [
       "1. 5\n",
       "2. 76069.184812948\n",
       "\n",
       "\n"
      ],
      "text/plain": [
       "[1]     5.00 76069.18"
      ]
     },
     "metadata": {},
     "output_type": "display_data"
    }
   ],
   "source": [
    "extractAIC(zi.negbin)"
   ]
  },
  {
   "cell_type": "code",
   "execution_count": 57,
   "metadata": {},
   "outputs": [],
   "source": [
    "lambda <- predict(zi.negbin, newdata = test, type = \"count\")"
   ]
  },
  {
   "cell_type": "code",
   "execution_count": 59,
   "metadata": {
    "scrolled": true
   },
   "outputs": [
    {
     "data": {
      "text/html": [
       "12.3577026776165"
      ],
      "text/latex": [
       "12.3577026776165"
      ],
      "text/markdown": [
       "12.3577026776165"
      ],
      "text/plain": [
       "[1] 12.3577"
      ]
     },
     "metadata": {},
     "output_type": "display_data"
    }
   ],
   "source": [
    "mean(abs(lambda - test$positive.counts))"
   ]
  },
  {
   "cell_type": "markdown",
   "metadata": {},
   "source": [
    "Performance of negative binomial GLM is similar to zeroinflated negative binomial"
   ]
  },
  {
   "cell_type": "code",
   "execution_count": null,
   "metadata": {},
   "outputs": [],
   "source": [
    "##### Zero inflated Poisson"
   ]
  },
  {
   "cell_type": "code",
   "execution_count": 60,
   "metadata": {},
   "outputs": [],
   "source": [
    "zi.poisson <- zeroinfl(positive.counts ~ \n",
    "                   offset(log(totalpopulation)) + time, \n",
    "                data = train, dist = \"poisson\", zero.dist = \"binomial\", \n",
    "                      link = \"logit\",\n",
    "               control = zeroinfl.control(method = \"BFGS\", \n",
    "                                          maxit = 10000, EM = TRUE, \n",
    "                                         ))"
   ]
  },
  {
   "cell_type": "code",
   "execution_count": 61,
   "metadata": {
    "scrolled": true
   },
   "outputs": [
    {
     "data": {
      "text/plain": [
       "\n",
       "Call:\n",
       "zeroinfl(formula = positive.counts ~ offset(log(totalpopulation)) + time, \n",
       "    data = train, dist = \"poisson\", link = \"logit\", control = zeroinfl.control(method = \"BFGS\", \n",
       "        maxit = 10000, EM = TRUE, ), zero.dist = \"binomial\")\n",
       "\n",
       "Pearson residuals:\n",
       "      Min        1Q    Median        3Q       Max \n",
       " -1.57685  -1.15441  -0.78604  -0.09301 131.98932 \n",
       "\n",
       "Count model coefficients (poisson with log link):\n",
       "              Estimate Std. Error  z value Pr(>|z|)    \n",
       "(Intercept) -9.0742237  0.0067370 -1346.92   <2e-16 ***\n",
       "time         0.0763327  0.0008085    94.41   <2e-16 ***\n",
       "\n",
       "Zero-inflation model coefficients (binomial with logit link):\n",
       "              Estimate Std. Error z value Pr(>|z|)    \n",
       "(Intercept) -11.821712   0.069329 -170.52  < 2e-16 ***\n",
       "time          0.023233   0.008702    2.67  0.00759 ** \n",
       "---\n",
       "Signif. codes:  0 '***' 0.001 '**' 0.01 '*' 0.05 '.' 0.1 ' ' 1 \n",
       "\n",
       "Number of iterations in BFGS optimization: 1 \n",
       "Log-likelihood: -2.143e+05 on 4 Df"
      ]
     },
     "metadata": {},
     "output_type": "display_data"
    }
   ],
   "source": [
    "summary(zi.poisson)"
   ]
  },
  {
   "cell_type": "code",
   "execution_count": 62,
   "metadata": {
    "scrolled": true
   },
   "outputs": [
    {
     "data": {
      "text/html": [
       "<ol class=list-inline>\n",
       "\t<li>4</li>\n",
       "\t<li>428690.757733087</li>\n",
       "</ol>\n"
      ],
      "text/latex": [
       "\\begin{enumerate*}\n",
       "\\item 4\n",
       "\\item 428690.757733087\n",
       "\\end{enumerate*}\n"
      ],
      "text/markdown": [
       "1. 4\n",
       "2. 428690.757733087\n",
       "\n",
       "\n"
      ],
      "text/plain": [
       "[1]      4.0 428690.8"
      ]
     },
     "metadata": {},
     "output_type": "display_data"
    }
   ],
   "source": [
    "extractAIC(zi.poisson)"
   ]
  },
  {
   "cell_type": "code",
   "execution_count": 63,
   "metadata": {},
   "outputs": [],
   "source": [
    "lambda <- predict(zi.poisson, newdata = test, type = \"count\")"
   ]
  },
  {
   "cell_type": "code",
   "execution_count": 64,
   "metadata": {
    "scrolled": false
   },
   "outputs": [
    {
     "data": {
      "text/html": [
       "14.675111222985"
      ],
      "text/latex": [
       "14.675111222985"
      ],
      "text/markdown": [
       "14.675111222985"
      ],
      "text/plain": [
       "[1] 14.67511"
      ]
     },
     "metadata": {},
     "output_type": "display_data"
    }
   ],
   "source": [
    "mean(abs(lambda - test$positive.counts))"
   ]
  },
  {
   "cell_type": "markdown",
   "metadata": {},
   "source": [
    "Performance of Poisson is similar to negative binomial and ZINB in terms of the MAE 12.36 vs 14.68. However the model performance is 5 times worse AIC = 428,691 (76,107 for NB)"
   ]
  },
  {
   "cell_type": "markdown",
   "metadata": {},
   "source": [
    "The positive count data has an AIC for a gamma null model that is lower than the negbin and zeroinflated models, AIC = 65,291. The gamma null model does reflect that the overdispersion of the data (47.88) remains. \n",
    "Baseline gamma with time included does a better job of predicting counts, AIC = 66,092 vs 76,109 for negative binomial and zero inflated negative binomial(ZINB 76,069).\n",
    "The addition of location variables again does not alter model results and only the lon is significant.\n",
    "The NB and ZINB handles the overdispersion aspect of data with theta = 0.3945 and 0.396 respectively.\n",
    "The inclusion of lon and lat in negative binomial and ZINB does not alter model results. \n",
    "However lon is statistically significant. This is also reflected in the variable importance results where lon is the more important variable. None of the variables in the zero model are significant.\n",
    "The Poisson model gives the worst performance with AIC = 428, 691. However all of the variables are statistically significant with and without lon + lat included - in both the count and zero models.\n",
    "The long tail of the data is still significant with respect to a gamma model."
   ]
  },
  {
   "cell_type": "markdown",
   "metadata": {},
   "source": [
    "The model selected is the negative binomial.\n",
    "Currently STSS with all of the data returns MILAN TN as having highest score. City has only one positive sentiment.\n",
    "Try different modifications of positive counts with the best GLM model negative binomial:-\n",
    "1.Positive counts >= mean daily positive counts. mean = 11. Use 10.\n",
    "2. Total positive counts at any location >= daily positive counts * total time period (11 * 12 days). This gives 132. Use 130 as a good approximation.\n",
    "3. Select cities with total population >= 50,000. This is between the median and mean\n",
    "\n",
    "will give areas with more data. As an approximation use positive counts >= 130"
   ]
  },
  {
   "cell_type": "code",
   "execution_count": 67,
   "metadata": {},
   "outputs": [
    {
     "data": {
      "text/plain": [
       "   Min. 1st Qu.  Median    Mean 3rd Qu.    Max. \n",
       "     18    7787   20992   63439   55944 8426743 "
      ]
     },
     "metadata": {},
     "output_type": "display_data"
    }
   ],
   "source": [
    "summary(count.pos.pop$totalpopulation)"
   ]
  },
  {
   "cell_type": "code",
   "execution_count": null,
   "metadata": {},
   "outputs": [],
   "source": [
    "#### Modify baseline negative binomial using cities (data points) with daily tweets >= 10"
   ]
  },
  {
   "cell_type": "code",
   "execution_count": 68,
   "metadata": {},
   "outputs": [],
   "source": [
    "set.seed(20190126)\n",
    "train.10 <- count.pos.pop %>%\n",
    "                filter(positive.counts >= 10) %>%\n",
    "                group_by(location, add = FALSE) %>%\n",
    "                    dplyr::sample_frac(0.75) %>%\n",
    "                \n",
    "            as.data.frame()"
   ]
  },
  {
   "cell_type": "code",
   "execution_count": 69,
   "metadata": {
    "scrolled": false
   },
   "outputs": [
    {
     "name": "stderr",
     "output_type": "stream",
     "text": [
      "Joining, by = c(\"yday\", \"location\", \"time\", \"location_total.counts\", \"positive.counts\", \"negative.counts\", \"neutral.counts\", \"counts\", \"lon\", \"lat\", \"totalpopulation\")\n"
     ]
    }
   ],
   "source": [
    "test.10 <- count.pos.pop %>%\n",
    "            #    filter(negative.counts >= 10) %>% \n",
    "                anti_join(train.10) #[sample$id, ]"
   ]
  },
  {
   "cell_type": "code",
   "execution_count": 70,
   "metadata": {
    "scrolled": true
   },
   "outputs": [],
   "source": [
    "negbin.10 <- glm.nb(positive.counts ~ offset(log(totalpopulation)) + time, \n",
    "       data = train.10, init.theta = 2, link = \"log\")"
   ]
  },
  {
   "cell_type": "code",
   "execution_count": 71,
   "metadata": {},
   "outputs": [
    {
     "data": {
      "text/plain": [
       "\n",
       "Call:\n",
       "glm.nb(formula = positive.counts ~ offset(log(totalpopulation)) + \n",
       "    time, data = train.10, init.theta = 0.8555660806, link = \"log\")\n",
       "\n",
       "Deviance Residuals: \n",
       "    Min       1Q   Median       3Q      Max  \n",
       "-2.0815  -1.0877  -0.6014   0.0064   9.6260  \n",
       "\n",
       "Coefficients:\n",
       "             Estimate Std. Error z value Pr(>|z|)    \n",
       "(Intercept) -7.893998   0.080856 -97.630  < 2e-16 ***\n",
       "time         0.048363   0.009907   4.882 1.05e-06 ***\n",
       "---\n",
       "Signif. codes:  0 '***' 0.001 '**' 0.01 '*' 0.05 '.' 0.1 ' ' 1\n",
       "\n",
       "(Dispersion parameter for Negative Binomial(0.8556) family taken to be 1)\n",
       "\n",
       "    Null deviance: 2348.6  on 1883  degrees of freedom\n",
       "Residual deviance: 2330.8  on 1882  degrees of freedom\n",
       "AIC: 19481\n",
       "\n",
       "Number of Fisher Scoring iterations: 1\n",
       "\n",
       "\n",
       "              Theta:  0.8556 \n",
       "          Std. Err.:  0.0256 \n",
       "\n",
       " 2 x log-likelihood:  -19474.9740 "
      ]
     },
     "metadata": {},
     "output_type": "display_data"
    }
   ],
   "source": [
    "summary(negbin.10)"
   ]
  },
  {
   "cell_type": "code",
   "execution_count": 72,
   "metadata": {},
   "outputs": [],
   "source": [
    "pred.negbin.10 <- predict(negbin.10, newdata = test.10, type = \"response\")"
   ]
  },
  {
   "cell_type": "code",
   "execution_count": 73,
   "metadata": {
    "scrolled": false
   },
   "outputs": [
    {
     "data": {
      "text/html": [
       "20.8653682956282"
      ],
      "text/latex": [
       "20.8653682956282"
      ],
      "text/markdown": [
       "20.8653682956282"
      ],
      "text/plain": [
       "[1] 20.86537"
      ]
     },
     "metadata": {},
     "output_type": "display_data"
    }
   ],
   "source": [
    "mean(abs(pred.negbin.10 - test.10$positive.counts))"
   ]
  },
  {
   "cell_type": "code",
   "execution_count": null,
   "metadata": {},
   "outputs": [],
   "source": [
    "## Modify negative binomial using cities with total positive counts >= 130. \n",
    "## Approx. mean tweets * total time period = 11 * 12 = 132"
   ]
  },
  {
   "cell_type": "code",
   "execution_count": 135,
   "metadata": {},
   "outputs": [],
   "source": [
    "count.130 <- subset(count.pos.spat, positive.counts >= 130)\n",
    "count.pos.pop.130 <- count.pos.pop %>% \n",
    "                        inner_join(count.130[\"location\"], \n",
    "                                   by = \"location\")"
   ]
  },
  {
   "cell_type": "code",
   "execution_count": 78,
   "metadata": {},
   "outputs": [],
   "source": [
    "set.seed(20190126)\n",
    "train.130 <- count.pos.pop.130 %>%\n",
    "              #  filter(positive.counts >= 130) %>%\n",
    "                group_by(location, add = FALSE) %>%\n",
    "                    dplyr::sample_frac(0.75) %>%\n",
    "                \n",
    "            as.data.frame()"
   ]
  },
  {
   "cell_type": "code",
   "execution_count": 79,
   "metadata": {
    "scrolled": true
   },
   "outputs": [
    {
     "name": "stderr",
     "output_type": "stream",
     "text": [
      "Joining, by = c(\"yday\", \"location\", \"time\", \"location_total.counts\", \"positive.counts\", \"negative.counts\", \"neutral.counts\", \"counts\", \"lon\", \"lat\", \"totalpopulation\")\n"
     ]
    }
   ],
   "source": [
    "test.130 <- count.pos.pop.130 %>%\n",
    "            #    filter(negative.counts >= 10) %>% \n",
    "                anti_join(train.130) #[sample$id, ]"
   ]
  },
  {
   "cell_type": "code",
   "execution_count": null,
   "metadata": {},
   "outputs": [],
   "source": [
    "###### Check negative binomial results using cities with total positive counts >= 130"
   ]
  },
  {
   "cell_type": "code",
   "execution_count": 80,
   "metadata": {
    "scrolled": true
   },
   "outputs": [],
   "source": [
    "negbin.130 <- glm.nb(positive.counts ~ offset(log(totalpopulation)) + time, \n",
    "       data = train.130, init.theta = 2, link = \"log\")"
   ]
  },
  {
   "cell_type": "code",
   "execution_count": 81,
   "metadata": {
    "scrolled": true
   },
   "outputs": [
    {
     "data": {
      "text/plain": [
       "\n",
       "Call:\n",
       "glm.nb(formula = positive.counts ~ offset(log(totalpopulation)) + \n",
       "    time, data = train.130, init.theta = 0.5378891248, link = \"log\")\n",
       "\n",
       "Deviance Residuals: \n",
       "    Min       1Q   Median       3Q      Max  \n",
       "-2.8256  -1.0812  -0.6254  -0.1036   8.5630  \n",
       "\n",
       "Coefficients:\n",
       "            Estimate Std. Error z value Pr(>|z|)    \n",
       "(Intercept) -9.35733    0.08229 -113.71   <2e-16 ***\n",
       "time         0.21107    0.01086   19.43   <2e-16 ***\n",
       "---\n",
       "Signif. codes:  0 '***' 0.001 '**' 0.01 '*' 0.05 '.' 0.1 ' ' 1\n",
       "\n",
       "(Dispersion parameter for Negative Binomial(0.5379) family taken to be 1)\n",
       "\n",
       "    Null deviance: 2194.9  on 1579  degrees of freedom\n",
       "Residual deviance: 1993.9  on 1578  degrees of freedom\n",
       "AIC: 15930\n",
       "\n",
       "Number of Fisher Scoring iterations: 1\n",
       "\n",
       "\n",
       "              Theta:  0.5379 \n",
       "          Std. Err.:  0.0173 \n",
       "\n",
       " 2 x log-likelihood:  -15924.1190 "
      ]
     },
     "metadata": {},
     "output_type": "display_data"
    }
   ],
   "source": [
    "summary(negbin.130)"
   ]
  },
  {
   "cell_type": "code",
   "execution_count": 82,
   "metadata": {},
   "outputs": [],
   "source": [
    "pred.negbin.130 <- predict(negbin.130, newdata = test.130, type = \"response\")"
   ]
  },
  {
   "cell_type": "code",
   "execution_count": 83,
   "metadata": {
    "scrolled": false
   },
   "outputs": [
    {
     "data": {
      "text/html": [
       "147.604353674869"
      ],
      "text/latex": [
       "147.604353674869"
      ],
      "text/markdown": [
       "147.604353674869"
      ],
      "text/plain": [
       "[1] 147.6044"
      ]
     },
     "metadata": {},
     "output_type": "display_data"
    }
   ],
   "source": [
    "mean(abs(pred.negbin.130 - test.130$positive.counts))"
   ]
  },
  {
   "cell_type": "markdown",
   "metadata": {},
   "source": [
    "The AIC of the negative binomial model improved significantly once the small count data is removed. AIC = 19,948.\n",
    "The dispersion increases to 0.856, but the model is able to account for overdispersion as theta < 1.\n",
    "\n",
    "Using locations with tweets >= 130 over the entire timeperiod. improves the AIC = 15,930, but the MAE increases to 147.6 showing the effects of the long tail data. The model however still handles overdispersion, theta = \n",
    "\n",
    "Overall all models indicate that the temporal component is not important in these overdispered models in predicting positive counts. Time however can be important in spatiotemporal analysis. These generalized linear models themselves did not do a good job in predicting the temporality or spatiality of positive counts (based on mean average error (MAE) and AUC), but were useful in confirming:-\n",
    "1. Zero-inflated/hurdle data\n",
    "2. Overdispersion exists\n",
    "3. Which scanstatistics method(s) will be useful in clustering\n",
    "4. Or providing a baseline for the STSS segmentation?\n",
    "\n",
    "Improve baseline models using scanstatistics. The X  version of scanstatistics was chosen based on the above model results."
   ]
  },
  {
   "cell_type": "code",
   "execution_count": null,
   "metadata": {},
   "outputs": [],
   "source": [
    "#### Check outlier population data and if it improves corrrelations"
   ]
  },
  {
   "cell_type": "code",
   "execution_count": 84,
   "metadata": {},
   "outputs": [],
   "source": [
    "getpop <- count.pos.pop %>% filter(totalpopulation <=8000000 & totalpopulation > 50000) %>%\n",
    "group_by(location, totalpopulation) %>% \n",
    "                                    summarise(positive.counts = sum(positive.counts))"
   ]
  },
  {
   "cell_type": "code",
   "execution_count": 85,
   "metadata": {},
   "outputs": [
    {
     "data": {
      "text/plain": [
       "\n",
       "\tPearson's product-moment correlation\n",
       "\n",
       "data:  getpop$totalpopulation and getpop$positive.counts\n",
       "t = 18.277, df = 675, p-value < 2.2e-16\n",
       "alternative hypothesis: true correlation is not equal to 0\n",
       "95 percent confidence interval:\n",
       " 0.5226754 0.6236791\n",
       "sample estimates:\n",
       "      cor \n",
       "0.5753668 \n"
      ]
     },
     "metadata": {},
     "output_type": "display_data"
    }
   ],
   "source": [
    "cor.test(getpop$totalpopulation, getpop$positive.counts)"
   ]
  },
  {
   "cell_type": "code",
   "execution_count": null,
   "metadata": {},
   "outputs": [],
   "source": [
    "Correlation improved from 0.404 to 0.575, but is still not highly correlated"
   ]
  },
  {
   "cell_type": "code",
   "execution_count": 86,
   "metadata": {},
   "outputs": [
    {
     "name": "stderr",
     "output_type": "stream",
     "text": [
      "`geom_smooth()` using method = 'loess' and formula 'y ~ x'\n"
     ]
    },
    {
     "data": {},
     "metadata": {},
     "output_type": "display_data"
    },
    {
     "data": {
      "image/png": "[encoded data removed]",
      "text/plain": [
       "plot without title"
      ]
     },
     "metadata": {},
     "output_type": "display_data"
    }
   ],
   "source": [
    "ggplot(aes(x = totalpopulation/1000, y = positive.counts), data = getpop) +\n",
    "geom_point(color = \"blue\", fill = \"blue\") +\n",
    "geom_smooth()"
   ]
  },
  {
   "cell_type": "code",
   "execution_count": null,
   "metadata": {},
   "outputs": [],
   "source": [
    "#### Check negative binomial results using cities with populations > 50,000"
   ]
  },
  {
   "cell_type": "code",
   "execution_count": 88,
   "metadata": {},
   "outputs": [],
   "source": [
    "count.pos.pop.50k <- subset(count.pos.pop, totalpopulation >= 50000)# & \n",
    "                           #totalpopulation < 8000000)"
   ]
  },
  {
   "cell_type": "code",
   "execution_count": 89,
   "metadata": {},
   "outputs": [],
   "source": [
    "set.seed(20190126)\n",
    "train.50k <- count.pos.pop.50k %>%\n",
    "              #  filter(positive.counts >= 130) %>%\n",
    "                group_by(location, add = FALSE) %>%\n",
    "                    dplyr::sample_frac(0.75) %>%\n",
    "                \n",
    "            as.data.frame()"
   ]
  },
  {
   "cell_type": "code",
   "execution_count": 90,
   "metadata": {
    "scrolled": true
   },
   "outputs": [
    {
     "name": "stderr",
     "output_type": "stream",
     "text": [
      "Joining, by = c(\"yday\", \"location\", \"time\", \"location_total.counts\", \"positive.counts\", \"negative.counts\", \"neutral.counts\", \"counts\", \"lon\", \"lat\", \"totalpopulation\")\n"
     ]
    }
   ],
   "source": [
    "test.50k <- count.pos.pop.50k %>%\n",
    "            #    filter(negative.counts >= 10) %>% \n",
    "                anti_join(train.50k) #[sample$id, ]"
   ]
  },
  {
   "cell_type": "code",
   "execution_count": 91,
   "metadata": {},
   "outputs": [],
   "source": [
    "negbin.50k <- glm.nb(positive.counts ~ offset(log(totalpopulation)) + time, \n",
    "       data = train.50k, init.theta = 2, link = \"log\")"
   ]
  },
  {
   "cell_type": "code",
   "execution_count": 92,
   "metadata": {
    "collapsed": true
   },
   "outputs": [
    {
     "data": {
      "text/plain": [
       "\n",
       "Call:\n",
       "glm.nb(formula = positive.counts ~ offset(log(totalpopulation)) + \n",
       "    time, data = train.50k, init.theta = 0.4142093074, link = \"log\")\n",
       "\n",
       "Deviance Residuals: \n",
       "    Min       1Q   Median       3Q      Max  \n",
       "-2.4140  -1.0822  -0.6628  -0.1195   9.8616  \n",
       "\n",
       "Coefficients:\n",
       "             Estimate Std. Error z value Pr(>|z|)    \n",
       "(Intercept) -9.914169   0.060427 -164.07   <2e-16 ***\n",
       "time         0.119486   0.007775   15.37   <2e-16 ***\n",
       "---\n",
       "Signif. codes:  0 '***' 0.001 '**' 0.01 '*' 0.05 '.' 0.1 ' ' 1\n",
       "\n",
       "(Dispersion parameter for Negative Binomial(0.4142) family taken to be 1)\n",
       "\n",
       "    Null deviance: 5479.3  on 4676  degrees of freedom\n",
       "Residual deviance: 5321.5  on 4675  degrees of freedom\n",
       "AIC: 31826\n",
       "\n",
       "Number of Fisher Scoring iterations: 1\n",
       "\n",
       "\n",
       "              Theta:  0.41421 \n",
       "          Std. Err.:  0.00856 \n",
       "\n",
       " 2 x log-likelihood:  -31820.26100 "
      ]
     },
     "metadata": {},
     "output_type": "display_data"
    }
   ],
   "source": [
    "summary(negbin.50k)"
   ]
  },
  {
   "cell_type": "code",
   "execution_count": 93,
   "metadata": {},
   "outputs": [],
   "source": [
    "pred.negbin.50k <- predict(negbin.50k, newdata = test.50k, type = \"response\")"
   ]
  },
  {
   "cell_type": "code",
   "execution_count": 94,
   "metadata": {
    "scrolled": false
   },
   "outputs": [
    {
     "data": {
      "text/html": [
       "31.6735583416495"
      ],
      "text/latex": [
       "31.6735583416495"
      ],
      "text/markdown": [
       "31.6735583416495"
      ],
      "text/plain": [
       "[1] 31.67356"
      ]
     },
     "metadata": {},
     "output_type": "display_data"
    }
   ],
   "source": [
    "mean(abs(pred.negbin.50k - test.50k$positive.counts))"
   ]
  },
  {
   "cell_type": "code",
   "execution_count": null,
   "metadata": {},
   "outputs": [],
   "source": [
    "Conclusion: \n",
    "1. Select negative binomial GLM\n",
    "2. Use data points where a city's total positive counts >= 130 as the basline model as a \n",
    "precursor to STSS\n",
    "3. Select scanstatistics expectation-based zero inflated poisson for the STSS model as \n",
    "    i. It handles both zero-inflated and overdispersed data. \n",
    "    ii. In testing it also gave the best results with respect to multiple clusters \n",
    "        returning statistically significant Monte-Carlo and Gumbel p-values "
   ]
  }
 ],
 "metadata": {
  "kernelspec": {
   "display_name": "R",
   "language": "R",
   "name": "ir"
  },
  "language_info": {
   "codemirror_mode": "r",
   "file_extension": ".r",
   "mimetype": "text/x-r-source",
   "name": "R",
   "pygments_lexer": "r",
   "version": "3.5.1"
  }
 },
 "nbformat": 4,
 "nbformat_minor": 2
}
