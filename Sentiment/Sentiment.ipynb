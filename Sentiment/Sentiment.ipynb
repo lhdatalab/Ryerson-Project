{
 "cells": [
  {
   "cell_type": "code",
   "execution_count": 2,
   "metadata": {
    "collapsed": true
   },
   "outputs": [
    {
     "name": "stderr",
     "output_type": "stream",
     "text": [
      "Loading required package: gsubfn\n",
      "Loading required package: proto\n",
      "Loading required package: RSQLite\n",
      "\n",
      "Attaching package: 'dplyr'\n",
      "\n",
      "The following object is masked from 'package:gridExtra':\n",
      "\n",
      "    combine\n",
      "\n",
      "The following objects are masked from 'package:stats':\n",
      "\n",
      "    filter, lag\n",
      "\n",
      "The following objects are masked from 'package:base':\n",
      "\n",
      "    intersect, setdiff, setequal, union\n",
      "\n",
      "\n",
      "Attaching package: 'lubridate'\n",
      "\n",
      "The following object is masked from 'package:base':\n",
      "\n",
      "    date\n",
      "\n",
      "\n",
      "Attaching package: 'GGally'\n",
      "\n",
      "The following object is masked from 'package:dplyr':\n",
      "\n",
      "    nasa\n",
      "\n",
      "Loading required package: lattice\n",
      "Loading required package: MASS\n",
      "\n",
      "Attaching package: 'MASS'\n",
      "\n",
      "The following object is masked from 'package:dplyr':\n",
      "\n",
      "    select\n",
      "\n",
      "\n",
      "Attaching package: 'memisc'\n",
      "\n",
      "The following object is masked from 'package:scales':\n",
      "\n",
      "    percent\n",
      "\n",
      "The following object is masked from 'package:lubridate':\n",
      "\n",
      "    is.interval\n",
      "\n",
      "The following objects are masked from 'package:dplyr':\n",
      "\n",
      "    collect, recode, rename, syms\n",
      "\n",
      "The following object is masked from 'package:ggplot2':\n",
      "\n",
      "    syms\n",
      "\n",
      "The following objects are masked from 'package:stats':\n",
      "\n",
      "    contr.sum, contr.treatment, contrasts\n",
      "\n",
      "The following object is masked from 'package:base':\n",
      "\n",
      "    as.array\n",
      "\n",
      "rgeos version: 0.3-28, (SVN revision 572)\n",
      " GEOS runtime version: 3.6.1-CAPI-1.10.1 r0 \n",
      " Linking to sp version: 1.3-1 \n",
      " Polygon checking: TRUE \n",
      "\n",
      "rgdal: version: 1.3-4, (SVN revision 766)\n",
      " Geospatial Data Abstraction Library extensions to R successfully loaded\n",
      " Loaded GDAL runtime: GDAL 2.2.3, released 2017/11/20\n",
      " Path to GDAL shared files: C:/MathLabASUS/SW/DM/Anaconda2/envs/rconda/Lib/R/library/rgdal/gdal\n",
      " GDAL binary built with GEOS: TRUE \n",
      " Loaded PROJ.4 runtime: Rel. 4.9.3, 15 August 2016, [PJ_VERSION: 493]\n",
      " Path to PROJ.4 shared files: C:/MathLabASUS/SW/DM/Anaconda2/envs/rconda/Lib/R/library/rgdal/proj\n",
      " Linking to sp version: 1.3-1 \n",
      "Checking rgeos availability: TRUE\n",
      "Warning message:\n",
      "\"package 'maps' was built under R version 3.5.3\"\n",
      "Attaching package: 'cluster'\n",
      "\n",
      "The following object is masked from 'package:maps':\n",
      "\n",
      "    votes.repub\n",
      "\n",
      "\n",
      "Attaching package: 'fastcluster'\n",
      "\n",
      "The following object is masked from 'package:stats':\n",
      "\n",
      "    hclust\n",
      "\n",
      "Welcome! Related Books: `Practical Guide To Cluster Analysis in R` at https://goo.gl/13EFCZ\n",
      "Creating a generic function for 'toJSON' from package 'jsonlite' in package 'googleVis'\n",
      "\n",
      "Welcome to googleVis version 0.6.2\n",
      "\n",
      "Please read Google's Terms of Use\n",
      "before you start using the package:\n",
      "https://developers.google.com/terms/\n",
      "\n",
      "Note, the plot method of googleVis will by default use\n",
      "the standard browser to display its output.\n",
      "\n",
      "See the googleVis package vignettes for more details,\n",
      "or visit http://github.com/mages/googleVis.\n",
      "\n",
      "To suppress this message use:\n",
      "suppressPackageStartupMessages(library(googleVis))\n",
      "\n",
      "Loading required package: DBI\n",
      "\n",
      "Attaching package: 'RMySQL'\n",
      "\n",
      "The following object is masked from 'package:RSQLite':\n",
      "\n",
      "    isIdCurrent\n",
      "\n",
      "\n",
      "Attaching package: 'data.table'\n",
      "\n",
      "The following objects are masked from 'package:lubridate':\n",
      "\n",
      "    hour, isoweek, mday, minute, month, quarter, second, wday, week,\n",
      "    yday, year\n",
      "\n",
      "The following objects are masked from 'package:dplyr':\n",
      "\n",
      "    between, first, last\n",
      "\n",
      "\n",
      "Attaching package: 'dbplyr'\n",
      "\n",
      "The following objects are masked from 'package:dplyr':\n",
      "\n",
      "    ident, sql\n",
      "\n",
      "\n",
      "Attaching package: 'httr'\n",
      "\n",
      "The following object is masked from 'package:memisc':\n",
      "\n",
      "    content\n",
      "\n",
      "\n",
      "Attaching package: 'slam'\n",
      "\n",
      "The following object is masked from 'package:data.table':\n",
      "\n",
      "    rollup\n",
      "\n",
      "Loading required package: NLP\n",
      "\n",
      "Attaching package: 'NLP'\n",
      "\n",
      "The following object is masked from 'package:httr':\n",
      "\n",
      "    content\n",
      "\n",
      "The following objects are masked from 'package:memisc':\n",
      "\n",
      "    annotation, content, content<-\n",
      "\n",
      "The following object is masked from 'package:ggplot2':\n",
      "\n",
      "    annotate\n",
      "\n",
      "Loading required package: SparseM\n",
      "\n",
      "Attaching package: 'SparseM'\n",
      "\n",
      "The following object is masked from 'package:base':\n",
      "\n",
      "    backsolve\n",
      "\n",
      "\n",
      "Attaching package: 'syuzhet'\n",
      "\n",
      "The following object is masked from 'package:scales':\n",
      "\n",
      "    rescale\n",
      "\n",
      "Warning message:\n",
      "\"package 'coreNLP' was built under R version 3.5.2\"Warning message:\n",
      "\"package 'sentimentr' was built under R version 3.5.2\"\n",
      "Attaching package: 'sentimentr'\n",
      "\n",
      "The following object is masked from 'package:syuzhet':\n",
      "\n",
      "    get_sentences\n",
      "\n",
      "The following object is masked from 'package:lexicon':\n",
      "\n",
      "    available_data\n",
      "\n"
     ]
    }
   ],
   "source": [
    "library(knitr)\n",
    "library(sqldf)\n",
    "library(ggplot2)\n",
    "library(mongolite)\n",
    "library(ggplot2)\n",
    "library(gridExtra)\n",
    "library(dplyr)\n",
    "library(tidyr)\n",
    "library(jsonlite)\n",
    "library(lubridate)\n",
    "library(gridExtra)\n",
    "library(GGally)\n",
    "library(scales)\n",
    "library(memisc)\n",
    " library(sp)\n",
    "library(rgeos)\n",
    "library(rgdal)\n",
    "library(maptools)\n",
    "library(RColorBrewer)\n",
    "library(maps)\n",
    "library(grid)\n",
    "library(cluster)\n",
    "#library(StatMatch)\n",
    "library(fastcluster)\n",
    "library(factoextra)\n",
    "library(stringr)\n",
    "library(googleVis)\n",
    "library(RMySQL)\n",
    "library(data.table)\n",
    "library(dbplyr)\n",
    "library(DBI)\n",
    "library(httr)\n",
    "library(slam)\n",
    "library(lda)\n",
    "library(topicmodels)\n",
    "library(stringi)\n",
    "library(tm)\n",
    "library(ldatuning)\n",
    "library(tidytext)\n",
    "library(RTextTools)\n",
    "library(lexicon)\n",
    "library(syuzhet)\n",
    "library(coreNLP)\n",
    "library(sentimentr)\n",
    "#library(clue)\n",
    "library(openssl)"
   ]
  },
  {
   "cell_type": "code",
   "execution_count": 3,
   "metadata": {},
   "outputs": [],
   "source": [
    "plot.format <- theme(axis.text = element_text(size = 14), legend.text = element_text(size = 14), legend.title = element_text(size = 14), axis.title = element_text(size = 18), plot.title = element_text(size = 18))"
   ]
  },
  {
   "cell_type": "code",
   "execution_count": 17,
   "metadata": {},
   "outputs": [],
   "source": [
    "doc.udp.en.lem <- fread(file=\"../Preprocessing/Files/Lexicon/docs_udp_en_lem.csv\", sep =\",\", header = TRUE, \n",
    "              stringsAsFactors=FALSE,\n",
    "             showProgress=getOption(\"datatable.showProgress\", interactive()), data.table=FALSE)"
   ]
  },
  {
   "cell_type": "code",
   "execution_count": 6,
   "metadata": {
    "collapsed": true
   },
   "outputs": [
    {
     "name": "stdout",
     "output_type": "stream",
     "text": [
      "'data.frame':\t7607581 obs. of  15 variables:\n",
      " $ doc_id       : chr  \"doc1\" \"doc1\" \"doc1\" \"doc1\" ...\n",
      " $ paragraph_id : int  1 1 1 1 1 1 1 1 1 1 ...\n",
      " $ sentence_id  : int  1 1 1 1 1 1 1 1 1 1 ...\n",
      " $ sentence     : chr  \"black teenage boys not men children stop referring year old man killing children\" \"black teenage boys not men children stop referring year old man killing children\" \"black teenage boys not men children stop referring year old man killing children\" \"black teenage boys not men children stop referring year old man killing children\" ...\n",
      " $ token_id     : int  1 2 3 4 5 6 7 8 9 10 ...\n",
      " $ token        : chr  \"black\" \"teenage\" \"boys\" \"not\" ...\n",
      " $ lemma        : chr  \"black\" \"teenage\" \"boy\" \"not\" ...\n",
      " $ upos         : chr  \"ADJ\" \"NOUN\" \"NOUN\" \"PART\" ...\n",
      " $ xpos         : chr  \"JJ\" \"NN\" \"NNS\" \"RB\" ...\n",
      " $ feats        : chr  \"Degree=Pos\" \"Number=Sing\" \"Number=Plur\" NA ...\n",
      " $ head_token_id: int  2 5 5 5 6 7 0 7 10 11 ...\n",
      " $ dep_rel      : chr  \"amod\" \"compound\" \"compound\" \"advmod\" ...\n",
      " $ deps         : logi  NA NA NA NA NA NA ...\n",
      " $ misc         : chr  NA NA NA NA ...\n",
      " $ text         : chr  \"black teenage boy not men child stop refer year old man kill child\" \"black teenage boy not men child stop refer year old man kill child\" \"black teenage boy not men child stop refer year old man kill child\" \"black teenage boy not men child stop refer year old man kill child\" ...\n"
     ]
    }
   ],
   "source": [
    "str(doc.udp.en.lem)"
   ]
  },
  {
   "cell_type": "code",
   "execution_count": 19,
   "metadata": {},
   "outputs": [],
   "source": [
    "doc.udp.en.lem$X <- NULL\n",
    "doc.udp.en.lem$V1 <- NULL"
   ]
  },
  {
   "cell_type": "code",
   "execution_count": null,
   "metadata": {},
   "outputs": [],
   "source": [
    "### Remove character \"a\" from text"
   ]
  },
  {
   "cell_type": "code",
   "execution_count": 21,
   "metadata": {},
   "outputs": [],
   "source": [
    "doc.udp.en.lem$text_mod <- gsub(\"\\\\s{1}a\\\\s{1}\", \"\\\\s{1}\", doc.udp.en.lem$text)"
   ]
  },
  {
   "cell_type": "code",
   "execution_count": 22,
   "metadata": {},
   "outputs": [],
   "source": [
    "full_text_en <- fread(file=\"../STSS/Files/Lexicon/full_text_en2_dc.csv\", sep =\",\", header = TRUE, \n",
    "              stringsAsFactors=FALSE,\n",
    "             showProgress=getOption(\"datatable.showProgress\", interactive()), data.table=FALSE)"
   ]
  },
  {
   "cell_type": "code",
   "execution_count": 23,
   "metadata": {},
   "outputs": [],
   "source": [
    "full_text_en$X <- NULL\n",
    "full_text_en$V1 <- NULL"
   ]
  },
  {
   "cell_type": "code",
   "execution_count": 24,
   "metadata": {},
   "outputs": [],
   "source": [
    "full_text_en_usa <- full_text_en %>%\n",
    "                                filter(!is.na(City_code)) %>%\n",
    "                                as.data.frame()"
   ]
  },
  {
   "cell_type": "code",
   "execution_count": null,
   "metadata": {},
   "outputs": [],
   "source": [
    "#### Get custom lexicon"
   ]
  },
  {
   "cell_type": "markdown",
   "metadata": {},
   "source": [
    "###### Use customise nrc_emotions lexicon"
   ]
  },
  {
   "cell_type": "code",
   "execution_count": 25,
   "metadata": {},
   "outputs": [],
   "source": [
    "nrc_emotions2 <- read.csv(\"../Sentiment/Files/Sentiment\\\\nrc_emotions2.csv\", \n",
    "                          stringsAsFactors = FALSE)"
   ]
  },
  {
   "cell_type": "code",
   "execution_count": 18,
   "metadata": {
    "collapsed": true
   },
   "outputs": [
    {
     "data": {
      "text/html": [
       "<table>\n",
       "<thead><tr><th scope=col>term</th><th scope=col>anger</th><th scope=col>disgust</th><th scope=col>fear</th><th scope=col>sadness</th><th scope=col>anticipation</th><th scope=col>joy</th><th scope=col>surprise</th><th scope=col>trust</th><th scope=col>sentiment</th><th scope=col>avg_sentiment</th><th scope=col>count</th></tr></thead>\n",
       "<tbody>\n",
       "\t<tr><td>aback      </td><td> 0         </td><td>0          </td><td> 0         </td><td> 0         </td><td>0          </td><td>0          </td><td>0          </td><td>0          </td><td> 0         </td><td> 0         </td><td>0          </td></tr>\n",
       "\t<tr><td>abacus     </td><td> 0         </td><td>0          </td><td> 0         </td><td> 0         </td><td>0          </td><td>0          </td><td>0          </td><td>1          </td><td> 1         </td><td> 1         </td><td>1          </td></tr>\n",
       "\t<tr><td>abandon    </td><td> 0         </td><td>0          </td><td>-1         </td><td>-1         </td><td>0          </td><td>0          </td><td>0          </td><td>0          </td><td>-2         </td><td>-1         </td><td>2          </td></tr>\n",
       "\t<tr><td>abandoned  </td><td>-1         </td><td>0          </td><td>-1         </td><td>-1         </td><td>0          </td><td>0          </td><td>0          </td><td>0          </td><td>-3         </td><td>-1         </td><td>3          </td></tr>\n",
       "\t<tr><td>abandonment</td><td>-1         </td><td>0          </td><td>-1         </td><td>-1         </td><td>0          </td><td>0          </td><td>1          </td><td>0          </td><td>-2         </td><td>-1         </td><td>4          </td></tr>\n",
       "\t<tr><td>abate      </td><td> 0         </td><td>0          </td><td> 0         </td><td> 0         </td><td>0          </td><td>0          </td><td>0          </td><td>0          </td><td> 0         </td><td> 0         </td><td>0          </td></tr>\n",
       "</tbody>\n",
       "</table>\n"
      ],
      "text/latex": [
       "\\begin{tabular}{r|llllllllllll}\n",
       " term & anger & disgust & fear & sadness & anticipation & joy & surprise & trust & sentiment & avg\\_sentiment & count\\\\\n",
       "\\hline\n",
       "\t aback       &  0          & 0           &  0          &  0          & 0           & 0           & 0           & 0           &  0          &  0          & 0          \\\\\n",
       "\t abacus      &  0          & 0           &  0          &  0          & 0           & 0           & 0           & 1           &  1          &  1          & 1          \\\\\n",
       "\t abandon     &  0          & 0           & -1          & -1          & 0           & 0           & 0           & 0           & -2          & -1          & 2          \\\\\n",
       "\t abandoned   & -1          & 0           & -1          & -1          & 0           & 0           & 0           & 0           & -3          & -1          & 3          \\\\\n",
       "\t abandonment & -1          & 0           & -1          & -1          & 0           & 0           & 1           & 0           & -2          & -1          & 4          \\\\\n",
       "\t abate       &  0          & 0           &  0          &  0          & 0           & 0           & 0           & 0           &  0          &  0          & 0          \\\\\n",
       "\\end{tabular}\n"
      ],
      "text/markdown": [
       "\n",
       "term | anger | disgust | fear | sadness | anticipation | joy | surprise | trust | sentiment | avg_sentiment | count | \n",
       "|---|---|---|---|---|---|\n",
       "| aback       |  0          | 0           |  0          |  0          | 0           | 0           | 0           | 0           |  0          |  0          | 0           | \n",
       "| abacus      |  0          | 0           |  0          |  0          | 0           | 0           | 0           | 1           |  1          |  1          | 1           | \n",
       "| abandon     |  0          | 0           | -1          | -1          | 0           | 0           | 0           | 0           | -2          | -1          | 2           | \n",
       "| abandoned   | -1          | 0           | -1          | -1          | 0           | 0           | 0           | 0           | -3          | -1          | 3           | \n",
       "| abandonment | -1          | 0           | -1          | -1          | 0           | 0           | 1           | 0           | -2          | -1          | 4           | \n",
       "| abate       |  0          | 0           |  0          |  0          | 0           | 0           | 0           | 0           |  0          |  0          | 0           | \n",
       "\n",
       "\n"
      ],
      "text/plain": [
       "  term        anger disgust fear sadness anticipation joy surprise trust\n",
       "1 aback        0    0        0    0      0            0   0        0    \n",
       "2 abacus       0    0        0    0      0            0   0        1    \n",
       "3 abandon      0    0       -1   -1      0            0   0        0    \n",
       "4 abandoned   -1    0       -1   -1      0            0   0        0    \n",
       "5 abandonment -1    0       -1   -1      0            0   1        0    \n",
       "6 abate        0    0        0    0      0            0   0        0    \n",
       "  sentiment avg_sentiment count\n",
       "1  0         0            0    \n",
       "2  1         1            1    \n",
       "3 -2        -1            2    \n",
       "4 -3        -1            3    \n",
       "5 -2        -1            4    \n",
       "6  0         0            0    "
      ]
     },
     "metadata": {},
     "output_type": "display_data"
    }
   ],
   "source": [
    "head(nrc_emotions2)"
   ]
  },
  {
   "cell_type": "code",
   "execution_count": 56,
   "metadata": {},
   "outputs": [
    {
     "name": "stderr",
     "output_type": "stream",
     "text": [
      "Warning message in as_key(nrc_emotions2[c(\"term\", \"avg_sentiment\")], comparison = lexicon::hash_valence_shifters, :\n",
      "\"One or more terms in the first column appear as terms in the comparison.\n",
      "  I found the following dubious fellas:\n",
      "\n",
      "   * acutely\n",
      "   * barely\n",
      "   * colossal\n",
      "   * decidedly\n",
      "   * enormous\n",
      "   * enormously\n",
      "   * extreme\n",
      "   * extremely\n",
      "   * greatly\n",
      "   * heavily\n",
      "   * high\n",
      "   * huge\n",
      "   * immense\n",
      "   * incalculable\n",
      "   * massive\n",
      "   * partly\n",
      "   * purpose\n",
      "   * purposely\n",
      "   * rarely\n",
      "   * real\n",
      "   * seldom\n",
      "   * severely\n",
      "   * significant\n",
      "   * slightly\n",
      "   * totally\n",
      "   * true\n",
      "   * vast\n",
      "   * wont\n",
      "\n",
      "These terms have been removed.\n",
      "\""
     ]
    }
   ],
   "source": [
    "nrc_emotions_key <- as_key(nrc_emotions2[c(\"term\", \"avg_sentiment\")], \n",
    "                           comparison = lexicon::hash_valence_shifters, sentiment = TRUE)"
   ]
  },
  {
   "cell_type": "markdown",
   "metadata": {},
   "source": [
    "write.csv(nrc_emotions_key, \"C:\\\\MathLabASUS\\\\Courses\\\\Ryerson\\\\Project\\\\Data\\\\Files\\\\Sentiment\\\\nrc_emotions_key.csv\")"
   ]
  },
  {
   "cell_type": "markdown",
   "metadata": {},
   "source": [
    "##### Get sentiment of documents using lowercase text, stopwords included, no hashtags for sentiment analysis"
   ]
  },
  {
   "cell_type": "code",
   "execution_count": 26,
   "metadata": {},
   "outputs": [],
   "source": [
    "full_text_low <- trimws(full_text_en_usa$full_text_low, \"both\")"
   ]
  },
  {
   "cell_type": "code",
   "execution_count": 57,
   "metadata": {},
   "outputs": [
    {
     "name": "stderr",
     "output_type": "stream",
     "text": [
      "Warning message:\n",
      "\"Each time `sentiment` is run it has to do sentence boundary disambiguation when a\n",
      "raw `character` vector is passed to `text.var`. This may be costly of time and\n",
      "memory.  It is highly recommended that the user first runs the raw `character`\n",
      "vector through the `get_sentences` function.\""
     ]
    }
   ],
   "source": [
    "doc.sentiment <- sentiment(full_text_low, polarity_dt = nrc_emotions_key, \n",
    "          valence_shifters_dt = lexicon::hash_valence_shifters)"
   ]
  },
  {
   "cell_type": "markdown",
   "metadata": {},
   "source": [
    "write.csv(doc.sentiment, \"C:\\\\MathLabASUS\\\\Courses\\\\Ryerson\\\\Project\\\\Data\\\\Files\\\\Sentiment\\\\doc_sentiment.csv\", \n",
    "         row.names = FALSE)"
   ]
  },
  {
   "cell_type": "markdown",
   "metadata": {},
   "source": [
    "doc.sentiment <- read.csv(\"C:\\\\MathLabASUS\\\\Courses\\\\Ryerson\\\\Project\\\\Data\\\\Files\\\\Sentiment\\\\doc_sentiment.csv\", \n",
    "                         stringsAsFactors =  FALSE)"
   ]
  },
  {
   "cell_type": "code",
   "execution_count": 15,
   "metadata": {
    "scrolled": true
   },
   "outputs": [
    {
     "name": "stdout",
     "output_type": "stream",
     "text": [
      "'data.frame':\t932321 obs. of  4 variables:\n",
      " $ element_id : int  1 2 3 4 5 6 7 8 9 10 ...\n",
      " $ sentence_id: int  1 1 1 1 1 1 1 1 1 1 ...\n",
      " $ word_count : int  22 13 8 5 11 11 11 17 11 17 ...\n",
      " $ sentiment  : num  -0.426 -0.277 -0.707 0 0 ...\n"
     ]
    }
   ],
   "source": [
    "str(doc.sentiment)"
   ]
  },
  {
   "cell_type": "code",
   "execution_count": 63,
   "metadata": {},
   "outputs": [
    {
     "data": {
      "text/html": [
       "2.85773803324704"
      ],
      "text/latex": [
       "2.85773803324704"
      ],
      "text/markdown": [
       "2.85773803324704"
      ],
      "text/plain": [
       "[1] 2.857738"
      ]
     },
     "metadata": {},
     "output_type": "display_data"
    }
   ],
   "source": [
    "max(doc.sentiment$sentiment)"
   ]
  },
  {
   "cell_type": "code",
   "execution_count": 4,
   "metadata": {},
   "outputs": [
    {
     "name": "stderr",
     "output_type": "stream",
     "text": [
      "`stat_bin()` using `bins = 30`. Pick better value with `binwidth`.\n"
     ]
    },
    {
     "data": {},
     "metadata": {},
     "output_type": "display_data"
    },
    {
     "data": {
      "image/png": "[encoded data removed]",
      "text/plain": [
       "plot without title"
      ]
     },
     "metadata": {},
     "output_type": "display_data"
    }
   ],
   "source": [
    "ggplot(aes(x = sentiment), data = doc.sentiment) +\n",
    "geom_histogram(color = \"blue\", fill = \"blue\") +\n",
    "scale_x_continuous(limits = c(-5, 5), breaks = seq(-5, 5, 1)) +\n",
    "labs(title = \"Sentiment distribution over entire corpus\\n 28% of documents have positive sentiment\")"
   ]
  },
  {
   "cell_type": "code",
   "execution_count": null,
   "metadata": {},
   "outputs": [],
   "source": [
    "##### Zoom in on highly positive and negative sentiments"
   ]
  },
  {
   "cell_type": "code",
   "execution_count": 5,
   "metadata": {},
   "outputs": [
    {
     "name": "stderr",
     "output_type": "stream",
     "text": [
      "`stat_bin()` using `bins = 30`. Pick better value with `binwidth`.\n",
      "Warning message:\n",
      "\"Removed 7 rows containing missing values (geom_bar).\""
     ]
    },
    {
     "data": {},
     "metadata": {},
     "output_type": "display_data"
    },
    {
     "data": {
      "image/png": "[encoded data removed]",
      "text/plain": [
       "plot without title"
      ]
     },
     "metadata": {},
     "output_type": "display_data"
    }
   ],
   "source": [
    "ggplot(aes(x = sentiment), data = doc.sentiment) +\n",
    "geom_histogram(color = \"blue\", fill = \"blue\") +\n",
    "scale_x_continuous(limits = c(-5, 5), breaks = seq(-5, 5, 1)) +\n",
    "scale_y_continuous(limits = c(0, 1500), breaks = seq(0, 1500, 500)) +\n",
    "labs(title = \"More than 1000 documents have a strong positive( > 1)\\n\n",
    "or negative (< -1) sentiment\")"
   ]
  },
  {
   "cell_type": "code",
   "execution_count": null,
   "metadata": {},
   "outputs": [],
   "source": [
    "#### Zoom in on tweets with sentiments in the -1 to 1 range"
   ]
  },
  {
   "cell_type": "code",
   "execution_count": 102,
   "metadata": {},
   "outputs": [
    {
     "data": {
      "text/html": [
       "55"
      ],
      "text/latex": [
       "55"
      ],
      "text/markdown": [
       "55"
      ],
      "text/plain": [
       "[1] 55"
      ]
     },
     "metadata": {},
     "output_type": "display_data"
    }
   ],
   "source": [
    "round((nrow(subset(doc.sentiment, sentiment >= 0.2 | sentiment <= -0.2)))/nrow(doc.sentiment) * 100)"
   ]
  },
  {
   "cell_type": "code",
   "execution_count": 6,
   "metadata": {},
   "outputs": [
    {
     "name": "stderr",
     "output_type": "stream",
     "text": [
      "`stat_bin()` using `bins = 30`. Pick better value with `binwidth`.\n",
      "Warning message:\n",
      "\"Removed 5117 rows containing non-finite values (stat_bin).\"Warning message:\n",
      "\"Removed 1 rows containing missing values (geom_bar).\""
     ]
    },
    {
     "data": {},
     "metadata": {},
     "output_type": "display_data"
    },
    {
     "data": {
      "image/png": "[encoded data removed]",
      "text/plain": [
       "plot without title"
      ]
     },
     "metadata": {},
     "output_type": "display_data"
    }
   ],
   "source": [
    "ggplot(aes(x = sentiment), data = doc.sentiment) +\n",
    "geom_histogram(color = \"blue\", fill = \"blue\") +\n",
    "scale_x_continuous(limits = c(-1, 1), breaks = seq(-1, 1, 0.1)) +\n",
    "labs(title = \"56% of the texts have sentiment values between 0.1 and 1\\n (exclusive of sign)\")"
   ]
  },
  {
   "cell_type": "code",
   "execution_count": 64,
   "metadata": {
    "scrolled": true
   },
   "outputs": [
    {
     "data": {
      "text/plain": [
       "     Min.   1st Qu.    Median      Mean   3rd Qu.      Max. \n",
       "-2.333333 -0.218218  0.000000  0.002005  0.223607  2.857738 "
      ]
     },
     "metadata": {},
     "output_type": "display_data"
    }
   ],
   "source": [
    "summary(doc.sentiment$sentiment, useNA = \"ifany\")"
   ]
  },
  {
   "cell_type": "code",
   "execution_count": 65,
   "metadata": {
    "scrolled": true
   },
   "outputs": [
    {
     "data": {
      "text/plain": [
       "   Min. 1st Qu.  Median    Mean 3rd Qu.    Max.    NA's \n",
       "   1.00   10.00   15.00   14.27   18.00   86.00      11 "
      ]
     },
     "metadata": {},
     "output_type": "display_data"
    }
   ],
   "source": [
    "summary(doc.sentiment$word_count)"
   ]
  },
  {
   "cell_type": "code",
   "execution_count": null,
   "metadata": {},
   "outputs": [],
   "source": [
    "##### Filter corpus to match documents in topic modelling - unique text_mod"
   ]
  },
  {
   "cell_type": "markdown",
   "metadata": {},
   "source": [
    "##### Load features that can be used for sentiment analysis"
   ]
  },
  {
   "cell_type": "code",
   "execution_count": 28,
   "metadata": {},
   "outputs": [],
   "source": [
    "sentiment.var <- full_text_en_usa %>% dplyr::select(one_of(c(\"textnum\", \"retweeted\", \n",
    "                                                             \"retweet\", \n",
    "                                                         \"favorited\", \"favorite_count\", \n",
    "                                                             \"yday\",\n",
    "                               \"possibly_sensitive\", \"tweet_type\", \"keyword_pos_hash\", \n",
    "                                 \"keyword_count_hash\", \"full_text_low\", \n",
    "                                 \"full_text_low_nostop\", \"lon\", \"lat\", \"n\", \n",
    "                                 \"City_code\", \"City2\", \"Code\"))) %>%\n",
    "                    as.data.frame()"
   ]
  },
  {
   "cell_type": "code",
   "execution_count": 112,
   "metadata": {
    "collapsed": true
   },
   "outputs": [
    {
     "data": {
      "text/html": [
       "<table>\n",
       "<thead><tr><th></th><th scope=col>term</th><th scope=col>anger</th><th scope=col>disgust</th><th scope=col>fear</th><th scope=col>sadness</th><th scope=col>anticipation</th><th scope=col>joy</th><th scope=col>surprise</th><th scope=col>trust</th><th scope=col>sentiment</th><th scope=col>avg_sentiment</th><th scope=col>count</th></tr></thead>\n",
       "<tbody>\n",
       "\t<tr><th scope=row>2142</th><td>civilian</td><td> 0      </td><td>0       </td><td> 0      </td><td> 0      </td><td>0       </td><td>0       </td><td>0       </td><td>0       </td><td> 0      </td><td> 0      </td><td>0       </td></tr>\n",
       "\t<tr><th scope=row>6163</th><td>hurt    </td><td>-1      </td><td>0       </td><td>-1      </td><td>-1      </td><td>0       </td><td>0       </td><td>0       </td><td>0       </td><td>-3      </td><td>-1      </td><td>3       </td></tr>\n",
       "\t<tr><th scope=row>9466</th><td>police  </td><td> 0      </td><td>0       </td><td>-1      </td><td> 0      </td><td>0       </td><td>0       </td><td>0       </td><td>1       </td><td> 0      </td><td> 0      </td><td>2       </td></tr>\n",
       "\t<tr><th scope=row>13992</th><td>wild    </td><td> 0      </td><td>0       </td><td> 0      </td><td> 0      </td><td>0       </td><td>0       </td><td>1       </td><td>0       </td><td> 1      </td><td> 1      </td><td>1       </td></tr>\n",
       "</tbody>\n",
       "</table>\n"
      ],
      "text/latex": [
       "\\begin{tabular}{r|llllllllllll}\n",
       "  & term & anger & disgust & fear & sadness & anticipation & joy & surprise & trust & sentiment & avg\\_sentiment & count\\\\\n",
       "\\hline\n",
       "\t2142 & civilian &  0       & 0        &  0       &  0       & 0        & 0        & 0        & 0        &  0       &  0       & 0       \\\\\n",
       "\t6163 & hurt     & -1       & 0        & -1       & -1       & 0        & 0        & 0        & 0        & -3       & -1       & 3       \\\\\n",
       "\t9466 & police   &  0       & 0        & -1       &  0       & 0        & 0        & 0        & 1        &  0       &  0       & 2       \\\\\n",
       "\t13992 & wild     &  0       & 0        &  0       &  0       & 0        & 0        & 1        & 0        &  1       &  1       & 1       \\\\\n",
       "\\end{tabular}\n"
      ],
      "text/markdown": [
       "\n",
       "| <!--/--> | term | anger | disgust | fear | sadness | anticipation | joy | surprise | trust | sentiment | avg_sentiment | count | \n",
       "|---|---|---|---|\n",
       "| 2142 | civilian |  0       | 0        |  0       |  0       | 0        | 0        | 0        | 0        |  0       |  0       | 0        | \n",
       "| 6163 | hurt     | -1       | 0        | -1       | -1       | 0        | 0        | 0        | 0        | -3       | -1       | 3        | \n",
       "| 9466 | police   |  0       | 0        | -1       |  0       | 0        | 0        | 0        | 1        |  0       |  0       | 2        | \n",
       "| 13992 | wild     |  0       | 0        |  0       |  0       | 0        | 0        | 1        | 0        |  1       |  1       | 1        | \n",
       "\n",
       "\n"
      ],
      "text/plain": [
       "      term     anger disgust fear sadness anticipation joy surprise trust\n",
       "2142  civilian  0    0        0    0      0            0   0        0    \n",
       "6163  hurt     -1    0       -1   -1      0            0   0        0    \n",
       "9466  police    0    0       -1    0      0            0   0        1    \n",
       "13992 wild      0    0        0    0      0            0   1        0    \n",
       "      sentiment avg_sentiment count\n",
       "2142   0         0            0    \n",
       "6163  -3        -1            3    \n",
       "9466   0         0            2    \n",
       "13992  1         1            1    "
      ]
     },
     "metadata": {},
     "output_type": "display_data"
    }
   ],
   "source": [
    "subset(nrc_emotions2, term %in% c(\"police\", \"officer\", \"hurt\", \"wild\", \"civilian\"))"
   ]
  },
  {
   "cell_type": "code",
   "execution_count": null,
   "metadata": {},
   "outputs": [],
   "source": [
    "#### Get count sentiment terms in each document - keyword count"
   ]
  },
  {
   "cell_type": "code",
   "execution_count": 22,
   "metadata": {},
   "outputs": [],
   "source": [
    "token.unq <- subset(doc.udp.en.lem[c(\"token\", \"lemma\")], !duplicated(token))"
   ]
  },
  {
   "cell_type": "code",
   "execution_count": 23,
   "metadata": {},
   "outputs": [],
   "source": [
    "nrc.lemma <- token.unq %>% inner_join(nrc_emotions2, \n",
    "                                      by = c(\"token\" = \"term\")) %>% as.data.frame()"
   ]
  },
  {
   "cell_type": "code",
   "execution_count": 41,
   "metadata": {
    "collapsed": true
   },
   "outputs": [
    {
     "data": {
      "text/html": [
       "'character'"
      ],
      "text/latex": [
       "'character'"
      ],
      "text/markdown": [
       "'character'"
      ],
      "text/plain": [
       "[1] \"character\""
      ]
     },
     "metadata": {},
     "output_type": "display_data"
    }
   ],
   "source": [
    "head(nrc.terms)"
   ]
  },
  {
   "cell_type": "code",
   "execution_count": 42,
   "metadata": {},
   "outputs": [],
   "source": [
    "nrc.terms <- str_c(nrc.lemma$token, collapse = \"|\")\n",
    "#nrc.terms <- str_c(c(\"black\", \"boy\", \"child\", \"man\", \"men\"), collapse = \"|\")"
   ]
  },
  {
   "cell_type": "code",
   "execution_count": 43,
   "metadata": {
    "scrolled": true
   },
   "outputs": [],
   "source": [
    "sentiment.var$keyword_count <- str_count(sentiment.var$full_text_low_nostop, nrc.terms)"
   ]
  },
  {
   "cell_type": "code",
   "execution_count": 44,
   "metadata": {
    "collapsed": true
   },
   "outputs": [
    {
     "data": {
      "text/html": [
       "<table>\n",
       "<thead><tr><th scope=col>textnum</th><th scope=col>retweeted</th><th scope=col>retweet</th><th scope=col>favorited</th><th scope=col>favorite_count</th><th scope=col>possibly_sensitive</th><th scope=col>tweet_type</th><th scope=col>keyword_pos_hash</th><th scope=col>keyword_count_hash</th><th scope=col>full_text_low</th><th scope=col>full_text_low_nostop</th><th scope=col>lon</th><th scope=col>lat</th><th scope=col>n</th><th scope=col>City_code</th><th scope=col>City2</th><th scope=col>Code</th><th scope=col>keyword_count</th></tr></thead>\n",
       "<tbody>\n",
       "\t<tr><td> 1                                                                                                              </td><td>FALSE                                                                                                           </td><td>0                                                                                                               </td><td>FALSE                                                                                                           </td><td>107                                                                                                             </td><td>NA                                                                                                              </td><td>All                                                                                                             </td><td>c(120, 128)                                                                                                     </td><td>1                                                                                                               </td><td>black teenage boys are not men they are children stop referring to a year old as a man you are killing children </td><td>black teenage boys not men children stop referring year old man killing children                                </td><td>-82.99890                                                                                                       </td><td>39.96136                                                                                                        </td><td> 5                                                                                                              </td><td>COLUMBUS OH                                                                                                     </td><td>COLUMBUS                                                                                                        </td><td>OH                                                                                                              </td><td>10                                                                                                              </td></tr>\n",
       "\t<tr><td> 2                                                                                                              </td><td>FALSE                                                                                                           </td><td>0                                                                                                               </td><td>FALSE                                                                                                           </td><td>  1                                                                                                             </td><td>NA                                                                                                              </td><td>SB                                                                                                              </td><td>c(87, 98, 96, 109)                                                                                              </td><td>2                                                                                                               </td><td> while there please tune in todays killing of the young black male in                                           </td><td>please tune todays killing young black male                                                                     </td><td>-84.38757                                                                                                       </td><td>33.74928                                                                                                        </td><td> 7                                                                                                              </td><td>ATLANTA GA                                                                                                      </td><td>ATLANTA                                                                                                         </td><td>GA                                                                                                              </td><td> 7                                                                                                              </td></tr>\n",
       "\t<tr><td> 4                                                                                                              </td><td>FALSE                                                                                                           </td><td>0                                                                                                               </td><td>FALSE                                                                                                           </td><td> 10                                                                                                             </td><td>NA                                                                                                              </td><td>All                                                                                                             </td><td>c(50, 60, 58, 67)                                                                                               </td><td>2                                                                                                               </td><td>sick and tired of police killing unarmed people                                                                 </td><td>sick tired police killing unarmed people                                                                        </td><td>-82.99890                                                                                                       </td><td>39.96136                                                                                                        </td><td> 5                                                                                                              </td><td>COLUMBUS OH                                                                                                     </td><td>COLUMBUS                                                                                                        </td><td>OH                                                                                                              </td><td> 6                                                                                                              </td></tr>\n",
       "\t<tr><td> 5                                                                                                              </td><td>FALSE                                                                                                           </td><td>0                                                                                                               </td><td>FALSE                                                                                                           </td><td>  2                                                                                                             </td><td>NA                                                                                                              </td><td>All                                                                                                             </td><td>c(25, 33)                                                                                                       </td><td>1                                                                                                               </td><td>well here we go again                                                                                           </td><td>well go                                                                                                         </td><td>-84.38757                                                                                                       </td><td>33.74928                                                                                                        </td><td> 7                                                                                                              </td><td>ATLANTA GA                                                                                                      </td><td>ATLANTA                                                                                                         </td><td>GA                                                                                                              </td><td> 1                                                                                                              </td></tr>\n",
       "\t<tr><td>17                                                                                                              </td><td>FALSE                                                                                                           </td><td>1                                                                                                               </td><td>FALSE                                                                                                           </td><td>  0                                                                                                             </td><td>NA                                                                                                              </td><td>RT                                                                                                              </td><td>c(70, 80, 78, 91)                                                                                               </td><td>2                                                                                                               </td><td> please turn your radios on and tell us what happened in                                                        </td><td>please turn radios tell us happened                                                                             </td><td>-90.19820                                                                                                       </td><td>38.62717                                                                                                        </td><td>30                                                                                                              </td><td>ST LOUIS MO                                                                                                     </td><td>ST LOUIS                                                                                                        </td><td>MO                                                                                                              </td><td> 5                                                                                                              </td></tr>\n",
       "\t<tr><td>18                                                                                                              </td><td>FALSE                                                                                                           </td><td>1                                                                                                               </td><td>FALSE                                                                                                           </td><td>  0                                                                                                             </td><td>NA                                                                                                              </td><td>RT                                                                                                              </td><td>c(70, 80, 78, 91)                                                                                               </td><td>2                                                                                                               </td><td> please turn your radios on and tell us what happened in                                                        </td><td>please turn radios tell us happened                                                                             </td><td>-90.19820                                                                                                       </td><td>38.62717                                                                                                        </td><td>30                                                                                                              </td><td>ST LOUIS MO                                                                                                     </td><td>ST LOUIS                                                                                                        </td><td>MO                                                                                                              </td><td> 5                                                                                                              </td></tr>\n",
       "</tbody>\n",
       "</table>\n"
      ],
      "text/latex": [
       "\\begin{tabular}{r|llllllllllllllllll}\n",
       " textnum & retweeted & retweet & favorited & favorite\\_count & possibly\\_sensitive & tweet\\_type & keyword\\_pos\\_hash & keyword\\_count\\_hash & full\\_text\\_low & full\\_text\\_low\\_nostop & lon & lat & n & City\\_code & City2 & Code & keyword\\_count\\\\\n",
       "\\hline\n",
       "\t  1                                                                                                               & FALSE                                                                                                            & 0                                                                                                                & FALSE                                                                                                            & 107                                                                                                              & NA                                                                                                               & All                                                                                                              & c(120, 128)                                                                                                      & 1                                                                                                                & black teenage boys are not men they are children stop referring to a year old as a man you are killing children  & black teenage boys not men children stop referring year old man killing children                                 & -82.99890                                                                                                        & 39.96136                                                                                                         &  5                                                                                                               & COLUMBUS OH                                                                                                      & COLUMBUS                                                                                                         & OH                                                                                                               & 10                                                                                                              \\\\\n",
       "\t  2                                                                                                               & FALSE                                                                                                            & 0                                                                                                                & FALSE                                                                                                            &   1                                                                                                              & NA                                                                                                               & SB                                                                                                               & c(87, 98, 96, 109)                                                                                               & 2                                                                                                                &  while there please tune in todays killing of the young black male in                                            & please tune todays killing young black male                                                                      & -84.38757                                                                                                        & 33.74928                                                                                                         &  7                                                                                                               & ATLANTA GA                                                                                                       & ATLANTA                                                                                                          & GA                                                                                                               &  7                                                                                                              \\\\\n",
       "\t  4                                                                                                               & FALSE                                                                                                            & 0                                                                                                                & FALSE                                                                                                            &  10                                                                                                              & NA                                                                                                               & All                                                                                                              & c(50, 60, 58, 67)                                                                                                & 2                                                                                                                & sick and tired of police killing unarmed people                                                                  & sick tired police killing unarmed people                                                                         & -82.99890                                                                                                        & 39.96136                                                                                                         &  5                                                                                                               & COLUMBUS OH                                                                                                      & COLUMBUS                                                                                                         & OH                                                                                                               &  6                                                                                                              \\\\\n",
       "\t  5                                                                                                               & FALSE                                                                                                            & 0                                                                                                                & FALSE                                                                                                            &   2                                                                                                              & NA                                                                                                               & All                                                                                                              & c(25, 33)                                                                                                        & 1                                                                                                                & well here we go again                                                                                            & well go                                                                                                          & -84.38757                                                                                                        & 33.74928                                                                                                         &  7                                                                                                               & ATLANTA GA                                                                                                       & ATLANTA                                                                                                          & GA                                                                                                               &  1                                                                                                              \\\\\n",
       "\t 17                                                                                                               & FALSE                                                                                                            & 1                                                                                                                & FALSE                                                                                                            &   0                                                                                                              & NA                                                                                                               & RT                                                                                                               & c(70, 80, 78, 91)                                                                                                & 2                                                                                                                &  please turn your radios on and tell us what happened in                                                         & please turn radios tell us happened                                                                              & -90.19820                                                                                                        & 38.62717                                                                                                         & 30                                                                                                               & ST LOUIS MO                                                                                                      & ST LOUIS                                                                                                         & MO                                                                                                               &  5                                                                                                              \\\\\n",
       "\t 18                                                                                                               & FALSE                                                                                                            & 1                                                                                                                & FALSE                                                                                                            &   0                                                                                                              & NA                                                                                                               & RT                                                                                                               & c(70, 80, 78, 91)                                                                                                & 2                                                                                                                &  please turn your radios on and tell us what happened in                                                         & please turn radios tell us happened                                                                              & -90.19820                                                                                                        & 38.62717                                                                                                         & 30                                                                                                               & ST LOUIS MO                                                                                                      & ST LOUIS                                                                                                         & MO                                                                                                               &  5                                                                                                              \\\\\n",
       "\\end{tabular}\n"
      ],
      "text/markdown": [
       "\n",
       "textnum | retweeted | retweet | favorited | favorite_count | possibly_sensitive | tweet_type | keyword_pos_hash | keyword_count_hash | full_text_low | full_text_low_nostop | lon | lat | n | City_code | City2 | Code | keyword_count | \n",
       "|---|---|---|---|---|---|\n",
       "|  1                                                                                                               | FALSE                                                                                                            | 0                                                                                                                | FALSE                                                                                                            | 107                                                                                                              | NA                                                                                                               | All                                                                                                              | c(120, 128)                                                                                                      | 1                                                                                                                | black teenage boys are not men they are children stop referring to a year old as a man you are killing children  | black teenage boys not men children stop referring year old man killing children                                 | -82.99890                                                                                                        | 39.96136                                                                                                         |  5                                                                                                               | COLUMBUS OH                                                                                                      | COLUMBUS                                                                                                         | OH                                                                                                               | 10                                                                                                               | \n",
       "|  2                                                                                                               | FALSE                                                                                                            | 0                                                                                                                | FALSE                                                                                                            |   1                                                                                                              | NA                                                                                                               | SB                                                                                                               | c(87, 98, 96, 109)                                                                                               | 2                                                                                                                |  while there please tune in todays killing of the young black male in                                            | please tune todays killing young black male                                                                      | -84.38757                                                                                                        | 33.74928                                                                                                         |  7                                                                                                               | ATLANTA GA                                                                                                       | ATLANTA                                                                                                          | GA                                                                                                               |  7                                                                                                               | \n",
       "|  4                                                                                                               | FALSE                                                                                                            | 0                                                                                                                | FALSE                                                                                                            |  10                                                                                                              | NA                                                                                                               | All                                                                                                              | c(50, 60, 58, 67)                                                                                                | 2                                                                                                                | sick and tired of police killing unarmed people                                                                  | sick tired police killing unarmed people                                                                         | -82.99890                                                                                                        | 39.96136                                                                                                         |  5                                                                                                               | COLUMBUS OH                                                                                                      | COLUMBUS                                                                                                         | OH                                                                                                               |  6                                                                                                               | \n",
       "|  5                                                                                                               | FALSE                                                                                                            | 0                                                                                                                | FALSE                                                                                                            |   2                                                                                                              | NA                                                                                                               | All                                                                                                              | c(25, 33)                                                                                                        | 1                                                                                                                | well here we go again                                                                                            | well go                                                                                                          | -84.38757                                                                                                        | 33.74928                                                                                                         |  7                                                                                                               | ATLANTA GA                                                                                                       | ATLANTA                                                                                                          | GA                                                                                                               |  1                                                                                                               | \n",
       "| 17                                                                                                               | FALSE                                                                                                            | 1                                                                                                                | FALSE                                                                                                            |   0                                                                                                              | NA                                                                                                               | RT                                                                                                               | c(70, 80, 78, 91)                                                                                                | 2                                                                                                                |  please turn your radios on and tell us what happened in                                                         | please turn radios tell us happened                                                                              | -90.19820                                                                                                        | 38.62717                                                                                                         | 30                                                                                                               | ST LOUIS MO                                                                                                      | ST LOUIS                                                                                                         | MO                                                                                                               |  5                                                                                                               | \n",
       "| 18                                                                                                               | FALSE                                                                                                            | 1                                                                                                                | FALSE                                                                                                            |   0                                                                                                              | NA                                                                                                               | RT                                                                                                               | c(70, 80, 78, 91)                                                                                                | 2                                                                                                                |  please turn your radios on and tell us what happened in                                                         | please turn radios tell us happened                                                                              | -90.19820                                                                                                        | 38.62717                                                                                                         | 30                                                                                                               | ST LOUIS MO                                                                                                      | ST LOUIS                                                                                                         | MO                                                                                                               |  5                                                                                                               | \n",
       "\n",
       "\n"
      ],
      "text/plain": [
       "  textnum retweeted retweet favorited favorite_count possibly_sensitive\n",
       "1  1      FALSE     0       FALSE     107            NA                \n",
       "2  2      FALSE     0       FALSE       1            NA                \n",
       "3  4      FALSE     0       FALSE      10            NA                \n",
       "4  5      FALSE     0       FALSE       2            NA                \n",
       "5 17      FALSE     1       FALSE       0            NA                \n",
       "6 18      FALSE     1       FALSE       0            NA                \n",
       "  tweet_type keyword_pos_hash   keyword_count_hash\n",
       "1 All        c(120, 128)        1                 \n",
       "2 SB         c(87, 98, 96, 109) 2                 \n",
       "3 All        c(50, 60, 58, 67)  2                 \n",
       "4 All        c(25, 33)          1                 \n",
       "5 RT         c(70, 80, 78, 91)  2                 \n",
       "6 RT         c(70, 80, 78, 91)  2                 \n",
       "  full_text_low                                                                                                   \n",
       "1 black teenage boys are not men they are children stop referring to a year old as a man you are killing children \n",
       "2  while there please tune in todays killing of the young black male in                                           \n",
       "3 sick and tired of police killing unarmed people                                                                 \n",
       "4 well here we go again                                                                                           \n",
       "5  please turn your radios on and tell us what happened in                                                        \n",
       "6  please turn your radios on and tell us what happened in                                                        \n",
       "  full_text_low_nostop                                                            \n",
       "1 black teenage boys not men children stop referring year old man killing children\n",
       "2 please tune todays killing young black male                                     \n",
       "3 sick tired police killing unarmed people                                        \n",
       "4 well go                                                                         \n",
       "5 please turn radios tell us happened                                             \n",
       "6 please turn radios tell us happened                                             \n",
       "  lon       lat      n  City_code   City2    Code keyword_count\n",
       "1 -82.99890 39.96136  5 COLUMBUS OH COLUMBUS OH   10           \n",
       "2 -84.38757 33.74928  7 ATLANTA GA  ATLANTA  GA    7           \n",
       "3 -82.99890 39.96136  5 COLUMBUS OH COLUMBUS OH    6           \n",
       "4 -84.38757 33.74928  7 ATLANTA GA  ATLANTA  GA    1           \n",
       "5 -90.19820 38.62717 30 ST LOUIS MO ST LOUIS MO    5           \n",
       "6 -90.19820 38.62717 30 ST LOUIS MO ST LOUIS MO    5           "
      ]
     },
     "metadata": {},
     "output_type": "display_data"
    }
   ],
   "source": [
    "head(sentiment.var)# , keyword_count >= 2))"
   ]
  },
  {
   "cell_type": "code",
   "execution_count": 70,
   "metadata": {},
   "outputs": [],
   "source": [
    "sentiment.var$yday <- full_text_en_usa$yday"
   ]
  },
  {
   "cell_type": "code",
   "execution_count": 71,
   "metadata": {},
   "outputs": [],
   "source": [
    "sentiment.var$time <- (sentiment.var$yday - min(sentiment.var$yday) + 1)"
   ]
  },
  {
   "cell_type": "markdown",
   "metadata": {},
   "source": [
    "write.csv(sentiment.var, \"C:\\\\MathLabASUS\\\\Courses\\\\Ryerson\\\\Project\\\\Data\\\\Files\\\\Sentiment\\\\sentiment_var.csv\", \n",
    "         row.names = FALSE)"
   ]
  },
  {
   "cell_type": "code",
   "execution_count": 47,
   "metadata": {
    "collapsed": true
   },
   "outputs": [
    {
     "data": {
      "text/plain": [
       "    textnum        retweeted          retweet       favorited      \n",
       " Min.   :      1   Mode :logical   Min.   :0.0000   Mode :logical  \n",
       " 1st Qu.:1044270   FALSE:932321    1st Qu.:1.0000   FALSE:932321   \n",
       " Median :2116844                   Median :1.0000                  \n",
       " Mean   :2112786                   Mean   :0.7654                  \n",
       " 3rd Qu.:3214235                   3rd Qu.:1.0000                  \n",
       " Max.   :3884008                   Max.   :1.0000                  \n",
       "                                                                   \n",
       " favorite_count          yday       possibly_sensitive  tweet_type       \n",
       " Min.   :    0.00   Min.   :221.0   Mode :logical      Length:932321     \n",
       " 1st Qu.:    0.00   1st Qu.:226.0   FALSE:328450       Class :character  \n",
       " Median :    0.00   Median :228.0   TRUE :6486         Mode  :character  \n",
       " Mean   :    0.82   Mean   :227.9   NA's :597385                         \n",
       " 3rd Qu.:    0.00   3rd Qu.:230.0                                        \n",
       " Max.   :14170.00   Max.   :232.0                                        \n",
       "                                                                         \n",
       " keyword_pos_hash   keyword_count_hash full_text_low      full_text_low_nostop\n",
       " Length:932321      Min.   : 0.000     Length:932321      Length:932321       \n",
       " Class :character   1st Qu.: 1.000     Class :character   Class :character    \n",
       " Mode  :character   Median : 1.000     Mode  :character   Mode  :character    \n",
       "                    Mean   : 1.294                                            \n",
       "                    3rd Qu.: 1.000                                            \n",
       "                    Max.   :15.000                                            \n",
       "                                                                              \n",
       "      lon               lat              n          City_code        \n",
       " Min.   :-165.40   Min.   :24.56   Min.   :    1   Length:932321     \n",
       " 1st Qu.: -98.49   1st Qu.:34.05   1st Qu.:  123   Class :character  \n",
       " Median : -90.02   Median :38.63   Median :  938   Mode  :character  \n",
       " Mean   : -92.92   Mean   :37.70   Mean   : 2781                     \n",
       " 3rd Qu.: -80.19   3rd Qu.:40.72   3rd Qu.: 4289                     \n",
       " Max.   : -67.84   Max.   :71.29   Max.   :17200                     \n",
       " NA's   :29596     NA's   :29596                                     \n",
       "    City2               Code          \n",
       " Length:932321      Length:932321     \n",
       " Class :character   Class :character  \n",
       " Mode  :character   Mode  :character  \n",
       "                                      \n",
       "                                      \n",
       "                                      \n",
       "                                      "
      ]
     },
     "metadata": {},
     "output_type": "display_data"
    }
   ],
   "source": [
    "summary(sentiment.var)"
   ]
  },
  {
   "cell_type": "code",
   "execution_count": null,
   "metadata": {},
   "outputs": [],
   "source": [
    "##### Combine sentiment variables with sentiment output - doc.sentiment"
   ]
  },
  {
   "cell_type": "code",
   "execution_count": 50,
   "metadata": {},
   "outputs": [
    {
     "data": {
      "text/html": [
       "872870"
      ],
      "text/latex": [
       "872870"
      ],
      "text/markdown": [
       "872870"
      ],
      "text/plain": [
       "[1] 872870"
      ]
     },
     "metadata": {},
     "output_type": "display_data"
    }
   ],
   "source": [
    "nrow(doc.sentiment)"
   ]
  },
  {
   "cell_type": "code",
   "execution_count": 66,
   "metadata": {
    "scrolled": true
   },
   "outputs": [],
   "source": [
    "sentiment.var2 <- bind_cols(sentiment.var, doc.sentiment)"
   ]
  },
  {
   "cell_type": "markdown",
   "metadata": {},
   "source": [
    "write.csv(sentiment.var2, \"C:\\\\MathLabASUS\\\\Courses\\\\Ryerson\\\\Project\\\\Data\\\\Files\\\\Sentiment\\\\sentiment_var2.csv\", \n",
    "         row.names = FALSE)"
   ]
  },
  {
   "cell_type": "code",
   "execution_count": null,
   "metadata": {},
   "outputs": [],
   "source": [
    "### Create binary variables for positive, negative and neutral documents. \n",
    "### Used to calculation counts"
   ]
  },
  {
   "cell_type": "code",
   "execution_count": 7,
   "metadata": {},
   "outputs": [],
   "source": [
    "sentiment.var2$positive <- ifelse(sentiment.var2$sentiment >= 0.15, 1, 0)"
   ]
  },
  {
   "cell_type": "code",
   "execution_count": 8,
   "metadata": {},
   "outputs": [],
   "source": [
    "sentiment.var2$negative <- ifelse(sentiment.var2$sentiment =< -0.15, 1, 0)"
   ]
  },
  {
   "cell_type": "code",
   "execution_count": null,
   "metadata": {},
   "outputs": [],
   "source": [
    "sentiment.var2$neutral <- ifelse(sentiment.var2$sentiment < 0.15 | \n",
    "                                sentiment.var2$sentiment > -0.15,\n",
    "                                      1, 0)    "
   ]
  },
  {
   "cell_type": "code",
   "execution_count": null,
   "metadata": {},
   "outputs": [],
   "source": [
    "### Create label variable to classify documents"
   ]
  },
  {
   "cell_type": "code",
   "execution_count": null,
   "metadata": {},
   "outputs": [],
   "source": [
    "sentiment.var2$label <- ifelse(sentiment.var2$positive == 1, '2', \n",
    "                                  ifelse(sentiment.var2$negative == 1, \n",
    "                                         '0', '1'))"
   ]
  },
  {
   "cell_type": "code",
   "execution_count": 4,
   "metadata": {
    "collapsed": true
   },
   "outputs": [
    {
     "name": "stdout",
     "output_type": "stream",
     "text": [
      "'data.frame':\t264179 obs. of  22 variables:\n",
      " $ textnum             : num  43 105 176 194 207 225 256 264 296 334 ...\n",
      " $ retweeted           : logi  FALSE FALSE FALSE FALSE FALSE FALSE ...\n",
      " $ retweet             : int  0 1 1 1 0 1 1 1 1 0 ...\n",
      " $ favorited           : logi  FALSE FALSE FALSE FALSE FALSE FALSE ...\n",
      " $ favorite_count      : int  3 0 0 0 0 0 0 0 0 38 ...\n",
      " $ yday                : int  221 221 221 221 221 221 221 221 221 221 ...\n",
      " $ possibly_sensitive  : logi  NA NA NA NA FALSE NA ...\n",
      " $ tweet_type          : chr  \"All\" \"RT\" \"RT\" \"RT\" ...\n",
      " $ keyword_pos_hash    : chr  \"c(93, 101)\" \"c(14, 22)\" \"c(126, 134)\" \"integer(0)\" ...\n",
      " $ keyword_count_hash  : int  1 1 1 0 1 0 0 0 1 1 ...\n",
      " $ full_text_low       : chr  \"police have been out of control for too long too fucking long and they are getting worse \" \" residents start uploading pictures and video now \" \" for the third time in as many weeks i have to ask please twitter friends dont photos of dead children \" \" there is no justification for this even if the young man shoplifted thats not a crime punishable by death remember a \" ...\n",
      " $ full_text_low_nostop: chr  \"police control long fucking long getting worse\" \"residents start uploading pictures video now\" \"third time many weeks ask please twitter friends dont photos dead children\" \"justification even young man shoplifted thats not crime punishable death remember\" ...\n",
      " $ lon                 : num  -83 -76 -90.2 -122.3 -84.4 ...\n",
      " $ lat                 : num  40 36.9 38.6 47.3 33.7 ...\n",
      " $ n                   : int  5 4 30 2 7 11 1 1 7 4 ...\n",
      " $ City_code           : chr  \"COLUMBUS OH\" \"VIRGINIA BEACH VA\" \"ST LOUIS MO\" \"FEDERAL WAY WA\" ...\n",
      " $ City2               : chr  \"COLUMBUS\" \"VIRGINIA BEACH\" \"ST LOUIS\" \"FEDERAL WAY\" ...\n",
      " $ Code                : chr  \"OH\" \"VA\" \"MO\" \"WA\" ...\n",
      " $ element_id          : int  10 25 37 40 45 48 56 58 64 68 ...\n",
      " $ sentence_id         : int  1 1 1 1 1 1 1 1 1 1 ...\n",
      " $ word_count          : int  17 7 20 21 2 21 21 21 4 15 ...\n",
      " $ sentiment           : num  0.243 0.378 0.224 0.655 1.414 ...\n"
     ]
    }
   ],
   "source": [
    "str(sentiment.pos)"
   ]
  },
  {
   "cell_type": "markdown",
   "metadata": {},
   "source": [
    "write.csv(sentiment.var2, \"C:\\\\MathLabASUS\\\\Courses\\\\Ryerson\\\\Project\\\\Data\\\\Files\\\\Sentiment\\\\sentiment_pos_nrc.csv\", \n",
    "         row.names = FALSE)"
   ]
  },
  {
   "cell_type": "code",
   "execution_count": null,
   "metadata": {},
   "outputs": [],
   "source": [
    "###### 29596 tweets have no longitude and latitude location data. Remove from analysis"
   ]
  },
  {
   "cell_type": "code",
   "execution_count": 75,
   "metadata": {},
   "outputs": [],
   "source": [
    "sentiment.var2 <- subset(sentiment.var2, !(is.na(lon) & is.na(lat)))"
   ]
  },
  {
   "cell_type": "code",
   "execution_count": null,
   "metadata": {},
   "outputs": [],
   "source": [
    "##### Replace NAs in possibly_sensitive with the mode - FALSE"
   ]
  },
  {
   "cell_type": "code",
   "execution_count": 76,
   "metadata": {},
   "outputs": [],
   "source": [
    "sentiment.var2$possibly_sensitive <- ifelse(is.na(sentiment.var2.ml$possibly_sensitive), FALSE, TRUE)"
   ]
  },
  {
   "cell_type": "code",
   "execution_count": null,
   "metadata": {},
   "outputs": [],
   "source": [
    "##### Examine favorited tweets"
   ]
  },
  {
   "cell_type": "code",
   "execution_count": 77,
   "metadata": {},
   "outputs": [
    {
     "data": {
      "text/plain": [
       "\n",
       " FALSE \n",
       "902725 "
      ]
     },
     "metadata": {},
     "output_type": "display_data"
    }
   ],
   "source": [
    "table(sentiment.var2$favorited)"
   ]
  },
  {
   "cell_type": "code",
   "execution_count": null,
   "metadata": {},
   "outputs": [],
   "source": [
    "###### Replace favorited values with TRUE if favorite_count > 0"
   ]
  },
  {
   "cell_type": "code",
   "execution_count": 78,
   "metadata": {},
   "outputs": [],
   "source": [
    "sentiment.var2$favorited <- ifelse(sentiment.var2$favorite_count > 0, TRUE, FALSE)"
   ]
  },
  {
   "cell_type": "code",
   "execution_count": 79,
   "metadata": {},
   "outputs": [
    {
     "data": {
      "text/plain": [
       "\n",
       " FALSE   TRUE \n",
       "812208  90517 "
      ]
     },
     "metadata": {},
     "output_type": "display_data"
    }
   ],
   "source": [
    "table(sentiment.var2$favorited)"
   ]
  },
  {
   "cell_type": "markdown",
   "metadata": {},
   "source": [
    "write.csv(sentiment.var2, \"C:\\\\MathLabASUS\\\\Courses\\\\Ryerson\\\\Project\\\\Data\\\\Files\\\\Sentiment\\\\sentiment_pos_nrc.csv\", \n",
    "         row.names = FALSE)"
   ]
  }
 ],
 "metadata": {
  "kernelspec": {
   "display_name": "R",
   "language": "R",
   "name": "ir"
  },
  "language_info": {
   "codemirror_mode": "r",
   "file_extension": ".r",
   "mimetype": "text/x-r-source",
   "name": "R",
   "pygments_lexer": "r",
   "version": "3.5.1"
  }
 },
 "nbformat": 4,
 "nbformat_minor": 2
}
