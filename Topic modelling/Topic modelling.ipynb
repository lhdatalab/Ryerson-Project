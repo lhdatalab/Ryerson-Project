{
 "cells": [
  {
   "cell_type": "code",
   "execution_count": 1,
   "metadata": {},
   "outputs": [
    {
     "name": "stderr",
     "output_type": "stream",
     "text": [
      "Loading required package: gsubfn\n",
      "Loading required package: proto\n",
      "Loading required package: RSQLite\n",
      "\n",
      "Attaching package: 'dplyr'\n",
      "\n",
      "The following object is masked from 'package:gridExtra':\n",
      "\n",
      "    combine\n",
      "\n",
      "The following objects are masked from 'package:stats':\n",
      "\n",
      "    filter, lag\n",
      "\n",
      "The following objects are masked from 'package:base':\n",
      "\n",
      "    intersect, setdiff, setequal, union\n",
      "\n",
      "\n",
      "Attaching package: 'lubridate'\n",
      "\n",
      "The following object is masked from 'package:base':\n",
      "\n",
      "    date\n",
      "\n",
      "\n",
      "Attaching package: 'GGally'\n",
      "\n",
      "The following object is masked from 'package:dplyr':\n",
      "\n",
      "    nasa\n",
      "\n",
      "Loading required package: lattice\n",
      "Loading required package: MASS\n",
      "\n",
      "Attaching package: 'MASS'\n",
      "\n",
      "The following object is masked from 'package:dplyr':\n",
      "\n",
      "    select\n",
      "\n",
      "\n",
      "Attaching package: 'memisc'\n",
      "\n",
      "The following object is masked from 'package:scales':\n",
      "\n",
      "    percent\n",
      "\n",
      "The following object is masked from 'package:lubridate':\n",
      "\n",
      "    is.interval\n",
      "\n",
      "The following objects are masked from 'package:dplyr':\n",
      "\n",
      "    collect, recode, rename, syms\n",
      "\n",
      "The following object is masked from 'package:ggplot2':\n",
      "\n",
      "    syms\n",
      "\n",
      "The following objects are masked from 'package:stats':\n",
      "\n",
      "    contr.sum, contr.treatment, contrasts\n",
      "\n",
      "The following object is masked from 'package:base':\n",
      "\n",
      "    as.array\n",
      "\n",
      "rgeos version: 0.3-28, (SVN revision 572)\n",
      " GEOS runtime version: 3.6.1-CAPI-1.10.1 r0 \n",
      " Linking to sp version: 1.3-1 \n",
      " Polygon checking: TRUE \n",
      "\n",
      "rgdal: version: 1.3-4, (SVN revision 766)\n",
      " Geospatial Data Abstraction Library extensions to R successfully loaded\n",
      " Loaded GDAL runtime: GDAL 2.2.3, released 2017/11/20\n",
      " Path to GDAL shared files: C:/MathLabASUS/SW/DM/Anaconda2/envs/rconda/Lib/R/library/rgdal/gdal\n",
      " GDAL binary built with GEOS: TRUE \n",
      " Loaded PROJ.4 runtime: Rel. 4.9.3, 15 August 2016, [PJ_VERSION: 493]\n",
      " Path to PROJ.4 shared files: C:/MathLabASUS/SW/DM/Anaconda2/envs/rconda/Lib/R/library/rgdal/proj\n",
      " Linking to sp version: 1.3-1 \n",
      "Checking rgeos availability: TRUE\n",
      "Warning message:\n",
      "\"package 'maps' was built under R version 3.5.3\"\n",
      "Attaching package: 'cluster'\n",
      "\n",
      "The following object is masked from 'package:maps':\n",
      "\n",
      "    votes.repub\n",
      "\n",
      "Loading required package: proxy\n",
      "\n",
      "Attaching package: 'proxy'\n",
      "\n",
      "The following objects are masked from 'package:stats':\n",
      "\n",
      "    as.dist, dist\n",
      "\n",
      "The following object is masked from 'package:base':\n",
      "\n",
      "    as.matrix\n",
      "\n",
      "Loading required package: clue\n",
      "Warning message:\n",
      "\"package 'clue' was built under R version 3.5.2\"Loading required package: survey\n",
      "Loading required package: Matrix\n",
      "\n",
      "Attaching package: 'Matrix'\n",
      "\n",
      "The following object is masked from 'package:tidyr':\n",
      "\n",
      "    expand\n",
      "\n",
      "Loading required package: survival\n",
      "\n",
      "Attaching package: 'survey'\n",
      "\n",
      "The following object is masked from 'package:graphics':\n",
      "\n",
      "    dotchart\n",
      "\n",
      "Loading required package: RANN\n",
      "Loading required package: lpSolve\n",
      "\n",
      "Attaching package: 'fastcluster'\n",
      "\n",
      "The following object is masked from 'package:stats':\n",
      "\n",
      "    hclust\n",
      "\n",
      "Welcome! Related Books: `Practical Guide To Cluster Analysis in R` at https://goo.gl/13EFCZ\n",
      "Creating a generic function for 'toJSON' from package 'jsonlite' in package 'googleVis'\n",
      "\n",
      "Welcome to googleVis version 0.6.2\n",
      "\n",
      "Please read Google's Terms of Use\n",
      "before you start using the package:\n",
      "https://developers.google.com/terms/\n",
      "\n",
      "Note, the plot method of googleVis will by default use\n",
      "the standard browser to display its output.\n",
      "\n",
      "See the googleVis package vignettes for more details,\n",
      "or visit http://github.com/mages/googleVis.\n",
      "\n",
      "To suppress this message use:\n",
      "suppressPackageStartupMessages(library(googleVis))\n",
      "\n",
      "Loading required package: DBI\n",
      "\n",
      "Attaching package: 'RMySQL'\n",
      "\n",
      "The following object is masked from 'package:RSQLite':\n",
      "\n",
      "    isIdCurrent\n",
      "\n",
      "\n",
      "Attaching package: 'data.table'\n",
      "\n",
      "The following objects are masked from 'package:lubridate':\n",
      "\n",
      "    hour, isoweek, mday, minute, month, quarter, second, wday, week,\n",
      "    yday, year\n",
      "\n",
      "The following objects are masked from 'package:dplyr':\n",
      "\n",
      "    between, first, last\n",
      "\n",
      "\n",
      "Attaching package: 'dbplyr'\n",
      "\n",
      "The following objects are masked from 'package:dplyr':\n",
      "\n",
      "    ident, sql\n",
      "\n",
      "\n",
      "Attaching package: 'httr'\n",
      "\n",
      "The following object is masked from 'package:memisc':\n",
      "\n",
      "    content\n",
      "\n",
      "\n",
      "Attaching package: 'slam'\n",
      "\n",
      "The following object is masked from 'package:data.table':\n",
      "\n",
      "    rollup\n",
      "\n",
      "Loading required package: NLP\n",
      "\n",
      "Attaching package: 'NLP'\n",
      "\n",
      "The following object is masked from 'package:httr':\n",
      "\n",
      "    content\n",
      "\n",
      "The following objects are masked from 'package:memisc':\n",
      "\n",
      "    annotation, content, content<-\n",
      "\n",
      "The following object is masked from 'package:ggplot2':\n",
      "\n",
      "    annotate\n",
      "\n",
      "Loading required package: SparseM\n",
      "\n",
      "Attaching package: 'SparseM'\n",
      "\n",
      "The following object is masked from 'package:base':\n",
      "\n",
      "    backsolve\n",
      "\n",
      "\n",
      "Attaching package: 'readr'\n",
      "\n",
      "The following object is masked from 'package:scales':\n",
      "\n",
      "    col_factor\n",
      "\n",
      "\n",
      "Attaching package: 'cowplot'\n",
      "\n",
      "The following object is masked from 'package:ggplot2':\n",
      "\n",
      "    ggsave\n",
      "\n",
      "\n",
      "Attaching package: 'syuzhet'\n",
      "\n",
      "The following object is masked from 'package:scales':\n",
      "\n",
      "    rescale\n",
      "\n",
      "Warning message:\n",
      "\"package 'coreNLP' was built under R version 3.5.2\"Warning message:\n",
      "\"package 'sentimentr' was built under R version 3.5.2\"\n",
      "Attaching package: 'sentimentr'\n",
      "\n",
      "The following object is masked from 'package:syuzhet':\n",
      "\n",
      "    get_sentences\n",
      "\n",
      "The following object is masked from 'package:lexicon':\n",
      "\n",
      "    available_data\n",
      "\n",
      "Package version: 1.3.13\n",
      "Parallel computing: 2 of 4 threads used.\n",
      "See https://quanteda.io for tutorials and examples.\n",
      "\n",
      "Attaching package: 'quanteda'\n",
      "\n",
      "The following objects are masked from 'package:tm':\n",
      "\n",
      "    as.DocumentTermMatrix, stopwords\n",
      "\n",
      "The following object is masked from 'jupyter:irkernel':\n",
      "\n",
      "    View\n",
      "\n",
      "The following object is masked from 'package:utils':\n",
      "\n",
      "    View\n",
      "\n"
     ]
    }
   ],
   "source": [
    "library(knitr)\n",
    "library(sqldf)\n",
    "library(ggplot2)\n",
    "library(mongolite)\n",
    "library(ggplot2)\n",
    "library(gridExtra)\n",
    "library(dplyr)\n",
    "library(tidyr)\n",
    "library(jsonlite)\n",
    "library(lubridate)\n",
    "library(gridExtra)\n",
    "library(GGally)\n",
    "library(scales)\n",
    "library(memisc)\n",
    "library(sp)\n",
    "library(rgeos)\n",
    "library(rgdal)\n",
    "library(maptools)\n",
    "library(RColorBrewer)\n",
    "library(maps)\n",
    "library(grid)\n",
    "library(cluster)\n",
    "library(StatMatch)\n",
    "library(fastcluster)\n",
    "library(factoextra)\n",
    "library(stringr)\n",
    "library(googleVis)\n",
    "library(RMySQL)\n",
    "library(data.table)\n",
    "library(dbplyr)\n",
    "library(DBI)\n",
    "library(httr)\n",
    "library(slam)\n",
    "library(tm)\n",
    "library(ldatuning)\n",
    "library(udpipe)\n",
    "library(egg)\n",
    "library(NLP)\n",
    "library(RTextTools)\n",
    "library(broom)\n",
    "library(tidytext)\n",
    "library(sparklyr)\n",
    "library(topicmodels)\n",
    "library(readr)\n",
    "library(wordcloud)\n",
    "library(lexicon)\n",
    "library(cowplot)\n",
    "library(syuzhet)\n",
    "library(coreNLP)\n",
    "library(sentimentr)\n",
    "library(quanteda)\n",
    "library(cowplot)"
   ]
  },
  {
   "cell_type": "code",
   "execution_count": 2,
   "metadata": {},
   "outputs": [],
   "source": [
    "plot.format <- theme(axis.text = element_text(size = 12), legend.text = element_text(size = 12), legend.title = element_text(size = 12), axis.title = element_text(size = 14), plot.title = element_text(size = 14))"
   ]
  },
  {
   "cell_type": "code",
   "execution_count": 141,
   "metadata": {},
   "outputs": [],
   "source": [
    "doc.udp.lem.text_mod <- read.csv(\"../Topic modelling/Files/Lexicon\\\\doc_udp_lem_text_mod_clean.csv\", \n",
    "              stringsAsFactors=FALSE)"
   ]
  },
  {
   "cell_type": "code",
   "execution_count": 4,
   "metadata": {
    "scrolled": true
   },
   "outputs": [],
   "source": [
    "doc.udp.lem.text_mod.unqdoc <- doc.udp.lem.text_mod %>% distinct(text_mod.clean)"
   ]
  },
  {
   "cell_type": "code",
   "execution_count": 5,
   "metadata": {
    "scrolled": false
   },
   "outputs": [
    {
     "data": {
      "text/html": [
       "302336"
      ],
      "text/latex": [
       "302336"
      ],
      "text/markdown": [
       "302336"
      ],
      "text/plain": [
       "[1] 302336"
      ]
     },
     "metadata": {},
     "output_type": "display_data"
    }
   ],
   "source": [
    "NROW(doc.udp.lem.text_mod.unqdoc)"
   ]
  },
  {
   "cell_type": "code",
   "execution_count": 5,
   "metadata": {
    "scrolled": false
   },
   "outputs": [
    {
     "name": "stdout",
     "output_type": "stream",
     "text": [
      "'data.frame':\t315304 obs. of  1 variable:\n",
      " $ text_mod: chr  \"aa bo conner\" \"aa celebrity speak know j cole else\" \"aa leader arent focus disparage fact protester narrative expect ppl follow\" \"aa photo saint tlouis county cop assault yesterday http\" ...\n"
     ]
    }
   ],
   "source": [
    "str(doc.udp.lem.text_mod.unqdoc)"
   ]
  },
  {
   "cell_type": "code",
   "execution_count": 6,
   "metadata": {},
   "outputs": [
    {
     "name": "stdout",
     "output_type": "stream",
     "text": [
      "'data.frame':\t930682 obs. of  6 variables:\n",
      " $ sentence      : chr  \"aa bo conners\" \"aa celebrities spoken know j cole else\" \"aa leaders arent focusing disparaging facts protesters narrative expecting ppl follow\" \"aa photos saint louis county cop assaulted yesterday http\" ...\n",
      " $ text          : chr  \"aa bo conner\" \"aa celebrity speak know j cole else\" \"aa leader arent focus disparage fact protester narrative expect ppl follow\" \"aa photo saint tlouis county cop assault yesterday http\" ...\n",
      " $ text_mod      : chr  \"aa bo conner\" \"aa celebrity speak know j cole else\" \"aa leader arent focus disparage fact protester narrative expect ppl follow\" \"aa photo saint tlouis county cop assault yesterday http\" ...\n",
      " $ full_text_low : chr  \" is over  aa and they have a bo conners \" \"has any aa celebrities spoken up and out about i know j cole has but who else \" \" aa leaders arent focusing on the disparaging facts between protesters narrative and their own  expecting ppl to follow \" \" aa a here are photos of the saint louis county cop who assaulted me yesterday http a \" ...\n",
      " $ textnum       : num  1110027 3848804 3356758 1350898 2232347 ...\n",
      " $ text_mod.clean: chr  \"conner\" \"celebrity speak know cole else\" \"leader arent focus disparage fact protester narrative expect follow\" \"photo saint tlouis county assault yesterday http\" ...\n"
     ]
    }
   ],
   "source": [
    "str(doc.udp.lem.text_mod)"
   ]
  },
  {
   "cell_type": "code",
   "execution_count": 142,
   "metadata": {},
   "outputs": [],
   "source": [
    "sentiment.pos <- read.csv(\"../Sentiment/Files/Sentiment/sentiment_pos_nrc.csv\", \n",
    "         stringsAsFactors = FALSE)"
   ]
  },
  {
   "cell_type": "code",
   "execution_count": 1253,
   "metadata": {
    "collapsed": true
   },
   "outputs": [
    {
     "name": "stdout",
     "output_type": "stream",
     "text": [
      "'data.frame':\t902725 obs. of  27 variables:\n",
      " $ textnum              : num  1 2 4 5 17 18 25 32 38 43 ...\n",
      " $ retweeted            : logi  FALSE FALSE FALSE FALSE FALSE FALSE ...\n",
      " $ retweet              : int  0 0 0 0 1 1 1 0 1 0 ...\n",
      " $ favorited            : logi  FALSE FALSE FALSE FALSE FALSE FALSE ...\n",
      " $ favorite_count       : int  107 1 10 2 0 0 0 0 0 3 ...\n",
      " $ yday                 : int  221 221 221 221 221 221 221 221 221 221 ...\n",
      " $ possibly_sensitive   : logi  NA NA NA NA NA NA ...\n",
      " $ tweet_type           : chr  \"All\" \"SB\" \"All\" \"All\" ...\n",
      " $ keyword_pos_hash     : chr  \"c(120, 128)\" \"c(87, 98, 96, 109)\" \"c(50, 60, 58, 67)\" \"c(25, 33)\" ...\n",
      " $ keyword_count_hash   : int  1 2 2 1 2 2 2 2 2 1 ...\n",
      " $ full_text_low        : chr  \"black teenage boys are not men they are children stop referring to a year old as a man you are killing children \" \" while there please tune in todays killing of the young black male in \" \"sick and tired of police killing unarmed people \" \"well here we go again \" ...\n",
      " $ full_text_low_nostop : chr  \"black teenage boys not men children stop referring year old man killing children\" \"please tune todays killing young black male\" \"sick tired police killing unarmed people\" \"well go\" ...\n",
      " $ lon                  : num  -83 -84.4 -83 -84.4 -90.2 ...\n",
      " $ lat                  : num  40 33.7 40 33.7 38.6 ...\n",
      " $ location_total.counts: int  5 7 5 7 30 30 30 30 30 5 ...\n",
      " $ location             : chr  \"COLUMBUS OH\" \"ATLANTA GA\" \"COLUMBUS OH\" \"ATLANTA GA\" ...\n",
      " $ City2                : chr  \"COLUMBUS\" \"ATLANTA\" \"COLUMBUS\" \"ATLANTA\" ...\n",
      " $ Code                 : chr  \"OH\" \"GA\" \"OH\" \"GA\" ...\n",
      " $ element_id           : int  1 2 3 4 5 6 7 8 9 10 ...\n",
      " $ sentence_id          : int  1 1 1 1 1 1 1 1 1 1 ...\n",
      " $ word_count           : int  22 13 8 5 11 11 11 17 11 17 ...\n",
      " $ sentiment            : num  -0.426 -0.277 -0.707 0 0 ...\n",
      " $ positive             : int  0 0 0 0 0 0 0 0 0 1 ...\n",
      " $ negative             : int  1 1 1 0 0 0 0 0 0 0 ...\n",
      " $ neutral              : int  0 0 0 1 1 1 1 1 1 0 ...\n",
      " $ time                 : int  1 1 1 1 1 1 1 1 1 1 ...\n",
      " $ labels               : int  0 0 0 1 1 1 1 1 1 2 ...\n"
     ]
    }
   ],
   "source": [
    "str(sentiment.pos)"
   ]
  },
  {
   "cell_type": "code",
   "execution_count": 143,
   "metadata": {},
   "outputs": [],
   "source": [
    "docs.pos <- sentiment.pos #%>% filter(positive == 1)"
   ]
  },
  {
   "cell_type": "code",
   "execution_count": 144,
   "metadata": {},
   "outputs": [
    {
     "name": "stderr",
     "output_type": "stream",
     "text": [
      "Joining, by = \"textnum\"\n"
     ]
    }
   ],
   "source": [
    "docs.pos.text <- docs.pos %>% \n",
    "                inner_join(doc.udp.lem.text_mod[c(\"textnum\", \n",
    "                                            \"text_mod.clean\")])"
   ]
  },
  {
   "cell_type": "markdown",
   "metadata": {},
   "source": [
    "### Create bigram sfor LDA and any topic coherence calculations"
   ]
  },
  {
   "cell_type": "code",
   "execution_count": 145,
   "metadata": {},
   "outputs": [],
   "source": [
    "tokens <- quanteda::tokens(unique(docs.pos.text$text_mod.clean))"
   ]
  },
  {
   "cell_type": "code",
   "execution_count": 146,
   "metadata": {},
   "outputs": [],
   "source": [
    "bigrams <- quanteda::tokens_ngrams(tokens, n = 2L, skip = 0L, \n",
    "                                     concatenator = \"_\")"
   ]
  },
  {
   "cell_type": "code",
   "execution_count": 147,
   "metadata": {},
   "outputs": [],
   "source": [
    "bigrams.dfm <- quanteda::dfm(bigrams)"
   ]
  },
  {
   "cell_type": "code",
   "execution_count": 148,
   "metadata": {},
   "outputs": [],
   "source": [
    "bigrams.dtm <- quanteda::convert(bigrams.dfm, to = \"tm\")"
   ]
  },
  {
   "cell_type": "code",
   "execution_count": 11,
   "metadata": {},
   "outputs": [
    {
     "data": {
      "text/html": [
       "294928"
      ],
      "text/latex": [
       "294928"
      ],
      "text/markdown": [
       "294928"
      ],
      "text/plain": [
       "[1] 294928"
      ]
     },
     "metadata": {},
     "output_type": "display_data"
    }
   ],
   "source": [
    "nrow(bigrams.dtm)"
   ]
  },
  {
   "cell_type": "markdown",
   "metadata": {},
   "source": [
    "##### Remove common terms using term frequency, inverse document frequency"
   ]
  },
  {
   "cell_type": "markdown",
   "metadata": {},
   "source": [
    "saveRDS(bigrams.dtm, \n",
    "        \"C:\\\\MathLabASUS\\\\Courses\\\\Ryerson\\\\Project\\\\Data\\\\Files\\\\Lexicon\\\\Project\\\\bigrams_dtmv2.rds\")"
   ]
  },
  {
   "cell_type": "code",
   "execution_count": 149,
   "metadata": {},
   "outputs": [],
   "source": [
    "td.dfr.stats.bigrams <- tidy(bigrams.dtm) %>%\n",
    "                    bind_tf_idf(document, term, count) %>%\n",
    "                as.data.frame()"
   ]
  },
  {
   "cell_type": "markdown",
   "metadata": {},
   "source": [
    "saveRDS(td.dfr.stats.bigrams, \n",
    "        \"C:\\\\MathLabASUS\\\\Courses\\\\Ryerson\\\\Project\\\\Data\\\\Files\\\\Lexicon\\\\Project\\\\td_dfr_stats_bigrams.rds\")"
   ]
  },
  {
   "cell_type": "code",
   "execution_count": 15,
   "metadata": {
    "collapsed": true
   },
   "outputs": [
    {
     "data": {
      "text/plain": [
       "   document             term               count             tf           \n",
       " Length:1767193     Length:1767193     Min.   :1.000   Min.   :0.0002729  \n",
       " Class :character   Class :character   1st Qu.:1.000   1st Qu.:0.0400000  \n",
       " Mode  :character   Mode  :character   Median :1.000   Median :0.2500000  \n",
       "                                       Mean   :1.002   Mean   :0.4174236  \n",
       "                                       3rd Qu.:1.000   3rd Qu.:1.0000000  \n",
       "                                       Max.   :8.000   Max.   :1.0000000  \n",
       "      idf            tf_idf         \n",
       " Min.   :10.68   Min.   : 0.002948  \n",
       " 1st Qu.:11.31   1st Qu.: 0.466344  \n",
       " Median :11.57   Median : 2.857952  \n",
       " Mean   :11.61   Mean   : 4.849188  \n",
       " 3rd Qu.:11.72   3rd Qu.:11.314025  \n",
       " Max.   :13.51   Max.   :13.511249  "
      ]
     },
     "metadata": {},
     "output_type": "display_data"
    }
   ],
   "source": [
    "summary(td.dfr.stats.bigrams)"
   ]
  },
  {
   "cell_type": "code",
   "execution_count": 18,
   "metadata": {
    "scrolled": false
   },
   "outputs": [
    {
     "data": {
      "text/html": [
       "<strong>20%:</strong> 0.292987241715913"
      ],
      "text/latex": [
       "\\textbf{20\\textbackslash{}\\%:} 0.292987241715913"
      ],
      "text/markdown": [
       "**20%:** 0.292987241715913"
      ],
      "text/plain": [
       "      20% \n",
       "0.2929872 "
      ]
     },
     "metadata": {},
     "output_type": "display_data"
    }
   ],
   "source": [
    "quantile(td.dfr.stats.bigrams$tf_idf, 0.2)"
   ]
  },
  {
   "cell_type": "code",
   "execution_count": 150,
   "metadata": {},
   "outputs": [],
   "source": [
    "td.dfr.stats.vocab.bigrams <- subset(td.dfr.stats.bigrams, tf_idf >= quantile(tf_idf, 0.25) & tf_idf <= quantile(tf_idf, 0.9999))"
   ]
  },
  {
   "cell_type": "code",
   "execution_count": 17,
   "metadata": {
    "scrolled": true
   },
   "outputs": [
    {
     "data": {
      "text/plain": [
       "   document             term               count             tf         \n",
       " Length:1325723     Length:1325723     Min.   :1.000   Min.   :0.03571  \n",
       " Class :character   Class :character   1st Qu.:1.000   1st Qu.:0.16667  \n",
       " Mode  :character   Mode  :character   Median :1.000   Median :0.50000  \n",
       "                                       Mean   :1.001   Mean   :0.55187  \n",
       "                                       3rd Qu.:1.000   3rd Qu.:1.00000  \n",
       "                                       Max.   :8.000   Max.   :1.00000  \n",
       "      idf            tf_idf       \n",
       " Min.   :10.68   Min.   : 0.4663  \n",
       " 1st Qu.:11.31   1st Qu.: 1.9053  \n",
       " Median :11.57   Median : 5.7159  \n",
       " Mean   :11.62   Mean   : 6.4112  \n",
       " 3rd Qu.:11.72   3rd Qu.:11.4318  \n",
       " Max.   :13.51   Max.   :13.5112  "
      ]
     },
     "metadata": {},
     "output_type": "display_data"
    }
   ],
   "source": [
    "summary(td.dfr.stats.vocab.bigrams)"
   ]
  },
  {
   "cell_type": "markdown",
   "metadata": {},
   "source": [
    "saveRDS(td.dfr.stats.vocab.bigrams, \n",
    "        \"C:\\\\MathLabASUS\\\\Courses\\\\Ryerson\\\\Project\\\\Data\\\\Files\\\\Lexicon\\\\Project\\\\td_dfr_stats_vocab_bigrams.rds\")"
   ]
  },
  {
   "cell_type": "code",
   "execution_count": 151,
   "metadata": {},
   "outputs": [],
   "source": [
    "bigrams.dtm.vocab <- cast_dtm(td.dfr.stats.vocab.bigrams, \n",
    "                                  \"document\", \"term\",\n",
    "                             \"count\", weight = tm::weightTf)"
   ]
  },
  {
   "cell_type": "markdown",
   "metadata": {},
   "source": [
    "saveRDS(bigrams.dtm.vocab, \n",
    "        \"C:\\\\MathLabASUS\\\\Courses\\\\Ryerson\\\\Project\\\\Data\\\\Files\\\\Lexicon\\\\Project\\\\bigrams_dtm_vocabv2.rds\")"
   ]
  },
  {
   "cell_type": "code",
   "execution_count": 19,
   "metadata": {
    "collapsed": true
   },
   "outputs": [
    {
     "name": "stdout",
     "output_type": "stream",
     "text": [
      "List of 6\n",
      " $ i       : int [1:1325723] 1 2 3 4 5 6 1 1 7 8 ...\n",
      " $ j       : int [1:1325723] 1 1 1 1 1 1 2 3 3 3 ...\n",
      " $ v       : num [1:1325723] 1 1 1 1 1 1 1 1 1 1 ...\n",
      " $ nrow    : int 288421\n",
      " $ ncol    : int 732416\n",
      " $ dimnames:List of 2\n",
      "  ..$ Docs : chr [1:288421] \"text1\" \"text1396\" \"text1407\" \"text25509\" ...\n",
      "  ..$ Terms: chr [1:732416] \"black_teenage\" \"teenage_child\" \"child_stop\" \"stop_refer\" ...\n",
      " - attr(*, \"class\")= chr [1:2] \"DocumentTermMatrix\" \"simple_triplet_matrix\"\n",
      " - attr(*, \"weighting\")= chr [1:2] \"term frequency\" \"tf\"\n"
     ]
    }
   ],
   "source": [
    "str(bigrams.dtm.vocab)"
   ]
  },
  {
   "cell_type": "markdown",
   "metadata": {},
   "source": [
    "##### Sample 200 bigram terms"
   ]
  },
  {
   "cell_type": "markdown",
   "metadata": {},
   "source": [
    "td.dfr.200 <- td.unigrams.stats.vocab %>% dplyr::select(one_of(c(\"term\", \n",
    "                                                           \"count\"))) %>%\n",
    "                            group_by(term) %>%\n",
    "                                summarise(count = sum(count)) %>%\n",
    "                            sample_n(200) %>%\n",
    "                              arrange(desc(count)) %>%\n",
    "                            filter(count < quantile(td.dfr.200$count, 0.92)) %>%\n",
    "                            as.data.frame()"
   ]
  },
  {
   "cell_type": "code",
   "execution_count": 72,
   "metadata": {},
   "outputs": [],
   "source": [
    "bigrams.dtm.all.vocab <- readRDS(\"../Topic modelling/Files/Lexicon/bigrams_dtm_all_vocab.rds\")"
   ]
  },
  {
   "cell_type": "code",
   "execution_count": 73,
   "metadata": {},
   "outputs": [],
   "source": [
    "td.bigrams.dtm.all.vocab <- tidy(bigrams.dtm.all.vocab)"
   ]
  },
  {
   "cell_type": "code",
   "execution_count": null,
   "metadata": {},
   "outputs": [],
   "source": [
    "#### Random sample of 200 terms"
   ]
  },
  {
   "cell_type": "code",
   "execution_count": 85,
   "metadata": {},
   "outputs": [],
   "source": [
    "set.seed(201902)\n",
    "td.dfr.200 <- td.dfr.stats.vocab.bigrams %>% dplyr::select(one_of(c(\"term\", \n",
    "                                                           \"count\"))) %>%\n",
    "                            group_by(term) %>%\n",
    "                                summarise(count = sum(count)) %>%\n",
    "                            sample_n(200) %>%\n",
    "                              arrange(desc(count)) %>%\n",
    "                            filter(count < quantile(count, 0.95)) %>%\n",
    "                            as.data.frame()"
   ]
  },
  {
   "cell_type": "code",
   "execution_count": 86,
   "metadata": {},
   "outputs": [],
   "source": [
    "td.dfr.200$count_scale <- (td.dfr.200$count - min(td.dfr.200$count))/(max(td.dfr.200$count) - min(td.dfr.200$count))"
   ]
  },
  {
   "cell_type": "code",
   "execution_count": null,
   "metadata": {},
   "outputs": [],
   "source": [
    "### Top 200 bigram terms in the corpus"
   ]
  },
  {
   "cell_type": "code",
   "execution_count": 80,
   "metadata": {},
   "outputs": [],
   "source": [
    "useset <- brewer.pal(8, \"Set2\")"
   ]
  },
  {
   "cell_type": "code",
   "execution_count": 87,
   "metadata": {
    "collapsed": true
   },
   "outputs": [
    {
     "data": {
      "image/png": "[encoded data removed]",
      "text/plain": [
       "plot without title"
      ]
     },
     "metadata": {},
     "output_type": "display_data"
    }
   ],
   "source": [
    "wordcloud(td.dfr.200$term, td.dfr.200$count_scale, scale = c(3.8, 0.001), random.color = FALSE, colors = useset)"
   ]
  },
  {
   "cell_type": "markdown",
   "metadata": {},
   "source": [
    "### Build LDA to fine optimum number of topics"
   ]
  },
  {
   "cell_type": "code",
   "execution_count": null,
   "metadata": {},
   "outputs": [],
   "source": [
    "#### Create a bigrams DocumentTerm Matrix for topicmodels LDA"
   ]
  },
  {
   "cell_type": "code",
   "execution_count": null,
   "metadata": {},
   "outputs": [],
   "source": [
    "##### Create a train and test set for input to LDA"
   ]
  },
  {
   "cell_type": "code",
   "execution_count": 300,
   "metadata": {},
   "outputs": [],
   "source": [
    "id <- seq(1, nrow(bigrams.dtm.vocab), 1)"
   ]
  },
  {
   "cell_type": "code",
   "execution_count": 301,
   "metadata": {},
   "outputs": [],
   "source": [
    "set.seed(20181208)\n",
    "samp_id <- id[sample(1:NROW(id), \n",
    "                                floor(0.75 * NROW(id)))]"
   ]
  },
  {
   "cell_type": "code",
   "execution_count": 302,
   "metadata": {},
   "outputs": [],
   "source": [
    "train <- bigrams.dtm.vocab[samp_id, ]\n",
    "test <- bigrams.dtm.vocab[-samp_id, ]"
   ]
  },
  {
   "cell_type": "code",
   "execution_count": 303,
   "metadata": {
    "scrolled": false
   },
   "outputs": [
    {
     "data": {
      "text/html": [
       "216315"
      ],
      "text/latex": [
       "216315"
      ],
      "text/markdown": [
       "216315"
      ],
      "text/plain": [
       "[1] 216315"
      ]
     },
     "metadata": {},
     "output_type": "display_data"
    },
    {
     "data": {
      "text/html": [
       "72106"
      ],
      "text/latex": [
       "72106"
      ],
      "text/markdown": [
       "72106"
      ],
      "text/plain": [
       "[1] 72106"
      ]
     },
     "metadata": {},
     "output_type": "display_data"
    }
   ],
   "source": [
    "nrow(train)\n",
    "nrow(test)"
   ]
  },
  {
   "cell_type": "markdown",
   "metadata": {
    "collapsed": true
   },
   "source": [
    "train$v <- round(train$v)\n",
    "test$v <- round(test$v)"
   ]
  },
  {
   "cell_type": "code",
   "execution_count": 304,
   "metadata": {},
   "outputs": [],
   "source": [
    "get_results <- list()\n",
    "get_results.test <- list()\n",
    "get_alpha <- list()\n",
    "get_perplexity <- list()\n",
    "get_perplexity.train  <- list()\n",
    "#model.summary <- summary()\n",
    "get_lda <- list()"
   ]
  },
  {
   "cell_type": "code",
   "execution_count": 306,
   "metadata": {
    "collapsed": true
   },
   "outputs": [
    {
     "name": "stdout",
     "output_type": "stream",
     "text": [
      "final e step document 216315\n",
      "final e step document 216315\n",
      "final e step document 72106\n",
      "final e step document 216315\n",
      "final e step document 216315\n",
      "final e step document 72106\n",
      "final e step document 216315\n",
      "final e step document 216315\n",
      "final e step document 72106\n",
      "final e step document 216315\n",
      "final e step document 216315\n",
      "final e step document 72106\n",
      "final e step document 216315\n",
      "final e step document 216315\n",
      "final e step document 72106\n",
      "final e step document 216315\n",
      "final e step document 216315\n",
      "final e step document 72106\n",
      "final e step document 216315\n",
      "final e step document 216315\n",
      "final e step document 72106\n",
      "final e step document 216315\n",
      "final e step document 216315\n",
      "final e step document 72106\n",
      "final e step document 216315\n",
      "final e step document 216315\n",
      "final e step document 72106\n",
      "final e step document 216315\n",
      "final e step document 216315\n",
      "final e step document 72106\n",
      "final e step document 216315\n",
      "final e step document 216315\n",
      "final e step document 72106\n",
      "final e step document 216315\n",
      "final e step document 216315\n",
      "final e step document 72106\n",
      "final e step document 216315\n",
      "final e step document 216315\n",
      "final e step document 72106\n",
      "final e step document 216315\n",
      "final e step document 216315\n",
      "final e step document 72106\n",
      "final e step document 216315\n",
      "final e step document 216315\n",
      "final e step document 72106\n",
      "final e step document 216315\n",
      "final e step document 216315\n",
      "final e step document 72106\n",
      "final e step document 216315\n",
      "final e step document 216315\n",
      "final e step document 72106\n"
     ]
    },
    {
     "data": {
      "text/plain": [
       "   user  system elapsed \n",
       "1087.23   23.76 1152.28 "
      ]
     },
     "metadata": {},
     "output_type": "display_data"
    }
   ],
   "source": [
    "ptm <- proc.time()\n",
    "set.seed(20181208)\n",
    "k <- c(seq(2, 10, 1), c(seq(15, 50, 5)))\n",
    "for (i in k) {\n",
    "  #  for(j in 1:length(alpha)) {\n",
    "    results <- LDA(train, k = i,  #alpha= 50/i, \n",
    "               beta = 0.05, \n",
    "           method = \"VEM\", \n",
    "           control = list(keep = 10, seed = 20181209, \n",
    "                          estimate.alpha = TRUE, verbose = 1000,\n",
    "                          em = list(iter.max = 1000), \n",
    "                          estimate.beta = FALSE))\n",
    "    \n",
    "    results.test <- LDA(test, model = results, verbose = 1000,\n",
    "           control = list(em = list(iter.max = 1000), \n",
    "                          estimate.alpha = FALSE, \n",
    "                          estimate.beta = FALSE))\n",
    "\n",
    "    if (i == 2) {\n",
    "        get_results <- c(get_results, results)\n",
    "        get_results.test <- c(get_results.test, results.test)\n",
    "        get_lda <- results@alpha\n",
    "        get_perplexity.train <- perplexity(results, train)\n",
    "        get_perplexity <- perplexity(results, test)\n",
    "    }\n",
    "    else if (i > 2) {\n",
    "        get_results <- c(get_results, results)\n",
    "        get_results.test <- c(get_results.test, results.test)\n",
    "        get_lda <- c(get_lda, results@alpha)\n",
    "        get_perplexity.train <- c(get_perplexity.train, \n",
    "                                  perplexity(results, train))\n",
    "        get_perplexity <- c(get_perplexity, perplexity(results, \n",
    "                                                       test))\n",
    "        \n",
    "    }\n",
    "# }\n",
    "\n",
    "}\n",
    "\n",
    "proc.time() - ptm"
   ]
  },
  {
   "cell_type": "code",
   "execution_count": 307,
   "metadata": {},
   "outputs": [],
   "source": [
    "no.topics <- data.frame(no.topics = c(seq(2, 10, 1), c(seq(15, 50, 5))))"
   ]
  },
  {
   "cell_type": "code",
   "execution_count": 308,
   "metadata": {},
   "outputs": [],
   "source": [
    "get_alpha.df <- data.frame(alpha = get_lda)"
   ]
  },
  {
   "cell_type": "code",
   "execution_count": 309,
   "metadata": {},
   "outputs": [],
   "source": [
    "get_alpha.df <- cbind(get_alpha.df, no.topics)"
   ]
  },
  {
   "cell_type": "code",
   "execution_count": 311,
   "metadata": {},
   "outputs": [
    {
     "data": {},
     "metadata": {},
     "output_type": "display_data"
    },
    {
     "data": {
      "image/png": "[encoded data removed]",
      "text/plain": [
       "plot without title"
      ]
     },
     "metadata": {},
     "output_type": "display_data"
    }
   ],
   "source": [
    "ggplot(aes(x = no.topics, y = alpha), data = get_alpha.df) +\n",
    "geom_point() +\n",
    "geom_line(color = \"blue\") +\n",
    "geom_vline(xintercept=5) +\n",
    "ggtitle(\"Number of topics = 5 at alpha = 10\")"
   ]
  },
  {
   "cell_type": "markdown",
   "metadata": {},
   "source": [
    "###### Get the number of topics based on perplexity of LDA model "
   ]
  },
  {
   "cell_type": "code",
   "execution_count": 312,
   "metadata": {
    "scrolled": true
   },
   "outputs": [],
   "source": [
    "get.perplex.train.df <- data.frame(perplexity = get_perplexity.train, no.topics = no.topics$no.topics)"
   ]
  },
  {
   "cell_type": "code",
   "execution_count": 313,
   "metadata": {},
   "outputs": [],
   "source": [
    "get.perplex.df <- data.frame(perplexity = get_perplexity, no.topics = no.topics$no.topics)"
   ]
  },
  {
   "cell_type": "code",
   "execution_count": 314,
   "metadata": {},
   "outputs": [],
   "source": [
    "train.perplex <- ggplot(aes(x = no.topics), data = get.perplex.df) +\n",
    "    geom_line(aes(y = perplexity), color = \"medium blue\", alpha = 0.8) +\n",
    "    geom_point(aes(y = perplexity), color = \"medium blue\") +\n",
    "       plot.format +\n",
    "    theme(axis.text.x=element_text(angle=90))"
   ]
  },
  {
   "cell_type": "code",
   "execution_count": 315,
   "metadata": {},
   "outputs": [],
   "source": [
    "test.perplex <- ggplot(aes(x = no.topics), data = get.perplex.df) +\n",
    "    geom_line(aes(y = perplexity) , color = \"medium purple\", alpha = 0.5, data = get.perplex.train.df) +\n",
    "    geom_point(aes(y = perplexity), color = \"medium purple\", \n",
    "               data = get.perplex.train.df) + \n",
    "    plot.format +\n",
    "    theme(axis.text.x=element_text(angle=90))\n"
   ]
  },
  {
   "cell_type": "code",
   "execution_count": 316,
   "metadata": {},
   "outputs": [
    {
     "data": {},
     "metadata": {},
     "output_type": "display_data"
    },
    {
     "data": {
      "image/png": "[encoded data removed]",
      "text/plain": [
       "plot without title"
      ]
     },
     "metadata": {},
     "output_type": "display_data"
    }
   ],
   "source": [
    "title <- ggdraw() + draw_label(\"No of topics ~= 5, \n",
    "at the minimum perplexity\")#, fontface='bold')#, hjust = 0, vjust = -4)#, x = -1)\n",
    "plot_grid(#title, \n",
    "    train.perplex, test.perplex, ncol = 2, labels = \"AUTO\",\n",
    "          align = \"v\", axis = \"l\")#, rel_heights=c(0.1, 1))"
   ]
  },
  {
   "cell_type": "code",
   "execution_count": null,
   "metadata": {},
   "outputs": [],
   "source": [
    "### Placeholders to write LDA model results"
   ]
  },
  {
   "cell_type": "markdown",
   "metadata": {},
   "source": [
    "write.csv(get.perplex.df, \"C:\\\\MathLabASUS\\\\Courses\\\\Ryerson\\\\Project\\\\Data\\\\Files\\\\Topics\\\\get_perplexity_bigram.csv\")"
   ]
  },
  {
   "cell_type": "markdown",
   "metadata": {},
   "source": [
    "write.csv(get.perplex.train.df, \"C:\\\\MathLabASUS\\\\Courses\\\\Ryerson\\\\Project\\\\Data\\\\Files\\\\Topics\\\\get_perplexity_train_bigram.csv\")"
   ]
  },
  {
   "cell_type": "markdown",
   "metadata": {},
   "source": [
    "write.csv(get_alpha.df, \"C:\\\\MathLabASUS\\\\Courses\\\\Ryerson\\\\Project\\\\Data\\\\Files\\\\Topics\\\\get_alpha_bigram.csv\")"
   ]
  },
  {
   "cell_type": "markdown",
   "metadata": {},
   "source": [
    "#### Run lda on full dataset using estimated alpha and no of topics k = 5"
   ]
  },
  {
   "cell_type": "code",
   "execution_count": 152,
   "metadata": {},
   "outputs": [],
   "source": [
    "set.seed(20181208)\n",
    "k <- 5\n",
    "lda <- LDA(bigrams.dtm.vocab, k = k,  alpha= 50/k, beta = 0.05, \n",
    "           method = \"VEM\", \n",
    "           control = list(keep = 10, #estimate.alpha = FALSE, \n",
    "                          seed = 20181209,\n",
    "                          em = list(iter.max = 1000), estimate.beta = FALSE))\n",
    "\n",
    "    \n"
   ]
  },
  {
   "cell_type": "code",
   "execution_count": 30,
   "metadata": {
    "collapsed": true
   },
   "outputs": [
    {
     "data": {
      "text/html": [
       "<table>\n",
       "<thead><tr><th scope=col>topic</th><th scope=col>term</th><th scope=col>beta</th></tr></thead>\n",
       "<tbody>\n",
       "\t<tr><td>1            </td><td>black_teenage</td><td>1.089205e-06 </td></tr>\n",
       "\t<tr><td>2            </td><td>black_teenage</td><td>2.393931e-06 </td></tr>\n",
       "\t<tr><td>3            </td><td>black_teenage</td><td>2.703325e-06 </td></tr>\n",
       "\t<tr><td>4            </td><td>black_teenage</td><td>2.540380e-06 </td></tr>\n",
       "\t<tr><td>5            </td><td>black_teenage</td><td>2.163842e-06 </td></tr>\n",
       "\t<tr><td>1            </td><td>teenage_child</td><td>6.499895e-07 </td></tr>\n",
       "\t<tr><td>2            </td><td>teenage_child</td><td>1.113955e-06 </td></tr>\n",
       "\t<tr><td>3            </td><td>teenage_child</td><td>3.544485e-07 </td></tr>\n",
       "\t<tr><td>4            </td><td>teenage_child</td><td>2.698352e-06 </td></tr>\n",
       "\t<tr><td>5            </td><td>teenage_child</td><td>1.941161e-06 </td></tr>\n",
       "\t<tr><td>1            </td><td>child_stop   </td><td>1.821908e-06 </td></tr>\n",
       "\t<tr><td>2            </td><td>child_stop   </td><td>2.635675e-06 </td></tr>\n",
       "\t<tr><td>3            </td><td>child_stop   </td><td>2.014059e-07 </td></tr>\n",
       "\t<tr><td>4            </td><td>child_stop   </td><td>1.604448e-07 </td></tr>\n",
       "\t<tr><td>5            </td><td>child_stop   </td><td>2.677983e-06 </td></tr>\n",
       "\t<tr><td>1            </td><td>stop_refer   </td><td>1.572701e-06 </td></tr>\n",
       "\t<tr><td>2            </td><td>stop_refer   </td><td>2.305854e-06 </td></tr>\n",
       "\t<tr><td>3            </td><td>stop_refer   </td><td>1.804420e-07 </td></tr>\n",
       "\t<tr><td>4            </td><td>stop_refer   </td><td>5.283516e-07 </td></tr>\n",
       "\t<tr><td>5            </td><td>stop_refer   </td><td>5.917984e-07 </td></tr>\n",
       "</tbody>\n",
       "</table>\n"
      ],
      "text/latex": [
       "\\begin{tabular}{r|lll}\n",
       " topic & term & beta\\\\\n",
       "\\hline\n",
       "\t 1               & black\\_teenage & 1.089205e-06   \\\\\n",
       "\t 2               & black\\_teenage & 2.393931e-06   \\\\\n",
       "\t 3               & black\\_teenage & 2.703325e-06   \\\\\n",
       "\t 4               & black\\_teenage & 2.540380e-06   \\\\\n",
       "\t 5               & black\\_teenage & 2.163842e-06   \\\\\n",
       "\t 1               & teenage\\_child & 6.499895e-07   \\\\\n",
       "\t 2               & teenage\\_child & 1.113955e-06   \\\\\n",
       "\t 3               & teenage\\_child & 3.544485e-07   \\\\\n",
       "\t 4               & teenage\\_child & 2.698352e-06   \\\\\n",
       "\t 5               & teenage\\_child & 1.941161e-06   \\\\\n",
       "\t 1               & child\\_stop    & 1.821908e-06   \\\\\n",
       "\t 2               & child\\_stop    & 2.635675e-06   \\\\\n",
       "\t 3               & child\\_stop    & 2.014059e-07   \\\\\n",
       "\t 4               & child\\_stop    & 1.604448e-07   \\\\\n",
       "\t 5               & child\\_stop    & 2.677983e-06   \\\\\n",
       "\t 1               & stop\\_refer    & 1.572701e-06   \\\\\n",
       "\t 2               & stop\\_refer    & 2.305854e-06   \\\\\n",
       "\t 3               & stop\\_refer    & 1.804420e-07   \\\\\n",
       "\t 4               & stop\\_refer    & 5.283516e-07   \\\\\n",
       "\t 5               & stop\\_refer    & 5.917984e-07   \\\\\n",
       "\\end{tabular}\n"
      ],
      "text/markdown": [
       "\n",
       "topic | term | beta | \n",
       "|---|---|---|---|---|---|---|---|---|---|---|---|---|---|---|---|---|---|---|---|\n",
       "| 1             | black_teenage | 1.089205e-06  | \n",
       "| 2             | black_teenage | 2.393931e-06  | \n",
       "| 3             | black_teenage | 2.703325e-06  | \n",
       "| 4             | black_teenage | 2.540380e-06  | \n",
       "| 5             | black_teenage | 2.163842e-06  | \n",
       "| 1             | teenage_child | 6.499895e-07  | \n",
       "| 2             | teenage_child | 1.113955e-06  | \n",
       "| 3             | teenage_child | 3.544485e-07  | \n",
       "| 4             | teenage_child | 2.698352e-06  | \n",
       "| 5             | teenage_child | 1.941161e-06  | \n",
       "| 1             | child_stop    | 1.821908e-06  | \n",
       "| 2             | child_stop    | 2.635675e-06  | \n",
       "| 3             | child_stop    | 2.014059e-07  | \n",
       "| 4             | child_stop    | 1.604448e-07  | \n",
       "| 5             | child_stop    | 2.677983e-06  | \n",
       "| 1             | stop_refer    | 1.572701e-06  | \n",
       "| 2             | stop_refer    | 2.305854e-06  | \n",
       "| 3             | stop_refer    | 1.804420e-07  | \n",
       "| 4             | stop_refer    | 5.283516e-07  | \n",
       "| 5             | stop_refer    | 5.917984e-07  | \n",
       "\n",
       "\n"
      ],
      "text/plain": [
       "   topic term          beta        \n",
       "1  1     black_teenage 1.089205e-06\n",
       "2  2     black_teenage 2.393931e-06\n",
       "3  3     black_teenage 2.703325e-06\n",
       "4  4     black_teenage 2.540380e-06\n",
       "5  5     black_teenage 2.163842e-06\n",
       "6  1     teenage_child 6.499895e-07\n",
       "7  2     teenage_child 1.113955e-06\n",
       "8  3     teenage_child 3.544485e-07\n",
       "9  4     teenage_child 2.698352e-06\n",
       "10 5     teenage_child 1.941161e-06\n",
       "11 1     child_stop    1.821908e-06\n",
       "12 2     child_stop    2.635675e-06\n",
       "13 3     child_stop    2.014059e-07\n",
       "14 4     child_stop    1.604448e-07\n",
       "15 5     child_stop    2.677983e-06\n",
       "16 1     stop_refer    1.572701e-06\n",
       "17 2     stop_refer    2.305854e-06\n",
       "18 3     stop_refer    1.804420e-07\n",
       "19 4     stop_refer    5.283516e-07\n",
       "20 5     stop_refer    5.917984e-07"
      ]
     },
     "metadata": {},
     "output_type": "display_data"
    }
   ],
   "source": [
    "head(bigrams.topic, 20)"
   ]
  },
  {
   "cell_type": "code",
   "execution_count": 153,
   "metadata": {},
   "outputs": [],
   "source": [
    "bigrams.lda <- augment(lda)\n",
    "bigrams.topic <- tidy(lda, matrix = \"beta\")\n",
    "bigrams.doc <- tidy(lda, matrix = \"gamma\")"
   ]
  },
  {
   "cell_type": "code",
   "execution_count": null,
   "metadata": {},
   "outputs": [],
   "source": [
    "##### Plot gamma distributions of topics over documents"
   ]
  },
  {
   "cell_type": "code",
   "execution_count": 89,
   "metadata": {},
   "outputs": [],
   "source": [
    "doc.top.gamma <- bigrams.doc %>% group_by(document, topic) %>% arrange(desc(gamma)) %>%\n",
    "                            ungroup() %>%\n",
    "                            mutate(topic = as.character(topic)) %>%\n",
    "                            as.data.frame()"
   ]
  },
  {
   "cell_type": "code",
   "execution_count": 90,
   "metadata": {},
   "outputs": [
    {
     "data": {
      "text/plain": [
       "$`1`\n",
       "   Min. 1st Qu.  Median    Mean 3rd Qu.    Max. \n",
       " 0.1756  0.1969  0.1998  0.2000  0.2029  0.2353 \n",
       "\n",
       "$`2`\n",
       "   Min. 1st Qu.  Median    Mean 3rd Qu.    Max. \n",
       " 0.1778  0.1969  0.1998  0.2000  0.2029  0.2321 \n",
       "\n",
       "$`3`\n",
       "   Min. 1st Qu.  Median    Mean 3rd Qu.    Max. \n",
       " 0.1774  0.1969  0.1998  0.2000  0.2029  0.2302 \n",
       "\n",
       "$`4`\n",
       "   Min. 1st Qu.  Median    Mean 3rd Qu.    Max. \n",
       " 0.1765  0.1969  0.1998  0.2000  0.2029  0.2411 \n",
       "\n",
       "$`5`\n",
       "   Min. 1st Qu.  Median    Mean 3rd Qu.    Max. \n",
       " 0.1755  0.1969  0.1998  0.2000  0.2028  0.2365 \n"
      ]
     },
     "metadata": {},
     "output_type": "display_data"
    }
   ],
   "source": [
    "tapply(doc.top.gamma$gamma, doc.top.gamma$topic, summary)"
   ]
  },
  {
   "cell_type": "code",
   "execution_count": 70,
   "metadata": {
    "scrolled": true
   },
   "outputs": [
    {
     "name": "stdout",
     "output_type": "stream",
     "text": [
      "'data.frame':\t4196980 obs. of  3 variables:\n",
      " $ document: chr  \"742013\" \"113471\" \"306284\" \"232013\" ...\n",
      " $ topic   : chr  \"4\" \"5\" \"5\" \"4\" ...\n",
      " $ gamma   : num  0.285 0.261 0.26 0.255 0.254 ...\n"
     ]
    }
   ],
   "source": [
    "str(doc.top.gamma)"
   ]
  },
  {
   "cell_type": "code",
   "execution_count": 75,
   "metadata": {},
   "outputs": [],
   "source": [
    "doc.top.gamma <- bigrams.doc %>% group_by(document, topic) %>% arrange(desc(gamma)) %>%\n",
    "                            ungroup() %>%\n",
    "                            mutate(topic = as.character(topic)) %>%\n",
    "                            as.data.frame()"
   ]
  },
  {
   "cell_type": "code",
   "execution_count": 87,
   "metadata": {},
   "outputs": [],
   "source": [
    "plot.docs <- ggplot(aes(x = gamma), data = doc.top.gamma) +\n",
    "geom_density(aes(color = topic, fill = topic)) +\n",
    "scale_fill_discrete()+\n",
    "labs(#title = \"Documents assigned to topics has a narrow probability\\n distribution of around mean = 0.21\", \n",
    "    x = \"gamma probabilities\", y = \"Count\") +\n",
    "theme(axis.text.x=element_text(angle=90)) +\n",
    "facet_wrap(~topic)"
   ]
  },
  {
   "cell_type": "code",
   "execution_count": null,
   "metadata": {},
   "outputs": [],
   "source": [
    "###### Plot beta distributions of terms over topics (top 1000 terms)"
   ]
  },
  {
   "cell_type": "code",
   "execution_count": 91,
   "metadata": {},
   "outputs": [],
   "source": [
    "bigrams.lda.top1000 <- bigrams.topic %>% \n",
    "                            group_by(topic) %>%\n",
    "                                arrange(topic, desc(beta)) %>%\n",
    "                                slice(1:1000) %>%\n",
    "                            ungroup() %>%\n",
    "                            mutate(topic = as.character(topic)) %>%\n",
    "                            as.data.frame()"
   ]
  },
  {
   "cell_type": "code",
   "execution_count": 92,
   "metadata": {},
   "outputs": [],
   "source": [
    "bigrams.lda.top1000$beta_scale <- (bigrams.lda.top1000$beta- min(bigrams.lda.top1000$beta))/(max(bigrams.lda.top1000$beta) - min(bigrams.lda.top1000$beta))"
   ]
  },
  {
   "cell_type": "code",
   "execution_count": 93,
   "metadata": {
    "collapsed": true
   },
   "outputs": [
    {
     "data": {
      "text/plain": [
       "$`1`\n",
       "   Min. 1st Qu.  Median    Mean 3rd Qu.    Max. \n",
       " 0.3293  0.4274  0.5256  0.5278  0.6292  0.7345 \n",
       "\n",
       "$`2`\n",
       "   Min. 1st Qu.  Median    Mean 3rd Qu.    Max. \n",
       "0.00000 0.09897 0.20770 0.20975 0.32115 0.42050 \n",
       "\n",
       "$`3`\n",
       "   Min. 1st Qu.  Median    Mean 3rd Qu.    Max. \n",
       " 0.2697  0.3769  0.4775  0.4809  0.5838  0.6933 \n",
       "\n",
       "$`4`\n",
       "   Min. 1st Qu.  Median    Mean 3rd Qu.    Max. \n",
       " 0.5658  0.6676  0.7814  0.7802  0.8934  1.0000 \n",
       "\n",
       "$`5`\n",
       "   Min. 1st Qu.  Median    Mean 3rd Qu.    Max. \n",
       " 0.3568  0.4523  0.5574  0.5595  0.6671  0.7782 \n"
      ]
     },
     "metadata": {},
     "output_type": "display_data"
    }
   ],
   "source": [
    "tapply(bigrams.lda.top1000$beta_scale, bigrams.lda.top1000$topic, summary)"
   ]
  },
  {
   "cell_type": "code",
   "execution_count": 94,
   "metadata": {},
   "outputs": [],
   "source": [
    "plot.terms <- ggplot(aes(x = beta_scale), data = bigrams.lda.top1000) +\n",
    "geom_density(aes(color = topic, fill = topic)) +\n",
    "#scale_fill_discrete()+\n",
    "labs(#title = \"Terms assigned to topics has a narrow probability\\n distribution\", \n",
    "    x = \"beta probabilities (scaled 0 to 1)\", y = \"Count\") +\n",
    "theme(axis.text.x=element_text(angle=90)) +\n",
    "facet_wrap(~topic)"
   ]
  },
  {
   "cell_type": "code",
   "execution_count": 272,
   "metadata": {
    "collapsed": true
   },
   "outputs": [
    {
     "data": {
      "text/html": [
       "<table>\n",
       "<thead><tr><th scope=col>topic</th><th scope=col>term</th><th scope=col>beta</th></tr></thead>\n",
       "<tbody>\n",
       "\t<tr><td>1           </td><td>control_long</td><td>2.776260e-06</td></tr>\n",
       "\t<tr><td>2           </td><td>control_long</td><td>3.145385e-06</td></tr>\n",
       "\t<tr><td>3           </td><td>control_long</td><td>5.012724e-06</td></tr>\n",
       "\t<tr><td>4           </td><td>control_long</td><td>6.351120e-06</td></tr>\n",
       "\t<tr><td>5           </td><td>control_long</td><td>3.033724e-06</td></tr>\n",
       "\t<tr><td>1           </td><td>long_fucking</td><td>1.656755e-06</td></tr>\n",
       "</tbody>\n",
       "</table>\n"
      ],
      "text/latex": [
       "\\begin{tabular}{r|lll}\n",
       " topic & term & beta\\\\\n",
       "\\hline\n",
       "\t 1              & control\\_long & 2.776260e-06  \\\\\n",
       "\t 2              & control\\_long & 3.145385e-06  \\\\\n",
       "\t 3              & control\\_long & 5.012724e-06  \\\\\n",
       "\t 4              & control\\_long & 6.351120e-06  \\\\\n",
       "\t 5              & control\\_long & 3.033724e-06  \\\\\n",
       "\t 1              & long\\_fucking & 1.656755e-06  \\\\\n",
       "\\end{tabular}\n"
      ],
      "text/markdown": [
       "\n",
       "topic | term | beta | \n",
       "|---|---|---|---|---|---|\n",
       "| 1            | control_long | 2.776260e-06 | \n",
       "| 2            | control_long | 3.145385e-06 | \n",
       "| 3            | control_long | 5.012724e-06 | \n",
       "| 4            | control_long | 6.351120e-06 | \n",
       "| 5            | control_long | 3.033724e-06 | \n",
       "| 1            | long_fucking | 1.656755e-06 | \n",
       "\n",
       "\n"
      ],
      "text/plain": [
       "  topic term         beta        \n",
       "1 1     control_long 2.776260e-06\n",
       "2 2     control_long 3.145385e-06\n",
       "3 3     control_long 5.012724e-06\n",
       "4 4     control_long 6.351120e-06\n",
       "5 5     control_long 3.033724e-06\n",
       "6 1     long_fucking 1.656755e-06"
      ]
     },
     "metadata": {},
     "output_type": "display_data"
    }
   ],
   "source": [
    "head(bigrams.topic)"
   ]
  },
  {
   "cell_type": "code",
   "execution_count": null,
   "metadata": {},
   "outputs": [],
   "source": [
    "#### Grid plot of gamma and beta probabilities"
   ]
  },
  {
   "cell_type": "code",
   "execution_count": 92,
   "metadata": {},
   "outputs": [
    {
     "data": {},
     "metadata": {},
     "output_type": "display_data"
    },
    {
     "data": {
      "image/png": "[encoded data removed]",
      "text/plain": [
       "plot without title"
      ]
     },
     "metadata": {},
     "output_type": "display_data"
    }
   ],
   "source": [
    "plot_grid(plot.terms, plot.docs, ncol = 1, labels = \"AUTO\",\n",
    "          align = \"v\", axis = \"l\")"
   ]
  },
  {
   "cell_type": "markdown",
   "metadata": {},
   "source": [
    "LDA assigns a term to one topic. Based on this assignment. The following wordclouds of the top 20 terms are plotted."
   ]
  },
  {
   "cell_type": "code",
   "execution_count": null,
   "metadata": {},
   "outputs": [],
   "source": [
    "#### Plot top 20 terms in a topic"
   ]
  },
  {
   "cell_type": "code",
   "execution_count": 154,
   "metadata": {},
   "outputs": [],
   "source": [
    "bigrams.lda.top20 <- bigrams.topic %>% \n",
    "                            group_by(topic) %>%\n",
    "                                arrange(topic, desc(beta)) %>%\n",
    "                                slice(1:20) %>%\n",
    "                            ungroup() %>%\n",
    "                            mutate(topic = as.character(topic)) %>%\n",
    "                            as.data.frame()"
   ]
  },
  {
   "cell_type": "code",
   "execution_count": 155,
   "metadata": {},
   "outputs": [],
   "source": [
    "bigrams.lda.top20$beta_scale <- (bigrams.lda.top20$beta- min(bigrams.lda.top20$beta))/(max(bigrams.lda.top20$beta) - min(bigrams.lda.top20$beta))"
   ]
  },
  {
   "cell_type": "code",
   "execution_count": 156,
   "metadata": {},
   "outputs": [],
   "source": [
    "useset <- brewer.pal(8, \"Set1\")"
   ]
  },
  {
   "cell_type": "code",
   "execution_count": 157,
   "metadata": {},
   "outputs": [],
   "source": [
    "top20.tm <- spread(bigrams.lda.top20, \"topic\", \"beta_scale\") %>% dplyr::select(-beta) %>%\n",
    "            dplyr::rename(\"t1\" = `1`,\n",
    "                         \"t2\" = `2`, \n",
    "                         \"t3\" = `3`, \n",
    "                         \"t4\" = `4`, \n",
    "                         \"t5\" = `5`)"
   ]
  },
  {
   "cell_type": "code",
   "execution_count": 158,
   "metadata": {},
   "outputs": [],
   "source": [
    "top20.tm[ , c(\"t1\", \"t2\", \"t3\", \"t4\", \"t5\")] <- sapply(top20.tm[ , c(\"t1\", \"t2\", \"t3\", \n",
    "                                                                       \"t4\", \"t5\")], \n",
    "                                                         function(x) ifelse(is.na(x), 0, x))"
   ]
  },
  {
   "cell_type": "code",
   "execution_count": 159,
   "metadata": {},
   "outputs": [],
   "source": [
    "rownames(top20.tm) <- top20.tm$term\n",
    "top20.tm$term <- NULL"
   ]
  },
  {
   "cell_type": "code",
   "execution_count": 162,
   "metadata": {},
   "outputs": [
    {
     "data": {
      "image/png": "[encoded data removed]",
      "text/plain": [
       "plot without title"
      ]
     },
     "metadata": {},
     "output_type": "display_data"
    }
   ],
   "source": [
    "comparison.cloud(top20.tm, scale = c(0.9, 0.5), colors= useset, max.words\n",
    " = 150)"
   ]
  },
  {
   "cell_type": "markdown",
   "metadata": {},
   "source": [
    "No clear overall topic sentiment or underlying theme including positive sentiment. The topic distribution over documents is also narrow."
   ]
  },
  {
   "cell_type": "markdown",
   "metadata": {},
   "source": [
    "Distribution of documents in topics is extremely narrow for all 5 \n",
    "topics.\n",
    "Note the same analysis was also done using unigrams. The results mirrored the above.\n",
    "This shows the disadvantage of using LDA on short text found on Twitter. It however has the advantage of estimating number of topics for input into other topic modelling agorithms such as Single Value Decomposition (SVD) or Latent Semantic Analysis (LSA) using SVD, and Nonnegative Matrix Factorization(NNMF)."
   ]
  },
  {
   "cell_type": "markdown",
   "metadata": {},
   "source": [
    "#### Calculate cooccurence for any topic coherence"
   ]
  },
  {
   "cell_type": "code",
   "execution_count": 183,
   "metadata": {},
   "outputs": [],
   "source": [
    "bigrams.dtm.sp <- sparseMatrix(i=bigrams.dtm.vocab$i, j=bigrams.dtm.vocab$j, \n",
    "                           x=bigrams.dtm.vocab$v,  \n",
    "               dims=c(bigrams.dtm.vocab$nrow, bigrams.dtm.vocab$ncol))  "
   ]
  },
  {
   "cell_type": "code",
   "execution_count": null,
   "metadata": {},
   "outputs": [],
   "source": []
  },
  {
   "cell_type": "code",
   "execution_count": 184,
   "metadata": {},
   "outputs": [],
   "source": [
    "#### Cooccurence matrix (number of documents in which terms occur together) - D(x, y)"
   ]
  },
  {
   "cell_type": "code",
   "execution_count": 185,
   "metadata": {},
   "outputs": [],
   "source": [
    "cooc.bigrams <- t(bigrams.dtm.sp) %*% bigrams.dtm.sp"
   ]
  },
  {
   "cell_type": "code",
   "execution_count": 186,
   "metadata": {},
   "outputs": [],
   "source": [
    "colnames(cooc.bigrams) <- bigrams.dtm.vocab$dimnames$Terms\n",
    "rownames(cooc.bigrams) <- bigrams.dtm.vocab$dimnames$Terms"
   ]
  },
  {
   "cell_type": "code",
   "execution_count": 187,
   "metadata": {},
   "outputs": [],
   "source": [
    "#### Term frequency vector (number of documents in which a term occurs - by itself) - D(x)"
   ]
  },
  {
   "cell_type": "code",
   "execution_count": 188,
   "metadata": {},
   "outputs": [],
   "source": [
    "doc.freq.bigrams <- colSums(bigrams.dtm.sp)"
   ]
  },
  {
   "cell_type": "code",
   "execution_count": 189,
   "metadata": {},
   "outputs": [
    {
     "name": "stderr",
     "output_type": "stream",
     "text": [
      "Warning message:\n",
      "\"'tidy.dgCMatrix' is deprecated.\n",
      "See help(\"Deprecated\")\"Warning message:\n",
      "\"'tidy.dgTMatrix' is deprecated.\n",
      "See help(\"Deprecated\")\""
     ]
    }
   ],
   "source": [
    "td.cooc.bigrams <- tidy(cooc.bigrams)"
   ]
  },
  {
   "cell_type": "code",
   "execution_count": 190,
   "metadata": {},
   "outputs": [],
   "source": [
    "td.cooc.bigrams$value <- td.cooc.bigrams$value + 1"
   ]
  },
  {
   "cell_type": "code",
   "execution_count": 191,
   "metadata": {},
   "outputs": [],
   "source": [
    "cooc.bigrams.e <- cast_sparse(td.cooc.bigrams, row, column, value)"
   ]
  },
  {
   "cell_type": "code",
   "execution_count": 192,
   "metadata": {},
   "outputs": [],
   "source": [
    "colnames(cooc.bigrams.e) <- bigrams.dtm.vocab$dimnames$Terms\n",
    "rownames(cooc.bigrams.e) <- bigrams.dtm.vocab$dimnames$Terms"
   ]
  },
  {
   "cell_type": "code",
   "execution_count": 193,
   "metadata": {},
   "outputs": [],
   "source": [
    "#### Term frequency vector (number of documents in which a term occurs - by itself) - D(x)"
   ]
  },
  {
   "cell_type": "code",
   "execution_count": 194,
   "metadata": {},
   "outputs": [],
   "source": [
    "umass.bigrams <- (cooc.bigrams.e)/doc.freq.bigrams"
   ]
  },
  {
   "cell_type": "code",
   "execution_count": 195,
   "metadata": {},
   "outputs": [
    {
     "name": "stderr",
     "output_type": "stream",
     "text": [
      "Warning message:\n",
      "\"'tidy.dgCMatrix' is deprecated.\n",
      "See help(\"Deprecated\")\"Warning message:\n",
      "\"'tidy.dgTMatrix' is deprecated.\n",
      "See help(\"Deprecated\")\""
     ]
    }
   ],
   "source": [
    "umass.bigrams.log <- (tidy(cooc.bigrams.e/doc.freq.bigrams))"
   ]
  },
  {
   "cell_type": "code",
   "execution_count": 196,
   "metadata": {},
   "outputs": [],
   "source": [
    "umass.bigrams.log$value <- log(umass.bigrams.log$value)"
   ]
  },
  {
   "cell_type": "code",
   "execution_count": 197,
   "metadata": {},
   "outputs": [],
   "source": [
    "umass.bigrams.log.mat_e <- cast_sparse(umass.bigrams.log, row, column, value)"
   ]
  },
  {
   "cell_type": "code",
   "execution_count": 198,
   "metadata": {},
   "outputs": [
    {
     "data": {
      "text/html": [
       "<ol class=list-inline>\n",
       "\t<li>732416</li>\n",
       "\t<li>732416</li>\n",
       "</ol>\n"
      ],
      "text/latex": [
       "\\begin{enumerate*}\n",
       "\\item 732416\n",
       "\\item 732416\n",
       "\\end{enumerate*}\n"
      ],
      "text/markdown": [
       "1. 732416\n",
       "2. 732416\n",
       "\n",
       "\n"
      ],
      "text/plain": [
       "[1] 732416 732416"
      ]
     },
     "metadata": {},
     "output_type": "display_data"
    }
   ],
   "source": [
    "dim(umass.bigrams.log.mat_e)"
   ]
  },
  {
   "cell_type": "code",
   "execution_count": 199,
   "metadata": {},
   "outputs": [],
   "source": [
    "colnames(umass.bigrams.log.mat_e) <- colnames(cooc.bigrams.e)\n",
    "rownames(umass.bigrams.log.mat_e) <- rownames(cooc.bigrams.e)"
   ]
  },
  {
   "cell_type": "code",
   "execution_count": null,
   "metadata": {},
   "outputs": [],
   "source": [
    "##### Save umass and log"
   ]
  },
  {
   "cell_type": "code",
   "execution_count": 200,
   "metadata": {},
   "outputs": [],
   "source": [
    "#saveRDS(umass, \"C:\\\\MathLabASUS\\\\Courses\\\\Ryerson\\\\Project\\\\Data\\\\Files\\\\Topics\\\\umass.rds\")\n",
    "saveRDS(umass.bigrams.log.mat_e, \"../Topic modelling/Files/Metrics/umass_bigrams_log_mat_e.rds\")"
   ]
  },
  {
   "cell_type": "code",
   "execution_count": null,
   "metadata": {},
   "outputs": [],
   "source": [
    "### Create binary version of top terms. \n",
    "### 1 if term is in top 20 of topic, 0 otherwise"
   ]
  },
  {
   "cell_type": "code",
   "execution_count": 201,
   "metadata": {},
   "outputs": [],
   "source": [
    "bigrams.top.terms.lda.bin <- top20.tm"
   ]
  },
  {
   "cell_type": "code",
   "execution_count": 202,
   "metadata": {},
   "outputs": [],
   "source": [
    "bigrams.top.terms.lda.bin[ , \n",
    "                          2:ncol(bigrams.top.terms.lda.bin)] <- \n",
    "                                            ifelse(bigrams.top.terms.lda.bin[2:ncol(bigrams.top.terms.lda.bin)] \n",
    "                                                   > 0, 1, 0)"
   ]
  },
  {
   "cell_type": "code",
   "execution_count": 219,
   "metadata": {},
   "outputs": [],
   "source": [
    "bigrams.top.terms.lda.bin$term <- rownames(bigrams.top.terms.lda.bin)"
   ]
  },
  {
   "cell_type": "code",
   "execution_count": 220,
   "metadata": {
    "collapsed": true
   },
   "outputs": [
    {
     "data": {
      "text/html": [
       "<table>\n",
       "<thead><tr><th></th><th scope=col>t1</th><th scope=col>t2</th><th scope=col>t3</th><th scope=col>t4</th><th scope=col>t5</th><th scope=col>term</th></tr></thead>\n",
       "<tbody>\n",
       "\t<tr><th scope=row>activate_hate</th><td>0.0000000      </td><td>0              </td><td>0              </td><td>0              </td><td>1              </td><td>activate_hate  </td></tr>\n",
       "\t<tr><th scope=row>area_spike</th><td>0.0000000      </td><td>0              </td><td>1              </td><td>0              </td><td>0              </td><td>area_spike     </td></tr>\n",
       "\t<tr><th scope=row>avoidance_event</th><td>0.0000000      </td><td>0              </td><td>1              </td><td>0              </td><td>0              </td><td>avoidance_event</td></tr>\n",
       "\t<tr><th scope=row>away_begin</th><td>0.0000000      </td><td>1              </td><td>0              </td><td>0              </td><td>0              </td><td>away_begin     </td></tr>\n",
       "\t<tr><th scope=row>back_affection</th><td>0.5347723      </td><td>0              </td><td>0              </td><td>0              </td><td>0              </td><td>back_affection </td></tr>\n",
       "\t<tr><th scope=row>band_regards</th><td>0.5453084      </td><td>0              </td><td>0              </td><td>0              </td><td>0              </td><td>band_regards   </td></tr>\n",
       "</tbody>\n",
       "</table>\n"
      ],
      "text/latex": [
       "\\begin{tabular}{r|llllll}\n",
       "  & t1 & t2 & t3 & t4 & t5 & term\\\\\n",
       "\\hline\n",
       "\tactivate\\_hate & 0.0000000         & 0                 & 0                 & 0                 & 1                 & activate\\_hate  \\\\\n",
       "\tarea\\_spike & 0.0000000         & 0                 & 1                 & 0                 & 0                 & area\\_spike     \\\\\n",
       "\tavoidance\\_event & 0.0000000         & 0                 & 1                 & 0                 & 0                 & avoidance\\_event\\\\\n",
       "\taway\\_begin & 0.0000000         & 1                 & 0                 & 0                 & 0                 & away\\_begin     \\\\\n",
       "\tback\\_affection & 0.5347723         & 0                 & 0                 & 0                 & 0                 & back\\_affection \\\\\n",
       "\tband\\_regards & 0.5453084         & 0                 & 0                 & 0                 & 0                 & band\\_regards   \\\\\n",
       "\\end{tabular}\n"
      ],
      "text/markdown": [
       "\n",
       "| <!--/--> | t1 | t2 | t3 | t4 | t5 | term | \n",
       "|---|---|---|---|---|---|\n",
       "| activate_hate | 0.0000000       | 0               | 0               | 0               | 1               | activate_hate   | \n",
       "| area_spike | 0.0000000       | 0               | 1               | 0               | 0               | area_spike      | \n",
       "| avoidance_event | 0.0000000       | 0               | 1               | 0               | 0               | avoidance_event | \n",
       "| away_begin | 0.0000000       | 1               | 0               | 0               | 0               | away_begin      | \n",
       "| back_affection | 0.5347723       | 0               | 0               | 0               | 0               | back_affection  | \n",
       "| band_regards | 0.5453084       | 0               | 0               | 0               | 0               | band_regards    | \n",
       "\n",
       "\n"
      ],
      "text/plain": [
       "                t1        t2 t3 t4 t5 term           \n",
       "activate_hate   0.0000000 0  0  0  1  activate_hate  \n",
       "area_spike      0.0000000 0  1  0  0  area_spike     \n",
       "avoidance_event 0.0000000 0  1  0  0  avoidance_event\n",
       "away_begin      0.0000000 1  0  0  0  away_begin     \n",
       "back_affection  0.5347723 0  0  0  0  back_affection \n",
       "band_regards    0.5453084 0  0  0  0  band_regards   "
      ]
     },
     "metadata": {},
     "output_type": "display_data"
    }
   ],
   "source": [
    "head(bigrams.top.terms.lda.bin)"
   ]
  },
  {
   "cell_type": "code",
   "execution_count": 221,
   "metadata": {},
   "outputs": [],
   "source": [
    "#### Number of terms in topic\n",
    "N <- colSums(bigrams.top.terms.lda.bin[1:ncol(bigrams.top.terms.lda.bin)-1])"
   ]
  },
  {
   "cell_type": "code",
   "execution_count": null,
   "metadata": {},
   "outputs": [],
   "source": [
    "### Create coherence function"
   ]
  },
  {
   "cell_type": "code",
   "execution_count": 224,
   "metadata": {},
   "outputs": [],
   "source": [
    "coherence <- function(top.terms.bin, N, umass.bigrams.log.mat_e) \n",
    "{\n",
    "    get.coherence <- list()\n",
    "    for(i in 1:5) #length(ncol(top1000.tm) - 1)) \n",
    "    {\n",
    "        topic <- paste0(\"t\", i, separate = \"\")\n",
    "    \n",
    "      \n",
    "        topic.terms <- \n",
    "                        top.terms.bin %>% \n",
    "                        dplyr::select(one_of(c(topic, \"term\"))) %>%\n",
    "                        filter(!!sym(topic) == 1) %>%\n",
    "                        dplyr::select(one_of(c(\"term\")))\n",
    "        \n",
    "        term.cols <- umass.bigrams.log.mat_e[ , topic.terms$term]\n",
    "       \n",
    "        terms <- term.cols[topic.terms$term, ] \n",
    "        get.coherence[i] <- sum(terms) \n",
    "    }\n",
    "     get.coherence\n",
    "    \n",
    "}"
   ]
  },
  {
   "cell_type": "code",
   "execution_count": null,
   "metadata": {},
   "outputs": [],
   "source": [
    "### Coherence for top 20 terms in LDA "
   ]
  },
  {
   "cell_type": "code",
   "execution_count": 225,
   "metadata": {
    "scrolled": true
   },
   "outputs": [
    {
     "data": {
      "text/html": [
       "<ol>\n",
       "\t<li>0</li>\n",
       "\t<li>0</li>\n",
       "\t<li>0</li>\n",
       "\t<li>0</li>\n",
       "\t<li>0</li>\n",
       "</ol>\n"
      ],
      "text/latex": [
       "\\begin{enumerate}\n",
       "\\item 0\n",
       "\\item 0\n",
       "\\item 0\n",
       "\\item 0\n",
       "\\item 0\n",
       "\\end{enumerate}\n"
      ],
      "text/markdown": [
       "1. 0\n",
       "2. 0\n",
       "3. 0\n",
       "4. 0\n",
       "5. 0\n",
       "\n",
       "\n"
      ],
      "text/plain": [
       "[[1]]\n",
       "[1] 0\n",
       "\n",
       "[[2]]\n",
       "[1] 0\n",
       "\n",
       "[[3]]\n",
       "[1] 0\n",
       "\n",
       "[[4]]\n",
       "[1] 0\n",
       "\n",
       "[[5]]\n",
       "[1] 0\n"
      ]
     },
     "metadata": {},
     "output_type": "display_data"
    }
   ],
   "source": [
    "coherence(bigrams.top.terms.lda.bin, N, umass.bigrams.log.mat_e) "
   ]
  },
  {
   "cell_type": "code",
   "execution_count": null,
   "metadata": {},
   "outputs": [],
   "source": [
    "##### Topic modelling using SVD"
   ]
  },
  {
   "cell_type": "code",
   "execution_count": 226,
   "metadata": {},
   "outputs": [],
   "source": [
    "bigrams.tdm.sp <- cast_sparse(td.dfr.stats.vocab.bigrams, term, document, count)"
   ]
  },
  {
   "cell_type": "code",
   "execution_count": 227,
   "metadata": {},
   "outputs": [
    {
     "data": {
      "text/html": [
       "288421"
      ],
      "text/latex": [
       "288421"
      ],
      "text/markdown": [
       "288421"
      ],
      "text/plain": [
       "[1] 288421"
      ]
     },
     "metadata": {},
     "output_type": "display_data"
    }
   ],
   "source": [
    "ncol(bigrams.tdm.sp)"
   ]
  },
  {
   "cell_type": "code",
   "execution_count": null,
   "metadata": {},
   "outputs": [],
   "source": [
    "##### Topic modelling using SVD"
   ]
  },
  {
   "cell_type": "code",
   "execution_count": 228,
   "metadata": {},
   "outputs": [
    {
     "data": {
      "text/plain": [
       "   user  system elapsed \n",
       "  77.39   15.13   72.92 "
      ]
     },
     "metadata": {},
     "output_type": "display_data"
    }
   ],
   "source": [
    "set.seed(20181110)\n",
    "ptm <- proc.time()\n",
    "svd.k.bg <- irlba::svdr(bigrams.tdm.sp, k = 5,  it = 100, \n",
    "                 tol = 1e-8)#, \n",
    "        #center = Matrix::colMeans(bigrams.tdm.sp)) #, scale = TRUE)\n",
    "proc.time() - ptm"
   ]
  },
  {
   "cell_type": "code",
   "execution_count": 229,
   "metadata": {
    "scrolled": true
   },
   "outputs": [
    {
     "data": {
      "text/html": [
       "<ol class=list-inline>\n",
       "\t<li>11.2533190391441</li>\n",
       "\t<li>9.15636806439783</li>\n",
       "\t<li>9.0338632576184</li>\n",
       "\t<li>8.98042146472409</li>\n",
       "\t<li>8.96865562750284</li>\n",
       "</ol>\n"
      ],
      "text/latex": [
       "\\begin{enumerate*}\n",
       "\\item 11.2533190391441\n",
       "\\item 9.15636806439783\n",
       "\\item 9.0338632576184\n",
       "\\item 8.98042146472409\n",
       "\\item 8.96865562750284\n",
       "\\end{enumerate*}\n"
      ],
      "text/markdown": [
       "1. 11.2533190391441\n",
       "2. 9.15636806439783\n",
       "3. 9.0338632576184\n",
       "4. 8.98042146472409\n",
       "5. 8.96865562750284\n",
       "\n",
       "\n"
      ],
      "text/plain": [
       "[1] 11.253319  9.156368  9.033863  8.980421  8.968656"
      ]
     },
     "metadata": {},
     "output_type": "display_data"
    }
   ],
   "source": [
    "svd.k.bg$d"
   ]
  },
  {
   "cell_type": "code",
   "execution_count": 230,
   "metadata": {},
   "outputs": [],
   "source": [
    "svd.pcs <- broom::tidy_irlba(svd.k.bg, matrix = \"d\")"
   ]
  },
  {
   "cell_type": "code",
   "execution_count": null,
   "metadata": {},
   "outputs": [],
   "source": [
    "### Get principal components of topics"
   ]
  },
  {
   "cell_type": "code",
   "execution_count": 231,
   "metadata": {
    "collapsed": true
   },
   "outputs": [
    {
     "data": {
      "text/html": [
       "<table>\n",
       "<thead><tr><th scope=col>PC</th><th scope=col>std.dev</th><th scope=col>percent</th><th scope=col>cumulative</th></tr></thead>\n",
       "<tbody>\n",
       "\t<tr><td>1        </td><td>11.253319</td><td>0.2794464</td><td>0.2794464</td></tr>\n",
       "\t<tr><td>2        </td><td> 9.156368</td><td>0.1850051</td><td>0.4644515</td></tr>\n",
       "\t<tr><td>3        </td><td> 9.033863</td><td>0.1800878</td><td>0.6445393</td></tr>\n",
       "\t<tr><td>4        </td><td> 8.980421</td><td>0.1779634</td><td>0.8225026</td></tr>\n",
       "\t<tr><td>5        </td><td> 8.968656</td><td>0.1774974</td><td>1.0000000</td></tr>\n",
       "</tbody>\n",
       "</table>\n"
      ],
      "text/latex": [
       "\\begin{tabular}{r|llll}\n",
       " PC & std.dev & percent & cumulative\\\\\n",
       "\\hline\n",
       "\t 1         & 11.253319 & 0.2794464 & 0.2794464\\\\\n",
       "\t 2         &  9.156368 & 0.1850051 & 0.4644515\\\\\n",
       "\t 3         &  9.033863 & 0.1800878 & 0.6445393\\\\\n",
       "\t 4         &  8.980421 & 0.1779634 & 0.8225026\\\\\n",
       "\t 5         &  8.968656 & 0.1774974 & 1.0000000\\\\\n",
       "\\end{tabular}\n"
      ],
      "text/markdown": [
       "\n",
       "PC | std.dev | percent | cumulative | \n",
       "|---|---|---|---|---|\n",
       "| 1         | 11.253319 | 0.2794464 | 0.2794464 | \n",
       "| 2         |  9.156368 | 0.1850051 | 0.4644515 | \n",
       "| 3         |  9.033863 | 0.1800878 | 0.6445393 | \n",
       "| 4         |  8.980421 | 0.1779634 | 0.8225026 | \n",
       "| 5         |  8.968656 | 0.1774974 | 1.0000000 | \n",
       "\n",
       "\n"
      ],
      "text/plain": [
       "  PC std.dev   percent   cumulative\n",
       "1 1  11.253319 0.2794464 0.2794464 \n",
       "2 2   9.156368 0.1850051 0.4644515 \n",
       "3 3   9.033863 0.1800878 0.6445393 \n",
       "4 4   8.980421 0.1779634 0.8225026 \n",
       "5 5   8.968656 0.1774974 1.0000000 "
      ]
     },
     "metadata": {},
     "output_type": "display_data"
    }
   ],
   "source": [
    "svd.pcs"
   ]
  },
  {
   "cell_type": "code",
   "execution_count": null,
   "metadata": {},
   "outputs": [],
   "source": [
    "### Create a Term Document  Matrix"
   ]
  },
  {
   "cell_type": "code",
   "execution_count": 234,
   "metadata": {
    "scrolled": false
   },
   "outputs": [
    {
     "name": "stderr",
     "output_type": "stream",
     "text": [
      "Warning message:\n",
      "\"'tidy.dgCMatrix' is deprecated.\n",
      "See help(\"Deprecated\")\"Warning message:\n",
      "\"'tidy.dgTMatrix' is deprecated.\n",
      "See help(\"Deprecated\")\""
     ]
    }
   ],
   "source": [
    " td.tdm.bigrams <- tidy(bigrams.tdm.sp)"
   ]
  },
  {
   "cell_type": "code",
   "execution_count": 235,
   "metadata": {},
   "outputs": [],
   "source": [
    "tdm.bigrams <- cast_tdm(td.tdm.bigrams, row, column, value)"
   ]
  },
  {
   "cell_type": "code",
   "execution_count": 236,
   "metadata": {},
   "outputs": [],
   "source": [
    "svd.terms <- broom::tidy_irlba(svd.k.bg, matrix = \"v\")"
   ]
  },
  {
   "cell_type": "code",
   "execution_count": 382,
   "metadata": {
    "collapsed": true
   },
   "outputs": [
    {
     "data": {
      "text/html": [
       "<table>\n",
       "<thead><tr><th scope=col>column</th><th scope=col>PC</th><th scope=col>value</th></tr></thead>\n",
       "<tbody>\n",
       "\t<tr><td>1           </td><td>1           </td><td>7.616025e-09</td></tr>\n",
       "\t<tr><td>2           </td><td>1           </td><td>2.008860e-08</td></tr>\n",
       "\t<tr><td>3           </td><td>1           </td><td>3.300558e-10</td></tr>\n",
       "\t<tr><td>4           </td><td>1           </td><td>9.785441e-10</td></tr>\n",
       "\t<tr><td>5           </td><td>1           </td><td>1.614787e-09</td></tr>\n",
       "\t<tr><td>6           </td><td>1           </td><td>2.477249e-10</td></tr>\n",
       "</tbody>\n",
       "</table>\n"
      ],
      "text/latex": [
       "\\begin{tabular}{r|lll}\n",
       " column & PC & value\\\\\n",
       "\\hline\n",
       "\t 1            & 1            & 7.616025e-09\\\\\n",
       "\t 2            & 1            & 2.008860e-08\\\\\n",
       "\t 3            & 1            & 3.300558e-10\\\\\n",
       "\t 4            & 1            & 9.785441e-10\\\\\n",
       "\t 5            & 1            & 1.614787e-09\\\\\n",
       "\t 6            & 1            & 2.477249e-10\\\\\n",
       "\\end{tabular}\n"
      ],
      "text/markdown": [
       "\n",
       "column | PC | value | \n",
       "|---|---|---|---|---|---|\n",
       "| 1            | 1            | 7.616025e-09 | \n",
       "| 2            | 1            | 2.008860e-08 | \n",
       "| 3            | 1            | 3.300558e-10 | \n",
       "| 4            | 1            | 9.785441e-10 | \n",
       "| 5            | 1            | 1.614787e-09 | \n",
       "| 6            | 1            | 2.477249e-10 | \n",
       "\n",
       "\n"
      ],
      "text/plain": [
       "  column PC value       \n",
       "1 1      1  7.616025e-09\n",
       "2 2      1  2.008860e-08\n",
       "3 3      1  3.300558e-10\n",
       "4 4      1  9.785441e-10\n",
       "5 5      1  1.614787e-09\n",
       "6 6      1  2.477249e-10"
      ]
     },
     "metadata": {},
     "output_type": "display_data"
    }
   ],
   "source": [
    "head(svd.terms)"
   ]
  },
  {
   "cell_type": "code",
   "execution_count": 237,
   "metadata": {},
   "outputs": [],
   "source": [
    "bigrams.tdm.svd <- cast_tdm(td.dfr.stats.vocab.bigrams, term, document, count)"
   ]
  },
  {
   "cell_type": "code",
   "execution_count": 238,
   "metadata": {},
   "outputs": [],
   "source": [
    "rownames(bigrams.tdm.sp) <- bigrams.tdm.svd$dimnames$Terms"
   ]
  },
  {
   "cell_type": "code",
   "execution_count": null,
   "metadata": {},
   "outputs": [],
   "source": [
    "### Extract terms"
   ]
  },
  {
   "cell_type": "code",
   "execution_count": 241,
   "metadata": {},
   "outputs": [],
   "source": [
    "terms <- data.frame(terms = bigrams.tdm.svd$dimnames$Terms, \n",
    "                    id = seq(1, length(bigrams.tdm.svd$dimnames$Terms)))"
   ]
  },
  {
   "cell_type": "code",
   "execution_count": 242,
   "metadata": {},
   "outputs": [],
   "source": [
    "terms <- terms %>% inner_join(svd.terms, by = c(\"id\" = \"column\"))"
   ]
  },
  {
   "cell_type": "code",
   "execution_count": null,
   "metadata": {},
   "outputs": [],
   "source": [
    "#### Plot terms distribution"
   ]
  },
  {
   "cell_type": "code",
   "execution_count": 274,
   "metadata": {},
   "outputs": [],
   "source": [
    "terms.plot <- terms %>% dplyr::rename(\"topic\" = \"PC\") %>%\n",
    "                        mutate(topic = as.character(topic))"
   ]
  },
  {
   "cell_type": "code",
   "execution_count": 284,
   "metadata": {},
   "outputs": [],
   "source": [
    "plot.terms.svd <- \n",
    "ggplot(aes(x = value), data = terms.plot) +\n",
    "geom_density(aes(color = topic, fill = topic)) +\n",
    "#scale_x_discrete(limits = c(-50, 50), breaks = seq(-50, 50, 1)) +\n",
    "labs(#title = \"Terms assigned to topics has a narrow probability\\n distribution\", \n",
    "    x = \"Right matrix components (terms assgined to topics)\", y = \"Count\") +\n",
    "theme(axis.text.x=element_text(angle=90)) +\n",
    "facet_wrap(~topic, ncol = 5)"
   ]
  },
  {
   "cell_type": "code",
   "execution_count": 269,
   "metadata": {},
   "outputs": [],
   "source": [
    "top.terms.svd <- terms %>% dplyr::select(everything()) %>%\n",
    "                            dplyr::rename(\"topic\" = \"PC\") %>%\n",
    "                            group_by(topic) %>%\n",
    "                             arrange(topic, desc(value)) %>%\n",
    "                                slice(1:20) %>%\n",
    "                            as.data.frame()"
   ]
  },
  {
   "cell_type": "code",
   "execution_count": 270,
   "metadata": {
    "scrolled": true
   },
   "outputs": [
    {
     "data": {
      "text/html": [
       "<table>\n",
       "<thead><tr><th scope=col>terms</th><th scope=col>id</th><th scope=col>topic</th><th scope=col>value</th></tr></thead>\n",
       "<tbody>\n",
       "\t<tr><td>several_member  </td><td>154142          </td><td>1               </td><td>0.3114911       </td></tr>\n",
       "\t<tr><td>deny_provocation</td><td>154151          </td><td>1               </td><td>0.3012434       </td></tr>\n",
       "\t<tr><td>credit_release  </td><td>154141          </td><td>1               </td><td>0.2969532       </td></tr>\n",
       "\t<tr><td>respect_citizen </td><td>154146          </td><td>1               </td><td>0.2867055       </td></tr>\n",
       "\t<tr><td>criminal_neither</td><td>154751          </td><td>1               </td><td>0.2789895       </td></tr>\n",
       "\t<tr><td>bacall_take     </td><td>154140          </td><td>1               </td><td>0.2779567       </td></tr>\n",
       "</tbody>\n",
       "</table>\n"
      ],
      "text/latex": [
       "\\begin{tabular}{r|llll}\n",
       " terms & id & topic & value\\\\\n",
       "\\hline\n",
       "\t several\\_member   & 154142             & 1                  & 0.3114911         \\\\\n",
       "\t deny\\_provocation & 154151             & 1                  & 0.3012434         \\\\\n",
       "\t credit\\_release   & 154141             & 1                  & 0.2969532         \\\\\n",
       "\t respect\\_citizen  & 154146             & 1                  & 0.2867055         \\\\\n",
       "\t criminal\\_neither & 154751             & 1                  & 0.2789895         \\\\\n",
       "\t bacall\\_take      & 154140             & 1                  & 0.2779567         \\\\\n",
       "\\end{tabular}\n"
      ],
      "text/markdown": [
       "\n",
       "terms | id | topic | value | \n",
       "|---|---|---|---|---|---|\n",
       "| several_member   | 154142           | 1                | 0.3114911        | \n",
       "| deny_provocation | 154151           | 1                | 0.3012434        | \n",
       "| credit_release   | 154141           | 1                | 0.2969532        | \n",
       "| respect_citizen  | 154146           | 1                | 0.2867055        | \n",
       "| criminal_neither | 154751           | 1                | 0.2789895        | \n",
       "| bacall_take      | 154140           | 1                | 0.2779567        | \n",
       "\n",
       "\n"
      ],
      "text/plain": [
       "  terms            id     topic value    \n",
       "1 several_member   154142 1     0.3114911\n",
       "2 deny_provocation 154151 1     0.3012434\n",
       "3 credit_release   154141 1     0.2969532\n",
       "4 respect_citizen  154146 1     0.2867055\n",
       "5 criminal_neither 154751 1     0.2789895\n",
       "6 bacall_take      154140 1     0.2779567"
      ]
     },
     "metadata": {},
     "output_type": "display_data"
    }
   ],
   "source": [
    "head(top.terms.svd)"
   ]
  },
  {
   "cell_type": "code",
   "execution_count": 271,
   "metadata": {},
   "outputs": [],
   "source": [
    "top.terms.svd2 <- spread(top.terms.svd, \"topic\", \"value\") %>% \n",
    "            dplyr::rename(\"t1\" = `1`,\n",
    "                         \"t2\" = `2`, \n",
    "                         \"t3\" = `3`, \n",
    "                         \"t4\" = `4`, \n",
    "                         \"t5\" = `5`) %>% dplyr::select(-id) %>%\n",
    "            dplyr::rename(\"term\" = \"terms\")"
   ]
  },
  {
   "cell_type": "code",
   "execution_count": 1204,
   "metadata": {
    "collapsed": true
   },
   "outputs": [
    {
     "data": {
      "text/html": [
       "<table>\n",
       "<thead><tr><th></th><th scope=col>term</th><th scope=col>t1</th><th scope=col>t2</th><th scope=col>t3</th><th scope=col>t4</th><th scope=col>t5</th></tr></thead>\n",
       "<tbody>\n",
       "\t<tr><th scope=row>195</th><td>work_maybe        </td><td>        NA        </td><td>0.02202491        </td><td>NA                </td><td>         NA       </td><td>         NA       </td></tr>\n",
       "\t<tr><th scope=row>196</th><td>world_obama       </td><td>        NA        </td><td>        NA        </td><td>NA                </td><td>0.007351467       </td><td>0.005224577       </td></tr>\n",
       "\t<tr><th scope=row>197</th><td>would_armor       </td><td>        NA        </td><td>0.02202491        </td><td>NA                </td><td>         NA       </td><td>         NA       </td></tr>\n",
       "\t<tr><th scope=row>198</th><td>yazidis_christians</td><td>0.01670593        </td><td>        NA        </td><td>NA                </td><td>         NA       </td><td>         NA       </td></tr>\n",
       "\t<tr><th scope=row>199</th><td>year_usual        </td><td>0.01670593        </td><td>        NA        </td><td>NA                </td><td>         NA       </td><td>         NA       </td></tr>\n",
       "\t<tr><th scope=row>200</th><td>youve_hear        </td><td>        NA        </td><td>0.02202491        </td><td>NA                </td><td>         NA       </td><td>         NA       </td></tr>\n",
       "</tbody>\n",
       "</table>\n"
      ],
      "text/latex": [
       "\\begin{tabular}{r|llllll}\n",
       "  & term & t1 & t2 & t3 & t4 & t5\\\\\n",
       "\\hline\n",
       "\t195 & work\\_maybe         &         NA           & 0.02202491           & NA                   &          NA          &          NA         \\\\\n",
       "\t196 & world\\_obama        &         NA           &         NA           & NA                   & 0.007351467          & 0.005224577         \\\\\n",
       "\t197 & would\\_armor        &         NA           & 0.02202491           & NA                   &          NA          &          NA         \\\\\n",
       "\t198 & yazidis\\_christians & 0.01670593           &         NA           & NA                   &          NA          &          NA         \\\\\n",
       "\t199 & year\\_usual         & 0.01670593           &         NA           & NA                   &          NA          &          NA         \\\\\n",
       "\t200 & youve\\_hear         &         NA           & 0.02202491           & NA                   &          NA          &          NA         \\\\\n",
       "\\end{tabular}\n"
      ],
      "text/markdown": [
       "\n",
       "| <!--/--> | term | t1 | t2 | t3 | t4 | t5 | \n",
       "|---|---|---|---|---|---|\n",
       "| 195 | work_maybe         |         NA         | 0.02202491         | NA                 |          NA        |          NA        | \n",
       "| 196 | world_obama        |         NA         |         NA         | NA                 | 0.007351467        | 0.005224577        | \n",
       "| 197 | would_armor        |         NA         | 0.02202491         | NA                 |          NA        |          NA        | \n",
       "| 198 | yazidis_christians | 0.01670593         |         NA         | NA                 |          NA        |          NA        | \n",
       "| 199 | year_usual         | 0.01670593         |         NA         | NA                 |          NA        |          NA        | \n",
       "| 200 | youve_hear         |         NA         | 0.02202491         | NA                 |          NA        |          NA        | \n",
       "\n",
       "\n"
      ],
      "text/plain": [
       "    term               t1         t2         t3 t4          t5         \n",
       "195 work_maybe                 NA 0.02202491 NA          NA          NA\n",
       "196 world_obama                NA         NA NA 0.007351467 0.005224577\n",
       "197 would_armor                NA 0.02202491 NA          NA          NA\n",
       "198 yazidis_christians 0.01670593         NA NA          NA          NA\n",
       "199 year_usual         0.01670593         NA NA          NA          NA\n",
       "200 youve_hear                 NA 0.02202491 NA          NA          NA"
      ]
     },
     "metadata": {},
     "output_type": "display_data"
    }
   ],
   "source": [
    "tail(top.terms.svd2)"
   ]
  },
  {
   "cell_type": "code",
   "execution_count": 272,
   "metadata": {},
   "outputs": [],
   "source": [
    "top.terms.svd2[ , c(\"t1\", \"t2\", \"t3\", \"t4\", \"t5\")] <- sapply(top.terms.svd2[ , \n",
    "                                                                            c(\"t1\", \"t2\", \n",
    "                                                                              \"t3\", \n",
    "                                                                       \"t4\", \"t5\")], \n",
    "                                                         function(x) ifelse(is.na(x), 0, \n",
    "                                                                            x))"
   ]
  },
  {
   "cell_type": "code",
   "execution_count": 273,
   "metadata": {
    "scrolled": true
   },
   "outputs": [
    {
     "data": {
      "text/html": [
       "<table>\n",
       "<thead><tr><th scope=col>term</th><th scope=col>t1</th><th scope=col>t2</th><th scope=col>t3</th><th scope=col>t4</th><th scope=col>t5</th></tr></thead>\n",
       "<tbody>\n",
       "\t<tr><td>acquittal_means</td><td>0.0000000      </td><td>0.000000e+00   </td><td>0.0000e+00     </td><td>0.1464102      </td><td>0.000000e+00   </td></tr>\n",
       "\t<tr><td>bacall_take    </td><td>0.2779567      </td><td>0.000000e+00   </td><td>0.0000e+00     </td><td>0.0000000      </td><td>0.000000e+00   </td></tr>\n",
       "\t<tr><td>better_vice    </td><td>0.0000000      </td><td>5.020852e-06   </td><td>0.0000e+00     </td><td>0.0000000      </td><td>0.000000e+00   </td></tr>\n",
       "\t<tr><td>black_whats    </td><td>0.0000000      </td><td>0.000000e+00   </td><td>0.0000e+00     </td><td>0.1748631      </td><td>0.000000e+00   </td></tr>\n",
       "\t<tr><td>bodily_harm    </td><td>0.0000000      </td><td>0.000000e+00   </td><td>0.0000e+00     </td><td>0.1885827      </td><td>0.000000e+00   </td></tr>\n",
       "\t<tr><td>break_canister </td><td>0.0000000      </td><td>0.000000e+00   </td><td>3.6744e-05     </td><td>0.0000000      </td><td>5.080774e-05   </td></tr>\n",
       "</tbody>\n",
       "</table>\n"
      ],
      "text/latex": [
       "\\begin{tabular}{r|llllll}\n",
       " term & t1 & t2 & t3 & t4 & t5\\\\\n",
       "\\hline\n",
       "\t acquittal\\_means & 0.0000000         & 0.000000e+00      & 0.0000e+00        & 0.1464102         & 0.000000e+00     \\\\\n",
       "\t bacall\\_take     & 0.2779567         & 0.000000e+00      & 0.0000e+00        & 0.0000000         & 0.000000e+00     \\\\\n",
       "\t better\\_vice     & 0.0000000         & 5.020852e-06      & 0.0000e+00        & 0.0000000         & 0.000000e+00     \\\\\n",
       "\t black\\_whats     & 0.0000000         & 0.000000e+00      & 0.0000e+00        & 0.1748631         & 0.000000e+00     \\\\\n",
       "\t bodily\\_harm     & 0.0000000         & 0.000000e+00      & 0.0000e+00        & 0.1885827         & 0.000000e+00     \\\\\n",
       "\t break\\_canister  & 0.0000000         & 0.000000e+00      & 3.6744e-05        & 0.0000000         & 5.080774e-05     \\\\\n",
       "\\end{tabular}\n"
      ],
      "text/markdown": [
       "\n",
       "term | t1 | t2 | t3 | t4 | t5 | \n",
       "|---|---|---|---|---|---|\n",
       "| acquittal_means | 0.0000000       | 0.000000e+00    | 0.0000e+00      | 0.1464102       | 0.000000e+00    | \n",
       "| bacall_take     | 0.2779567       | 0.000000e+00    | 0.0000e+00      | 0.0000000       | 0.000000e+00    | \n",
       "| better_vice     | 0.0000000       | 5.020852e-06    | 0.0000e+00      | 0.0000000       | 0.000000e+00    | \n",
       "| black_whats     | 0.0000000       | 0.000000e+00    | 0.0000e+00      | 0.1748631       | 0.000000e+00    | \n",
       "| bodily_harm     | 0.0000000       | 0.000000e+00    | 0.0000e+00      | 0.1885827       | 0.000000e+00    | \n",
       "| break_canister  | 0.0000000       | 0.000000e+00    | 3.6744e-05      | 0.0000000       | 5.080774e-05    | \n",
       "\n",
       "\n"
      ],
      "text/plain": [
       "  term            t1        t2           t3         t4        t5          \n",
       "1 acquittal_means 0.0000000 0.000000e+00 0.0000e+00 0.1464102 0.000000e+00\n",
       "2 bacall_take     0.2779567 0.000000e+00 0.0000e+00 0.0000000 0.000000e+00\n",
       "3 better_vice     0.0000000 5.020852e-06 0.0000e+00 0.0000000 0.000000e+00\n",
       "4 black_whats     0.0000000 0.000000e+00 0.0000e+00 0.1748631 0.000000e+00\n",
       "5 bodily_harm     0.0000000 0.000000e+00 0.0000e+00 0.1885827 0.000000e+00\n",
       "6 break_canister  0.0000000 0.000000e+00 3.6744e-05 0.0000000 5.080774e-05"
      ]
     },
     "metadata": {},
     "output_type": "display_data"
    }
   ],
   "source": [
    "head(top.terms.svd2)"
   ]
  },
  {
   "cell_type": "code",
   "execution_count": null,
   "metadata": {},
   "outputs": [],
   "source": [
    "### Create binary version of top 20 terms"
   ]
  },
  {
   "cell_type": "code",
   "execution_count": 249,
   "metadata": {},
   "outputs": [],
   "source": [
    "top.terms.svd2.bin <- top.terms.svd2"
   ]
  },
  {
   "cell_type": "code",
   "execution_count": 250,
   "metadata": {
    "scrolled": true
   },
   "outputs": [],
   "source": [
    "top.terms.svd2.bin[ , 2:ncol(top.terms.svd2.bin)] <- \n",
    "                                            ifelse(top.terms.svd2.bin[2:ncol(top.terms.svd2.bin)] \n",
    "                                                   > 0, 1, 0)"
   ]
  },
  {
   "cell_type": "code",
   "execution_count": 253,
   "metadata": {
    "collapsed": true
   },
   "outputs": [
    {
     "data": {
      "text/html": [
       "<table>\n",
       "<thead><tr><th></th><th scope=col>term</th><th scope=col>t1</th><th scope=col>t2</th><th scope=col>t3</th><th scope=col>t4</th><th scope=col>t5</th></tr></thead>\n",
       "<tbody>\n",
       "\t<tr><th scope=row>83</th><td>whoa_breaking </td><td>0             </td><td>1             </td><td>0             </td><td>0             </td><td>0             </td></tr>\n",
       "\t<tr><th scope=row>84</th><td>wish_something</td><td>0             </td><td>1             </td><td>0             </td><td>0             </td><td>0             </td></tr>\n",
       "\t<tr><th scope=row>85</th><td>wonder_need   </td><td>0             </td><td>0             </td><td>0             </td><td>1             </td><td>0             </td></tr>\n",
       "\t<tr><th scope=row>86</th><td>worrisome_turn</td><td>1             </td><td>0             </td><td>0             </td><td>0             </td><td>0             </td></tr>\n",
       "\t<tr><th scope=row>87</th><td>worse_maybe   </td><td>0             </td><td>1             </td><td>0             </td><td>0             </td><td>0             </td></tr>\n",
       "\t<tr><th scope=row>88</th><td>youth_protest </td><td>0             </td><td>1             </td><td>0             </td><td>0             </td><td>0             </td></tr>\n",
       "</tbody>\n",
       "</table>\n"
      ],
      "text/latex": [
       "\\begin{tabular}{r|llllll}\n",
       "  & term & t1 & t2 & t3 & t4 & t5\\\\\n",
       "\\hline\n",
       "\t83 & whoa\\_breaking  & 0                & 1                & 0                & 0                & 0               \\\\\n",
       "\t84 & wish\\_something & 0                & 1                & 0                & 0                & 0               \\\\\n",
       "\t85 & wonder\\_need    & 0                & 0                & 0                & 1                & 0               \\\\\n",
       "\t86 & worrisome\\_turn & 1                & 0                & 0                & 0                & 0               \\\\\n",
       "\t87 & worse\\_maybe    & 0                & 1                & 0                & 0                & 0               \\\\\n",
       "\t88 & youth\\_protest  & 0                & 1                & 0                & 0                & 0               \\\\\n",
       "\\end{tabular}\n"
      ],
      "text/markdown": [
       "\n",
       "| <!--/--> | term | t1 | t2 | t3 | t4 | t5 | \n",
       "|---|---|---|---|---|---|\n",
       "| 83 | whoa_breaking  | 0              | 1              | 0              | 0              | 0              | \n",
       "| 84 | wish_something | 0              | 1              | 0              | 0              | 0              | \n",
       "| 85 | wonder_need    | 0              | 0              | 0              | 1              | 0              | \n",
       "| 86 | worrisome_turn | 1              | 0              | 0              | 0              | 0              | \n",
       "| 87 | worse_maybe    | 0              | 1              | 0              | 0              | 0              | \n",
       "| 88 | youth_protest  | 0              | 1              | 0              | 0              | 0              | \n",
       "\n",
       "\n"
      ],
      "text/plain": [
       "   term           t1 t2 t3 t4 t5\n",
       "83 whoa_breaking  0  1  0  0  0 \n",
       "84 wish_something 0  1  0  0  0 \n",
       "85 wonder_need    0  0  0  1  0 \n",
       "86 worrisome_turn 1  0  0  0  0 \n",
       "87 worse_maybe    0  1  0  0  0 \n",
       "88 youth_protest  0  1  0  0  0 "
      ]
     },
     "metadata": {},
     "output_type": "display_data"
    }
   ],
   "source": [
    "tail(top.terms.svd2.bin, 6)"
   ]
  },
  {
   "cell_type": "code",
   "execution_count": 251,
   "metadata": {},
   "outputs": [],
   "source": [
    "N.svd2 <- colSums(top.terms.svd2.bin[2:ncol(top.terms.svd2.bin)])"
   ]
  },
  {
   "cell_type": "code",
   "execution_count": 255,
   "metadata": {
    "collapsed": true
   },
   "outputs": [
    {
     "data": {
      "text/html": [
       "<ol>\n",
       "\t<li>0</li>\n",
       "\t<li>0</li>\n",
       "\t<li>0</li>\n",
       "\t<li>0</li>\n",
       "\t<li>0</li>\n",
       "</ol>\n"
      ],
      "text/latex": [
       "\\begin{enumerate}\n",
       "\\item 0\n",
       "\\item 0\n",
       "\\item 0\n",
       "\\item 0\n",
       "\\item 0\n",
       "\\end{enumerate}\n"
      ],
      "text/markdown": [
       "1. 0\n",
       "2. 0\n",
       "3. 0\n",
       "4. 0\n",
       "5. 0\n",
       "\n",
       "\n"
      ],
      "text/plain": [
       "[[1]]\n",
       "[1] 0\n",
       "\n",
       "[[2]]\n",
       "[1] 0\n",
       "\n",
       "[[3]]\n",
       "[1] 0\n",
       "\n",
       "[[4]]\n",
       "[1] 0\n",
       "\n",
       "[[5]]\n",
       "[1] 0\n"
      ]
     },
     "metadata": {},
     "output_type": "display_data"
    }
   ],
   "source": [
    "(coherence(top.terms.svd2.bin, N.svd2, umass.bigrams.log.mat_e))"
   ]
  },
  {
   "cell_type": "code",
   "execution_count": null,
   "metadata": {},
   "outputs": [],
   "source": [
    "SVD - Top 20 terms returns coherence of zero for all 5 topics"
   ]
  },
  {
   "cell_type": "code",
   "execution_count": 1223,
   "metadata": {},
   "outputs": [],
   "source": [
    "top.terms.svd2.bin$term <- as.character(top.terms.svd2.bin$term)"
   ]
  },
  {
   "cell_type": "code",
   "execution_count": 1117,
   "metadata": {},
   "outputs": [],
   "source": [
    "get.t2 <- as.matrix(data.frame(term = terms@Dimnames[1], value = rnorm(100, 2, 0.8)))"
   ]
  },
  {
   "cell_type": "code",
   "execution_count": 256,
   "metadata": {},
   "outputs": [],
   "source": [
    "plot.t2 <- top.terms.svd2"
   ]
  },
  {
   "cell_type": "code",
   "execution_count": 257,
   "metadata": {},
   "outputs": [],
   "source": [
    "rownames(plot.t2) <- as.character(top.terms.svd2$term)"
   ]
  },
  {
   "cell_type": "code",
   "execution_count": 258,
   "metadata": {},
   "outputs": [],
   "source": [
    "plot.t2$term <-NULL"
   ]
  },
  {
   "cell_type": "code",
   "execution_count": 260,
   "metadata": {},
   "outputs": [
    {
     "data": {
      "image/png": "[encoded data removed]",
      "text/plain": [
       "plot without title"
      ]
     },
     "metadata": {},
     "output_type": "display_data"
    }
   ],
   "source": [
    "comparison.cloud(plot.t2, scale = c(3, 0.01), colors= useset, max.words\n",
    " = 150)"
   ]
  },
  {
   "cell_type": "code",
   "execution_count": null,
   "metadata": {},
   "outputs": [],
   "source": [
    "Difficult to extract topics visually. Possible topics are:-\n",
    "Topic 2 - rally/protest"
   ]
  },
  {
   "cell_type": "markdown",
   "metadata": {},
   "source": [
    "### Document sentiments Bigrams and SVD"
   ]
  },
  {
   "cell_type": "code",
   "execution_count": null,
   "metadata": {},
   "outputs": [],
   "source": [
    "### Extract document right metrix (topic-document \"distributions\")"
   ]
  },
  {
   "cell_type": "code",
   "execution_count": 261,
   "metadata": {},
   "outputs": [],
   "source": [
    "svd.docs.bg <- broom::tidy_irlba(svd.k.bg, matrix = \"u\")"
   ]
  },
  {
   "cell_type": "code",
   "execution_count": 262,
   "metadata": {},
   "outputs": [
    {
     "data": {
      "text/html": [
       "288421"
      ],
      "text/latex": [
       "288421"
      ],
      "text/markdown": [
       "288421"
      ],
      "text/plain": [
       "[1] 288421"
      ]
     },
     "metadata": {},
     "output_type": "display_data"
    }
   ],
   "source": [
    "ncol(bigrams.tdm.sp)"
   ]
  },
  {
   "cell_type": "code",
   "execution_count": 265,
   "metadata": {},
   "outputs": [],
   "source": [
    "docs <- data.frame(docs = bigrams.tdm.svd$dimnames$Docs, \n",
    "                    id = seq(1, length(bigrams.tdm.svd$dimnames$Docs)))"
   ]
  },
  {
   "cell_type": "code",
   "execution_count": 266,
   "metadata": {},
   "outputs": [],
   "source": [
    "docs <- docs %>% inner_join(svd.docs.bg, by = c(\"id\" = \"row\"))"
   ]
  },
  {
   "cell_type": "code",
   "execution_count": 1346,
   "metadata": {
    "collapsed": true
   },
   "outputs": [
    {
     "data": {
      "text/html": [
       "<table>\n",
       "<thead><tr><th scope=col>docs</th><th scope=col>id</th></tr></thead>\n",
       "<tbody>\n",
       "\t<tr><td>text1     </td><td>1         </td></tr>\n",
       "\t<tr><td>text1396  </td><td>2         </td></tr>\n",
       "\t<tr><td>text1407  </td><td>3         </td></tr>\n",
       "\t<tr><td>text25509 </td><td>4         </td></tr>\n",
       "\t<tr><td>text53262 </td><td>5         </td></tr>\n",
       "\t<tr><td>text172615</td><td>6         </td></tr>\n",
       "</tbody>\n",
       "</table>\n"
      ],
      "text/latex": [
       "\\begin{tabular}{r|ll}\n",
       " docs & id\\\\\n",
       "\\hline\n",
       "\t text1      & 1         \\\\\n",
       "\t text1396   & 2         \\\\\n",
       "\t text1407   & 3         \\\\\n",
       "\t text25509  & 4         \\\\\n",
       "\t text53262  & 5         \\\\\n",
       "\t text172615 & 6         \\\\\n",
       "\\end{tabular}\n"
      ],
      "text/markdown": [
       "\n",
       "docs | id | \n",
       "|---|---|---|---|---|---|\n",
       "| text1      | 1          | \n",
       "| text1396   | 2          | \n",
       "| text1407   | 3          | \n",
       "| text25509  | 4          | \n",
       "| text53262  | 5          | \n",
       "| text172615 | 6          | \n",
       "\n",
       "\n"
      ],
      "text/plain": [
       "  docs       id\n",
       "1 text1      1 \n",
       "2 text1396   2 \n",
       "3 text1407   3 \n",
       "4 text25509  4 \n",
       "5 text53262  5 \n",
       "6 text172615 6 "
      ]
     },
     "metadata": {},
     "output_type": "display_data"
    }
   ],
   "source": [
    "head(docs)"
   ]
  },
  {
   "cell_type": "code",
   "execution_count": 267,
   "metadata": {
    "collapsed": true
   },
   "outputs": [
    {
     "data": {
      "text/plain": [
       "$`1`\n",
       "    Min.  1st Qu.   Median     Mean  3rd Qu.     Max. \n",
       "0.00e+00 0.00e+00 0.00e+00 1.29e-05 0.00e+00 6.14e-01 \n",
       "\n",
       "$`2`\n",
       "      Min.    1st Qu.     Median       Mean    3rd Qu.       Max. \n",
       "-3.028e-01 -2.000e-08  0.000e+00 -2.620e-06  0.000e+00  1.083e-05 \n",
       "\n",
       "$`3`\n",
       "      Min.    1st Qu.     Median       Mean    3rd Qu.       Max. \n",
       "-4.055e-02 -2.000e-08  0.000e+00 -1.230e-06  0.000e+00  2.624e-04 \n",
       "\n",
       "$`4`\n",
       "      Min.    1st Qu.     Median       Mean    3rd Qu.       Max. \n",
       "-0.0000912  0.0000000  0.0000000  0.0000113  0.0000000  0.4706564 \n",
       "\n",
       "$`5`\n",
       "      Min.    1st Qu.     Median       Mean    3rd Qu.       Max. \n",
       "-0.4104584  0.0000000  0.0000000 -0.0000128  0.0000000  0.0001457 \n"
      ]
     },
     "metadata": {},
     "output_type": "display_data"
    }
   ],
   "source": [
    "tapply(docs$value, docs$PC, summary)"
   ]
  },
  {
   "cell_type": "code",
   "execution_count": null,
   "metadata": {},
   "outputs": [],
   "source": [
    "### Plot document distribution - top 1000 documents per topic"
   ]
  },
  {
   "cell_type": "code",
   "execution_count": 279,
   "metadata": {},
   "outputs": [],
   "source": [
    "docs.plot <- docs %>% dplyr::rename(\"topic\" = \"PC\") %>%\n",
    "            mutate(topic = as.character(topic))"
   ]
  },
  {
   "cell_type": "code",
   "execution_count": 281,
   "metadata": {},
   "outputs": [],
   "source": [
    "docs.plot.1000 <- docs %>% dplyr::select(everything()) %>%\n",
    "                            dplyr::rename(\"topic\" = \"PC\") %>%\n",
    "                            group_by(topic) %>%\n",
    "                             arrange(desc(value)) %>%\n",
    "                                slice(1:1000) %>%\n",
    "                            ungroup() %>%\n",
    "                            mutate(topic = as.character(topic)) %>%\n",
    "                            as.data.frame()"
   ]
  },
  {
   "cell_type": "code",
   "execution_count": 285,
   "metadata": {},
   "outputs": [],
   "source": [
    "plot.docs.svd <- \n",
    "ggplot(aes(x = value), data = docs.plot) +\n",
    "geom_density(aes(color = topic, fill = topic)) +\n",
    "labs(#title = \"Topics assigned to documents has a narrow probability\\n distribution\", \n",
    "    x = \"Left matrix components (topics assgined to documents)\", y = \"Count\") +\n",
    "theme(axis.text.x=element_text(angle=90)) +\n",
    "facet_wrap(~topic, ncol = 5)"
   ]
  },
  {
   "cell_type": "code",
   "execution_count": 286,
   "metadata": {},
   "outputs": [
    {
     "data": {},
     "metadata": {},
     "output_type": "display_data"
    },
    {
     "data": {
      "image/png": "[encoded data removed]",
      "text/plain": [
       "plot without title"
      ]
     },
     "metadata": {},
     "output_type": "display_data"
    }
   ],
   "source": [
    "plot_grid(plot.terms.svd, plot.docs.svd, ncol = 1, \n",
    "          labels = c('C', 'D'),\n",
    "          align = \"v\", axis = \"l\")"
   ]
  },
  {
   "cell_type": "code",
   "execution_count": 1245,
   "metadata": {
    "collapsed": true
   },
   "outputs": [
    {
     "ename": "ERROR",
     "evalue": "Error in summary.factor(X[[i]], ...): object 'value' not found\n",
     "output_type": "error",
     "traceback": [
      "Error in summary.factor(X[[i]], ...): object 'value' not found\nTraceback:\n",
      "1. docs %>% group_by(PC) %>% summary(value)",
      "2. withVisible(eval(quote(`_fseq`(`_lhs`)), env, env))",
      "3. eval(quote(`_fseq`(`_lhs`)), env, env)",
      "4. eval(quote(`_fseq`(`_lhs`)), env, env)",
      "5. `_fseq`(`_lhs`)",
      "6. freduce(value, `_function_list`)",
      "7. withVisible(function_list[[k]](value))",
      "8. function_list[[k]](value)",
      "9. summary(., value)",
      "10. summary(., value)",
      "11. summary.data.frame(., value)",
      "12. lapply(X = as.list(object), FUN = summary, maxsum = maxsum, digits = 12L, \n  .     ...)",
      "13. FUN(X[[i]], ...)",
      "14. summary.factor(X[[i]], ...)"
     ]
    }
   ],
   "source": [
    "Topics assigned to documents has a narrow probability\\n distribution arour \"0\". \n",
    "This partly due to the nature of SVD which can return values of the order of 1e-10 on \n",
    "average."
   ]
  },
  {
   "cell_type": "code",
   "execution_count": 1375,
   "metadata": {
    "scrolled": true
   },
   "outputs": [],
   "source": [
    "docs.svd.bin$value <- ifelse(docs.svd.bin$value > 0, 1, 0)"
   ]
  },
  {
   "cell_type": "markdown",
   "metadata": {},
   "source": [
    "#### Recreate document text used in LDA and SVD topic models"
   ]
  },
  {
   "cell_type": "code",
   "execution_count": 287,
   "metadata": {},
   "outputs": [],
   "source": [
    "doc.names.tokens <- names(tokens)"
   ]
  },
  {
   "cell_type": "code",
   "execution_count": 1356,
   "metadata": {},
   "outputs": [
    {
     "data": {
      "text/html": [
       "294928"
      ],
      "text/latex": [
       "294928"
      ],
      "text/markdown": [
       "294928"
      ],
      "text/plain": [
       "[1] 294928"
      ]
     },
     "metadata": {},
     "output_type": "display_data"
    }
   ],
   "source": [
    "length(doc.names.tokens)"
   ]
  },
  {
   "cell_type": "code",
   "execution_count": 288,
   "metadata": {},
   "outputs": [],
   "source": [
    "bigrams.docs <- #as.data.frame(unlist(\n",
    "    lapply(tokens, str_c, collapse = \" \")#))"
   ]
  },
  {
   "cell_type": "code",
   "execution_count": null,
   "metadata": {},
   "outputs": [],
   "source": []
  },
  {
   "cell_type": "code",
   "execution_count": 166,
   "metadata": {},
   "outputs": [],
   "source": [
    "bigrams.docs.text <- as.data.frame(cbind(doc.names.tokens, bigrams.docs))"
   ]
  },
  {
   "cell_type": "code",
   "execution_count": 167,
   "metadata": {},
   "outputs": [],
   "source": [
    "bigrams.docs.text$bigrams.docs  <- as.character(bigrams.docs.text$bigrams.docs)"
   ]
  },
  {
   "cell_type": "code",
   "execution_count": 1392,
   "metadata": {},
   "outputs": [
    {
     "name": "stdout",
     "output_type": "stream",
     "text": [
      "'data.frame':\t294928 obs. of  2 variables:\n",
      " $ doc.names.tokens: chr  \"text1\" \"text2\" \"text3\" \"text4\" ...\n",
      " $ bigrams.docs    : chr  \"black teenage child stop refer year kill child\" \"please tune today kill young black male\" \"sick tired police kill unarmed people\" \"well\" ...\n"
     ]
    }
   ],
   "source": [
    "str(bigrams.docs.text)"
   ]
  },
  {
   "cell_type": "code",
   "execution_count": null,
   "metadata": {},
   "outputs": [],
   "source": [
    "### Extract sentiment for text in the corpus"
   ]
  },
  {
   "cell_type": "code",
   "execution_count": 168,
   "metadata": {},
   "outputs": [],
   "source": [
    "sent.unq.text <- sentiment.pos[c(\"textnum\", \"positive\", \n",
    "                                            \"negative\", \"neutral\", \"sentiment\", \"labels\", \n",
    "                                              \"full_text_low_nostop\", \"full_text_low\")] #%>%\n",
    "                                        #    distinct()\n",
    "sent.unq.text$full_text_low <- trimws(sent.unq.text$full_text_low, \"both\")"
   ]
  },
  {
   "cell_type": "code",
   "execution_count": 169,
   "metadata": {},
   "outputs": [],
   "source": [
    "doc.text_mod <- doc.udp.lem.text_mod[c(\"textnum\", \"full_text_low\", \"text_mod.clean\",\n",
    "                                       \"text\")] #%>% distinct()"
   ]
  },
  {
   "cell_type": "code",
   "execution_count": 1483,
   "metadata": {
    "collapsed": true
   },
   "outputs": [
    {
     "name": "stdout",
     "output_type": "stream",
     "text": [
      "'data.frame':\t930682 obs. of  4 variables:\n",
      " $ textnum       : num  1110027 3848804 3356758 1350898 2232347 ...\n",
      " $ full_text_low : chr  \" is over  aa and they have a bo conners \" \"has any aa celebrities spoken up and out about i know j cole has but who else \" \" aa leaders arent focusing on the disparaging facts between protesters narrative and their own  expecting ppl to follow \" \" aa a here are photos of the saint louis county cop who assaulted me yesterday http a \" ...\n",
      " $ text_mod.clean: chr  \"conner\" \"celebrity speak know cole else\" \"leader arent focus disparage fact protester narrative expect follow\" \"photo saint tlouis county assault yesterday http\" ...\n",
      " $ text          : chr  \"aa bo conner\" \"aa celebrity speak know j cole else\" \"aa leader arent focus disparage fact protester narrative expect ppl follow\" \"aa photo saint tlouis county cop assault yesterday http\" ...\n"
     ]
    }
   ],
   "source": [
    "str(doc.text_mod)"
   ]
  },
  {
   "cell_type": "code",
   "execution_count": 170,
   "metadata": {},
   "outputs": [],
   "source": [
    "sent.unq.text <- sent.unq.text %>% inner_join(doc.text_mod, by = c(\"textnum\")) %>% \n",
    "                        dplyr::select(-full_text_low.y) %>%\n",
    "                        dplyr::rename(\"full_text_low\" = \"full_text_low.x\")"
   ]
  },
  {
   "cell_type": "code",
   "execution_count": 171,
   "metadata": {},
   "outputs": [],
   "source": [
    "sent.unq.text2 <- sent.unq.text %>% # distinct(text_mod.clean, sentiment) %>% \n",
    "                                group_by(text_mod.clean) %>%\n",
    "                                summarise(sentiment = mean(sentiment),\n",
    "                                         positive = first(positive),\n",
    "                                         negative = first(negative),\n",
    "                                         neutral = first(neutral), \n",
    "                                         labels = first(labels))"
   ]
  },
  {
   "cell_type": "code",
   "execution_count": 1558,
   "metadata": {
    "scrolled": false
   },
   "outputs": [
    {
     "data": {
      "text/html": [
       "294928"
      ],
      "text/latex": [
       "294928"
      ],
      "text/markdown": [
       "294928"
      ],
      "text/plain": [
       "[1] 294928"
      ]
     },
     "metadata": {},
     "output_type": "display_data"
    }
   ],
   "source": [
    "nrow((sent.unq.text2))"
   ]
  },
  {
   "cell_type": "code",
   "execution_count": 1543,
   "metadata": {},
   "outputs": [
    {
     "data": {
      "text/html": [
       "294928"
      ],
      "text/latex": [
       "294928"
      ],
      "text/markdown": [
       "294928"
      ],
      "text/plain": [
       "[1] 294928"
      ]
     },
     "metadata": {},
     "output_type": "display_data"
    }
   ],
   "source": [
    "nrow(bigrams.docs.text)"
   ]
  },
  {
   "cell_type": "code",
   "execution_count": 172,
   "metadata": {},
   "outputs": [],
   "source": [
    "bigrams.docs.text$doc.names.tokens <- unlist(bigrams.docs.text$doc.names.tokens)"
   ]
  },
  {
   "cell_type": "code",
   "execution_count": 173,
   "metadata": {},
   "outputs": [],
   "source": [
    "docs.lda.bin <- bigrams.doc"
   ]
  },
  {
   "cell_type": "code",
   "execution_count": 174,
   "metadata": {},
   "outputs": [],
   "source": [
    "doc.topics.lda <- docs.lda.bin %>% inner_join(bigrams.docs.text, \n",
    "                                          by = c(\"document\" = \n",
    "                                                 \"doc.names.tokens\")) %>%\n",
    "                                inner_join(sent.unq.text2, \n",
    "                                           by = c(\"bigrams.docs\" = \"text_mod.clean\"))"
   ]
  },
  {
   "cell_type": "code",
   "execution_count": 175,
   "metadata": {},
   "outputs": [],
   "source": [
    "doc.topics.lda.sent <- doc.topics.lda %>% mutate(topic.sent = gamma * sentiment)"
   ]
  },
  {
   "cell_type": "code",
   "execution_count": 176,
   "metadata": {},
   "outputs": [],
   "source": [
    "docs.topic.lda.sent.5 <- doc.topics.lda.sent %>% # dplyr::rename(\"topic\" = \"PC\") %>%\n",
    "                        group_by(topic) %>%\n",
    "                        summarise(total.topic.sent = sum(topic.sent),\n",
    "                                  avg.topic.sent = mean(topic.sent)\n",
    "                               #  per_pos.sent = sum(neutral)/nrow(.), \n",
    "                              #   no.docs = nrow(.)\n",
    "                                 ) %>%\n",
    "                        as.data.frame()"
   ]
  },
  {
   "cell_type": "code",
   "execution_count": 180,
   "metadata": {},
   "outputs": [
    {
     "data": {
      "text/html": [
       "<table>\n",
       "<thead><tr><th scope=col>topic</th><th scope=col>total.topic.sent</th><th scope=col>avg.topic.sent</th></tr></thead>\n",
       "<tbody>\n",
       "\t<tr><td>1           </td><td>213.6197    </td><td>0.0007406523</td></tr>\n",
       "\t<tr><td>2           </td><td>215.1152    </td><td>0.0007458374</td></tr>\n",
       "\t<tr><td>3           </td><td>213.4056    </td><td>0.0007399100</td></tr>\n",
       "\t<tr><td>4           </td><td>214.9221    </td><td>0.0007451679</td></tr>\n",
       "\t<tr><td>5           </td><td>211.9702    </td><td>0.0007349332</td></tr>\n",
       "</tbody>\n",
       "</table>\n"
      ],
      "text/latex": [
       "\\begin{tabular}{r|lll}\n",
       " topic & total.topic.sent & avg.topic.sent\\\\\n",
       "\\hline\n",
       "\t 1            & 213.6197     & 0.0007406523\\\\\n",
       "\t 2            & 215.1152     & 0.0007458374\\\\\n",
       "\t 3            & 213.4056     & 0.0007399100\\\\\n",
       "\t 4            & 214.9221     & 0.0007451679\\\\\n",
       "\t 5            & 211.9702     & 0.0007349332\\\\\n",
       "\\end{tabular}\n"
      ],
      "text/markdown": [
       "\n",
       "topic | total.topic.sent | avg.topic.sent | \n",
       "|---|---|---|---|---|\n",
       "| 1            | 213.6197     | 0.0007406523 | \n",
       "| 2            | 215.1152     | 0.0007458374 | \n",
       "| 3            | 213.4056     | 0.0007399100 | \n",
       "| 4            | 214.9221     | 0.0007451679 | \n",
       "| 5            | 211.9702     | 0.0007349332 | \n",
       "\n",
       "\n"
      ],
      "text/plain": [
       "  topic total.topic.sent avg.topic.sent\n",
       "1 1     213.6197         0.0007406523  \n",
       "2 2     215.1152         0.0007458374  \n",
       "3 3     213.4056         0.0007399100  \n",
       "4 4     214.9221         0.0007451679  \n",
       "5 5     211.9702         0.0007349332  "
      ]
     },
     "metadata": {},
     "output_type": "display_data"
    }
   ],
   "source": [
    "docs.topic.lda.sent.5"
   ]
  },
  {
   "cell_type": "code",
   "execution_count": 181,
   "metadata": {},
   "outputs": [],
   "source": [
    "docs.topic.lda.top20.sent.5 <- doc.topics.lda.sent %>% # dplyr::rename(\"topic\" = \"PC\") %>%\n",
    "                        group_by(topic) %>%\n",
    "                        arrange(topic, desc(gamma)) %>%\n",
    "                        slice(1:20) %>%\n",
    "                        summarise(total.topic.sent = sum(sentiment),\n",
    "                                  avg.topic.sent = mean(sentiment)\n",
    "                               #  per_pos.sent = sum(neutral)/nrow(.), \n",
    "                              #   no.docs = nrow(.)\n",
    "                                 ) %>%\n",
    "                        #dplyr::select(topic, gamma, sentiment) %>%\n",
    "                        as.data.frame()"
   ]
  },
  {
   "cell_type": "code",
   "execution_count": 182,
   "metadata": {},
   "outputs": [
    {
     "data": {
      "text/html": [
       "<table>\n",
       "<thead><tr><th scope=col>topic</th><th scope=col>total.topic.sent</th><th scope=col>avg.topic.sent</th></tr></thead>\n",
       "<tbody>\n",
       "\t<tr><td>1          </td><td>-1.6501092 </td><td>-0.08250546</td></tr>\n",
       "\t<tr><td>2          </td><td>-0.3474409 </td><td>-0.01737205</td></tr>\n",
       "\t<tr><td>3          </td><td>-1.7027680 </td><td>-0.08513840</td></tr>\n",
       "\t<tr><td>4          </td><td>-3.6229801 </td><td>-0.18114901</td></tr>\n",
       "\t<tr><td>5          </td><td>-3.7517115 </td><td>-0.18758558</td></tr>\n",
       "</tbody>\n",
       "</table>\n"
      ],
      "text/latex": [
       "\\begin{tabular}{r|lll}\n",
       " topic & total.topic.sent & avg.topic.sent\\\\\n",
       "\\hline\n",
       "\t 1           & -1.6501092  & -0.08250546\\\\\n",
       "\t 2           & -0.3474409  & -0.01737205\\\\\n",
       "\t 3           & -1.7027680  & -0.08513840\\\\\n",
       "\t 4           & -3.6229801  & -0.18114901\\\\\n",
       "\t 5           & -3.7517115  & -0.18758558\\\\\n",
       "\\end{tabular}\n"
      ],
      "text/markdown": [
       "\n",
       "topic | total.topic.sent | avg.topic.sent | \n",
       "|---|---|---|---|---|\n",
       "| 1           | -1.6501092  | -0.08250546 | \n",
       "| 2           | -0.3474409  | -0.01737205 | \n",
       "| 3           | -1.7027680  | -0.08513840 | \n",
       "| 4           | -3.6229801  | -0.18114901 | \n",
       "| 5           | -3.7517115  | -0.18758558 | \n",
       "\n",
       "\n"
      ],
      "text/plain": [
       "  topic total.topic.sent avg.topic.sent\n",
       "1 1     -1.6501092       -0.08250546   \n",
       "2 2     -0.3474409       -0.01737205   \n",
       "3 3     -1.7027680       -0.08513840   \n",
       "4 4     -3.6229801       -0.18114901   \n",
       "5 5     -3.7517115       -0.18758558   "
      ]
     },
     "metadata": {},
     "output_type": "display_data"
    }
   ],
   "source": [
    "docs.topic.lda.top20.sent.5"
   ]
  },
  {
   "cell_type": "markdown",
   "metadata": {},
   "source": [
    "#### SVD - Get measure of topic sentiment using topic-document classification "
   ]
  },
  {
   "cell_type": "code",
   "execution_count": null,
   "metadata": {},
   "outputs": [],
   "source": [
    "#### Assign document to topic = 1, if value is greater than zero, \n",
    "### otherwise 0"
   ]
  },
  {
   "cell_type": "code",
   "execution_count": 291,
   "metadata": {},
   "outputs": [],
   "source": [
    "docs.svd.bin$value <- ifelse(docs.svd.bin$value > 0, 1, 0)"
   ]
  },
  {
   "cell_type": "code",
   "execution_count": 292,
   "metadata": {},
   "outputs": [
    {
     "name": "stderr",
     "output_type": "stream",
     "text": [
      "Warning message:\n",
      "\"Column `docs`/`doc.names.tokens` joining factor and character vector, coercing into character vector\""
     ]
    }
   ],
   "source": [
    "doc.topics.svd <- docs.svd.bin %>% inner_join(bigrams.docs.text, \n",
    "                                          by = c(\"docs\" = \n",
    "                                                 \"doc.names.tokens\")) %>%\n",
    "                                inner_join(sent.unq.text2, \n",
    "                                           by = c(\"bigrams.docs\" = \"text_mod.clean\"))"
   ]
  },
  {
   "cell_type": "code",
   "execution_count": 293,
   "metadata": {},
   "outputs": [],
   "source": [
    "doc.topics.svd.sent <- doc.topics.svd %>% mutate(topic.sent = value * sentiment)"
   ]
  },
  {
   "cell_type": "code",
   "execution_count": null,
   "metadata": {},
   "outputs": [],
   "source": [
    "str(doc.topics.sent)"
   ]
  },
  {
   "cell_type": "code",
   "execution_count": null,
   "metadata": {},
   "outputs": [],
   "source": [
    "### Topic sentiment based on the entire corpus"
   ]
  },
  {
   "cell_type": "code",
   "execution_count": 294,
   "metadata": {},
   "outputs": [],
   "source": [
    "docs.topic.svd.sent.5 <- doc.topics.svd.sent %>% dplyr::rename(\"topic\" = \"PC\") %>%\n",
    "                        group_by(topic) %>%\n",
    "                        summarise(total.topic.sent = sum(topic.sent),\n",
    "                                  avg.topic.sent = mean(topic.sent)\n",
    "                                 ) %>%\n",
    "                        as.data.frame()"
   ]
  },
  {
   "cell_type": "code",
   "execution_count": 295,
   "metadata": {},
   "outputs": [
    {
     "data": {
      "text/html": [
       "<table>\n",
       "<thead><tr><th scope=col>topic</th><th scope=col>total.topic.sent</th><th scope=col>avg.topic.sent</th></tr></thead>\n",
       "<tbody>\n",
       "\t<tr><td>1           </td><td>1010.47059  </td><td>3.503457e-03</td></tr>\n",
       "\t<tr><td>2           </td><td>  18.48986  </td><td>6.410721e-05</td></tr>\n",
       "\t<tr><td>3           </td><td>  29.41782  </td><td>1.019961e-04</td></tr>\n",
       "\t<tr><td>4           </td><td>1063.76431  </td><td>3.688235e-03</td></tr>\n",
       "\t<tr><td>5           </td><td>  26.40342  </td><td>9.154472e-05</td></tr>\n",
       "</tbody>\n",
       "</table>\n"
      ],
      "text/latex": [
       "\\begin{tabular}{r|lll}\n",
       " topic & total.topic.sent & avg.topic.sent\\\\\n",
       "\\hline\n",
       "\t 1            & 1010.47059   & 3.503457e-03\\\\\n",
       "\t 2            &   18.48986   & 6.410721e-05\\\\\n",
       "\t 3            &   29.41782   & 1.019961e-04\\\\\n",
       "\t 4            & 1063.76431   & 3.688235e-03\\\\\n",
       "\t 5            &   26.40342   & 9.154472e-05\\\\\n",
       "\\end{tabular}\n"
      ],
      "text/markdown": [
       "\n",
       "topic | total.topic.sent | avg.topic.sent | \n",
       "|---|---|---|---|---|\n",
       "| 1            | 1010.47059   | 3.503457e-03 | \n",
       "| 2            |   18.48986   | 6.410721e-05 | \n",
       "| 3            |   29.41782   | 1.019961e-04 | \n",
       "| 4            | 1063.76431   | 3.688235e-03 | \n",
       "| 5            |   26.40342   | 9.154472e-05 | \n",
       "\n",
       "\n"
      ],
      "text/plain": [
       "  topic total.topic.sent avg.topic.sent\n",
       "1 1     1010.47059       3.503457e-03  \n",
       "2 2       18.48986       6.410721e-05  \n",
       "3 3       29.41782       1.019961e-04  \n",
       "4 4     1063.76431       3.688235e-03  \n",
       "5 5       26.40342       9.154472e-05  "
      ]
     },
     "metadata": {},
     "output_type": "display_data"
    }
   ],
   "source": [
    "docs.topic.svd.sent.5"
   ]
  },
  {
   "cell_type": "code",
   "execution_count": null,
   "metadata": {},
   "outputs": [],
   "source": [
    "### Topic sentiment based on top 20 documents in each topic"
   ]
  },
  {
   "cell_type": "code",
   "execution_count": 296,
   "metadata": {},
   "outputs": [
    {
     "name": "stderr",
     "output_type": "stream",
     "text": [
      "Warning message:\n",
      "\"Column `docs`/`doc.names.tokens` joining factor and character vector, coercing into character vector\""
     ]
    }
   ],
   "source": [
    "doc.topics.top20.svd <- docs %>% dplyr::rename(\"topic\" = \"PC\") %>% \n",
    "                            group_by(topic) %>%\n",
    "                            arrange(topic, desc(value)) %>%\n",
    "                            slice(1:20) %>%\n",
    "                            inner_join(bigrams.docs.text, \n",
    "                                          by = c(\"docs\" = \n",
    "                                                 \"doc.names.tokens\")) %>%\n",
    "                                inner_join(sent.unq.text2, \n",
    "                                           by = c(\"bigrams.docs\" = \"text_mod.clean\"))"
   ]
  },
  {
   "cell_type": "code",
   "execution_count": 297,
   "metadata": {},
   "outputs": [],
   "source": [
    "docs.topic.top20.svd.sent.5 <- doc.topics.top20.svd %>%\n",
    "                        group_by(topic) %>%\n",
    "                        summarise(total.topic.sent = sum(sentiment),\n",
    "                                  avg.topic.sent = mean(sentiment)\n",
    "                                 ) %>%\n",
    "                        as.data.frame()"
   ]
  },
  {
   "cell_type": "code",
   "execution_count": 298,
   "metadata": {},
   "outputs": [
    {
     "data": {
      "text/html": [
       "<table>\n",
       "<thead><tr><th scope=col>topic</th><th scope=col>total.topic.sent</th><th scope=col>avg.topic.sent</th></tr></thead>\n",
       "<tbody>\n",
       "\t<tr><td>1           </td><td> 0.58107953 </td><td> 0.029053977</td></tr>\n",
       "\t<tr><td>2           </td><td>-0.04175203 </td><td>-0.002087601</td></tr>\n",
       "\t<tr><td>3           </td><td>-0.32529035 </td><td>-0.016264518</td></tr>\n",
       "\t<tr><td>4           </td><td>-2.86921284 </td><td>-0.143460642</td></tr>\n",
       "\t<tr><td>5           </td><td> 0.91877618 </td><td> 0.045938809</td></tr>\n",
       "</tbody>\n",
       "</table>\n"
      ],
      "text/latex": [
       "\\begin{tabular}{r|lll}\n",
       " topic & total.topic.sent & avg.topic.sent\\\\\n",
       "\\hline\n",
       "\t 1            &  0.58107953  &  0.029053977\\\\\n",
       "\t 2            & -0.04175203  & -0.002087601\\\\\n",
       "\t 3            & -0.32529035  & -0.016264518\\\\\n",
       "\t 4            & -2.86921284  & -0.143460642\\\\\n",
       "\t 5            &  0.91877618  &  0.045938809\\\\\n",
       "\\end{tabular}\n"
      ],
      "text/markdown": [
       "\n",
       "topic | total.topic.sent | avg.topic.sent | \n",
       "|---|---|---|---|---|\n",
       "| 1            |  0.58107953  |  0.029053977 | \n",
       "| 2            | -0.04175203  | -0.002087601 | \n",
       "| 3            | -0.32529035  | -0.016264518 | \n",
       "| 4            | -2.86921284  | -0.143460642 | \n",
       "| 5            |  0.91877618  |  0.045938809 | \n",
       "\n",
       "\n"
      ],
      "text/plain": [
       "  topic total.topic.sent avg.topic.sent\n",
       "1 1      0.58107953       0.029053977  \n",
       "2 2     -0.04175203      -0.002087601  \n",
       "3 3     -0.32529035      -0.016264518  \n",
       "4 4     -2.86921284      -0.143460642  \n",
       "5 5      0.91877618       0.045938809  "
      ]
     },
     "metadata": {},
     "output_type": "display_data"
    }
   ],
   "source": [
    "docs.topic.top20.svd.sent.5"
   ]
  },
  {
   "cell_type": "markdown",
   "metadata": {},
   "source": [
    "**LDA**\n",
    "\n",
    "Here none of the topics have an overall positive sentiment based on the top 20 terms. This differs from the project writeup due to random seeds and/or Jupyter notebook crashing. \n",
    "The writeup returns one topic with and overall positive sentiment for the top 20 terms.However the overall concept remains of extracting positive sentiment - at locl, regional and greographic levels can sometimes be  a challenge.\n",
    "\n",
    "**SVD**\n",
    "\n",
    "Two topics have an overall positive sentiment for the top 20 terms - topic 1 and 5. The same challenges with reproducing exact results in th eproject document occurred."
   ]
  },
  {
   "cell_type": "code",
   "execution_count": null,
   "metadata": {},
   "outputs": [],
   "source": [
    "Some of these results I was not able to reproduce due to some random element. \n",
    "It is seen everytime I plot a wordcloud with or without rerunning LDA on all of the data.\n",
    "See. \"Run LDA on all of the data\" and LDA and SVD top 20 terms per topic wordclouds."
   ]
  }
 ],
 "metadata": {
  "kernelspec": {
   "display_name": "R",
   "language": "R",
   "name": "ir"
  },
  "language_info": {
   "codemirror_mode": "r",
   "file_extension": ".r",
   "mimetype": "text/x-r-source",
   "name": "R",
   "pygments_lexer": "r",
   "version": "3.5.1"
  }
 },
 "nbformat": 4,
 "nbformat_minor": 2
}
